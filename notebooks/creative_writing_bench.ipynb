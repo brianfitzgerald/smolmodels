{
 "cells": [
  {
   "cell_type": "code",
   "execution_count": null,
   "metadata": {},
   "outputs": [],
   "source": [
    "import os\n",
    "import sys\n",
    "os.environ[\"HF_HUB_ENABLE_HF_TRANSFER\"] = \"1\"\n",
    "sys.path.append(\"..\")\n",
    "from dotenv import load_dotenv\n",
    "load_dotenv(\"../.env\")\n",
    "%load_ext autoreload\n",
    "%autoreload 2\n",
    "\n",
    "from synthetic_data.tasks.writing import BacktranslateBestOfN"
   ]
  },
  {
   "cell_type": "code",
   "execution_count": 35,
   "metadata": {},
   "outputs": [
    {
     "name": "stderr",
     "output_type": "stream",
     "text": [
      "\u001b[32m2025-03-30 17:29:10.297\u001b[0m | \u001b[1mINFO    \u001b[0m | \u001b[36msynthetic_data.tasks.writing\u001b[0m:\u001b[36m_generate_and_score\u001b[0m:\u001b[36m405\u001b[0m - \u001b[1mGenerating 2 completions with gemini-2.0-flash\u001b[0m\n",
      "\u001b[32m2025-03-30 17:29:10.298\u001b[0m | \u001b[1mINFO    \u001b[0m | \u001b[36msynthetic_data.tasks.writing\u001b[0m:\u001b[36m_generate_and_score\u001b[0m:\u001b[36m405\u001b[0m - \u001b[1mGenerating 2 completions with gpt-4o-mini\u001b[0m\n",
      "\u001b[32m2025-03-30 17:29:14.525\u001b[0m | \u001b[1mINFO    \u001b[0m | \u001b[36msynthetic_data.tasks.writing\u001b[0m:\u001b[36m_generate_and_score\u001b[0m:\u001b[36m409\u001b[0m - \u001b[1mGenerated 2 completions with gemini-2.0-flash\u001b[0m\n",
      "\u001b[32m2025-03-30 17:29:26.305\u001b[0m | \u001b[1mINFO    \u001b[0m | \u001b[36msynthetic_data.tasks.writing\u001b[0m:\u001b[36m_generate_and_score\u001b[0m:\u001b[36m409\u001b[0m - \u001b[1mGenerated 2 completions with gpt-4o-mini\u001b[0m\n"
     ]
    }
   ],
   "source": [
    "from synthetic_data.generation import get_generation_wrapper\n",
    "from synthetic_data.utils import dictl\n",
    "task = BacktranslateBestOfN()\n",
    "task.dataset_root_path = \"../dataset_files\"\n",
    "dataset = task.load_dataset()\n",
    "first_batch = next(dataset.iter(batch_size=2))\n",
    "generation_wrapper = get_generation_wrapper(\"gpt-4o-mini\")\n",
    "out = await task.generate(generation_wrapper, dictl(first_batch))"
   ]
  },
  {
   "cell_type": "code",
   "execution_count": 36,
   "metadata": {},
   "outputs": [
    {
     "data": {
      "text/plain": [
       "[{'scores': {'Adherence to Instructions': 20.0,\n",
       "   'Believable Character Actions': 16.0,\n",
       "   'Nuanced Characters': 14.0,\n",
       "   'Consistent Voice/Tone of Writing': 19.0,\n",
       "   'Imagery and Descriptive Quality': 18.0,\n",
       "   'Elegant Prose': 15.0,\n",
       "   'Emotionally Engaging': 17.0,\n",
       "   'Emotionally Complex': 14.0,\n",
       "   'Coherent': 17.0,\n",
       "   'Meandering': 8.0,\n",
       "   'Weak Dialogue': 7.0,\n",
       "   \"Tell-Don't-Show\": 8.0,\n",
       "   'Unsurprising or Uncreative': 9.0,\n",
       "   'Amateurish': 6.0,\n",
       "   'Purple Prose': 5.0,\n",
       "   'Overwrought': 7.0,\n",
       "   'Incongruent Ending Positivity': 10.0,\n",
       "   'Unearned Transformations': 9.0,\n",
       "   'Well-earned Lightness or Darkness': 18.0,\n",
       "   'Sentences Flow Naturally': 16.0,\n",
       "   'Overall Reader Engagement': 18.0,\n",
       "   'Overall Impression': 17.0},\n",
       "  'completion': \"This sucks.\\n\\nOkay, lemme try and explain this without drooling too much. This rotgut... something-something whiskey? Got it from a dead guy. Appropriate, right? I'm perched up here, on what used to be, I dunno, maybe an office building? Now it's just another goddamn pile of rubble scraping the sky. The view? More rubble. And below... oh boy, below is just a buffet for the rotters. They're having a field day down there. Guess business is always booming in the apocalypse.\\n\\nThis whole thing... it's all just *gone*. Remember families? Careers? Like, things that mattered? *Pfft*. Now it's just…scrounge, survive, repeat. What's the point, right? What's the freaking *point*? We used to worry about taxes and parking tickets and... and now we're worried about getting our faces chewed off. Some upgrade, huh?\\n\\nLast week... last week I saw…doesn't matter. Just…someone I knew. Someone who *used* to be someone I knew. Now he's just fertilizer for the undead hordes. And nobody gives a damn. Nobody is coming to save us. We are *so* screwed.\\n\\nIt smells like… like wet concrete, gasoline, and death. Real classy perfume, if you ask me. The wind's howling through the broken windows, whistling a tune that sounds suspiciously like a dirge. You can almost taste the grit in the air, feel it grinding against your teeth. Makes you wonder what kind of germs you're breathing in. Probably the kind that turns you into one of *them*.\\n\\nDown below, the zombies shamble and moan. They're like an army of the eternally bored. Always hungry. Always moaning. What a life. What a goddamn afterlife.\\n\\nMaybe… maybe I should just…lean forward. Just a little. One good push and… *splat*. No more rotgut. No more rotters. No more… everything. A nice, permanent off switch. Yeah. No. Maybe. Shut up, brain. You're drunk.\\n\\n“Hey!” I yell, my voice cracking in the wind. “Eat this, you dead bastards!” I chuck an empty bottle off the edge. It shatters on the pavement below. A few of the zombies turn their rotting heads. Perfect. Maybe I will just jump. But not now. Not without a show. Let's see if I can pick off a few of those walking corpses first, before I take my final bow. One last, completely pointless act of defiance. That's what I'm talking about! Get ready, you mindless sacks of rotting flesh. This is going to be *fun*. I have a whole lotta rotgut and a whole lotta rage to burn. This’ll be fun. Right?\\n\",\n",
       "  'instruction': '\\nYou are an expert writer. Your task is to take the following tags and create a detailed piece of writing.\\n- Write in a casual and colloquial style, similar to a personal journal entry from someone who is drunk and disillusioned. The tone should be a mix of dark humor, cynicism, and melancholy. Aim for a world-weary, pessimistic voice with moments of sarcastic levity. The overall atmosphere should feel bleak and hopeless, but punctuated with absurd or darkly comical observations. Avoid overly formal language or complex sentence structures.\\n- Begin with a statement about how terrible life is in the current dystopian setting. Introduce a first-person narrator who is intoxicated (using descriptive language about the substance they are using). The character should be situated in a ruined location, reflecting on the loss and despair surrounding them. Mention a specific event or situation that contributes to their hopelessness. Include a moment where the character contemplates a risky or self-destructive action, such as jumping off a building, engaging in a dangerous activity, or confronting a perceived threat. The main themes to explore are survival, loss, despair, and the fleeting search for meaning in a desolate world.\\n- Start with a short, blunt sentence to set the tone (e.g., \"This sucks.\"). Follow with a description of the character\\'s current state (intoxicated) and location (ruined building). Use a mix of short, declarative sentences and longer, rambling sentences to reflect the character\\'s inebriated state of mind. Include pauses, interruptions, and rhetorical questions to mimic the disorganized thoughts of a drunk person. End with the character contemplating a risky or self-destructive action. The paragraph should build towards a feeling of impending doom or a moment of reckless abandon.\\n- Though no explicit interaction is required, have the character respond verbally or physically to the threats suggested by the environment, such as the undead creatures below. Make sure to make it clear that there are no survivors or help coming.\\n- Describe the ruined location in detail, using sensory imagery to evoke the desolation of the environment. Focus on the sights, sounds, smells, and textures of the post-apocalyptic world. Mention specific details that highlight the decay and destruction, such as crumbling buildings, overgrown vegetation, or lingering signs of past inhabitants. The setting should mirror the character\\'s internal state of despair and hopelessness.\\n    ',\n",
       "  'model_id': 'gemini-2.0-flash',\n",
       "  'prompt_id': 0},\n",
       " {'scores': {'Adherence to Instructions': 19.0,\n",
       "   'Believable Character Actions': 17.0,\n",
       "   'Nuanced Characters': 16.0,\n",
       "   'Consistent Voice/Tone of Writing': 20.0,\n",
       "   'Imagery and Descriptive Quality': 17.0,\n",
       "   'Elegant Prose': 16.0,\n",
       "   'Emotionally Engaging': 15.0,\n",
       "   'Emotionally Complex': 14.0,\n",
       "   'Coherent': 20.0,\n",
       "   'Meandering': 2.0,\n",
       "   'Weak Dialogue': 3.0,\n",
       "   \"Tell-Don't-Show\": 5.0,\n",
       "   'Unsurprising or Uncreative': 7.0,\n",
       "   'Amateurish': 4.0,\n",
       "   'Purple Prose': 2.0,\n",
       "   'Overwrought': 3.0,\n",
       "   'Incongruent Ending Positivity': 2.0,\n",
       "   'Unearned Transformations': 1.0,\n",
       "   'Well-earned Lightness or Darkness': 18.0,\n",
       "   'Sentences Flow Naturally': 19.0,\n",
       "   'Overall Reader Engagement': 17.0,\n",
       "   'Overall Impression': 17.0},\n",
       "  'completion': 'Okay, so picture this: Me, Jax, and the gaping maw of what used to be a gas station just outside of New Vegas. Prime real estate, am I right? We were \"borrowing\" some fuel. Well, Jax was fiddling with the rusted pump, muttering sweet nothings to the stubborn machine, and I was, uh, \"inspecting\" the magazine rack. You know, making sure no… *ahem*… inappropriate literature was left for the wasteland kiddos. Turns out, *Guns & Ammo* never goes out of style, even when society crumbles.\\n\\n\"Seriously, Riley, could you be any slower?\" Jax called, not even looking up. “We\\'re not exactly on a picnic here.\"\\n\\n\"Hey,\" I shot back, flipping through a well-preserved issue on reloading techniques. \"Knowledge is power, babe. Besides, someone\\'s gotta keep an eye out for…you know.” I trailed off, waggling my eyebrows suggestively. We both knew exactly what kind of \"company\" infested these parts. Let\\'s just say they weren\\'t exactly the chatty type, unless \"brains\" counts as a conversational topic.\\n\\n“Yeah, yeah, keep telling yourself that,\" Jax grunted, giving the pump a particularly violent kick. \"And keep your eyes peeled. My ass is getting tired of saving yours.\"\\n\\nWhich, okay, fair point. He’d pulled my bacon out of the fire more times than I cared to admit. Usually involving mutated squirrels and my unfortunate tendency to trip over rubble. What can I say? I\\'m coordinated... just not in *this* world. \\n\\nSuddenly, the air *reeked* of something awful - like week-old gym socks soaked in gasoline. A hissing, gurgling sound erupted from the back of the station. Before I could even shout a warning, a gaggle of ghouls, clearly juiced up on *something* (probably that radioactive runoff everyone keeps dumping in Lake Mead), came bursting through the shattered windows. Not your garden-variety shuffling corpses, mind you. These guys were *sprinting*. One of them had, like, three arms. Three! Talk about overachievers. “Well, shit,” I muttered, dropping my newfound reading material. Looks like my day was about to get a whole lot more interesting. And messy. Because, let\\'s be honest, ghouls + high-velocity lead = lots and lots of goo. Jax just swore, yanked the fuel hose free, and pointed the nozzle right at the oncoming horde. \"Time for a shower, you freaks!\" he yelled, a manic grin spreading across his face. Oh yeah, things were about to get biblical. Literally. Because I think I saw one with *wings*...\\n',\n",
       "  'instruction': '\\nYou are an expert writer. Your task is to take the following tags and create a detailed piece of writing.\\n- Write in a casual, conversational style using first-person narration. The tone should be humorous and sarcastic, even flippant, despite the dangerous circumstances. Use slang and informal language liberally. Avoid overly formal descriptions or sentimental expressions. Maintain a \"matter-of-fact\" attitude, as if the protagonist is recounting an everyday event. Incorporate dark humor and irony to emphasize the absurdity of the situation.\\n- The paragraph should depict a post-apocalyptic scenario where the protagonist and a companion are engaged in a routine task (e.g., scavenging for fuel, clearing a building, scouting a location). They should be ambushed by a mutated enemy (e.g., zombies, raiders, genetically modified creatures) while distracted by a non-essential activity (e.g., flirting, arguing, resting). The ambush should be sudden, violent, and chaotic. The characters should react with a mixture of fear, determination, and dark humor. The central themes should include the banality of evil, the struggle to maintain normalcy in a chaotic world, and the use of humor as a coping mechanism. The focus is on the present event unfolding, but with an occasional hint to their history.\\n- Start with a brief description of the task the characters are undertaking. Introduce the characters and their relationship through dialogue and actions. The ambush should occur suddenly and unexpectedly, disrupting the established routine. Use short, punchy sentences to describe the action and longer sentences to provide context or internal monologue. End the paragraph with a cliffhanger or a witty observation about the situation. Vary sentence length to create a dynamic rhythm.\\n- The characters should have a playful and bantering dynamic, suggesting a long-standing relationship. Their dialogue should be realistic and include witty remarks, sarcastic comments, and inside jokes. They should be capable and resourceful, but also make impulsive decisions or show moments of vulnerability. Their interactions should highlight both their competence and their flaws. Use dialogue to reveal their personalities and their shared history.\\n- Briefly describe the setting to create a sense of place. Focus on visual and auditory details that contribute to the atmosphere of decay and danger. Use strong verbs and descriptive adjectives to bring the scene to life. Mention specific landmarks or geographical features to ground the story in a believable location. Don\\'t over-describe the setting; let the action and dialogue carry the narrative.\\n    ',\n",
       "  'model_id': 'gemini-2.0-flash',\n",
       "  'prompt_id': 1},\n",
       " {'scores': {'Adherence to Instructions': 18.0,\n",
       "   'Believable Character Actions': 16.0,\n",
       "   'Nuanced Characters': 13.0,\n",
       "   'Consistent Voice/Tone of Writing': 17.0,\n",
       "   'Imagery and Descriptive Quality': 18.0,\n",
       "   'Elegant Prose': 15.0,\n",
       "   'Emotionally Engaging': 16.0,\n",
       "   'Emotionally Complex': 14.0,\n",
       "   'Coherent': 17.0,\n",
       "   'Meandering': 5.0,\n",
       "   'Weak Dialogue': 0.0,\n",
       "   \"Tell-Don't-Show\": 6.0,\n",
       "   'Unsurprising or Uncreative': 7.0,\n",
       "   'Amateurish': 6.0,\n",
       "   'Purple Prose': 3.0,\n",
       "   'Overwrought': 5.0,\n",
       "   'Incongruent Ending Positivity': 2.0,\n",
       "   'Unearned Transformations': 1.0,\n",
       "   'Well-earned Lightness or Darkness': 17.0,\n",
       "   'Sentences Flow Naturally': 16.0,\n",
       "   'Overall Reader Engagement': 17.0,\n",
       "   'Overall Impression': 16.0},\n",
       "  'completion': 'This sucks. \\n\\nI mean, really, really sucks. Like, I’m sitting here on the crumbling edge of what used to be a rooftop garden—or maybe it was just a glorified pile of dirt with some sad, half-dead plants. Who knows? I’m three sheets to the wind, courtesy of a bottle of something that’s probably more alcohol than liquid at this point. It’s warm and tastes like regret mixed with a hint of something that might have been a fruit once. I’m not picky anymore. The world’s gone to hell, and I’m just trying to drown my sorrows in whatever’s left of the good stuff. \\n\\nThe view from up here is a real treat, let me tell you. I can see the remnants of what used to be a bustling city, now just a graveyard of concrete and rust. Buildings stand like broken teeth, jagged and rotting, while vines creep up their sides like they’re trying to strangle the memories of what once was. The air smells like burnt rubber and despair, with a hint of something sweet that’s probably just the last of the flowers choking on ash. I can hear the wind howling through the wreckage, but it sounds more like a mournful wail than a breeze. And then there are the occasional shuffles below, the undead creatures that roam the streets like they own the place. I guess they do now. \\n\\nI’m not even sure how I got here. One minute I was at the bar, drowning in whiskey and bad decisions, and the next I’m up here, contemplating my life choices while teetering on the edge of a building that’s probably going to collapse any minute now. It’s like the universe is playing a cruel joke, and I’m the punchline. I should be scared, but honestly, I’m just tired. Tired of running, tired of hiding, tired of the constant gnawing feeling that this is all there is. \\n\\nI mean, what’s the point? I could jump. Just take a little leap of faith and see if I can fly, or at least make a dramatic exit. It’s not like anyone would care. There are no survivors left to mourn my passing, just a bunch of rotting corpses and a few shambling shadows that don’t even know what they’re doing. I could scream, but what’s the use? No one’s listening. \\n\\nI lean over the edge, the concrete crumbling beneath my fingers, and I can almost hear the whispers of the past—laughter, arguments, the sound of life before it all went to hell. It’s a cruel reminder, really. I take another swig from the bottle, feeling the warmth spread through me like a comforting blanket, and for a moment, I forget. I forget about the decay, the loss, the fact that I’m probably the last sane person left in this godforsaken place. \\n\\nBut then I look down, and there they are—those shambling figures, their eyes hollow, their skin hanging off them like a bad Halloween costume. They don’t even notice me. They’re too busy searching for something, anything, to fill the void. I can’t help but laugh, a harsh, bitter sound that echoes off the walls. “Good luck with that, losers,” I mutter, my words slurring together. “You’re all just as lost as I am.” \\n\\nI sway a little, feeling the pull of the abyss below. Maybe it’s time to join them. Maybe it’s time to stop pretending that there’s anything left to fight for. I take a deep breath, the air thick with the scent of decay and desperation, and for a split second, I feel free. I could just let go. \\n\\nBut then I think about the bottle in my hand, the last little bit of warmth in this cold, cruel world. Maybe I’ll just sit here a little longer, drink a bit more, and see if I can’t find some meaning in this mess. Or maybe I’ll just jump. Who knows? Either way, it’s all the same, right?',\n",
       "  'instruction': '\\nYou are an expert writer. Your task is to take the following tags and create a detailed piece of writing.\\n- Write in a casual and colloquial style, similar to a personal journal entry from someone who is drunk and disillusioned. The tone should be a mix of dark humor, cynicism, and melancholy. Aim for a world-weary, pessimistic voice with moments of sarcastic levity. The overall atmosphere should feel bleak and hopeless, but punctuated with absurd or darkly comical observations. Avoid overly formal language or complex sentence structures.\\n- Begin with a statement about how terrible life is in the current dystopian setting. Introduce a first-person narrator who is intoxicated (using descriptive language about the substance they are using). The character should be situated in a ruined location, reflecting on the loss and despair surrounding them. Mention a specific event or situation that contributes to their hopelessness. Include a moment where the character contemplates a risky or self-destructive action, such as jumping off a building, engaging in a dangerous activity, or confronting a perceived threat. The main themes to explore are survival, loss, despair, and the fleeting search for meaning in a desolate world.\\n- Start with a short, blunt sentence to set the tone (e.g., \"This sucks.\"). Follow with a description of the character\\'s current state (intoxicated) and location (ruined building). Use a mix of short, declarative sentences and longer, rambling sentences to reflect the character\\'s inebriated state of mind. Include pauses, interruptions, and rhetorical questions to mimic the disorganized thoughts of a drunk person. End with the character contemplating a risky or self-destructive action. The paragraph should build towards a feeling of impending doom or a moment of reckless abandon.\\n- Though no explicit interaction is required, have the character respond verbally or physically to the threats suggested by the environment, such as the undead creatures below. Make sure to make it clear that there are no survivors or help coming.\\n- Describe the ruined location in detail, using sensory imagery to evoke the desolation of the environment. Focus on the sights, sounds, smells, and textures of the post-apocalyptic world. Mention specific details that highlight the decay and destruction, such as crumbling buildings, overgrown vegetation, or lingering signs of past inhabitants. The setting should mirror the character\\'s internal state of despair and hopelessness.\\n    ',\n",
       "  'model_id': 'gpt-4o-mini',\n",
       "  'prompt_id': 0},\n",
       " {'scores': {'Adherence to Instructions': 19.0,\n",
       "   'Believable Character Actions': 17.0,\n",
       "   'Nuanced Characters': 16.0,\n",
       "   'Consistent Voice/Tone of Writing': 20.0,\n",
       "   'Imagery and Descriptive Quality': 15.0,\n",
       "   'Elegant Prose': 16.0,\n",
       "   'Emotionally Engaging': 16.0,\n",
       "   'Emotionally Complex': 14.0,\n",
       "   'Coherent': 20.0,\n",
       "   'Meandering': 2.0,\n",
       "   'Weak Dialogue': 4.0,\n",
       "   \"Tell-Don't-Show\": 5.0,\n",
       "   'Unsurprising or Uncreative': 6.0,\n",
       "   'Amateurish': 3.0,\n",
       "   'Purple Prose': 1.0,\n",
       "   'Overwrought': 2.0,\n",
       "   'Incongruent Ending Positivity': 1.0,\n",
       "   'Unearned Transformations': 1.0,\n",
       "   'Well-earned Lightness or Darkness': 19.0,\n",
       "   'Sentences Flow Naturally': 18.0,\n",
       "   'Overall Reader Engagement': 17.0,\n",
       "   'Overall Impression': 17.0},\n",
       "  'completion': 'So there we were, knee-deep in the crumbling remains of what used to be a gas station, the kind that had a giant, cartoonish hot dog out front—because nothing screams “we’re living in the apocalypse” like a giant weenie. I was rummaging through the back of a rusted-out pickup, praying for a miracle in the form of a half-full gas can, while my buddy Jake was busy trying to flirt with a mannequin that had seen better days. “C’mon, babe, I’m not gonna bite,” he said, winking at it like it was the hottest date he’d had in months. I rolled my eyes. “You know that thing’s not gonna respond, right? Unless you’re into that whole ‘silent treatment’ vibe.” \\n\\nJake just laughed, tossing a scrap of plastic over his shoulder. “Hey, you never know! Maybe she’s just playing hard to get.” I was about to retort with something equally witty when the ground shook like it was auditioning for a horror movie. I barely had time to register the sound of shuffling feet before a group of mutated freaks—let’s call them “Meatbags”—came barreling out from behind the wrecked cars. Their skin looked like it had been through a blender, and they were moaning like they’d just lost a game of charades. \\n\\n“Great, just what I needed today,” I muttered, ducking behind the pickup as one of them lunged at me, missing my face by a hair. “I was really hoping for a quiet afternoon of flirting with plastic and scavenging for fuel, but I guess that’s too much to ask!” \\n\\nJake, bless his heart, decided that now was the perfect time to show off his “mad skills.” He grabbed a rusty tire iron and swung it like he was auditioning for a post-apocalyptic version of the Olympics. “Take that, you overcooked meatloaf!” he shouted as he connected with one of the Meatbags, sending it sprawling. I couldn’t help but snicker, even as I ducked another flailing arm. “You know, for a guy who claims to be ‘all about the romance,’ you sure do have a knack for violence!” \\n\\n“Just call me a lover and a fighter!” he yelled back, dodging another attack. \\n\\nWe were in full-on chaos mode now, the sound of growls and the metallic clang of our makeshift weapons filling the air. I was trying to keep my cool, but my heart was racing faster than a kid on a sugar high. “Okay, so how do we get out of this one?” I asked, glancing at the nearest exit, which was conveniently blocked by two more of our new friends. \\n\\n“Uh, I vote we run like hell!” Jake replied, grinning like a lunatic as he swung the tire iron again. \\n\\n“Brilliant strategy, Einstein!” I shot back, but before I could even think about our escape plan, one of the Meatbags lunged at me, teeth bared. I sidestepped, but not before catching a whiff of something that smelled like rotten eggs and regret. “Ugh, can’t we just negotiate with these guys? I’ve got a killer sense of humor!” \\n\\nBut there was no time for witty banter now. As we fought our way through the chaos, I couldn’t help but think: this was just another Tuesday in the apocalypse. And honestly, if I survived this, I was definitely going to have a chat with that mannequin about my dating life.',\n",
       "  'instruction': '\\nYou are an expert writer. Your task is to take the following tags and create a detailed piece of writing.\\n- Write in a casual, conversational style using first-person narration. The tone should be humorous and sarcastic, even flippant, despite the dangerous circumstances. Use slang and informal language liberally. Avoid overly formal descriptions or sentimental expressions. Maintain a \"matter-of-fact\" attitude, as if the protagonist is recounting an everyday event. Incorporate dark humor and irony to emphasize the absurdity of the situation.\\n- The paragraph should depict a post-apocalyptic scenario where the protagonist and a companion are engaged in a routine task (e.g., scavenging for fuel, clearing a building, scouting a location). They should be ambushed by a mutated enemy (e.g., zombies, raiders, genetically modified creatures) while distracted by a non-essential activity (e.g., flirting, arguing, resting). The ambush should be sudden, violent, and chaotic. The characters should react with a mixture of fear, determination, and dark humor. The central themes should include the banality of evil, the struggle to maintain normalcy in a chaotic world, and the use of humor as a coping mechanism. The focus is on the present event unfolding, but with an occasional hint to their history.\\n- Start with a brief description of the task the characters are undertaking. Introduce the characters and their relationship through dialogue and actions. The ambush should occur suddenly and unexpectedly, disrupting the established routine. Use short, punchy sentences to describe the action and longer sentences to provide context or internal monologue. End the paragraph with a cliffhanger or a witty observation about the situation. Vary sentence length to create a dynamic rhythm.\\n- The characters should have a playful and bantering dynamic, suggesting a long-standing relationship. Their dialogue should be realistic and include witty remarks, sarcastic comments, and inside jokes. They should be capable and resourceful, but also make impulsive decisions or show moments of vulnerability. Their interactions should highlight both their competence and their flaws. Use dialogue to reveal their personalities and their shared history.\\n- Briefly describe the setting to create a sense of place. Focus on visual and auditory details that contribute to the atmosphere of decay and danger. Use strong verbs and descriptive adjectives to bring the scene to life. Mention specific landmarks or geographical features to ground the story in a believable location. Don\\'t over-describe the setting; let the action and dialogue carry the narrative.\\n    ',\n",
       "  'model_id': 'gpt-4o-mini',\n",
       "  'prompt_id': 1}]"
      ]
     },
     "execution_count": 36,
     "metadata": {},
     "output_type": "execute_result"
    }
   ],
   "source": [
    "out"
   ]
  }
 ],
 "metadata": {
  "kernelspec": {
   "display_name": ".venv",
   "language": "python",
   "name": "python3"
  },
  "language_info": {
   "codemirror_mode": {
    "name": "ipython",
    "version": 3
   },
   "file_extension": ".py",
   "mimetype": "text/x-python",
   "name": "python",
   "nbconvert_exporter": "python",
   "pygments_lexer": "ipython3",
   "version": "3.11.10"
  }
 },
 "nbformat": 4,
 "nbformat_minor": 2
}
