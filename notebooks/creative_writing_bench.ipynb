{
 "cells": [
  {
   "cell_type": "code",
   "execution_count": null,
   "metadata": {},
   "outputs": [],
   "source": [
    "import os\n",
    "import sys\n",
    "os.environ[\"HF_HUB_ENABLE_HF_TRANSFER\"] = \"1\"\n",
    "sys.path.append(\"..\")\n",
    "from dotenv import load_dotenv\n",
    "load_dotenv(\"../.env\")\n",
    "%load_ext autoreload\n",
    "%autoreload 2\n",
    "\n",
    "from synthetic_data.tasks.writing import BacktranslateBestOfN"
   ]
  },
  {
   "cell_type": "code",
   "execution_count": null,
   "metadata": {},
   "outputs": [],
   "source": [
    "from synthetic_data.generation import get_generation_wrapper\n",
    "from synthetic_data.utils import dictl\n",
    "task = BacktranslateBestOfN()\n",
    "task.dataset_root_path = \"../dataset_files\"\n",
    "dataset = task.load_dataset()\n",
    "first_batch = next(dataset.iter(batch_size=2))\n",
    "print(first_batch)\n",
    "generation_wrapper = get_generation_wrapper(\"gpt-4o-mini\")\n",
    "out = await task.generate(generation_wrapper, dictl(first_batch))"
   ]
  },
  {
   "cell_type": "code",
   "execution_count": null,
   "metadata": {},
   "outputs": [],
   "source": [
    "out"
   ]
  }
 ],
 "metadata": {
  "kernelspec": {
   "display_name": ".venv",
   "language": "python",
   "name": "python3"
  },
  "language_info": {
   "codemirror_mode": {
    "name": "ipython",
    "version": 3
   },
   "file_extension": ".py",
   "mimetype": "text/x-python",
   "name": "python",
   "nbconvert_exporter": "python",
   "pygments_lexer": "ipython3",
   "version": "3.11.10"
  }
 },
 "nbformat": 4,
 "nbformat_minor": 2
}
