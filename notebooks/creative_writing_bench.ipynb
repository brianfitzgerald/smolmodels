{
 "cells": [
  {
   "cell_type": "code",
   "execution_count": 1,
   "metadata": {},
   "outputs": [],
   "source": [
    "import os\n",
    "import sys\n",
    "os.environ[\"HF_HUB_ENABLE_HF_TRANSFER\"] = \"1\"\n",
    "sys.path.append(\"..\")\n",
    "from dotenv import load_dotenv\n",
    "load_dotenv(\"../.env\")\n",
    "%load_ext autoreload\n",
    "%autoreload 2\n"
   ]
  },
  {
   "cell_type": "code",
   "execution_count": 2,
   "metadata": {},
   "outputs": [],
   "source": [
    "import pandas as pd\n",
    "dataset_pd = pd.read_parquet(\n",
    "    \"../dataset_files/gutenberg_backtranslate_from_txt.parquet\"\n",
    ")"
   ]
  },
  {
   "cell_type": "code",
   "execution_count": 3,
   "metadata": {},
   "outputs": [
    {
     "data": {
      "text/plain": [
       "(3485, 8)"
      ]
     },
     "execution_count": 3,
     "metadata": {},
     "output_type": "execute_result"
    }
   ],
   "source": [
    "dataset_pd.shape"
   ]
  },
  {
   "cell_type": "code",
   "execution_count": 4,
   "metadata": {},
   "outputs": [
    {
     "name": "stderr",
     "output_type": "stream",
     "text": [
      "/Users/brianfitzgerald/Documents/GitHub/smolmodels/.venv/lib/python3.11/site-packages/tqdm/auto.py:21: TqdmWarning: IProgress not found. Please update jupyter and ipywidgets. See https://ipywidgets.readthedocs.io/en/stable/user_install.html\n",
      "  from .autonotebook import tqdm as notebook_tqdm\n",
      "\u001b[32m2025-05-04 20:38:05.123\u001b[0m | \u001b[1mINFO    \u001b[0m | \u001b[36msynthetic_data.creative_writing_bench.slop_score\u001b[0m:\u001b[36mload_slop_list_to_set\u001b[0m:\u001b[36m20\u001b[0m - \u001b[1mLoaded 1000 items from ../dataset_files//slop_list.json\u001b[0m\n",
      "\u001b[32m2025-05-04 20:38:05.123\u001b[0m | \u001b[1mINFO    \u001b[0m | \u001b[36msynthetic_data.creative_writing_bench.slop_score\u001b[0m:\u001b[36mload_slop_list_to_set\u001b[0m:\u001b[36m20\u001b[0m - \u001b[1mLoaded 200 items from ../dataset_files//slop_list_bigrams.json\u001b[0m\n",
      "\u001b[32m2025-05-04 20:38:05.124\u001b[0m | \u001b[1mINFO    \u001b[0m | \u001b[36msynthetic_data.creative_writing_bench.slop_score\u001b[0m:\u001b[36mload_slop_list_to_set\u001b[0m:\u001b[36m20\u001b[0m - \u001b[1mLoaded 200 items from ../dataset_files//slop_list_trigrams.json\u001b[0m\n",
      "\u001b[32m2025-05-04 20:38:05.124\u001b[0m | \u001b[1mINFO    \u001b[0m | \u001b[36msynthetic_data.tasks.writing\u001b[0m:\u001b[36mgenerate_and_score\u001b[0m:\u001b[36m441\u001b[0m - \u001b[1mGenerating 4 completions with mistralai/mistral-small-24b-instruct-2501\u001b[0m\n",
      "\u001b[32m2025-05-04 20:38:05.124\u001b[0m | \u001b[1mINFO    \u001b[0m | \u001b[36msynthetic_data.tasks.writing\u001b[0m:\u001b[36mgenerate_and_score\u001b[0m:\u001b[36m441\u001b[0m - \u001b[1mGenerating 4 completions with gpt-4o\u001b[0m\n",
      "\u001b[32m2025-05-04 20:38:19.435\u001b[0m | \u001b[1mINFO    \u001b[0m | \u001b[36msynthetic_data.tasks.writing\u001b[0m:\u001b[36mscore_writing\u001b[0m:\u001b[36m416\u001b[0m - \u001b[1mJudging 4 completions with gemini-2.0-flash\u001b[0m\n",
      "\u001b[32m2025-05-04 20:38:41.583\u001b[0m | \u001b[1mINFO    \u001b[0m | \u001b[36msynthetic_data.tasks.writing\u001b[0m:\u001b[36mscore_writing\u001b[0m:\u001b[36m416\u001b[0m - \u001b[1mJudging 4 completions with gemini-2.0-flash\u001b[0m\n"
     ]
    }
   ],
   "source": [
    "from synthetic_data.tasks.writing import GenerationBestOfN\n",
    "from datasets import Dataset\n",
    "from synthetic_data.utils import dictl\n",
    "\n",
    "task = GenerationBestOfN(run_mode=\"notebook\")\n",
    "\n",
    "dataset = Dataset.from_pandas(dataset_pd)\n",
    "\n",
    "for batch in dataset.iter(batch_size=4):\n",
    "    results = await task.generate(None, dictl(batch))\n",
    "    break"
   ]
  },
  {
   "cell_type": "code",
   "execution_count": 5,
   "metadata": {},
   "outputs": [
    {
     "data": {
      "text/markdown": [
       "#### Sample"
      ],
      "text/plain": [
       "<IPython.core.display.Markdown object>"
      ]
     },
     "metadata": {},
     "output_type": "display_data"
    },
    {
     "data": {
      "text/markdown": [
       "\n",
       "You are an expert writer. Your task is to take the following tags and create a detailed piece of writing.\n",
       "- Adopt a functional and informative style, as if writing a section of a game manual or strategy guide. Maintain a neutral, objective tone focused on explaining the unit creation process without personal opinions or biases. The overall mood should be one of strategic planning and resource management. Use clear and concise language, avoiding overly descriptive or emotional prose.\n",
       "- The paragraph should describe a character, let's call her Anya, creating a unit (let's call it a Cyberhound) for a tactical combat simulator. Begin by stating Anya's goal (e.g., creating a powerful melee unit, a versatile support unit). Detail the process of allocating limited resources (e.g., Upgrade Points) to the Cyberhound's core attributes: Strength, Agility, and Tech. Explain why Anya chooses specific upgrades (e.g., maximizing Strength for damage output, investing in Tech to unlock hacking abilities). Then, describe the process of equipping the Cyberhound with weapons and armor, considering the resource cost of each item and its impact on the unit's stats. Explain Anya's strategic rationale behind these choices, considering what the character is intended to accomplish in combat. Include a final summary of resource expenditure and unit stats.\n",
       "- Structure the paragraph logically, following a clear progression from initial goal to final result. Begin with an introductory sentence outlining Anya's intention. Then, dedicate separate sentences or short paragraphs to each stage of the unit creation process: attribute upgrades, equipment choices, and strategic considerations. Use transitional phrases (e.g., \"Next, Anya...\", \"To further enhance...\", \"Finally, she...\") to guide the reader through the process. Conclude with a concise summary of the unit's final stats and remaining resources. Use varied sentence length, but primarily stick to shorter, declarative sentences.\n",
       "- N/A - No interaction between characters. Focus is on character creation.\n",
       "- No specific setting description is required, but it should be implied that Anya is interacting with a computer system to create the Cyberhound. You can add a brief detail, such as \"Looking at the glowing interface, Anya considers the options available.\"\n",
       "    "
      ],
      "text/plain": [
       "<IPython.core.display.Markdown object>"
      ]
     },
     "metadata": {},
     "output_type": "display_data"
    },
    {
     "name": "stdout",
     "output_type": "stream",
     "text": [
      "{'Adherence to Instructions': 17.0, 'Tone and Voice': 18.0, 'Pacing and Rhythm': 17.0, 'Conciseness and Clarity': 18.0, 'slop_reward': 22.88135593220339}\n"
     ]
    },
    {
     "data": {
      "text/markdown": [
       "Anya's goal is to create a powerful melee unit capable of both high damage output and tactical support in the tactical combat simulator. She begins by allocating her limited Upgrade Points to the Cyberhound's core attributes: Strength, Agility, and Tech. Anya prioritizes Strength, investing 20 points to maximize the Cyberhound's damage output and survivability in close combat. Next, she allocates 15 points to Agility, ensuring the Cyberhound can maneuver quickly and effectively on the battlefield. Lastly, Anya invests 10 points in Tech, unlocking hacking abilities that will allow the Cyberhound to disrupt enemy units and gain tactical advantages.\n",
       "\n",
       "Looking at the glowing interface, Anya then proceeds to equip the Cyberhound with weapons and armor. She selects the \"Plasma Claws,\" a high-damage melee weapon that complements the Cyberhound's Strength attribute, at a cost of 15 points. To further enhance the Cyberhound's survivability, Anya equips it with \"Reinforced Armor,\" which provides significant protection against enemy attacks, costing 20 points. The Cyberhound's Tech attribute enables Anya to equip it with a \"Hacking Module,\" allowing it to disable enemy units temporarily, at a cost of 10 points.\n",
       "\n",
       "Finally, she considers the strategic implications of her choices. The Cyberhound is designed to be a formidable melee fighter with the ability to disrupt enemy formations. Its high Strength and Agility make it a versatile unit capable of engaging multiple targets, while its Tech abilities provide critical support in combat situations.\n",
       "\n",
       "In summary, Anya's Cyberhound has the following final stats: Strength 20, Agility 15, and Tech 10. The unit is equipped with Plasma Claws, Reinforced Armor, and a Hacking Module. Anya has spent a total of 80 points on upgrades and equipment, leaving her with 20 remaining points for future adjustments or additional units."
      ],
      "text/plain": [
       "<IPython.core.display.Markdown object>"
      ]
     },
     "metadata": {},
     "output_type": "display_data"
    },
    {
     "data": {
      "text/markdown": [
       "#### Sample"
      ],
      "text/plain": [
       "<IPython.core.display.Markdown object>"
      ]
     },
     "metadata": {},
     "output_type": "display_data"
    },
    {
     "data": {
      "text/markdown": [
       "\n",
       "You are an expert writer. Your task is to take the following tags and create a detailed piece of writing.\n",
       "- Adopt a casual, conversational, and cynical writing style. The tone should be a blend of dark humor, melancholic reflection, and underlying despair. Use vulgar language sparingly, only when it serves to emphasize the character's emotional state or worldview. Aim for a raw, honest voice. The overall mood should be bleak, but punctuated by moments of dark amusement or sardonic wit. Think of a jaded survivor of some great disaster.\n",
       "- The paragraph should begin with the character in a precarious or desperate situation. Perhaps they are overlooking a ruined city from a precarious height, or trapped in a hopeless situation. They should be reflecting on the events that led to this point, focusing on the disillusionment and loss of hope they experienced. Include a metaphor to describe the situation - something common that's actually hellish. They should express a strong desire to escape the pain and despair, possibly through a self-destructive act or a risky gamble. Make sure to address an audience that may or may not exist.\n",
       "- Begin with a short, declarative sentence to establish the mood and setting (e.g., \"This was it.\"). Follow with a mix of short, punchy sentences and longer, more rambling sentences that reflect the character's fragmented thoughts. Use questions, both rhetorical and genuine, to engage the reader and convey the character's uncertainty. End with a sentence or two that leaves the reader with a sense of foreboding or ambiguity, hinting at the character's ultimate fate. Organize the paragraph as a stream of consciousness, allowing thoughts and memories to flow naturally.\n",
       "- While the character is alone, address the reader of this potential message. Make the future audience feel like they are being spoken to directly. Mention the \"others\", and refer to the moanings of the crowd, to create an interaction with the outside.\n",
       "- Use vivid sensory details to paint a picture of the desolate setting. Describe the sights, sounds, smells, and textures that surround the character. Focus on details that evoke a sense of decay, ruin, and hopelessness. Use imagery that contrasts the present desolation with memories of a better past. Pay attention to the character's physical sensations (e.g., the cold wind, the rough texture of the ground, the taste of cheap liquor).\n",
       "    "
      ],
      "text/plain": [
       "<IPython.core.display.Markdown object>"
      ]
     },
     "metadata": {},
     "output_type": "display_data"
    },
    {
     "name": "stdout",
     "output_type": "stream",
     "text": [
      "{'Adherence to Instructions': 14.0, 'Tone and Voice': 17.0, 'Pacing and Rhythm': 8.0, 'Conciseness and Clarity': 9.0, 'slop_reward': 33.56164383561644}\n"
     ]
    },
    {
     "data": {
      "text/markdown": [
       "This was it. Perched on the crumbling edge of what used to be a skyscraper, I'm staring down at the ruins of a city that once was. The wind howls like a banshee, whipping my hair into a frenzy, and the cold seeps into my bones, a stark contrast to the warmth of the memories that haunt me. The city below is a graveyard of steel and concrete, a twisted mess of what was once a thriving metropolis. It's like looking down into a giant, rotting mouth, filled with jagged teeth of broken buildings and the stench of decay. The air is thick with the smell of ash and the faint, lingering scent of death. The moanings of the crowd echo from the streets below, a symphony of despair that grates on my nerves. I can almost hear the whispers of the others, their voices a chorus of the damned, trapped in this hellish purgatory.\n",
       "\n",
       "How did it come to this? When did the world turn into a godforsaken wasteland? The memories of a better time, of laughter and warmth, are as distant as the stars that still manage to shine through the smog. The city was once a beacon of hope, a place where dreams were born and nurtured. Now, it's a rotting corpse, a testament to the futility of human ambition. The buildings, once proud and tall, now stand as skeletal remains, their glass eyes shattered and empty. The streets, once bustling with life, are now silent tombs, littered with the remnants of a world that once was.\n",
       "\n",
       "The taste of cheap liquor still lingers on my tongue, a bitter reminder of the nights spent drowning in oblivion. The bottle, now empty, lies at my feet, a useless relic of a futile escape. I can feel the rough texture of the concrete beneath my fingers, a harsh contrast to the smooth, polished surfaces of the past. The wind bites at my skin, a cruel mistress that refuses to let me forget the cold, hard reality of my existence. The city below is a graveyard, a testament to the futility of human ambition. The buildings, once proud and tall, now stand as skeletal remains, their glass eyes shattered and empty. The streets, once bustling with life, are now silent tombs, littered with the remnants of a world that once was.\n",
       "\n",
       "I can still hear the laughter, the joy, the sound of life. But it's all a distant memory, a cruel joke played on my mind. The city below is a graveyard, a testament to the futility of human ambition. The buildings, once proud and tall, now stand as skeletal remains, their glass eyes shattered and empty. The streets, once bustling with life, are now silent tombs, littered with the remnants of a world that once was. I can feel the rough texture of the concrete beneath my fingers, a harsh contrast to the smooth, polished surfaces of the past. The wind bites at my skin, a cruel mistress that refuses to let me forget the cold, hard reality of my existence.\n",
       "\n",
       "The question is, how do I escape this hell? Do I jump, end it all in a final, desperate act of defiance? Or do I stay, clinging to the edge of this ruined world, hoping for a miracle that will never come? The choice is mine, but the outcome is already written in the stars. The city below is a graveyard, a testament to the futility of human ambition. The buildings, once proud and tall, now stand as skeletal remains, their glass eyes shattered and empty. The streets, once bustling with life, are now silent tombs, littered with the remnants of a world that once was. The wind bites at my skin, a cruel mistress that refuses to let me forget the cold, hard reality of my existence. The choice is mine, but the outcome is already written in the stars. The city below is a graveyard, a testament to the futility of human ambition. The buildings, once proud and tall, now stand as skeletal remains, their glass eyes shattered and empty. The streets, once bustling with life, are now silent tombs, littered with the remnants of a world that once was. The wind bites at my skin, a cruel mistress that refuses to let me forget the cold, hard reality of my existence."
      ],
      "text/plain": [
       "<IPython.core.display.Markdown object>"
      ]
     },
     "metadata": {},
     "output_type": "display_data"
    },
    {
     "data": {
      "text/markdown": [
       "#### Sample"
      ],
      "text/plain": [
       "<IPython.core.display.Markdown object>"
      ]
     },
     "metadata": {},
     "output_type": "display_data"
    },
    {
     "data": {
      "text/markdown": [
       "\n",
       "You are an expert writer. Your task is to take the following tags and create a detailed piece of writing.\n",
       "- Adopt a cynical, world-weary tone. The paragraph should be conversational, as if you're talking directly to the reader, and peppered with profanity (sparingly) and dark humor. Aim for a bleak but absurd mood.\n",
       "- Begin by immediately dismissing a simplistic or optimistic view of the situation. Establish a setting: a supposedly safe, walled-off community (\"Sanctuary,\" \"Haven,\" etc.) that's *not* paradise. Describe a routine patrol or task within this community that unexpectedly turns dangerous. The task can be scavenging for supplies, guarding the perimeter, or mediating a dispute. Include a brief flashback (one or two sentences) showcasing the protagonist's past or a defining moment that hardened them. Subtly hint that \"Sanctuary\" isn't perfect; perhaps resources are scarce, the leadership is corrupt, or a new threat has emerged. The overriding themes should be survival, disillusionment, and the cost of safety.\n",
       "- Start with a strong statement rejecting a heroic narrative. Follow with a description of the setting and the current situation, incorporating the routine task that goes awry. Insert the brief flashback within this description for added impact. Conclude with a sentence or two that leaves the reader with a sense of unease or foreboding about the \"safe\" community. Vary sentence length for pacing. Use short, declarative sentences for emphasis and longer, descriptive sentences to build the scene.\n",
       "- If including dialogue, keep it brief and pragmatic. The characters should be focused on survival and exhibit a hardened, cynical attitude. Their words should reveal their underlying tension, perhaps even a hint of betrayal. Any camaraderie should feel strained by the harsh realities of their world.\n",
       "- Focus on the visual and olfactory details of the community. Describe the walls (their construction, height, and any signs of damage), the buildings within (are they new or repurposed?), and the environment surrounding the walls (what's visible of the outside world?). Include details that suggest decay, overcrowding, or resource scarcity. If appropriate, mention a distinct smell (burning trash, unwashed bodies, etc.) that permeates the community.\n",
       "    "
      ],
      "text/plain": [
       "<IPython.core.display.Markdown object>"
      ]
     },
     "metadata": {},
     "output_type": "display_data"
    },
    {
     "name": "stdout",
     "output_type": "stream",
     "text": [
      "{'Adherence to Instructions': 17.0, 'Tone and Voice': 16.0, 'Pacing and Rhythm': 14.0, 'Conciseness and Clarity': 15.0, 'slop_reward': 15.116279069767444}\n"
     ]
    },
    {
     "data": {
      "text/markdown": [
       "Oh, for fuck's sake, don't go thinking this is some heroic tale of survival. This ain't no heartwarming story about a community pulling together. Sanctuary? More like a goddamn zoo, and we're the animals trapped inside. The walls are high, sure, but they're made of scrap metal and rusted-out cars, patched together like a shitty jigsaw puzzle. They're supposed to keep us safe, but all they do is keep us in. And the smell? Oh, it's a delightful mix of burning trash and unwashed bodies. Paradise, right?\n",
       "\n",
       "I'm out on patrol, like I do every fucking day. The sun's a harsh bitch, beating down on the repurposed buildings that line the streets. Some are old, some are new, but all of them are crumbling. The leadership says we're safe, but the cracks in the walls tell a different story. The perimeter's my beat, and today, it's quiet. Too quiet. I remember the day I joined the patrol, the day I saw the first body hanging from the wall. The day I realized this place wasn't a sanctuary, but a prison. The day I hardened my heart.\n",
       "\n",
       "The task is simple: check the perimeter, make sure no one's trying to sneak in or out. But today, something's off. The wind picks up, and with it, the stench of decay. I hear a rustle in the bushes, and my hand instinctively goes to my gun. \"Who's there?\" I shout, my voice echoing in the desolate landscape. No answer. Just the wind and the rustling. I step closer, gun raised, and that's when I see it. A figure, half-buried in the dirt. It's a kid, maybe twelve, with a makeshift bow and arrow. His eyes are wide, terrified. \"Please,\" he whispers, \"don't hurt me.\"\n",
       "\n",
       "I lower my gun, but my heart's pounding. \"What the fuck are you doing out here?\" I ask, my voice harsher than I mean it to be. He doesn't answer, just looks at me with those wide, terrified eyes. I grab him by the arm, dragging him back towards Sanctuary. The walls loom ahead, tall and menacing, their shadows stretching out like a death sentence. As we approach, I can't shake the feeling that something's not right. The walls are supposed to keep us safe, but they're crumbling, and the kid at my side is a reminder that Sanctuary isn't perfect. It's a fucking lie, and we're all trapped inside."
      ],
      "text/plain": [
       "<IPython.core.display.Markdown object>"
      ]
     },
     "metadata": {},
     "output_type": "display_data"
    },
    {
     "data": {
      "text/markdown": [
       "#### Sample"
      ],
      "text/plain": [
       "<IPython.core.display.Markdown object>"
      ]
     },
     "metadata": {},
     "output_type": "display_data"
    },
    {
     "data": {
      "text/markdown": [
       "\n",
       "You are an expert writer. Your task is to take the following tags and create a detailed piece of writing.\n",
       "- Write in a casual, first-person narrative. The tone should be tense, weary, and reflective. Create an atmosphere of unease and impending danger. Focus on internal thoughts and feelings, showing rather than telling. The overall outlook should be slightly cynical, reflecting the hardships of the situation.\n",
       "- Begin with a brief, tense communication exchange with someone from the protagonist's past. This communication should be essential for immediate survival. Hint at a complicated history and unresolved issues. Follow this with a moment of reflection on a present relationship or friendship, highlighting its importance as a source of support. End the paragraph by introducing an immediate and potentially deadly external threat that interrupts the reflection and raises the stakes. Weave in themes of survival, interpersonal conflict, regret, and the struggle to move on.\n",
       "- Start with a short, impactful sentence that grounds the reader in the scene. Use a mix of short and longer sentences to create rhythm and pacing. Longer sentences should be used for reflection and description, while shorter sentences can be used to build tension and highlight key moments. Conclude with a sentence that abruptly shifts the focus to the impending threat.\n",
       "- The interaction with the character from the past should be brief, strained, and filled with subtext. The protagonist should feel a mixture of need and resentment towards them. The relationship with the current friend/partner should be portrayed as comforting and supportive, but not necessarily intensely passionate. Focus on the sense of reliance and gratitude rather than romantic love.\n",
       "- Describe the environment using visual details that imply decay and devastation. Emphasize the sense of isolation and vulnerability. Use sounds sparingly to emphasize moments of tension. Evoke touch to highlight physical discomfort or the impact of the setting on the characters. The setting should feel harsh and unforgiving, reflecting the emotional state of the protagonist.\n",
       "    "
      ],
      "text/plain": [
       "<IPython.core.display.Markdown object>"
      ]
     },
     "metadata": {},
     "output_type": "display_data"
    },
    {
     "name": "stdout",
     "output_type": "stream",
     "text": [
      "{'Adherence to Instructions': 16.0, 'Tone and Voice': 17.0, 'Pacing and Rhythm': 15.0, 'Conciseness and Clarity': 16.0, 'slop_reward': -18.965517241379303}\n"
     ]
    },
    {
     "data": {
      "text/markdown": [
       "The rain pounded against the rusted metal roof, a relentless drumbeat echoing through the abandoned warehouse. I clenched the old satellite phone, the plastic case cracked and worn from years of use. The line crackled to life, and his voice cut through the static, sharp as a blade. \"You need help, don't you?\" His words were a mix of mockery and concern, a reminder of the tangled web of our past.\n",
       "\n",
       "\"Yeah, I need help,\" I replied, my voice barely above a whisper. I could feel the weight of our history pressing down on me, the unresolved issues and the bitter memories. I needed him, but the resentment gnawed at me, a constant ache in my chest. The line went silent for a moment, and I could almost hear the smile in his voice when he finally spoke. \"You know where to find me, if you dare.\"\n",
       "\n",
       "I hung up the phone, the cold metal biting into my fingers. The warehouse was a shell of its former self, the walls crumbling and the air thick with dust. The only light came from a few broken windows, casting eerie shadows that danced across the floor. It was a harsh, unforgiving place, but it was also a sanctuary, a place where I could hide from the world and the ghosts of my past. The rain outside was a constant reminder of the world outside, a world that was slowly closing in on me.\n",
       "\n",
       "I thought of Alex, my partner in this madness. He was the one constant in my life, the one person I could rely on. He was a rock, steady and unyielding, even in the face of the chaos that surrounded us. He was the one who kept me grounded, the one who kept me from losing myself in the darkness. I could feel the warmth of his presence, even though he wasn't here. It was a comforting thought, a beacon of light in the darkness.\n",
       "\n",
       "The sound of a distant explosion shattered the silence, and I felt a jolt of adrenaline surge through my veins. The ground shook, and the walls trembled, sending a shower of dust and debris raining down from the ceiling. The threat was imminent, the danger closing in on us."
      ],
      "text/plain": [
       "<IPython.core.display.Markdown object>"
      ]
     },
     "metadata": {},
     "output_type": "display_data"
    },
    {
     "data": {
      "text/markdown": [
       "#### Sample"
      ],
      "text/plain": [
       "<IPython.core.display.Markdown object>"
      ]
     },
     "metadata": {},
     "output_type": "display_data"
    },
    {
     "data": {
      "text/markdown": [
       "\n",
       "You are an expert writer. Your task is to take the following tags and create a detailed piece of writing.\n",
       "- Adopt a functional and informative style, as if writing a section of a game manual or strategy guide. Maintain a neutral, objective tone focused on explaining the unit creation process without personal opinions or biases. The overall mood should be one of strategic planning and resource management. Use clear and concise language, avoiding overly descriptive or emotional prose.\n",
       "- The paragraph should describe a character, let's call her Anya, creating a unit (let's call it a Cyberhound) for a tactical combat simulator. Begin by stating Anya's goal (e.g., creating a powerful melee unit, a versatile support unit). Detail the process of allocating limited resources (e.g., Upgrade Points) to the Cyberhound's core attributes: Strength, Agility, and Tech. Explain why Anya chooses specific upgrades (e.g., maximizing Strength for damage output, investing in Tech to unlock hacking abilities). Then, describe the process of equipping the Cyberhound with weapons and armor, considering the resource cost of each item and its impact on the unit's stats. Explain Anya's strategic rationale behind these choices, considering what the character is intended to accomplish in combat. Include a final summary of resource expenditure and unit stats.\n",
       "- Structure the paragraph logically, following a clear progression from initial goal to final result. Begin with an introductory sentence outlining Anya's intention. Then, dedicate separate sentences or short paragraphs to each stage of the unit creation process: attribute upgrades, equipment choices, and strategic considerations. Use transitional phrases (e.g., \"Next, Anya...\", \"To further enhance...\", \"Finally, she...\") to guide the reader through the process. Conclude with a concise summary of the unit's final stats and remaining resources. Use varied sentence length, but primarily stick to shorter, declarative sentences.\n",
       "- N/A - No interaction between characters. Focus is on character creation.\n",
       "- No specific setting description is required, but it should be implied that Anya is interacting with a computer system to create the Cyberhound. You can add a brief detail, such as \"Looking at the glowing interface, Anya considers the options available.\"\n",
       "    "
      ],
      "text/plain": [
       "<IPython.core.display.Markdown object>"
      ]
     },
     "metadata": {},
     "output_type": "display_data"
    },
    {
     "name": "stdout",
     "output_type": "stream",
     "text": [
      "{'Adherence to Instructions': 18.0, 'Tone and Voice': 19.0, 'Pacing and Rhythm': 17.0, 'Conciseness and Clarity': 18.0, 'slop_reward': 27.401129943502823}\n"
     ]
    },
    {
     "data": {
      "text/markdown": [
       "Looking at the glowing interface, Anya considers the options available for creating a Cyberhound unit in the tactical combat simulator. Her primary goal is to develop a powerful melee unit capable of dominating close-quarters combat. To achieve this, Anya begins by allocating her limited Upgrade Points to the Cyberhound's core attributes: Strength, Agility, and Tech. She decides to maximize Strength to enhance the unit's damage output, ensuring that the Cyberhound can deliver devastating blows to enemy units. A moderate investment in Agility is also made to improve the unit's speed and evasion capabilities, allowing it to maneuver effectively on the battlefield. Anya chooses to allocate minimal points to Tech, as hacking abilities are not a priority for this melee-focused unit.\n",
       "\n",
       "Next, Anya turns her attention to equipping the Cyberhound with weapons and armor. She selects a pair of reinforced titanium claws, which, while costly in terms of resource expenditure, significantly boost the unit's melee attack power. For armor, she opts for a lightweight composite plating that offers a balanced combination of protection and mobility, ensuring the Cyberhound remains agile in combat. Each equipment choice is carefully weighed against its resource cost and impact on the unit's overall stats, aligning with Anya's strategic vision for a high-impact melee fighter.\n",
       "\n",
       "To further enhance the Cyberhound's effectiveness, Anya considers the strategic role it will play in combat scenarios. The combination of high Strength and moderate Agility makes it ideal for frontline engagements, where it can quickly close the distance to enemy units and deliver powerful attacks. The chosen armor supports this role by allowing for rapid movement without sacrificing too much defensive capability.\n",
       "\n",
       "Finally, Anya reviews the Cyberhound's final stats and resource expenditure. The unit boasts a formidable Strength rating, complemented by decent Agility, while Tech remains low. The resource allocation has been optimized to create a specialized melee unit, with remaining resources conserved for future upgrades or additional units. Anya is confident that her Cyberhound will be a valuable asset in the tactical combat simulator, ready to take on any challenge that comes its way."
      ],
      "text/plain": [
       "<IPython.core.display.Markdown object>"
      ]
     },
     "metadata": {},
     "output_type": "display_data"
    },
    {
     "data": {
      "text/markdown": [
       "#### Sample"
      ],
      "text/plain": [
       "<IPython.core.display.Markdown object>"
      ]
     },
     "metadata": {},
     "output_type": "display_data"
    },
    {
     "data": {
      "text/markdown": [
       "\n",
       "You are an expert writer. Your task is to take the following tags and create a detailed piece of writing.\n",
       "- Adopt a casual, conversational, and cynical writing style. The tone should be a blend of dark humor, melancholic reflection, and underlying despair. Use vulgar language sparingly, only when it serves to emphasize the character's emotional state or worldview. Aim for a raw, honest voice. The overall mood should be bleak, but punctuated by moments of dark amusement or sardonic wit. Think of a jaded survivor of some great disaster.\n",
       "- The paragraph should begin with the character in a precarious or desperate situation. Perhaps they are overlooking a ruined city from a precarious height, or trapped in a hopeless situation. They should be reflecting on the events that led to this point, focusing on the disillusionment and loss of hope they experienced. Include a metaphor to describe the situation - something common that's actually hellish. They should express a strong desire to escape the pain and despair, possibly through a self-destructive act or a risky gamble. Make sure to address an audience that may or may not exist.\n",
       "- Begin with a short, declarative sentence to establish the mood and setting (e.g., \"This was it.\"). Follow with a mix of short, punchy sentences and longer, more rambling sentences that reflect the character's fragmented thoughts. Use questions, both rhetorical and genuine, to engage the reader and convey the character's uncertainty. End with a sentence or two that leaves the reader with a sense of foreboding or ambiguity, hinting at the character's ultimate fate. Organize the paragraph as a stream of consciousness, allowing thoughts and memories to flow naturally.\n",
       "- While the character is alone, address the reader of this potential message. Make the future audience feel like they are being spoken to directly. Mention the \"others\", and refer to the moanings of the crowd, to create an interaction with the outside.\n",
       "- Use vivid sensory details to paint a picture of the desolate setting. Describe the sights, sounds, smells, and textures that surround the character. Focus on details that evoke a sense of decay, ruin, and hopelessness. Use imagery that contrasts the present desolation with memories of a better past. Pay attention to the character's physical sensations (e.g., the cold wind, the rough texture of the ground, the taste of cheap liquor).\n",
       "    "
      ],
      "text/plain": [
       "<IPython.core.display.Markdown object>"
      ]
     },
     "metadata": {},
     "output_type": "display_data"
    },
    {
     "name": "stdout",
     "output_type": "stream",
     "text": [
      "{'Adherence to Instructions': 15.0, 'Tone and Voice': 14.0, 'Pacing and Rhythm': 13.0, 'Conciseness and Clarity': 16.0, 'slop_reward': 37.244897959183675}\n"
     ]
    },
    {
     "data": {
      "text/markdown": [
       "This was it. The wind whipped around me like a cruel lover, tugging at my clothes, trying to drag me down from this godforsaken rooftop. Below, the city sprawled out like a carcass, rotting under a sky that had long forgotten how to be blue. The buildings were jagged teeth in a mouth that had bitten off more than it could chew, and the streets were veins, empty of life, save for the occasional shuffle of the damned. I stood there, teetering on the edge, feeling the rough concrete bite into my heels, and wondered how it all went to hell so quickly.\n",
       "\n",
       "You ever find yourself in a place where every breath feels like a betrayal? That's where I am. It's like living in a postcard from hell, the kind you send to your enemies. The air tastes of ash and regret, a bitter cocktail that goes down like cheap liquor, burning all the way. I remember when this place was alive, when the lights twinkled like stars and the air was filled with laughter. Now, it's just the moanings of the crowd, a symphony of despair that echoes in the hollow spaces where hope used to live.\n",
       "\n",
       "How did we get here? That's the million-dollar question, isn't it? Maybe it was the greed, the lies, the endless chase for something better, something more. Or maybe it was just us, the \"others,\" too blind, too stupid to see the cliff we were hurtling towards. And now, here I am, standing on the edge, wondering if the fall would be any worse than the slow decay of staying. It's a hell of a gamble, but what have I got to lose?\n",
       "\n",
       "I talk to you, whoever you are, because maybe you'll understand, or maybe you'll just laugh at the ramblings of a broken soul. Either way, it doesn't matter. I'm just a ghost in this machine, a whisper in the wind. The cold bites at my skin, the only reminder that I'm still here, still breathing. But for how long? That's the real kicker, isn't it? The uncertainty, the not knowing. Maybe I'll jump, maybe I'll step back. Either way, the city's still dying, and I'm just a part of its last, desperate breath."
      ],
      "text/plain": [
       "<IPython.core.display.Markdown object>"
      ]
     },
     "metadata": {},
     "output_type": "display_data"
    },
    {
     "data": {
      "text/markdown": [
       "#### Sample"
      ],
      "text/plain": [
       "<IPython.core.display.Markdown object>"
      ]
     },
     "metadata": {},
     "output_type": "display_data"
    },
    {
     "data": {
      "text/markdown": [
       "\n",
       "You are an expert writer. Your task is to take the following tags and create a detailed piece of writing.\n",
       "- Adopt a cynical, world-weary tone. The paragraph should be conversational, as if you're talking directly to the reader, and peppered with profanity (sparingly) and dark humor. Aim for a bleak but absurd mood.\n",
       "- Begin by immediately dismissing a simplistic or optimistic view of the situation. Establish a setting: a supposedly safe, walled-off community (\"Sanctuary,\" \"Haven,\" etc.) that's *not* paradise. Describe a routine patrol or task within this community that unexpectedly turns dangerous. The task can be scavenging for supplies, guarding the perimeter, or mediating a dispute. Include a brief flashback (one or two sentences) showcasing the protagonist's past or a defining moment that hardened them. Subtly hint that \"Sanctuary\" isn't perfect; perhaps resources are scarce, the leadership is corrupt, or a new threat has emerged. The overriding themes should be survival, disillusionment, and the cost of safety.\n",
       "- Start with a strong statement rejecting a heroic narrative. Follow with a description of the setting and the current situation, incorporating the routine task that goes awry. Insert the brief flashback within this description for added impact. Conclude with a sentence or two that leaves the reader with a sense of unease or foreboding about the \"safe\" community. Vary sentence length for pacing. Use short, declarative sentences for emphasis and longer, descriptive sentences to build the scene.\n",
       "- If including dialogue, keep it brief and pragmatic. The characters should be focused on survival and exhibit a hardened, cynical attitude. Their words should reveal their underlying tension, perhaps even a hint of betrayal. Any camaraderie should feel strained by the harsh realities of their world.\n",
       "- Focus on the visual and olfactory details of the community. Describe the walls (their construction, height, and any signs of damage), the buildings within (are they new or repurposed?), and the environment surrounding the walls (what's visible of the outside world?). Include details that suggest decay, overcrowding, or resource scarcity. If appropriate, mention a distinct smell (burning trash, unwashed bodies, etc.) that permeates the community.\n",
       "    "
      ],
      "text/plain": [
       "<IPython.core.display.Markdown object>"
      ]
     },
     "metadata": {},
     "output_type": "display_data"
    },
    {
     "name": "stdout",
     "output_type": "stream",
     "text": [
      "{'Adherence to Instructions': 17.0, 'Tone and Voice': 18.0, 'Pacing and Rhythm': 15.0, 'Conciseness and Clarity': 16.0, 'slop_reward': 27.272727272727273}\n"
     ]
    },
    {
     "data": {
      "text/markdown": [
       "Let’s get one thing straight: this isn’t some heroic tale of gallant knights and shining armor. This is Sanctuary, where the walls are high, the air is thick with the stench of burning trash and desperation, and the only thing shining is the sweat on your brow as you trudge through another godforsaken day. Those walls, they’re not the impenetrable fortress you might imagine. They’re a patchwork of rusting metal and crumbling concrete, held together by nothing more than the collective will of a community too stubborn to give up. But hey, they keep the worst of the outside world at bay, or so they say. \n",
       "\n",
       "Inside, it’s a different kind of hell. The buildings are a mix of hastily erected shanties and repurposed ruins, each one a monument to the ingenuity and desperation of its inhabitants. Overcrowding is an understatement. You can’t walk a foot without bumping into someone, and the smell of unwashed bodies clings to the air like a second skin. Resources? Scarce as hope around here. Leadership? Corrupt as a politician’s promise. And yet, we survive. Because what else is there to do?\n",
       "\n",
       "Today’s task was supposed to be simple. A routine patrol along the perimeter, a chance to stretch the legs and maybe catch a breath of air that didn’t taste like despair. But nothing’s ever simple in Sanctuary. Not since the day I watched the world burn, the flames reflecting in my young, naive eyes, turning innocence to ash. That was the day I learned that safety is an illusion, a lie we tell ourselves to sleep at night.\n",
       "\n",
       "“Keep your eyes open,” grunts Marcus, his voice a gravelly whisper of caution. We’re a ragtag pair, bound by necessity rather than friendship. There’s no room for trust here, only a mutual understanding that betrayal is just a heartbeat away. \n",
       "\n",
       "The patrol starts off as expected, a monotonous trek along the wall’s edge, the outside world a distant, threatening blur beyond the barricade. But then, a sound—a rustle, a whisper of movement where there should be none. Instincts honed by years of survival kick in, adrenaline surging through veins already hardened by too many close calls. \n",
       "\n",
       "In the blink of an eye, the routine turns deadly. A shadow detaches from the wall, a figure emerging from the gloom with a knife glinting in the dim light. There’s no time for thought, only action. A scuffle, a curse, and then silence. The threat dealt with, but the danger far from over. \n",
       "\n",
       "Back in Sanctuary, the air feels heavier, the walls closer, the sense of safety more tenuous than ever. We return to our posts, the weight of survival pressing down like a leaden cloak. This place, for all its promises of refuge, is just another kind of prison. And the cracks are starting to show."
      ],
      "text/plain": [
       "<IPython.core.display.Markdown object>"
      ]
     },
     "metadata": {},
     "output_type": "display_data"
    },
    {
     "data": {
      "text/markdown": [
       "#### Sample"
      ],
      "text/plain": [
       "<IPython.core.display.Markdown object>"
      ]
     },
     "metadata": {},
     "output_type": "display_data"
    },
    {
     "data": {
      "text/markdown": [
       "\n",
       "You are an expert writer. Your task is to take the following tags and create a detailed piece of writing.\n",
       "- Write in a casual, first-person narrative. The tone should be tense, weary, and reflective. Create an atmosphere of unease and impending danger. Focus on internal thoughts and feelings, showing rather than telling. The overall outlook should be slightly cynical, reflecting the hardships of the situation.\n",
       "- Begin with a brief, tense communication exchange with someone from the protagonist's past. This communication should be essential for immediate survival. Hint at a complicated history and unresolved issues. Follow this with a moment of reflection on a present relationship or friendship, highlighting its importance as a source of support. End the paragraph by introducing an immediate and potentially deadly external threat that interrupts the reflection and raises the stakes. Weave in themes of survival, interpersonal conflict, regret, and the struggle to move on.\n",
       "- Start with a short, impactful sentence that grounds the reader in the scene. Use a mix of short and longer sentences to create rhythm and pacing. Longer sentences should be used for reflection and description, while shorter sentences can be used to build tension and highlight key moments. Conclude with a sentence that abruptly shifts the focus to the impending threat.\n",
       "- The interaction with the character from the past should be brief, strained, and filled with subtext. The protagonist should feel a mixture of need and resentment towards them. The relationship with the current friend/partner should be portrayed as comforting and supportive, but not necessarily intensely passionate. Focus on the sense of reliance and gratitude rather than romantic love.\n",
       "- Describe the environment using visual details that imply decay and devastation. Emphasize the sense of isolation and vulnerability. Use sounds sparingly to emphasize moments of tension. Evoke touch to highlight physical discomfort or the impact of the setting on the characters. The setting should feel harsh and unforgiving, reflecting the emotional state of the protagonist.\n",
       "    "
      ],
      "text/plain": [
       "<IPython.core.display.Markdown object>"
      ]
     },
     "metadata": {},
     "output_type": "display_data"
    },
    {
     "name": "stdout",
     "output_type": "stream",
     "text": [
      "{'Adherence to Instructions': 17.0, 'Tone and Voice': 18.0, 'Pacing and Rhythm': 16.0, 'Conciseness and Clarity': 17.0, 'slop_reward': -4.054054054054056}\n"
     ]
    },
    {
     "data": {
      "text/markdown": [
       "The radio crackled to life, a voice from a past I’d rather forget cutting through the static. “You there, Sam?” It was Alex, the one person I never expected to hear from again. The one person I hoped I wouldn’t have to. There was a time when Alex and I were inseparable, but that was before everything fell apart. Before betrayal and bitterness carved a canyon between us. I hesitated, the weight of old wounds pressing down on me like a heavy, suffocating blanket. But I needed the information, and Alex was the only one who had it. “I’m here,” I replied, my voice steady despite the turmoil inside. The exchange was brief, each word a reminder of what was lost and what still lingered between us. I felt a mix of resentment and necessity, a bitter cocktail I had no choice but to swallow.\n",
       "\n",
       "As the connection cut out, I turned to look at Jess, who was busy sorting through our meager supplies. Jess was a constant in this chaos, a steady hand when everything else seemed to be slipping through my fingers. We weren’t bound by passion or romance, but by something deeper, something forged in the fires of shared hardship. Her presence was a balm, a quiet reminder that I wasn’t alone in this desolate world. I felt a pang of gratitude, an appreciation for the simple comfort of her companionship.\n",
       "\n",
       "But before I could dwell on it, a distant rumble shattered the fragile peace. The ground beneath us trembled, and the air was suddenly alive with the sound of approaching danger. My heart leapt into my throat, the sense of impending doom crashing over me like a cold wave. We had to move, and fast.\n",
       "\n",
       "The landscape around us was a testament to decay, a once-thriving city now reduced to ruins and rubble. Buildings stood like skeletal remains against the gray sky, their windows shattered, their walls crumbling. The air was thick with the scent of dust and neglect, a constant reminder of how far we’d fallen. Every step was a reminder of our vulnerability, the ground beneath us uneven and treacherous. The wind whispered through the empty streets, a ghostly presence that seemed to mock our struggle for survival.\n",
       "\n",
       "I felt the rough texture of the cracked pavement under my boots, each step jarring, a reminder of the harsh reality we faced. There was no room for comfort here, no space for complacency. Just the relentless drive to keep moving, to keep surviving. And as the threat loomed ever closer, I couldn’t shake the feeling that our time was running out."
      ],
      "text/plain": [
       "<IPython.core.display.Markdown object>"
      ]
     },
     "metadata": {},
     "output_type": "display_data"
    }
   ],
   "source": [
    "from IPython.display import Markdown\n",
    "for r in results:\n",
    "    display(Markdown(\"#### Sample\"))\n",
    "    display(Markdown(r[\"instruction\"]))\n",
    "    print(r['scores'])\n",
    "    display(Markdown(r[\"completion\"]))"
   ]
  }
 ],
 "metadata": {
  "kernelspec": {
   "display_name": ".venv",
   "language": "python",
   "name": "python3"
  },
  "language_info": {
   "codemirror_mode": {
    "name": "ipython",
    "version": 3
   },
   "file_extension": ".py",
   "mimetype": "text/x-python",
   "name": "python",
   "nbconvert_exporter": "python",
   "pygments_lexer": "ipython3",
   "version": "3.11.11"
  }
 },
 "nbformat": 4,
 "nbformat_minor": 2
}
