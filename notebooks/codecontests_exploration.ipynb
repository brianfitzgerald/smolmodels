{
 "cells": [
  {
   "cell_type": "code",
   "execution_count": 1,
   "metadata": {},
   "outputs": [
    {
     "name": "stderr",
     "output_type": "stream",
     "text": [
      "/Users/brian/smolmodels/.venv/lib/python3.11/site-packages/tqdm/auto.py:21: TqdmWarning: IProgress not found. Please update jupyter and ipywidgets. See https://ipywidgets.readthedocs.io/en/stable/user_install.html\n",
      "  from .autonotebook import tqdm as notebook_tqdm\n"
     ]
    }
   ],
   "source": [
    "from datasets import load_dataset\n",
    "import polars as pl\n",
    "from IPython.display import display, Markdown, Latex, clear_output\n",
    "from collections import defaultdict\n",
    "from tqdm import tqdm\n",
    "import numpy as np\n",
    "import matplotlib.pyplot as plt\n",
    "from rich.syntax import Syntax\n",
    "from rich.console import Console\n",
    "from enum import Enum\n",
    "from functools import partial\n",
    "%load_ext autoreload\n",
    "%autoreload 2"
   ]
  },
  {
   "cell_type": "code",
   "execution_count": 2,
   "metadata": {},
   "outputs": [],
   "source": [
    "import sys\n",
    "sys.path.append('..')\n",
    "from evaluation.code_execution import evaluate_sample_codecontests, evaluate_python_code_exec"
   ]
  },
  {
   "cell_type": "code",
   "execution_count": 3,
   "metadata": {},
   "outputs": [],
   "source": [
    "cc_dataset = load_dataset(\"deepmind/code_contests\")[\"train\"]"
   ]
  },
  {
   "cell_type": "code",
   "execution_count": 4,
   "metadata": {},
   "outputs": [
    {
     "data": {
      "text/plain": [
       "Dataset({\n",
       "    features: ['name', 'description', 'public_tests', 'private_tests', 'generated_tests', 'source', 'difficulty', 'solutions', 'incorrect_solutions', 'cf_contest_id', 'cf_index', 'cf_points', 'cf_rating', 'cf_tags', 'is_description_translated', 'untranslated_description', 'time_limit', 'memory_limit_bytes', 'input_file', 'output_file'],\n",
       "    num_rows: 13328\n",
       "})"
      ]
     },
     "execution_count": 4,
     "metadata": {},
     "output_type": "execute_result"
    }
   ],
   "source": [
    "cc_dataset"
   ]
  },
  {
   "cell_type": "code",
   "execution_count": 21,
   "metadata": {},
   "outputs": [
    {
     "data": {
      "text/plain": [
       "'problem 23, solution 340'"
      ]
     },
     "metadata": {},
     "output_type": "display_data"
    },
    {
     "data": {
      "text/markdown": [
       "```python\n",
       "n,k = map(int, input().split())\n",
       "oo = list()\n",
       "oa = list()\n",
       "ob = list()\n",
       "for i in range(n):\n",
       "\tt,a,b = map(int, input().split())\n",
       "\tif a == 1 and b == 1:\n",
       "\t\too.append(t)\n",
       "\telif a == 0 and b == 1:\n",
       "\t\tob.append(t)\n",
       "\telif a == 1 and b == 0:\n",
       "\t\toa.append(t)\n",
       "\n",
       "oo = sorted(oo)\n",
       "oa = sorted(oa)\n",
       "ob = sorted(ob)\n",
       "\n",
       "oo_p = 0\n",
       "oa_p = 0\n",
       "ob_p = 0\n",
       "\n",
       "ca = 0\n",
       "cb = 0\n",
       "ans = 0\n",
       "MAX = 23942034809238409823048\n",
       "if max(0, max(k-len(oa), k-len(ob))) > len(oo):\n",
       "\tprint(\"-1\")\n",
       "\texit(0)\n",
       "\n",
       "def get_first_elem_from_list(l, pos):\n",
       "\tif pos < len(l):\n",
       "\t\treturn l[pos]\n",
       "\telse:\n",
       "\t\treturn MAX\n",
       "\n",
       "def remove_first_elem_from_list(l, pos):\n",
       "\tif len(l)>pos:\n",
       "\t\tpos += 1\n",
       "\treturn pos\n",
       "while ca < k or cb < k:\n",
       "\too_f = get_first_elem_from_list(oo, oo_p)\n",
       "\toa_f = get_first_elem_from_list(oa, oa_p)\n",
       "\tob_f = get_first_elem_from_list(ob, ob_p)\n",
       "\tif ca < k and cb < k:\n",
       "\t\tif oo_f <= oa_f + ob_f:\n",
       "\t\t\tif oo_f == MAX:\n",
       "\t\t\t\tprint(\"-1\")\n",
       "\t\t\t\texit(0)\n",
       "\t\t\telse:\n",
       "\t\t\t\tca += 1\n",
       "\t\t\t\tcb += 1\n",
       "\t\t\t\tans+=oo_f\n",
       "\t\t\t\too_p = remove_first_elem_from_list(oo, oo_p)\n",
       "\t\telif oa_f + ob_f < oo_f:\n",
       "\t\t\tif oa_f + ob_f >= MAX:\n",
       "\t\t\t\tprint(\"-1\")\n",
       "\t\t\t\texit(0)\n",
       "\t\t\telse:\n",
       "\t\t\t\tca += 1\n",
       "\t\t\t\tcb += 1\n",
       "\t\t\t\tans+=oa_f+ob_f\n",
       "\t\t\t\toa_p = remove_first_elem_from_list(oa, oa_p)\n",
       "\t\t\t\tob_p = remove_first_elem_from_list(ob, ob_p)\n",
       "\telif ca < k:\n",
       "\t\tif oo_f <= oa_f:\n",
       "\t\t\tif oo_f == MAX:\n",
       "\t\t\t\tprint(\"-1\")\n",
       "\t\t\t\texit(0)\n",
       "\t\t\telse:\n",
       "\t\t\t\tca += 1\n",
       "\t\t\t\tans+=oo_f\n",
       "\t\t\t\too_p = remove_first_elem_from_list(oo, oo_p)\n",
       "\t\telif oa_f < oo_f:\n",
       "\t\t\tif oa_f >= MAX:\n",
       "\t\t\t\tprint(\"-1\")\n",
       "\t\t\t\texit(0)\n",
       "\t\t\telse:\n",
       "\t\t\t\tca += 1\n",
       "\t\t\t\tans+=oa_f\n",
       "\t\t\t\toa_p = remove_first_elem_from_list(oa, oa_p)\n",
       "\telse:\n",
       "\t\tif oo_f <= ob_f:\n",
       "\t\t\tif oo_f == MAX:\n",
       "\t\t\t\tprint(\"-1\")\n",
       "\t\t\t\texit(0)\n",
       "\t\t\telse:\n",
       "\t\t\t\tcb += 1\n",
       "\t\t\t\tans+=oo_f\n",
       "\t\t\t\too_p = remove_first_elem_from_list(oo, oo_p)\n",
       "\t\telif ob_f < oo_f:\n",
       "\t\t\tif ob_f >= MAX:\n",
       "\t\t\t\tprint(\"-1\")\n",
       "\t\t\t\texit(0)\n",
       "\t\t\telse:\n",
       "\t\t\t\tcb += 1\n",
       "\t\t\t\tans+=ob_f\n",
       "\t\t\t\tob_p = remove_first_elem_from_list(ob, ob_p)\n",
       "print(ans)\n",
       "\n",
       "\n",
       "```"
      ],
      "text/plain": [
       "<IPython.core.display.Markdown object>"
      ]
     },
     "metadata": {},
     "output_type": "display_data"
    },
    {
     "name": "stderr",
     "output_type": "stream",
     "text": [
      "  0%|          | 23/13328 [00:18<2:56:50,  1.25it/s]\n"
     ]
    },
    {
     "ename": "KeyboardInterrupt",
     "evalue": "",
     "output_type": "error",
     "traceback": [
      "\u001b[0;31m---------------------------------------------------------------------------\u001b[0m",
      "\u001b[0;31mKeyboardInterrupt\u001b[0m                         Traceback (most recent call last)",
      "Cell \u001b[0;32mIn[21], line 61\u001b[0m\n\u001b[1;32m     57\u001b[0m \u001b[38;5;66;03m# print_code_snippet(solution_code, console)\u001b[39;00m\n\u001b[1;32m     59\u001b[0m \u001b[38;5;28;01mfor\u001b[39;00m inputs, outputs \u001b[38;5;129;01min\u001b[39;00m \u001b[38;5;28mzip\u001b[39m(test_inputs, test_outputs):\n\u001b[1;32m     60\u001b[0m     \u001b[38;5;66;03m# each time input is called, it will return the next input value\u001b[39;00m\n\u001b[0;32m---> 61\u001b[0m     out \u001b[38;5;241m=\u001b[39m \u001b[43mevaluate_python_code_exec\u001b[49m\u001b[43m(\u001b[49m\u001b[43msolution_code\u001b[49m\u001b[43m,\u001b[49m\u001b[43m \u001b[49m\u001b[43minputs\u001b[49m\u001b[43m)\u001b[49m\n",
      "File \u001b[0;32m~/smolmodels/notebooks/../evaluation/code_execution.py:220\u001b[0m, in \u001b[0;36mevaluate_python_code_exec\u001b[0;34m(code_to_run, test_inputs, timeout)\u001b[0m\n\u001b[1;32m    218\u001b[0m     \u001b[38;5;28;01mwith\u001b[39;00m swallow_io():\n\u001b[1;32m    219\u001b[0m         \u001b[38;5;28;01mwith\u001b[39;00m time_limit(timeout):\n\u001b[0;32m--> 220\u001b[0m             exec(code_to_run, exec_globals)\n\u001b[1;32m    221\u001b[0m     result\u001b[38;5;241m.\u001b[39mappend(\u001b[38;5;124m\"\u001b[39m\u001b[38;5;124mpassed\u001b[39m\u001b[38;5;124m\"\u001b[39m)\n\u001b[1;32m    222\u001b[0m \u001b[38;5;28;01mexcept\u001b[39;00m TimeoutException:\n",
      "File \u001b[0;32m<string>:42\u001b[0m\n",
      "File \u001b[0;32m<string>:30\u001b[0m, in \u001b[0;36mget_first_elem_from_list\u001b[0;34m(l, pos)\u001b[0m\n",
      "\u001b[0;31mKeyboardInterrupt\u001b[0m: "
     ]
    }
   ],
   "source": [
    "# console = Console()\n",
    "\n",
    "first_n_samples = {}\n",
    "\n",
    "\n",
    "class Language(Enum):\n",
    "    UNKNOWN = 0\n",
    "    PYTHON = 1\n",
    "    CPP = 2\n",
    "    PYTHON3 = 3\n",
    "    JAVA = 4\n",
    "\n",
    "class ProblemSource(Enum):\n",
    "    UNKNOWN = 0\n",
    "    CODECHEF = 1\n",
    "    CODEFORCES = 2\n",
    "    HACKEREARTH = 3\n",
    "    CODEJAM = 4\n",
    "    ATCODER = 5\n",
    "    AIZU = 6\n",
    "\n",
    "def print_code_snippet(snippet: str, console: Console):\n",
    "    formatted_snippet = Syntax(\n",
    "        snippet,\n",
    "        \"python\",\n",
    "        theme=\"monokai\",\n",
    "        line_numbers=True,\n",
    "    )\n",
    "    console.print(formatted_snippet)\n",
    "\n",
    "\n",
    "sample_lang_counts = defaultdict(int)\n",
    "for i, sample in enumerate(tqdm(cc_dataset)):\n",
    "    for k, v in sample.items():  # type: ignore\n",
    "        if k not in first_n_samples:\n",
    "            first_n_samples[k] = []\n",
    "        first_n_samples[k].append(v)\n",
    "    description = sample[\"description\"]\n",
    "    test_inputs = sample[\"public_tests\"][\"input\"] + sample[\"private_tests\"][\"input\"]\n",
    "    test_outputs = sample[\"public_tests\"][\"output\"] + sample[\"private_tests\"][\"output\"]\n",
    "    problem_source = ProblemSource(sample[\"source\"])\n",
    "    has_passing_test = False\n",
    "    # console.clear()\n",
    "    # console.print(description)\n",
    "    for j, (lang_txt, solution_code) in enumerate(zip(\n",
    "        sample[\"solutions\"][\"language\"], sample[\"solutions\"][\"solution\"]\n",
    "    )):\n",
    "        language = Language(lang_txt)\n",
    "        sample_lang_counts[language] += 1\n",
    "        if language != Language.PYTHON3:\n",
    "            continue\n",
    "\n",
    "        solution_code = solution_code.replace(\"sys.exit\", \"exit\")\n",
    "        clear_output(wait=True)\n",
    "        display(f\"problem {i}, solution {j}\")\n",
    "        display(Markdown(f\"```python\\n{solution_code}\\n```\"))\n",
    "        # print_code_snippet(solution_code, console)\n",
    "\n",
    "        for inputs, outputs in zip(test_inputs, test_outputs):\n",
    "            # each time input is called, it will return the next input value\n",
    "            out = evaluate_python_code_exec(solution_code, inputs)\n"
   ]
  },
  {
   "cell_type": "code",
   "execution_count": null,
   "metadata": {},
   "outputs": [],
   "source": [
    "sample_lang_counts"
   ]
  }
 ],
 "metadata": {
  "kernelspec": {
   "display_name": ".venv",
   "language": "python",
   "name": "python3"
  },
  "language_info": {
   "codemirror_mode": {
    "name": "ipython",
    "version": 3
   },
   "file_extension": ".py",
   "mimetype": "text/x-python",
   "name": "python",
   "nbconvert_exporter": "python",
   "pygments_lexer": "ipython3",
   "version": "3.11.2"
  }
 },
 "nbformat": 4,
 "nbformat_minor": 2
}
