{
 "cells": [
  {
   "cell_type": "code",
   "execution_count": 3,
   "metadata": {},
   "outputs": [
    {
     "name": "stderr",
     "output_type": "stream",
     "text": [
      "/Users/brian/smolmodels/.venv/lib/python3.11/site-packages/tqdm/auto.py:21: TqdmWarning: IProgress not found. Please update jupyter and ipywidgets. See https://ipywidgets.readthedocs.io/en/stable/user_install.html\n",
      "  from .autonotebook import tqdm as notebook_tqdm\n"
     ]
    }
   ],
   "source": [
    "from datasets import load_dataset, Dataset\n",
    "from IPython.display import display, Markdown\n",
    "from tqdm import tqdm\n",
    "from rich.syntax import Syntax\n",
    "from rich.console import Console\n",
    "import pandas as pd\n",
    "from enum import Enum\n",
    "%load_ext autoreload\n",
    "%autoreload 2"
   ]
  },
  {
   "cell_type": "code",
   "execution_count": 5,
   "metadata": {},
   "outputs": [],
   "source": [
    "import sys\n",
    "sys.path.append('..')\n",
    "from evaluation.code_execution import evaluate_sample_codecontests, evaluate_python_code_exec, print_code_snippet, ProblemSource, Difficulty, Language"
   ]
  },
  {
   "cell_type": "code",
   "execution_count": 3,
   "metadata": {},
   "outputs": [],
   "source": [
    "# https://huggingface.co/datasets/deepmind/code_contests\n",
    "cc_dataset = load_dataset(\"deepmind/code_contests\")[\"train\"]"
   ]
  },
  {
   "cell_type": "code",
   "execution_count": 7,
   "metadata": {},
   "outputs": [
    {
     "name": "stderr",
     "output_type": "stream",
     "text": [
      "100%|██████████| 13328/13328 [01:03<00:00, 210.40it/s, n_samples=5213]\n"
     ]
    }
   ],
   "source": [
    "console = Console()\n",
    "\n",
    "\n",
    "first_n_samples = []\n",
    "\n",
    "iterator = tqdm(cc_dataset)\n",
    "for i, sample in enumerate(iterator):\n",
    "    description = sample[\"description\"]\n",
    "    test_inputs = sample[\"public_tests\"][\"input\"] + sample[\"private_tests\"][\"input\"]\n",
    "    test_outputs = sample[\"public_tests\"][\"output\"] + sample[\"private_tests\"][\"output\"]\n",
    "    problem_source = ProblemSource(sample[\"source\"])\n",
    "    difficulty = Difficulty(sample[\"difficulty\"])\n",
    "\n",
    "    should_keep_problem = True\n",
    "\n",
    "    if problem_source != ProblemSource.CODEFORCES:\n",
    "        should_keep_problem = False\n",
    "\n",
    "    if sample[\"is_description_translated\"]:  # type: ignore\n",
    "        should_keep_problem = False\n",
    "\n",
    "    if sample[\"input_file\"] or sample[\"output_file\"]:  # type: ignore\n",
    "        should_keep_problem = False\n",
    "\n",
    "    if len(sample[\"private_tests\"][\"input\"]) == 0:\n",
    "        should_keep_problem = False\n",
    "\n",
    "    # console.clear()\n",
    "    # console.print(description)\n",
    "    # display(Markdown(description))\n",
    "\n",
    "    has_python_solution = False\n",
    "\n",
    "    for j, (lang_txt, solution_code) in enumerate(\n",
    "        zip(sample[\"solutions\"][\"language\"], sample[\"solutions\"][\"solution\"])\n",
    "    ):\n",
    "        language = Language(lang_txt)\n",
    "        if language == Language.PYTHON3:\n",
    "            has_python_solution = True\n",
    "            break\n",
    "\n",
    "        # solution_code = solution_code.replace(\"sys.exit\", \"exit\")\n",
    "        # # clear_output(wait=True)\n",
    "        # display(f\"problem {i}, solution {j}\")\n",
    "        # display(Markdown(f\"```python\\n{solution_code}\\n```\"))\n",
    "        # print_code_snippet(solution_code, console)\n",
    "\n",
    "        # for inputs, outputs in zip(test_inputs, test_outputs):\n",
    "        #     # each time input is called, it will return the next input value\n",
    "        #     out = evaluate_python_code_exec(solution_code, inputs)\n",
    "\n",
    "    if not has_python_solution:\n",
    "        should_keep_problem = False\n",
    "\n",
    "    if should_keep_problem:\n",
    "        sample_to_keep = {\n",
    "            \"source\": problem_source,\n",
    "            \"difficulty\": difficulty,\n",
    "        }\n",
    "        for key in (\"name\", \"description\", \"public_tests\", \"private_tests\", \"cf_rating\", \"cf_points\"):\n",
    "            sample_to_keep[key] = sample[key]\n",
    "        first_n_samples.append(sample_to_keep)\n",
    "    \n",
    "    iterator.set_postfix({\"n_samples\": len(first_n_samples)})\n",
    "\n",
    "    if len(first_n_samples) > 10000:\n",
    "        break\n",
    "\n",
    "first_n_df = pd.DataFrame(first_n_samples)"
   ]
  },
  {
   "cell_type": "code",
   "execution_count": null,
   "metadata": {},
   "outputs": [],
   "source": [
    "for i, problem in enumerate(cc_dataset):\n",
    "    val = f\"### Problem {i}: {problem['name']}\\n{problem['description']}\"\n",
    "    display(Markdown(val))"
   ]
  },
  {
   "cell_type": "code",
   "execution_count": 8,
   "metadata": {},
   "outputs": [
    {
     "name": "stderr",
     "output_type": "stream",
     "text": [
      "Creating parquet from Arrow format: 100%|██████████| 6/6 [00:00<00:00, 24.01ba/s]\n"
     ]
    },
    {
     "data": {
      "text/plain": [
       "204624800"
      ]
     },
     "execution_count": 8,
     "metadata": {},
     "output_type": "execute_result"
    }
   ],
   "source": [
    "\n",
    "for col in first_n_df.columns:\n",
    "    if pd.api.types.is_object_dtype(first_n_df[col]) and isinstance(first_n_df[col].iloc[0], Enum):\n",
    "        first_n_df[col] = first_n_df[col].apply(lambda x: x.value if isinstance(x, Enum) else x)\n",
    "\n",
    "Dataset.from_pandas(first_n_df).to_parquet(\"dataset_samples/codeforces_problems_subset.parquet\")"
   ]
  },
  {
   "cell_type": "code",
   "execution_count": 4,
   "metadata": {},
   "outputs": [
    {
     "data": {
      "text/plain": [
       "{'source': 2,\n",
       " 'difficulty': 11,\n",
       " 'name': '1037_E. Trips',\n",
       " 'description': \"There are n persons who initially don't know each other. On each morning, two of them, who were not friends before, become friends.\\n\\nWe want to plan a trip for every evening of m days. On each trip, you have to select a group of people that will go on the trip. For every person, one of the following should hold: \\n\\n  * Either this person does not go on the trip, \\n  * Or at least k of his friends also go on the trip. \\n\\n\\n\\nNote that the friendship is not transitive. That is, if a and b are friends and b and c are friends, it does not necessarily imply that a and c are friends.\\n\\nFor each day, find the maximum number of people that can go on the trip on that day.\\n\\nInput\\n\\nThe first line contains three integers n, m, and k (2 ≤ n ≤ 2 ⋅ 10^5, 1 ≤ m ≤ 2 ⋅ 10^5, 1 ≤ k < n) — the number of people, the number of days and the number of friends each person on the trip should have in the group.\\n\\nThe i-th (1 ≤ i ≤ m) of the next m lines contains two integers x and y (1≤ x, y≤ n, x≠ y), meaning that persons x and y become friends on the morning of day i. It is guaranteed that x and y were not friends before.\\n\\nOutput\\n\\nPrint exactly m lines, where the i-th of them (1≤ i≤ m) contains the maximum number of people that can go on the trip on the evening of the day i.\\n\\nExamples\\n\\nInput\\n\\n4 4 2\\n2 3\\n1 2\\n1 3\\n1 4\\n\\n\\nOutput\\n\\n0\\n0\\n3\\n3\\n\\n\\nInput\\n\\n5 8 2\\n2 1\\n4 2\\n5 4\\n5 2\\n4 3\\n5 1\\n4 1\\n3 2\\n\\n\\nOutput\\n\\n0\\n0\\n0\\n3\\n3\\n4\\n4\\n5\\n\\n\\nInput\\n\\n5 7 2\\n1 5\\n3 2\\n2 5\\n3 4\\n1 2\\n5 3\\n1 3\\n\\n\\nOutput\\n\\n0\\n0\\n0\\n0\\n3\\n4\\n4\\n\\nNote\\n\\nIn the first example, \\n\\n  * 1,2,3 can go on day 3 and 4. \\n\\n\\n\\nIn the second example, \\n\\n  * 2,4,5 can go on day 4 and 5. \\n  * 1,2,4,5 can go on day 6 and 7. \\n  * 1,2,3,4,5 can go on day 8. \\n\\n\\n\\nIn the third example, \\n\\n  * 1,2,5 can go on day 5. \\n  * 1,2,3,5 can go on day 6 and 7. \",\n",
       " 'public_tests': {'input': ['4 4 2\\n2 3\\n1 2\\n1 3\\n1 4\\n',\n",
       "   '5 8 2\\n2 1\\n4 2\\n5 4\\n5 2\\n4 3\\n5 1\\n4 1\\n3 2\\n',\n",
       "   '5 7 2\\n1 5\\n3 2\\n2 5\\n3 4\\n1 2\\n5 3\\n1 3\\n'],\n",
       "  'output': ['0\\n0\\n3\\n3\\n',\n",
       "   '0\\n0\\n0\\n3\\n3\\n4\\n4\\n5\\n',\n",
       "   '0\\n0\\n0\\n0\\n3\\n4\\n4\\n']},\n",
       " 'private_tests': {'input': ['16 20 2\\n10 3\\n5 3\\n10 5\\n12 7\\n7 6\\n9 12\\n9 6\\n1 10\\n11 16\\n11 1\\n16 2\\n10 2\\n14 4\\n15 14\\n4 13\\n13 15\\n1 8\\n7 15\\n1 7\\n8 15\\n',\n",
       "   '2 1 1\\n2 1\\n'],\n",
       "  'output': ['0\\n0\\n3\\n3\\n3\\n3\\n7\\n7\\n7\\n7\\n7\\n11\\n11\\n11\\n11\\n15\\n15\\n15\\n15\\n16\\n',\n",
       "   '2\\n']},\n",
       " 'cf_rating': 2200,\n",
       " 'cf_points': 2250.0}"
      ]
     },
     "execution_count": 4,
     "metadata": {},
     "output_type": "execute_result"
    }
   ],
   "source": [
    "test_df = Dataset.from_parquet(\"../dataset_samples/codeforces_problems_subset.parquet\")\n",
    "test_df[0]"
   ]
  },
  {
   "cell_type": "code",
   "execution_count": 5,
   "metadata": {},
   "outputs": [
    {
     "name": "stderr",
     "output_type": "stream",
     "text": [
      "Creating parquet from Arrow format: 100%|██████████| 3/3 [00:00<00:00, 12.73ba/s]\n",
      "Uploading the dataset shards: 100%|██████████| 1/1 [00:02<00:00,  2.61s/it]\n"
     ]
    },
    {
     "data": {
      "text/plain": [
       "CommitInfo(commit_url='https://huggingface.co/datasets/roborovski/codeforces_problems_subset/commit/cbfb4e8e4e87b814a2dc27dcd3ba81608cb2ddbf', commit_message='Upload dataset', commit_description='', oid='cbfb4e8e4e87b814a2dc27dcd3ba81608cb2ddbf', pr_url=None, repo_url=RepoUrl('https://huggingface.co/datasets/roborovski/codeforces_problems_subset', endpoint='https://huggingface.co', repo_type='dataset', repo_id='roborovski/codeforces_problems_subset'), pr_revision=None, pr_num=None)"
      ]
     },
     "execution_count": 5,
     "metadata": {},
     "output_type": "execute_result"
    }
   ],
   "source": [
    "test_df.push_to_hub(\"codeforces_problems_subset\")\n"
   ]
  },
  {
   "cell_type": "code",
   "execution_count": null,
   "metadata": {},
   "outputs": [],
   "source": [
    "test_code = \"\"\"\n",
    "def solution(problem_input):\n",
    "    n, m, k = map(int, problem_input[0].split())\n",
    "    edges = [list(map(int, line.split())) for line in problem_input[1:]]\n",
    "    print(problem_input)\n",
    "\n",
    "    adj = [[] for _ in range(n + 1)]\n",
    "\n",
    "    results = []\n",
    "    for i in range(m):\n",
    "        adj[edges[i][0]].append(edges[i][1])\n",
    "        adj[edges[i][1]].append(edges[i][0])\n",
    "\n",
    "        max_people = 0\n",
    "        for j in range(1 << n):\n",
    "            group = []\n",
    "            for bit in range(n):\n",
    "                if (j >> bit) & 1:\n",
    "                    group.append(bit + 1)\n",
    "\n",
    "            valid_group = True\n",
    "            for person in group:\n",
    "                friend_count = 0\n",
    "                for friend in adj[person]:\n",
    "                    if friend in group:\n",
    "                        friend_count += 1\n",
    "                if friend_count < k:\n",
    "                    valid_group = False\n",
    "                    break\n",
    "\n",
    "            if valid_group:\n",
    "                max_people = max(max_people, len(group))\n",
    "        results.append(max_people)\n",
    "    return results\n",
    "\"\"\"\n",
    "\n",
    "tests = {\n",
    "    \"input\": [\n",
    "        \"4 4 2\\n2 3\\n1 2\\n1 3\\n1 4\\n\",\n",
    "        \"5 8 2\\n2 1\\n4 2\\n5 4\\n5 2\\n4 3\\n5 1\\n4 1\\n3 2\\n\",\n",
    "        \"5 7 2\\n1 5\\n3 2\\n2 5\\n3 4\\n1 2\\n5 3\\n1 3\\n\",\n",
    "    ],\n",
    "    \"output\": [\"0\\n0\\n3\\n3\\n\", \"0\\n0\\n0\\n3\\n3\\n4\\n4\\n5\\n\", \"0\\n0\\n0\\n0\\n3\\n4\\n4\\n\"],\n",
    "}\n",
    "\n",
    "for test_input, test_output in zip(tests[\"input\"], tests[\"output\"]):\n",
    "    err, out = evaluate_python_code_exec(test_code, test_input)\n",
    "    output_list = test_output.strip().split(\"\\n\")\n",
    "    print(out, output_list)"
   ]
  },
  {
   "cell_type": "code",
   "execution_count": null,
   "metadata": {},
   "outputs": [],
   "source": [
    "subset_ds = load_dataset(\"roborovski/codeforces_problems_subset\")\n",
    "subset_df = subset_ds[\"train\"].to_pandas()"
   ]
  },
  {
   "cell_type": "code",
   "execution_count": null,
   "metadata": {},
   "outputs": [],
   "source": [
    "console = Console()\n",
    "n_printed = 0\n",
    "for i, problem in enumerate(cc_dataset):\n",
    "    description = problem[\"description\"]\n",
    "    # display(Markdown(f\"### Problem {i}: {problem['name']}\\n{description}\"))\n",
    "\n",
    "    for j, (lang_txt, solution_code) in enumerate(\n",
    "        zip(problem[\"solutions\"][\"language\"], problem[\"solutions\"][\"solution\"])\n",
    "    ):\n",
    "        if Language(lang_txt) != Language.PYTHON3:\n",
    "            continue\n",
    "        print_code_snippet(solution_code, console)\n",
    "        n_printed += 1\n",
    "    \n",
    "    if n_printed > 5:\n",
    "        break"
   ]
  }
 ],
 "metadata": {
  "kernelspec": {
   "display_name": ".venv",
   "language": "python",
   "name": "python3"
  },
  "language_info": {
   "codemirror_mode": {
    "name": "ipython",
    "version": 3
   },
   "file_extension": ".py",
   "mimetype": "text/x-python",
   "name": "python",
   "nbconvert_exporter": "python",
   "pygments_lexer": "ipython3",
   "version": "3.11.2"
  }
 },
 "nbformat": 4,
 "nbformat_minor": 2
}
