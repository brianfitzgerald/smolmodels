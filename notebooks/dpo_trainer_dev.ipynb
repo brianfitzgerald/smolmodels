{
 "cells": [
  {
   "cell_type": "code",
   "execution_count": 25,
   "metadata": {},
   "outputs": [
    {
     "name": "stdout",
     "output_type": "stream",
     "text": [
      "The autoreload extension is already loaded. To reload it, use:\n",
      "  %reload_ext autoreload\n"
     ]
    }
   ],
   "source": [
    "import sys\n",
    "\n",
    "sys.path.append(\"..\")\n",
    "%load_ext autoreload\n",
    "%autoreload 2\n",
    "from trl_wrapper.trainer_wrapper import TrainerWrapper, GUTENBERG_CONFIG, GUTENBERG_DPO_CONFIG, SMOL_LM_135M"
   ]
  },
  {
   "cell_type": "code",
   "execution_count": 26,
   "metadata": {},
   "outputs": [
    {
     "data": {
      "text/plain": [
       "WrapperConfig(model_id_or_path='HuggingFaceTB/SmolLM2-135M-Instruct', using_mistral=False, adapter_path=None, notebook_mode=True, wandb_project_name='gutenberg', run_suffix='gutenberg-dpo', special_tokens=None, data_module_choice='conversation_dpo', dataset_path='jondurbin/gutenberg-dpo-v0.1', custom_chat_template='llama3', eval_data_mode='random', max_samples=800, max_eval_dataset_size=None, eval_steps=500, save_steps=1000, max_sequence_length=1512, max_prompt_length=1024, max_eval_sample_length=1024, max_completion_length=200, train_batch_size=8, eval_batch_size=2, gradient_accumulation_steps=2, gradient_checkpointing=True, n_epochs=5, train_on_inputs=True, learning_rate=1e-06, max_grad_norm=0.3, lr_scheduler=<SchedulerType.CONSTANT: 'constant'>, optimizer='adafactor', neftune_noise_alpha=None, dpo_beta=0.1, tuning_mode='dpo', use_lora=False, lora_rank=256, lora_dropout=0.05, lora_alpha=128, logprob_precompute_batch_size=16, use_vllm=False, num_generations=1)"
      ]
     },
     "execution_count": 26,
     "metadata": {},
     "output_type": "execute_result"
    }
   ],
   "source": [
    "cfg = GUTENBERG_DPO_CONFIG\n",
    "cfg.notebook_mode = True\n",
    "cfg.model_id_or_path = SMOL_LM_135M\n",
    "cfg.max_samples = 800\n",
    "wrapper = TrainerWrapper(cfg)\n",
    "cfg"
   ]
  },
  {
   "cell_type": "code",
   "execution_count": 27,
   "metadata": {},
   "outputs": [
    {
     "name": "stderr",
     "output_type": "stream",
     "text": [
      "\u001b[32m2025-02-22 10:19:42.468\u001b[0m | \u001b[1mINFO    \u001b[0m | \u001b[36mtrl_wrapper.trainer_wrapper\u001b[0m:\u001b[36minit_model\u001b[0m:\u001b[36m293\u001b[0m - \u001b[1mLoading model HuggingFaceTB/SmolLM2-135M-Instruct with attn_impl: sdpa\u001b[0m\n"
     ]
    }
   ],
   "source": [
    "wrapper.init_model()"
   ]
  },
  {
   "cell_type": "code",
   "execution_count": 28,
   "metadata": {},
   "outputs": [
    {
     "name": "stderr",
     "output_type": "stream",
     "text": [
      "\u001b[32m2025-02-22 10:19:43.924\u001b[0m | \u001b[1mINFO    \u001b[0m | \u001b[36mtrl_wrapper.trainer_wrapper\u001b[0m:\u001b[36minit_data_module\u001b[0m:\u001b[36m314\u001b[0m - \u001b[1mUsing dataset path: jondurbin/gutenberg-dpo-v0.1\u001b[0m\n",
      "\u001b[32m2025-02-22 10:19:43.924\u001b[0m | \u001b[1mINFO    \u001b[0m | \u001b[36mmodel.utils\u001b[0m:\u001b[36m__init__\u001b[0m:\u001b[36m118\u001b[0m - \u001b[1mCache dir: ../dataset_caches/conversation_d_p_o_data_module\u001b[0m\n",
      "\u001b[32m2025-02-22 10:19:43.925\u001b[0m | \u001b[1mINFO    \u001b[0m | \u001b[36mmodel.utils\u001b[0m:\u001b[36msetup\u001b[0m:\u001b[36m159\u001b[0m - \u001b[1mLoading dataset for stage fit\u001b[0m\n",
      "\u001b[32m2025-02-22 10:19:43.925\u001b[0m | \u001b[1mINFO    \u001b[0m | \u001b[36mmodel.utils\u001b[0m:\u001b[36msetup\u001b[0m:\u001b[36m162\u001b[0m - \u001b[1mProcessing dataset for stage fit, workers: 1, cache dir ../dataset_caches/conversation_d_p_o_data_module, using cache: False\u001b[0m\n",
      "\u001b[32m2025-02-22 10:19:43.925\u001b[0m | \u001b[1mINFO    \u001b[0m | \u001b[36mmodel.utils\u001b[0m:\u001b[36minit_dataset\u001b[0m:\u001b[36m137\u001b[0m - \u001b[1mDataset not found at expected local location ../jondurbin/gutenberg-dpo-v0.1, loading from remote: jondurbin/gutenberg-dpo-v0.1\u001b[0m\n",
      "\u001b[32m2025-02-22 10:19:46.755\u001b[0m | \u001b[1mINFO    \u001b[0m | \u001b[36mmodel.utils\u001b[0m:\u001b[36minit_dataset\u001b[0m:\u001b[36m144\u001b[0m - \u001b[1mSelecting 800 samples\u001b[0m\n",
      "\u001b[32m2025-02-22 10:19:46.759\u001b[0m | \u001b[1mINFO    \u001b[0m | \u001b[36mmodel.utils\u001b[0m:\u001b[36minit_dataset\u001b[0m:\u001b[36m154\u001b[0m - \u001b[1mLoading custom chat template: ../chat_templates/llama3.jinja\u001b[0m\n",
      "\u001b[32m2025-02-22 10:19:46.760\u001b[0m | \u001b[1mINFO    \u001b[0m | \u001b[36mmodel.utils\u001b[0m:\u001b[36msetup\u001b[0m:\u001b[36m171\u001b[0m - \u001b[1mTrain dataset samples: 720 Val dataset samples: 80 Train steps per epoch: 90\u001b[0m\n",
      "Map: 100%|██████████| 720/720 [00:00<00:00, 25949.72 examples/s]\n",
      "Map: 100%|██████████| 80/80 [00:00<00:00, 15948.68 examples/s]\n"
     ]
    }
   ],
   "source": [
    "wrapper.init_data_module()"
   ]
  },
  {
   "cell_type": "code",
   "execution_count": 29,
   "metadata": {},
   "outputs": [
    {
     "data": {
      "text/plain": [
       "{'id': '30a5323c-ba20-5889-bd24-f14e47523d10',\n",
       " 'source': 'gutenberg Pride and Prejudice',\n",
       " 'chosen': '] When the ladies removed after dinner Elizabeth ran up to her sister, and seeing her well guarded from cold, attended her into the drawing-room, where she was welcomed by her two friends with many professions of pleasure; and Elizabeth had never seen them so agreeable as they were during the hour which passed before the gentlemen appeared. Their powers of conversation were considerable. They could describe an entertainment with accuracy, relate an anecdote with humour, and laugh at their acquaintance with spirit.\\n\\nBut when the gentlemen entered, Jane was no longer the first object; Miss Bingley’s eyes were instantly turned towards Darcy, and she had something to say to him before he had advanced many steps. He addressed himself directly to Miss Bennet with a polite congratulation; Mr. Hurst also made her a slight bow, and said he was “very glad;” but diffuseness and warmth remained for Bingley’s salutation. He was full of joy and attention. The first half hour was spent in piling up the fire, lest she should suffer from the change of room; and she removed, at his desire, to the other side of the fireplace, that she might be farther from the door. He then sat down by her, and talked scarcely to anyone else.\\nElizabeth, at work in the opposite corner, saw it all with great delight.\\n\\nWhen tea was over Mr. Hurst reminded his sister-in-law of the card-table--but in vain. She had obtained private intelligence that Mr.\\nDarcy did not wish for cards, and Mr. Hurst soon found even his open petition rejected. She assured him that no one intended to play, and the silence of the whole party on the subject seemed to justify her. Mr.\\nHurst had, therefore, nothing to do but to stretch himself on one of the sofas and go to sleep. Darcy took up a book. Miss Bingley did the same; and Mrs. Hurst, principally occupied in playing with her bracelets and rings, joined now and then in her brother’s conversation with Miss Bennet.\\n\\nMiss Bingley’s attention was quite as much engaged in watching Mr.\\nDarcy’s progress through _his_ book, as in reading her own; and she was perpetually either making some inquiry, or looking at his page. She could not win him, however, to any conversation; he merely answered her question and read on. At length, quite exhausted by the attempt to be amused with her own book, which she had only chosen because it was the second volume of his, she gave a great yawn and said, “How pleasant it is to spend an evening in this way! I declare, after all, there is no enjoyment like reading! How much sooner one tires of anything than of a book! When I have a house of my own, I shall be miserable if I have not an excellent library.” No one made any reply. She then yawned again, threw aside her book, and cast her eyes round the room in quest of some amusement; when, hearing her brother mentioning a ball to Miss Bennet, she turned suddenly towards him and said,--\\n\\n“By the bye Charles, are you really serious in meditating a dance at Netherfield? I would advise you, before you determine on it, to consult the wishes of the present party; I am much mistaken if there are not some among us to whom a ball would be rather a punishment than a pleasure.”\\n\\n“If you mean Darcy,” cried her brother, “he may go to bed, if he chooses, before it begins; but as for the ball, it is quite a settled thing, and as soon as Nicholls has made white soup enough I shall send round my cards.”\\n\\n“I should like balls infinitely better,” she replied, “if they were carried on in a different manner; but there is something insufferably tedious in the usual process of such a meeting. It would surely be much more rational if conversation instead of dancing made the order of the day.”\\n\\n“Much more rational, my dear Caroline, I dare say; but it would not be near so much like a ball.” Miss Bingley made no answer, and soon afterwards got up and walked about the room. Her figure was elegant, and she walked well; but Darcy, at whom it was all aimed, was still inflexibly studious. In the desperation of her feelings, she resolved on one effort more; and, turning to Elizabeth, said,--\\n\\n“Miss Eliza Bennet, let me persuade you to follow my example, and take a turn about the room. I assure you it is very refreshing after sitting so long in one attitude.” Elizabeth was surprised, but agreed to it immediately. Miss Bingley succeeded no less in the real object of her civility: Mr. Darcy looked up. He was as much awake to the novelty of attention in that quarter as Elizabeth herself could be, and unconsciously closed his book. He was directly invited to join their party, but he declined it, observing that he could imagine but two motives for their choosing to walk up and down the room together, with either of which motives his joining them would interfere. What could he mean? She was dying to know what could be his meaning--and asked Elizabeth whether she could at all understand him.\\n\\n“Not at all,” was her answer; “but, depend upon it, he means to be severe on us, and our surest way of disappointing him will be to ask nothing about it.” Miss Bingley, however, was incapable of disappointing Mr. Darcy in anything, and persevered, therefore, in requiring an explanation of his two motives.\\n\\n“I have not the smallest objection to explaining them,” said he, as soon as she allowed him to speak. “You either choose this method of passing the evening because you are in each other’s confidence, and have secret affairs to discuss, or because you are conscious that your figures appear to the greatest advantage in walking: if the first, I should be completely in your way; and if the second, I can admire you much better as I sit by the fire.”\\n\\n“Oh, shocking!” cried Miss Bingley. “I never heard anything so abominable. How shall we punish him for such a speech?”\\n\\n“Nothing so easy, if you have but the inclination,” said Elizabeth. “We can all plague and punish one another. Tease him--laugh at him. Intimate as you are, you must know how it is to be done.”\\n\\n“But upon my honour I do _not_. I do assure you that my intimacy has not yet taught me _that_. Tease calmness of temper and presence of mind! No, no; I feel he may defy us there. And as to laughter, we will not expose ourselves, if you please, by attempting to laugh without a subject. Mr.\\nDarcy may hug himself.”\\n\\n“Mr. Darcy is not to be laughed at!” cried Elizabeth. “That is an uncommon advantage, and uncommon I hope it will continue, for it would be a great loss to _me_ to have many such acquaintance. I dearly love a laugh.”\\n\\n“Miss Bingley,” said he, “has given me credit for more than can be. The wisest and best of men,--nay, the wisest and best of their actions,--may be rendered ridiculous by a person whose first object in life is a joke.”\\n\\n“Certainly,” replied Elizabeth, “there are such people, but I hope I am not one of _them_. I hope I never ridicule what is wise or good. Follies and nonsense, whims and inconsistencies, _do_ divert me, I own, and I laugh at them whenever I can. But these, I suppose, are precisely what you are without.”\\n\\n“Perhaps that is not possible for anyone. But it has been the study of my life to avoid those weaknesses which often expose a strong understanding to ridicule.”\\n\\n“Such as vanity and pride.”\\n\\n“Yes, vanity is a weakness indeed. But pride--where there is a real superiority of mind--pride will be always under good regulation.” Elizabeth turned away to hide a smile.\\n\\n“Your examination of Mr. Darcy is over, I presume,” said Miss Bingley;\\n“and pray what is the result?”\\n\\n“I am perfectly convinced by it that Mr. Darcy has no defect. He owns it himself without disguise.”\\n\\n“No,” said Darcy, “I have made no such pretension. I have faults enough, but they are not, I hope, of understanding. My temper I dare not vouch for. It is, I believe, too little yielding; certainly too little for the convenience of the world. I cannot forget the follies and vices of others so soon as I ought, nor their offences against myself. My feelings are not puffed about with every attempt to move them. My temper would perhaps be called resentful. My good opinion once lost is lost for ever.”\\n\\n“_That_ is a failing, indeed!” cried Elizabeth. “Implacable resentment\\n_is_ a shade in a character. But you have chosen your fault well. I really cannot _laugh_ at it. You are safe from me.”\\n\\n“There is, I believe, in every disposition a tendency to some particular evil, a natural defect, which not even the best education can overcome.”\\n\\n“And _your_ defect is a propensity to hate everybody.”\\n\\n“And yours,” he replied, with a smile, “is wilfully to misunderstand them.”\\n\\n“Do let us have a little music,” cried Miss Bingley, tired of a conversation in which she had no share. “Louisa, you will not mind my waking Mr. Hurst.” Her sister made not the smallest objection, and the pianoforte was opened; and Darcy, after a few moments’ recollection, was not sorry for it. He began to feel the danger of paying Elizabeth too much attention.\\n\\n\\n\\n\\n]',\n",
       " 'rejected': \"The grandeur of the Pemberley drawing-room was an exquisite sight to behold. Lavishly adorned with gilded mirrors, intricate tapestries, and opulent furnishings, it was a testament to the refined taste of its master, Mr. Darcy. The room was bathed in a soft, warm light that emanated from the tall windows draped in heavy silk curtains, casting a gentle glow upon the company gathered within.\\n\\nAs the ladies took their seats, the scent of lilacs and roses mingled with the fragrant perfume of the season's latest offerings, creating an atmosphere of elegance and sophistication. The evening's conversation flowed effortlessly, punctuated by the occasional peal of laughter, as the guests engaged in spirited debate and shared amusing anecdotes.\\n\\nMiss Elizabeth Bennet, ever the keen observer, found herself captivated by the interplay of emotions and social maneuverings that took place around her. Her sister Jane, seated regally in a high-backed chair, engaged in a lively exchange with Mr. Bingley, her eyes shining with joy and attention as she listened intently to his every word. His brother, Mr. Fitzwilliam Darcy, leaned against the mantelpiece, his expression stoic and inscrutable as he watched the scene unfold.\\n\\nMiss Bingley, ever the ambitious one, flitted around the room like a restless moth, her eyes never straying far from her mark. She engaged in polite conversation with the guests, her voice dripping with insincere charm as she deftly navigated the social labyrinth. However, it was clear that her true attention lay elsewhere - on Mr. Darcy, who remained an enigma to her and to all who attempted to pierce his impenetrable exterior.\\n\\nAs the evening wore on, the tension between Miss Bingley and Mr. Darcy became increasingly palpable. She made her overtures, her voice as sweet as honey as she attempted to draw his interest through subtle flirtations and carefully chosen compliments. Yet, her efforts seemed to fall on deaf ears, as Mr. Darcy's gaze remained resolutely averted, his countenance betraying not a hint of the emotions that stirred beneath the surface.\\n\\nMiss Elizabeth, ever the keen observer, watched the dance of ambition with a mixture of amusement and sympathy. She could not help but feel a certain kinship with Miss Bingley, for she too had experienced the pangs of unrequited affection. Yet, she could not help but feel a sense of satisfaction as she watched her rival's attempts falter, her heart swelling with a quiet triumph that she dared not voice.\\n\\nAs the room began to fill with the sound of laughter and animated chatter, the air grew heavy with an electric tension that set the guests on edge. It was as though the very walls of the drawing-room were charged with the energy of the unspoken desires and hidden ambitions that lay beneath the surface.\\n\\nThe clock on the mantelpiece struck the hour, and the ladies were called to the ballroom for the evening's first dance. As they made their way through the sumptuously appointed hallways, the sound of music and laughter spilled forth from the open doors, beckoning them to enter.\\n\\nMiss Elizabeth hesitated for a moment, her heart pounding in her chest as she caught the eye of Mr. Darcy. He looked at her with a mixture of curiosity and uncertainty, as though he too felt the magnetic pull of the unspoken connection that bound them.\\n\\nWith a flick of her wrist, she sent a small, unassuming object hurtling towards him - a carefully crafted paper aeroplane, filled with the hopes and dreams of a young woman who dared to believe that she could defy convention and win the heart of the proudest, most enigmatic man in the room.\\n\\nAs it soared through the air, the room seemed to hold its breath, the tension hanging heavy in the air like a shroud. Mr. Darcy's eyes followed its trajectory, his expression unreadable as he reached out to catch it deftly in his hands.\\n\\nThe moment stretched on, as the guests held their collective breath, awaiting the outcome of this unconventional gesture. And then, without warning, Mr. Darcy threw back his head and laughed, the sound echoing through the room like a clarion call.\\n\\nMiss Elizabeth felt her heart soar as she watched him, her pulse racing with anticipation as she awaited his response. Would he see the hidden message within the folds of paper, or would he dismiss it as the fanciful whim of a young girl?\\n\\nAs the music swelled and the guests took to the dance floor, Mr. Darcy moved towards her, the paper aeroplane held firmly in his hand. With a playful smile, he tossed it back towards her, his eyes gleaming with mischief as he challenged her to take the first step in this dance of desire and ambition.\\n\\nMiss Elizabeth caught the aeroplane deftly, her heart pounding in her chest as she felt the weight of her own hopes and dreams in her hands. She knew that she could not let this opportunity pass her by, that she had to take a leap of faith and trust that her heart would guide her through the twists and turns of this intricate dance.\\n\\nAs the music crescendoed, she took a deep breath and let her heart lead the way, her eyes locked with Mr. Darcy's as they began to sway to the rhythm of the unspoken connection that bound them.\\n\\nAnd so, the dance of desire and ambition began, a delicate waltz of subtle conversation and wit that would set the stage for a romance that would defy convention and leave an indelible mark on the hearts of all who bore witness to it.\",\n",
       " 'prompt': 'Summary of previous portion of the novel:\\nIn the previous chapter, the dynamics of social interaction and subtle flirtation take center stage. Elizabeth Bennet spends an evening in the drawing room, where she observes engaging exchanges between Mr. Darcy and Miss Bingley, who is noticeably eager for Darcy\\'s attention. Elizabeth\\'s wit and observations of Darcy\\'s indifference to Miss Bingley\\'s flattery are highlights of the session. Later, Elizabeth finds herself the subject of Mr. Darcy\\'s gaze during a musical performance, prompting her to speculate about his interest in her, surmising he may find something to criticize rather than admire. The chapter concludes with a walk in the shrubbery where Miss Bingley\\'s jealousy prompts her to make insinuations about Elizabeth and Darcy\\'s future, causing some discomfort before Elizabeth makes a quick, playful escape, looking forward to her pending return home.\\n\\nWrite the next chapter of a Regency-era romance novel set in an English country house. In this particular scene, characters have just finished their dinner and the ladies have retreated to the drawing-room, waiting for the gentlemen to join them. In your writing, capture the nuances of the period\\'s social etiquette and the mounting romantic tensions between particular characters, while also celebrating the art of subtle conversation and wit. The characters should include a pair of sisters, one with a suitor full of \\'joy and attention,\\' a wealthy yet proud gentleman, and his friend\\'s sister who tries too hard to capture his interest. Include an instance where one character tries to get the attention of another through unconventional means, leading to a series of playful banter and social maneuverings.\"',\n",
       " 'rejected_model': 'dolphin-2_2-yi-34b'}"
      ]
     },
     "execution_count": 29,
     "metadata": {},
     "output_type": "execute_result"
    }
   ],
   "source": [
    "wrapper.data_module.train_dataset[0]"
   ]
  },
  {
   "cell_type": "code",
   "execution_count": 30,
   "metadata": {},
   "outputs": [
    {
     "name": "stderr",
     "output_type": "stream",
     "text": [
      "\u001b[32m2025-02-22 10:19:52.657\u001b[0m | \u001b[1mINFO    \u001b[0m | \u001b[36mtrl_wrapper.trainer_wrapper\u001b[0m:\u001b[36minit_trainer\u001b[0m:\u001b[36m359\u001b[0m - \u001b[1mSaving output to: ./runs/02-22-10-19-481154-smollm2-135m-instruct--gutenberg-dpo\u001b[0m\n",
      "\u001b[32m2025-02-22 10:19:52.659\u001b[0m | \u001b[1mINFO    \u001b[0m | \u001b[36mtrl_wrapper.trainer_wrapper\u001b[0m:\u001b[36minit_trainer\u001b[0m:\u001b[36m382\u001b[0m - \u001b[1mInitializing trainer, run_name: 02-22-10-19-481154-smollm2-135m-instruct--gutenberg-dpo, wandb project: gutenberg\u001b[0m\n",
      "\u001b[32m2025-02-22 10:19:52.659\u001b[0m | \u001b[1mINFO    \u001b[0m | \u001b[36mtrl_wrapper.trainer_wrapper\u001b[0m:\u001b[36minit_trainer\u001b[0m:\u001b[36m389\u001b[0m - \u001b[1mlogprobs cache location: ../dataset_caches/conversation_d_p_o_data_module/b68b303b/ref_logprobs_cache peft config: False\u001b[0m\n",
      "/Users/brianfitzgerald/Documents/GitHub/smolmodels/notebooks/../trl_wrapper/trainer_wrapper.py:532: FutureWarning: `tokenizer` is deprecated and removed starting from version 0.16.0 for `CustomDPOTrainer.__init__`. Use `processing_class` instead.\n",
      "  self.trainer = CustomDPOTrainer(\n",
      "Extracting prompt in train dataset: 100%|██████████| 720/720 [00:00<00:00, 15523.52 examples/s]\n",
      "Applying chat template to train dataset: 100%|██████████| 720/720 [00:00<00:00, 22663.75 examples/s]\n",
      "Tokenizing train dataset:   0%|          | 0/720 [00:00<?, ? examples/s]Token indices sequence length is longer than the specified maximum sequence length for this model (11813 > 8192). Running this sequence through the model will result in indexing errors\n",
      "Tokenizing train dataset: 100%|██████████| 720/720 [00:04<00:00, 154.47 examples/s]\n",
      "Extracting prompt in eval dataset: 100%|██████████| 80/80 [00:00<00:00, 10884.40 examples/s]\n",
      "Applying chat template to eval dataset: 100%|██████████| 80/80 [00:00<00:00, 13540.93 examples/s]\n",
      "Tokenizing eval dataset: 100%|██████████| 80/80 [00:00<00:00, 150.44 examples/s]\n",
      "\u001b[32m2025-02-22 10:19:58.011\u001b[0m | \u001b[1mINFO    \u001b[0m | \u001b[36mtrl_wrapper.trainer_wrapper\u001b[0m:\u001b[36minit_trainer\u001b[0m:\u001b[36m571\u001b[0m - \u001b[1mPrecomputing reference logprobs, batch size: 16\u001b[0m\n",
      "\u001b[32m2025-02-22 10:19:58.011\u001b[0m | \u001b[1mINFO    \u001b[0m | \u001b[36mtrl_wrapper.trainer_wrapper\u001b[0m:\u001b[36minit_trainer\u001b[0m:\u001b[36m578\u001b[0m - \u001b[1mPrecomputing train logprobs\u001b[0m\n",
      "Train dataset reference log probs:   0%|          | 0/45 [00:00<?, ?it/s]"
     ]
    },
    {
     "ename": "",
     "evalue": "",
     "output_type": "error",
     "traceback": [
      "\u001b[1;31mThe Kernel crashed while executing code in the current cell or a previous cell. \n",
      "\u001b[1;31mPlease review the code in the cell(s) to identify a possible cause of the failure. \n",
      "\u001b[1;31mClick <a href='https://aka.ms/vscodeJupyterKernelCrash'>here</a> for more info. \n",
      "\u001b[1;31mView Jupyter <a href='command:jupyter.viewOutput'>log</a> for further details."
     ]
    }
   ],
   "source": [
    "wrapper.init_trainer()"
   ]
  },
  {
   "cell_type": "code",
   "execution_count": null,
   "metadata": {},
   "outputs": [],
   "source": [
    "wrapper.train()"
   ]
  }
 ],
 "metadata": {
  "kernelspec": {
   "display_name": ".venv",
   "language": "python",
   "name": "python3"
  },
  "language_info": {
   "codemirror_mode": {
    "name": "ipython",
    "version": 3
   },
   "file_extension": ".py",
   "mimetype": "text/x-python",
   "name": "python",
   "nbconvert_exporter": "python",
   "pygments_lexer": "ipython3",
   "version": "3.11.11"
  }
 },
 "nbformat": 4,
 "nbformat_minor": 2
}
