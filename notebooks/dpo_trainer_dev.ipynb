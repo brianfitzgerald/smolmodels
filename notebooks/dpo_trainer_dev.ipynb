{
 "cells": [
  {
   "cell_type": "code",
   "execution_count": 1,
   "metadata": {},
   "outputs": [
    {
     "name": "stderr",
     "output_type": "stream",
     "text": [
      "/home/ubuntu/smolmodels/.venv/lib/python3.11/site-packages/tqdm/auto.py:21: TqdmWarning: IProgress not found. Please update jupyter and ipywidgets. See https://ipywidgets.readthedocs.io/en/stable/user_install.html\n",
      "  from .autonotebook import tqdm as notebook_tqdm\n"
     ]
    }
   ],
   "source": [
    "import torch\n",
    "import sys\n",
    "from datasets import load_dataset\n",
    "\n",
    "sys.path.append(\"..\")\n",
    "%load_ext autoreload\n",
    "%autoreload 2\n",
    "from trl_wrapper.trainer_wrapper import TrainerWrapper, PLAYWRIGHT_CONFIG, SMOL_LM_135M"
   ]
  },
  {
   "cell_type": "code",
   "execution_count": 2,
   "metadata": {},
   "outputs": [
    {
     "name": "stderr",
     "output_type": "stream",
     "text": [
      "\u001b[32m2025-01-21 14:33:18.385\u001b[0m | \u001b[1mINFO    \u001b[0m | \u001b[36mtrl_wrapper.trainer_wrapper\u001b[0m:\u001b[36m__init__\u001b[0m:\u001b[36m212\u001b[0m - \u001b[1mAdding special tokens: ['<thought>', '</thought>', '<solution>', '</solution>']\u001b[0m\n"
     ]
    }
   ],
   "source": [
    "cfg = PLAYWRIGHT_CONFIG\n",
    "cfg.notebook_mode = True\n",
    "cfg.model_id_or_path = SMOL_LM_135M\n",
    "wrapper = TrainerWrapper(cfg)"
   ]
  },
  {
   "cell_type": "code",
   "execution_count": null,
   "metadata": {},
   "outputs": [
    {
     "data": {
      "text/plain": [
       "'playwright_summary_to_script'"
      ]
     },
     "execution_count": 3,
     "metadata": {},
     "output_type": "execute_result"
    }
   ],
   "source": [
    "cfg.data_module_choice"
   ]
  },
  {
   "cell_type": "code",
   "execution_count": 4,
   "metadata": {},
   "outputs": [
    {
     "name": "stderr",
     "output_type": "stream",
     "text": [
      "\u001b[32m2025-01-21 14:34:46.894\u001b[0m | \u001b[1mINFO    \u001b[0m | \u001b[36mtrl_wrapper.trainer_wrapper\u001b[0m:\u001b[36minit_model\u001b[0m:\u001b[36m230\u001b[0m - \u001b[1mLoading model HuggingFaceTB/SmolLM2-135M-Instruct with attn_impl: flash_attention_2\u001b[0m\n"
     ]
    }
   ],
   "source": [
    "wrapper.init_model()"
   ]
  },
  {
   "cell_type": "code",
   "execution_count": 6,
   "metadata": {},
   "outputs": [
    {
     "data": {
      "text/plain": [
       "'sft'"
      ]
     },
     "execution_count": 6,
     "metadata": {},
     "output_type": "execute_result"
    }
   ],
   "source": [
    "wrapper.config.tuning_mode"
   ]
  },
  {
   "cell_type": "code",
   "execution_count": 9,
   "metadata": {},
   "outputs": [
    {
     "name": "stderr",
     "output_type": "stream",
     "text": [
      "\u001b[32m2025-01-21 14:51:47.703\u001b[0m | \u001b[1mINFO    \u001b[0m | \u001b[36mmodel.utils\u001b[0m:\u001b[36m__init__\u001b[0m:\u001b[36m115\u001b[0m - \u001b[1mCache dir: ../dataset_caches/playwright_summary_to_script\u001b[0m\n",
      "\u001b[32m2025-01-21 14:51:47.704\u001b[0m | \u001b[1mINFO    \u001b[0m | \u001b[36mmodel.utils\u001b[0m:\u001b[36msetup\u001b[0m:\u001b[36m156\u001b[0m - \u001b[1mLoading dataset for stage fit\u001b[0m\n",
      "\u001b[32m2025-01-21 14:51:47.705\u001b[0m | \u001b[1mINFO    \u001b[0m | \u001b[36mmodel.utils\u001b[0m:\u001b[36msetup\u001b[0m:\u001b[36m159\u001b[0m - \u001b[1mProcessing dataset for stage fit, workers: 1, cache dir ../dataset_caches/playwright_summary_to_script, using cache: False\u001b[0m\n",
      "\u001b[32m2025-01-21 14:51:47.705\u001b[0m | \u001b[1mINFO    \u001b[0m | \u001b[36mmodel.utils\u001b[0m:\u001b[36minit_dataset\u001b[0m:\u001b[36m131\u001b[0m - \u001b[1mLoading local dataset from ../screenplay_scenes_summarized.parquet\u001b[0m\n"
     ]
    },
    {
     "name": "stderr",
     "output_type": "stream",
     "text": [
      "\u001b[32m2025-01-21 14:51:47.733\u001b[0m | \u001b[1mINFO    \u001b[0m | \u001b[36mmodel.utils\u001b[0m:\u001b[36minit_dataset\u001b[0m:\u001b[36m151\u001b[0m - \u001b[1mLoading custom chat template: ../chat_templates/ministral_8b.jinja\u001b[0m\n",
      "\u001b[32m2025-01-21 14:51:47.734\u001b[0m | \u001b[1mINFO    \u001b[0m | \u001b[36mmodel.utils\u001b[0m:\u001b[36msetup\u001b[0m:\u001b[36m167\u001b[0m - \u001b[1mTrain dataset size: 9604 Val dataset size: 1068\u001b[0m\n",
      "Map: 100%|██████████| 9604/9604 [1:30:16<00:00,  1.77 examples/s]   \n",
      "Map: 100%|██████████| 1068/1068 [00:00<00:00, 71137.31 examples/s]\n"
     ]
    }
   ],
   "source": [
    "wrapper.init_data_module()"
   ]
  },
  {
   "cell_type": "code",
   "execution_count": null,
   "metadata": {},
   "outputs": [],
   "source": [
    "# Tokenizer dev\n",
    "first_batch = wrapper.data_module.train_dataset[0]\n",
    "tokenized = wrapper.data_module._tokenize_conversation(first_batch['conversation'])\n",
    "for k in tokenized.keys():\n",
    "    tokenized[k] = torch.as_tensor(tokenized[k], dtype=torch.long)\n",
    "print(tokenized['labels'].tolist())\n",
    "wrapper.data_module.visualize_sample(tokenized)"
   ]
  },
  {
   "cell_type": "code",
   "execution_count": null,
   "metadata": {},
   "outputs": [],
   "source": [
    "# mock_labels = first_batch[\"labels\"].clone().detach()\n",
    "# mock_labels = torch.where(mock_labels == -100, wrapper.data_module.tokenizer.pad_token_id, mock_labels)\n",
    "# mock_ids = first_batch[\"input_ids\"].clone().detach()\n",
    "for batch in wrapper.data_module.val_dataloader():\n",
    "    print(batch[\"input_ids\"].shape)\n",
    "    print(batch[\"labels\"].shape)"
   ]
  },
  {
   "cell_type": "code",
   "execution_count": null,
   "metadata": {},
   "outputs": [],
   "source": [
    "wrapper.init_trainer()"
   ]
  },
  {
   "cell_type": "code",
   "execution_count": null,
   "metadata": {},
   "outputs": [],
   "source": [
    "wrapper.tokenizer"
   ]
  },
  {
   "cell_type": "code",
   "execution_count": null,
   "metadata": {},
   "outputs": [],
   "source": [
    "wrapper.train()"
   ]
  }
 ],
 "metadata": {
  "kernelspec": {
   "display_name": ".venv",
   "language": "python",
   "name": "python3"
  },
  "language_info": {
   "codemirror_mode": {
    "name": "ipython",
    "version": 3
   },
   "file_extension": ".py",
   "mimetype": "text/x-python",
   "name": "python",
   "nbconvert_exporter": "python",
   "pygments_lexer": "ipython3",
   "version": "3.11.11"
  }
 },
 "nbformat": 4,
 "nbformat_minor": 2
}
