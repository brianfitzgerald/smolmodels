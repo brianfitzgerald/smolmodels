{
 "cells": [
  {
   "cell_type": "code",
   "execution_count": null,
   "metadata": {},
   "outputs": [],
   "source": [
    "import torch\n",
    "import sys\n",
    "import gc\n",
    "\n",
    "sys.path.append(\"..\")\n",
    "%load_ext autoreload\n",
    "%autoreload 2\n",
    "from trl_wrapper.trainer_wrapper import TrainerWrapper, WrapperConfig, SMOL_LM_135M"
   ]
  },
  {
   "cell_type": "code",
   "execution_count": null,
   "metadata": {},
   "outputs": [],
   "source": [
    "cfg = WrapperConfig(\n",
    "    model_id_or_path=SMOL_LM_135M,\n",
    "    max_samples=1000,\n",
    "    data_module_choice=\"conversation\",\n",
    "    notebook_mode=True,\n",
    "    tuning_mode=\"sft\",\n",
    "    eval_data_mode=\"fixed\",\n",
    "    special_tokens=[\"<thought>\", \"</thought>\", \"<solution>\", \"</solution>\"],\n",
    "    custom_chat_template=\"ministral_8b\",\n",
    "    input_dataset_name=\"screenplay_conversations.parquet\",\n",
    ")\n",
    "\n",
    "wrapper = TrainerWrapper(cfg)"
   ]
  },
  {
   "cell_type": "code",
   "execution_count": null,
   "metadata": {},
   "outputs": [],
   "source": [
    "wrapper.init_model()"
   ]
  },
  {
   "cell_type": "code",
   "execution_count": null,
   "metadata": {},
   "outputs": [],
   "source": [
    "gc.collect()\n",
    "torch.cuda.empty_cache()\n",
    "! echo $CUDA_VISIBLE_DEVICES\n",
    "! nvidia-smi"
   ]
  },
  {
   "cell_type": "code",
   "execution_count": 50,
   "metadata": {},
   "outputs": [
    {
     "name": "stderr",
     "output_type": "stream",
     "text": [
      "\u001b[32m2025-01-03 17:20:43.523\u001b[0m | \u001b[1mINFO    \u001b[0m | \u001b[36mmodel.utils\u001b[0m:\u001b[36m__init__\u001b[0m:\u001b[36m109\u001b[0m - \u001b[1mCache dir: ../dataset_caches/conversation_data_module\u001b[0m\n",
      "\u001b[32m2025-01-03 17:20:43.524\u001b[0m | \u001b[1mINFO    \u001b[0m | \u001b[36mmodel.utils\u001b[0m:\u001b[36msetup\u001b[0m:\u001b[36m127\u001b[0m - \u001b[1mLoading dataset for stage fit\u001b[0m\n",
      "\u001b[32m2025-01-03 17:20:43.527\u001b[0m | \u001b[1mINFO    \u001b[0m | \u001b[36mmodel.utils\u001b[0m:\u001b[36msetup\u001b[0m:\u001b[36m129\u001b[0m - \u001b[1mProcessing dataset for stage fit, workers: 1, cache dir ../dataset_caches/conversation_data_module, using cache: False\u001b[0m\n",
      "\u001b[32m2025-01-03 17:20:43.528\u001b[0m | \u001b[1mINFO    \u001b[0m | \u001b[36mdataset.conversation\u001b[0m:\u001b[36mload_dataset\u001b[0m:\u001b[36m23\u001b[0m - \u001b[1mLoading dataset\u001b[0m\n",
      "Map:   0%|          | 0/172 [00:00<?, ? examples/s]"
     ]
    },
    {
     "name": "stdout",
     "output_type": "stream",
     "text": [
      "Lens: 1123 1123\n",
      "[{'role': '<action>', 'content': 'Fred is about to take his driving test.'}, {'role': 'FLASH!', 'content': 'Fred gets his picture taken.'}, {'role': \"119   EXT. DEACON'S HOUSE - DAY                                        119\", 'content': 'Deacon drives the minivan home and pulls in next to the brand new convertible sports car. Deacon gets out, excited.'}, {'role': 'MR. LEWIS', 'content': 'What do you think?'}, {'role': 'DEACON', 'content': 'This is for me?'}, {'role': 'MR. LEWIS', 'content': \"Are you crazy? It's for me. You want a new car, you get an after school job. Deacon's Mom is wearing a sexy outfit and carries an overnight bag. She's beaming.\"}, {'role': 'MRS. LEWIS', 'content': 'But we are letting you have the Aerostar. It may not be \"cool,\" but it\\'ll get you where you\\'re going.'}, {'role': 'DEACON', 'content': 'Thanks, guys. Really.'}, {'role': 'MRS. LEWIS', 'content': \"We're going away for the weekend. Your father surprised me!\"}, {'role': 'FINAL SHOOTING SCRIPT                                     114.', 'content': ''}, {'role': '<action>', 'content': \"Deacon's parents KISS then pull out of the driveway.\"}, {'role': '120   EXT. WILLIAM WALL HIGH SCHOOL - PARKING LOT - DAY                120', 'content': \"Deacon pulls the minivan into the parking lot. In the passenger seat is Fred. In the back seat are Matt, Max, and Max's three FRIENDS. They all get out and the freshmen scamper away. Matt is holding Deacon's driver's license.\"}, {'role': 'MATT', 'content': \"It's not even in focus. This is really shoddy work. Deacon takes it back from him.\"}, {'role': \"MATT (CONT'D)\", 'content': \"So, guys. I decided I'm going to apply to NYU next year. The film school.\"}, {'role': 'FRED', 'content': 'Too bad we burned the film. You could have submitted it as your sample.'}, {'role': 'MATT', 'content': 'Good idea, Balls. The guys start laughing.'}, {'role': 'FRED', 'content': 'So, I guess we all got what we deserved. No money, no power, no women.'}, {'role': 'MATT', 'content': 'Tony Montana would be pissed. Just then, Rachael spots them and walks over.'}, {'role': 'DEACON', 'content': 'Speak for yourself, guys.'}, {'role': 'RACHAEL', 'content': 'Hey, guys. Deacon. Deacon KISSES her. The other two guys are stunned.'}, {'role': '121   INT. WILLIAM WALL HIGH SCHOOL - HALLWAY - DAY                    121', 'content': \"Deacon walks down the hallway with Matt and Fred, and holding Rachael's hand. The four of them run into Wendy and Kelly.\"}, {'role': 'WENDY', 'content': 'Hey, guys. Hey, Deacon. I heard Naomi broke up with you.'}, {'role': 'DEACON', 'content': 'Yeah. But I think it worked out better this way.'}, {'role': 'FINAL SHOOTING SCRIPT                                     115.', 'content': ''}, {'role': '<action>', 'content': 'Rachael smiles.'}, {'role': 'WENDY', 'content': 'Hey, Fred. I hear you know a thing or two about giving women pleasure. Fred freezes. He steels himself, trying to build up the nerve to say what he wants to say. Then,'}, {'role': 'FRED', 'content': \"No, I don't. She's disappointed. The whole gang hangs their heads. Then,\"}, {'role': \"FRED (CONT'D)\", 'content': 'Matt knows a thing or two about pleasuring women. I know everything. Fred smiles ear to ear. Wendy laughs, duly impressed.'}, {'role': 'WENDY', 'content': 'We should go out some time. Kelly looks at Matt seductively.'}, {'role': 'KELLY', 'content': 'Maybe all four of us could go out.'}, {'role': 'MATT', 'content': 'That could work, you know, depending on my schedule.'}, {'role': 'WENDY', 'content': 'Cool. So call me. They walk off just as Jake pushes Deacon from behind.'}, {'role': 'JAKE', 'content': \"Watch where you're going, sphincter boy. But he's dealing with a totally new and improved Deacon now.\"}, {'role': 'DEACON', 'content': 'I thought I told you not to call me that anymore.'}, {'role': 'JAKE', 'content': 'What are you going to do about it?'}, {'role': 'DEACON', 'content': 'Some people never learn. Matt pulls out a funky remote control. He hits a button and all the monitors come on up and down the hallway. Students stop to look up at them.'}, {'role': 'FINAL SHOOTING SCRIPT                                        116.', 'content': ''}, {'role': '121A   ON THE MONITORS                                                     121A', 'content': 'plays a specially edited version of the infamous first attempt at making the porno, aptly titled, \"William H. Wall High School Presents: The Premature E-Jake-ulator.\"'}, {'role': 'JAKE', 'content': \"I've got a tiny pee-pee? I'm a premature e-jac-u-la-tor?\"}, {'role': '121B   HALLWAY                                                             121B', 'content': 'Jake is horrified.'}, {'role': 'JAKE', 'content': 'Stop it! Stop the video!'}, {'role': 'MATT', 'content': \"You probably shouldn't have mailed that tape back to us. The video starts repeating in continuous loop, but has been edited to sound like a rap song.\"}, {'role': 'JAKE (O.S.)', 'content': 'Tiny pee-pee. Tiny pee-pee. E-jac-u-la- tor. E-jac, e-jac, e-jac-u-laaaaaaa-tor. Students point and laugh at him, while Deacon and the guys continue on down the hallway, dancing to the beat. Deacon kisses Rachael goodbye.'}, {'role': 'DEACON', 'content': \"You know, guys, I've been thinking about something.\"}, {'role': 'FRED', 'content': \"What's that?\"}, {'role': 'DEACON', 'content': \"About how making the movie didn't turn out to be so fun. I think I figured out why. They stop at their lockers.\"}, {'role': \"DEACON (CONT'D)\", 'content': 'Sex is like a comic book, still in the original wrapper. Once you open it up and read it, it loses its value.'}, {'role': 'FRED', 'content': 'Deep.'}, {'role': 'FINAL SHOOTING SCRIPT                                       117.', 'content': ''}, {'role': 'MATT', 'content': \"I think he's got something there. Making that movie felt like we were tampering with forces we couldn't possibly understand.\"}, {'role': 'DEACON', 'content': \"Exactly. The fun part about high school is unravelling the mystery of what's going to happen next. The guys smile and dial the combinations on their lockers. In the background, Jake is still on the ground crying. We TRACK through the hallway, outside...\"}, {'role': '121C   EXT. WILLIAM WALL HIGH SCHOOL - PARKING LOT - DAY                  121C', 'content': '... where we see a large CAR TRANSPORT, with three hot new sports cars on it. Their license plates read \"JOHNNY H,\" \"SAM SLAM,\" and \"BALLS.\" TRACK OVER to Mike, unloading the cars and Vic, standing there smiling. FADE OUT:'}, {'role': 'END CREDITS', 'content': 'FADE IN:'}, {'role': '122    INT. HOTEL ROOM - NIGHT                                             122', 'content': \"Deacon's parents are in bed. On the TV plays familiar sounding porno music on the hotel pay-per-view.\"}, {'role': 'MR. LEWIS', 'content': \"Why do they always have to show the guy's face?\"}, {'role': 'MRS. LEWIS', 'content': \"To make you think you can get girls as hot as her. It's a basic rule of porno. A long beat.\"}, {'role': 'MR. LEWIS', 'content': \"Hey. Isn't that our basement? FADE OUT:\"}, {'role': 'THE END', 'content': ''}]\n",
      "Lens post: 1123 1123\n",
      "Lens post pad: 1512 1512\n",
      "Lens: 847 879\n",
      "[{'role': '<action>', 'content': \"It's an incredibly foofy Baroque nightmare.\"}, {'role': 'BRAD', 'content': 'Damn, you knew Big Boy the whole time?'}, {'role': 'SHONDRA', 'content': 'I told you we go way back.'}, {'role': 'BIG BOY', 'content': 'So Shondra tells me you drop rhyme. ((CONTINUED))'}, {'role': '<action>', 'content': '102.'}, {'role': '91    CONTINUED:                                                     91', 'content': 'BRAD Peep dis. He hands over a Mali-Bootay CD.'}, {'role': 'BRAD', 'content': \"Once you hear my demo, you're gonna want to give me Eminem play, dawg!\"}, {'role': 'BIG BOY', 'content': \"I can't wait, y'all. Peace. ((taking the CD))\"}, {'role': '<action>', 'content': 'Big Boy pounds Brad and they exit. Big Boy hands the CD to a British butler, who puts it in the system. Big Boy puts on the headphones and the butler hits play. Big Boy listens for a minute, then smiles.'}, {'role': 'BIG BOY', 'content': 'I know exactly what to do with this. CUT TO:'}, {'role': 'A91   OMITTED                                                        A91', 'content': '&amp;                                                                    &amp; 92                                                                   92'}, {'role': \"A92   EXT. BIG BOY'S BACK PATIO - DAY                                A92\", 'content': 'Big Boy stands there in his bathrobe.'}, {'role': 'BIG BOY', 'content': \"Pull! Brad's CD flies into the sky like a skeet clay pigeon. Big Boy raises a GLOCK and BLOWS it to kingdom come. CUT TO:\"}, {'role': '93    INT. AMPHITHEATRE - IN WINGS - DAY                             93', 'content': 'Brad and Shondra stand off to the side of a huge rally.'}, {'role': 'BRAD', 'content': 'Damn. Twenty thousand people, all here to support my pops. He must have charisma. ((CONTINUED))'}, {'role': '<action>', 'content': '103.'}, {'role': '93   CONTINUED:                                                      93', 'content': 'SHONDRA Like father like son.'}, {'role': 'BRAD', 'content': 'Shondra, girl. I just have to thank you.'}, {'role': 'SHONDRA', 'content': 'For what?'}, {'role': 'BRAD', 'content': \"You the only one who accepted me for who I really am. You also car jacked me, kidnapped me and tried to turn me white, but I'm gonna let that go. They kiss, tongues and all as Bill walks up. ((beat))\"}, {'role': 'BILL', 'content': 'Hey, kids... Sorry to interrupt.'}, {'role': 'BRAD', 'content': 'What up? ((turning))'}, {'role': 'BILL', 'content': \"Well, I'm about to go on and, Brad... I want you to be part of this.\"}, {'role': 'BRAD', 'content': 'You mean, be onstage with you?'}, {'role': 'BILL', 'content': 'I need you to help me get the urban vote. Introduce me.'}, {'role': 'BRAD', 'content': \"Dang, I'd be honored.\"}, {'role': 'BILL', 'content': \"And, son, don't say it... Rap it. ((beat))\"}, {'role': 'BRAD', 'content': 'For real, Pops? ((CONTINUED))'}, {'role': '103A.', 'content': ''}, {'role': '93   CONTINUED:    (1A)                                         93', 'content': \"BILL For real, son, for rizzeal. Shondra looks on proudly as MUSIC -- heavy on emotional strings, swells, driving the movie audience to feel as good as they've ever felt in a movie. Brad takes the stage.\"}, {'role': 'BRAD', 'content': \"Hey, y'all! I'm here to introduce you to my father, Bill Gluckman! The big Gluck!! A rap beat kicks in as Brad goes all out.\"}, {'role': 'BRAD', 'content': \"We all gather here on this special occasion. To listen to my pops, he's your west coast liaison. A speech from him, dude, is like sex with a hoochi. It's hot and excitin', like shoppin' at Gucci! Asians, Jews, Mexicans, too. Everybody's votin', yo, it's a cultural stew. Once he's in office you'll experience great riches. As a thank you for helpin', you can get wit my bitches! Let's get Glucked! Y'all get Glucked! We get Glucked! Come on everybody put your hands up! Bill moves onstage and attempts to dance hip hop style.\"}, {'role': 'BRAD', 'content': \"Immigration, education, and runaway inflation. It got me so stressed I need to start masturbatin'. California ain't flowin' like some ol' constipation. Vote for dad or I'll bash your frickin' face in! Come on everybody put your hands up! ((CONTINUED))\"}, {'role': '103B.', 'content': ''}, {'role': '93   CONTINUED:    (1B)                                         93', 'content': \"BRAD (CONT'D) And if my dad wins this election, he'll grow on y'all like a BAD VD\"}, {'role': 'INFECTION!!', 'content': \"Yeeah! We all need a Gluckin'! Let's all get Glucked! GO GLUCK\"}, {'role': 'YOURSELF!!', 'content': \"Brad raises Bill's hand up in victory and we FREEZE. ((CONTINUED))\"}, {'role': '<action>', 'content': '104.'}, {'role': '93   CONTINUED:    (2)                                                93', 'content': \"SUPERIMPOSE: Brad did deliver the urban vote... to Bill's opponent. Bill Gluckman lost the election by a landslide. CUT TO:\"}, {'role': '94   CLOSEUP ON FREEZE-FRAME TWO-SHOT - SEAN AND PJ                   94', 'content': 'SUPERIMPOSE: Sean and PJ landed jobs more suitable to their talents... We WIDEN to reveal Sean and PJ in uniform and working at:'}]\n",
      "Lens post: 879 879\n",
      "Lens post pad: 1512 1512\n"
     ]
    },
    {
     "name": "stderr",
     "output_type": "stream",
     "text": [
      "Map: 100%|██████████| 172/172 [00:10<00:00, 16.81 examples/s]\n",
      "Map: 100%|██████████| 20/20 [00:01<00:00, 17.15 examples/s]\n"
     ]
    }
   ],
   "source": [
    "wrapper.init_data_module()"
   ]
  },
  {
   "cell_type": "code",
   "execution_count": 63,
   "metadata": {},
   "outputs": [
    {
     "data": {
      "text/html": [
       "<pre style=\"white-space:pre;overflow-x:auto;line-height:normal;font-family:Menlo,'DejaVu Sans Mono',consolas,'Courier New',monospace\"><span style=\"color: #00ff00; text-decoration-color: #00ff00\"> enough.You couldn’t have stood much more fun, could you?That’s right. ((looks up malevolently))What else? </span>\n",
       "<span style=\"color: #00ff00; text-decoration-color: #00ff00\">((arrogantly))Nothing.After a pause, the detective nods.Then let ‘er rip, I guess, son. In the event we locate Mr. </span>\n",
       "<span style=\"color: #00ff00; text-decoration-color: #00ff00\">Falcone and Miss Bennett, how easy is it to find you to get you to testify?(CONTINUED)90.76 767778Sunburst, </span>\n",
       "<span style=\"color: #00ff00; text-decoration-color: #00ff00\">Montana.Pretty easy. There’s a lady outside to give you a ride. -George goes directly to the locker. He opens it </span>\n",
       "<span style=\"color: #00ff00; text-decoration-color: #00ff00\">and there is the envelope with the $3,000, just as he and Lucy had left it. He pockets the money and walks </span>\n",
       "<span style=\"color: #00ff00; text-decoration-color: #00ff00\">out.George walks along the 2nd level of motel rooms, looks in through one screen, sees a man lying on a bed asleep,</span>\n",
       "<span style=\"color: #00ff00; text-decoration-color: #00ff00\">then walks out farther” : until he reaches room 242. He sees Aileen through the window before she notices him. She </span>\n",
       "<span style=\"color: #00ff00; text-decoration-color: #00ff00\">finally does, comes to the door.George makes a collect call to his father, who answers.Hi, hi. It’s me. ((softly, </span>\n",
       "<span style=\"color: #00ff00; text-decoration-color: #00ff00\">close to phone))Where the hell are you? ((sternly, but relieved))(quick1y) . Down in Wyoming. I’m in Casper.What </span>\n",
       "<span style=\"color: #00ff00; text-decoration-color: #00ff00\">the heli for? What the hell are you doing?I’m on my way home. I/1] probably be there tomorrow. I’m on the bus.JACK </span>\n",
       "<span style=\"color: #00ff00; text-decoration-color: #00ff00\">(V.0.) i Where’s your mother? Are you with her?No. She‘’s not. (a beat) * I saw her. She got back her car. </span>\n",
       "<span style=\"color: #00ff00; text-decoration-color: #00ff00\">((sullenly))She’ll need it. Does she think she’s coming back?No. Not right away.XI don’t get any of this. I don’t </span>\n",
       "<span style=\"color: #00ff00; text-decoration-color: #00ff00\">get any-of it. You know what I mean? I don’t.(CONTINUED)101.86878788102.I know. Ill be home tomorrow afternoon. </span>\n",
       "<span style=\"color: #00ff00; text-decoration-color: #00ff00\">Okay? ((softly))Sure. Why not? Come home. That’s great.I’ll see you. ((apologetically))I‘ll see you.They hang </span>\n",
       "<span style=\"color: #00ff00; text-decoration-color: #00ff00\">up.106. -8889In the restroom a traveller is standing at the mirror wipinghis face after shaving. The traveller </span>\n",
       "<span style=\"color: #00ff00; text-decoration-color: #00ff00\">glances at then.George and the man step inside. The man sets his attachecase on a sink top, opens it as if looking </span>\n",
       "<span style=\"color: #00ff00; text-decoration-color: #00ff00\">for papers.George looks around the room, waits, on what he isn’t sure. As he talks, and unseen by George, the man </span>\n",
       "<span style=\"color: #00ff00; text-decoration-color: #00ff00\">takes a pair of cow-skin driving gloves out of his case and puts them on.I always look forward to eating a decent </span>\n",
       "<span style=\"color: #00ff00; text-decoration-color: #00ff00\">meal when I come into town,you know.But the one place Ireally like, this Enrique’s. They closed. Just gone. I like </span>\n",
       "<span style=\"color: #00ff00; text-decoration-color: #00ff00\">that Italian food, boy. Lasagna.Vermicelli.Veal Marsala.(CONTINUED) 89Faw rael «iui us107.The traveller leaves. </span>\n",
       "<span style=\"color: #00ff00; text-decoration-color: #00ff00\">George looks around relaxed by the man’s conversation. The man turns and looks at George seriously.All right now, </span>\n",
       "<span style=\"color: #00ff00; text-decoration-color: #00ff00\">son.He steps in and hits George a hard blow with the flat of his hand straight across the cheek, knocking George </span>\n",
       "<span style=\"color: #00ff00; text-decoration-color: #00ff00\">against the sinks and half off his feet. The man advances on hin quickly, without speaking, flashes an ungainly </span>\n",
       "<span style=\"color: #00ff00; text-decoration-color: #00ff00\">left hand-- open fist--and hits George across the other cheek, knocking him further down. George scrambles up, his </span>\n",
       "<span style=\"color: #00ff00; text-decoration-color: #00ff00\">eyes narrowed, gasping for breath. Again the man very quickly and methodically moves in, but George slides off to </span>\n",
       "<span style=\"color: #00ff00; text-decoration-color: #00ff00\">the left and when the man swings his flat hand, George is angled beside him and hits him 4 times in the face--in </span>\n",
       "<span style=\"color: #00ff00; text-decoration-color: #00ff00\">combinations~-using his painful, injured hand, and knocks the man against the unlatched stall doors causing him to </span>\n",
       "<span style=\"color: #00ff00; text-decoration-color: #00ff00\">lose his balance and fall inside. As with the fight against the Indian boy earlier, this is a sudden, vicious, </span>\n",
       "<span style=\"color: #00ff00; text-decoration-color: #00ff00\">unmerciful fight.Real ferocity has been triggered in him, a fierceness only the last week of his life could’ve </span>\n",
       "<span style=\"color: #00ff00; text-decoration-color: #00ff00\">precisely released.All right! Back off, yo son'of a bitch! : ((Ending the test))I’ll beat you to death!Jesus! It’s </span>\n",
       "<span style=\"color: #00ff00; text-decoration-color: #00ff00\">okay!! You’re trying to kill me. - ((surprised))What the fuck is this? ((angrily))George stops and steps back.;Help</span>\n",
       "<span style=\"color: #00ff00; text-decoration-color: #00ff00\">me out of nere.._ Pull yourself out.George turns and staiks out of the bathroom.” He walks to the’seat hes been </span>\n",
       "<span style=\"color: #00ff00; text-decoration-color: #00ff00\">occupying. “He's red-faced, out-of-breath and angry, feeling he's been had. He sits, in a state of confused </span>\n",
       "<span style=\"color: #00ff00; text-decoration-color: #00ff00\">belligerence, his eyes darting. THE MAN, who's come out of the yestroam after him'- though not actually chasing him</span>\n",
       "<span style=\"color: #00ff00; text-decoration-color: #00ff00\">- approaches, wiping nis face with a white —*ae RH* 899089No use taking any pussies up there. You looked like a </span>\n",
       "<span style=\"color: #00ff00; text-decoration-color: #00ff00\">pussy to me.So. Well. I wouldn't get the job otherwise? * Fuck you. How's that? *A man's gotta do what a man's </span>\n",
       "<span style=\"color: #00ff00; text-decoration-color: #00ff00\">gotta do. * Six hundred bucks a weex. You up for it? * ((derisively))No. *(dismally) - Great. *Eight hundred. * </span>\n",
       "<span style=\"color: #00ff00; text-decoration-color: #00ff00\">((second-thinking but still angry))And not a penny less, I'm sure. * George stares him in the eye, Says nothing. * </span>\n",
       "<span style=\"color: #00ff00; text-decoration-color: #00ff00\">((smiling, derisive))« (smiling still) O-kay. You got it.*A roughneck in a hard hat sits inside the pickup. ~ He </span>\n",
       "<span style=\"color: #00ff00; text-decoration-color: #00ff00\">looks blankly at George.The man opens the driver’s door, puts his case inside..Get in the back. We/’ll find you a </span>\n",
       "<span style=\"color: #00ff00; text-decoration-color: #00ff00\">place inside once we’re going.George looks at the back of the pickup. The man turns to hin.My name’s Billy </span>\n",
       "<span style=\"color: #00ff00; text-decoration-color: #00ff00\">Abbott.George. ((halting))They shake hands. George climbs in the bed of the pickup.You can’t get trustworthy boys </span>\n",
       "<span style=\"color: #00ff00; text-decoration-color: #00ff00\">anymore. I prefer you farm boys. You know how to work.I/’m not a farm boy. ((softly))Materiel is in the back; coils</span>\n",
       "<span style=\"color: #00ff00; text-decoration-color: #00ff00\">of wire, tools, groceries. George makes a place for himself. The man gets in, checks on George, who’s settled, then</span>\n",
       "<span style=\"color: #00ff00; text-decoration-color: #00ff00\">starts the truck.I wouldn’t want to be a kid again. ((good-naturedly to roughneck))George says nothing, looks out </span>\n",
       "<span style=\"color: #00ff00; text-decoration-color: #00ff00\">over the back of the truck. We FOLLOW close on George as the truck pulls away, out into the street and up to a red </span>\n",
       "<span style=\"color: #00ff00; text-decoration-color: #00ff00\">light.CAMERA moves very close, resting quietly on and examining George’s face as he stares out while the truck </span>\n",
       "<span style=\"color: #00ff00; text-decoration-color: #00ff00\">idles at the long red light. : .</span>\n",
       "</pre>\n"
      ],
      "text/plain": [
       "\u001b[92m enough\u001b[0m\u001b[92m.\u001b[0m\u001b[92mYou\u001b[0m\u001b[92m couldn\u001b[0m\u001b[92m’\u001b[0m\u001b[92mt\u001b[0m\u001b[92m have\u001b[0m\u001b[92m stood\u001b[0m\u001b[92m much\u001b[0m\u001b[92m more\u001b[0m\u001b[92m fun\u001b[0m\u001b[92m,\u001b[0m\u001b[92m could\u001b[0m\u001b[92m you\u001b[0m\u001b[92m?\u001b[0m\u001b[92mThat\u001b[0m\u001b[92m’\u001b[0m\u001b[92ms\u001b[0m\u001b[92m right\u001b[0m\u001b[92m.\u001b[0m\u001b[92m ((\u001b[0m\u001b[92ml\u001b[0m\u001b[92mooks\u001b[0m\u001b[92m up\u001b[0m\u001b[92m male\u001b[0m\u001b[92mvol\u001b[0m\u001b[92mently\u001b[0m\u001b[92m))\u001b[0m\u001b[92mWhat\u001b[0m\u001b[92m else\u001b[0m\u001b[92m?\u001b[0m\u001b[92m \u001b[0m\n",
       "\u001b[92m((\u001b[0m\u001b[92mar\u001b[0m\u001b[92mrog\u001b[0m\u001b[92mantly\u001b[0m\u001b[92m))\u001b[0m\u001b[92mNothing\u001b[0m\u001b[92m.\u001b[0m\u001b[92mAfter\u001b[0m\u001b[92m a\u001b[0m\u001b[92m pause\u001b[0m\u001b[92m,\u001b[0m\u001b[92m the\u001b[0m\u001b[92m detective\u001b[0m\u001b[92m nod\u001b[0m\u001b[92ms\u001b[0m\u001b[92m.\u001b[0m\u001b[92mThen\u001b[0m\u001b[92m let\u001b[0m\u001b[92m ‘\u001b[0m\u001b[92mer\u001b[0m\u001b[92m rip\u001b[0m\u001b[92m,\u001b[0m\u001b[92m I\u001b[0m\u001b[92m guess\u001b[0m\u001b[92m,\u001b[0m\u001b[92m son\u001b[0m\u001b[92m.\u001b[0m\u001b[92m In\u001b[0m\u001b[92m the\u001b[0m\u001b[92m event\u001b[0m\u001b[92m we\u001b[0m\u001b[92m locate\u001b[0m\u001b[92m Mr\u001b[0m\u001b[92m.\u001b[0m\u001b[92m \u001b[0m\n",
       "\u001b[92mFal\u001b[0m\u001b[92mcone\u001b[0m\u001b[92m and\u001b[0m\u001b[92m Miss\u001b[0m\u001b[92m Bennett\u001b[0m\u001b[92m,\u001b[0m\u001b[92m how\u001b[0m\u001b[92m easy\u001b[0m\u001b[92m is\u001b[0m\u001b[92m it\u001b[0m\u001b[92m to\u001b[0m\u001b[92m find\u001b[0m\u001b[92m you\u001b[0m\u001b[92m to\u001b[0m\u001b[92m get\u001b[0m\u001b[92m you\u001b[0m\u001b[92m to\u001b[0m\u001b[92m testify\u001b[0m\u001b[92m?\u001b[0m\u001b[92m(\u001b[0m\u001b[92mCONT\u001b[0m\u001b[92mIN\u001b[0m\u001b[92mU\u001b[0m\u001b[92mED\u001b[0m\u001b[92m)\u001b[0m\u001b[92m9\u001b[0m\u001b[92m0\u001b[0m\u001b[92m.\u001b[0m\u001b[92m7\u001b[0m\u001b[92m6\u001b[0m\u001b[92m \u001b[0m\u001b[92m7\u001b[0m\u001b[92m6\u001b[0m\u001b[92m7\u001b[0m\u001b[92m7\u001b[0m\u001b[92m7\u001b[0m\u001b[92m8\u001b[0m\u001b[92mSun\u001b[0m\u001b[92mburst\u001b[0m\u001b[92m,\u001b[0m\u001b[92m \u001b[0m\n",
       "\u001b[92mMontana\u001b[0m\u001b[92m.\u001b[0m\u001b[92mP\u001b[0m\u001b[92mret\u001b[0m\u001b[92mty\u001b[0m\u001b[92m easy\u001b[0m\u001b[92m.\u001b[0m\u001b[92m There\u001b[0m\u001b[92m’\u001b[0m\u001b[92ms\u001b[0m\u001b[92m a\u001b[0m\u001b[92m lady\u001b[0m\u001b[92m outside\u001b[0m\u001b[92m to\u001b[0m\u001b[92m give\u001b[0m\u001b[92m you\u001b[0m\u001b[92m a\u001b[0m\u001b[92m ride\u001b[0m\u001b[92m.\u001b[0m\u001b[92m -\u001b[0m\u001b[92mGeorge\u001b[0m\u001b[92m goes\u001b[0m\u001b[92m directly\u001b[0m\u001b[92m to\u001b[0m\u001b[92m the\u001b[0m\u001b[92m lock\u001b[0m\u001b[92mer\u001b[0m\u001b[92m.\u001b[0m\u001b[92m He\u001b[0m\u001b[92m opens\u001b[0m\u001b[92m it\u001b[0m\u001b[92m \u001b[0m\n",
       "\u001b[92mand\u001b[0m\u001b[92m there\u001b[0m\u001b[92m is\u001b[0m\u001b[92m the\u001b[0m\u001b[92m envelope\u001b[0m\u001b[92m with\u001b[0m\u001b[92m the\u001b[0m\u001b[92m $\u001b[0m\u001b[92m3\u001b[0m\u001b[92m,\u001b[0m\u001b[92m0\u001b[0m\u001b[92m0\u001b[0m\u001b[92m0\u001b[0m\u001b[92m,\u001b[0m\u001b[92m just\u001b[0m\u001b[92m as\u001b[0m\u001b[92m he\u001b[0m\u001b[92m and\u001b[0m\u001b[92m Lucy\u001b[0m\u001b[92m had\u001b[0m\u001b[92m left\u001b[0m\u001b[92m it\u001b[0m\u001b[92m.\u001b[0m\u001b[92m He\u001b[0m\u001b[92m pockets\u001b[0m\u001b[92m the\u001b[0m\u001b[92m money\u001b[0m\u001b[92m and\u001b[0m\u001b[92m walks\u001b[0m\u001b[92m \u001b[0m\n",
       "\u001b[92mout\u001b[0m\u001b[92m.\u001b[0m\u001b[92mGeorge\u001b[0m\u001b[92m walks\u001b[0m\u001b[92m along\u001b[0m\u001b[92m the\u001b[0m\u001b[92m \u001b[0m\u001b[92m2\u001b[0m\u001b[92mnd\u001b[0m\u001b[92m level\u001b[0m\u001b[92m of\u001b[0m\u001b[92m mot\u001b[0m\u001b[92mel\u001b[0m\u001b[92m rooms\u001b[0m\u001b[92m,\u001b[0m\u001b[92m looks\u001b[0m\u001b[92m in\u001b[0m\u001b[92m through\u001b[0m\u001b[92m one\u001b[0m\u001b[92m screen\u001b[0m\u001b[92m,\u001b[0m\u001b[92m sees\u001b[0m\u001b[92m a\u001b[0m\u001b[92m man\u001b[0m\u001b[92m lying\u001b[0m\u001b[92m on\u001b[0m\u001b[92m a\u001b[0m\u001b[92m bed\u001b[0m\u001b[92m asleep\u001b[0m\u001b[92m,\u001b[0m\n",
       "\u001b[92mthen\u001b[0m\u001b[92m walks\u001b[0m\u001b[92m out\u001b[0m\u001b[92m farther\u001b[0m\u001b[92m”\u001b[0m\u001b[92m :\u001b[0m\u001b[92m until\u001b[0m\u001b[92m he\u001b[0m\u001b[92m reaches\u001b[0m\u001b[92m room\u001b[0m\u001b[92m \u001b[0m\u001b[92m2\u001b[0m\u001b[92m4\u001b[0m\u001b[92m2\u001b[0m\u001b[92m.\u001b[0m\u001b[92m He\u001b[0m\u001b[92m sees\u001b[0m\u001b[92m A\u001b[0m\u001b[92mile\u001b[0m\u001b[92men\u001b[0m\u001b[92m through\u001b[0m\u001b[92m the\u001b[0m\u001b[92m window\u001b[0m\u001b[92m before\u001b[0m\u001b[92m she\u001b[0m\u001b[92m notices\u001b[0m\u001b[92m him\u001b[0m\u001b[92m.\u001b[0m\u001b[92m She\u001b[0m\u001b[92m \u001b[0m\n",
       "\u001b[92mfinally\u001b[0m\u001b[92m does\u001b[0m\u001b[92m,\u001b[0m\u001b[92m comes\u001b[0m\u001b[92m to\u001b[0m\u001b[92m the\u001b[0m\u001b[92m door\u001b[0m\u001b[92m.\u001b[0m\u001b[92mGeorge\u001b[0m\u001b[92m makes\u001b[0m\u001b[92m a\u001b[0m\u001b[92m collect\u001b[0m\u001b[92m call\u001b[0m\u001b[92m to\u001b[0m\u001b[92m his\u001b[0m\u001b[92m father\u001b[0m\u001b[92m,\u001b[0m\u001b[92m who\u001b[0m\u001b[92m answers\u001b[0m\u001b[92m.\u001b[0m\u001b[92mHi\u001b[0m\u001b[92m,\u001b[0m\u001b[92m hi\u001b[0m\u001b[92m.\u001b[0m\u001b[92m It\u001b[0m\u001b[92m’\u001b[0m\u001b[92ms\u001b[0m\u001b[92m me\u001b[0m\u001b[92m.\u001b[0m\u001b[92m ((\u001b[0m\u001b[92msoft\u001b[0m\u001b[92mly\u001b[0m\u001b[92m,\u001b[0m\u001b[92m \u001b[0m\n",
       "\u001b[92mclose\u001b[0m\u001b[92m to\u001b[0m\u001b[92m phone\u001b[0m\u001b[92m))\u001b[0m\u001b[92mWhere\u001b[0m\u001b[92m the\u001b[0m\u001b[92m hell\u001b[0m\u001b[92m are\u001b[0m\u001b[92m you\u001b[0m\u001b[92m?\u001b[0m\u001b[92m ((\u001b[0m\u001b[92mst\u001b[0m\u001b[92mern\u001b[0m\u001b[92mly\u001b[0m\u001b[92m,\u001b[0m\u001b[92m but\u001b[0m\u001b[92m relieved\u001b[0m\u001b[92m))\u001b[0m\u001b[92m(\u001b[0m\u001b[92mquick\u001b[0m\u001b[92m1\u001b[0m\u001b[92my\u001b[0m\u001b[92m)\u001b[0m\u001b[92m .\u001b[0m\u001b[92m Down\u001b[0m\u001b[92m in\u001b[0m\u001b[92m Wyoming\u001b[0m\u001b[92m.\u001b[0m\u001b[92m I\u001b[0m\u001b[92m’\u001b[0m\u001b[92mm\u001b[0m\u001b[92m in\u001b[0m\u001b[92m Cas\u001b[0m\u001b[92mper\u001b[0m\u001b[92m.\u001b[0m\u001b[92mWhat\u001b[0m\u001b[92m \u001b[0m\n",
       "\u001b[92mthe\u001b[0m\u001b[92m hel\u001b[0m\u001b[92mi\u001b[0m\u001b[92m for\u001b[0m\u001b[92m?\u001b[0m\u001b[92m What\u001b[0m\u001b[92m the\u001b[0m\u001b[92m hell\u001b[0m\u001b[92m are\u001b[0m\u001b[92m you\u001b[0m\u001b[92m doing\u001b[0m\u001b[92m?\u001b[0m\u001b[92mI\u001b[0m\u001b[92m’\u001b[0m\u001b[92mm\u001b[0m\u001b[92m on\u001b[0m\u001b[92m my\u001b[0m\u001b[92m way\u001b[0m\u001b[92m home\u001b[0m\u001b[92m.\u001b[0m\u001b[92m I\u001b[0m\u001b[92m/\u001b[0m\u001b[92m1\u001b[0m\u001b[92m]\u001b[0m\u001b[92m probably\u001b[0m\u001b[92m be\u001b[0m\u001b[92m there\u001b[0m\u001b[92m tomorrow\u001b[0m\u001b[92m.\u001b[0m\u001b[92m I\u001b[0m\u001b[92m’\u001b[0m\u001b[92mm\u001b[0m\u001b[92m on\u001b[0m\u001b[92m the\u001b[0m\u001b[92m bus\u001b[0m\u001b[92m.\u001b[0m\u001b[92mJ\u001b[0m\u001b[92mACK\u001b[0m\u001b[92m \u001b[0m\n",
       "\u001b[92m(\u001b[0m\u001b[92mV\u001b[0m\u001b[92m.\u001b[0m\u001b[92m0\u001b[0m\u001b[92m.)\u001b[0m\u001b[92m i\u001b[0m\u001b[92m Where\u001b[0m\u001b[92m’\u001b[0m\u001b[92ms\u001b[0m\u001b[92m your\u001b[0m\u001b[92m mother\u001b[0m\u001b[92m?\u001b[0m\u001b[92m Are\u001b[0m\u001b[92m you\u001b[0m\u001b[92m with\u001b[0m\u001b[92m her\u001b[0m\u001b[92m?\u001b[0m\u001b[92mNo\u001b[0m\u001b[92m.\u001b[0m\u001b[92m She\u001b[0m\u001b[92m‘\u001b[0m\u001b[92m’\u001b[0m\u001b[92ms\u001b[0m\u001b[92m not\u001b[0m\u001b[92m.\u001b[0m\u001b[92m (\u001b[0m\u001b[92ma\u001b[0m\u001b[92m beat\u001b[0m\u001b[92m)\u001b[0m\u001b[92m *\u001b[0m\u001b[92m I\u001b[0m\u001b[92m saw\u001b[0m\u001b[92m her\u001b[0m\u001b[92m.\u001b[0m\u001b[92m She\u001b[0m\u001b[92m got\u001b[0m\u001b[92m back\u001b[0m\u001b[92m her\u001b[0m\u001b[92m car\u001b[0m\u001b[92m.\u001b[0m\u001b[92m \u001b[0m\n",
       "\u001b[92m((\u001b[0m\u001b[92ms\u001b[0m\u001b[92mull\u001b[0m\u001b[92men\u001b[0m\u001b[92mly\u001b[0m\u001b[92m))\u001b[0m\u001b[92mShe\u001b[0m\u001b[92m’\u001b[0m\u001b[92mll\u001b[0m\u001b[92m need\u001b[0m\u001b[92m it\u001b[0m\u001b[92m.\u001b[0m\u001b[92m Does\u001b[0m\u001b[92m she\u001b[0m\u001b[92m think\u001b[0m\u001b[92m she\u001b[0m\u001b[92m’\u001b[0m\u001b[92ms\u001b[0m\u001b[92m coming\u001b[0m\u001b[92m back\u001b[0m\u001b[92m?\u001b[0m\u001b[92mNo\u001b[0m\u001b[92m.\u001b[0m\u001b[92m Not\u001b[0m\u001b[92m right\u001b[0m\u001b[92m away\u001b[0m\u001b[92m.\u001b[0m\u001b[92mX\u001b[0m\u001b[92mI\u001b[0m\u001b[92m don\u001b[0m\u001b[92m’\u001b[0m\u001b[92mt\u001b[0m\u001b[92m get\u001b[0m\u001b[92m any\u001b[0m\u001b[92m of\u001b[0m\u001b[92m this\u001b[0m\u001b[92m.\u001b[0m\u001b[92m I\u001b[0m\u001b[92m don\u001b[0m\u001b[92m’\u001b[0m\u001b[92mt\u001b[0m\u001b[92m \u001b[0m\n",
       "\u001b[92mget\u001b[0m\u001b[92m any\u001b[0m\u001b[92m-\u001b[0m\u001b[92mof\u001b[0m\u001b[92m it\u001b[0m\u001b[92m.\u001b[0m\u001b[92m You\u001b[0m\u001b[92m know\u001b[0m\u001b[92m what\u001b[0m\u001b[92m I\u001b[0m\u001b[92m mean\u001b[0m\u001b[92m?\u001b[0m\u001b[92m I\u001b[0m\u001b[92m don\u001b[0m\u001b[92m’\u001b[0m\u001b[92mt\u001b[0m\u001b[92m.(\u001b[0m\u001b[92mCONT\u001b[0m\u001b[92mIN\u001b[0m\u001b[92mU\u001b[0m\u001b[92mED\u001b[0m\u001b[92m)\u001b[0m\u001b[92m1\u001b[0m\u001b[92m0\u001b[0m\u001b[92m1\u001b[0m\u001b[92m.\u001b[0m\u001b[92m8\u001b[0m\u001b[92m6\u001b[0m\u001b[92m8\u001b[0m\u001b[92m7\u001b[0m\u001b[92m8\u001b[0m\u001b[92m7\u001b[0m\u001b[92m8\u001b[0m\u001b[92m8\u001b[0m\u001b[92m1\u001b[0m\u001b[92m0\u001b[0m\u001b[92m2\u001b[0m\u001b[92m.\u001b[0m\u001b[92mI\u001b[0m\u001b[92m know\u001b[0m\u001b[92m.\u001b[0m\u001b[92m Ill\u001b[0m\u001b[92m be\u001b[0m\u001b[92m home\u001b[0m\u001b[92m tomorrow\u001b[0m\u001b[92m afternoon\u001b[0m\u001b[92m.\u001b[0m\u001b[92m \u001b[0m\n",
       "\u001b[92mOkay\u001b[0m\u001b[92m?\u001b[0m\u001b[92m ((\u001b[0m\u001b[92msoft\u001b[0m\u001b[92mly\u001b[0m\u001b[92m))\u001b[0m\u001b[92mSure\u001b[0m\u001b[92m.\u001b[0m\u001b[92m Why\u001b[0m\u001b[92m not\u001b[0m\u001b[92m?\u001b[0m\u001b[92m Come\u001b[0m\u001b[92m home\u001b[0m\u001b[92m.\u001b[0m\u001b[92m That\u001b[0m\u001b[92m’\u001b[0m\u001b[92ms\u001b[0m\u001b[92m great\u001b[0m\u001b[92m.\u001b[0m\u001b[92mI\u001b[0m\u001b[92m’\u001b[0m\u001b[92mll\u001b[0m\u001b[92m see\u001b[0m\u001b[92m you\u001b[0m\u001b[92m.\u001b[0m\u001b[92m ((\u001b[0m\u001b[92map\u001b[0m\u001b[92molog\u001b[0m\u001b[92metically\u001b[0m\u001b[92m))\u001b[0m\u001b[92mI\u001b[0m\u001b[92m‘\u001b[0m\u001b[92mll\u001b[0m\u001b[92m see\u001b[0m\u001b[92m you\u001b[0m\u001b[92m.\u001b[0m\u001b[92mThey\u001b[0m\u001b[92m hang\u001b[0m\u001b[92m \u001b[0m\n",
       "\u001b[92mup\u001b[0m\u001b[92m.\u001b[0m\u001b[92m1\u001b[0m\u001b[92m0\u001b[0m\u001b[92m6\u001b[0m\u001b[92m.\u001b[0m\u001b[92m -\u001b[0m\u001b[92m8\u001b[0m\u001b[92m8\u001b[0m\u001b[92m8\u001b[0m\u001b[92m9\u001b[0m\u001b[92mIn\u001b[0m\u001b[92m the\u001b[0m\u001b[92m rest\u001b[0m\u001b[92mroom\u001b[0m\u001b[92m a\u001b[0m\u001b[92m trav\u001b[0m\u001b[92meller\u001b[0m\u001b[92m is\u001b[0m\u001b[92m standing\u001b[0m\u001b[92m at\u001b[0m\u001b[92m the\u001b[0m\u001b[92m mirror\u001b[0m\u001b[92m wiping\u001b[0m\u001b[92mhis\u001b[0m\u001b[92m face\u001b[0m\u001b[92m after\u001b[0m\u001b[92m sh\u001b[0m\u001b[92maving\u001b[0m\u001b[92m.\u001b[0m\u001b[92m The\u001b[0m\u001b[92m trav\u001b[0m\u001b[92meller\u001b[0m\u001b[92m \u001b[0m\n",
       "\u001b[92mgl\u001b[0m\u001b[92mances\u001b[0m\u001b[92m at\u001b[0m\u001b[92m then\u001b[0m\u001b[92m.\u001b[0m\u001b[92mGeorge\u001b[0m\u001b[92m and\u001b[0m\u001b[92m the\u001b[0m\u001b[92m man\u001b[0m\u001b[92m step\u001b[0m\u001b[92m inside\u001b[0m\u001b[92m.\u001b[0m\u001b[92m The\u001b[0m\u001b[92m man\u001b[0m\u001b[92m sets\u001b[0m\u001b[92m his\u001b[0m\u001b[92m att\u001b[0m\u001b[92mache\u001b[0m\u001b[92mcase\u001b[0m\u001b[92m on\u001b[0m\u001b[92m a\u001b[0m\u001b[92m sink\u001b[0m\u001b[92m top\u001b[0m\u001b[92m,\u001b[0m\u001b[92m opens\u001b[0m\u001b[92m it\u001b[0m\u001b[92m as\u001b[0m\u001b[92m if\u001b[0m\u001b[92m looking\u001b[0m\u001b[92m \u001b[0m\n",
       "\u001b[92mfor\u001b[0m\u001b[92m papers\u001b[0m\u001b[92m.\u001b[0m\u001b[92mGeorge\u001b[0m\u001b[92m looks\u001b[0m\u001b[92m around\u001b[0m\u001b[92m the\u001b[0m\u001b[92m room\u001b[0m\u001b[92m,\u001b[0m\u001b[92m waits\u001b[0m\u001b[92m,\u001b[0m\u001b[92m on\u001b[0m\u001b[92m what\u001b[0m\u001b[92m he\u001b[0m\u001b[92m isn\u001b[0m\u001b[92m’\u001b[0m\u001b[92mt\u001b[0m\u001b[92m sure\u001b[0m\u001b[92m.\u001b[0m\u001b[92m As\u001b[0m\u001b[92m he\u001b[0m\u001b[92m talks\u001b[0m\u001b[92m,\u001b[0m\u001b[92m and\u001b[0m\u001b[92m unseen\u001b[0m\u001b[92m by\u001b[0m\u001b[92m George\u001b[0m\u001b[92m,\u001b[0m\u001b[92m the\u001b[0m\u001b[92m man\u001b[0m\u001b[92m \u001b[0m\n",
       "\u001b[92mtakes\u001b[0m\u001b[92m a\u001b[0m\u001b[92m pair\u001b[0m\u001b[92m of\u001b[0m\u001b[92m cow\u001b[0m\u001b[92m-\u001b[0m\u001b[92mskin\u001b[0m\u001b[92m driving\u001b[0m\u001b[92m gloves\u001b[0m\u001b[92m out\u001b[0m\u001b[92m of\u001b[0m\u001b[92m his\u001b[0m\u001b[92m case\u001b[0m\u001b[92m and\u001b[0m\u001b[92m puts\u001b[0m\u001b[92m them\u001b[0m\u001b[92m on\u001b[0m\u001b[92m.\u001b[0m\u001b[92mI\u001b[0m\u001b[92m always\u001b[0m\u001b[92m look\u001b[0m\u001b[92m forward\u001b[0m\u001b[92m to\u001b[0m\u001b[92m eating\u001b[0m\u001b[92m a\u001b[0m\u001b[92m decent\u001b[0m\u001b[92m \u001b[0m\n",
       "\u001b[92mmeal\u001b[0m\u001b[92m when\u001b[0m\u001b[92m I\u001b[0m\u001b[92m come\u001b[0m\u001b[92m into\u001b[0m\u001b[92m town\u001b[0m\u001b[92m,\u001b[0m\u001b[92myou\u001b[0m\u001b[92m know\u001b[0m\u001b[92m.\u001b[0m\u001b[92mBut\u001b[0m\u001b[92m the\u001b[0m\u001b[92m one\u001b[0m\u001b[92m place\u001b[0m\u001b[92m Ire\u001b[0m\u001b[92mally\u001b[0m\u001b[92m like\u001b[0m\u001b[92m,\u001b[0m\u001b[92m this\u001b[0m\u001b[92m En\u001b[0m\u001b[92mri\u001b[0m\u001b[92mque\u001b[0m\u001b[92m’\u001b[0m\u001b[92ms\u001b[0m\u001b[92m.\u001b[0m\u001b[92m They\u001b[0m\u001b[92m closed\u001b[0m\u001b[92m.\u001b[0m\u001b[92m Just\u001b[0m\u001b[92m gone\u001b[0m\u001b[92m.\u001b[0m\u001b[92m I\u001b[0m\u001b[92m like\u001b[0m\u001b[92m \u001b[0m\n",
       "\u001b[92mthat\u001b[0m\u001b[92m Italian\u001b[0m\u001b[92m food\u001b[0m\u001b[92m,\u001b[0m\u001b[92m boy\u001b[0m\u001b[92m.\u001b[0m\u001b[92m Las\u001b[0m\u001b[92magna\u001b[0m\u001b[92m.\u001b[0m\u001b[92mV\u001b[0m\u001b[92merm\u001b[0m\u001b[92mic\u001b[0m\u001b[92melli\u001b[0m\u001b[92m.\u001b[0m\u001b[92mV\u001b[0m\u001b[92meal\u001b[0m\u001b[92m Mars\u001b[0m\u001b[92mala\u001b[0m\u001b[92m.(\u001b[0m\u001b[92mCONT\u001b[0m\u001b[92mIN\u001b[0m\u001b[92mU\u001b[0m\u001b[92mED\u001b[0m\u001b[92m)\u001b[0m\u001b[92m \u001b[0m\u001b[92m8\u001b[0m\u001b[92m9\u001b[0m\u001b[92mF\u001b[0m\u001b[92maw\u001b[0m\u001b[92m ra\u001b[0m\u001b[92mel\u001b[0m\u001b[92m «\u001b[0m\u001b[92mi\u001b[0m\u001b[92mui\u001b[0m\u001b[92m us\u001b[0m\u001b[92m1\u001b[0m\u001b[92m0\u001b[0m\u001b[92m7\u001b[0m\u001b[92m.\u001b[0m\u001b[92mThe\u001b[0m\u001b[92m trav\u001b[0m\u001b[92meller\u001b[0m\u001b[92m leaves\u001b[0m\u001b[92m.\u001b[0m\u001b[92m \u001b[0m\n",
       "\u001b[92mGeorge\u001b[0m\u001b[92m looks\u001b[0m\u001b[92m around\u001b[0m\u001b[92m relaxed\u001b[0m\u001b[92m by\u001b[0m\u001b[92m the\u001b[0m\u001b[92m man\u001b[0m\u001b[92m’\u001b[0m\u001b[92ms\u001b[0m\u001b[92m conversation\u001b[0m\u001b[92m.\u001b[0m\u001b[92m The\u001b[0m\u001b[92m man\u001b[0m\u001b[92m turns\u001b[0m\u001b[92m and\u001b[0m\u001b[92m looks\u001b[0m\u001b[92m at\u001b[0m\u001b[92m George\u001b[0m\u001b[92m seriously\u001b[0m\u001b[92m.\u001b[0m\u001b[92mAll\u001b[0m\u001b[92m right\u001b[0m\u001b[92m now\u001b[0m\u001b[92m,\u001b[0m\u001b[92m \u001b[0m\n",
       "\u001b[92mson\u001b[0m\u001b[92m.\u001b[0m\u001b[92mHe\u001b[0m\u001b[92m steps\u001b[0m\u001b[92m in\u001b[0m\u001b[92m and\u001b[0m\u001b[92m hits\u001b[0m\u001b[92m George\u001b[0m\u001b[92m a\u001b[0m\u001b[92m hard\u001b[0m\u001b[92m blow\u001b[0m\u001b[92m with\u001b[0m\u001b[92m the\u001b[0m\u001b[92m flat\u001b[0m\u001b[92m of\u001b[0m\u001b[92m his\u001b[0m\u001b[92m hand\u001b[0m\u001b[92m straight\u001b[0m\u001b[92m across\u001b[0m\u001b[92m the\u001b[0m\u001b[92m cheek\u001b[0m\u001b[92m,\u001b[0m\u001b[92m knocking\u001b[0m\u001b[92m George\u001b[0m\u001b[92m \u001b[0m\n",
       "\u001b[92magainst\u001b[0m\u001b[92m the\u001b[0m\u001b[92m sinks\u001b[0m\u001b[92m and\u001b[0m\u001b[92m half\u001b[0m\u001b[92m off\u001b[0m\u001b[92m his\u001b[0m\u001b[92m feet\u001b[0m\u001b[92m.\u001b[0m\u001b[92m The\u001b[0m\u001b[92m man\u001b[0m\u001b[92m advances\u001b[0m\u001b[92m on\u001b[0m\u001b[92m h\u001b[0m\u001b[92min\u001b[0m\u001b[92m quickly\u001b[0m\u001b[92m,\u001b[0m\u001b[92m without\u001b[0m\u001b[92m speaking\u001b[0m\u001b[92m,\u001b[0m\u001b[92m flashes\u001b[0m\u001b[92m an\u001b[0m\u001b[92m un\u001b[0m\u001b[92mgain\u001b[0m\u001b[92mly\u001b[0m\u001b[92m \u001b[0m\n",
       "\u001b[92mleft\u001b[0m\u001b[92m hand\u001b[0m\u001b[92m--\u001b[0m\u001b[92m open\u001b[0m\u001b[92m fist\u001b[0m\u001b[92m--\u001b[0m\u001b[92mand\u001b[0m\u001b[92m hits\u001b[0m\u001b[92m George\u001b[0m\u001b[92m across\u001b[0m\u001b[92m the\u001b[0m\u001b[92m other\u001b[0m\u001b[92m cheek\u001b[0m\u001b[92m,\u001b[0m\u001b[92m knocking\u001b[0m\u001b[92m him\u001b[0m\u001b[92m further\u001b[0m\u001b[92m down\u001b[0m\u001b[92m.\u001b[0m\u001b[92m George\u001b[0m\u001b[92m scram\u001b[0m\u001b[92mbles\u001b[0m\u001b[92m up\u001b[0m\u001b[92m,\u001b[0m\u001b[92m his\u001b[0m\u001b[92m \u001b[0m\n",
       "\u001b[92meyes\u001b[0m\u001b[92m narrowed\u001b[0m\u001b[92m,\u001b[0m\u001b[92m gas\u001b[0m\u001b[92mping\u001b[0m\u001b[92m for\u001b[0m\u001b[92m breath\u001b[0m\u001b[92m.\u001b[0m\u001b[92m Again\u001b[0m\u001b[92m the\u001b[0m\u001b[92m man\u001b[0m\u001b[92m very\u001b[0m\u001b[92m quickly\u001b[0m\u001b[92m and\u001b[0m\u001b[92m method\u001b[0m\u001b[92mically\u001b[0m\u001b[92m moves\u001b[0m\u001b[92m in\u001b[0m\u001b[92m,\u001b[0m\u001b[92m but\u001b[0m\u001b[92m George\u001b[0m\u001b[92m slides\u001b[0m\u001b[92m off\u001b[0m\u001b[92m to\u001b[0m\u001b[92m \u001b[0m\n",
       "\u001b[92mthe\u001b[0m\u001b[92m left\u001b[0m\u001b[92m and\u001b[0m\u001b[92m when\u001b[0m\u001b[92m the\u001b[0m\u001b[92m man\u001b[0m\u001b[92m swings\u001b[0m\u001b[92m his\u001b[0m\u001b[92m flat\u001b[0m\u001b[92m hand\u001b[0m\u001b[92m,\u001b[0m\u001b[92m George\u001b[0m\u001b[92m is\u001b[0m\u001b[92m angled\u001b[0m\u001b[92m beside\u001b[0m\u001b[92m him\u001b[0m\u001b[92m and\u001b[0m\u001b[92m hits\u001b[0m\u001b[92m him\u001b[0m\u001b[92m \u001b[0m\u001b[92m4\u001b[0m\u001b[92m times\u001b[0m\u001b[92m in\u001b[0m\u001b[92m the\u001b[0m\u001b[92m face\u001b[0m\u001b[92m--\u001b[0m\u001b[92min\u001b[0m\u001b[92m \u001b[0m\n",
       "\u001b[92mcombinations\u001b[0m\u001b[92m~\u001b[0m\u001b[92m-\u001b[0m\u001b[92musing\u001b[0m\u001b[92m his\u001b[0m\u001b[92m painful\u001b[0m\u001b[92m,\u001b[0m\u001b[92m injured\u001b[0m\u001b[92m hand\u001b[0m\u001b[92m,\u001b[0m\u001b[92m and\u001b[0m\u001b[92m kn\u001b[0m\u001b[92mocks\u001b[0m\u001b[92m the\u001b[0m\u001b[92m man\u001b[0m\u001b[92m against\u001b[0m\u001b[92m the\u001b[0m\u001b[92m un\u001b[0m\u001b[92mlat\u001b[0m\u001b[92mched\u001b[0m\u001b[92m stall\u001b[0m\u001b[92m doors\u001b[0m\u001b[92m causing\u001b[0m\u001b[92m him\u001b[0m\u001b[92m to\u001b[0m\u001b[92m \u001b[0m\n",
       "\u001b[92mlose\u001b[0m\u001b[92m his\u001b[0m\u001b[92m balance\u001b[0m\u001b[92m and\u001b[0m\u001b[92m fall\u001b[0m\u001b[92m inside\u001b[0m\u001b[92m.\u001b[0m\u001b[92m As\u001b[0m\u001b[92m with\u001b[0m\u001b[92m the\u001b[0m\u001b[92m fight\u001b[0m\u001b[92m against\u001b[0m\u001b[92m the\u001b[0m\u001b[92m Indian\u001b[0m\u001b[92m boy\u001b[0m\u001b[92m earlier\u001b[0m\u001b[92m,\u001b[0m\u001b[92m this\u001b[0m\u001b[92m is\u001b[0m\u001b[92m a\u001b[0m\u001b[92m sudden\u001b[0m\u001b[92m,\u001b[0m\u001b[92m vicious\u001b[0m\u001b[92m,\u001b[0m\u001b[92m \u001b[0m\n",
       "\u001b[92mun\u001b[0m\u001b[92mmerc\u001b[0m\u001b[92miful\u001b[0m\u001b[92m fight\u001b[0m\u001b[92m.\u001b[0m\u001b[92mReal\u001b[0m\u001b[92m fer\u001b[0m\u001b[92mocity\u001b[0m\u001b[92m has\u001b[0m\u001b[92m been\u001b[0m\u001b[92m triggered\u001b[0m\u001b[92m in\u001b[0m\u001b[92m him\u001b[0m\u001b[92m,\u001b[0m\u001b[92m a\u001b[0m\u001b[92m fierc\u001b[0m\u001b[92meness\u001b[0m\u001b[92m only\u001b[0m\u001b[92m the\u001b[0m\u001b[92m last\u001b[0m\u001b[92m week\u001b[0m\u001b[92m of\u001b[0m\u001b[92m his\u001b[0m\u001b[92m life\u001b[0m\u001b[92m could\u001b[0m\u001b[92m’\u001b[0m\u001b[92mve\u001b[0m\u001b[92m \u001b[0m\n",
       "\u001b[92mprecisely\u001b[0m\u001b[92m released\u001b[0m\u001b[92m.\u001b[0m\u001b[92mAll\u001b[0m\u001b[92m right\u001b[0m\u001b[92m!\u001b[0m\u001b[92m Back\u001b[0m\u001b[92m off\u001b[0m\u001b[92m,\u001b[0m\u001b[92m y\u001b[0m\u001b[92mo\u001b[0m\u001b[92m son\u001b[0m\u001b[92m'\u001b[0m\u001b[92mof\u001b[0m\u001b[92m a\u001b[0m\u001b[92m b\u001b[0m\u001b[92mitch\u001b[0m\u001b[92m!\u001b[0m\u001b[92m :\u001b[0m\u001b[92m ((\u001b[0m\u001b[92mEnd\u001b[0m\u001b[92ming\u001b[0m\u001b[92m the\u001b[0m\u001b[92m test\u001b[0m\u001b[92m))\u001b[0m\u001b[92mI\u001b[0m\u001b[92m’\u001b[0m\u001b[92mll\u001b[0m\u001b[92m beat\u001b[0m\u001b[92m you\u001b[0m\u001b[92m to\u001b[0m\u001b[92m death\u001b[0m\u001b[92m!\u001b[0m\u001b[92mJesus\u001b[0m\u001b[92m!\u001b[0m\u001b[92m It\u001b[0m\u001b[92m’\u001b[0m\u001b[92ms\u001b[0m\u001b[92m \u001b[0m\n",
       "\u001b[92mokay\u001b[0m\u001b[92m!!\u001b[0m\u001b[92m You\u001b[0m\u001b[92m’\u001b[0m\u001b[92mre\u001b[0m\u001b[92m trying\u001b[0m\u001b[92m to\u001b[0m\u001b[92m kill\u001b[0m\u001b[92m me\u001b[0m\u001b[92m.\u001b[0m\u001b[92m -\u001b[0m\u001b[92m ((\u001b[0m\u001b[92msur\u001b[0m\u001b[92mprised\u001b[0m\u001b[92m))\u001b[0m\u001b[92mWhat\u001b[0m\u001b[92m the\u001b[0m\u001b[92m f\u001b[0m\u001b[92muck\u001b[0m\u001b[92m is\u001b[0m\u001b[92m this\u001b[0m\u001b[92m?\u001b[0m\u001b[92m ((\u001b[0m\u001b[92mang\u001b[0m\u001b[92mr\u001b[0m\u001b[92mily\u001b[0m\u001b[92m))\u001b[0m\u001b[92mGeorge\u001b[0m\u001b[92m stops\u001b[0m\u001b[92m and\u001b[0m\u001b[92m steps\u001b[0m\u001b[92m back\u001b[0m\u001b[92m.;\u001b[0m\u001b[92mHelp\u001b[0m\n",
       "\u001b[92mme\u001b[0m\u001b[92m out\u001b[0m\u001b[92m of\u001b[0m\u001b[92m ne\u001b[0m\u001b[92mre\u001b[0m\u001b[92m..\u001b[0m\u001b[92m_\u001b[0m\u001b[92m Pull\u001b[0m\u001b[92m yourself\u001b[0m\u001b[92m out\u001b[0m\u001b[92m.\u001b[0m\u001b[92mGeorge\u001b[0m\u001b[92m turns\u001b[0m\u001b[92m and\u001b[0m\u001b[92m st\u001b[0m\u001b[92mai\u001b[0m\u001b[92mks\u001b[0m\u001b[92m out\u001b[0m\u001b[92m of\u001b[0m\u001b[92m the\u001b[0m\u001b[92m bathroom\u001b[0m\u001b[92m.”\u001b[0m\u001b[92m He\u001b[0m\u001b[92m walks\u001b[0m\u001b[92m to\u001b[0m\u001b[92m the\u001b[0m\u001b[92m’\u001b[0m\u001b[92mseat\u001b[0m\u001b[92m hes\u001b[0m\u001b[92m been\u001b[0m\u001b[92m \u001b[0m\n",
       "\u001b[92moccupying\u001b[0m\u001b[92m.\u001b[0m\u001b[92m “\u001b[0m\u001b[92mHe\u001b[0m\u001b[92m's\u001b[0m\u001b[92m red\u001b[0m\u001b[92m-\u001b[0m\u001b[92mfaced\u001b[0m\u001b[92m,\u001b[0m\u001b[92m out\u001b[0m\u001b[92m-\u001b[0m\u001b[92mof\u001b[0m\u001b[92m-\u001b[0m\u001b[92mbreat\u001b[0m\u001b[92mh\u001b[0m\u001b[92m and\u001b[0m\u001b[92m angry\u001b[0m\u001b[92m,\u001b[0m\u001b[92m feeling\u001b[0m\u001b[92m he\u001b[0m\u001b[92m's\u001b[0m\u001b[92m been\u001b[0m\u001b[92m had\u001b[0m\u001b[92m.\u001b[0m\u001b[92m He\u001b[0m\u001b[92m sits\u001b[0m\u001b[92m,\u001b[0m\u001b[92m in\u001b[0m\u001b[92m a\u001b[0m\u001b[92m state\u001b[0m\u001b[92m of\u001b[0m\u001b[92m confused\u001b[0m\u001b[92m \u001b[0m\n",
       "\u001b[92mb\u001b[0m\u001b[92mellig\u001b[0m\u001b[92merence\u001b[0m\u001b[92m,\u001b[0m\u001b[92m his\u001b[0m\u001b[92m eyes\u001b[0m\u001b[92m dart\u001b[0m\u001b[92ming\u001b[0m\u001b[92m.\u001b[0m\u001b[92m THE\u001b[0m\u001b[92m MAN\u001b[0m\u001b[92m,\u001b[0m\u001b[92m who\u001b[0m\u001b[92m's\u001b[0m\u001b[92m come\u001b[0m\u001b[92m out\u001b[0m\u001b[92m of\u001b[0m\u001b[92m the\u001b[0m\u001b[92m y\u001b[0m\u001b[92mest\u001b[0m\u001b[92mro\u001b[0m\u001b[92mam\u001b[0m\u001b[92m after\u001b[0m\u001b[92m him\u001b[0m\u001b[92m'-\u001b[0m\u001b[92m though\u001b[0m\u001b[92m not\u001b[0m\u001b[92m actually\u001b[0m\u001b[92m chasing\u001b[0m\u001b[92m him\u001b[0m\n",
       "\u001b[92m-\u001b[0m\u001b[92m approaches\u001b[0m\u001b[92m,\u001b[0m\u001b[92m wiping\u001b[0m\u001b[92m n\u001b[0m\u001b[92mis\u001b[0m\u001b[92m face\u001b[0m\u001b[92m with\u001b[0m\u001b[92m a\u001b[0m\u001b[92m white\u001b[0m\u001b[92m —\u001b[0m\u001b[92m*\u001b[0m\u001b[92mae\u001b[0m\u001b[92m RH\u001b[0m\u001b[92m*\u001b[0m\u001b[92m \u001b[0m\u001b[92m8\u001b[0m\u001b[92m9\u001b[0m\u001b[92m9\u001b[0m\u001b[92m0\u001b[0m\u001b[92m8\u001b[0m\u001b[92m9\u001b[0m\u001b[92mNo\u001b[0m\u001b[92m use\u001b[0m\u001b[92m taking\u001b[0m\u001b[92m any\u001b[0m\u001b[92m p\u001b[0m\u001b[92muss\u001b[0m\u001b[92mies\u001b[0m\u001b[92m up\u001b[0m\u001b[92m there\u001b[0m\u001b[92m.\u001b[0m\u001b[92m You\u001b[0m\u001b[92m looked\u001b[0m\u001b[92m like\u001b[0m\u001b[92m a\u001b[0m\u001b[92m \u001b[0m\n",
       "\u001b[92mp\u001b[0m\u001b[92muss\u001b[0m\u001b[92my\u001b[0m\u001b[92m to\u001b[0m\u001b[92m me\u001b[0m\u001b[92m.\u001b[0m\u001b[92mSo\u001b[0m\u001b[92m.\u001b[0m\u001b[92m Well\u001b[0m\u001b[92m.\u001b[0m\u001b[92m I\u001b[0m\u001b[92m wouldn\u001b[0m\u001b[92m't\u001b[0m\u001b[92m get\u001b[0m\u001b[92m the\u001b[0m\u001b[92m job\u001b[0m\u001b[92m otherwise\u001b[0m\u001b[92m?\u001b[0m\u001b[92m *\u001b[0m\u001b[92m F\u001b[0m\u001b[92muck\u001b[0m\u001b[92m you\u001b[0m\u001b[92m.\u001b[0m\u001b[92m How\u001b[0m\u001b[92m's\u001b[0m\u001b[92m that\u001b[0m\u001b[92m?\u001b[0m\u001b[92m *\u001b[0m\u001b[92mA\u001b[0m\u001b[92m man\u001b[0m\u001b[92m's\u001b[0m\u001b[92m g\u001b[0m\u001b[92motta\u001b[0m\u001b[92m do\u001b[0m\u001b[92m what\u001b[0m\u001b[92m a\u001b[0m\u001b[92m man\u001b[0m\u001b[92m's\u001b[0m\u001b[92m \u001b[0m\n",
       "\u001b[92mg\u001b[0m\u001b[92motta\u001b[0m\u001b[92m do\u001b[0m\u001b[92m.\u001b[0m\u001b[92m *\u001b[0m\u001b[92m Six\u001b[0m\u001b[92m hundred\u001b[0m\u001b[92m bucks\u001b[0m\u001b[92m a\u001b[0m\u001b[92m we\u001b[0m\u001b[92mex\u001b[0m\u001b[92m.\u001b[0m\u001b[92m You\u001b[0m\u001b[92m up\u001b[0m\u001b[92m for\u001b[0m\u001b[92m it\u001b[0m\u001b[92m?\u001b[0m\u001b[92m *\u001b[0m\u001b[92m ((\u001b[0m\u001b[92mder\u001b[0m\u001b[92mis\u001b[0m\u001b[92mively\u001b[0m\u001b[92m))\u001b[0m\u001b[92mNo\u001b[0m\u001b[92m.\u001b[0m\u001b[92m *\u001b[0m\u001b[92m(\u001b[0m\u001b[92md\u001b[0m\u001b[92mism\u001b[0m\u001b[92mally\u001b[0m\u001b[92m)\u001b[0m\u001b[92m -\u001b[0m\u001b[92m Great\u001b[0m\u001b[92m.\u001b[0m\u001b[92m *\u001b[0m\u001b[92mEight\u001b[0m\u001b[92m hundred\u001b[0m\u001b[92m.\u001b[0m\u001b[92m *\u001b[0m\u001b[92m \u001b[0m\n",
       "\u001b[92m((\u001b[0m\u001b[92msecond\u001b[0m\u001b[92m-\u001b[0m\u001b[92mthinking\u001b[0m\u001b[92m but\u001b[0m\u001b[92m still\u001b[0m\u001b[92m angry\u001b[0m\u001b[92m))\u001b[0m\u001b[92mAnd\u001b[0m\u001b[92m not\u001b[0m\u001b[92m a\u001b[0m\u001b[92m penny\u001b[0m\u001b[92m less\u001b[0m\u001b[92m,\u001b[0m\u001b[92m I\u001b[0m\u001b[92m'm\u001b[0m\u001b[92m sure\u001b[0m\u001b[92m.\u001b[0m\u001b[92m *\u001b[0m\u001b[92m George\u001b[0m\u001b[92m st\u001b[0m\u001b[92mares\u001b[0m\u001b[92m him\u001b[0m\u001b[92m in\u001b[0m\u001b[92m the\u001b[0m\u001b[92m eye\u001b[0m\u001b[92m,\u001b[0m\u001b[92m Says\u001b[0m\u001b[92m nothing\u001b[0m\u001b[92m.\u001b[0m\u001b[92m *\u001b[0m\u001b[92m \u001b[0m\n",
       "\u001b[92m((\u001b[0m\u001b[92msm\u001b[0m\u001b[92miling\u001b[0m\u001b[92m,\u001b[0m\u001b[92m der\u001b[0m\u001b[92misive\u001b[0m\u001b[92m))\u001b[0m\u001b[92m«\u001b[0m\u001b[92m (\u001b[0m\u001b[92msm\u001b[0m\u001b[92miling\u001b[0m\u001b[92m still\u001b[0m\u001b[92m)\u001b[0m\u001b[92m O\u001b[0m\u001b[92m-\u001b[0m\u001b[92mk\u001b[0m\u001b[92may\u001b[0m\u001b[92m.\u001b[0m\u001b[92m You\u001b[0m\u001b[92m got\u001b[0m\u001b[92m it\u001b[0m\u001b[92m.*\u001b[0m\u001b[92mA\u001b[0m\u001b[92m rough\u001b[0m\u001b[92mneck\u001b[0m\u001b[92m in\u001b[0m\u001b[92m a\u001b[0m\u001b[92m hard\u001b[0m\u001b[92m hat\u001b[0m\u001b[92m sits\u001b[0m\u001b[92m inside\u001b[0m\u001b[92m the\u001b[0m\u001b[92m pickup\u001b[0m\u001b[92m.\u001b[0m\u001b[92m ~\u001b[0m\u001b[92m He\u001b[0m\u001b[92m \u001b[0m\n",
       "\u001b[92mlooks\u001b[0m\u001b[92m blank\u001b[0m\u001b[92mly\u001b[0m\u001b[92m at\u001b[0m\u001b[92m George\u001b[0m\u001b[92m.\u001b[0m\u001b[92mThe\u001b[0m\u001b[92m man\u001b[0m\u001b[92m opens\u001b[0m\u001b[92m the\u001b[0m\u001b[92m driver\u001b[0m\u001b[92m’\u001b[0m\u001b[92ms\u001b[0m\u001b[92m door\u001b[0m\u001b[92m,\u001b[0m\u001b[92m puts\u001b[0m\u001b[92m his\u001b[0m\u001b[92m case\u001b[0m\u001b[92m inside\u001b[0m\u001b[92m..\u001b[0m\u001b[92mGet\u001b[0m\u001b[92m in\u001b[0m\u001b[92m the\u001b[0m\u001b[92m back\u001b[0m\u001b[92m.\u001b[0m\u001b[92m We\u001b[0m\u001b[92m/\u001b[0m\u001b[92m’\u001b[0m\u001b[92mll\u001b[0m\u001b[92m find\u001b[0m\u001b[92m you\u001b[0m\u001b[92m a\u001b[0m\u001b[92m \u001b[0m\n",
       "\u001b[92mplace\u001b[0m\u001b[92m inside\u001b[0m\u001b[92m once\u001b[0m\u001b[92m we\u001b[0m\u001b[92m’\u001b[0m\u001b[92mre\u001b[0m\u001b[92m going\u001b[0m\u001b[92m.\u001b[0m\u001b[92mGeorge\u001b[0m\u001b[92m looks\u001b[0m\u001b[92m at\u001b[0m\u001b[92m the\u001b[0m\u001b[92m back\u001b[0m\u001b[92m of\u001b[0m\u001b[92m the\u001b[0m\u001b[92m pickup\u001b[0m\u001b[92m.\u001b[0m\u001b[92m The\u001b[0m\u001b[92m man\u001b[0m\u001b[92m turns\u001b[0m\u001b[92m to\u001b[0m\u001b[92m h\u001b[0m\u001b[92min\u001b[0m\u001b[92m.\u001b[0m\u001b[92mMy\u001b[0m\u001b[92m name\u001b[0m\u001b[92m’\u001b[0m\u001b[92ms\u001b[0m\u001b[92m Billy\u001b[0m\u001b[92m \u001b[0m\n",
       "\u001b[92mAbbott\u001b[0m\u001b[92m.\u001b[0m\u001b[92mGeorge\u001b[0m\u001b[92m.\u001b[0m\u001b[92m ((\u001b[0m\u001b[92mhal\u001b[0m\u001b[92mting\u001b[0m\u001b[92m))\u001b[0m\u001b[92mThey\u001b[0m\u001b[92m shake\u001b[0m\u001b[92m hands\u001b[0m\u001b[92m.\u001b[0m\u001b[92m George\u001b[0m\u001b[92m clim\u001b[0m\u001b[92mbs\u001b[0m\u001b[92m in\u001b[0m\u001b[92m the\u001b[0m\u001b[92m bed\u001b[0m\u001b[92m of\u001b[0m\u001b[92m the\u001b[0m\u001b[92m pickup\u001b[0m\u001b[92m.\u001b[0m\u001b[92mYou\u001b[0m\u001b[92m can\u001b[0m\u001b[92m’\u001b[0m\u001b[92mt\u001b[0m\u001b[92m get\u001b[0m\u001b[92m trustworthy\u001b[0m\u001b[92m boys\u001b[0m\u001b[92m \u001b[0m\n",
       "\u001b[92manymore\u001b[0m\u001b[92m.\u001b[0m\u001b[92m I\u001b[0m\u001b[92m prefer\u001b[0m\u001b[92m you\u001b[0m\u001b[92m farm\u001b[0m\u001b[92m boys\u001b[0m\u001b[92m.\u001b[0m\u001b[92m You\u001b[0m\u001b[92m know\u001b[0m\u001b[92m how\u001b[0m\u001b[92m to\u001b[0m\u001b[92m work\u001b[0m\u001b[92m.\u001b[0m\u001b[92mI\u001b[0m\u001b[92m/\u001b[0m\u001b[92m’\u001b[0m\u001b[92mm\u001b[0m\u001b[92m not\u001b[0m\u001b[92m a\u001b[0m\u001b[92m farm\u001b[0m\u001b[92m boy\u001b[0m\u001b[92m.\u001b[0m\u001b[92m ((\u001b[0m\u001b[92msoft\u001b[0m\u001b[92mly\u001b[0m\u001b[92m))\u001b[0m\u001b[92mM\u001b[0m\u001b[92mater\u001b[0m\u001b[92miel\u001b[0m\u001b[92m is\u001b[0m\u001b[92m in\u001b[0m\u001b[92m the\u001b[0m\u001b[92m back\u001b[0m\u001b[92m;\u001b[0m\u001b[92m coils\u001b[0m\n",
       "\u001b[92mof\u001b[0m\u001b[92m wire\u001b[0m\u001b[92m,\u001b[0m\u001b[92m tools\u001b[0m\u001b[92m,\u001b[0m\u001b[92m groceries\u001b[0m\u001b[92m.\u001b[0m\u001b[92m George\u001b[0m\u001b[92m makes\u001b[0m\u001b[92m a\u001b[0m\u001b[92m place\u001b[0m\u001b[92m for\u001b[0m\u001b[92m himself\u001b[0m\u001b[92m.\u001b[0m\u001b[92m The\u001b[0m\u001b[92m man\u001b[0m\u001b[92m gets\u001b[0m\u001b[92m in\u001b[0m\u001b[92m,\u001b[0m\u001b[92m checks\u001b[0m\u001b[92m on\u001b[0m\u001b[92m George\u001b[0m\u001b[92m,\u001b[0m\u001b[92m who\u001b[0m\u001b[92m’\u001b[0m\u001b[92ms\u001b[0m\u001b[92m settled\u001b[0m\u001b[92m,\u001b[0m\u001b[92m then\u001b[0m\n",
       "\u001b[92mstarts\u001b[0m\u001b[92m the\u001b[0m\u001b[92m truck\u001b[0m\u001b[92m.\u001b[0m\u001b[92mI\u001b[0m\u001b[92m wouldn\u001b[0m\u001b[92m’\u001b[0m\u001b[92mt\u001b[0m\u001b[92m want\u001b[0m\u001b[92m to\u001b[0m\u001b[92m be\u001b[0m\u001b[92m a\u001b[0m\u001b[92m kid\u001b[0m\u001b[92m again\u001b[0m\u001b[92m.\u001b[0m\u001b[92m ((\u001b[0m\u001b[92mgood\u001b[0m\u001b[92m-\u001b[0m\u001b[92mnature\u001b[0m\u001b[92md\u001b[0m\u001b[92mly\u001b[0m\u001b[92m to\u001b[0m\u001b[92m rough\u001b[0m\u001b[92mneck\u001b[0m\u001b[92m))\u001b[0m\u001b[92mGeorge\u001b[0m\u001b[92m says\u001b[0m\u001b[92m nothing\u001b[0m\u001b[92m,\u001b[0m\u001b[92m looks\u001b[0m\u001b[92m out\u001b[0m\u001b[92m \u001b[0m\n",
       "\u001b[92mover\u001b[0m\u001b[92m the\u001b[0m\u001b[92m back\u001b[0m\u001b[92m of\u001b[0m\u001b[92m the\u001b[0m\u001b[92m truck\u001b[0m\u001b[92m.\u001b[0m\u001b[92m We\u001b[0m\u001b[92m F\u001b[0m\u001b[92mOL\u001b[0m\u001b[92mLOW\u001b[0m\u001b[92m close\u001b[0m\u001b[92m on\u001b[0m\u001b[92m George\u001b[0m\u001b[92m as\u001b[0m\u001b[92m the\u001b[0m\u001b[92m truck\u001b[0m\u001b[92m pulls\u001b[0m\u001b[92m away\u001b[0m\u001b[92m,\u001b[0m\u001b[92m out\u001b[0m\u001b[92m into\u001b[0m\u001b[92m the\u001b[0m\u001b[92m street\u001b[0m\u001b[92m and\u001b[0m\u001b[92m up\u001b[0m\u001b[92m to\u001b[0m\u001b[92m a\u001b[0m\u001b[92m red\u001b[0m\u001b[92m \u001b[0m\n",
       "\u001b[92mlight\u001b[0m\u001b[92m.\u001b[0m\u001b[92mCAM\u001b[0m\u001b[92mER\u001b[0m\u001b[92mA\u001b[0m\u001b[92m moves\u001b[0m\u001b[92m very\u001b[0m\u001b[92m close\u001b[0m\u001b[92m,\u001b[0m\u001b[92m resting\u001b[0m\u001b[92m quietly\u001b[0m\u001b[92m on\u001b[0m\u001b[92m and\u001b[0m\u001b[92m examining\u001b[0m\u001b[92m George\u001b[0m\u001b[92m’\u001b[0m\u001b[92ms\u001b[0m\u001b[92m face\u001b[0m\u001b[92m as\u001b[0m\u001b[92m he\u001b[0m\u001b[92m st\u001b[0m\u001b[92mares\u001b[0m\u001b[92m out\u001b[0m\u001b[92m while\u001b[0m\u001b[92m the\u001b[0m\u001b[92m truck\u001b[0m\u001b[92m \u001b[0m\n",
       "\u001b[92mid\u001b[0m\u001b[92mles\u001b[0m\u001b[92m at\u001b[0m\u001b[92m the\u001b[0m\u001b[92m long\u001b[0m\u001b[92m red\u001b[0m\u001b[92m light\u001b[0m\u001b[92m.\u001b[0m\u001b[92m :\u001b[0m\u001b[92m .\u001b[0m\n"
      ]
     },
     "execution_count": 63,
     "metadata": {},
     "output_type": "execute_result"
    }
   ],
   "source": [
    "# Tokenizer dev\n",
    "first_batch = wrapper.data_module.train_dataset[0]\n",
    "# tokenized = wrapper.data_module.tokenize_conversation([first_batch[\"conversation\"]])\n",
    "for k in first_batch.keys():\n",
    "    first_batch[k] = torch.as_tensor(first_batch[k], dtype=torch.long)\n",
    "wrapper.data_module.visualize_sample(first_batch)"
   ]
  },
  {
   "cell_type": "code",
   "execution_count": 55,
   "metadata": {},
   "outputs": [
    {
     "name": "stderr",
     "output_type": "stream",
     "text": [
      "\u001b[32m2025-01-03 17:21:33.760\u001b[0m | \u001b[1mINFO    \u001b[0m | \u001b[36mtrl_wrapper.trainer_wrapper\u001b[0m:\u001b[36minit_trainer\u001b[0m:\u001b[36m267\u001b[0m - \u001b[1mInitializing trainer, run_name: run-01-03-17-21-886013-conversation-sft-smollm2-135m-instruct, wandb project: codecontests-llama-3b\u001b[0m\n",
      "\u001b[32m2025-01-03 17:21:33.761\u001b[0m | \u001b[1mINFO    \u001b[0m | \u001b[36mtrl_wrapper.trainer_wrapper\u001b[0m:\u001b[36minit_trainer\u001b[0m:\u001b[36m270\u001b[0m - \u001b[1mlogprobs cache location: ../dataset_caches/conversation_data_module/b68b303b/ref_logprobs_cache peft config: False\u001b[0m\n",
      "\u001b[32m2025-01-03 17:21:33.761\u001b[0m | \u001b[1mINFO    \u001b[0m | \u001b[36mtrl_wrapper.trainer_wrapper\u001b[0m:\u001b[36minit_trainer\u001b[0m:\u001b[36m273\u001b[0m - \u001b[1mWrapperConfig(model_id_or_path='HuggingFaceTB/SmolLM2-135M-Instruct', notebook_mode=True, max_sequence_length=1512, max_prompt_length=1024, max_eval_sample_length=1024, max_samples=1000, train_batch_size=4, eval_batch_size=2, gradient_accumulation_steps=1, gradient_checkpointing=True, root_dir=None, data_module_choice='conversation', wandb_project_name='codecontests-llama-3b', n_epochs=1, max_eval_dataset_size=None, train_on_inputs=True, adapter_path=None, dpo_beta=0.1, learning_rate=5e-05, max_grad_norm=0.3, lora_rank=256, lora_dropout=0.05, lora_alpha=128, logprob_precompute_batch_size=16, tuning_mode='sft', eval_data_mode='fixed', eval_steps=500, save_steps=500, using_mistral=False, run_suffix=None, special_tokens=['<thought>', '</thought>', '<solution>', '</solution>'], input_dataset_name='screenplay_conversations.parquet', custom_chat_template='ministral_8b')\u001b[0m\n",
      "/admin/home-brianf/smolmodels/notebooks/../trl_wrapper/trainer_wrapper.py:307: FutureWarning: `tokenizer` is deprecated and removed starting from version 0.16.0 for `SFTTrainer.__init__`. Use `processing_class` instead.\n",
      "  self.trainer = SFTTrainer(\n",
      "/admin/home-brianf/smolmodels/.venv/lib/python3.11/site-packages/trl/trainer/sft_trainer.py:300: UserWarning: You passed a processing_class with `padding_side` not equal to `right` to the SFTTrainer. This might lead to some unexpected behaviour due to overflow issues when training a model in half-precision. You might consider adding `processing_class.padding_side = 'right'` to your code.\n",
      "  warnings.warn(\n"
     ]
    }
   ],
   "source": [
    "wrapper.init_trainer()"
   ]
  },
  {
   "cell_type": "code",
   "execution_count": 59,
   "metadata": {},
   "outputs": [
    {
     "name": "stdout",
     "output_type": "stream",
     "text": [
      "[(torch.Size([8, 1512]), 'labels'), (torch.Size([8, 1512]), 'input_ids'), (torch.Size([8, 1512]), 'attention_mask')]\n",
      "[(torch.Size([8, 1512]), 'labels'), (torch.Size([8, 1512]), 'input_ids'), (torch.Size([8, 1512]), 'attention_mask')]\n",
      "[(torch.Size([4, 1512]), 'labels'), (torch.Size([4, 1512]), 'input_ids'), (torch.Size([4, 1512]), 'attention_mask')]\n"
     ]
    },
    {
     "name": "stderr",
     "output_type": "stream",
     "text": [
      "huggingface/tokenizers: The current process just got forked, after parallelism has already been used. Disabling parallelism to avoid deadlocks...\n",
      "To disable this warning, you can either:\n",
      "\t- Avoid using `tokenizers` before the fork if possible\n",
      "\t- Explicitly set the environment variable TOKENIZERS_PARALLELISM=(true | false)\n"
     ]
    }
   ],
   "source": [
    "for batch in wrapper.data_module.val_dataloader():\n",
    "    print([(v.shape, k) for k, v in batch.items()])"
   ]
  },
  {
   "cell_type": "code",
   "execution_count": 60,
   "metadata": {},
   "outputs": [
    {
     "name": "stderr",
     "output_type": "stream",
     "text": [
      "\u001b[32m2025-01-03 17:23:34.863\u001b[0m | \u001b[1mINFO    \u001b[0m | \u001b[36mtrl_wrapper.trainer_wrapper\u001b[0m:\u001b[36mtrain\u001b[0m:\u001b[36m486\u001b[0m - \u001b[1mStarting training.\u001b[0m\n"
     ]
    },
    {
     "data": {
      "text/html": [
       "\n",
       "    <div>\n",
       "      \n",
       "      <progress value='43' max='43' style='width:300px; height:20px; vertical-align: middle;'></progress>\n",
       "      [43/43 00:08, Epoch 1/1]\n",
       "    </div>\n",
       "    <table border=\"1\" class=\"dataframe\">\n",
       "  <thead>\n",
       " <tr style=\"text-align: left;\">\n",
       "      <th>Step</th>\n",
       "      <th>Training Loss</th>\n",
       "      <th>Validation Loss</th>\n",
       "    </tr>\n",
       "  </thead>\n",
       "  <tbody>\n",
       "    <tr>\n",
       "      <td>0</td>\n",
       "      <td>No log</td>\n",
       "      <td>3.592735</td>\n",
       "    </tr>\n",
       "  </tbody>\n",
       "</table><p>"
      ],
      "text/plain": [
       "<IPython.core.display.HTML object>"
      ]
     },
     "metadata": {},
     "output_type": "display_data"
    }
   ],
   "source": [
    "wrapper.train()"
   ]
  }
 ],
 "metadata": {
  "kernelspec": {
   "display_name": ".venv",
   "language": "python",
   "name": "python3"
  },
  "language_info": {
   "codemirror_mode": {
    "name": "ipython",
    "version": 3
   },
   "file_extension": ".py",
   "mimetype": "text/x-python",
   "name": "python",
   "nbconvert_exporter": "python",
   "pygments_lexer": "ipython3",
   "version": "3.11.11"
  }
 },
 "nbformat": 4,
 "nbformat_minor": 2
}
