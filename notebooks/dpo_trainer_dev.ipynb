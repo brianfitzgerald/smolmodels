{
 "cells": [
  {
   "cell_type": "code",
   "execution_count": 1,
   "metadata": {},
   "outputs": [
    {
     "name": "stderr",
     "output_type": "stream",
     "text": [
      "/home/ubuntu/smolmodels/.venv/lib/python3.11/site-packages/tqdm/auto.py:21: TqdmWarning: IProgress not found. Please update jupyter and ipywidgets. See https://ipywidgets.readthedocs.io/en/stable/user_install.html\n",
      "  from .autonotebook import tqdm as notebook_tqdm\n"
     ]
    }
   ],
   "source": [
    "import sys\n",
    "\n",
    "sys.path.append(\"..\")\n",
    "%load_ext autoreload\n",
    "%autoreload 2\n",
    "from trl_wrapper.trainer_wrapper import TrainerWrapper, PLAYWRIGHT_CONFIG, SMOL_LM_135M"
   ]
  },
  {
   "cell_type": "code",
   "execution_count": 3,
   "metadata": {},
   "outputs": [
    {
     "name": "stderr",
     "output_type": "stream",
     "text": [
      "\u001b[32m2025-01-25 01:45:59.355\u001b[0m | \u001b[1mINFO    \u001b[0m | \u001b[36mtrl_wrapper.trainer_wrapper\u001b[0m:\u001b[36m__init__\u001b[0m:\u001b[36m216\u001b[0m - \u001b[1mAdding special tokens: ['<summary>', '<scene>']\u001b[0m\n"
     ]
    }
   ],
   "source": [
    "cfg = PLAYWRIGHT_CONFIG\n",
    "cfg.notebook_mode = True\n",
    "cfg.model_id_or_path = SMOL_LM_135M\n",
    "cfg.max_samples = 1000\n",
    "wrapper = TrainerWrapper(cfg)"
   ]
  },
  {
   "cell_type": "code",
   "execution_count": 4,
   "metadata": {},
   "outputs": [
    {
     "data": {
      "text/plain": [
       "'playwright_summary_to_script'"
      ]
     },
     "execution_count": 4,
     "metadata": {},
     "output_type": "execute_result"
    }
   ],
   "source": [
    "cfg.data_module_choice"
   ]
  },
  {
   "cell_type": "code",
   "execution_count": 5,
   "metadata": {},
   "outputs": [
    {
     "name": "stderr",
     "output_type": "stream",
     "text": [
      "\u001b[32m2025-01-25 01:46:03.134\u001b[0m | \u001b[1mINFO    \u001b[0m | \u001b[36mtrl_wrapper.trainer_wrapper\u001b[0m:\u001b[36minit_model\u001b[0m:\u001b[36m234\u001b[0m - \u001b[1mLoading model HuggingFaceTB/SmolLM2-135M-Instruct with attn_impl: flash_attention_2\u001b[0m\n",
      "\u001b[32m2025-01-25 01:46:04.521\u001b[0m | \u001b[1mINFO    \u001b[0m | \u001b[36mtrl_wrapper.trainer_wrapper\u001b[0m:\u001b[36minit_model\u001b[0m:\u001b[36m247\u001b[0m - \u001b[1mResizing token embeddings for model to 49154\u001b[0m\n"
     ]
    }
   ],
   "source": [
    "wrapper.init_model()"
   ]
  },
  {
   "cell_type": "code",
   "execution_count": 17,
   "metadata": {},
   "outputs": [
    {
     "data": {
      "text/html": [
       "<pre style=\"white-space:pre;overflow-x:auto;line-height:normal;font-family:Menlo,'DejaVu Sans Mono',consolas,'Courier New',monospace\"><span style=\"color: #ff0000; text-decoration-color: #ff0000\">&lt;summary&gt;In this scene, Dunbar is speaking about someone who has a relentless approach to targeting individuals, </span>\n",
       "<span style=\"color: #ff0000; text-decoration-color: #ff0000\">suggesting that this person would focus on a specific target and pressure them until they give up. Dunbar's tone </span>\n",
       "<span style=\"color: #ff0000; text-decoration-color: #ff0000\">implies a sense of frustration or admiration for the tenacity of the individual being discussed. The scene likely </span>\n",
       "<span style=\"color: #ff0000; text-decoration-color: #ff0000\">involves a conversation among characters who are reflecting on the impact of this person's behavior on others, </span>\n",
       "<span style=\"color: #ff0000; text-decoration-color: #ff0000\">possibly in a context of competition or conflict. The atmosphere may be tense, as the characters consider the </span>\n",
       "<span style=\"color: #ff0000; text-decoration-color: #ff0000\">implications of such relentless pursuit.</span><span style=\"color: #00ff00; text-decoration-color: #00ff00\">&lt;scene&gt;DUNBAR: He'd zero in on a fella and ride him till he quit.</span>\n",
       "</pre>\n"
      ],
      "text/plain": [
       "\u001b[91m<summary>\u001b[0m\u001b[91mIn\u001b[0m\u001b[91m this\u001b[0m\u001b[91m scene\u001b[0m\u001b[91m,\u001b[0m\u001b[91m Dun\u001b[0m\u001b[91mbar\u001b[0m\u001b[91m is\u001b[0m\u001b[91m speaking\u001b[0m\u001b[91m about\u001b[0m\u001b[91m someone\u001b[0m\u001b[91m who\u001b[0m\u001b[91m has\u001b[0m\u001b[91m a\u001b[0m\u001b[91m relentless\u001b[0m\u001b[91m approach\u001b[0m\u001b[91m to\u001b[0m\u001b[91m targeting\u001b[0m\u001b[91m individuals\u001b[0m\u001b[91m,\u001b[0m\u001b[91m \u001b[0m\n",
       "\u001b[91msuggesting\u001b[0m\u001b[91m that\u001b[0m\u001b[91m this\u001b[0m\u001b[91m person\u001b[0m\u001b[91m would\u001b[0m\u001b[91m focus\u001b[0m\u001b[91m on\u001b[0m\u001b[91m a\u001b[0m\u001b[91m specific\u001b[0m\u001b[91m target\u001b[0m\u001b[91m and\u001b[0m\u001b[91m pressure\u001b[0m\u001b[91m them\u001b[0m\u001b[91m until\u001b[0m\u001b[91m they\u001b[0m\u001b[91m give\u001b[0m\u001b[91m up\u001b[0m\u001b[91m.\u001b[0m\u001b[91m Dun\u001b[0m\u001b[91mbar\u001b[0m\u001b[91m's\u001b[0m\u001b[91m tone\u001b[0m\u001b[91m \u001b[0m\n",
       "\u001b[91mimplies\u001b[0m\u001b[91m a\u001b[0m\u001b[91m sense\u001b[0m\u001b[91m of\u001b[0m\u001b[91m frustration\u001b[0m\u001b[91m or\u001b[0m\u001b[91m admiration\u001b[0m\u001b[91m for\u001b[0m\u001b[91m the\u001b[0m\u001b[91m tenacity\u001b[0m\u001b[91m of\u001b[0m\u001b[91m the\u001b[0m\u001b[91m individual\u001b[0m\u001b[91m being\u001b[0m\u001b[91m discussed\u001b[0m\u001b[91m.\u001b[0m\u001b[91m The\u001b[0m\u001b[91m scene\u001b[0m\u001b[91m likely\u001b[0m\u001b[91m \u001b[0m\n",
       "\u001b[91minvolves\u001b[0m\u001b[91m a\u001b[0m\u001b[91m conversation\u001b[0m\u001b[91m among\u001b[0m\u001b[91m characters\u001b[0m\u001b[91m who\u001b[0m\u001b[91m are\u001b[0m\u001b[91m reflecting\u001b[0m\u001b[91m on\u001b[0m\u001b[91m the\u001b[0m\u001b[91m impact\u001b[0m\u001b[91m of\u001b[0m\u001b[91m this\u001b[0m\u001b[91m person\u001b[0m\u001b[91m's\u001b[0m\u001b[91m behavior\u001b[0m\u001b[91m on\u001b[0m\u001b[91m others\u001b[0m\u001b[91m,\u001b[0m\u001b[91m \u001b[0m\n",
       "\u001b[91mpossibly\u001b[0m\u001b[91m in\u001b[0m\u001b[91m a\u001b[0m\u001b[91m context\u001b[0m\u001b[91m of\u001b[0m\u001b[91m competition\u001b[0m\u001b[91m or\u001b[0m\u001b[91m conflict\u001b[0m\u001b[91m.\u001b[0m\u001b[91m The\u001b[0m\u001b[91m atmosphere\u001b[0m\u001b[91m may\u001b[0m\u001b[91m be\u001b[0m\u001b[91m tense\u001b[0m\u001b[91m,\u001b[0m\u001b[91m as\u001b[0m\u001b[91m the\u001b[0m\u001b[91m characters\u001b[0m\u001b[91m consider\u001b[0m\u001b[91m the\u001b[0m\u001b[91m \u001b[0m\n",
       "\u001b[91mimplications\u001b[0m\u001b[91m of\u001b[0m\u001b[91m such\u001b[0m\u001b[91m relentless\u001b[0m\u001b[91m pursuit\u001b[0m\u001b[91m.\u001b[0m\u001b[92m<scene>\u001b[0m\u001b[92mD\u001b[0m\u001b[92mUN\u001b[0m\u001b[92mB\u001b[0m\u001b[92mAR\u001b[0m\u001b[92m:\u001b[0m\u001b[92m He\u001b[0m\u001b[92m'd\u001b[0m\u001b[92m zero\u001b[0m\u001b[92m in\u001b[0m\u001b[92m on\u001b[0m\u001b[92m a\u001b[0m\u001b[92m fell\u001b[0m\u001b[92ma\u001b[0m\u001b[92m and\u001b[0m\u001b[92m ride\u001b[0m\u001b[92m him\u001b[0m\u001b[92m till\u001b[0m\u001b[92m he\u001b[0m\u001b[92m quit\u001b[0m\u001b[92m.\u001b[0m\n"
      ]
     },
     "metadata": {},
     "output_type": "display_data"
    },
    {
     "data": {
      "text/html": [
       "<pre style=\"white-space:pre;overflow-x:auto;line-height:normal;font-family:Menlo,'DejaVu Sans Mono',consolas,'Courier New',monospace\"><span style=\"color: #ff0000; text-decoration-color: #ff0000\">&lt;summary&gt;Early approaches the girls, showing concern for their well-being. He suggests that they take a break and </span>\n",
       "<span style=\"color: #ff0000; text-decoration-color: #ff0000\">offers to take pictures himself, indicating he wants to keep them safe. He shares a playful moment with Adele, </span>\n",
       "<span style=\"color: #ff0000; text-decoration-color: #ff0000\">kissing her cheek, which adds a layer of affection to their interaction. Early then reassures Carrie, implying that</span>\n",
       "<span style=\"color: #ff0000; text-decoration-color: #ff0000\">he has everything under control and that they should stay put. Adele, wanting to stay behind, references a game </span>\n",
       "<span style=\"color: #ff0000; text-decoration-color: #ff0000\">called \"walk the dog,\" hinting at a playful or carefree attitude. The scene shifts to Carrie’s perspective, </span>\n",
       "<span style=\"color: #ff0000; text-decoration-color: #ff0000\">emphasizing her viewpoint and possibly her feelings about the situation unfolding around her. The focus on Carrie </span>\n",
       "<span style=\"color: #ff0000; text-decoration-color: #ff0000\">suggests she may be feeling left out or concerned about the dynamics between Early and Adele.</span><span style=\"color: #00ff00; text-decoration-color: #00ff00\">&lt;scene&gt;EARLY: Figured </span>\n",
       "<span style=\"color: #00ff00; text-decoration-color: #00ff00\">your hands might be starting to hurt.</span>\n",
       "<span style=\"color: #00ff00; text-decoration-color: #00ff00\">EARLY: Let's have a look. You girls coming?</span>\n",
       "<span style=\"color: #00ff00; text-decoration-color: #00ff00\">ADELE: Can I just wait here?</span>\n",
       "<span style=\"color: #00ff00; text-decoration-color: #00ff00\">EARLY: (to Carrie)</span>\n",
       "<span style=\"color: #00ff00; text-decoration-color: #00ff00\">Don't worry Bri', I'll take the pictures. (to Adele, with a kiss to her cheek) ...you stay here with Carrie. You </span>\n",
       "<span style=\"color: #00ff00; text-decoration-color: #00ff00\">run off... Bri' pays the price. Karma, remember?</span>\n",
       "<span style=\"color: #00ff00; text-decoration-color: #00ff00\">ADELE: This is called walk the dog.</span>\n",
       "<span style=\"color: #00ff00; text-decoration-color: #00ff00\">NEW ANGLE - EXTREME CU: </span>\n",
       "<span style=\"color: #00ff00; text-decoration-color: #00ff00\">CARRIE'S POV: </span>\n",
       "</pre>\n"
      ],
      "text/plain": [
       "\u001b[91m<summary>\u001b[0m\u001b[91mEarly\u001b[0m\u001b[91m approaches\u001b[0m\u001b[91m the\u001b[0m\u001b[91m girls\u001b[0m\u001b[91m,\u001b[0m\u001b[91m showing\u001b[0m\u001b[91m concern\u001b[0m\u001b[91m for\u001b[0m\u001b[91m their\u001b[0m\u001b[91m well\u001b[0m\u001b[91m-\u001b[0m\u001b[91mbeing\u001b[0m\u001b[91m.\u001b[0m\u001b[91m He\u001b[0m\u001b[91m suggests\u001b[0m\u001b[91m that\u001b[0m\u001b[91m they\u001b[0m\u001b[91m take\u001b[0m\u001b[91m a\u001b[0m\u001b[91m break\u001b[0m\u001b[91m and\u001b[0m\u001b[91m \u001b[0m\n",
       "\u001b[91moffers\u001b[0m\u001b[91m to\u001b[0m\u001b[91m take\u001b[0m\u001b[91m pictures\u001b[0m\u001b[91m himself\u001b[0m\u001b[91m,\u001b[0m\u001b[91m indicating\u001b[0m\u001b[91m he\u001b[0m\u001b[91m wants\u001b[0m\u001b[91m to\u001b[0m\u001b[91m keep\u001b[0m\u001b[91m them\u001b[0m\u001b[91m safe\u001b[0m\u001b[91m.\u001b[0m\u001b[91m He\u001b[0m\u001b[91m shares\u001b[0m\u001b[91m a\u001b[0m\u001b[91m playful\u001b[0m\u001b[91m moment\u001b[0m\u001b[91m with\u001b[0m\u001b[91m Ade\u001b[0m\u001b[91mle\u001b[0m\u001b[91m,\u001b[0m\u001b[91m \u001b[0m\n",
       "\u001b[91mkissing\u001b[0m\u001b[91m her\u001b[0m\u001b[91m cheek\u001b[0m\u001b[91m,\u001b[0m\u001b[91m which\u001b[0m\u001b[91m adds\u001b[0m\u001b[91m a\u001b[0m\u001b[91m layer\u001b[0m\u001b[91m of\u001b[0m\u001b[91m affection\u001b[0m\u001b[91m to\u001b[0m\u001b[91m their\u001b[0m\u001b[91m interaction\u001b[0m\u001b[91m.\u001b[0m\u001b[91m Early\u001b[0m\u001b[91m then\u001b[0m\u001b[91m reass\u001b[0m\u001b[91mures\u001b[0m\u001b[91m Car\u001b[0m\u001b[91mrie\u001b[0m\u001b[91m,\u001b[0m\u001b[91m implying\u001b[0m\u001b[91m that\u001b[0m\n",
       "\u001b[91mhe\u001b[0m\u001b[91m has\u001b[0m\u001b[91m everything\u001b[0m\u001b[91m under\u001b[0m\u001b[91m control\u001b[0m\u001b[91m and\u001b[0m\u001b[91m that\u001b[0m\u001b[91m they\u001b[0m\u001b[91m should\u001b[0m\u001b[91m stay\u001b[0m\u001b[91m put\u001b[0m\u001b[91m.\u001b[0m\u001b[91m Ade\u001b[0m\u001b[91mle\u001b[0m\u001b[91m,\u001b[0m\u001b[91m wanting\u001b[0m\u001b[91m to\u001b[0m\u001b[91m stay\u001b[0m\u001b[91m behind\u001b[0m\u001b[91m,\u001b[0m\u001b[91m references\u001b[0m\u001b[91m a\u001b[0m\u001b[91m game\u001b[0m\u001b[91m \u001b[0m\n",
       "\u001b[91mcalled\u001b[0m\u001b[91m \"\u001b[0m\u001b[91mwalk\u001b[0m\u001b[91m the\u001b[0m\u001b[91m dog\u001b[0m\u001b[91m,\"\u001b[0m\u001b[91m hint\u001b[0m\u001b[91ming\u001b[0m\u001b[91m at\u001b[0m\u001b[91m a\u001b[0m\u001b[91m playful\u001b[0m\u001b[91m or\u001b[0m\u001b[91m care\u001b[0m\u001b[91mfree\u001b[0m\u001b[91m attitude\u001b[0m\u001b[91m.\u001b[0m\u001b[91m The\u001b[0m\u001b[91m scene\u001b[0m\u001b[91m shifts\u001b[0m\u001b[91m to\u001b[0m\u001b[91m Car\u001b[0m\u001b[91mrie\u001b[0m\u001b[91m’\u001b[0m\u001b[91ms\u001b[0m\u001b[91m perspective\u001b[0m\u001b[91m,\u001b[0m\u001b[91m \u001b[0m\n",
       "\u001b[91memphasizing\u001b[0m\u001b[91m her\u001b[0m\u001b[91m viewpoint\u001b[0m\u001b[91m and\u001b[0m\u001b[91m possibly\u001b[0m\u001b[91m her\u001b[0m\u001b[91m feelings\u001b[0m\u001b[91m about\u001b[0m\u001b[91m the\u001b[0m\u001b[91m situation\u001b[0m\u001b[91m unfolding\u001b[0m\u001b[91m around\u001b[0m\u001b[91m her\u001b[0m\u001b[91m.\u001b[0m\u001b[91m The\u001b[0m\u001b[91m focus\u001b[0m\u001b[91m on\u001b[0m\u001b[91m Car\u001b[0m\u001b[91mrie\u001b[0m\u001b[91m \u001b[0m\n",
       "\u001b[91msuggests\u001b[0m\u001b[91m she\u001b[0m\u001b[91m may\u001b[0m\u001b[91m be\u001b[0m\u001b[91m feeling\u001b[0m\u001b[91m left\u001b[0m\u001b[91m out\u001b[0m\u001b[91m or\u001b[0m\u001b[91m concerned\u001b[0m\u001b[91m about\u001b[0m\u001b[91m the\u001b[0m\u001b[91m dynamics\u001b[0m\u001b[91m between\u001b[0m\u001b[91m Early\u001b[0m\u001b[91m and\u001b[0m\u001b[91m Ade\u001b[0m\u001b[91mle\u001b[0m\u001b[91m.\u001b[0m\u001b[92m<scene>\u001b[0m\u001b[92mEAR\u001b[0m\u001b[92mLY\u001b[0m\u001b[92m:\u001b[0m\u001b[92m Fig\u001b[0m\u001b[92mured\u001b[0m\u001b[92m \u001b[0m\n",
       "\u001b[92myour\u001b[0m\u001b[92m hands\u001b[0m\u001b[92m might\u001b[0m\u001b[92m be\u001b[0m\u001b[92m starting\u001b[0m\u001b[92m to\u001b[0m\u001b[92m hurt\u001b[0m\u001b[92m.\u001b[0m\n",
       "\u001b[92mEAR\u001b[0m\u001b[92mLY\u001b[0m\u001b[92m:\u001b[0m\u001b[92m Let\u001b[0m\u001b[92m's\u001b[0m\u001b[92m have\u001b[0m\u001b[92m a\u001b[0m\u001b[92m look\u001b[0m\u001b[92m.\u001b[0m\u001b[92m You\u001b[0m\u001b[92m girls\u001b[0m\u001b[92m coming\u001b[0m\u001b[92m?\u001b[0m\n",
       "\u001b[92mAD\u001b[0m\u001b[92mEL\u001b[0m\u001b[92mE\u001b[0m\u001b[92m:\u001b[0m\u001b[92m Can\u001b[0m\u001b[92m I\u001b[0m\u001b[92m just\u001b[0m\u001b[92m wait\u001b[0m\u001b[92m here\u001b[0m\u001b[92m?\u001b[0m\n",
       "\u001b[92mEAR\u001b[0m\u001b[92mLY\u001b[0m\u001b[92m:\u001b[0m\u001b[92m (\u001b[0m\u001b[92mto\u001b[0m\u001b[92m Car\u001b[0m\u001b[92mrie\u001b[0m\u001b[92m)\u001b[0m\n",
       "\u001b[92mDon\u001b[0m\u001b[92m't\u001b[0m\u001b[92m worry\u001b[0m\u001b[92m Bri\u001b[0m\u001b[92m',\u001b[0m\u001b[92m I\u001b[0m\u001b[92m'll\u001b[0m\u001b[92m take\u001b[0m\u001b[92m the\u001b[0m\u001b[92m pictures\u001b[0m\u001b[92m.\u001b[0m\u001b[92m (\u001b[0m\u001b[92mto\u001b[0m\u001b[92m Ade\u001b[0m\u001b[92mle\u001b[0m\u001b[92m,\u001b[0m\u001b[92m with\u001b[0m\u001b[92m a\u001b[0m\u001b[92m kiss\u001b[0m\u001b[92m to\u001b[0m\u001b[92m her\u001b[0m\u001b[92m cheek\u001b[0m\u001b[92m)\u001b[0m\u001b[92m ...\u001b[0m\u001b[92myou\u001b[0m\u001b[92m stay\u001b[0m\u001b[92m here\u001b[0m\u001b[92m with\u001b[0m\u001b[92m Car\u001b[0m\u001b[92mrie\u001b[0m\u001b[92m.\u001b[0m\u001b[92m You\u001b[0m\u001b[92m \u001b[0m\n",
       "\u001b[92mrun\u001b[0m\u001b[92m off\u001b[0m\u001b[92m...\u001b[0m\u001b[92m Bri\u001b[0m\u001b[92m'\u001b[0m\u001b[92m pays\u001b[0m\u001b[92m the\u001b[0m\u001b[92m price\u001b[0m\u001b[92m.\u001b[0m\u001b[92m K\u001b[0m\u001b[92marma\u001b[0m\u001b[92m,\u001b[0m\u001b[92m remember\u001b[0m\u001b[92m?\u001b[0m\n",
       "\u001b[92mAD\u001b[0m\u001b[92mEL\u001b[0m\u001b[92mE\u001b[0m\u001b[92m:\u001b[0m\u001b[92m This\u001b[0m\u001b[92m is\u001b[0m\u001b[92m called\u001b[0m\u001b[92m walk\u001b[0m\u001b[92m the\u001b[0m\u001b[92m dog\u001b[0m\u001b[92m.\u001b[0m\n",
       "\u001b[92mNEW\u001b[0m\u001b[92m AN\u001b[0m\u001b[92mG\u001b[0m\u001b[92mLE\u001b[0m\u001b[92m -\u001b[0m\u001b[92m EX\u001b[0m\u001b[92mT\u001b[0m\u001b[92mRE\u001b[0m\u001b[92mME\u001b[0m\u001b[92m CU\u001b[0m\u001b[92m:\u001b[0m\u001b[92m \u001b[0m\n",
       "\u001b[92mCAR\u001b[0m\u001b[92mRI\u001b[0m\u001b[92mE\u001b[0m\u001b[92m'\u001b[0m\u001b[92mS\u001b[0m\u001b[92m PO\u001b[0m\u001b[92mV\u001b[0m\u001b[92m:\u001b[0m\u001b[92m \u001b[0m\n"
      ]
     },
     "metadata": {},
     "output_type": "display_data"
    },
    {
     "data": {
      "text/html": [
       "<pre style=\"white-space:pre;overflow-x:auto;line-height:normal;font-family:Menlo,'DejaVu Sans Mono',consolas,'Courier New',monospace\"><span style=\"color: #ff0000; text-decoration-color: #ff0000\">&lt;summary&gt;In this scene, Sam is playfully wiggling his hands, indicating a lighthearted or mocking attitude towards </span>\n",
       "<span style=\"color: #ff0000; text-decoration-color: #ff0000\">someone named George, who seems to be known for giving long speeches. Sam's tone is jovial, as he uses a playful </span>\n",
       "<span style=\"color: #ff0000; text-decoration-color: #ff0000\">\"hee-haw\" to emphasize his amusement. The close shot focuses on Sam's expressive actions, suggesting he is in a </span>\n",
       "<span style=\"color: #ff0000; text-decoration-color: #ff0000\">relaxed or humorous mood, possibly sharing a moment with others nearby who might be reacting to his antics. The </span>\n",
       "<span style=\"color: #ff0000; text-decoration-color: #ff0000\">scene sets a light and comedic tone, highlighting Sam's personality and his relationship with George.</span><span style=\"color: #00ff00; text-decoration-color: #00ff00\">&lt;scene&gt;CLOSE </span>\n",
       "<span style=\"color: #00ff00; text-decoration-color: #00ff00\">SHOT: </span>\n",
       "<span style=\"color: #00ff00; text-decoration-color: #00ff00\">SAM: (wiggles his hands)</span>\n",
       "<span style=\"color: #00ff00; text-decoration-color: #00ff00\">That old George... he's always making a speech. Hee-haw!</span>\n",
       "</pre>\n"
      ],
      "text/plain": [
       "\u001b[91m<summary>\u001b[0m\u001b[91mIn\u001b[0m\u001b[91m this\u001b[0m\u001b[91m scene\u001b[0m\u001b[91m,\u001b[0m\u001b[91m Sam\u001b[0m\u001b[91m is\u001b[0m\u001b[91m play\u001b[0m\u001b[91mfully\u001b[0m\u001b[91m wigg\u001b[0m\u001b[91mling\u001b[0m\u001b[91m his\u001b[0m\u001b[91m hands\u001b[0m\u001b[91m,\u001b[0m\u001b[91m indicating\u001b[0m\u001b[91m a\u001b[0m\u001b[91m light\u001b[0m\u001b[91mhearted\u001b[0m\u001b[91m or\u001b[0m\u001b[91m mocking\u001b[0m\u001b[91m attitude\u001b[0m\u001b[91m towards\u001b[0m\u001b[91m \u001b[0m\n",
       "\u001b[91msomeone\u001b[0m\u001b[91m named\u001b[0m\u001b[91m George\u001b[0m\u001b[91m,\u001b[0m\u001b[91m who\u001b[0m\u001b[91m seems\u001b[0m\u001b[91m to\u001b[0m\u001b[91m be\u001b[0m\u001b[91m known\u001b[0m\u001b[91m for\u001b[0m\u001b[91m giving\u001b[0m\u001b[91m long\u001b[0m\u001b[91m speeches\u001b[0m\u001b[91m.\u001b[0m\u001b[91m Sam\u001b[0m\u001b[91m's\u001b[0m\u001b[91m tone\u001b[0m\u001b[91m is\u001b[0m\u001b[91m j\u001b[0m\u001b[91mov\u001b[0m\u001b[91mial\u001b[0m\u001b[91m,\u001b[0m\u001b[91m as\u001b[0m\u001b[91m he\u001b[0m\u001b[91m uses\u001b[0m\u001b[91m a\u001b[0m\u001b[91m playful\u001b[0m\u001b[91m \u001b[0m\n",
       "\u001b[91m\"\u001b[0m\u001b[91mhee\u001b[0m\u001b[91m-\u001b[0m\u001b[91mhaw\u001b[0m\u001b[91m\"\u001b[0m\u001b[91m to\u001b[0m\u001b[91m emphasize\u001b[0m\u001b[91m his\u001b[0m\u001b[91m amusement\u001b[0m\u001b[91m.\u001b[0m\u001b[91m The\u001b[0m\u001b[91m close\u001b[0m\u001b[91m shot\u001b[0m\u001b[91m focuses\u001b[0m\u001b[91m on\u001b[0m\u001b[91m Sam\u001b[0m\u001b[91m's\u001b[0m\u001b[91m expressive\u001b[0m\u001b[91m actions\u001b[0m\u001b[91m,\u001b[0m\u001b[91m suggesting\u001b[0m\u001b[91m he\u001b[0m\u001b[91m is\u001b[0m\u001b[91m in\u001b[0m\u001b[91m a\u001b[0m\u001b[91m \u001b[0m\n",
       "\u001b[91mrelaxed\u001b[0m\u001b[91m or\u001b[0m\u001b[91m humorous\u001b[0m\u001b[91m mood\u001b[0m\u001b[91m,\u001b[0m\u001b[91m possibly\u001b[0m\u001b[91m sharing\u001b[0m\u001b[91m a\u001b[0m\u001b[91m moment\u001b[0m\u001b[91m with\u001b[0m\u001b[91m others\u001b[0m\u001b[91m nearby\u001b[0m\u001b[91m who\u001b[0m\u001b[91m might\u001b[0m\u001b[91m be\u001b[0m\u001b[91m reacting\u001b[0m\u001b[91m to\u001b[0m\u001b[91m his\u001b[0m\u001b[91m ant\u001b[0m\u001b[91mics\u001b[0m\u001b[91m.\u001b[0m\u001b[91m The\u001b[0m\u001b[91m \u001b[0m\n",
       "\u001b[91mscene\u001b[0m\u001b[91m sets\u001b[0m\u001b[91m a\u001b[0m\u001b[91m light\u001b[0m\u001b[91m and\u001b[0m\u001b[91m com\u001b[0m\u001b[91medic\u001b[0m\u001b[91m tone\u001b[0m\u001b[91m,\u001b[0m\u001b[91m highlighting\u001b[0m\u001b[91m Sam\u001b[0m\u001b[91m's\u001b[0m\u001b[91m personality\u001b[0m\u001b[91m and\u001b[0m\u001b[91m his\u001b[0m\u001b[91m relationship\u001b[0m\u001b[91m with\u001b[0m\u001b[91m George\u001b[0m\u001b[91m.\u001b[0m\u001b[92m<scene>\u001b[0m\u001b[92mCL\u001b[0m\u001b[92mOSE\u001b[0m\u001b[92m \u001b[0m\n",
       "\u001b[92mSH\u001b[0m\u001b[92mOT\u001b[0m\u001b[92m:\u001b[0m\u001b[92m \u001b[0m\n",
       "\u001b[92mSAM\u001b[0m\u001b[92m:\u001b[0m\u001b[92m (\u001b[0m\u001b[92mwig\u001b[0m\u001b[92mg\u001b[0m\u001b[92mles\u001b[0m\u001b[92m his\u001b[0m\u001b[92m hands\u001b[0m\u001b[92m)\u001b[0m\n",
       "\u001b[92mThat\u001b[0m\u001b[92m old\u001b[0m\u001b[92m George\u001b[0m\u001b[92m...\u001b[0m\u001b[92m he\u001b[0m\u001b[92m's\u001b[0m\u001b[92m always\u001b[0m\u001b[92m making\u001b[0m\u001b[92m a\u001b[0m\u001b[92m speech\u001b[0m\u001b[92m.\u001b[0m\u001b[92m He\u001b[0m\u001b[92me\u001b[0m\u001b[92m-\u001b[0m\u001b[92mhaw\u001b[0m\u001b[92m!\u001b[0m\n"
      ]
     },
     "metadata": {},
     "output_type": "display_data"
    },
    {
     "data": {
      "text/html": [
       "<pre style=\"white-space:pre;overflow-x:auto;line-height:normal;font-family:Menlo,'DejaVu Sans Mono',consolas,'Courier New',monospace\"><span style=\"color: #ff0000; text-decoration-color: #ff0000\">&lt;summary&gt;In this scene, Kirby expresses confusion and concern about the whereabouts of Charlie, while Robbie is </span>\n",
       "<span style=\"color: #ff0000; text-decoration-color: #ff0000\">equally anxious about Jill and Trevor's absence. Kirby calls out for Charlie, indicating a sense of urgency and </span>\n",
       "<span style=\"color: #ff0000; text-decoration-color: #ff0000\">worry. The tension escalates when Robbie answers a ringing phone, only to be met with a chilling message from </span>\n",
       "<span style=\"color: #ff0000; text-decoration-color: #ff0000\">Ghostface, declaring \"You're dead.\" Robbie's shocked reaction, along with Kirby's distressed \"Noooooo,\" heightens </span>\n",
       "<span style=\"color: #ff0000; text-decoration-color: #ff0000\">the suspense and fear in the scene. The setting is in the backyard, suggesting a secluded and potentially dangerous</span>\n",
       "<span style=\"color: #ff0000; text-decoration-color: #ff0000\">environment as the characters grapple with the unknown threat looming over them.</span><span style=\"color: #00ff00; text-decoration-color: #00ff00\">&lt;scene&gt;KIRBY: What is going on?    </span>\n",
       "<span style=\"color: #00ff00; text-decoration-color: #00ff00\">Where did Charlie go?</span>\n",
       "<span style=\"color: #00ff00; text-decoration-color: #00ff00\">ROBBIE: Where's Jill and Trevor?</span>\n",
       "<span style=\"color: #00ff00; text-decoration-color: #00ff00\">KIRBY: (calling out)</span>\n",
       "<span style=\"color: #00ff00; text-decoration-color: #00ff00\">I don't know. Charlie?</span>\n",
       "<span style=\"color: #00ff00; text-decoration-color: #00ff00\">RINGS.: </span>\n",
       "<span style=\"color: #00ff00; text-decoration-color: #00ff00\">ROBBIE: I'll get it.</span>\n",
       "<span style=\"color: #00ff00; text-decoration-color: #00ff00\">ROBBIE (CONT'D): Hello?</span>\n",
       "<span style=\"color: #00ff00; text-decoration-color: #00ff00\">GHOSTFACE: You're dead.</span>\n",
       "<span style=\"color: #00ff00; text-decoration-color: #00ff00\">ROBBIE: What?</span>\n",
       "<span style=\"color: #00ff00; text-decoration-color: #00ff00\">KIRBY: Noooooo.</span>\n",
       "<span style=\"color: #00ff00; text-decoration-color: #00ff00\">THE BACK YARD: </span>\n",
       "</pre>\n"
      ],
      "text/plain": [
       "\u001b[91m<summary>\u001b[0m\u001b[91mIn\u001b[0m\u001b[91m this\u001b[0m\u001b[91m scene\u001b[0m\u001b[91m,\u001b[0m\u001b[91m Kir\u001b[0m\u001b[91mby\u001b[0m\u001b[91m expresses\u001b[0m\u001b[91m confusion\u001b[0m\u001b[91m and\u001b[0m\u001b[91m concern\u001b[0m\u001b[91m about\u001b[0m\u001b[91m the\u001b[0m\u001b[91m where\u001b[0m\u001b[91mabouts\u001b[0m\u001b[91m of\u001b[0m\u001b[91m Charlie\u001b[0m\u001b[91m,\u001b[0m\u001b[91m while\u001b[0m\u001b[91m Rob\u001b[0m\u001b[91mbie\u001b[0m\u001b[91m is\u001b[0m\u001b[91m \u001b[0m\n",
       "\u001b[91mequally\u001b[0m\u001b[91m anxious\u001b[0m\u001b[91m about\u001b[0m\u001b[91m Jill\u001b[0m\u001b[91m and\u001b[0m\u001b[91m Tre\u001b[0m\u001b[91mvor\u001b[0m\u001b[91m's\u001b[0m\u001b[91m absence\u001b[0m\u001b[91m.\u001b[0m\u001b[91m Kir\u001b[0m\u001b[91mby\u001b[0m\u001b[91m calls\u001b[0m\u001b[91m out\u001b[0m\u001b[91m for\u001b[0m\u001b[91m Charlie\u001b[0m\u001b[91m,\u001b[0m\u001b[91m indicating\u001b[0m\u001b[91m a\u001b[0m\u001b[91m sense\u001b[0m\u001b[91m of\u001b[0m\u001b[91m urgency\u001b[0m\u001b[91m and\u001b[0m\u001b[91m \u001b[0m\n",
       "\u001b[91mworry\u001b[0m\u001b[91m.\u001b[0m\u001b[91m The\u001b[0m\u001b[91m tension\u001b[0m\u001b[91m escal\u001b[0m\u001b[91mates\u001b[0m\u001b[91m when\u001b[0m\u001b[91m Rob\u001b[0m\u001b[91mbie\u001b[0m\u001b[91m answers\u001b[0m\u001b[91m a\u001b[0m\u001b[91m ringing\u001b[0m\u001b[91m phone\u001b[0m\u001b[91m,\u001b[0m\u001b[91m only\u001b[0m\u001b[91m to\u001b[0m\u001b[91m be\u001b[0m\u001b[91m met\u001b[0m\u001b[91m with\u001b[0m\u001b[91m a\u001b[0m\u001b[91m chilling\u001b[0m\u001b[91m message\u001b[0m\u001b[91m from\u001b[0m\u001b[91m \u001b[0m\n",
       "\u001b[91mGhost\u001b[0m\u001b[91mface\u001b[0m\u001b[91m,\u001b[0m\u001b[91m declaring\u001b[0m\u001b[91m \"\u001b[0m\u001b[91mYou\u001b[0m\u001b[91m're\u001b[0m\u001b[91m dead\u001b[0m\u001b[91m.\"\u001b[0m\u001b[91m Rob\u001b[0m\u001b[91mbie\u001b[0m\u001b[91m's\u001b[0m\u001b[91m shocked\u001b[0m\u001b[91m reaction\u001b[0m\u001b[91m,\u001b[0m\u001b[91m along\u001b[0m\u001b[91m with\u001b[0m\u001b[91m Kir\u001b[0m\u001b[91mby\u001b[0m\u001b[91m's\u001b[0m\u001b[91m distressed\u001b[0m\u001b[91m \"\u001b[0m\u001b[91mN\u001b[0m\u001b[91moooo\u001b[0m\u001b[91moo\u001b[0m\u001b[91m,\"\u001b[0m\u001b[91m height\u001b[0m\u001b[91mens\u001b[0m\u001b[91m \u001b[0m\n",
       "\u001b[91mthe\u001b[0m\u001b[91m suspense\u001b[0m\u001b[91m and\u001b[0m\u001b[91m fear\u001b[0m\u001b[91m in\u001b[0m\u001b[91m the\u001b[0m\u001b[91m scene\u001b[0m\u001b[91m.\u001b[0m\u001b[91m The\u001b[0m\u001b[91m setting\u001b[0m\u001b[91m is\u001b[0m\u001b[91m in\u001b[0m\u001b[91m the\u001b[0m\u001b[91m backyard\u001b[0m\u001b[91m,\u001b[0m\u001b[91m suggesting\u001b[0m\u001b[91m a\u001b[0m\u001b[91m se\u001b[0m\u001b[91mcluded\u001b[0m\u001b[91m and\u001b[0m\u001b[91m potentially\u001b[0m\u001b[91m dangerous\u001b[0m\n",
       "\u001b[91menvironment\u001b[0m\u001b[91m as\u001b[0m\u001b[91m the\u001b[0m\u001b[91m characters\u001b[0m\u001b[91m grapple\u001b[0m\u001b[91m with\u001b[0m\u001b[91m the\u001b[0m\u001b[91m unknown\u001b[0m\u001b[91m threat\u001b[0m\u001b[91m looming\u001b[0m\u001b[91m over\u001b[0m\u001b[91m them\u001b[0m\u001b[91m.\u001b[0m\u001b[92m<scene>\u001b[0m\u001b[92mK\u001b[0m\u001b[92mIR\u001b[0m\u001b[92mBY\u001b[0m\u001b[92m:\u001b[0m\u001b[92m What\u001b[0m\u001b[92m is\u001b[0m\u001b[92m going\u001b[0m\u001b[92m on\u001b[0m\u001b[92m?\u001b[0m\u001b[92m   \u001b[0m\u001b[92m \u001b[0m\n",
       "\u001b[92mWhere\u001b[0m\u001b[92m did\u001b[0m\u001b[92m Charlie\u001b[0m\u001b[92m go\u001b[0m\u001b[92m?\u001b[0m\n",
       "\u001b[92mRO\u001b[0m\u001b[92mB\u001b[0m\u001b[92mBI\u001b[0m\u001b[92mE\u001b[0m\u001b[92m:\u001b[0m\u001b[92m Where\u001b[0m\u001b[92m's\u001b[0m\u001b[92m Jill\u001b[0m\u001b[92m and\u001b[0m\u001b[92m Tre\u001b[0m\u001b[92mvor\u001b[0m\u001b[92m?\u001b[0m\n",
       "\u001b[92mK\u001b[0m\u001b[92mIR\u001b[0m\u001b[92mBY\u001b[0m\u001b[92m:\u001b[0m\u001b[92m (\u001b[0m\u001b[92mcall\u001b[0m\u001b[92ming\u001b[0m\u001b[92m out\u001b[0m\u001b[92m)\u001b[0m\n",
       "\u001b[92mI\u001b[0m\u001b[92m don\u001b[0m\u001b[92m't\u001b[0m\u001b[92m know\u001b[0m\u001b[92m.\u001b[0m\u001b[92m Charlie\u001b[0m\u001b[92m?\u001b[0m\n",
       "\u001b[92mR\u001b[0m\u001b[92mINGS\u001b[0m\u001b[92m.:\u001b[0m\u001b[92m \u001b[0m\n",
       "\u001b[92mRO\u001b[0m\u001b[92mB\u001b[0m\u001b[92mBI\u001b[0m\u001b[92mE\u001b[0m\u001b[92m:\u001b[0m\u001b[92m I\u001b[0m\u001b[92m'll\u001b[0m\u001b[92m get\u001b[0m\u001b[92m it\u001b[0m\u001b[92m.\u001b[0m\n",
       "\u001b[92mRO\u001b[0m\u001b[92mB\u001b[0m\u001b[92mBI\u001b[0m\u001b[92mE\u001b[0m\u001b[92m (\u001b[0m\u001b[92mCONT\u001b[0m\u001b[92m'\u001b[0m\u001b[92mD\u001b[0m\u001b[92m):\u001b[0m\u001b[92m Hello\u001b[0m\u001b[92m?\u001b[0m\n",
       "\u001b[92mG\u001b[0m\u001b[92mHOST\u001b[0m\u001b[92mF\u001b[0m\u001b[92mACE\u001b[0m\u001b[92m:\u001b[0m\u001b[92m You\u001b[0m\u001b[92m're\u001b[0m\u001b[92m dead\u001b[0m\u001b[92m.\u001b[0m\n",
       "\u001b[92mRO\u001b[0m\u001b[92mB\u001b[0m\u001b[92mBI\u001b[0m\u001b[92mE\u001b[0m\u001b[92m:\u001b[0m\u001b[92m What\u001b[0m\u001b[92m?\u001b[0m\n",
       "\u001b[92mK\u001b[0m\u001b[92mIR\u001b[0m\u001b[92mBY\u001b[0m\u001b[92m:\u001b[0m\u001b[92m N\u001b[0m\u001b[92moooo\u001b[0m\u001b[92moo\u001b[0m\u001b[92m.\u001b[0m\n",
       "\u001b[92mTHE\u001b[0m\u001b[92m B\u001b[0m\u001b[92mACK\u001b[0m\u001b[92m Y\u001b[0m\u001b[92mARD\u001b[0m\u001b[92m:\u001b[0m\u001b[92m \u001b[0m\n"
      ]
     },
     "metadata": {},
     "output_type": "display_data"
    },
    {
     "data": {
      "text/html": [
       "<pre style=\"white-space:pre;overflow-x:auto;line-height:normal;font-family:Menlo,'DejaVu Sans Mono',consolas,'Courier New',monospace\"><span style=\"color: #ff0000; text-decoration-color: #ff0000\">&lt;summary&gt;In this scene, Castor expresses his personal opinion about the musical piece 'The Messiah,' indicating </span>\n",
       "<span style=\"color: #ff0000; text-decoration-color: #ff0000\">that he does not typically enjoy it. However, he compliments the other character's singing voice, suggesting that </span>\n",
       "<span style=\"color: #ff0000; text-decoration-color: #ff0000\">it elevates the work and makes Handel appear more talented than he believes. This dialogue sets a tone of </span>\n",
       "<span style=\"color: #ff0000; text-decoration-color: #ff0000\">admiration mixed with a hint of sarcasm, showcasing Castor's complex feelings towards the music and the performer. </span>\n",
       "<span style=\"color: #ff0000; text-decoration-color: #ff0000\">The interaction hints at a deeper relationship between the characters, possibly involving themes of art, </span>\n",
       "<span style=\"color: #ff0000; text-decoration-color: #ff0000\">appreciation, and personal taste.</span><span style=\"color: #00ff00; text-decoration-color: #00ff00\">&lt;scene&gt;CASTOR: I've never enjoyed 'The Messiah.' But your voice makes even a hack </span>\n",
       "<span style=\"color: #00ff00; text-decoration-color: #00ff00\">like Handel seem like a genius.</span>\n",
       "</pre>\n"
      ],
      "text/plain": [
       "\u001b[91m<summary>\u001b[0m\u001b[91mIn\u001b[0m\u001b[91m this\u001b[0m\u001b[91m scene\u001b[0m\u001b[91m,\u001b[0m\u001b[91m Cast\u001b[0m\u001b[91mor\u001b[0m\u001b[91m expresses\u001b[0m\u001b[91m his\u001b[0m\u001b[91m personal\u001b[0m\u001b[91m opinion\u001b[0m\u001b[91m about\u001b[0m\u001b[91m the\u001b[0m\u001b[91m musical\u001b[0m\u001b[91m piece\u001b[0m\u001b[91m '\u001b[0m\u001b[91mThe\u001b[0m\u001b[91m Messiah\u001b[0m\u001b[91m,'\u001b[0m\u001b[91m indicating\u001b[0m\u001b[91m \u001b[0m\n",
       "\u001b[91mthat\u001b[0m\u001b[91m he\u001b[0m\u001b[91m does\u001b[0m\u001b[91m not\u001b[0m\u001b[91m typically\u001b[0m\u001b[91m enjoy\u001b[0m\u001b[91m it\u001b[0m\u001b[91m.\u001b[0m\u001b[91m However\u001b[0m\u001b[91m,\u001b[0m\u001b[91m he\u001b[0m\u001b[91m compl\u001b[0m\u001b[91miments\u001b[0m\u001b[91m the\u001b[0m\u001b[91m other\u001b[0m\u001b[91m character\u001b[0m\u001b[91m's\u001b[0m\u001b[91m singing\u001b[0m\u001b[91m voice\u001b[0m\u001b[91m,\u001b[0m\u001b[91m suggesting\u001b[0m\u001b[91m that\u001b[0m\u001b[91m \u001b[0m\n",
       "\u001b[91mit\u001b[0m\u001b[91m elev\u001b[0m\u001b[91mates\u001b[0m\u001b[91m the\u001b[0m\u001b[91m work\u001b[0m\u001b[91m and\u001b[0m\u001b[91m makes\u001b[0m\u001b[91m Hand\u001b[0m\u001b[91mel\u001b[0m\u001b[91m appear\u001b[0m\u001b[91m more\u001b[0m\u001b[91m talented\u001b[0m\u001b[91m than\u001b[0m\u001b[91m he\u001b[0m\u001b[91m believes\u001b[0m\u001b[91m.\u001b[0m\u001b[91m This\u001b[0m\u001b[91m dialogue\u001b[0m\u001b[91m sets\u001b[0m\u001b[91m a\u001b[0m\u001b[91m tone\u001b[0m\u001b[91m of\u001b[0m\u001b[91m \u001b[0m\n",
       "\u001b[91madmiration\u001b[0m\u001b[91m mixed\u001b[0m\u001b[91m with\u001b[0m\u001b[91m a\u001b[0m\u001b[91m hint\u001b[0m\u001b[91m of\u001b[0m\u001b[91m sarc\u001b[0m\u001b[91masm\u001b[0m\u001b[91m,\u001b[0m\u001b[91m showcasing\u001b[0m\u001b[91m Cast\u001b[0m\u001b[91mor\u001b[0m\u001b[91m's\u001b[0m\u001b[91m complex\u001b[0m\u001b[91m feelings\u001b[0m\u001b[91m towards\u001b[0m\u001b[91m the\u001b[0m\u001b[91m music\u001b[0m\u001b[91m and\u001b[0m\u001b[91m the\u001b[0m\u001b[91m performer\u001b[0m\u001b[91m.\u001b[0m\u001b[91m \u001b[0m\n",
       "\u001b[91mThe\u001b[0m\u001b[91m interaction\u001b[0m\u001b[91m hints\u001b[0m\u001b[91m at\u001b[0m\u001b[91m a\u001b[0m\u001b[91m deeper\u001b[0m\u001b[91m relationship\u001b[0m\u001b[91m between\u001b[0m\u001b[91m the\u001b[0m\u001b[91m characters\u001b[0m\u001b[91m,\u001b[0m\u001b[91m possibly\u001b[0m\u001b[91m involving\u001b[0m\u001b[91m themes\u001b[0m\u001b[91m of\u001b[0m\u001b[91m art\u001b[0m\u001b[91m,\u001b[0m\u001b[91m \u001b[0m\n",
       "\u001b[91mappreciation\u001b[0m\u001b[91m,\u001b[0m\u001b[91m and\u001b[0m\u001b[91m personal\u001b[0m\u001b[91m taste\u001b[0m\u001b[91m.\u001b[0m\u001b[92m<scene>\u001b[0m\u001b[92mC\u001b[0m\u001b[92mAST\u001b[0m\u001b[92mOR\u001b[0m\u001b[92m:\u001b[0m\u001b[92m I\u001b[0m\u001b[92m've\u001b[0m\u001b[92m never\u001b[0m\u001b[92m enjoyed\u001b[0m\u001b[92m '\u001b[0m\u001b[92mThe\u001b[0m\u001b[92m Messiah\u001b[0m\u001b[92m.'\u001b[0m\u001b[92m But\u001b[0m\u001b[92m your\u001b[0m\u001b[92m voice\u001b[0m\u001b[92m makes\u001b[0m\u001b[92m even\u001b[0m\u001b[92m a\u001b[0m\u001b[92m hack\u001b[0m\u001b[92m \u001b[0m\n",
       "\u001b[92mlike\u001b[0m\u001b[92m Hand\u001b[0m\u001b[92mel\u001b[0m\u001b[92m seem\u001b[0m\u001b[92m like\u001b[0m\u001b[92m a\u001b[0m\u001b[92m genius\u001b[0m\u001b[92m.\u001b[0m\n"
      ]
     },
     "metadata": {},
     "output_type": "display_data"
    }
   ],
   "source": [
    "# wrapper.init_data_module()\n",
    "for batch in wrapper.data_module.train_dataset.take(5):\n",
    "    display(wrapper.data_module.visualize_sample(batch))"
   ]
  },
  {
   "cell_type": "code",
   "execution_count": null,
   "metadata": {},
   "outputs": [],
   "source": [
    "# mock_labels = first_batch[\"labels\"].clone().detach()\n",
    "# mock_labels = torch.where(mock_labels == -100, wrapper.data_module.tokenizer.pad_token_id, mock_labels)\n",
    "# mock_ids = first_batch[\"input_ids\"].clone().detach()\n",
    "for batch in wrapper.data_module.train_dataloader():\n",
    "    print(batch.keys())"
   ]
  },
  {
   "cell_type": "code",
   "execution_count": null,
   "metadata": {},
   "outputs": [],
   "source": [
    "wrapper.init_trainer()"
   ]
  },
  {
   "cell_type": "code",
   "execution_count": null,
   "metadata": {},
   "outputs": [],
   "source": [
    "wrapper.tokenizer"
   ]
  },
  {
   "cell_type": "code",
   "execution_count": null,
   "metadata": {},
   "outputs": [],
   "source": [
    "wrapper.train()"
   ]
  }
 ],
 "metadata": {
  "kernelspec": {
   "display_name": ".venv",
   "language": "python",
   "name": "python3"
  },
  "language_info": {
   "codemirror_mode": {
    "name": "ipython",
    "version": 3
   },
   "file_extension": ".py",
   "mimetype": "text/x-python",
   "name": "python",
   "nbconvert_exporter": "python",
   "pygments_lexer": "ipython3",
   "version": "3.11.11"
  }
 },
 "nbformat": 4,
 "nbformat_minor": 2
}
