{
 "cells": [
  {
   "cell_type": "code",
   "execution_count": null,
   "metadata": {},
   "outputs": [],
   "source": [
    "import torch\n",
    "import sys\n",
    "import gc\n",
    "sys.path.append('..')\n",
    "%load_ext autoreload\n",
    "%autoreload 2\n",
    "from trl_wrapper.trainer_wrapper import TrainerWrapper, SMOL_LM_CONFIG"
   ]
  },
  {
   "cell_type": "code",
   "execution_count": null,
   "metadata": {},
   "outputs": [],
   "source": [
    "from dataclasses import replace\n",
    "cfg = replace(SMOL_LM_CONFIG, max_samples=100, single_process_mode=True)\n",
    "wrapper = TrainerWrapper(cfg)\n",
    "wrapper.init_model()"
   ]
  },
  {
   "cell_type": "code",
   "execution_count": null,
   "metadata": {},
   "outputs": [],
   "source": [
    "wrapper.init_data_module()"
   ]
  },
  {
   "cell_type": "code",
   "execution_count": null,
   "metadata": {},
   "outputs": [],
   "source": [
    "wrapper.init_trainer()"
   ]
  },
  {
   "cell_type": "code",
   "execution_count": null,
   "metadata": {},
   "outputs": [],
   "source": [
    "gc.collect()\n",
    "torch.cuda.empty_cache()\n",
    "! echo $CUDA_VISIBLE_DEVICES\n",
    "! nvidia-smi"
   ]
  },
  {
   "cell_type": "code",
   "execution_count": null,
   "metadata": {},
   "outputs": [
    {
     "name": "stderr",
     "output_type": "stream",
     "text": [
      "\u001b[32m2024-12-18 02:58:55.488\u001b[0m | \u001b[1mINFO    \u001b[0m | \u001b[36mtrl_wrapper.trainer_wrapper\u001b[0m:\u001b[36mtrain\u001b[0m:\u001b[36m312\u001b[0m - \u001b[1mStarting training.\u001b[0m\n",
      "\u001b[32m2024-12-18 02:58:56.949\u001b[0m | \u001b[1mINFO    \u001b[0m | \u001b[36mtrl_wrapper.dpo_trainer\u001b[0m:\u001b[36mevaluation_loop\u001b[0m:\u001b[36m118\u001b[0m - \u001b[1mGenerating samples...\u001b[0m\n",
      "\u001b[32m2024-12-18 02:58:56.950\u001b[0m | \u001b[1mINFO    \u001b[0m | \u001b[36mtrl_wrapper.dpo_trainer\u001b[0m:\u001b[36mgenerate_from_model_and_ref\u001b[0m:\u001b[36m45\u001b[0m - \u001b[1mGenerating policy samples...\u001b[0m\n",
      "Both `max_new_tokens` (=512) and `max_length`(=2048) seem to have been set. `max_new_tokens` will take precedence. Please refer to the documentation for more information. (https://huggingface.co/docs/transformers/main/en/main_classes/text_generation)\n",
      "\u001b[32m2024-12-18 02:59:02.198\u001b[0m | \u001b[1mINFO    \u001b[0m | \u001b[36mtrl_wrapper.dpo_trainer\u001b[0m:\u001b[36mgenerate_from_model_and_ref\u001b[0m:\u001b[36m62\u001b[0m - \u001b[1mGenerating reference samples...\u001b[0m\n",
      "Both `max_new_tokens` (=512) and `max_length`(=2048) seem to have been set. `max_new_tokens` will take precedence. Please refer to the documentation for more information. (https://huggingface.co/docs/transformers/main/en/main_classes/text_generation)\n",
      "Trainer.tokenizer is now deprecated. You should use Trainer.processing_class instead.\n",
      "Trainer.tokenizer is now deprecated. You should use Trainer.processing_class instead.\n",
      "Trainer.tokenizer is now deprecated. You should use Trainer.processing_class instead.\n"
     ]
    },
    {
     "name": "stdout",
     "output_type": "stream",
     "text": [
      "┌──────────┬─────────────────────────────────────────┬─────────────────────────────────────────┬──────────────────────────────────────────┬──────────────────────────────────────────┐\n",
      "│ prompt   │ policy                                  │ ref                                     │ chosen                                   │ rejected                                 │\n",
      "├──────────┼─────────────────────────────────────────┼─────────────────────────────────────────┼──────────────────────────────────────────┼──────────────────────────────────────────┤\n",
      "│          │ The cultural portrayals of these beings │ The cultural portrayals of these beings │ an be traced back to ancient mythology,  │ from their revenant wrath.  In Native    │\n",
      "│          │ have evolved significantly over time,   │ have evolved significantly over time,   │ where they were often seen as benevolent │ American folklore, vampirism was         │\n",
      "│          │ reflecting the diverse perspectives and │ reflecting the diverse perspectives and │ guardians of the natural order.  More    │ portrayed as a supernatural phenomenon   │\n",
      "│          │ values of various cultures. One of the  │ values of various cultures. One of the  │ nuanced and complex representations of   │ that could occur due to avarice. Blood   │\n",
      "│          │ most significant changes is the shift   │ most significant changes is the shift   │ these beings have also emerged           │ drinking was a symbol of greed and       │\n",
      "│          │ from a purely evil, soulless monster to │ from a purely evil, soulless monster to │ throughout history. In one culture, they │ selfishness. These beings were often     │\n",
      "│          │ a complex, multifaceted creature with a │ a complex and multifaceted creature. In │ are seen as feminist symbols,            │ shunned and demonized due to their       │\n",
      "│          │ rich                                    │ some                                    │ representing women who have been         │ deviant lifestyle.  In other cultures,   │\n",
      "│          │                                         │                                         │ oppressed by patriarchal societies. In   │ these beings hold a more complex and     │\n",
      "│          │                                         │                                         │ this interpretation, the beings are      │ nuanced place in society. For example,   │\n",
      "│          │                                         │                                         │ portrayed as powerful and resilient,     │ in Romanian folklore, a belief exists in │\n",
      "│          │                                         │                                         │ overcoming the constraints of social     │ a female vampire known as a strigoi.     │\n",
      "│          │                                         │                                         │ norms and definitions of femininity.     │ This type of vampire is thought to       │\n",
      "│          │                                         │                                         │ This interpretation can be traced back   │ surface from the corpse of a woman who   │\n",
      "│          │                                         │                                         │ to the feminist movement of the 19th and │ died during pregnancy or childbirth. The │\n",
      "│          │                                         │                                         │ 20th centuries, which sought to          │ strigoi can be both evil and positive,   │\n",
      "│          │                                         │                                         │ challenge traditional gender roles and   │ responsible for both blessing and harm.  │\n",
      "│          │                                         │                                         │ empower women.  In another culture,      │ In modern times, vampires have evolved   │\n",
      "│          │                                         │                                         │ these beings are depicted as hybrid      │ into more sympathetic figures. In pop    │\n",
      "│          │                                         │                                         │ beings that blur the boundaries between  │ culture, they are depicted as tragic     │\n",
      "│          │                                         │                                         │ human and supernatural. In this          │ heroes, often sympathetic and likable.   │\n",
      "│          │                                         │                                         │ interpretation, the beings represent the │ They are typically portrayed as immortal │\n",
      "│          │                                         │                                         │ duality of human nature, and the         │ beings who struggle to live a human-like │\n",
      "│          │                                         │                                         │ struggle between reason and emotion,     │ existence in a world that fears and      │\n",
      "│          │                                         │                                         │ light and dark, and order and chaos.     │ misunderstands them. This shift in       │\n",
      "│          │                                         │                                         │ This interpretation can be traced back   │ portrayal can be attributed to societal  │\n",
      "│          │                                         │                                         │ to ancient mythology, where these beings │ changes where the fear of the unknown    │\n",
      "│          │                                         │                                         │ were often seen as guardians of the      │ has been replaced by empathy for the     │\n",
      "│          │                                         │                                         │ threshold between the human and          │ outsider.  In feminist societies,        │\n",
      "│          │                                         │                                         │ supernatural realms.  To truly           │ vampires are often depicted as female    │\n",
      "│          │                                         │                                         │ understand the cultural significance of  │ characters that defy traditional gender  │\n",
      "│          │                                         │                                         │ these beings, one must consider the      │ roles. They represent a rejection of     │\n",
      "│          │                                         │                                         │ social, political, and philosophical     │ traditional patriarchal society and an   │\n",
      "│          │                                         │                                         │ dimensions of their mythology. Only then │ empowerment of women. These female       │\n",
      "│          │                                         │                                         │ can we gain a deeper insight into how    │ vampires often use their powers and      │\n",
      "│          │                                         │                                         │ they have influenced modern portrayals   │ abilities to assert their dominance over │\n",
      "│          │                                         │                                         │ of them. By examining the historical and │ society.  These examples illustrate the  │\n",
      "│          │                                         │                                         │ cultural contexts in which these beings  │ wide variety of cultural interpretations │\n",
      "│          │                                         │                                         │ have emerged, we can begin to understand │ of these beings. Their meaning can       │\n",
      "│          │                                         │                                         │ the complex ways in which they have      │ change depending on the societal and     │\n",
      "│          │                                         │                                         │ shaped our understanding of the world    │ historical context. Understanding the    │\n",
      "│          │                                         │                                         │ around us.                               │ different portrayals and interpretations │\n",
      "│          │                                         │                                         │                                          │ of these beings can give us a deeper     │\n",
      "│          │                                         │                                         │                                          │ insight into how these myths have        │\n",
      "│          │                                         │                                         │                                          │ influenced modern representations of     │\n",
      "│          │                                         │                                         │                                          │ them. This in turn can shape how modern  │\n",
      "│          │                                         │                                         │                                          │ society perceives these beings and their │\n",
      "│          │                                         │                                         │                                          │ position in the popular cultural         │\n",
      "│          │                                         │                                         │                                          │ imagination.                             │\n",
      "├──────────┼─────────────────────────────────────────┼─────────────────────────────────────────┼──────────────────────────────────────────┼──────────────────────────────────────────┤\n",
      "│          │ \\begin{center} \\begin{tabular}{|c|c|}   │ \\begin{center} \\begin{tabular}{|c|c|}   │ ular} \\end{center}                       │ marks.                                   │\n",
      "│          │ \\hline Punctuation Mark & Unicode       │ \\hline Punctuation Mark & Unicode       │                                          │                                          │\n",
      "│          │ Character \\\\ \\hline Period & . \\\\ Comma │ Character \\\\ \\hline Period & . \\\\ Comma │                                          │                                          │\n",
      "│          │ & , \\\\ Question Mark                    │ & , \\\\ Question Mark                    │                                          │                                          │\n",
      "└──────────┴─────────────────────────────────────────┴─────────────────────────────────────────┴──────────────────────────────────────────┴──────────────────────────────────────────┘\n"
     ]
    },
    {
     "data": {
      "text/html": [
       "\n",
       "    <div>\n",
       "      \n",
       "      <progress value='None' max='2250' style='width:300px; height:20px; vertical-align: middle;'></progress>\n",
       "      None\n",
       "    </div>\n",
       "    <table border=\"1\" class=\"dataframe\">\n",
       "  <thead>\n",
       " <tr style=\"text-align: left;\">\n",
       "      <th>Step</th>\n",
       "      <th>Training Loss</th>\n",
       "      <th>Validation Loss</th>\n",
       "    </tr>\n",
       "  </thead>\n",
       "  <tbody>\n",
       "  </tbody>\n",
       "</table><p>\n",
       "    <div>\n",
       "      \n",
       "      <progress value='8' max='50' style='width:300px; height:20px; vertical-align: middle;'></progress>\n",
       "      [ 8/50 00:03 < 00:19, 2.15 it/s]\n",
       "    </div>\n",
       "    "
      ],
      "text/plain": [
       "<IPython.core.display.HTML object>"
      ]
     },
     "metadata": {},
     "output_type": "display_data"
    }
   ],
   "source": [
    "wrapper.train()"
   ]
  },
  {
   "cell_type": "code",
   "execution_count": null,
   "metadata": {},
   "outputs": [],
   "source": [
    "from IPython.display import Markdown\n",
    "for prompt, chosen, rejected, logprob_diff in []:\n",
    "    display(Markdown(f\"\\n### Prompt: {prompt}\\n\\n### Chosen:\\n {chosen}\\n\\n### Rejected:\\n {rejected}\\n\\nLogprob diff: {logprob_diff}\"))"
   ]
  }
 ],
 "metadata": {
  "kernelspec": {
   "display_name": ".venv",
   "language": "python",
   "name": "python3"
  },
  "language_info": {
   "codemirror_mode": {
    "name": "ipython",
    "version": 3
   },
   "file_extension": ".py",
   "mimetype": "text/x-python",
   "name": "python",
   "nbconvert_exporter": "python",
   "pygments_lexer": "ipython3",
   "version": "3.11.9"
  }
 },
 "nbformat": 4,
 "nbformat_minor": 2
}
