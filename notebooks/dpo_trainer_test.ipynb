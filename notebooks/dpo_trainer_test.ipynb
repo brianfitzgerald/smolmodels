{
 "cells": [
  {
   "cell_type": "code",
   "execution_count": null,
   "metadata": {},
   "outputs": [],
   "source": [
    "import torch\n",
    "import sys\n",
    "import gc\n",
    "sys.path.append('..')\n",
    "%load_ext autoreload\n",
    "%autoreload 2\n",
    "from trl_wrapper.trainer_wrapper import TrainerWrapper, SMOL_LM_CONFIG"
   ]
  },
  {
   "cell_type": "code",
   "execution_count": null,
   "metadata": {},
   "outputs": [],
   "source": [
    "from dataclasses import replace\n",
    "cfg = replace(SMOL_LM_CONFIG, max_samples=100, single_process_mode=True)\n",
    "wrapper = TrainerWrapper(cfg)\n",
    "wrapper.init_model()"
   ]
  },
  {
   "cell_type": "code",
   "execution_count": null,
   "metadata": {},
   "outputs": [],
   "source": [
    "wrapper.init_data_module()"
   ]
  },
  {
   "cell_type": "code",
   "execution_count": null,
   "metadata": {},
   "outputs": [],
   "source": [
    "wrapper.init_trainer()"
   ]
  },
  {
   "cell_type": "code",
   "execution_count": null,
   "metadata": {},
   "outputs": [],
   "source": [
    "gc.collect()\n",
    "torch.cuda.empty_cache()\n",
    "! echo $CUDA_VISIBLE_DEVICES\n",
    "! nvidia-smi"
   ]
  },
  {
   "cell_type": "code",
   "execution_count": 33,
   "metadata": {},
   "outputs": [
    {
     "name": "stderr",
     "output_type": "stream",
     "text": [
      "\u001b[32m2024-12-18 02:49:05.055\u001b[0m | \u001b[1mINFO    \u001b[0m | \u001b[36mtrl_wrapper.trainer_wrapper\u001b[0m:\u001b[36mtrain\u001b[0m:\u001b[36m312\u001b[0m - \u001b[1mStarting training.\u001b[0m\n",
      "\u001b[32m2024-12-18 02:49:05.600\u001b[0m | \u001b[1mINFO    \u001b[0m | \u001b[36mtrl_wrapper.dpo_trainer\u001b[0m:\u001b[36mevaluation_loop\u001b[0m:\u001b[36m119\u001b[0m - \u001b[1mGenerating samples...\u001b[0m\n",
      "\u001b[32m2024-12-18 02:49:05.601\u001b[0m | \u001b[1mINFO    \u001b[0m | \u001b[36mtrl_wrapper.dpo_trainer\u001b[0m:\u001b[36mgenerate_from_model_and_ref\u001b[0m:\u001b[36m46\u001b[0m - \u001b[1mGenerating policy samples...\u001b[0m\n",
      "Both `max_new_tokens` (=512) and `max_length`(=2048) seem to have been set. `max_new_tokens` will take precedence. Please refer to the documentation for more information. (https://huggingface.co/docs/transformers/main/en/main_classes/text_generation)\n"
     ]
    },
    {
     "name": "stdout",
     "output_type": "stream",
     "text": [
      "2048 None 1024\n"
     ]
    },
    {
     "name": "stderr",
     "output_type": "stream",
     "text": [
      "\u001b[32m2024-12-18 02:49:10.685\u001b[0m | \u001b[1mINFO    \u001b[0m | \u001b[36mtrl_wrapper.dpo_trainer\u001b[0m:\u001b[36mgenerate_from_model_and_ref\u001b[0m:\u001b[36m63\u001b[0m - \u001b[1mGenerating reference samples...\u001b[0m\n",
      "Both `max_new_tokens` (=512) and `max_length`(=2048) seem to have been set. `max_new_tokens` will take precedence. Please refer to the documentation for more information. (https://huggingface.co/docs/transformers/main/en/main_classes/text_generation)\n",
      "Trainer.tokenizer is now deprecated. You should use Trainer.processing_class instead.\n",
      "Trainer.tokenizer is now deprecated. You should use Trainer.processing_class instead.\n",
      "Trainer.tokenizer is now deprecated. You should use Trainer.processing_class instead.\n"
     ]
    },
    {
     "name": "stdout",
     "output_type": "stream",
     "text": [
      "┌──────────┬─────────────────────────────────────────┬─────────────────────────────────────────┬──────────────────────────────────────────┬──────────────────────────────────────────┐\n",
      "│ prompt   │ policy                                  │ ref                                     │ chosen                                   │ rejected                                 │\n",
      "├──────────┼─────────────────────────────────────────┼─────────────────────────────────────────┼──────────────────────────────────────────┼──────────────────────────────────────────┤\n",
      "│          │ Sure, I can help with that.  **C++      │ Sure, I can help with that.  **C++      │ ere with a radius of 7 cm is: \" <<       │ 7.0; // 7 cm     float surfaceArea =     │\n",
      "│          │ Code:** ```cpp #include <iostream>  int │ Code:** ```cpp #include <iostream>  int │ surface_area << std::endl;     return 0; │ surfaceArea(radius);      std::cout <<   │\n",
      "│          │ main() {     double radius = 7;         │ main() {     double radius = 7;         │ } ```  This code snippet uses the math   │ \"The surface area of the sphere with a   │\n",
      "│          │ double area = 4 * (radius * radius);    │ double area = 4 * (radius * radius);    │ library and the formula for the surface  │ radius of \" << radius << \" cm is: \" <<   │\n",
      "│          │ std::cout << \"The surface area          │ std::cout << \"The surface area of the   │ area of a sphere, which is 4πr², where r │ surfaceArea << \" cm^2\" << std::endl;     │\n",
      "│          │                                         │ sphere                                  │ is the radius.  Now, regarding the       │ return 0; } ``` As for object-oriented   │\n",
      "│          │                                         │                                         │ impact of object-oriented programming    │ programming (OOP), it has significantly  │\n",
      "│          │                                         │                                         │ (OOP) on software development:  1.       │ impacted software development by         │\n",
      "│          │                                         │                                         │ Encapsulation: OOP allows developers to  │ providing a more structured, flexible,   │\n",
      "│          │                                         │                                         │ group related data and functions         │ and maintainable approach to writing     │\n",
      "│          │                                         │                                         │ together into classes, which helps to    │ code. OOP language features like         │\n",
      "│          │                                         │                                         │ keep the code organized and manageable.  │ classes, objects, inheritance,           │\n",
      "│          │                                         │                                         │ Encapsulation enhances code readability, │ polymorphism, and encapsulation allow    │\n",
      "│          │                                         │                                         │ maintainability, and modularity.  For    │ developers to model real-world problems  │\n",
      "│          │                                         │                                         │ example, you might have a `Sphere` class │ and create complex, scalable software    │\n",
      "│          │                                         │                                         │ with methods to calculate surface area   │ systems.  Here are some examples to      │\n",
      "│          │                                         │                                         │ and volume:  ```cpp class Sphere {       │ illustrate the impact of object-oriented │\n",
      "│          │                                         │                                         │ private:     double radius;    public:   │ programming:  1. Reusability: OOP        │\n",
      "│          │                                         │                                         │ Sphere(double r) : radius(r) {}          │ promotes the idea of creating reusable   │\n",
      "│          │                                         │                                         │ double surfaceArea() {         return 4  │ components (i.e., classes) that can be   │\n",
      "│          │                                         │                                         │ * M_PI * pow(radius, 2);     }           │ used in different parts of a program or  │\n",
      "│          │                                         │                                         │ double volume() {         return 4.0/3.0 │ even across different projects. This     │\n",
      "│          │                                         │                                         │ * M_PI * pow(radius, 3);     } }; ```    │ reduces code duplication and improves    │\n",
      "│          │                                         │                                         │ 2. Inheritance: OOP enables the creation │ efficiency. 2. Maintainability:          │\n",
      "│          │                                         │                                         │ of classes that inherit attributes and   │ Encapsulation, a principle of OOP, helps │\n",
      "│          │                                         │                                         │ methods from other classes. This         │ in organizing code into well-defined,    │\n",
      "│          │                                         │                                         │ promotes code reusability and a more     │ self-contained units (i.e., classes),    │\n",
      "│          │                                         │                                         │ efficient development process.  For      │ which makes it easier to understand,     │\n",
      "│          │                                         │                                         │ example, a `ColorSphere` class could     │ debug, and maintain the code. 3.         │\n",
      "│          │                                         │                                         │ inherit from the `Sphere` class and      │ Abstraction: OOP allows developers to    │\n",
      "│          │                                         │                                         │ include an additional color attribute:   │ create abstract representations of real- │\n",
      "│          │                                         │                                         │ ```cpp class ColorSphere : public Sphere │ world entities (i.e., classes), which    │\n",
      "│          │                                         │                                         │ {   private:     std::string color;      │ enables them to focus on the essential   │\n",
      "│          │                                         │                                         │ public:     ColorSphere(double r, const  │ features of a problem without getting    │\n",
      "│          │                                         │                                         │ std::string& c) : Sphere(r), color(c) {} │ bogged down in the details. 4.           │\n",
      "│          │                                         │                                         │ std::string getColor() {         return  │ Inheritance: Inheritance enables         │\n",
      "│          │                                         │                                         │ color;     } }; ```  3. Polymorphism:    │ developers to reuse code through a       │\n",
      "│          │                                         │                                         │ OOP allows for polymorphism, where a     │ hierarchy of classes, where a class can  │\n",
      "│          │                                         │                                         │ base class reference can point to        │ inherit properties and methods from      │\n",
      "│          │                                         │                                         │ objects of derived classes. This means   │ another class. This facilitates code     │\n",
      "│          │                                         │                                         │ you can write more flexible and reusable │ reuse and helps in creating flexible,    │\n",
      "│          │                                         │                                         │ code by implementing base class methods  │ modular software systems. 5.             │\n",
      "│          │                                         │                                         │ in derived classes.  For example, you    │ Polymorphism: Polymorphism allows        │\n",
      "│          │                                         │                                         │ could have a `Shape` class with a        │ objects of different classes to be       │\n",
      "│          │                                         │                                         │ virtual `surfaceArea()` method, and then │ treated as objects of a common           │\n",
      "│          │                                         │                                         │ have `Sphere`, `Cube`, and `Cylinder`    │ superclass, enabling them to share a     │\n",
      "│          │                                         │                                         │ classes that each implement this method. │ common interface. This promotes code     │\n",
      "│          │                                         │                                         │ In conclusion, object-oriented           │ reusability and flexibility, as it can   │\n",
      "│          │                                         │                                         │ programming has made a significant       │ help to minimize dependencies between    │\n",
      "│          │                                         │                                         │ impact on software development by        │ different parts of a system.  Overall,   │\n",
      "│          │                                         │                                         │ promoting modularity, reusability, and   │ object-oriented programming has          │\n",
      "│          │                                         │                                         │ maintainability in code.                 │ revolutionized software development by   │\n",
      "│          │                                         │                                         │                                          │ providing a more structured and          │\n",
      "│          │                                         │                                         │                                          │ organized approach that promotes         │\n",
      "│          │                                         │                                         │                                          │ reusability, maintainability,            │\n",
      "│          │                                         │                                         │                                          │ modularity, and flexibility in code.     │\n",
      "├──────────┼─────────────────────────────────────────┼─────────────────────────────────────────┼──────────────────────────────────────────┼──────────────────────────────────────────┤\n",
      "│          │ Here are five nutrient-dense snack      │ Here are five nutrient-dense snack      │ and dried fruit: Trail mix is a great    │ ts.  4. Roasted vegetable and quinoa     │\n",
      "│          │ options that meet the criteria:  1.     │ options that meet the criteria:  1.     │ option for a healthy snack that's easy   │ chips: Preheat your oven to 350°F. Chop  │\n",
      "│          │ Carrot sticks and hummus:  * Carrot     │ Carrot sticks and hummus:  * Carrot     │ to take on the go. Look for a mix that   │ vegetables such as sweet potatoes,       │\n",
      "│          │ sticks are a great source of fiber,     │ sticks are a great source of fiber,     │ includes nuts like almonds and walnuts,  │ carrots, and beets into thin sticks,     │\n",
      "│          │ vitamins, and minerals, making them a   │ vitamins, and minerals, making them a   │ seeds like pumpkin and chia, and dried   │ toss with olive oil and your favorite    │\n",
      "│          │ great snack for a variety of meals. *   │ great snack for a variety of meals. *   │ fruit like cranberries and apricots. 4.  │ seasonings, and bake for 10-15 minutes   │\n",
      "│          │ Hummus is a great source of             │ Hummus is a great source of protein,    │ Roasted chickpeas: Chickpeas are a great │ or until crispy.  5. Greek yogurt with   │\n",
      "│          │                                         │ calcium                                 │ source of protein, fiber, and vitamins,  │ fruit and nuts: Mix Greek yogurt with    │\n",
      "│          │                                         │                                         │ and roasting them brings out their       │ your favorite fresh or dried fruits,     │\n",
      "│          │                                         │                                         │ natural delicious flavor. You can season │ such as berries, bananas, or figs, and   │\n",
      "│          │                                         │                                         │ them with herbs and spices for added     │ top with some chopped nuts for a crunch. │\n",
      "│          │                                         │                                         │ flavor. 5. Hard-boiled egg with a piece  │ You can also add a little honey or maple │\n",
      "│          │                                         │                                         │ of fruit: This snack is a perfect        │ syrup for sweetness if desired.          │\n",
      "│          │                                         │                                         │ combination of protein, healthy fats,    │ Remember, it's important to listen to    │\n",
      "│          │                                         │                                         │ and fiber. Hard-boiled eggs are a great  │ your body's cues and snack when you are  │\n",
      "│          │                                         │                                         │ source of protein, while fruit like      │ hungry, not just because it's a certain  │\n",
      "│          │                                         │                                         │ apple or banana provides fiber and       │ time of day. Also, be sure to choose     │\n",
      "│          │                                         │                                         │ vitamins.  Remember, it's essential to   │ snacks that are appropriate for your     │\n",
      "│          │                                         │                                         │ choose snacks that are not only          │ dietary needs and restrictions.          │\n",
      "│          │                                         │                                         │ nutritious but also enjoyable to eat.    │                                          │\n",
      "│          │                                         │                                         │ Experiment with different combinations   │                                          │\n",
      "│          │                                         │                                         │ of fruits, nuts, seeds, and vegetables   │                                          │\n",
      "│          │                                         │                                         │ to find your favorite snacks that meet   │                                          │\n",
      "│          │                                         │                                         │ the criteria.  For more information and  │                                          │\n",
      "│          │                                         │                                         │ examples of nutrient-dense snacks, you   │                                          │\n",
      "│          │                                         │                                         │ can refer to the HTML page I provided    │                                          │\n",
      "│          │                                         │                                         │ earlier. It showcases five options that  │                                          │\n",
      "│          │                                         │                                         │ are simple to make and incorporate into  │                                          │\n",
      "│          │                                         │                                         │ your daily routine.  Remember, a         │                                          │\n",
      "│          │                                         │                                         │ balanced diet and a healthy lifestyle    │                                          │\n",
      "│          │                                         │                                         │ are essential for overall well-being.    │                                          │\n",
      "│          │                                         │                                         │ Always choose snacks that support your   │                                          │\n",
      "│          │                                         │                                         │ physical and cognitive function, and     │                                          │\n",
      "│          │                                         │                                         │ don't hesitate to reach out if you have  │                                          │\n",
      "│          │                                         │                                         │ any further questions or concerns!       │                                          │\n",
      "└──────────┴─────────────────────────────────────────┴─────────────────────────────────────────┴──────────────────────────────────────────┴──────────────────────────────────────────┘\n"
     ]
    },
    {
     "data": {
      "text/html": [
       "\n",
       "    <div>\n",
       "      \n",
       "      <progress value='55' max='2250' style='width:300px; height:20px; vertical-align: middle;'></progress>\n",
       "      [  55/2250 00:18 < 13:05, 2.80 it/s, Epoch 0.24/10]\n",
       "    </div>\n",
       "    <table border=\"1\" class=\"dataframe\">\n",
       "  <thead>\n",
       " <tr style=\"text-align: left;\">\n",
       "      <th>Step</th>\n",
       "      <th>Training Loss</th>\n",
       "      <th>Validation Loss</th>\n",
       "      <th>Rewards/chosen</th>\n",
       "      <th>Rewards/rejected</th>\n",
       "      <th>Rewards/accuracies</th>\n",
       "      <th>Rewards/margins</th>\n",
       "      <th>Logps/chosen</th>\n",
       "      <th>Logps/rejected</th>\n",
       "      <th>Logits/chosen</th>\n",
       "      <th>Logits/rejected</th>\n",
       "    </tr>\n",
       "  </thead>\n",
       "  <tbody>\n",
       "    <tr>\n",
       "      <td>0</td>\n",
       "      <td>No log</td>\n",
       "      <td>0.693147</td>\n",
       "      <td>0.000000</td>\n",
       "      <td>0.000000</td>\n",
       "      <td>0.000000</td>\n",
       "      <td>0.000000</td>\n",
       "      <td>-598.152710</td>\n",
       "      <td>-422.746918</td>\n",
       "      <td>3.293416</td>\n",
       "      <td>3.402780</td>\n",
       "    </tr>\n",
       "  </tbody>\n",
       "</table><p>"
      ],
      "text/plain": [
       "<IPython.core.display.HTML object>"
      ]
     },
     "metadata": {},
     "output_type": "display_data"
    },
    {
     "name": "stderr",
     "output_type": "stream",
     "text": [
      "Could not estimate the number of tokens of the input, floating-point operations will not be computed\n"
     ]
    },
    {
     "ename": "KeyboardInterrupt",
     "evalue": "",
     "output_type": "error",
     "traceback": [
      "\u001b[0;31m---------------------------------------------------------------------------\u001b[0m",
      "\u001b[0;31mKeyboardInterrupt\u001b[0m                         Traceback (most recent call last)",
      "Cell \u001b[0;32mIn[33], line 1\u001b[0m\n\u001b[0;32m----> 1\u001b[0m \u001b[43mwrapper\u001b[49m\u001b[38;5;241;43m.\u001b[39;49m\u001b[43mtrain\u001b[49m\u001b[43m(\u001b[49m\u001b[43m)\u001b[49m\n",
      "File \u001b[0;32m~/smolmodels/notebooks/../trl_wrapper/trainer_wrapper.py:313\u001b[0m, in \u001b[0;36mTrainerWrapper.train\u001b[0;34m(self)\u001b[0m\n\u001b[1;32m    311\u001b[0m \u001b[38;5;28;01mdef\u001b[39;00m \u001b[38;5;21mtrain\u001b[39m(\u001b[38;5;28mself\u001b[39m):\n\u001b[1;32m    312\u001b[0m     logger\u001b[38;5;241m.\u001b[39minfo(\u001b[38;5;124m\"\u001b[39m\u001b[38;5;124mStarting training.\u001b[39m\u001b[38;5;124m\"\u001b[39m)\n\u001b[0;32m--> 313\u001b[0m     \u001b[38;5;28;43mself\u001b[39;49m\u001b[38;5;241;43m.\u001b[39;49m\u001b[43mtrainer\u001b[49m\u001b[38;5;241;43m.\u001b[39;49m\u001b[43mtrain\u001b[49m\u001b[43m(\u001b[49m\u001b[43m)\u001b[49m\n",
      "File \u001b[0;32m~/smolmodels/.venv/lib/python3.11/site-packages/transformers/trainer.py:2123\u001b[0m, in \u001b[0;36mTrainer.train\u001b[0;34m(self, resume_from_checkpoint, trial, ignore_keys_for_eval, **kwargs)\u001b[0m\n\u001b[1;32m   2121\u001b[0m         hf_hub_utils\u001b[38;5;241m.\u001b[39menable_progress_bars()\n\u001b[1;32m   2122\u001b[0m \u001b[38;5;28;01melse\u001b[39;00m:\n\u001b[0;32m-> 2123\u001b[0m     \u001b[38;5;28;01mreturn\u001b[39;00m \u001b[43minner_training_loop\u001b[49m\u001b[43m(\u001b[49m\n\u001b[1;32m   2124\u001b[0m \u001b[43m        \u001b[49m\u001b[43margs\u001b[49m\u001b[38;5;241;43m=\u001b[39;49m\u001b[43margs\u001b[49m\u001b[43m,\u001b[49m\n\u001b[1;32m   2125\u001b[0m \u001b[43m        \u001b[49m\u001b[43mresume_from_checkpoint\u001b[49m\u001b[38;5;241;43m=\u001b[39;49m\u001b[43mresume_from_checkpoint\u001b[49m\u001b[43m,\u001b[49m\n\u001b[1;32m   2126\u001b[0m \u001b[43m        \u001b[49m\u001b[43mtrial\u001b[49m\u001b[38;5;241;43m=\u001b[39;49m\u001b[43mtrial\u001b[49m\u001b[43m,\u001b[49m\n\u001b[1;32m   2127\u001b[0m \u001b[43m        \u001b[49m\u001b[43mignore_keys_for_eval\u001b[49m\u001b[38;5;241;43m=\u001b[39;49m\u001b[43mignore_keys_for_eval\u001b[49m\u001b[43m,\u001b[49m\n\u001b[1;32m   2128\u001b[0m \u001b[43m    \u001b[49m\u001b[43m)\u001b[49m\n",
      "File \u001b[0;32m~/smolmodels/.venv/lib/python3.11/site-packages/transformers/trainer.py:2481\u001b[0m, in \u001b[0;36mTrainer._inner_training_loop\u001b[0;34m(self, batch_size, args, resume_from_checkpoint, trial, ignore_keys_for_eval)\u001b[0m\n\u001b[1;32m   2475\u001b[0m context \u001b[38;5;241m=\u001b[39m (\n\u001b[1;32m   2476\u001b[0m     functools\u001b[38;5;241m.\u001b[39mpartial(\u001b[38;5;28mself\u001b[39m\u001b[38;5;241m.\u001b[39maccelerator\u001b[38;5;241m.\u001b[39mno_sync, model\u001b[38;5;241m=\u001b[39mmodel)\n\u001b[1;32m   2477\u001b[0m     \u001b[38;5;28;01mif\u001b[39;00m i \u001b[38;5;241m==\u001b[39m \u001b[38;5;28mlen\u001b[39m(batch_samples) \u001b[38;5;241m-\u001b[39m \u001b[38;5;241m1\u001b[39m\n\u001b[1;32m   2478\u001b[0m     \u001b[38;5;28;01melse\u001b[39;00m contextlib\u001b[38;5;241m.\u001b[39mnullcontext\n\u001b[1;32m   2479\u001b[0m )\n\u001b[1;32m   2480\u001b[0m \u001b[38;5;28;01mwith\u001b[39;00m context():\n\u001b[0;32m-> 2481\u001b[0m     tr_loss_step \u001b[38;5;241m=\u001b[39m \u001b[38;5;28;43mself\u001b[39;49m\u001b[38;5;241;43m.\u001b[39;49m\u001b[43mtraining_step\u001b[49m\u001b[43m(\u001b[49m\u001b[43mmodel\u001b[49m\u001b[43m,\u001b[49m\u001b[43m \u001b[49m\u001b[43minputs\u001b[49m\u001b[43m,\u001b[49m\u001b[43m \u001b[49m\u001b[43mnum_items_in_batch\u001b[49m\u001b[43m)\u001b[49m\n\u001b[1;32m   2483\u001b[0m \u001b[38;5;28;01mif\u001b[39;00m (\n\u001b[1;32m   2484\u001b[0m     args\u001b[38;5;241m.\u001b[39mlogging_nan_inf_filter\n\u001b[1;32m   2485\u001b[0m     \u001b[38;5;129;01mand\u001b[39;00m \u001b[38;5;129;01mnot\u001b[39;00m is_torch_xla_available()\n\u001b[1;32m   2486\u001b[0m     \u001b[38;5;129;01mand\u001b[39;00m (torch\u001b[38;5;241m.\u001b[39misnan(tr_loss_step) \u001b[38;5;129;01mor\u001b[39;00m torch\u001b[38;5;241m.\u001b[39misinf(tr_loss_step))\n\u001b[1;32m   2487\u001b[0m ):\n\u001b[1;32m   2488\u001b[0m     \u001b[38;5;66;03m# if loss is nan or inf simply add the average of previous logged losses\u001b[39;00m\n\u001b[1;32m   2489\u001b[0m     tr_loss \u001b[38;5;241m=\u001b[39m tr_loss \u001b[38;5;241m+\u001b[39m tr_loss \u001b[38;5;241m/\u001b[39m (\u001b[38;5;241m1\u001b[39m \u001b[38;5;241m+\u001b[39m \u001b[38;5;28mself\u001b[39m\u001b[38;5;241m.\u001b[39mstate\u001b[38;5;241m.\u001b[39mglobal_step \u001b[38;5;241m-\u001b[39m \u001b[38;5;28mself\u001b[39m\u001b[38;5;241m.\u001b[39m_globalstep_last_logged)\n",
      "File \u001b[0;32m~/smolmodels/.venv/lib/python3.11/site-packages/transformers/trainer.py:3612\u001b[0m, in \u001b[0;36mTrainer.training_step\u001b[0;34m(***failed resolving arguments***)\u001b[0m\n\u001b[1;32m   3610\u001b[0m         scaled_loss\u001b[38;5;241m.\u001b[39mbackward()\n\u001b[1;32m   3611\u001b[0m \u001b[38;5;28;01melse\u001b[39;00m:\n\u001b[0;32m-> 3612\u001b[0m     \u001b[38;5;28;43mself\u001b[39;49m\u001b[38;5;241;43m.\u001b[39;49m\u001b[43maccelerator\u001b[49m\u001b[38;5;241;43m.\u001b[39;49m\u001b[43mbackward\u001b[49m\u001b[43m(\u001b[49m\u001b[43mloss\u001b[49m\u001b[43m,\u001b[49m\u001b[43m \u001b[49m\u001b[38;5;241;43m*\u001b[39;49m\u001b[38;5;241;43m*\u001b[39;49m\u001b[43mkwargs\u001b[49m\u001b[43m)\u001b[49m\n\u001b[1;32m   3613\u001b[0m     \u001b[38;5;66;03m# Finally we need to normalize the loss for reporting\u001b[39;00m\n\u001b[1;32m   3614\u001b[0m     \u001b[38;5;28;01mif\u001b[39;00m num_items_in_batch \u001b[38;5;129;01mis\u001b[39;00m \u001b[38;5;28;01mNone\u001b[39;00m:\n",
      "File \u001b[0;32m~/smolmodels/.venv/lib/python3.11/site-packages/accelerate/accelerator.py:2248\u001b[0m, in \u001b[0;36mAccelerator.backward\u001b[0;34m(self, loss, **kwargs)\u001b[0m\n\u001b[1;32m   2246\u001b[0m     \u001b[38;5;28mself\u001b[39m\u001b[38;5;241m.\u001b[39mlomo_backward(loss, learning_rate)\n\u001b[1;32m   2247\u001b[0m \u001b[38;5;28;01melse\u001b[39;00m:\n\u001b[0;32m-> 2248\u001b[0m     \u001b[43mloss\u001b[49m\u001b[38;5;241;43m.\u001b[39;49m\u001b[43mbackward\u001b[49m\u001b[43m(\u001b[49m\u001b[38;5;241;43m*\u001b[39;49m\u001b[38;5;241;43m*\u001b[39;49m\u001b[43mkwargs\u001b[49m\u001b[43m)\u001b[49m\n",
      "File \u001b[0;32m~/smolmodels/.venv/lib/python3.11/site-packages/torch/_tensor.py:581\u001b[0m, in \u001b[0;36mTensor.backward\u001b[0;34m(self, gradient, retain_graph, create_graph, inputs)\u001b[0m\n\u001b[1;32m    571\u001b[0m \u001b[38;5;28;01mif\u001b[39;00m has_torch_function_unary(\u001b[38;5;28mself\u001b[39m):\n\u001b[1;32m    572\u001b[0m     \u001b[38;5;28;01mreturn\u001b[39;00m handle_torch_function(\n\u001b[1;32m    573\u001b[0m         Tensor\u001b[38;5;241m.\u001b[39mbackward,\n\u001b[1;32m    574\u001b[0m         (\u001b[38;5;28mself\u001b[39m,),\n\u001b[0;32m   (...)\u001b[0m\n\u001b[1;32m    579\u001b[0m         inputs\u001b[38;5;241m=\u001b[39minputs,\n\u001b[1;32m    580\u001b[0m     )\n\u001b[0;32m--> 581\u001b[0m \u001b[43mtorch\u001b[49m\u001b[38;5;241;43m.\u001b[39;49m\u001b[43mautograd\u001b[49m\u001b[38;5;241;43m.\u001b[39;49m\u001b[43mbackward\u001b[49m\u001b[43m(\u001b[49m\n\u001b[1;32m    582\u001b[0m \u001b[43m    \u001b[49m\u001b[38;5;28;43mself\u001b[39;49m\u001b[43m,\u001b[49m\u001b[43m \u001b[49m\u001b[43mgradient\u001b[49m\u001b[43m,\u001b[49m\u001b[43m \u001b[49m\u001b[43mretain_graph\u001b[49m\u001b[43m,\u001b[49m\u001b[43m \u001b[49m\u001b[43mcreate_graph\u001b[49m\u001b[43m,\u001b[49m\u001b[43m \u001b[49m\u001b[43minputs\u001b[49m\u001b[38;5;241;43m=\u001b[39;49m\u001b[43minputs\u001b[49m\n\u001b[1;32m    583\u001b[0m \u001b[43m\u001b[49m\u001b[43m)\u001b[49m\n",
      "File \u001b[0;32m~/smolmodels/.venv/lib/python3.11/site-packages/torch/autograd/__init__.py:347\u001b[0m, in \u001b[0;36mbackward\u001b[0;34m(tensors, grad_tensors, retain_graph, create_graph, grad_variables, inputs)\u001b[0m\n\u001b[1;32m    342\u001b[0m     retain_graph \u001b[38;5;241m=\u001b[39m create_graph\n\u001b[1;32m    344\u001b[0m \u001b[38;5;66;03m# The reason we repeat the same comment below is that\u001b[39;00m\n\u001b[1;32m    345\u001b[0m \u001b[38;5;66;03m# some Python versions print out the first line of a multi-line function\u001b[39;00m\n\u001b[1;32m    346\u001b[0m \u001b[38;5;66;03m# calls in the traceback and some print out the last line\u001b[39;00m\n\u001b[0;32m--> 347\u001b[0m \u001b[43m_engine_run_backward\u001b[49m\u001b[43m(\u001b[49m\n\u001b[1;32m    348\u001b[0m \u001b[43m    \u001b[49m\u001b[43mtensors\u001b[49m\u001b[43m,\u001b[49m\n\u001b[1;32m    349\u001b[0m \u001b[43m    \u001b[49m\u001b[43mgrad_tensors_\u001b[49m\u001b[43m,\u001b[49m\n\u001b[1;32m    350\u001b[0m \u001b[43m    \u001b[49m\u001b[43mretain_graph\u001b[49m\u001b[43m,\u001b[49m\n\u001b[1;32m    351\u001b[0m \u001b[43m    \u001b[49m\u001b[43mcreate_graph\u001b[49m\u001b[43m,\u001b[49m\n\u001b[1;32m    352\u001b[0m \u001b[43m    \u001b[49m\u001b[43minputs\u001b[49m\u001b[43m,\u001b[49m\n\u001b[1;32m    353\u001b[0m \u001b[43m    \u001b[49m\u001b[43mallow_unreachable\u001b[49m\u001b[38;5;241;43m=\u001b[39;49m\u001b[38;5;28;43;01mTrue\u001b[39;49;00m\u001b[43m,\u001b[49m\n\u001b[1;32m    354\u001b[0m \u001b[43m    \u001b[49m\u001b[43maccumulate_grad\u001b[49m\u001b[38;5;241;43m=\u001b[39;49m\u001b[38;5;28;43;01mTrue\u001b[39;49;00m\u001b[43m,\u001b[49m\n\u001b[1;32m    355\u001b[0m \u001b[43m\u001b[49m\u001b[43m)\u001b[49m\n",
      "File \u001b[0;32m~/smolmodels/.venv/lib/python3.11/site-packages/torch/autograd/graph.py:825\u001b[0m, in \u001b[0;36m_engine_run_backward\u001b[0;34m(t_outputs, *args, **kwargs)\u001b[0m\n\u001b[1;32m    823\u001b[0m     unregister_hooks \u001b[38;5;241m=\u001b[39m _register_logging_hooks_on_whole_graph(t_outputs)\n\u001b[1;32m    824\u001b[0m \u001b[38;5;28;01mtry\u001b[39;00m:\n\u001b[0;32m--> 825\u001b[0m     \u001b[38;5;28;01mreturn\u001b[39;00m \u001b[43mVariable\u001b[49m\u001b[38;5;241;43m.\u001b[39;49m\u001b[43m_execution_engine\u001b[49m\u001b[38;5;241;43m.\u001b[39;49m\u001b[43mrun_backward\u001b[49m\u001b[43m(\u001b[49m\u001b[43m  \u001b[49m\u001b[38;5;66;43;03m# Calls into the C++ engine to run the backward pass\u001b[39;49;00m\n\u001b[1;32m    826\u001b[0m \u001b[43m        \u001b[49m\u001b[43mt_outputs\u001b[49m\u001b[43m,\u001b[49m\u001b[43m \u001b[49m\u001b[38;5;241;43m*\u001b[39;49m\u001b[43margs\u001b[49m\u001b[43m,\u001b[49m\u001b[43m \u001b[49m\u001b[38;5;241;43m*\u001b[39;49m\u001b[38;5;241;43m*\u001b[39;49m\u001b[43mkwargs\u001b[49m\n\u001b[1;32m    827\u001b[0m \u001b[43m    \u001b[49m\u001b[43m)\u001b[49m  \u001b[38;5;66;03m# Calls into the C++ engine to run the backward pass\u001b[39;00m\n\u001b[1;32m    828\u001b[0m \u001b[38;5;28;01mfinally\u001b[39;00m:\n\u001b[1;32m    829\u001b[0m     \u001b[38;5;28;01mif\u001b[39;00m attach_logging_hooks:\n",
      "\u001b[0;31mKeyboardInterrupt\u001b[0m: "
     ]
    }
   ],
   "source": [
    "wrapper.train()"
   ]
  },
  {
   "cell_type": "code",
   "execution_count": null,
   "metadata": {},
   "outputs": [],
   "source": [
    "from IPython.display import Markdown\n",
    "for prompt, chosen, rejected, logprob_diff in []:\n",
    "    display(Markdown(f\"\\n### Prompt: {prompt}\\n\\n### Chosen:\\n {chosen}\\n\\n### Rejected:\\n {rejected}\\n\\nLogprob diff: {logprob_diff}\"))"
   ]
  }
 ],
 "metadata": {
  "kernelspec": {
   "display_name": ".venv",
   "language": "python",
   "name": "python3"
  },
  "language_info": {
   "codemirror_mode": {
    "name": "ipython",
    "version": 3
   },
   "file_extension": ".py",
   "mimetype": "text/x-python",
   "name": "python",
   "nbconvert_exporter": "python",
   "pygments_lexer": "ipython3",
   "version": "3.11.9"
  }
 },
 "nbformat": 4,
 "nbformat_minor": 2
}
