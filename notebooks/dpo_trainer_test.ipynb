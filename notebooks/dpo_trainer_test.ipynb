{
 "cells": [
  {
   "cell_type": "code",
   "execution_count": null,
   "metadata": {},
   "outputs": [],
   "source": [
    "import torch\n",
    "import sys\n",
    "import gc\n",
    "sys.path.append('..')\n",
    "%load_ext autoreload\n",
    "%autoreload 2\n",
    "from train_trl import TrainerWrapper, RLConfig, MOCK_LLAMA, LLAMA_3_2_1B"
   ]
  },
  {
   "cell_type": "code",
   "execution_count": null,
   "metadata": {},
   "outputs": [],
   "source": [
    "cfg = RLConfig(\n",
    "    single_process_mode=True,\n",
    "    max_samples=100,\n",
    "    model_id=LLAMA_3_2_1B,\n",
    ")\n",
    "wrapper = TrainerWrapper(cfg)\n",
    "wrapper.init_model()"
   ]
  },
  {
   "cell_type": "code",
   "execution_count": null,
   "metadata": {},
   "outputs": [],
   "source": [
    "wrapper.tokenizer.eos_token, wrapper.tokenizer.pad_token"
   ]
  },
  {
   "cell_type": "code",
   "execution_count": null,
   "metadata": {},
   "outputs": [],
   "source": [
    "wrapper.init_data_module()\n",
    "wrapper.init_trainer()"
   ]
  },
  {
   "cell_type": "code",
   "execution_count": null,
   "metadata": {},
   "outputs": [],
   "source": [
    "gc.collect()\n",
    "torch.cuda.empty_cache()\n",
    "! echo $CUDA_VISIBLE_DEVICES\n",
    "! nvidia-smi"
   ]
  },
  {
   "cell_type": "code",
   "execution_count": null,
   "metadata": {},
   "outputs": [],
   "source": [
    "wrapper.compute_loss_metrics()\n",
    "# need to use no_grad or get OOM\n",
    "# first_batch = next(iter(wrapper.trainer.get_train_dataloader()))\n",
    "# print(wrapper.tokenizer.decode(first_batch['prompt_input_ids'][0]))\n",
    "# with torch.no_grad():\n",
    "#     for batch in wrapper.trainer.get_train_dataloader():\n",
    "#         loss, out = wrapper.trainer.compute_loss(wrapper.model, batch, True)\n",
    "#         print(loss)\n",
    "#         display(out)"
   ]
  },
  {
   "cell_type": "code",
   "execution_count": null,
   "metadata": {},
   "outputs": [],
   "source": [
    "# plot distributiuon of losses\n",
    "import matplotlib.pyplot as plt\n",
    "import numpy as np\n",
    "import pandas as pd\n",
    "\n",
    "STR_COLS = ['prompt', 'chosen', 'rejected']\n",
    "\n",
    "out_df = pd.DataFrame(outputs)\n",
    "\n",
    "for col in out_df.columns:\n",
    "    if col in STR_COLS:\n",
    "        continue\n",
    "    print(out_df[col].describe())\n",
    "    plt.hist(out_df[col], bins=1000)\n",
    "    plt.title(col)\n",
    "    plt.show()"
   ]
  }
 ],
 "metadata": {
  "kernelspec": {
   "display_name": ".venv",
   "language": "python",
   "name": "python3"
  },
  "language_info": {
   "codemirror_mode": {
    "name": "ipython",
    "version": 3
   },
   "file_extension": ".py",
   "mimetype": "text/x-python",
   "name": "python",
   "nbconvert_exporter": "python",
   "pygments_lexer": "ipython3",
   "version": "3.11.10"
  }
 },
 "nbformat": 4,
 "nbformat_minor": 2
}
