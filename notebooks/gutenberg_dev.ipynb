{
 "cells": [
  {
   "cell_type": "code",
   "execution_count": 1,
   "metadata": {},
   "outputs": [
    {
     "name": "stderr",
     "output_type": "stream",
     "text": [
      "/Users/brianfitzgerald/Documents/GitHub/smolmodels/.venv/lib/python3.11/site-packages/tqdm/auto.py:21: TqdmWarning: IProgress not found. Please update jupyter and ipywidgets. See https://ipywidgets.readthedocs.io/en/stable/user_install.html\n",
      "  from .autonotebook import tqdm as notebook_tqdm\n",
      "Fetching 43 files: 100%|██████████| 43/43 [00:00<00:00, 413658.42it/s]\n"
     ]
    }
   ],
   "source": [
    "import polars as pl\n",
    "from huggingface_hub import snapshot_download\n",
    "from datasets import load_dataset\n",
    "gutenberg_location = snapshot_download(\"SaylorTwift/Gutenberg\", repo_type=\"dataset\")"
   ]
  },
  {
   "cell_type": "code",
   "execution_count": 2,
   "metadata": {},
   "outputs": [],
   "source": [
    "import os\n",
    "files = os.listdir(os.path.join(gutenberg_location, \"data\"))\n",
    "\n",
    "first_parquet_pl = pl.read_parquet(os.path.join(gutenberg_location, \"data\", files[0]))"
   ]
  },
  {
   "cell_type": "code",
   "execution_count": 18,
   "metadata": {},
   "outputs": [
    {
     "name": "stdout",
     "output_type": "stream",
     "text": [
      "The autoreload extension is already loaded. To reload it, use:\n",
      "  %reload_ext autoreload\n"
     ]
    },
    {
     "data": {
      "text/markdown": [
       "### Chunk"
      ],
      "text/plain": [
       "<IPython.core.display.Markdown object>"
      ]
     },
     "metadata": {},
     "output_type": "display_data"
    },
    {
     "data": {
      "text/markdown": [
       "One day, a trooper, like Spenser's gentle knight,'was pricking on the\n",
       "plain,' near the banks of the Goomtee. He was within a short distance\n",
       "of Chandour, a village about ten miles from Sultanpoor, the capital of\n",
       "the district, when he halted to observe a large female wolf and her\n",
       "whelps come out of a wood near the roadside, and go down to the river\n",
       "to drink. There were four whelps. Four!--surely not more than three;\n",
       "for the fourth of the juvenile company was as little like a wolf as\n",
       "possible. The horseman stared; for in fact it was a boy, going on\n",
       "all-fours like his comrades, evidently on excellent terms with them\n",
       "all, and guarded, as well as the rest, by the dam with the same\n",
       "jealous care which that exemplary mother, but unpleasant neighbour,\n",
       "bestows upon her progeny. The trooper sat still in his saddle watching\n",
       "this curious company till they had satisfied their thirst; but as soon\n",
       "as they commenced their return, he put spurs to his horse, to\n",
       "intercept the boy. Off ran the wolves, and off ran the boy\n",
       "helter-skelter--the latter keeping close up with the dam; and the\n",
       "horseman, owing to the unevenness of the ground, found it impossible\n",
       "to overtake them before they had all entered their den. He was\n",
       "determined, nevertheless, to attain his object, and assembling some\n",
       "people from the neighbouring village with pickaxes, they began to dig\n",
       "in the usual way into the hole. Having made an excavation of six or\n",
       "eight feet, the garrison evacuated the place--the wolf, the three\n",
       "whelps, and the boy, leaping suddenly out and taking to flight. The\n",
       "trooper instantly threw himself upon his horse, and set off in\n",
       "pursuit, followed by the fleetest of the party; and the ground over\n",
       "which they had to fly being this time more even, he at length headed\n",
       "the chase, and turned the whole back upon the men on foot. These\n",
       "secured the boy, and, according to prescriptive rule, allowed the wolf\n",
       "and her three whelps to go on their way.\n",
       "\n",
       "'They took the boy to the village,' says Colonel Sleeman, 'but had to\n",
       "tie him, for he was very restive, and struggled hard to rush into\n",
       "every hole or den they came near. They tried to make him speak, but\n",
       "could get nothing from him but an angry growl or snarl. He was kept\n",
       "for several days at the village, and a large crowd assembled every day\n",
       "to see him. When a grown-up person came near him, he became alarmed,\n",
       "and tried to steal away; but when a child came near him, he rushed at\n",
       "it with a fierce snarl, like that of a dog, and tried to bite it. When\n",
       "any cooked meat was put near him, he rejected it in disgust; but when\n",
       "raw meat was offered, he seized it with avidity, put it upon the\n",
       "ground, under his hands, like a dog, and ate it with evident pleasure.\n",
       "He would not let any one come near while he was eating, but he made no\n",
       "objection to a dog's coming and sharing his food with him.'\n",
       "\n",
       "This wild boy was sent to Captain Nicholetts, the European officer\n",
       "commanding the 1st regiment of Oude Local Infantry, stationed at\n",
       "Sultanpoor. He lived only three years after his capture, and died in\n",
       "August 1850. According to Captain Nicholetts' account of him, he was\n",
       "very inoffensive except when teased, and would then growl and snarl.\n",
       "He came to eat anything that was thrown to him, although much\n",
       "preferring raw flesh. He was very fond of uncooked bones, masticating\n",
       "them apparently with as much ease as meat; and he had likewise a still\n",
       "more curious partiality for small stones and earth. So great was his\n",
       "appetite, that he has been known to eat half a lamb at one meal; and\n",
       "buttermilk he would drink by the pitcher full without seeming to draw\n",
       "breath. He would never submit to wear any article of dress even in the\n",
       "coldest weather; and when a quilt stuffed with cotton was given to\n",
       "him, 'he tore it to pieces, and ate a portion of it--cotton and\n",
       "all--with his bread every day.' The countenance of the boy was\n",
       "repulsive, and his habits filthy in the extreme. He was never known to\n",
       "smile; and although fond of dogs and jackals, formed no attachment\n",
       "for any human being. Even when a favourite pariah dog, which used to\n",
       "feed with him, was shot for having fallen under suspicion of taking\n",
       "the lion's share of the meal, he appeared to be quite indifferent. He\n",
       "sometimes walked erect; but generally ran on all-fours--more\n",
       "especially to his food when it was placed at a distance from him."
      ],
      "text/plain": [
       "<IPython.core.display.Markdown object>"
      ]
     },
     "metadata": {},
     "output_type": "display_data"
    },
    {
     "data": {
      "text/markdown": [
       "### Chunk"
      ],
      "text/plain": [
       "<IPython.core.display.Markdown object>"
      ]
     },
     "metadata": {},
     "output_type": "display_data"
    },
    {
     "data": {
      "text/markdown": [
       "The session 1851 is the latest of whose labours, as they appear in the\n",
       "form of parliamentary records, an account can be given. By the\n",
       "admirable system of arrangement we have referred to, each\n",
       "parliamentary 'paper,' whether it issues in the shape of a bulky\n",
       "Blue-book--that is to say, as a thick, stitched folio volume, in a\n",
       "dark-blue cover--or as a mere 'paper'--an uncovered folio of a single\n",
       "sheet of two or four pages, or several stitched together, but not\n",
       "attaining the dignity of the blue cover--is marked as belonging to a\n",
       "certain class; and when the issue of the session is complete, a full\n",
       "set of 'Titles, Contents, and Indexes' to the whole is supplied, so\n",
       "that they can all be classified and bound up in due order with the\n",
       "utmost ease and celerity. The _Titles, Contents, and Indexes to the\n",
       "Sessional Printed Papers of Session_ 1851 are at present before us, in\n",
       "the shape of a folio Blue-book about an inch and a half thick, from\n",
       "which we think we may pick some facts of interest.\n",
       "\n",
       "It must be premised, that the session 1851 was considered by\n",
       "politicians a peculiarly barren and unfruitful one, as the Great\n",
       "Exhibition, in conjunction with ministerial difficulties, and the\n",
       "monster debates on the Ecclesiastical Titles' Bill, tended greatly to\n",
       "impede the ordinary business of the Houses, and gave an air of tedium\n",
       "and languor to the whole proceedings. Nevertheless, the papers for the\n",
       "year amount to no less than sixty volumes! Of these, the first six\n",
       "contain Public Bills. A bill, as most of our readers must be aware, is\n",
       "a measure submitted to the consideration of parliament with the view\n",
       "of its being adopted into the legal code of the country, for which it\n",
       "must receive the sanction of both Houses and the assent of the crown.\n",
       "When a bill has 'passed' through the Lords and Commons, and received\n",
       "the royal assent, it becomes an 'act'--that is, a law. A bill, in\n",
       "passing through the Houses, is subjected to numerous amendments and\n",
       "alterations in form, and is often printed, for the use of members and\n",
       "other parties interested, three or four times after such alterations,\n",
       "before it comes forth in its final and permanent form as an act. Thus,\n",
       "the famous Ecclesiastical Titles' Bill is to be found in three several\n",
       "shapes among the bills before it reappears for the fourth time as an\n",
       "act. Again, the word 'public' prefixed to these six volumes of bills,\n",
       "reminds us of the vast amount of business that comes before parliament\n",
       "and its committees in the shape of 'private' bills, of which no record\n",
       "appears here. These are bills of special and individual application,\n",
       "such as when a public company seeks an act of incorporation, the\n",
       "possessor of an entailed estate desires to sell a portion of ground,\n",
       "a railway directory asks for powers of various kinds, and so on.\n",
       "\n",
       "An examination of the contents of these six volumes would shew how\n",
       "many and diverse are the subjects that turn up in parliament in the\n",
       "course of a single and brief session; but to enter on it\n",
       "satisfactorily would require a great amount of space, and might, after\n",
       "all, be more tedious than profitable. A glance at those actually\n",
       "passed may suffice. These were 106 in number: the first is, 'An Act to\n",
       "amend the Passengers' Act of 1849;' and the hundred and sixth, 'An Act\n",
       "to appoint Commissioners to inquire into the Existence of Bribery in\n",
       "St Albans.' Besides the acts of an ordinary or routine character, we\n",
       "find the following among the subjects legislated on:--The Marine\n",
       "Forces, Leases for Mills in Ireland, Protection of Original Designs,\n",
       "the Protection of Servants and Apprentices, the Sale of Arsenic,\n",
       "Highways in Wales, Sites for Schools, Herring-Fishery, Prisons in\n",
       "Scotland, Common Lodging-Houses, Window and House Duties, Marriages in\n",
       "India, Ecclesiastical Titles, Smithfield Market, Settlement of the\n",
       "Boundaries of Canada and New Brunswick, Highland Roads and Bridges,\n",
       "Gunpowder Magazine at Liverpool, Management of the Insane in India,\n",
       "Lands in New Zealand, Representative Peers of Scotland, Emigration,\n",
       "Law of Evidence, Criminal Justice, &c.\n",
       "\n",
       "Following the six volumes of bills, are fifteen volumes of _Reports\n",
       "from Committees_, which are again succeeded by nine volumes of\n",
       "_Reports from Commissioners_. These two sections of the literature of\n",
       "parliament form vast stores of material on an immense number of\n",
       "subjects, into which he who digs laboriously is sure to be rewarded in\n",
       "the end. They contain great masses of 'evidence,' extracted by the\n",
       "examinations of committees and commissioners from the parties believed\n",
       "to be best qualified to give correct and full information on the\n",
       "various subjects on which they are examined, and these opinions are\n",
       "supported by facts and authentic statements and statistics, invaluable\n",
       "to the investigator. The first volume of last year's Reports from\n",
       "Committees opens with that on the Edinburgh Annuity Tax, the fifteenth\n",
       "contains that on Steam Communications with India. There are four\n",
       "volumes on Customs, two on Ceylon, one on Church-rates, one on the\n",
       "Caffre Tribes, one on Newspaper Stamps, &c.; while other volumes\n",
       "contain Reports on the Property Tax, the Militia, the Ordnance Survey,\n",
       "Public Libraries, Law of Partnership, &c. From commissioners, we have\n",
       "Reports on Fisheries, Emigration, National Gallery, Public Records,\n",
       "Board of Health, Factories, Furnaces, Mines and Collieries, Education,\n",
       "Maynooth College, Prisons, Public Works, &c.\n",
       "\n",
       "The fourth section of these parliamentary papers for 1851 amounts to\n",
       "thirty volumes, and consists of _Accounts and Papers_. It is in these\n",
       "that the statist finds inexhaustible wealth of material, long columns\n",
       "of figures with large totals, tables of the most complicated yet the\n",
       "clearest construction, containing a multiplicity of details bearing on\n",
       "the riches and resources of the empire in its most general and most\n",
       "minute particulars. Thus the first volume relates to 'Finance,' and\n",
       "includes the accounts of the Public Income and Expenditure, Public and\n",
       "National Debt, Income Tax, Public Works, and a vast variety of other\n",
       "subjects. The second volume is made up of the 'Estimates' for the\n",
       "Army, Navy, Ordnance, and 'Civil Services,' which includes Public\n",
       "Works, Public Salaries, Law and Justice, Education, Colonial and\n",
       "Consular Services, &c. The third volume is filled with Army and Navy\n",
       "Accounts and Returns. The next six volumes refer to the colonies, and\n",
       "consist of Accounts, Dispatches, Correspondence. The tenth is occupied\n",
       "with the subject of Emigration; and the eleventh with the Government\n",
       "of our Eastern Empire in all its vast machinery and complicated\n",
       "relations. The remaining volumes--for space would fail us to enumerate\n",
       "them in detail--treat of such subjects as the Census, Education,\n",
       "Convict Discipline, Poor, Post-office, Railways, Shipping, Quarantine,\n",
       "Trade and Navigation Returns, Revenue, Population and Commerce,\n",
       "Piracy, the Slave Trade, and Treaties and Conventions with Foreign\n",
       "States. Last of all, as volume sixty of the set, we have the\n",
       "_Numerical List and General Index_, itself a goodly tome of nearly 200\n",
       "pages, compiled with immense care, and arranged so perspicuously as to\n",
       "afford the utmost facilities for reference."
      ],
      "text/plain": [
       "<IPython.core.display.Markdown object>"
      ]
     },
     "metadata": {},
     "output_type": "display_data"
    },
    {
     "data": {
      "text/markdown": [
       "### Chunk"
      ],
      "text/plain": [
       "<IPython.core.display.Markdown object>"
      ]
     },
     "metadata": {},
     "output_type": "display_data"
    },
    {
     "data": {
      "text/markdown": [
       "\n",
       "Unquestionably, darkness is disagreeable. Whether to manhood\n",
       "hoary-headed in wisdom, or to childhood yet in soft-brained ignorance,\n",
       "darkness is an unpleasant fact, to be got over in the best way\n",
       "possible--to be got over at all events, and at any cost, and to be\n",
       "turned into luminosity by every expedient that can be used.\n",
       "Wax-tapers, to throw their soft, luxurious light on my lady's delicate\n",
       "face, as she lies like a beautiful piece of marble-work on her dreamy\n",
       "couch; shaded lamps for the grave merchant, the virtual king of the\n",
       "present, as he sits in his still office, ruling nations by bale and\n",
       "bond, and guiding the tide of events by invoices and ship's papers;\n",
       "Palmer's candles, under green pent-houses, for students and authors,\n",
       "whose eyes must withstand a double strain; the mild house-light, with\n",
       "a dash of economy in the selection, whether of oil, sperm, long-fours,\n",
       "or short-sixes, for the family group; the white camphene flame for the\n",
       "artist: strange mechanisms for the curious; the flaunting brilliancy\n",
       "of the coloured chandeliers and cut-glass shades for our English\n",
       "Bedouins in the gin-palace; the flaring jet of the open butchers'\n",
       "shops; the paper-lantern of the street-stalls; the consumptive dip of\n",
       "the slop-worker; the glimmering rush-light for the sick-room; the\n",
       "resin torch for the midnight funeral: these, and countless other\n",
       "inventions--not to mention the universal gas--assert man's\n",
       "disinclination to transact his life in the dark, or to bound his\n",
       "powers by the simple arrangements of nature. There are better lights,\n",
       "though, than any of these, and a worse than mere physical night, be it\n",
       "the blackest with which romancer ever stained his innocent paper, when\n",
       "describing those dark deeds on desolate moors which all romancers\n",
       "delight in, and which send young ladies pale to bed. The night of the\n",
       "mind is worse than the night of time; and lamps which can dispel this\n",
       "are more valuable than any which make up for the loss of the sun only,\n",
       "though these are grand undertakings too.\n",
       "\n",
       "Most people know what a Child's night-light is, and most people have\n",
       "heard of Belmont Wax, and Price's Patent Candles, though few would be\n",
       "able to explain exactly what the warrant guards. But who ever pretends\n",
       "to understand patents? The 'Belmont' every one knows; it is a mere\n",
       "ordinary wax-candle, which perhaps does not 'gutter' so much as\n",
       "others, and with wick more innocent of 'thieves' than most, but with\n",
       "nothing more wonderful in appearance than an ordinary candle. A\n",
       "Child's night-light, too, has nothing mysterious in its look. It\n",
       "greatly resembles the thick stumpy end of a magnificent mould, done up\n",
       "in a coloured card-jacket, and with a small thin wick, that gives just\n",
       "a point of flame, and no more, by which to light another candle, if\n",
       "necessary--of admirable service for this and all other purposes of a\n",
       "common-place bedroom. Eccentric sleepers, who write Greek hexameters,\n",
       "and fasten on poetic thoughts while the rest of the world are in\n",
       "rational slumber, might object to the feebleness of this point of\n",
       "light; but eccentricities need provisions of their own, and comets\n",
       "have orbits to which the laws of the stars do not apply. For all\n",
       "ordinary people, this thick candle-end is a delicious substitute for\n",
       "the ghastly rush-light in its chequered cage, which threw strange\n",
       "figures on wall and curtain, and gave nervous women the megrims. But\n",
       "nothing more is known of Belmonts or night-lights; their birthplace,\n",
       "and the manner of their making, are alike hidden from the outer world;\n",
       "the uninitiated accept the arcana of tallow only in the positive form.\n",
       "It is generally presumed that candles, in the abstract, come from some\n",
       "unknown place in 'the City;' but how they are made, or who is employed\n",
       "in their making, or how the workmen live in the grease-laden steam of\n",
       "the factory, not one in a thousand would know if he could certainly\n",
       "none would give himself any trouble to find out. Neither should we\n",
       "ourselves have known, had not a little pamphlet, bearing the heading,\n",
       "_Special Report by the Directors to the Proprietors of Price's Patent\n",
       "Candle Company_, fallen into our hands. Holding the Report open on the\n",
       "desk before us, we will now give to our readers the net result of the\n",
       "moral doings of the factory."
      ],
      "text/plain": [
       "<IPython.core.display.Markdown object>"
      ]
     },
     "metadata": {},
     "output_type": "display_data"
    },
    {
     "data": {
      "text/markdown": [
       "### Chunk"
      ],
      "text/plain": [
       "<IPython.core.display.Markdown object>"
      ]
     },
     "metadata": {},
     "output_type": "display_data"
    },
    {
     "data": {
      "text/markdown": [
       "In 1849, the cholera came, peculiarly severe about Lambeth and\n",
       "Battersea Fields, where many of the candlemakers lived. Mr Wilson's\n",
       "first thought was for the young people in the factory. He consulted\n",
       "with his brother, and they took additional counsel of first-rate\n",
       "medical men, and then added to the committee a Mr Symes, a gentleman\n",
       "holding a field that was waiting to be built on. The result of these\n",
       "consultations was, that Mr Symes giving them temporary possession of\n",
       "the field, the night-school was closed entirely, and all the boys set\n",
       "to work to learn cricket--cricket as the best antidote to cholera the\n",
       "directors of Price's Patent could devise. Wise men these directors,\n",
       "with some sterling common sense and rare old hearty benevolence mixed\n",
       "up with their generous Saxon blood! Mr Symes was not the only\n",
       "stranger--for stranger he was--eager to help the directors. A Mr\n",
       "Graham came forward, and many others joined in offering; and\n",
       "altogether, as Mr J. P. Wilson says, 'everybody's heart seemed to warm\n",
       "up to their object.' The plan was a success. Of the whole crowd of\n",
       "cricket-players, only one, an interesting lad of seventeen, was lost,\n",
       "though most of them had kinspeople dying and dead in their own homes.\n",
       "That cricket-ground was not, however, useful only for physical health;\n",
       "it presented a beautiful and striking scene, which must have carried\n",
       "home to every heart deep thoughts and holy purposes to strengthen the\n",
       "soul as well.\n",
       "\n",
       "'Always when the game was finished,' says Mr Wilson, 'they (the boys)\n",
       "collected in a corner of the field, and took off their caps for a very\n",
       "short prayer for the safety of themselves and their friends from\n",
       "cholera; and the tone in which they said their amen to this, has\n",
       "always made me think, that although the school was nominally given up\n",
       "for the time, they were really getting from their game, so concluded,\n",
       "more moral benefit than any ordinary schooling could have given them.'\n",
       "This belief we heartily endorse. That informal prayer, made while the\n",
       "blood was warm with happiness and high with health, spoken in the open\n",
       "field, by themselves, direct to Heaven, without other interpreter\n",
       "between them, must have made a deep impression on the boys. Its very\n",
       "informality must have added to its solemnity; making it appear, and\n",
       "indeed making it in reality, so much more the genuine, spontaneous,\n",
       "heart-spoken expression of each individual, than the mere customary\n",
       "attendance on a prescribed form can admit. A field of six and a half\n",
       "acres is now rented, at the annual gross cost of L.80, the middle of\n",
       "which is kept for the cricket-ground, while the edges are laid down in\n",
       "gardens, allotted out.\n",
       "\n",
       "During all the bright summer weather the boys worked eagerly at their\n",
       "gardens, and played perseveringly at cricket--making a happy and\n",
       "healthy use of time that otherwise must, if used well, have been spent\n",
       "in a dull school-room (not the most inviting of recreations, after a\n",
       "hard day's work at the candle-making), or idled away in the streets,\n",
       "amongst the unprofitable and unhealthy amusements provided for the\n",
       "people. Amongst other good results, Mr Wilson notices that of\n",
       "'softening to the boys one of the greatest evils now existing in the\n",
       "factory--the night-work, for which the men and boys come in at six in\n",
       "the evening, to leave at six in the morning.' These workers do not go\n",
       "to bed, it seems, so soon as they leave work: in former days, they\n",
       "generally dawdled about, took a walk, or strolled into a gin-palace,\n",
       "as it might happen, or did anything else to kill the time until their\n",
       "sleeping-hour arrived. Since the cricket-ground has been established,\n",
       "however, they rush off to the field on leaving work at six in the\n",
       "morning, thoroughly enjoy themselves at gardening and cricket until\n",
       "about a quarter past eight; and then, after collecting in a little\n",
       "shed, where a verse or two of the New Testament and the Lord's Prayer\n",
       "are read to them, they go home to sleep, refreshed by the exercise\n",
       "after their unnatural hours, happy, peaceful, and healthy. These are\n",
       "the birches and canes of the Messrs Wilson's moral and scholastic\n",
       "training!"
      ],
      "text/plain": [
       "<IPython.core.display.Markdown object>"
      ]
     },
     "metadata": {},
     "output_type": "display_data"
    },
    {
     "data": {
      "text/markdown": [
       "### Chunk"
      ],
      "text/plain": [
       "<IPython.core.display.Markdown object>"
      ]
     },
     "metadata": {},
     "output_type": "display_data"
    },
    {
     "data": {
      "text/markdown": [
       "A word more on Presburg, and we have done. In winter, this place, so\n",
       "little known to travellers, is frequented by the best society in\n",
       "Hungary; and it becomes a little metropolis, to which many of the\n",
       "nobility resort from the distance of 300 to 500 miles--from Tokay, and\n",
       "beyond the Theiss and Transylvania. In summer, perhaps, it offers\n",
       "still more enjoyment; for although the winter society is then\n",
       "scattered far and near, the town is always animated by the presence of\n",
       "those who are continually coming and going between Pesth and all parts\n",
       "of the south of Hungary and Vienna, conveyed either by the railway or\n",
       "by the numerous steam-boats which daily ply on the Danube. The\n",
       "neighbourhood, as We have already mentioned, is full of simple and\n",
       "healthy enjoyments, from the number of its delicious drives and walks,\n",
       "and places of rural entertainment, the quaint names of some of which\n",
       "cannot fail to amuse and attract the stranger. At about half an hour's\n",
       "drive from the town is the Chokolaten-Garten, much frequented for its\n",
       "excellent chocolate, which is manufactured on the spot. A little\n",
       "further on, and situated in the centre of one of the most beautiful\n",
       "little valleys of the Kleine Karpathen, is the Eisen-Brundel, a large\n",
       "house of entertainment, with a spacious dancing-room; and, without, a\n",
       "luxuriant grove of fine old trees, forming an impenetrable shelter,\n",
       "beneath which are arranged a number of tables and chairs. Here every\n",
       "species of entertainment is to be found, from the most simple brown\n",
       "bread, milk, and fruits, to the most sumptuous champagne dinners; and\n",
       "the prince and the peasant take their places without ceremony, as in\n",
       "the olden time of Robin Hood and Little John--'all merry under the\n",
       "greenwood tree.'\n",
       "\n",
       "Numerous other and still more simple places of refreshment and\n",
       "enjoyment present themselves at every turn of those delicious\n",
       "mountain-paths, which lead through the little valleys and hollows of\n",
       "the vineyards overlooking the town. One of the most agreeable is on\n",
       "the summit of the hill, near the little chapel of St Mary, called\n",
       "Marien Kirche, under the Kalvarienberg, and from which the eye looks\n",
       "over the whole town and the plain which stretches towards Pesth, and\n",
       "through which the Danube winds like a vast silver serpent, till it is\n",
       "lost in the far woods and dim distance. Lower down, and still nearer\n",
       "the town, in a little valley, is 'The Entrance to the New World!' The\n",
       "house is deliciously situated half-way up a wooded hill crowned with\n",
       "pines, and clothed with rich orchards and vineyards; not far off, in\n",
       "another little valley, are the Patzen-Häuser, with their orchards and\n",
       "gardens; and higher up we come to 'The Entrance to Paradise!' whence,\n",
       "as might be expected, there is a most superb view. This embraces the\n",
       "whole plain so far as the eye can reach towards the east and south; on\n",
       "the north it is bounded by the towering mountains of the Great\n",
       "Carpathians, the haunt of bears and wolves, wild boars and stags; and\n",
       "to the west, between the valleys which are formed by the hills of this\n",
       "smaller range of the same mountains, is seen the plain of Vienna, in\n",
       "the midst of which can be distinguished in a clear day the tall spire\n",
       "of St Stephen, rising as if from the bosom of the imperial park which\n",
       "conceals the capital. Beyond this towers the Neu-klosterberg, with its\n",
       "vast monastery; and further to the left, like white broken clouds in\n",
       "the blue horizon, are the snow-clad mountains of Steyer-mark (Styria.)"
      ],
      "text/plain": [
       "<IPython.core.display.Markdown object>"
      ]
     },
     "metadata": {},
     "output_type": "display_data"
    },
    {
     "data": {
      "text/markdown": [
       "### Chunk"
      ],
      "text/plain": [
       "<IPython.core.display.Markdown object>"
      ]
     },
     "metadata": {},
     "output_type": "display_data"
    },
    {
     "data": {
      "text/markdown": [
       "'Dear me, sir, you've been wandering strangely in your sleep. Here\n",
       "have I been a-knocking at the door this half-hour. The shaving-water\n",
       "is getting cold, and Mr Thomas is waiting yonder in the other room, to\n",
       "give you some papers he's got this morning.'\n",
       "\n",
       "I rose, rubbed my eyes, wondered what it all meant. Ah, yes; there was\n",
       "no mistaking the room and Mrs M'Donnell's good-natured Scotch voice.\n",
       "It was all a dream, and my imagination had magnified the thumping at\n",
       "the door into the 'sweet music of popular applause.' I fell back in\n",
       "bed, hid my face in the pillow, sighed over my short-lived glory, and\n",
       "felt very wretched when my young clerk came smiling into the room.\n",
       "'Here's some business at last, sir!' cried the boy with pleasure.\n",
       "\n",
       "To his astonishment, I looked carelessly at the papers, and found they\n",
       "consisted of 'a motion of course,' which some tender-hearted attorney\n",
       "had kindly sent me. Heigh-ho! it was all to be done over again! I\n",
       "flung the document on the ground in utter despair; but gradually\n",
       "recovering my temper, I at length took heart, and fell earnestly to\n",
       "work. At all events, this was a _real_ beginning; so I began to grow\n",
       "reconciled to the ruin of my stately castle of cards. It was a cruel\n",
       "blow, though; and now, reader, you have learned how I came by MY FIRST\n",
       "BRIEF."
      ],
      "text/plain": [
       "<IPython.core.display.Markdown object>"
      ]
     },
     "metadata": {},
     "output_type": "display_data"
    },
    {
     "data": {
      "text/markdown": [
       "### Chunk"
      ],
      "text/plain": [
       "<IPython.core.display.Markdown object>"
      ]
     },
     "metadata": {},
     "output_type": "display_data"
    },
    {
     "data": {
      "text/markdown": [
       "A. is a young man well known by a great number of the\n",
       "spectators--unsuspected of falsehood--knows nothing of the\n",
       "experimenter or of electro-biology, not even the meaning of the words.\n",
       "After submitting to the process employed by the lecturer--sitting\n",
       "still, and gazing fixedly upon a small disk of metal for about a\n",
       "quarter of an hour--he is selected as a suitable subject. When told by\n",
       "the experimenter that he cannot open his eyes, he seems to make an\n",
       "effort, but does not open them until he is assured that he can do so.\n",
       "He places his hand upon a table--is told that he cannot take the hand\n",
       "off the table--seems to make a strong effort to remove it, but fails,\n",
       "until it is liberated by a word from the lecturer. A walking-stick is\n",
       "now placed in his right hand, and he is challenged to strike the\n",
       "extended hand of the lecturer. He throws back the stick over his\n",
       "shoulder, and seems to have a very good will to strike, but cannot\n",
       "bring the stick down upon the hand. He afterwards declares to all who\n",
       "question him, that he 'tried with all his might' to strike the hand.\n",
       "A. has certainly no theatrical talents; but his looks and gestures,\n",
       "when he is made to believe that he is exposed to a terrific storm,\n",
       "convey a very natural expression of terror. He regards the imaginary\n",
       "flashes of lightning with an aspect of dismay, which, if simulated,\n",
       "would be a very good specimen of acting. In many other experiments\n",
       "performed upon him, the effects seem to be such as are quite beyond\n",
       "the reach of any scepticism with regard to his sincerity. He cannot\n",
       "pronounce his own name--does not know, or at least cannot _tell_, the\n",
       "name of the town in which he lives--cannot recognise one face in the\n",
       "room where scores of people, who know him very well, are now laughing\n",
       "at him. On the other side, we must state, that when a glass of water\n",
       "is given to him, and he is told that it is vinegar, he persists in\n",
       "saying that he tastes water, and nothing else. This is almost the only\n",
       "experiment that fails upon him.\n",
       "\n",
       "B. is an intelligent man, upwards of thirty years of age, of nervous\n",
       "temperament. His honesty and veracity are quite beyond all rational\n",
       "doubt. The numerous spectators, who have known him well for many\n",
       "years, are quite sure that if he has any will in the matter, it is\n",
       "simply to defeat the lecturer's purpose. However, after he has\n",
       "submitted himself to the process, the experiments made upon him prove\n",
       "successful. He is naturally a fluent talker, but now cannot, without\n",
       "difficulty and stammering, pronounce his own name, an easy\n",
       "monosyllable--cannot strike the lecturer's hand--cannot rise from a\n",
       "chair, &c. We may add, that he cannot be made to mistake water for\n",
       "vinegar.\n",
       "\n",
       "One more case. C. is a tradesman, middle-aged, has no tendency to\n",
       "mysticism or imaginative reverie--knows nothing of 'mesmerism' or\n",
       "'electro-biology'--was never suspected of falsehood or imposition. He\n",
       "proves, however, the most pliable of all the patients--the experiments\n",
       "succeed with him to the fullest extent--his imagination and his senses\n",
       "seem to be placed entirely under the control of the experimenter.\n",
       "Standing before a large audience, he is made to believe that he and\n",
       "the lecturer are alone in the room. He cannot recognise his own wife,\n",
       "who sits before him. He cannot step from the platform, which is about\n",
       "one foot higher than the floor. When informed that his limbs are too\n",
       "feeble to support him, he totters, and would fall if not held. Many of\n",
       "the experiments upon him, shewing an extreme state of mental and\n",
       "physical prostration, are rather painful to witness, others are\n",
       "ludicrous; for instance, he is made to believe that he is out amid the\n",
       "snow in the depth of winter--he shivers with cold, buttons up his\n",
       "coat, beats the floor with his feet, brushes away the imagined\n",
       "fast-falling flakes from his clothes, and almost imparts to the\n",
       "spectators a sympathetic feeling of cold by his wintry pantomime: then\n",
       "he is jocosely recommended not to stand thus shivering, but to make\n",
       "snow-balls, and pelt the lecturer. Heartily, and with apparent\n",
       "earnestness, he acts according to orders. Next, he is made to believe\n",
       "that the room has no roof.--'You see the sky and the stars,\n",
       "sir?'--'Yes.' 'And there, see, the moon is rising, very large and red,\n",
       "is it not?'--'Yes, sir.' 'Very well: now you see this cord in my hand;\n",
       "we will throw it over the moon, and pull her down.' He addresses\n",
       "himself to the task with perfect gravity, pulls heartily. 'Down she\n",
       "comes, sir! down she comes!' says the experimenter: 'mind your head,\n",
       "sir!'--and the deluded patient falls on the platform, as he imagines\n",
       "that the moon is coming down upon him."
      ],
      "text/plain": [
       "<IPython.core.display.Markdown object>"
      ]
     },
     "metadata": {},
     "output_type": "display_data"
    },
    {
     "data": {
      "text/markdown": [
       "### Chunk"
      ],
      "text/plain": [
       "<IPython.core.display.Markdown object>"
      ]
     },
     "metadata": {},
     "output_type": "display_data"
    },
    {
     "data": {
      "text/markdown": [
       "In the first place, then, we assert that _there is no proof whatever_\n",
       "that these effects depend upon any electric influence: there is\n",
       "absolutely no evidence that the metallic disk, as an '_electric_'\n",
       "agent, has any connection with the results. On this point, we invite\n",
       "the lecturers and experimenters who maintain that electricity is the\n",
       "agent in their process, to test the truth of our assertion, as they\n",
       "may very easily. _Coeteris paribus_--all the other usual conditions\n",
       "being observed, such as silence, the fixed gaze, monotony of\n",
       "attention--let the galvanic disk be put aside, and in its place let a\n",
       "sixpence or a fourpenny-piece be employed, or indeed any similar small\n",
       "object on which the eyes of the patient must remain fixed for the\n",
       "usual space of time, and we will promise that the experiments thus\n",
       "made shall be equally successful with those in which the so-called\n",
       "galvanic disk is employed. The phenomena are physiological and not\n",
       "electrical.\n",
       "\n",
       "Our conviction is, that the results proceed entirely from _imagination\n",
       "acting with a peculiar condition of the brain_, and that this\n",
       "peculiarly passive and impressible condition of the brain is induced\n",
       "by the _fixed gaze_ upon the disk. These are the only agencies which\n",
       "we believe to be necessary, in order to give us an explanation of the\n",
       "phenomena in question. In saying so, however, we are aware that such\n",
       "data will seem to some inquirers insufficient to account for the\n",
       "effects we have described. It may be said: 'We know that imagination\n",
       "sometimes produces singular results, but can hardly see how it\n",
       "explains the facts stated.' We have only to request that such\n",
       "inquirers, before they throw aside our explanation, will give\n",
       "attention to a few remarks on the power of imagination in certain\n",
       "conditions. We propose, _1st_, To give some suggestions on this point;\n",
       "_2d_, To notice the relations of imagination with reason; and, _3d_,\n",
       "To inquire how far the physical means employed--the fixed gaze on the\n",
       "disk--may be sufficient to affect the mental organ, the brain, so as\n",
       "to alter its normal condition.\n",
       "\n",
       "1. Our usual mode of speaking of imagination, is to treat it as the\n",
       "opposite of all reality. When we say, 'that was merely an\n",
       "imagination,' we dismiss the topic as not worthy of another thought.\n",
       "For all ordinary purposes, this mode of speaking is correct enough;\n",
       "but let us ask, Why is imagination so weak?--why are its suggestions\n",
       "so evanescent? Simply because it is under the control of reason. But\n",
       "if the action of reason could be suspended, we should then see how\n",
       "great, and even formidable, is the imaginative power. It is the most\n",
       "untiring of all our mental faculties, refusing to be put to rest even\n",
       "during sleep: it can alter the influence of all external agents--for\n",
       "example, can either assist or prevent the effects of medicine--can\n",
       "make the world a prison-house to one man, and a paradise to\n",
       "another--can turn dwarfs into giants, and make various other\n",
       "metamorphoses more wonderful than any described by Ovid; nay, these\n",
       "are all insufficient examples of its power when left without control;\n",
       "for it can produce either health, or disease, or death!"
      ],
      "text/plain": [
       "<IPython.core.display.Markdown object>"
      ]
     },
     "metadata": {},
     "output_type": "display_data"
    },
    {
     "data": {
      "text/markdown": [
       "### Chunk"
      ],
      "text/plain": [
       "<IPython.core.display.Markdown object>"
      ]
     },
     "metadata": {},
     "output_type": "display_data"
    },
    {
     "data": {
      "text/markdown": [
       "We shall say nothing of a metaphysical nature respecting reason, but\n",
       "shall simply point to two important facts connected with its exercise.\n",
       "The _first_--that it suspends or greatly modifies the action of other\n",
       "powers--has already been noticed in our remarks on imagination; but we\n",
       "must state it here in more distinct terms. We especially wish the\n",
       "reader to understand how wide and important is the meaning of the\n",
       "terms 'control' and 'overrule' as we use them when we say: 'reason\n",
       "controls, or overrules, imagination!' When we say that, in nature, the\n",
       "laws which regulate one stage of existence _overrule_ the laws of\n",
       "another and a lower stage, we do not intend to say that the latter are\n",
       "annulled, but that they are so controlled and modified in their course\n",
       "of action, that they can no longer produce the effects which would\n",
       "take place if they were left free from such control. A few examples\n",
       "will make our meaning plain. Let us contrast the operations of\n",
       "chemistry with those of mechanism. In the latter, substances act upon\n",
       "each other simply by pressure, motion, friction, &c.; but in\n",
       "chemistry, affinities and combinations come into play, producing\n",
       "results far beyond any that are seen in mechanics. On mechanical\n",
       "principles, the trituration of two substances about equal in hardness\n",
       "should simply reduce them to powder, but in chemistry, it may produce\n",
       "a gaseous explosion. Again--vegetable life overrules chemistry: the\n",
       "leaves, twigs, and branches of a tree, if left without life, would,\n",
       "when exposed to the agencies of air, light, heat, and moisture, be\n",
       "partly reduced to dust and partly diffused as gas in the atmosphere.\n",
       "It is the vegetative life of the tree which controls both the\n",
       "mechanical and the chemical powers of wind, rain, heat, and\n",
       "gravitation; and it is not until the life is extinct that these\n",
       "inferior powers come into full play upon the tree. So, again, the\n",
       "animal functions control chemical laws--take digestion, for example: a\n",
       "vegetable cut up by the root and exposed to the air, passes through a\n",
       "course of chemical decomposition, and _is_ finally converted into gas;\n",
       "but when an animal consumes a vegetable, it is not decomposed\n",
       "according to the chemical laws, but is digested, becomes chyle, and is\n",
       "assimilated to the body of the animal. It is obvious that animal life\n",
       "controls mechanical laws. Thus, the friction of two inert substances\n",
       "wears one of them away--the soft yields to the hard; but, on the\n",
       "contrary, the hand of the labourer who wields the spade or the pickaxe\n",
       "becomes thicker and harder by friction.\n",
       "\n",
       "The bearing of these remarks upon our present point will soon be\n",
       "obvious: we multiply examples, in order to shew in what an important\n",
       "sense we use the word _control_, with regard to the relation of reason\n",
       "with imagination. As we have seen, chemistry overrules the mechanical\n",
       "laws; vegetation suspends the laws of chemistry; a superior department\n",
       "of animal life controls influences which are laws in a lower\n",
       "department; again, mind controls the effects of physical influences;\n",
       "and, lastly, one power of the mind controls, and in a great measure\n",
       "suspends, the natural activity of another power--_reason controls\n",
       "imagination_. A second fact with regard to the action of reason must\n",
       "be noticed--that _it requires a wakeful condition of the brain_. Some\n",
       "may suppose that they have reasoned very well during sleep; but we\n",
       "suspect that, if they could recollect their syllogisms, they would\n",
       "find them not much better than Mickle's poetry composed during sleep.\n",
       "Mickle, the translator of the _Lusiad_, sometimes expressed his regret\n",
       "that he could not remember the poetry which he improvised in his\n",
       "dreams, for he had a vague impression that it was very beautiful.\n",
       "'Well,' said his wife, 'I can at least give you two lines, which I\n",
       "heard you muttering over during one of your poetic dreams. Here they\n",
       "are:"
      ],
      "text/plain": [
       "<IPython.core.display.Markdown object>"
      ]
     },
     "metadata": {},
     "output_type": "display_data"
    },
    {
     "data": {
      "text/markdown": [
       "### Chunk"
      ],
      "text/plain": [
       "<IPython.core.display.Markdown object>"
      ]
     },
     "metadata": {},
     "output_type": "display_data"
    },
    {
     "data": {
      "text/markdown": [
       "To this explanation we can only add, that all who doubt it may easily\n",
       "put it to an experimental test. If it is thought that the mere 'fixed\n",
       "gaze,' without electric or galvanic agency, is not sufficient to\n",
       "produce the phenomena in question, then the only way of determining\n",
       "our dispute must be by fair experiment. But here we would add a word\n",
       "of serious caution, as we regard the process as decidedly dangerous,\n",
       "especially if frequently repeated on one subject.\n",
       "\n",
       "To conclude: we regard the exhibitions now so common under the name of\n",
       "electro-biology as delusions, so far as they are understood to have\n",
       "any connection with the facts of electricity; so far as they are\n",
       "_real_, we regard them as very remarkable instances of a mode of\n",
       "acting on the brain which is, we believe, likely to prove injurious.\n",
       "As we have no motive in writing but simply to elicit the truth, we\n",
       "will briefly notice two difficulties which seem to attend our theory.\n",
       "These are--1. The _rapid transition_ from the state of illusion to an\n",
       "apparently wakeful and normal condition of mind. The patient who has\n",
       "been making snow-balls in a warm room, and has pulled the moon down,\n",
       "comes from the platform, recognises his friends, and can laugh at the\n",
       "visions which to him seemed realities but a few minutes since. 2. The\n",
       "_apparently slight effects_ left, in some cases, after the\n",
       "experiments. Among the subjects whom we have questioned on this point,\n",
       "one felt 'rather dizzy' all the next day after submitting to the\n",
       "process; another felt 'a pressure on the head;' but a third, who was\n",
       "one of the most successful cases, felt 'no effects whatever'\n",
       "afterwards; while a fourth thinks he derived 'some benefit' to his\n",
       "health from the operation. We leave these points for further inquiry."
      ],
      "text/plain": [
       "<IPython.core.display.Markdown object>"
      ]
     },
     "metadata": {},
     "output_type": "display_data"
    },
    {
     "data": {
      "text/markdown": [
       "### Chunk"
      ],
      "text/plain": [
       "<IPython.core.display.Markdown object>"
      ]
     },
     "metadata": {},
     "output_type": "display_data"
    },
    {
     "data": {
      "text/markdown": [
       "    Good-night! Oh, wherefore fades away\n",
       "      The light that lived in that dear word?\n",
       "    Why follows that good-night no day?\n",
       "      Why are our souls so stirred?\n",
       "    Oh, rather say, dull brain, once more,\n",
       "    'Good-night!'--thy time of toil is o'er!\n",
       "\n",
       "    Good-night!--Now cometh gentle sleep,\n",
       "      And tears that fall like welcome rain.\n",
       "    Good-night!--Oh, holy, blest, and deep,\n",
       "      The rest that follows pain.\n",
       "    How should we reach God's upper light\n",
       "    If life's long day had no 'good-night?'"
      ],
      "text/plain": [
       "<IPython.core.display.Markdown object>"
      ]
     },
     "metadata": {},
     "output_type": "display_data"
    }
   ],
   "source": [
    "from IPython.display import Markdown\n",
    "import re\n",
    "\n",
    "%load_ext autoreload\n",
    "%autoreload 2\n",
    "import sys\n",
    "\n",
    "sys.path.append(\"..\")\n",
    "from synthetic_data.gutenberg_parser import super_cleaner, DIALOGUE_REGEX\n",
    "sample_text = first_parquet_pl.sample(n=1)['text'][0]\n",
    "\n",
    "def contains_dialogue(text):\n",
    "    return bool(DIALOGUE_REGEX.search(text))\n",
    "\n",
    "def count_sentences(text):\n",
    "    return len(re.findall(r\"[.!?]\", text))\n",
    "\n",
    "# display(Markdown(sample_text))\n",
    "# paragraphs = sample_text.split(\"\\n\\n\")\n",
    "def find_valid_chunks(lst: list[str]):\n",
    "    chunks, current_chunk = [], []\n",
    "\n",
    "    for item in lst:\n",
    "        if item != \"[deleted]\" and contains_dialogue(item) and count_sentences(item) >= 3:\n",
    "            current_chunk.append(item)\n",
    "        else:\n",
    "            if len(current_chunk) >= 2:\n",
    "                chunks.append(current_chunk)\n",
    "            current_chunk = []\n",
    "\n",
    "    if len(current_chunk) >= 3:\n",
    "        chunks.append(current_chunk)\n",
    "\n",
    "    return chunks\n",
    "\n",
    "paragraphs = super_cleaner(sample_text)\n",
    "chunks = find_valid_chunks(paragraphs)\n",
    "for chunk in chunks:\n",
    "    display(Markdown(\"### Chunk\"))\n",
    "    display(Markdown(\"\\n\\n\".join(chunk)))"
   ]
  }
 ],
 "metadata": {
  "kernelspec": {
   "display_name": ".venv",
   "language": "python",
   "name": "python3"
  },
  "language_info": {
   "codemirror_mode": {
    "name": "ipython",
    "version": 3
   },
   "file_extension": ".py",
   "mimetype": "text/x-python",
   "name": "python",
   "nbconvert_exporter": "python",
   "pygments_lexer": "ipython3",
   "version": "3.11.11"
  }
 },
 "nbformat": 4,
 "nbformat_minor": 2
}
