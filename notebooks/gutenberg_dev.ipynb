{
 "cells": [
  {
   "cell_type": "code",
   "execution_count": 1,
   "metadata": {},
   "outputs": [
    {
     "name": "stderr",
     "output_type": "stream",
     "text": [
      "/Users/brianfitzgerald/Documents/GitHub/smolmodels/.venv/lib/python3.11/site-packages/tqdm/auto.py:21: TqdmWarning: IProgress not found. Please update jupyter and ipywidgets. See https://ipywidgets.readthedocs.io/en/stable/user_install.html\n",
      "  from .autonotebook import tqdm as notebook_tqdm\n"
     ]
    }
   ],
   "source": [
    "import polars as pl\n",
    "from huggingface_hub import snapshot_download\n",
    "from datasets import load_dataset\n",
    "import os\n",
    "import sys\n",
    "os.environ[\"HF_HUB_ENABLE_HF_TRANSFER\"] = \"1\"\n",
    "sys.path.append(\"..\")\n",
    "%load_ext autoreload\n",
    "%autoreload 2\n"
   ]
  },
  {
   "cell_type": "code",
   "execution_count": null,
   "metadata": {},
   "outputs": [],
   "source": [
    "import os\n",
    "\n",
    "from synthetic_data.tasks.writing import _get_gutenberg_subset, find_valid_chunks\n",
    "\n",
    "gutenberg_pq: pl.DataFrame = _get_gutenberg_subset(2)"
   ]
  },
  {
   "cell_type": "code",
   "execution_count": null,
   "metadata": {},
   "outputs": [],
   "source": [
    "gutenberg_pq.columns"
   ]
  },
  {
   "cell_type": "code",
   "execution_count": 101,
   "metadata": {},
   "outputs": [
    {
     "data": {
      "text/markdown": [
       "**Harper's Young People, March 22, 1881: An Illustrated Weekly**"
      ],
      "text/plain": [
       "<IPython.core.display.Markdown object>"
      ]
     },
     "metadata": {},
     "output_type": "display_data"
    },
    {
     "data": {
      "text/markdown": [
       "**New Poems**"
      ],
      "text/plain": [
       "<IPython.core.display.Markdown object>"
      ]
     },
     "metadata": {},
     "output_type": "display_data"
    },
    {
     "data": {
      "text/markdown": [
       "**What's Mine's Mine — Volume 3**"
      ],
      "text/plain": [
       "<IPython.core.display.Markdown object>"
      ]
     },
     "metadata": {},
     "output_type": "display_data"
    },
    {
     "name": "stdout",
     "output_type": "stream",
     "text": [
      "----------------------------------------------------------------------------------------------------\n",
      "n_tokens: 629\n"
     ]
    },
    {
     "data": {
      "text/markdown": [
       "I cannot say NO worldly pride mingled in the chief's contempt for\n",
       "the distiller's money; his righteous soul was not yet clear of its\n",
       "inherited judgments as to what is dignified and what is not. He had\n",
       "in him still the prejudice of the landholder, for ages instinctive,\n",
       "against both manufacture and trade. Various things had combined to\n",
       "foster in him also the belief that trade at least was never free\n",
       "from more or less of unfair dealing, and was therefore in itself a\n",
       "low pursuit. He had not argued that nothing the Father of men has\n",
       "decreed can in its nature be contemptible, but must be capable of\n",
       "being nobly done. In the things that some one must do, the doer\n",
       "ranks in God's sight, and ought to rank among his fellow-men,\n",
       "according to how he does it. The higher the calling the more\n",
       "contemptible the man who therein pursues his own ends. The humblest\n",
       "calling, followed on the principles of the divine caller, is a true\n",
       "and divine calling, be it scavenging, handicraft, shop-keeping, or\n",
       "book-making. Oh for the day when God and not the king shall be\n",
       "regarded as the fountain of honour."
      ],
      "text/plain": [
       "<IPython.core.display.Markdown object>"
      ]
     },
     "metadata": {},
     "output_type": "display_data"
    },
    {
     "data": {
      "text/markdown": [
       "But the Macruadh looked upon the calling of the brewer or distiller\n",
       "as from the devil: he was not called of God to brew or distil! From\n",
       "childhood his mother had taught him a horror of gain by corruption.\n",
       "She had taught, and he had learned, that the poorest of all\n",
       "justifications, the least fit to serve the turn of gentleman,\n",
       "logician, or Christian, was--\"If I do not touch this pitch, another\n",
       "will; there will be just as much harm done; AND ANOTHER INSTEAD OF\n",
       "ME WILL HAVE THE BENEFIT; therefore it cannot defile me.--Offences\n",
       "must come, therefore I will do them!\" \"Imagine our Lord in the\n",
       "brewing trade instead of the carpentering!\" she would say. That\n",
       "better beer was provided by the good brewer would not go far for\n",
       "brewer or drinker, she said: it mattered little that, by drinking\n",
       "good beer, the drunkard lived to be drunk the oftener. A brewer\n",
       "might do much to reduce drinking; but that would be to reduce a\n",
       "princely income to a modest livelihood, and to content himself with\n",
       "the baker's daughter instead of the duke's! It followed that the\n",
       "Macruadh would rather have robbed a church than touched Mr.\n",
       "Peregrine Palmer's money. To rifle the tombs of the dead would have\n",
       "seemed to him pure righteousness beside sharing in that. He could\n",
       "give Mercy up; he could NOT take such money with her! Much as he\n",
       "loved her, separate as he saw her, clearly as she was to him a woman\n",
       "undefiled and straight from God, it was yet a trial to him that she\n",
       "should be the daughter of a person whose manufacture and trade were\n",
       "such."
      ],
      "text/plain": [
       "<IPython.core.display.Markdown object>"
      ]
     },
     "metadata": {},
     "output_type": "display_data"
    },
    {
     "data": {
      "text/markdown": [
       "**Blackwood's Edinburgh Magazine — Volume 56, No. 346, August, 1844**"
      ],
      "text/plain": [
       "<IPython.core.display.Markdown object>"
      ]
     },
     "metadata": {},
     "output_type": "display_data"
    },
    {
     "name": "stdout",
     "output_type": "stream",
     "text": [
      "----------------------------------------------------------------------------------------------------\n",
      "n_tokens: 921\n"
     ]
    },
    {
     "data": {
      "text/markdown": [
       "The comments upon these men in England, whether for or against, were all\n",
       "personal. The Dost was the favourite--which was generous--as he had no\n",
       "solitary merit to plead except that he had lost the election; or, as the\n",
       "watchmaker's daughter so pointedly said on behalf of Nigel Lord\n",
       "Glenvarloch, \"Madam, he is unfortunate.\" Searching, however, in all\n",
       "corners for the undiscovered virtues of the Dost, as Bruce for the coy\n",
       "fountains of the Nile, one man reported by telegraph that he had\n",
       "unkenneled a virtue; that he had it fast in his hands, and would forward\n",
       "it overland. He did so; and what was it? A certain pedlar, or he might\n",
       "be a bagman, had said--upon the not uncommon accident in Cabool of\n",
       "finding himself pillaged--\"What! is there no justice to be had amongst\n",
       "you? Is Dost Mohammed dead?\" Upon which rather narrow basis was\n",
       "immediately raised in London a glorious superstructure to the justice of\n",
       "the Dost. Certainly, if the Dost's justice had ever any reference to\n",
       "pedlars, it must have been a nervous affection of penitential panic\n",
       "during some fit of the cholera, and as transient as the measles; his\n",
       "regard for pedlars being notoriously of that kind which tigers bear to\n",
       "shoulders of lamb; and Cabool has since rung with his pillagings of\n",
       "caravans. But we believe the pedlar's _mot_ to have been thoroughly\n",
       "misconceived. If we see a poor man bleeding to death in a village lane,\n",
       "we naturally exclaim--\"What! is Dr Brown, that used to practise here,\n",
       "gone away?\" Not meaning that the doctor could have stopped the\n",
       "hemorrhage, but simply that the absence of all medical aid is shocking,\n",
       "and using the doctor's name merely as a shorthand expression for that\n",
       "aid. Now in the East, down from scriptural days, the functions of a\n",
       "sovereign were two--to lead his people in battle, and to \"sit in the\n",
       "gate\" for the distribution of justice. Our pedlar, therefore, when\n",
       "invoking Dost Mahommed as the redresser of his wrongs, simply thought\n",
       "of him as the public officer who bore the sword of justice. \"He cried to\n",
       "Pharaoh,\" or he \"cried to Artaxerxes\"--did not imply any reliance in\n",
       "their virtue as individuals, but merely an appeal to them as\n",
       "professionally the ministers of justice. \"Are there no laws and no\n",
       "prisons amongst you?\" was the poor man's meaning; and he expressed this\n",
       "symbolically under the name of him who was officially responsible for\n",
       "both."
      ],
      "text/plain": [
       "<IPython.core.display.Markdown object>"
      ]
     },
     "metadata": {},
     "output_type": "display_data"
    },
    {
     "data": {
      "text/markdown": [
       "But, as one throws a bone to a dog, we do not care to dispute the point\n",
       "further, if any man is resolute to settle this virtue upon the Dost as a\n",
       "life-annuity. The case will then stand thus: We have all heard of\n",
       "\"Single-speech Hamilton;\" and we must then say--\"Single-virtue Dost;\"\n",
       "for no man mentions a second. \"Justice for pedlars\" will then be the\n",
       "legend on his coin, as meaning that there is none for any body else. Yet\n",
       "even then the voters for the Dost totally overlooked one thing. Shah\n",
       "Soojah had some shadow of a pretence, which we shall presently examine,\n",
       "to the throne of all Affghanistan; and a king of that compass was\n",
       "indispensable to Lord Auckland's object. But Dost Mahommed never had\n",
       "even the shadow of an attorney's fiction upon which he could stand as\n",
       "pretender to any throne but that of Cabool, where, by accident, he had\n",
       "just nine points of the law in his favour. How then could we have\n",
       "supported him? \"Because thou art virtuous,\" we must have said, are we to\n",
       "support future usurpation? Because the Dost is just to pedlars, \"shall\n",
       "there be no more ale and cakes\" for other Affghan princes? All Asia\n",
       "could not have held him upright on any throne comprehensively Affghan.\n",
       "Whether _that_ could have been accomplished for any other man, is\n",
       "another question. Yet unless Lord Auckland could obtain guarantees from\n",
       "the unity of an _Affghan_ government, nothing at all was done towards a\n",
       "barrier for the Indus."
      ],
      "text/plain": [
       "<IPython.core.display.Markdown object>"
      ]
     },
     "metadata": {},
     "output_type": "display_data"
    },
    {
     "data": {
      "text/markdown": [
       "**The Grasshopper Stories**"
      ],
      "text/plain": [
       "<IPython.core.display.Markdown object>"
      ]
     },
     "metadata": {},
     "output_type": "display_data"
    },
    {
     "data": {
      "text/markdown": [
       "**Memoirs of Madame la Marquise de Montespan — Volume 1**"
      ],
      "text/plain": [
       "<IPython.core.display.Markdown object>"
      ]
     },
     "metadata": {},
     "output_type": "display_data"
    },
    {
     "data": {
      "text/markdown": [
       "**A road-book to old Chelsea**"
      ],
      "text/plain": [
       "<IPython.core.display.Markdown object>"
      ]
     },
     "metadata": {},
     "output_type": "display_data"
    },
    {
     "data": {
      "text/markdown": [
       "**Weymouth New Testament in Modern Speech, 1 Corinthians**"
      ],
      "text/plain": [
       "<IPython.core.display.Markdown object>"
      ]
     },
     "metadata": {},
     "output_type": "display_data"
    },
    {
     "data": {
      "text/markdown": [
       "**The Rise of the Dutch Republic — Volume 05: 1559-60**"
      ],
      "text/plain": [
       "<IPython.core.display.Markdown object>"
      ]
     },
     "metadata": {},
     "output_type": "display_data"
    },
    {
     "name": "stdout",
     "output_type": "stream",
     "text": [
      "----------------------------------------------------------------------------------------------------\n",
      "n_tokens: 960\n"
     ]
    },
    {
     "data": {
      "text/markdown": [
       "The first was, likewise, chief of the finance department.  Most of the\n",
       "Catholic writers described him as a noble of loyal and highly honorable\n",
       "character.  Those of the Protestant party, on the contrary, uniformly\n",
       "denounced him as greedy, avaricious, and extremely sanguinary.  That he\n",
       "was a brave and devoted soldier, a bitter papist, and an inflexible\n",
       "adherent to the royal cause, has never been disputed.  The Baron himself,\n",
       "with his four courageous and accomplished sons, were ever in the front\n",
       "ranks to defend the crown against the nation.  It must be confessed,\n",
       "however, that fanatical loyalty loses most of the romance with which\n",
       "genius and poetry have so often hallowed the sentiment, when the\n",
       "\"legitimate\" prince for whom the sword is drawn is not only an alien in\n",
       "tongue and blood, but filled with undisguised hatred for the land he\n",
       "claims to rule."
      ],
      "text/plain": [
       "<IPython.core.display.Markdown object>"
      ]
     },
     "metadata": {},
     "output_type": "display_data"
    },
    {
     "data": {
      "text/markdown": [
       "Viglius van Aytta van Zuichem was a learned Frisian, born, according to\n",
       "some writers, of \"boors' degree, but having no inclination for boorish\n",
       "work\".  According to other authorities, which the President himself\n",
       "favored, he was of noble origin; but, whatever his race, it is certain\n",
       "that whether gentle or simple, it derived its first and only historical\n",
       "illustration from his remarkable talents and acquirements.  These in\n",
       "early youth were so great as to acquire the commendation of Erasmus.\n",
       "He had studied in Louvain, Paris, and Padua, had refused the tutorship\n",
       "Philip when that prince was still a child, and had afterwards filled a\n",
       "professorship at Ingolstadt.  After rejecting several offers of promotion\n",
       "from the Emperor, he had at last accepted in 1542 a seat in the council\n",
       "of Mechlin, of which body he had become president in 1545.  He had been\n",
       "one of the peace commissioners to France in 1558, and was now president\n",
       "of the privy council, a member of the state council, and of the inner and\n",
       "secret committee of that board, called the Consults.  Much odium was\n",
       "attached to his name for his share in the composition of the famous edict\n",
       "of 1550.  The rough draught was usually attributed to his pen, but he\n",
       "complained bitterly, in letters written at this time, of injustice done\n",
       "him in this respect, and maintained that he had endeavored, without\n",
       "success, to induce the Emperor to mitigate the severity of the edict.\n",
       "One does not feel very strongly inclined to accept his excuses, however,\n",
       "when his general opinions on the subject of religion are remembered.  He\n",
       "was most bigoted in precept and practice.  Religious liberty he regarded\n",
       "as the most detestable and baleful of doctrines; heresy he denounced as\n",
       "the most unpardonable of crimes."
      ],
      "text/plain": [
       "<IPython.core.display.Markdown object>"
      ]
     },
     "metadata": {},
     "output_type": "display_data"
    },
    {
     "data": {
      "text/markdown": [
       "From no man's mouth flowed more bitter or more elegant commonplaces than\n",
       "from that of the learned president against those blackest of malefactors,\n",
       "the men who claimed within their own walls the right to worship God\n",
       "according to their own consciences.  For a common person, not learned in\n",
       "law or divinity, to enter into his closet, to shut the door, and to pray\n",
       "to Him who seeth in secret, was, in his opinion, to open wide the gate of\n",
       "destruction for all the land, and to bring in the Father of Evil at once\n",
       "to fly away with the whole population, body and soul.  \"If every man,\"\n",
       "said he to Hopper, \"is to believe what he likes in his own house, we\n",
       "shall have hearth gods and tutelar divinities, again, the country will\n",
       "swarm with a thousand errors and sects, and very few there will be, I\n",
       "fear, who will allow themselves to be enclosed in the sheepfold of\n",
       "Christ.  I have ever considered this opinion,\" continued the president,\n",
       "\"the most pernicious of all.  They who hold it have a contempt for all\n",
       "religion, and are neither more nor less than atheists.  This vague,\n",
       "fireside liberty should be by every possible means extirpated; therefore\n",
       "did Christ institute shepherds to drive his wandering sheep back into the\n",
       "fold of the true Church; thus only can we guard the lambs against the\n",
       "ravening wolves, and prevent their being carried away from the flock of\n",
       "Christ to the flock of Belial.  Liberty of religion, or of conscience, as\n",
       "they call it, ought never to be tolerated.\""
      ],
      "text/plain": [
       "<IPython.core.display.Markdown object>"
      ]
     },
     "metadata": {},
     "output_type": "display_data"
    },
    {
     "data": {
      "text/markdown": [
       "**What Will He Do with It? — Volume 07**"
      ],
      "text/plain": [
       "<IPython.core.display.Markdown object>"
      ]
     },
     "metadata": {},
     "output_type": "display_data"
    },
    {
     "name": "stdout",
     "output_type": "stream",
     "text": [
      "----------------------------------------------------------------------------------------------------\n",
      "n_tokens: 1090\n"
     ]
    },
    {
     "data": {
      "text/markdown": [
       "DARRELL.--\" Ay, and still be young enough to catch a butterfly in Lady\n",
       "Adela--still be bold enough to chain a panther in Flora Vyvyan.  Let the\n",
       "world know--your world in each nook of its gaudy auction-mart--that\n",
       "Lione: Haughton is no pauper cousin--no penniless fortune-hunter.  I wish\n",
       "that world to be kind to him while he is yet young, and can enjoy it.\n",
       "Ah, Morley, Pleasure, like Punishment, hobbles after us, /pede claudo/.\n",
       "What would have delighted us yesterday does not catch us up till\n",
       "to-morrow, and yesterday's pleasure is not the morrow's.  A pennyworth of\n",
       "sugar-plums would have made our eyes sparkle when we were scrawling pot-\n",
       "hooks at a preparatory school, but no one gave us sugar-plums then.  Now\n",
       "every day at dessert France heaps before us her daintiest sugar-plums in\n",
       "gilt /bonbonnieres/.  Do you ever covet them?  I never do.  Let Lionel\n",
       "have his sugar-plums in time.  And as we talk, there he comes.  Lionel,\n",
       "how are you?\""
      ],
      "text/plain": [
       "<IPython.core.display.Markdown object>"
      ]
     },
     "metadata": {},
     "output_type": "display_data"
    },
    {
     "data": {
      "text/markdown": [
       "\"I resign you to Lionel's charge now,\" said the Colonel, glancing at his\n",
       "watch.  \"I have an engagement--trouble some.  Two silly friends of mine\n",
       "have been quarrelling--high words--in an age when duels are out of the\n",
       "question.  I have promised to meet another man, and draw up the form for\n",
       "a mutual apology.  High words are so stupid nowadays.  No option but to\n",
       "swallow them up again if they were as high as steeples.  Adieu for the\n",
       "present.  We meet to-night at Lady Dulcett's concert?\""
      ],
      "text/plain": [
       "<IPython.core.display.Markdown object>"
      ]
     },
     "metadata": {},
     "output_type": "display_data"
    },
    {
     "data": {
      "text/markdown": [
       "\"Yes,\" said Darrell.  \"I promised Miss Vyvyan to be there, and keep her\n",
       "from disturbing the congregation.  You Lionel, will come with me.\""
      ],
      "text/plain": [
       "<IPython.core.display.Markdown object>"
      ]
     },
     "metadata": {},
     "output_type": "display_data"
    },
    {
     "data": {
      "text/markdown": [
       "LIONELL (embarrassed).--\"No; you must excuse me.  I have long been\n",
       "engaged elsewhere.\""
      ],
      "text/plain": [
       "<IPython.core.display.Markdown object>"
      ]
     },
     "metadata": {},
     "output_type": "display_data"
    },
    {
     "data": {
      "text/markdown": [
       "\"That's a pity,\" said the Colonel, gravely.  \"Lady Dulcett's conceit is\n",
       "just one of the places where a young man should be seen.\"  Colonel Morley\n",
       "waved his hand with his usual languid elegance, and his hack cantered off\n",
       "with him, stately as a charger, easy as a rocking-horse."
      ],
      "text/plain": [
       "<IPython.core.display.Markdown object>"
      ]
     },
     "metadata": {},
     "output_type": "display_data"
    },
    {
     "data": {
      "text/markdown": [
       "\"Unalterable man,\" said Darrell, as his eye followed the horseman's\n",
       "receding figure.  \"'Through all the mutations on Time's dusty high-road-\n",
       "stable as a milestone.  Just what Alban Morley was as a school-boy he is\n",
       "now; and if mortal span were extended to the age of the patriarchs, just\n",
       "what Alban Morley is now, Alban Morley would be a thousand years hence.\n",
       "I don't mean externally, of course; wrinkles will come--cheeks will fade.\n",
       "But these are trifles: man's body is a garment, as Socrates said before\n",
       "me, and every seven years, according to the physiologists, man has a new\n",
       "suit, fibre and cuticle, from top to toe.  The interior being that wears\n",
       "the clothes is the same in Alban Morley.  Has he loved, hated, rejoiced,\n",
       "suffered?  Where is the sign?  Not one.  At school, as in life, doing\n",
       "nothing, but decidedly somebody--respected by small boys, petted by big\n",
       "boys--an authority with all.  Never getting honours--arm and arm with\n",
       "those who did; never in scrapes--advising those who were; imperturbable,\n",
       "immovable, calm above mortal cares as an Epicurean deity.  What can\n",
       "wealth give that he has not got?  In the houses of the richest he chooses\n",
       "his room.  Talk of ambition, talk of power--he has their rewards without\n",
       "an effort.  True prime minister of all the realm he cares for; good\n",
       "society has not a vote against him--he transacts its affairs, he knows\n",
       "its secrets--he yields its patronage.  Ever requested to do a favour--no\n",
       "loan great enough to do him one.  Incorruptible, yet versed to a fraction\n",
       "in each man's price; impeccable, yet confidant in each man's foibles;\n",
       "smooth as silk, hard as adamant; impossible to wound, vex, annoy him--but\n",
       "not insensible; thoroughly kind.  Dear, dear Alban! nature never polished\n",
       "a finer gentleman out of a solider block of man!\"  Darrell's voice\n",
       "quivered a little as he completed in earnest affection the sketch begun\n",
       "in playful irony, and then with a sudden change of thought, he resumed\n",
       "lightly:"
      ],
      "text/plain": [
       "<IPython.core.display.Markdown object>"
      ]
     },
     "metadata": {},
     "output_type": "display_data"
    },
    {
     "data": {
      "text/markdown": [
       "\"But I wish you to do me a favour, Lionel.  Aid me to repair a fault in\n",
       "good breeding, of which Alban Morley would never have been guilty.  I\n",
       "have been several days in London, and not yet called on your mother.\n",
       "Will you accompany me now to her house and present me?\""
      ],
      "text/plain": [
       "<IPython.core.display.Markdown object>"
      ]
     },
     "metadata": {},
     "output_type": "display_data"
    },
    {
     "data": {
      "text/markdown": [
       "**Dialstone Lane, Part 2.**"
      ],
      "text/plain": [
       "<IPython.core.display.Markdown object>"
      ]
     },
     "metadata": {},
     "output_type": "display_data"
    },
    {
     "data": {
      "text/markdown": [
       "**Memoirs of Napoleon Bonaparte — Volume 06**"
      ],
      "text/plain": [
       "<IPython.core.display.Markdown object>"
      ]
     },
     "metadata": {},
     "output_type": "display_data"
    },
    {
     "name": "stdout",
     "output_type": "stream",
     "text": [
      "----------------------------------------------------------------------------------------------------\n",
      "n_tokens: 509\n"
     ]
    },
    {
     "data": {
      "text/markdown": [
       "In the month of March hereditary succession and a dynasty were in\n",
       "everybody's mouths.  Lucien was the most violent propagator of these\n",
       "ideas, and he pursued his vocation of apostle with constancy and address.\n",
       "It has already been mentioned that, by his brother's confession; he\n",
       "published in 1800 a pamphlet enforcing the same ideas; which work\n",
       "Bonaparte afterwards condemned as a premature development of his\n",
       "projects.  M. de Talleyrand, whose ideas could not be otherwise than\n",
       "favourable to the monarchical form of government, was ready to enter into\n",
       "explanations with the Cabinets of Europe on the subject.  The words which\n",
       "now constantly resounded in every ear were \"stability and order,\" under\n",
       "cloak of which the downfall of the people's right was to be concealed.\n",
       "At the same time Bonaparte, with the view of disparaging the real friends\n",
       "of constitutional liberty, always called them ideologues,"
      ],
      "text/plain": [
       "<IPython.core.display.Markdown object>"
      ]
     },
     "metadata": {},
     "output_type": "display_data"
    },
    {
     "data": {
      "text/markdown": [
       "or terrorists.  Madame Bonaparte opposed with fortitude the influence of\n",
       "counsels which she believed fatal to her husband.  He indeed spoke\n",
       "rarely, and seldom confidentially, with her on politics or public\n",
       "affairs.  \"Mind your distaff or your needle,\" was with him a common\n",
       "phrase.  The individuals who applied themselves with most perseverance in\n",
       "support of the hereditary question were Lucien, Roederer, Regnault de St.\n",
       "Jean d'Angely, and Fontanel.  Their efforts were aided by the conclusion\n",
       "of peace with England, which, by re-establishing general tranquillity for\n",
       "a time, afforded the First Consul an opportunity of forwarding any plan."
      ],
      "text/plain": [
       "<IPython.core.display.Markdown object>"
      ]
     },
     "metadata": {},
     "output_type": "display_data"
    },
    {
     "data": {
      "text/markdown": [
       "While the First Consul aspired to the throne of France, his brothers,\n",
       "especially Lucien, affected a ridiculous pride and pretension.  Take an\n",
       "almost incredible example of which I was witness.  On Sunday, the 9th of\n",
       "May, Lucien came to see Madame Bonaparte, who said to him, \"Why did you\n",
       "not come to dinner last Monday?\"--\"Because there was no place marked for\n",
       "me: the brothers of Napoleon ought to have the first place after him.\"--\n",
       "\"What am I to understand by that?\" answered Madame Bonaparte.  \"If you\n",
       "are the brother of Bonaparte, recollect what you were.  At my house all\n",
       "places are the same.  Eugene world never have committed such a folly.\""
      ],
      "text/plain": [
       "<IPython.core.display.Markdown object>"
      ]
     },
     "metadata": {},
     "output_type": "display_data"
    },
    {
     "data": {
      "text/markdown": [
       "**Tasting the Earth**"
      ],
      "text/plain": [
       "<IPython.core.display.Markdown object>"
      ]
     },
     "metadata": {},
     "output_type": "display_data"
    },
    {
     "name": "stdout",
     "output_type": "stream",
     "text": [
      "----------------------------------------------------------------------------------------------------\n",
      "n_tokens: 735\n"
     ]
    },
    {
     "data": {
      "text/markdown": [
       "What's \"nostAglia\", Mums?\n",
       "\"NostAglia ... ?\" Oh, you mean \n",
       "\"Nostalgia\", Son, let me see ... \n",
       "How can I explain it to you, this \"nostAglia\", \n",
       "(As good a word for it as any!)\n",
       "Well ... Darling ...\n",
       "\"NostAglia\", is that funny pit-of-the-tummy feeling\n",
       "You get\n",
       "Going down in elevators\n",
       "Only you're not in an elevator -\n",
       "It just comes.\n",
       "Everything sort of goes away from you, \n",
       "And you feel a little scared\n",
       "And a lot lonely ... \n",
       "It's like this\n",
       "Remember Tippy ... the little brown dog ... \n",
       "And how we loved him;\n",
       "And how he ran just a little ahead of you, \n",
       "Just a little too fast\n",
       "And you, chasing him on your tricycle ... \n",
       "And the curb came,\n",
       "And you stopped, \n",
       "And Tip, didn't\n",
       "And he just lay there,\n",
       "And the look was gone out of his eyes\n",
       "And we tucked him away in a brown bean carton \n",
       "Under the apple tree\n",
       "And the house was awfully quiet without him, \n",
       "That was \"nostalgia\"."
      ],
      "text/plain": [
       "<IPython.core.display.Markdown object>"
      ]
     },
     "metadata": {},
     "output_type": "display_data"
    },
    {
     "data": {
      "text/markdown": [
       "And remember when we did the Plays, \n",
       "And you were Wakefield in the Jalna one, \n",
       "And we used to prop up your lines over the basin in the bathroom,\n",
       "And you learned them while you brushed your teeth;\n",
       "And you followed me round the kitchen \n",
       "While I made peanut butter cookies \n",
       "And took the part of Renny\n",
       "At the same time ...\n",
       "And it was pretty exciting\n",
       "And mixed up, and very wonderful ... \n",
       "And the smell of make-up, remember that? \n",
       "And the keen edge of being treated like a grownup...\n",
       "And the first taste of applause\n",
       "And the feeling of \"power\" \n",
       "When you nip't your cue\n",
       "Right on the nose;\n",
       "And then it was all over\n",
       "And there weren't any more rehearsals, \n",
       "And all the excitement was quenched\n",
       "And school seemed uncommonly dull\n",
       "And one night you went back to the theatre \n",
       "To get your little riding boots,\n",
       "And it was deserted and dusty. \n",
       "But that lovely smell of make-up \n",
       "Still lingered in the dressing-room; \n",
       "And you stood there for a minute \n",
       "With one boot in your hand\n",
       "And let it just \"roll\" over you ... \n",
       "The Play ... the lights ... the fun ... \n",
       "And then you gave yourself a little shake\n",
       "And picked up the other boot ... and felt ... well ...\n",
       "That was \"nostaglia\"!"
      ],
      "text/plain": [
       "<IPython.core.display.Markdown object>"
      ]
     },
     "metadata": {},
     "output_type": "display_data"
    },
    {
     "data": {
      "text/markdown": [
       "And then ... remember the time in the Union Station\n",
       "And we'd been down to Gammie's together \n",
       "Because Daddy was there ... on Last Leave ... \n",
       "And he'd met us at the train,\n",
       "And taken you to the Mess\n",
       "And you'd seen the Bunk, where he slept, \n",
       "And played a game of Darts,\n",
       "And had a Coke with him in the Canteen, \n",
       "And gone to a Movie\n",
       "And felt very proud when we came out \n",
       "Because your father looked so impressive in his uniform.\n",
       "And because we'd agreed there'd be no fuss, \n",
       "No tears ... no last good-byes ...\n",
       "Daddy had just said,\n",
       "\"So long, Sport ... I'll see you in the Funny Papers ...\"\n",
       "But for once\n",
       "It wasn't funny.\n",
       "And you were still holding the little metal disc in your hand\n",
       "Daddy had stamped out for you \n",
       "With your name on it.\n",
       "And you didn't seem to want to put it out of your hand\n",
       "Not even in your pocket;\n",
       "And you looked at me across a great, black gap...\n",
       "And even I couldn't fix it ... this time ... \n",
       "And that was \"nostalgia\"!"
      ],
      "text/plain": [
       "<IPython.core.display.Markdown object>"
      ]
     },
     "metadata": {},
     "output_type": "display_data"
    },
    {
     "data": {
      "text/markdown": [
       "**Prince Zilah — Volume 3**"
      ],
      "text/plain": [
       "<IPython.core.display.Markdown object>"
      ]
     },
     "metadata": {},
     "output_type": "display_data"
    },
    {
     "data": {
      "text/markdown": [
       "**The Boy Scouts in Front of Warsaw; Or, In the Wake of War**"
      ],
      "text/plain": [
       "<IPython.core.display.Markdown object>"
      ]
     },
     "metadata": {},
     "output_type": "display_data"
    },
    {
     "data": {
      "text/markdown": [
       "**Curly and Floppy Twistytail (The Funny Piggie Boys)**"
      ],
      "text/plain": [
       "<IPython.core.display.Markdown object>"
      ]
     },
     "metadata": {},
     "output_type": "display_data"
    },
    {
     "data": {
      "text/markdown": [
       "**Harper's Young People, August 15, 1882: An Illustrated Weekly**"
      ],
      "text/plain": [
       "<IPython.core.display.Markdown object>"
      ]
     },
     "metadata": {},
     "output_type": "display_data"
    },
    {
     "name": "stdout",
     "output_type": "stream",
     "text": [
      "----------------------------------------------------------------------------------------------------\n",
      "n_tokens: 685\n"
     ]
    },
    {
     "data": {
      "text/markdown": [
       "The Commodore, who, in spite of his magnificent title, wasn't in the\n",
       "least alarming, laughed, and said: \"That is a question that I've made up\n",
       "my mind never to try to answer. But I'll give you the names of four\n",
       "canoeists, each of whom uses a different variety of canoe. You go and\n",
       "see them, listen to what they say, believe it all, and then come back\n",
       "and see me, and we'll come to a decision.\" He then wrote four notes of\n",
       "introduction, gave them to the boys, and sent them away."
      ],
      "text/plain": [
       "<IPython.core.display.Markdown object>"
      ]
     },
     "metadata": {},
     "output_type": "display_data"
    },
    {
     "data": {
      "text/markdown": [
       "The first canoeist to whom the boys were referred received them with\n",
       "great kindness, and told them that it was fortunate they had come to\n",
       "him. \"The canoe that you want,\" said he, \"is the 'Rice Lake' canoe, and\n",
       "if you had gone to somebody else, and he had persuaded you to buy 'Rob\n",
       "Roy' canoes or 'Shadows,' you would have made a great mistake. The 'Rice\n",
       "Lake' canoe is nearly flat-bottomed, and so stiff that there is no\n",
       "danger that you will capsize her. She paddles easily, and sails faster\n",
       "than any other canoe. She is roomy, and you can carry about twice as\n",
       "much in her as you can carry in a 'Rob Roy.' She has no keel, so that\n",
       "you can run rapids easily in her, and she is built in a peculiar way\n",
       "that makes it impossible for her to leak. Don't think for a moment of\n",
       "getting any other canoe, for if you do you will never cease to regret\n",
       "it.\""
      ],
      "text/plain": [
       "<IPython.core.display.Markdown object>"
      ]
     },
     "metadata": {},
     "output_type": "display_data"
    },
    {
     "data": {
      "text/markdown": [
       "He was such a pleasant, frank gentleman, and was so evidently earnest in\n",
       "what he said, that the boys at once decided to get \"Rice Lake\" canoes.\n",
       "They did not think it worth while to make any farther inquiries; but, as\n",
       "they had three other notes of introduction with them, Tom Schuyler said\n",
       "that it would hardly do to throw them away. So they went to see the next\n",
       "canoeist, though without the least expectation that he would say\n",
       "anything that would alter their decision."
      ],
      "text/plain": [
       "<IPython.core.display.Markdown object>"
      ]
     },
     "metadata": {},
     "output_type": "display_data"
    },
    {
     "data": {
      "text/markdown": [
       "Canoeist No. 2 was as polite and enthusiastic as canoeist No. 1. \"So you\n",
       "boys want to get canoes, do you?\" said he. \"Well, there is only one\n",
       "canoe for you to get, and that is the 'Shadow.' She paddles easily, and\n",
       "sails faster than any other canoe. She's not a flat-bottomed skiff, like\n",
       "the 'Rice Laker,' that will spill you whenever a squall strikes her, but\n",
       "she has good bearings, and you can't capsize her unless you try hard.\n",
       "Then, she is decked all over, and you can sleep in her at night, and\n",
       "keep dry even in a thunder-storm; her water-tight compartments have\n",
       "hatches in them, so that you can stow blankets and things in them that\n",
       "you want to keep dry; and she has a keel, so that when you run rapids,\n",
       "and she strikes on a rock, she will strike on her keel instead of her\n",
       "planks. It isn't worth while for you to look at any other canoe, for\n",
       "there is no canoe except the 'Shadow' that is worth having.\""
      ],
      "text/plain": [
       "<IPython.core.display.Markdown object>"
      ]
     },
     "metadata": {},
     "output_type": "display_data"
    },
    {
     "data": {
      "text/markdown": [
       "**Her Sailor: A Love Story**"
      ],
      "text/plain": [
       "<IPython.core.display.Markdown object>"
      ]
     },
     "metadata": {},
     "output_type": "display_data"
    },
    {
     "data": {
      "text/markdown": [
       "**Carnac's Folly, Volume 3.**"
      ],
      "text/plain": [
       "<IPython.core.display.Markdown object>"
      ]
     },
     "metadata": {},
     "output_type": "display_data"
    },
    {
     "name": "stdout",
     "output_type": "stream",
     "text": [
      "----------------------------------------------------------------------------------------------------\n",
      "n_tokens: 692\n"
     ]
    },
    {
     "data": {
      "text/markdown": [
       "As though Creation was in league against him, a heavy storm broke about\n",
       "two o'clock, and he went to bed cursed by torturing thoughts.  \"Chickens\n",
       "come home to roost--\"  Why did that ancient phrase keep ringing in his\n",
       "ears when he tried to sleep?  Beaten by his illegitimate son at the\n",
       "polls, the victim of his own wrong-doing--the sacrifice of penalty!\n",
       "He knew that his son, inheriting his own political gifts, had done what\n",
       "could have been done by no one else.  All the years passed since Carnac\n",
       "was begotten laid their deathly hands upon him, and he knew he could\n",
       "never recover from this defeat.  How much better it would have been if he\n",
       "had been struck twenty-seven years ago!"
      ],
      "text/plain": [
       "<IPython.core.display.Markdown object>"
      ]
     },
     "metadata": {},
     "output_type": "display_data"
    },
    {
     "data": {
      "text/markdown": [
       "Youth, ambition and resolve would have saved him from the worst then.\n",
       "Age has its powers, but it has its defects, and he had no hope that his\n",
       "own defects would be wiped out by luck at the polls.  Spirit was gone out\n",
       "of him, longing for the future had no place in his mind; in the world of\n",
       "public work he was dead and buried.  How little he had got from all his\n",
       "life!  How few friends he had, and how few he was entitled to have!  This\n",
       "is one of the punishments that selfishness and wrong-doing brings; it\n",
       "gives no insurance for the hours of defeat and loss.  Well, wealth and\n",
       "power, the friends so needed in dark days, had not been made, and Barode\n",
       "Barouche realized he had naught left.  He had been too successful from\n",
       "the start; he had had all his own way; and he had taken no pains to make\n",
       "or keep friends.  He well knew there was no man in the Cabinet or among\n",
       "his colleagues that would stir to help him--he had stirred to help no man\n",
       "in all the years he had served the public.  It was no good only to serve\n",
       "the public, for democracy is a weak stick on which to lean.  One must\n",
       "stand by individuals or there is no defence against the malicious foes\n",
       "that follow the path of defeat, that ambush the way.  It is the personal\n",
       "friends made in one's own good days that watch the path and clear away\n",
       "the ambushers.  It is not big influential friends that are so important\n",
       "--the little unknown man may be as useful as the big boss in the mill of\n",
       "life; and if one stops to measure one's friends by their position, the\n",
       "end is no more sure than if one makes no friends at all."
      ],
      "text/plain": [
       "<IPython.core.display.Markdown object>"
      ]
     },
     "metadata": {},
     "output_type": "display_data"
    },
    {
     "data": {
      "text/markdown": [
       "\"There's nothing left for me in life--nothing at all,\" he said as he\n",
       "tossed in bed while the thunder roared and the storm beat down the\n",
       "shrubs.  \"How futile life is--'Youth's a dream, middle age a delusion,\n",
       "old age a mistake!'\" he kept repeating to himself in quotation.  \"What\n",
       "does one get out of it?  Nothing--nothing--nothing!  It's all a poor show\n",
       "at the best, and yet--is it?  Is it all so bad?  Is it all so poor and\n",
       "gaunt and hopeless?  Isn't there anything in it for the man who gives and\n",
       "does his best?\""
      ],
      "text/plain": [
       "<IPython.core.display.Markdown object>"
      ]
     },
     "metadata": {},
     "output_type": "display_data"
    },
    {
     "data": {
      "text/markdown": [
       "**The Cap and Gown**"
      ],
      "text/plain": [
       "<IPython.core.display.Markdown object>"
      ]
     },
     "metadata": {},
     "output_type": "display_data"
    },
    {
     "data": {
      "text/markdown": [
       "**Rhyme and Reason; a Compilation of Verses, Rhymes and Senses**"
      ],
      "text/plain": [
       "<IPython.core.display.Markdown object>"
      ]
     },
     "metadata": {},
     "output_type": "display_data"
    },
    {
     "name": "stdout",
     "output_type": "stream",
     "text": [
      "----------------------------------------------------------------------------------------------------\n",
      "n_tokens: 671\n"
     ]
    },
    {
     "data": {
      "text/markdown": [
       "A place to grow old in.\n",
       "Verdant slopes teem with pastoral greenery. Waves splinter on craggy\n",
       "rocks and cliffs. They,  the vanguards of the coast. Showered and mired\n",
       "with the sea's deep blue depth. Effervescent streaks of foam marks each\n",
       "agitation. Thoroughfares , serenaded by minstrels. Be enchanted by\n",
       "wayfarer's tales, drawn to the romance of fables and ruminate on the\n",
       "bitter-sweet myths. Trace stony mounds with the soles as the feet step\n",
       "on cobble stone streets. Homely public houses, freshly cooked square\n",
       "meals at cafs and bonhomie, as common as courtesy. Live our days in\n",
       "contentment. Good banter abound and rousing humour gallops. It is at\n",
       "once both country and city. Neither be in want of conveniences nor be\n",
       "compelled to forego the space of privacy.\n",
       "A place to grow old in.\n",
       "8>)"
      ],
      "text/plain": [
       "<IPython.core.display.Markdown object>"
      ]
     },
     "metadata": {},
     "output_type": "display_data"
    },
    {
     "data": {
      "text/markdown": [
       "Divine Apollo, won't you roll us another day ? Slide the shadows and\n",
       "give us light. Then we'll know that yesterday was not our last. We live\n",
       "another day to tread and carve this earth.\n",
       "Orpheus, won't you play us another tune ? Spur those weary ones. Lull\n",
       "anguished souls. Calm eddies of worried minds. Soothe and entertain\n",
       "those left.\n",
       "Poseidon, bring your chariot over your kingdom of the sea, with your\n",
       "sacred trident, bless the seas with plenty. Let the winds be kind to\n",
       "sailors. Let the catch be rich. Tame the ocean's ferocity when it\n",
       "vexes.\n",
       "Aphrodite, be benevolent to those who seek love. Kindle passion yet\n",
       "temper its infectious intensity lest the glow becomes a torrid pyre.\n",
       "Eros plays tricks with his arrows and bow. Allow us the power to\n",
       "discern with liberty of choice and reason as company.\n",
       "Hermes, we pray that you bring glad tidings to us mortals. We long to\n",
       "hear you proclaim , o messenger of the Gods , that needless bloodshed\n",
       "shall be no more. That goodness rules. Hope subdues chaos released by\n",
       "Pandora. All injustice undone. Suffering's grief and tears shed\n",
       "cleansed from memory.\n",
       "Athene, guide us from machinations of Evil. Grant us the gift of\n",
       "Courage and Perseverance. The same which you had given Odysseus for we\n",
       "too endure our own odysseys. Demons and villains, they alter their\n",
       "guises well and cunningly.\n",
       "Hades, keep your train beneath the world. Your faithful Cerberus, bark\n",
       "and bite not at mortal heels before our time. Our course governed by\n",
       "Heaven's trade with the Reapers at your command. O Fates, lead us\n",
       "gently and guide us well into the Hereafter.\n",
       "Supreme Zeus, the one of the feared thunderbolt. Mightiest of\n",
       "Olympians, final arbiter. With a fraction of your wisdom, we shall have\n",
       "sight of sense. With that sense, breathe wisdom in our actions and\n",
       "curtail weaknesses. Your blessing and mercy be upon us all still.\n",
       "8>)"
      ],
      "text/plain": [
       "<IPython.core.display.Markdown object>"
      ]
     },
     "metadata": {},
     "output_type": "display_data"
    },
    {
     "data": {
      "text/markdown": [
       "**Lincoln and the Sleeping Sentinel: The True Story**"
      ],
      "text/plain": [
       "<IPython.core.display.Markdown object>"
      ]
     },
     "metadata": {},
     "output_type": "display_data"
    },
    {
     "data": {
      "text/markdown": [
       "**The Rise of the Dutch Republic — Volume 09: 1564-65**"
      ],
      "text/plain": [
       "<IPython.core.display.Markdown object>"
      ]
     },
     "metadata": {},
     "output_type": "display_data"
    },
    {
     "name": "stdout",
     "output_type": "stream",
     "text": [
      "----------------------------------------------------------------------------------------------------\n",
      "n_tokens: 995\n"
     ]
    },
    {
     "data": {
      "text/markdown": [
       "It was soon, however, sufficiently obvious that as desperate a struggle\n",
       "was to be made with the many-headed monster of general corruption as with\n",
       "the Cardinal by whom it had been so long fed and governed.  The Prince\n",
       "was accused of ambition and intrigue.  It was said that he was determined\n",
       "to concentrate all the powers of government in the state council, which\n",
       "was thus to become an omnipotent and irresponsible senate, while the King\n",
       "would be reduced to the condition of a Venetian Doge.  It was, of course,\n",
       "suggested that it was the aim of Orange to govern the new Tribunal of\n",
       "Ten.  No doubt the Prince was ambitious.  Birth, wealth, genius, and\n",
       "virtue could not have been bestowed in such eminent degree on any man\n",
       "without carrying with them the determination to assert their value.\n",
       "It was not his wish so much as it was the necessary law of his being\n",
       "to impress himself upon his age and to rule his fellow-men.  But he\n",
       "practised no arts to arrive at the supremacy which he felt must always\n",
       "belong to him, what ever might be his nominal position in the political\n",
       "hierarchy.  He was already, although but just turned of thirty years,\n",
       "vastly changed from the brilliant and careless grandee, as he stood at\n",
       "the hour of the imperial abdication.  He was becoming careworn in face,\n",
       "thin of figure, sleepless of habit.  The wrongs of which he was the daily\n",
       "witness, the absolutism, the cruelty, the rottenness of the government,\n",
       "had marked his face with premature furrows.  \"They say that the Prince is\n",
       "very sad,\" wrote Morillon to Granvelle; \"and 'tis easy to read as much in\n",
       "his face.  They say he can not sleep.\"  Truly might the monarch have\n",
       "taken warning that here was a man who was dangerous, and who thought too\n",
       "much.  \"Sleekheaded men, and such as slept o' nights,\" would have been\n",
       "more eligible functionaries, no doubt, in the royal estimation, but, for\n",
       "a brief period, the King was content to use, to watch, and to suspect the\n",
       "man who was one day to be his great and invincible antagonist.  He\n",
       "continued assiduous at the council, and he did his best, by entertaining\n",
       "nobles and citizens at his hospitable mansion, to cultivate good\n",
       "relations with large numbers of his countrymen.  He soon, however, had\n",
       "become disgusted with the court.  Egmont was more lenient to the foul\n",
       "practices which prevailed there, and took almost a childish pleasure in\n",
       "dining at the table of the Duchess, dressed, as were many of the younger\n",
       "nobles, in short camlet doublet with the wheat-sheaf buttons."
      ],
      "text/plain": [
       "<IPython.core.display.Markdown object>"
      ]
     },
     "metadata": {},
     "output_type": "display_data"
    },
    {
     "data": {
      "text/markdown": [
       "The Duchess, on her part, characterized the proceedings and policy, both\n",
       "past and present, of the cardinalists as factious, corrupt, and selfish\n",
       "in the last degree.  She assured her brother that the simony, rapine, and\n",
       "dishonesty of Granvelle, Viglius, and all their followers, had brought\n",
       "affairs into the ruinous condition which was then but too apparent.  They\n",
       "were doing their best, she said, since the Cardinal's departure, to show,\n",
       "by their sloth and opposition, that they were determined to allow nothing\n",
       "to prosper in his absence.  To quote her own vigorous expression to\n",
       "Philip--\"Viglius made her suffer the pains of hell.\"  She described him\n",
       "as perpetually resisting the course of the administration, and she threw\n",
       "out dark suspicions, not only as to his honesty but his orthodoxy.\n",
       "Philip lent a greedy ear to these scandalous hints concerning the late\n",
       "omnipotent minister and his friends.  It is an instructive lesson in\n",
       "human history to look through the cloud of dissimulation in which the\n",
       "actors of this remarkable epoch were ever enveloped, and to watch them\n",
       "all stabbing fiercely at each other in the dark, with no regard to\n",
       "previous friendship, or even present professions.  It is edifying to see\n",
       "the Cardinal, with all his genius and all his grimace, corresponding on\n",
       "familiar terms with Armenteros, who was holding him up to obloquy upon\n",
       "all occasions; to see Philip inclining his ear in pleased astonishment to\n",
       "Margaret's disclosures concerning the Cardinal, whom he was at the very\n",
       "instant assuring of his undiminished confidence; and to see Viglius, the\n",
       "author of the edict of 1550, and the uniform opponent of any mitigation\n",
       "in its horrors, silently becoming involved without the least suspicion of\n",
       "the fact in the meshes of inquisitor Titelmann."
      ],
      "text/plain": [
       "<IPython.core.display.Markdown object>"
      ]
     },
     "metadata": {},
     "output_type": "display_data"
    },
    {
     "data": {
      "text/markdown": [
       "**Widger's Quotes and Images from Monsieur, Madame, and Bébé by Gustave Droz: The French Immortals: Quotes and Images**"
      ],
      "text/plain": [
       "<IPython.core.display.Markdown object>"
      ]
     },
     "metadata": {},
     "output_type": "display_data"
    },
    {
     "data": {
      "text/markdown": [
       "**Poets of the South: A Series of Biographical and Critical Studies with Typical Poems, Annotated**"
      ],
      "text/plain": [
       "<IPython.core.display.Markdown object>"
      ]
     },
     "metadata": {},
     "output_type": "display_data"
    },
    {
     "name": "stdout",
     "output_type": "stream",
     "text": [
      "----------------------------------------------------------------------------------------------------\n",
      "n_tokens: 632\n"
     ]
    },
    {
     "data": {
      "text/markdown": [
       "  \"Weep not, that Time\n",
       "  Is passing on--it will ere long reveal\n",
       "  A brighter era to the nations. Hark!\n",
       "  Along the vales and mountains of the earth\n",
       "  There is a deep, portentous murmuring\n",
       "  Like the swift rush of subterranean streams,\n",
       "  Or like the mingled sounds of earth and air,\n",
       "  When the fierce Tempest, with sonorous wing,\n",
       "  Heaves his deep folds upon the rushing winds,\n",
       "  And hurries onward with his night of clouds\n",
       "  Against the eternal mountains. 'Tis the voice\n",
       "  Of infant _Freedom_--and her stirring call\n",
       "  Is heard and answered in a thousand tones\n",
       "  From every hilltop of her western home----\n",
       "  And lo--it breaks across old Ocean's flood----\n",
       "  And _Freedom, Freedom!_ is the answering shout\n",
       "  Of nations starting from the spell of years.\n",
       "  The dayspring!--see--'tis brightening in the heavens!\n",
       "  The watchmen of the night have caught the sign----\n",
       "  From tower to tower the signal fires flash free----\n",
       "  And the deep watchword, like the rush of seas\n",
       "  That heralds the volcano's bursting flame,\n",
       "  Is sounding o'er the earth. Bright years of hope\n",
       "  And life are on the wing.--Yon glorious bow\n",
       "  Of Freedom, bended by the hand of God,\n",
       "  Is spanning Time's dark surges. Its high arch,\n",
       "  A type of love and mercy on the cloud,\n",
       "  Tells that the many storms of human life\n",
       "  Will pass in silence, and the sinking waves,\n",
       "  Gathering the forms of glory and of peace,\n",
       "  Reflect the undimmed brightness of the Heaven.\""
      ],
      "text/plain": [
       "<IPython.core.display.Markdown object>"
      ]
     },
     "metadata": {},
     "output_type": "display_data"
    },
    {
     "data": {
      "text/markdown": [
       "\n",
       "WILLIAM GILMORE SIMMS (1806-1870), a native of Charleston, was a man of\n",
       "remarkable versatility. He made up for his lack of collegiate training by\n",
       "private study and wide experience. He early gave up law for literature,\n",
       "and during his long and tireless literary career was editor, poet,\n",
       "dramatist, historian, and novelist. He had something of the wideness of\n",
       "range of Sir Walter Scott; and one can not but think that, had he lived\n",
       "north of Mason and Dixon's line, he might occupy a more prominent place\n",
       "in the literary annals of our country. He has been styled the \"Cooper of\n",
       "the South\"; but it is hardly too much to say that in versatility,\n",
       "culture, and literary productiveness he surpassed his great Northern\n",
       "contemporary."
      ],
      "text/plain": [
       "<IPython.core.display.Markdown object>"
      ]
     },
     "metadata": {},
     "output_type": "display_data"
    },
    {
     "data": {
      "text/markdown": [
       "Simms was a poet before he became a novelist. The poetic impulse\n",
       "manifested itself early; and before he was twenty-five he had published\n",
       "three or more volumes of verse. In 1832 his imaginative poem,\n",
       "_Atalantis, a Story of the Sea_, was brought out by the Harpers; and\n",
       "it introduced him at once to the favorable notice of what Poe called the\n",
       "\"Literati\" of New York. His subsequent volumes of poetry were devoted\n",
       "chiefly to a description of Southern scenes and incidents."
      ],
      "text/plain": [
       "<IPython.core.display.Markdown object>"
      ]
     },
     "metadata": {},
     "output_type": "display_data"
    },
    {
     "data": {
      "text/markdown": [
       "**The American Missionary — Volume 42, No. 05, May, 1888**"
      ],
      "text/plain": [
       "<IPython.core.display.Markdown object>"
      ]
     },
     "metadata": {},
     "output_type": "display_data"
    },
    {
     "name": "stdout",
     "output_type": "stream",
     "text": [
      "----------------------------------------------------------------------------------------------------\n",
      "n_tokens: 561\n"
     ]
    },
    {
     "data": {
      "text/markdown": [
       "\"Ramona Days,\" is the title of a neatly printed pamphlet of\n",
       "forty-three pages, being the January number of a quarterly, published\n",
       "by the Indian Department of the University of New Mexico. This Indian\n",
       "school is named in honor of Mrs. Helen Hunt Jackson, who has rendered\n",
       "such valuable services to the Indians in setting forth in thrilling\n",
       "terms their wrongs, and in pleading so pathetically for their rights.\n",
       "The Ramona school is under the efficient supervision of Pres. H.O.\n",
       "Ladd, and is aided in part by the American Missionary Association."
      ],
      "text/plain": [
       "<IPython.core.display.Markdown object>"
      ]
     },
     "metadata": {},
     "output_type": "display_data"
    },
    {
     "data": {
      "text/markdown": [
       "The pamphlet is not a catalogue of the school, but contains a variety\n",
       "of interesting matter on Indian affairs, the titles of some of the\n",
       "articles being; \"Wiser Methods,\" \"Famous Apache Chiefs,\" \"Treaty\n",
       "Obligations to the Navajoes,\" \"A Recent Movement Toward Indian\n",
       "Civilization,\" \"Ramona Memorial,\" etc., etc. There are also letters\n",
       "from the teachers, and two cuts, one representing the proposed\n",
       "Memorial Building, Ramona. Mr. Ladd's {123} work lies largely among\n",
       "that remarkably promising race of Indians, the Apaches, and those who\n",
       "wish to know more about them would do well to have the pamphlet. It\n",
       "can be had by addressing Rev. H.O. Ladd, Santa Fe, New Mexico;\n",
       "subscription price, 50 cents for the four numbers."
      ],
      "text/plain": [
       "<IPython.core.display.Markdown object>"
      ]
     },
     "metadata": {},
     "output_type": "display_data"
    },
    {
     "data": {
      "text/markdown": [
       "The supreme question in English politics is the unity of the empire.\n",
       "The problem of the mother country is, How may the scattered colonies\n",
       "be joined in one body whose heart shall be London? All the other\n",
       "questions of the island-empire are but parts of this. This in turn is\n",
       "forced into prominence by the under-current of the world's aspiration\n",
       "for larger liberty. \"The world no longer for the few, but for the\n",
       "many,\" is the watchword of an increasing number in all the nations.\n",
       "How to maintain the manhood of her subjects, and yet not to force the\n",
       "dismemberment of the empire, is the question uppermost in old England."
      ],
      "text/plain": [
       "<IPython.core.display.Markdown object>"
      ]
     },
     "metadata": {},
     "output_type": "display_data"
    },
    {
     "data": {
      "text/markdown": [
       "With us, the problem is not one of scattered colonies but of divergent\n",
       "people. There is in the United States the double problem of how to\n",
       "consolidate and preserve the interests of a nation with a long area\n",
       "north and south, and with the most diverse elements of population ever\n",
       "gathered under one flag. This is complicated by other factors. Our\n",
       "study is confined to those which touch what is known as the Southern\n",
       "question. The problems of English and American political and religious\n",
       "life are identical in that both are inspired by the watchword of the\n",
       "rising multitudes, \"The world for the many.\""
      ],
      "text/plain": [
       "<IPython.core.display.Markdown object>"
      ]
     },
     "metadata": {},
     "output_type": "display_data"
    },
    {
     "data": {
      "text/markdown": [
       "**The Bride of the Nile — Volume 05**"
      ],
      "text/plain": [
       "<IPython.core.display.Markdown object>"
      ]
     },
     "metadata": {},
     "output_type": "display_data"
    },
    {
     "name": "stdout",
     "output_type": "stream",
     "text": [
      "----------------------------------------------------------------------------------------------------\n",
      "n_tokens: 981\n"
     ]
    },
    {
     "data": {
      "text/markdown": [
       "\"Child, child!  Perhaps I have given much pain in my life without knowing\n",
       "it; but you have certainly suffered most through me, for I have made you,\n",
       "an innocent, trusting creature, my accomplice in crime.  The great sin we\n",
       "both committed has been visited on me alone, but the punishment is a\n",
       "hundred--a thousand times too heavy!\""
      ],
      "text/plain": [
       "<IPython.core.display.Markdown object>"
      ]
     },
     "metadata": {},
     "output_type": "display_data"
    },
    {
     "data": {
      "text/markdown": [
       "\"And with this,\" Katharina went on, \"he covered his face with his hands,\n",
       "threw himself on the couch again, and groaned and sighed.  Then he sprang\n",
       "up once more, crying out so loud and passionately that I felt as if I\n",
       "must die of grief and pity: 'Forgive me if you can!  Forgive me, wholly,\n",
       "freely.  I want it--you must, you must!  I was going to run up to him and\n",
       "throw my arms round him and forgive him everything, his trouble\n",
       "distressed me so much; but he gravely pushed me away--not roughly or\n",
       "sternly, and he said that there was an end of all love-making and\n",
       "betrothal between us--that I was young, and that I should be able to\n",
       "forget him.  He would still be a true friend to me and to my mother,\n",
       "and the more we required of him the more gladly would he serve us."
      ],
      "text/plain": [
       "<IPython.core.display.Markdown object>"
      ]
     },
     "metadata": {},
     "output_type": "display_data"
    },
    {
     "data": {
      "text/markdown": [
       "\"I was about to answer him, but he hastily interrupted me and said firmly\n",
       "and decisively: 'Lovable as you are, I cannot love you as you deserve;\n",
       "for it is my duty to tell you, I have another and a greater love in my\n",
       "heart--my first and my last; and though once in my life I have proved\n",
       "myself a wretch, still, it was but once; and I would rather endure your\n",
       "anger, and hurt both you and myself now, than continue this unrighteous\n",
       "tie and cheat you and others.'--At this I was greatly startled, and\n",
       "asked: 'Paula?'  However, he did not answer, but bent over me and touched\n",
       "my forehead with his lips, just as my father often kissed me, and then\n",
       "went quickly out into the garden."
      ],
      "text/plain": [
       "<IPython.core.display.Markdown object>"
      ]
     },
     "metadata": {},
     "output_type": "display_data"
    },
    {
     "data": {
      "text/markdown": [
       "\"Just then my mother came up, as red as a poppy and panting for breath:\n",
       "she took me by the hand without a word, dragged me into the chariot after\n",
       "her, and then cried out quite beside herself--she could not even shed a\n",
       "tear for rage: 'What insolence! what unheard-of behavior--How can I find\n",
       "the heart to tell you, poor sacrificed lamb. . .'\""
      ],
      "text/plain": [
       "<IPython.core.display.Markdown object>"
      ]
     },
     "metadata": {},
     "output_type": "display_data"
    },
    {
     "data": {
      "text/markdown": [
       "\"And she would have gone on, but that I would not let her finish; I told\n",
       "her at once that I knew all, and happily I was able to keep quite calm.\n",
       "I had some bad hours at home; and when Nilus came to us yesterday, after\n",
       "the opening of the will, and brought me the pretty little gold box with\n",
       "turquoises and pearls that I have always admired, and told me that the\n",
       "good Mukaukas had written with his own hand, in his last will, that it\n",
       "was to be given to me I his bright little 'Katharina,' my mother insisted\n",
       "on my not taking it and sent it back to Neforis, though I begged and\n",
       "prayed to keep it.  And of course I shall never go to that house again;\n",
       "indeed my mother talks of quitting Memphis altogether and settling in\n",
       "Constantinople or some other city under Christian rule.  'Then our nice,\n",
       "pretty house must be given up, and our dear, lovely garden be sold to the\n",
       "peasant folk, my mother says.  It was just the same a year and a half ago\n",
       "with Memnon's palace.  His garden was turned into a corn-field, and the\n",
       "splendid ground-floor rooms, with their mosaics and pictures, are now\n",
       "dirty stables for cows and sheep, and pigs are fed in the rooms that\n",
       "belonged to Hathor and Dorothea.  Good Heavens!  And they were my\n",
       "clearest friends!  And I am never to play with Mary any more; and mother\n",
       "has not a kind word for any living soul, hardly even for me, and my old\n",
       "nurse is as deaf as a mole!  Am I not a really miserable, lonely\n",
       "creature?  And if you, even you, will have nothing to say to me, who is\n",
       "there in all Memphis whom I can trust in?  But you will not be so cruel,\n",
       "will you?  And it will not be for long, for my mother really means to go\n",
       "away.  You are older than I am, of course, and much graver and wiser....\""
      ],
      "text/plain": [
       "<IPython.core.display.Markdown object>"
      ]
     },
     "metadata": {},
     "output_type": "display_data"
    },
    {
     "data": {
      "text/markdown": [
       "**Fuzzy head**"
      ],
      "text/plain": [
       "<IPython.core.display.Markdown object>"
      ]
     },
     "metadata": {},
     "output_type": "display_data"
    },
    {
     "data": {
      "text/markdown": [
       "**Chambers's Journal of Popular Literature, Science, and Art, Fifth Series, No. 109, Vol. III, January 30, 1886**"
      ],
      "text/plain": [
       "<IPython.core.display.Markdown object>"
      ]
     },
     "metadata": {},
     "output_type": "display_data"
    },
    {
     "data": {
      "text/markdown": [
       "**A Thorny Path — Volume 11**"
      ],
      "text/plain": [
       "<IPython.core.display.Markdown object>"
      ]
     },
     "metadata": {},
     "output_type": "display_data"
    },
    {
     "name": "stdout",
     "output_type": "stream",
     "text": [
      "----------------------------------------------------------------------------------------------------\n",
      "n_tokens: 688\n"
     ]
    },
    {
     "data": {
      "text/markdown": [
       "\"Your own noble words, great Caesar, when, to your honor be it spoken,\n",
       "you reminded the misguided skeptic of the true meaning of the old gods\n",
       "and of what is due to them.  The god whom I serve, great Caesar, is\n",
       "second to none: the heavens are his head, the ocean is his body, and the\n",
       "earth his feet; the sunshine is the light of his all-seeing eye, and\n",
       "everything which stirs in the heart or brain of man is an emanation of\n",
       "his divine spirit.  Thus he is the all-pervading soul of the universe,\n",
       "and a portion of that soul dwells in you, in me, in all of us.  His power\n",
       "is greater than any power on earth, and, though a well-grounded wrath and\n",
       "only too just indignation urge you to exert the power lent you by him--\""
      ],
      "text/plain": [
       "<IPython.core.display.Markdown object>"
      ]
     },
     "metadata": {},
     "output_type": "display_data"
    },
    {
     "data": {
      "text/markdown": [
       "\"And I will exert it!\"  Caesar exclaimed with haughty rage.  \"It reaches\n",
       "far.  I need no help, not even that of your god!\""
      ],
      "text/plain": [
       "<IPython.core.display.Markdown object>"
      ]
     },
     "metadata": {},
     "output_type": "display_data"
    },
    {
     "data": {
      "text/markdown": [
       "\"That I know,\" replied Timotheus.  \"And the god will let those fall into\n",
       "your hands who have sinned against your sacred majesty.  Any punishment,\n",
       "even the severest, will be pleasing in his sight which you may inflict on\n",
       "those guilty of high-treason, for you wear the purple as his gift and in\n",
       "his name; those who insult you sin also against the god.  I myself, with\n",
       "my small power, will help to bring the criminals to justice.  But when a\n",
       "whole population is accused, when it is beyond the power of human justice\n",
       "to separate the innocent from the guilty, punishment is the prerogative\n",
       "of the god.  He will visit on this city the crimes it has committed\n",
       "against you; and I implore you, in the name of your noble and admirable\n",
       "mother--whom it has been my privilege to entertain under this roof, and\n",
       "who in gratitude for the favors of Serapis--\""
      ],
      "text/plain": [
       "<IPython.core.display.Markdown object>"
      ]
     },
     "metadata": {},
     "output_type": "display_data"
    },
    {
     "data": {
      "text/markdown": [
       "\"And have I grudged sacrifices?\"  Caesar broke in.  \"I have done my\n",
       "utmost to win the graces of your god--and with what success?  Everything\n",
       "that can most aggrieve the heart of man has befallen me here under his\n",
       "eyes.  I have as much reason to complain of him as to accuse the\n",
       "reprobate natives of your city.  He, no doubt, knows how to be avenged;\n",
       "the three-headed monster at his feet does not look like a lap-dog.  Why,\n",
       "he would despise me if I should leave the punishment of the criminals to\n",
       "his tender mercies!  Nay, I can do that for myself.  Though you have seen\n",
       "me in many cases show mercy, it has always been for my mother's sake.\n",
       "You have done well to remind me of her.  That lady--she is, I know, a\n",
       "votary of your god.  But to me the Alexandrians have dared to violate the\n",
       "laws of hospitality; to her they were cordial hosts.  I will remember\n",
       "that in their favor.  And if many escape unpunished, I would have the\n",
       "traitors to know that they owe it to the hospitality shown to my mother\n",
       "by their parents, or perhaps by themselves.\""
      ],
      "text/plain": [
       "<IPython.core.display.Markdown object>"
      ]
     },
     "metadata": {},
     "output_type": "display_data"
    },
    {
     "data": {
      "text/markdown": [
       "**The Physiology of Marriage, Part 3**"
      ],
      "text/plain": [
       "<IPython.core.display.Markdown object>"
      ]
     },
     "metadata": {},
     "output_type": "display_data"
    },
    {
     "name": "stdout",
     "output_type": "stream",
     "text": [
      "----------------------------------------------------------------------------------------------------\n",
      "n_tokens: 623\n"
     ]
    },
    {
     "data": {
      "text/markdown": [
       "Oh, to die young and throbbing with life! 'Tis a destiny enviable\n",
       "indeed! For is not this, as a delightful poet has said, \"to take away\n",
       "with one all one's illusions, to be buried like an Eastern king, with\n",
       "all one's jewels and treasures, with all that makes the fortune of\n",
       "humanity!\""
      ],
      "text/plain": [
       "<IPython.core.display.Markdown object>"
      ]
     },
     "metadata": {},
     "output_type": "display_data"
    },
    {
     "data": {
      "text/markdown": [
       "How many thank-offerings ought we to make to the kind and beneficent\n",
       "spirit that breathes in all things here below! Indeed, the care which\n",
       "nature takes to strip us piece by piece of our raiment, to unclothe\n",
       "the soul by enfeebling gradually our hearing, sight, and sense of\n",
       "touch, in making slower the circulation of our blood, and congealing\n",
       "our humors so as to make us as insensible to the approach of death as\n",
       "we were to the beginnings of life, this maternal care which she\n",
       "lavishes on our frail tabernacle of clay, she also exhibits in regard\n",
       "to the emotions of man, and to the double existence which is created\n",
       "by conjugal love. She first sends us Confidence, which with extended\n",
       "hand and open heart says to us: \"Behold, I am thine forever!\"\n",
       "Lukewarmness follows, walking with languid tread, turning aside her\n",
       "blonde face with a yawn, like a young widow obliged to listen to the\n",
       "minister of state who is ready to sign for her a pension warrant. Then\n",
       "Indifference comes; she stretches herself on the divan, taking no care\n",
       "to draw down the skirts of her robe which Desire but now lifted so\n",
       "chastely and so eagerly. She casts a glance upon the nuptial bed, with\n",
       "modesty and without shamelessness; and, if she longs for anything, it\n",
       "is for the green fruit that calls up again to life the dulled papillae\n",
       "with which her blase palate is bestrewn. Finally the philosophical\n",
       "Experience of Life presents herself, with careworn and disdainful\n",
       "brow, pointing with her finger to the results, and not the causes of\n",
       "life's incidents; to the tranquil victory, not to the tempestuous\n",
       "combat. She reckons up the arrearages, with farmers, and calculates\n",
       "the dowry of a child. She materializes everything. By a touch of her\n",
       "wand, life becomes solid and springless; of yore, all was fluid, now\n",
       "it is crystallized into rock. Delight no longer exists for our hearts,\n",
       "it has received its sentence, 'twas but mere sensation, a passing\n",
       "paroxysm. What the soul desires to-day is a condition of fixity; and\n",
       "happiness alone is permanent, and consists in absolute tranquillity,\n",
       "in the regularity with which eating and sleeping succeed each other,\n",
       "and the sluggish organs perform their functions."
      ],
      "text/plain": [
       "<IPython.core.display.Markdown object>"
      ]
     },
     "metadata": {},
     "output_type": "display_data"
    },
    {
     "data": {
      "text/markdown": [
       "\"This is horrible!\" I cried; \"I am young and full of life! Perish all\n",
       "the books in the world rather than my illusions should perish!\""
      ],
      "text/plain": [
       "<IPython.core.display.Markdown object>"
      ]
     },
     "metadata": {},
     "output_type": "display_data"
    },
    {
     "data": {
      "text/markdown": [
       "**The Angel of Lonesome Hill; A Story of a President**"
      ],
      "text/plain": [
       "<IPython.core.display.Markdown object>"
      ]
     },
     "metadata": {},
     "output_type": "display_data"
    },
    {
     "data": {
      "text/markdown": [
       "**An Alphabetical Catalogue of New Works in General and Miscellaneous Literature, Published by Messrs. Longman, Brown, Green, and Longmans, Paternoster Row, London**"
      ],
      "text/plain": [
       "<IPython.core.display.Markdown object>"
      ]
     },
     "metadata": {},
     "output_type": "display_data"
    },
    {
     "data": {
      "text/markdown": [
       "**The religious and loyal subject's duty considered: with regard to the present Government and the Revolution: A sermon preached in the Cathedral Church of Canterbury, on Wednesday, January 30, 1722-3**"
      ],
      "text/plain": [
       "<IPython.core.display.Markdown object>"
      ]
     },
     "metadata": {},
     "output_type": "display_data"
    },
    {
     "data": {
      "text/markdown": [
       "**The Inner Life: Part 3 from The Works of John Greenleaf Whittier, Volume VII**"
      ],
      "text/plain": [
       "<IPython.core.display.Markdown object>"
      ]
     },
     "metadata": {},
     "output_type": "display_data"
    },
    {
     "name": "stdout",
     "output_type": "stream",
     "text": [
      "----------------------------------------------------------------------------------------------------\n",
      "n_tokens: 1480\n"
     ]
    },
    {
     "data": {
      "text/markdown": [
       "that indeed, out of their peculiar province, and apart from the routine\n",
       "of their vocation, they have become the most thorough sceptics and\n",
       "unbelievers among us.  Yet it must be owned that, if they have not the\n",
       "marvellous themselves, they are the cause of it in others.  In certain\n",
       "states of mind, the very sight of a clergyman in his sombre professional\n",
       "garb is sufficient to awaken all the wonderful within us.  Imagination\n",
       "goes wandering back to the subtle priesthood of mysterious Egypt.  We\n",
       "think of Jannes and Jambres; of the Persian magi; dim oak groves, with\n",
       "Druid altars, and priests, and victims, rise before us.  For what is the\n",
       "priest even of our New England but a living testimony to the truth of the\n",
       "supernatural and the reality of the unseen,--a man of mystery, walking in\n",
       "the shadow of the ideal world,--by profession an expounder of spiritual\n",
       "wonders?  Laugh he may at the old tales of astrology and witchcraft and\n",
       "demoniacal possession; but does he not believe and bear testimony to his\n",
       "faith in the reality of that dark essence which Scripture more than hints\n",
       "at, which has modified more or less all the religious systems and\n",
       "speculations of the heathen world,--the Ahriman of the Parsee, the Typhon\n",
       "of the Egyptian, the Pluto of the Roman mythology, the Devil of Jew,\n",
       "Christian, and Mussulman, the Machinito of the Indian,--evil in the\n",
       "universe of goodness, darkness in the light of divine intelligence,--in\n",
       "itself the great and crowning mystery from which by no unnatural process\n",
       "of imagination may be deduced everything which our forefathers believed\n",
       "of the spiritual world and supernatural agency?  That fearful being with\n",
       "his tributaries and agents,--\"the Devil and his angels,\"--how awfully he\n",
       "rises before us in the brief outline limning of the sacred writers!  How\n",
       "he glooms, \"in shape and gesture proudly eminent,\" on the immortal canvas\n",
       "of Milton and Dante!  What a note of horror does his name throw into the\n",
       "sweet Sabbath psalmody of our churches.  What strange, dark fancies are\n",
       "connected with the very language of common-law indictments, when grand\n",
       "juries find under oath that the offence complained of has been committed\n",
       "\"at the instigation of the Devil\"!"
      ],
      "text/plain": [
       "<IPython.core.display.Markdown object>"
      ]
     },
     "metadata": {},
     "output_type": "display_data"
    },
    {
     "data": {
      "text/markdown": [
       "How hardly effaced are the impressions of childhood!  Even at this day,\n",
       "at the mention of the evil angel, an image rises before me like that with\n",
       "which I used especially to horrify myself in an old copy of Pilgrim's\n",
       "Progress.  Horned, hoofed, scaly, and fire-breathing, his caudal\n",
       "extremity twisted tight with rage, I remember him, illustrating the\n",
       "tremendous encounter of Christian in the valley where \"Apollyon straddled\n",
       "over the whole breadth of the way.\"  There was another print of the enemy\n",
       "which made no slight impression upon me.  It was the frontispiece of an\n",
       "old, smoked, snuff-stained pamphlet, the property of an elderly lady,\n",
       "(who had a fine collection of similar wonders, wherewith she was kind\n",
       "enough to edify her young visitors,) containing a solemn account of the\n",
       "fate of a wicked dancing-party in New Jersey, whose irreverent\n",
       "declaration, that they would have a fiddler if they had to send to the\n",
       "lower regions after him, called up the fiend himself, who forthwith\n",
       "commenced playing, while the company danced to the music incessantly,\n",
       "without the power to suspend their exercise, until their feet and legs\n",
       "were worn off to the knees!  The rude wood-cut represented the demon\n",
       "fiddler and his agonized companions literally stumping it up and down in\n",
       "\"cotillons, jigs, strathspeys, and reels.\"  He would have answered very\n",
       "well to the description of the infernal piper in Tam O'Shanter."
      ],
      "text/plain": [
       "<IPython.core.display.Markdown object>"
      ]
     },
     "metadata": {},
     "output_type": "display_data"
    },
    {
     "data": {
      "text/markdown": [
       "To this popular notion of the impersonation of the principle of evil we\n",
       "are doubtless indebted for the whole dark legacy of witchcraft and\n",
       "possession.  Failing in our efforts to solve the problem of the origin of\n",
       "evil, we fall back upon the idea of a malignant being,--the antagonism of\n",
       "good.  Of this mysterious and dreadful personification we find ourselves\n",
       "constrained to speak with a degree of that awe and reverence which are\n",
       "always associated with undefined power and the ability to harm.  \"The\n",
       "Devil,\" says an old writer, \"is a dignity, though his glory be somewhat\n",
       "faded and wan, and is to be spoken of accordingly.\""
      ],
      "text/plain": [
       "<IPython.core.display.Markdown object>"
      ]
     },
     "metadata": {},
     "output_type": "display_data"
    },
    {
     "data": {
      "text/markdown": [
       "The evil principle of Zoroaster was from eternity self-created and\n",
       "existent, and some of the early Christian sects held the same opinion.\n",
       "The gospel, however, affords no countenance to this notion of a divided\n",
       "sovereignty of the universe.  The Divine Teacher, it is true, in\n",
       "discoursing of evil, made use of the language prevalent in His time, and\n",
       "which was adapted to the gross conceptions of His Jewish bearers; but He\n",
       "nowhere presents the embodiment of sin as an antagonism to the absolute\n",
       "power and perfect goodness of God, of whom, and through whom, and to whom\n",
       "are all things.  Pure himself, He can create nothing impure.  Evil,\n",
       "therefore, has no eternity in the past.  The fact of its present actual\n",
       "existence is indeed strongly stated; and it is not given us to understand\n",
       "the secret of that divine alchemy whereby pain, and sin, and discord\n",
       "become the means to beneficent ends worthy of the revealed attributes of\n",
       "the Infinite Parent.  Unsolved by human reason or philosophy, the dark\n",
       "mystery remains to baffle the generations of men; and only to the eye of\n",
       "humble and childlike faith can it ever be reconciled to the purity,\n",
       "justice, and mercy of Him who is \"light, and in whom is no darkness at\n",
       "all.\""
      ],
      "text/plain": [
       "<IPython.core.display.Markdown object>"
      ]
     },
     "metadata": {},
     "output_type": "display_data"
    },
    {
     "data": {
      "text/markdown": [
       "\"Do you not believe in the Devil?\" some one once asked the Non-conformist\n",
       "Robinson.  \"I believe in God,\" was the reply; \"don't you?\""
      ],
      "text/plain": [
       "<IPython.core.display.Markdown object>"
      ]
     },
     "metadata": {},
     "output_type": "display_data"
    },
    {
     "data": {
      "text/markdown": [
       "Henry of Nettesheim says \"that it is unanimously maintained that devils\n",
       "do wander up and down in the earth; but what they are, or how they are,\n",
       "ecclesiasticals have not clearly expounded.\"  Origen, in his Platonic\n",
       "speculations on this subject, supposed them to be spirits who, by\n",
       "repentance, might be restored, that in the end all knees might be bowed\n",
       "to the Father of spirits, and He become all in all.  Justin Martyr was of\n",
       "the opinion that many of them still hoped for their salvation; and the\n",
       "Cabalists held that this hope of theirs was well founded.  One is\n",
       "irresistibly reminded here of the closing verse of the _Address to the\n",
       "Deil_, by Burns:--"
      ],
      "text/plain": [
       "<IPython.core.display.Markdown object>"
      ]
     },
     "metadata": {},
     "output_type": "display_data"
    },
    {
     "data": {
      "text/markdown": [
       "**Weymouth New Testament in Modern Speech, Colossians**"
      ],
      "text/plain": [
       "<IPython.core.display.Markdown object>"
      ]
     },
     "metadata": {},
     "output_type": "display_data"
    },
    {
     "data": {
      "text/markdown": [
       "**Harper's Round Table, November 17, 1896**"
      ],
      "text/plain": [
       "<IPython.core.display.Markdown object>"
      ]
     },
     "metadata": {},
     "output_type": "display_data"
    },
    {
     "name": "stdout",
     "output_type": "stream",
     "text": [
      "----------------------------------------------------------------------------------------------------\n",
      "n_tokens: 790\n"
     ]
    },
    {
     "data": {
      "text/markdown": [
       "When the rout reached the middle of the glen the victors, who were\n",
       "slaying as they went, overtook the principal of the seminary, who with\n",
       "his students were showing every sign of terror. But the MacGregors took\n",
       "no heed of them. The principal hastened to the chief, and said to him,\n",
       "\"These youths are unarmed and in great fear. Now that you have won the\n",
       "day, I intrust them to your forbearance.\" There was a barn near the\n",
       "place where they stood, and the chief ordered them into the barn,\n",
       "putting over them as guard a man named Black Hugh of the Dhu-Leitir, who\n",
       "came from his own Glen Streatha. It is said that this man was not a\n",
       "MacGregor, but a MacCalister, who had gone from the district where his\n",
       "youth was spent to the MacGregor country, taking their name on account\n",
       "of some crime that he had committed."
      ],
      "text/plain": [
       "<IPython.core.display.Markdown object>"
      ]
     },
     "metadata": {},
     "output_type": "display_data"
    },
    {
     "data": {
      "text/markdown": [
       "He heard his chief now say to him, \"Hugh, here are thirty-seven youths.\n",
       "Stand at the door. I confide them to you. Take good care of them,\" and\n",
       "as he obeyed he saw his chief hurry on in the pursuit. Hugh began his\n",
       "sentry duty, and allowed none of the youths to leave the barn, believing\n",
       "that they should be treated as prisoners; but as the lads could speak no\n",
       "Gaelic, and Hugh no English, there was not much attempt at communication\n",
       "between them."
      ],
      "text/plain": [
       "<IPython.core.display.Markdown object>"
      ]
     },
     "metadata": {},
     "output_type": "display_data"
    },
    {
     "data": {
      "text/markdown": [
       "We will follow the pursuit from which Hugh was debarred by his duties as\n",
       "jailer. The MacGregors harassed the Colquhouns in their retreat\n",
       "persistently, sparing none whom they found with arms in their hands, and\n",
       "among these were many of the citizens of Dumbarton. Of the incidents of\n",
       "the pursuit, men remember that at Tigh-Na-Goaithe, or the House of the\n",
       "Winds, in the glen, one of the MacGregors took note of a gentleman among\n",
       "the Colquhouns who was on horseback. He rushed at the rider, who fled,\n",
       "yet the Highlander was so swift of foot that he kept up with the pace of\n",
       "the horse all the way between the place called the Hill of the Wind and\n",
       "the waterfall of the Finglass. The mounted officer missed a passage or\n",
       "ford which existed, and came to a place where it was difficult to cross\n",
       "the burn's ravine, called the \"churn.\" It was about twenty feet in\n",
       "depth, and there was a pool below, the chasm being about ten feet broad\n",
       "above and sixteen feet below. The horse took the leap, and bad as was\n",
       "the take off, carried his rider across in safety. The pursuer could not\n",
       "take the leap, but shot an arrow, which missed the rider, who coolly\n",
       "dismounted, picked up the arrow, and shot it back from his own bow,\n",
       "killing the man who had first shot it."
      ],
      "text/plain": [
       "<IPython.core.display.Markdown object>"
      ]
     },
     "metadata": {},
     "output_type": "display_data"
    },
    {
     "data": {
      "text/markdown": [
       "At the lower part of the glen Sir Humphrey's people scattered widely,\n",
       "each trying to save his own life. Some went the way of Luss, others fled\n",
       "towards the Leven. But MacGregor did not care to see his men disperse\n",
       "themselves so widely, and stopped the pursuit. He called them to him,\n",
       "and told them it was now best to return the road they had come. They\n",
       "obeyed him, and the march home was commenced. When they were ascending\n",
       "the upper part of Blar-Na-Chietein (or the Plain of April) the piper\n",
       "struck up, playing an extemporized tune, which was known afterwards as\n",
       "the \"Bout of Spoils on Colquhoun.\" They went along rejoicing, but they\n",
       "soon had cause for grief."
      ],
      "text/plain": [
       "<IPython.core.display.Markdown object>"
      ]
     },
     "metadata": {},
     "output_type": "display_data"
    },
    {
     "data": {
      "text/markdown": [
       "**A dramatization of Longfellow's Hiawatha: A spectacular drama in six acts**"
      ],
      "text/plain": [
       "<IPython.core.display.Markdown object>"
      ]
     },
     "metadata": {},
     "output_type": "display_data"
    },
    {
     "data": {
      "text/markdown": [
       "**Gerda in Sweden**"
      ],
      "text/plain": [
       "<IPython.core.display.Markdown object>"
      ]
     },
     "metadata": {},
     "output_type": "display_data"
    },
    {
     "data": {
      "text/markdown": [
       "**The American Missionary — Volume 32, No. 08, August, 1878**"
      ],
      "text/plain": [
       "<IPython.core.display.Markdown object>"
      ]
     },
     "metadata": {},
     "output_type": "display_data"
    },
    {
     "data": {
      "text/markdown": [
       "**The Mirror of Literature, Amusement, and Instruction. Volume 19, No. 540, March 31, 1832**"
      ],
      "text/plain": [
       "<IPython.core.display.Markdown object>"
      ]
     },
     "metadata": {},
     "output_type": "display_data"
    },
    {
     "name": "stdout",
     "output_type": "stream",
     "text": [
      "----------------------------------------------------------------------------------------------------\n",
      "n_tokens: 841\n"
     ]
    },
    {
     "data": {
      "text/markdown": [
       "The Cut in the adjoining column represents Bankside in 1648, from which it\n",
       "appears to have been then in part waste and unenclosed. \"It was land\n",
       "belonging to the crown, and on various parts of it stood the Globe Theatre,\n",
       "the Bear Garden, and other places of public show; here were also the Pike\n",
       "Gardens, some time called the Queen's Pike Gardens, with ponds for the\n",
       "preservation of fresh-water fish, which were said to be kept for the\n",
       "supply of the royal table, under the inspection of an officer, called the\n",
       "king's purveyor of pike, who had here a house for his residence.\"[1] On\n",
       "the Bankside, prior to the above date, were also the ancient Bordello, or\n",
       "Stews, which, according to Pennant, were distinguished by their respective\n",
       "signs painted against the walls, one of which, in particular, was the\n",
       "Cardinal's Hat; and a small court, now or till lately called _Cardinal's\n",
       "Hat Court_, still exists on the Bankside, and probably shows the precise\n",
       "site of the mansion of depravity. In like manner we find on Bankside,\n",
       "_Pike Garden_, _Globe Alley_, and in the vicinity a public-house with the\n",
       "sign of the _Globe_. On Bankside also stood an ancient Hall and Palace of\n",
       "the Bishops of Winchester, stated to have been built by William Gifford,\n",
       "Bishop of Winchester, about the year 1107, on a piece of ground belonging\n",
       "to the Prior of Bermondsey, to whom was paid a yearly acknowledgment. The\n",
       "great court, at one time belonging to this palace, is still known by the\n",
       "name of _Winchester Square_, and in the adjacent street was, some time\n",
       "since, an abutment of one of the gates. Near this Palace, on the south, at\n",
       "one time stood the Episcopal Palace of the Bishops of Rochester; which is\n",
       "supposed to have bequeathed its name to _Rochester Street_. The whole of\n",
       "the _Bank_ shown in the Cut is now densely populated, and scarcely a pole\n",
       "of green sward is left to denote its ancient state. On the opposite or\n",
       "Middlesex bank may be distinguished the celebrated Castle Baynard."
      ],
      "text/plain": [
       "<IPython.core.display.Markdown object>"
      ]
     },
     "metadata": {},
     "output_type": "display_data"
    },
    {
     "data": {
      "text/markdown": [
       "The second Cut represents the BULL and BEAR-BAITING THEATRES, as they\n",
       "appeared in their first state, A.D. 1560. This spot was called Paris\n",
       "Garden, and the two theatres are said to have been the first that were\n",
       "formed near London. In these, according to Stow, were scaffolds for the\n",
       "spectators to stand upon, an indulgence for which they paid in the\n",
       "following manner: \"Those who go to Paris Garden, the Bell Savage, or\n",
       "Theatre, to behold bear-baiting, enterludes, or fence-play, must not\n",
       "account of any pleasant spectacle unless they first pay one penny at the\n",
       "gate, another at the entrie of the scaffold, and a third for quiet\n",
       "standing.\" One Sunday afternoon, in the year 1582, the scaffold, being\n",
       "overcharged with spectators, fell down during the performance, and a great\n",
       "number of persons were killed or maimed by the accident, which the\n",
       "puritans of the time failed not to attribute to a Divine judgment. These\n",
       "theatres were patronized by royalty: for we read that Queen Elizabeth, on\n",
       "the 26th of May, 1599, went by water with the French ambassadors to Paris\n",
       "Garden, where they saw a baiting of bulls and bears. Indeed, Southwark\n",
       "seems to have long been of sporting notoriety, for, in the Humorous Lovers,\n",
       "printed in 1617, one of the characters says, \"I'll set up my bills, that\n",
       "the gamesters of London, Horsly-down, _Southwark_, and Newmarket, may come\n",
       "in and bait him (the bear,) here before the ladies, &c.\"[2]"
      ],
      "text/plain": [
       "<IPython.core.display.Markdown object>"
      ]
     },
     "metadata": {},
     "output_type": "display_data"
    },
    {
     "data": {
      "text/markdown": [
       "**The Rise of the Dutch Republic — Volume 08: 1563-64**"
      ],
      "text/plain": [
       "<IPython.core.display.Markdown object>"
      ]
     },
     "metadata": {},
     "output_type": "display_data"
    },
    {
     "name": "stdout",
     "output_type": "stream",
     "text": [
      "----------------------------------------------------------------------------------------------------\n",
      "n_tokens: 648\n"
     ]
    },
    {
     "data": {
      "text/markdown": [
       "Armenteros, after a month spent on his journey, arrived in Spain, and was\n",
       "soon admitted to an audience by Philip.  In his first interview, which\n",
       "lasted four hours, he read to the King all the statements and documents\n",
       "with which he had come provided, and humbly requested a prompt decision.\n",
       "Such a result was of course out of the question.  Moreover, the Cortes of\n",
       "Tarragon, which happened then to be in session, and which required the\n",
       "royal attention, supplied the monarch with a fresh excuse for indulging\n",
       "in his habitual vacillation.  Meantime, by way of obtaining additional\n",
       "counsel in so grave an emergency, he transmitted the letters of the\n",
       "nobles, together with the other papers, to the Duke of Alva, and\n",
       "requested his opinion on the subject.  Alva replied with the roar of a\n",
       "wild beast, \"Every time,\" he wrote, \"that I see the despatches of those\n",
       "three Flemish seigniors my rage is so much excited that if I did not use\n",
       "all possible efforts to restrain it, my sentiments would seem those of a\n",
       "madman.\"  After this splenitive exordium he proceeded to express the\n",
       "opinion that all the hatred and complaints against the Cardinal had\n",
       "arisen from his opposition to the convocation of the states-general.\n",
       "With regard to persons who had so richly deserved such chastisement, he\n",
       "recommended \"that their heads should be taken off; but, until this could\n",
       "be done, that the King should dissemble with them.\"  He advised Philip\n",
       "not to reply to their letters, but merely to intimate, through the\n",
       "Regent, that their reasons for the course proposed by them did not seem\n",
       "satisfactory.  He did not prescribe this treatment of the case as \"a true\n",
       "remedy, but only as a palliative; because for the moment only weak\n",
       "medicines could be employed, from which, however, but small effect could\n",
       "be anticipated.\"  As to recalling the Cardinal, \"as they had the\n",
       "impudence to propose to his Majesty,\" the Duke most decidedly advised\n",
       "against the step.  In the mean time, and before it should be practicable\n",
       "to proceed \"to that vigorous chastisement already indicated,\" he advised\n",
       "separating the nobles as much as possible by administering flattery and\n",
       "deceitful caresses to Egmont, who might be entrapped more easily than the\n",
       "others."
      ],
      "text/plain": [
       "<IPython.core.display.Markdown object>"
      ]
     },
     "metadata": {},
     "output_type": "display_data"
    },
    {
     "data": {
      "text/markdown": [
       "Here, at least, was a man who knew his own mind.  Here was a servant who\n",
       "could be relied upon to do his master's bidding whenever this master\n",
       "should require his help.  The vigorous explosion of wrath with which the\n",
       "Duke thus responded to the first symptoms of what he regarded as\n",
       "rebellion, gave a feeble intimation of the tone which he would assume\n",
       "when that movement should have reached a more advanced stage.  It might\n",
       "be guessed what kind of remedies he would one day prescribe in place of\n",
       "the \"mild medicines\" in which he so reluctantly acquiesced for the\n",
       "present."
      ],
      "text/plain": [
       "<IPython.core.display.Markdown object>"
      ]
     },
     "metadata": {},
     "output_type": "display_data"
    },
    {
     "data": {
      "text/markdown": [
       "**The World English Bible (WEB): Matthew**"
      ],
      "text/plain": [
       "<IPython.core.display.Markdown object>"
      ]
     },
     "metadata": {},
     "output_type": "display_data"
    },
    {
     "data": {
      "text/markdown": [
       "**The Boy Volunteers with the British Artillery**"
      ],
      "text/plain": [
       "<IPython.core.display.Markdown object>"
      ]
     },
     "metadata": {},
     "output_type": "display_data"
    },
    {
     "data": {
      "text/markdown": [
       "**Barbara Blomberg — Volume 08**"
      ],
      "text/plain": [
       "<IPython.core.display.Markdown object>"
      ]
     },
     "metadata": {},
     "output_type": "display_data"
    },
    {
     "data": {
      "text/markdown": [
       "**The Rise of the Dutch Republic — Volume 11: 1566, part II**"
      ],
      "text/plain": [
       "<IPython.core.display.Markdown object>"
      ]
     },
     "metadata": {},
     "output_type": "display_data"
    },
    {
     "name": "stdout",
     "output_type": "stream",
     "text": [
      "----------------------------------------------------------------------------------------------------\n",
      "n_tokens: 829\n"
     ]
    },
    {
     "data": {
      "text/markdown": [
       "With regard to the concessions, which he supposed himself to have made in\n",
       "the matter of the inquisition and the edicts, he saved his conscience by\n",
       "another process.  Revoking with his right hand all which his left had\n",
       "been doing, he had no sooner despatched his letters to the Duchess Regent\n",
       "than he sent off another to his envoy at Rome.  In this despatch he\n",
       "instructed Requesens to inform the Pope as to the recent royal decisions\n",
       "upon the three points, and to state that there had not been time to\n",
       "consult his Holiness beforehand.  Nevertheless, continued Philip \"the\n",
       "prudent,\" it was perhaps better thus, since the abolition could have no\n",
       "force, unless the Pope, by whom the institution had been established,\n",
       "consented to its suspension.  This matter, however, was to be kept a\n",
       "profound secret.  So much for the inquisition matter.  The papal\n",
       "institution, notwithstanding the official letters, was to exist, unless\n",
       "the Pope chose to destroy it; and his Holiness, as we have seen, had sent\n",
       "the Archbishop of Sorrento, a few weeks before, to Brussels, for the\n",
       "purpose of concerting secret measures for strengthening the \"Holy Office\"\n",
       "in the provinces."
      ],
      "text/plain": [
       "<IPython.core.display.Markdown object>"
      ]
     },
     "metadata": {},
     "output_type": "display_data"
    },
    {
     "data": {
      "text/markdown": [
       "With regard to the proposed moderation of the edicts, Philip informed\n",
       "Pius the Fifth, through Requesens, that the project sent by the Duchess\n",
       "not having been approved, orders had been transmitted for a new draft,\n",
       "in which all the articles providing for the severe punishment of heretics\n",
       "were to be retained, while alterations, to be agreed upon by the state\n",
       "and privy councils, and the knights of the Fleece, were to be adopted--\n",
       "certainly in no sense of clemency.  On the contrary, the King assured his\n",
       "Holiness, that if the severity of chastisement should be mitigated the\n",
       "least in the world by the new articles, they would in no case receive the\n",
       "royal approbation.  Philip further implored the Pope \"not to be\n",
       "scandalized\" with regard to the proposed pardon, as it would be by no\n",
       "means extended to offenders against religion.  All this was to be kept\n",
       "entirely secret.  The King added, that rather than permit the least\n",
       "prejudice to the ancient religion, he would sacrifice all his states, and\n",
       "lose a hundred lives if he had so many; for he would never consent to be\n",
       "the sovereign of heretics.  He said he would arrange the troubles of the\n",
       "Netherlands, without violence, if possible, because forcible measures\n",
       "would cause the entire destruction of the country.  Nevertheless they\n",
       "should be employed, if his purpose could be accomplished in no other way.\n",
       "In that case the King would himself be the executor of his own design,\n",
       "without allowing the peril which he should incur, nor the ruin of the\n",
       "provinces, nor that of his other realms, to prevent him from doing all\n",
       "which a Christian prince was bound to do, to maintain the Catholic\n",
       "religion and the authority of the Holy See, as well as to testify his\n",
       "personal regard for the reigning pontiff, whom he so much loved and\n",
       "esteemed."
      ],
      "text/plain": [
       "<IPython.core.display.Markdown object>"
      ]
     },
     "metadata": {},
     "output_type": "display_data"
    },
    {
     "data": {
      "text/markdown": [
       "Here was plain speaking.  Here were all the coming horrors distinctly\n",
       "foreshadowed.  Here was the truth told to the only being with whom Philip\n",
       "ever was sincere.  Yet even on this occasion, he permitted himself a\n",
       "falsehood by which his Holiness was not deceived.  Philip had no\n",
       "intention of going to the Netherlands in person, and the Pope knew that\n",
       "he had none.  \"I feel it in my bones,\" said Granvelle, mournfully, \"that\n",
       "nobody in Rome believes in his Majesty's journey to the provinces.\"  From\n",
       "that time forward, however, the King began to promise this visit, which\n",
       "was held out as a panacea for every ill, and made to serve as an excuse\n",
       "for constant delay."
      ],
      "text/plain": [
       "<IPython.core.display.Markdown object>"
      ]
     },
     "metadata": {},
     "output_type": "display_data"
    },
    {
     "data": {
      "text/markdown": [
       "**Eugene Aram — Volume 03**"
      ],
      "text/plain": [
       "<IPython.core.display.Markdown object>"
      ]
     },
     "metadata": {},
     "output_type": "display_data"
    },
    {
     "name": "stdout",
     "output_type": "stream",
     "text": [
      "----------------------------------------------------------------------------------------------------\n",
      "n_tokens: 539\n"
     ]
    },
    {
     "data": {
      "text/markdown": [
       "\"Look you, Houseman,\" continued Aram drawing his comrade from the path\n",
       "into a wilder part of the scene, and, as he spoke, his words were couched\n",
       "in a more low and inward voice than heretofore. \"Look you, I cannot live\n",
       "and have my life darkened thus by your presence. Is not the world wide\n",
       "enough for us both? Why haunt each other? what have you to gain from me?\n",
       "Can the thoughts that my sight recalls to you be brighter, or more\n",
       "peaceful, than those which start upon me, when I gaze on you? Does not a\n",
       "ghastly air, a charnel breath, hover about us both? Why perversely incur\n",
       "a torture it is so easy to avoid? Leave me--leave these scenes. All earth\n",
       "spreads before you--choose your pursuits, and your resting place\n",
       "elsewhere, but grudge me not this little spot.\""
      ],
      "text/plain": [
       "<IPython.core.display.Markdown object>"
      ]
     },
     "metadata": {},
     "output_type": "display_data"
    },
    {
     "data": {
      "text/markdown": [
       "\"I have no wish to disturb you, Eugene Aram, but I must live; and in\n",
       "order to live I must obey my companions; if I deserted them, it would be\n",
       "to starve. They will not linger long in this district; a week, it may be;\n",
       "a fortnight, at most; then, like the Indian animal, they will strip the\n",
       "leaves, and desert the tree. In a word, after we have swept the country,\n",
       "we are gone.\""
      ],
      "text/plain": [
       "<IPython.core.display.Markdown object>"
      ]
     },
     "metadata": {},
     "output_type": "display_data"
    },
    {
     "data": {
      "text/markdown": [
       "\"Houseman, Houseman!\" said Aram passionately, and frowning till his brows\n",
       "almost hid his eyes, but that part of the orb which they did not hide,\n",
       "seemed as living fire; \"I now implore, but I can threaten--beware!--\n",
       "silence, I say;\" (and he stamped his foot violently on the ground, as he\n",
       "saw Houseman about to interrupt him;) \"listen to me throughout--Speak not\n",
       "to me of tarrying here--speak not of days, of weeks--every hour of which\n",
       "would sound upon my ear like a death-knell. Dream not of a sojourn in\n",
       "these tranquil shades, upon an errand of dread and violence--the minions\n",
       "of the law aroused against you, girt with the chances of apprehension and\n",
       "a shameful death--\" \"And a full confession of my past sins,\" interrupted\n",
       "Houseman, laughing wildly."
      ],
      "text/plain": [
       "<IPython.core.display.Markdown object>"
      ]
     },
     "metadata": {},
     "output_type": "display_data"
    },
    {
     "data": {
      "text/markdown": [
       "\"Fiend! devil!\" cried Aram, grasping his comrade by the throat, and\n",
       "shaking him with a vehemence that Houseman, though a man of great\n",
       "strength and sinew, impotently attempted to resist."
      ],
      "text/plain": [
       "<IPython.core.display.Markdown object>"
      ]
     },
     "metadata": {},
     "output_type": "display_data"
    },
    {
     "data": {
      "text/markdown": [
       "**Pelham — Volume 04**"
      ],
      "text/plain": [
       "<IPython.core.display.Markdown object>"
      ]
     },
     "metadata": {},
     "output_type": "display_data"
    },
    {
     "name": "stdout",
     "output_type": "stream",
     "text": [
      "----------------------------------------------------------------------------------------------------\n",
      "n_tokens: 640\n"
     ]
    },
    {
     "data": {
      "text/markdown": [
       "This interest he was the first to laugh at, and to disappoint. He shrunk\n",
       "from all admiration, and from all sympathy. At the moment when a crowd\n",
       "assembled round him, and every ear was bent to catch the words, which\n",
       "came alike from so beautiful a lip, and so strange and imaginative a\n",
       "mind, it was his pleasure to utter some sentiment totally different from\n",
       "his written opinion, and utterly destructive of the sensation he had\n",
       "excited. But it was very rarely that he exposed himself to these \"trials\n",
       "of an author.\" He went out little to any other house but Lady\n",
       "Roseville's, and it was seldom more than once a week that he was seen\n",
       "even there. Lonely, and singular in mind and habits, he lived in the\n",
       "world like a person occupied by a separate object, and possessed of a\n",
       "separate existence, from that of his fellow-beings. He was luxurious and\n",
       "splendid, beyond all men, in his habits, rather than his tastes. His\n",
       "table groaned beneath a weight of gold, too costly for the daily service\n",
       "even of a prince; but he had no pleasure in surveying it. His wines and\n",
       "viands were of the most exquisite description; but he scarcely tasted\n",
       "them. Yet, what may seem inconsistent, he was averse to all ostentation\n",
       "and show in the eyes of others. He admitted very few into his society--no\n",
       "one so intimately as myself. I never once saw more than three persons at\n",
       "his table. He seemed, in his taste for furniture, in his love of\n",
       "literature, and his pursuit after fame, to be, as he himself said,\n",
       "eternally endeavouring to forget and eternally brought back to\n",
       "remembrance."
      ],
      "text/plain": [
       "<IPython.core.display.Markdown object>"
      ]
     },
     "metadata": {},
     "output_type": "display_data"
    },
    {
     "data": {
      "text/markdown": [
       "\"I pity that man even more than I admire him,\" said Vincent to me, one\n",
       "night when we were walking home from Glanville's house. \"His is, indeed,\n",
       "the disease nulla medicabilis herba. Whether it is the past or the\n",
       "present that afflicts him--whether it is the memory of past evil, or the\n",
       "satiety of present good, he has taken to his heart the bitterest\n",
       "philosophy of life. He does not reject its blessings--he gathers them\n",
       "around him, but as a stone gathers moss--cold, hard, unsoftened by the\n",
       "freshness and the greenness which surround it. As a circle can only touch\n",
       "a circle in one place, every thing that life presents to him, wherever it\n",
       "comes from--to whatever portion of his soul it is applied--can find but\n",
       "one point of contact; and that is the soreness of affliction: whether it\n",
       "is the oblivio or the otium that he requires, he finds equally that he is\n",
       "for ever in want of one treasure:--'neque gemmis neque purpura venale nec\n",
       "auro.'\""
      ],
      "text/plain": [
       "<IPython.core.display.Markdown object>"
      ]
     },
     "metadata": {},
     "output_type": "display_data"
    },
    {
     "data": {
      "text/markdown": [
       "           Mons. Jourdain.  Etes-vous fou de l'aller quereller' lui qui\n",
       "           entend la tierce et la quarte, et qui sait tuer un homme par\n",
       "           raison demonstrative?"
      ],
      "text/plain": [
       "<IPython.core.display.Markdown object>"
      ]
     },
     "metadata": {},
     "output_type": "display_data"
    },
    {
     "data": {
      "text/markdown": [
       "**The Cholera: the claims of the poor upon the rich**"
      ],
      "text/plain": [
       "<IPython.core.display.Markdown object>"
      ]
     },
     "metadata": {},
     "output_type": "display_data"
    },
    {
     "data": {
      "text/markdown": [
       "**The Sportsman's Club Afloat**"
      ],
      "text/plain": [
       "<IPython.core.display.Markdown object>"
      ]
     },
     "metadata": {},
     "output_type": "display_data"
    },
    {
     "data": {
      "text/markdown": [
       "**Sandra Belloni — Volume 6**"
      ],
      "text/plain": [
       "<IPython.core.display.Markdown object>"
      ]
     },
     "metadata": {},
     "output_type": "display_data"
    },
    {
     "name": "stdout",
     "output_type": "stream",
     "text": [
      "----------------------------------------------------------------------------------------------------\n",
      "n_tokens: 776\n"
     ]
    },
    {
     "data": {
      "text/markdown": [
       "The fog had thickened.  Up and down the groping city went muffled men,\n",
       "few women.  Emilia looked for one of her sex who might have a tender\n",
       "face.  Desire to be kissed and loved by a creature strange to her, and to\n",
       "lay her head upon a woman's bosom, moved her to gaze around with a\n",
       "longing once or twice; but no eyes met hers, and the fancy recurred\n",
       "vividly that she was not in the world she had known.  Otherwise, what had\n",
       "robbed her of her voice?  She played with her fancy for comfort, long\n",
       "after any real vitality in it had oozed out.  Her having strength to play\n",
       "at fancies showed that a spark of hope was alive.  In truth, firm of\n",
       "flesh as she was, to believe that all worth had departed from her was\n",
       "impossible, and when she reposed simply on her sensations, very little\n",
       "trouble beset her: only when she looked abroad did the aspect of numerous\n",
       "indifferent faces, and the harsh flowing of the world its own way, tell\n",
       "her she had lost her power.  Could it be lost?  The prospect of her\n",
       "desolation grew so wide to her that she shut her eyes, abandoning herself\n",
       "to feeling; and this by degrees moved her to turn back and throw herself\n",
       "at the feet of Mr. Pericles.  For, if he said, \"Wait, my child, and all\n",
       "will come round well,\" she was prepared blindly to think so.  The\n",
       "projection of the words in her mind made her ready to weep: but as she\n",
       "neared the house of his office the wish to hear him speak that, became\n",
       "passionate; she counted all that depended on it, and discovered the size\n",
       "of the fabric she had built on so thin a plank.  After a while, her steps\n",
       "were mechanically swift.  Before she reached the chambers of Mr. Pericles\n",
       "she had walked, she knew not why, once round the little quiet enclosed\n",
       "city-garden, and a cold memory of those men who had looked at her face\n",
       "gave her some wonder, to be quickly kindled into fuller comprehension."
      ],
      "text/plain": [
       "<IPython.core.display.Markdown object>"
      ]
     },
     "metadata": {},
     "output_type": "display_data"
    },
    {
     "data": {
      "text/markdown": [
       "Beholding Emilia once more, Mr. Pericles enjoyed a revival of his taste\n",
       "for vengeance; but, unhappily for her, he found it languid, and when he\n",
       "had rubbed his hands, stared, and by sundry sharp utterances brought her\n",
       "to his feet, his satisfaction was less poignant than he had expected.  As\n",
       "a consequence, instead of speaking outrageously, according to his habit,\n",
       "in wrath, he was now frigidly considerate, informing Emilia that it would\n",
       "be good for her if she were dead, seeing that she was of no use whatever;\n",
       "but, as she was alive, she had better go to her father and mother, and\n",
       "learn knitting, or some such industrial employment.  \"Unless zat man for\n",
       "whom you play fool!--\"  Mr. Pericles shrugged the rest of his meaning."
      ],
      "text/plain": [
       "<IPython.core.display.Markdown object>"
      ]
     },
     "metadata": {},
     "output_type": "display_data"
    },
    {
     "data": {
      "text/markdown": [
       "\"But my voice may not be gone,\" urged Emilia.  \"I may sing to you to-\n",
       "morrow--this evening.  It must be the fog.  Why do you think it lost?  It\n",
       "can't be--\""
      ],
      "text/plain": [
       "<IPython.core.display.Markdown object>"
      ]
     },
     "metadata": {},
     "output_type": "display_data"
    },
    {
     "data": {
      "text/markdown": [
       "\"Cracked!\" cried Mr. Pericles."
      ],
      "text/plain": [
       "<IPython.core.display.Markdown object>"
      ]
     },
     "metadata": {},
     "output_type": "display_data"
    },
    {
     "data": {
      "text/markdown": [
       "\"It is not!  No; do not think it.  I may stay here.  Don't tell me to go\n",
       "yet.  The streets make me wish to die.  And I feel I may, perhaps, sing\n",
       "presently.  Wait.  Will you wait?\""
      ],
      "text/plain": [
       "<IPython.core.display.Markdown object>"
      ]
     },
     "metadata": {},
     "output_type": "display_data"
    },
    {
     "data": {
      "text/markdown": [
       "A hideous imitation of her lamentable tones burst from Mr. Pericles.\n",
       "\"Cracked!\" he cried again."
      ],
      "text/plain": [
       "<IPython.core.display.Markdown object>"
      ]
     },
     "metadata": {},
     "output_type": "display_data"
    },
    {
     "data": {
      "text/markdown": [
       "**Substance of a Sermon on the Bible Society: preached at Beccles, October 29th, and at St. Mary's Church Bungay, on Friday, Dec. 1st, 1815**"
      ],
      "text/plain": [
       "<IPython.core.display.Markdown object>"
      ]
     },
     "metadata": {},
     "output_type": "display_data"
    },
    {
     "data": {
      "text/markdown": [
       "**The Parisians — Volume 04**"
      ],
      "text/plain": [
       "<IPython.core.display.Markdown object>"
      ]
     },
     "metadata": {},
     "output_type": "display_data"
    },
    {
     "name": "stdout",
     "output_type": "stream",
     "text": [
      "----------------------------------------------------------------------------------------------------\n",
      "n_tokens: 1144\n"
     ]
    },
    {
     "data": {
      "text/markdown": [
       "I wonder if hostile criticism pains or enrages you as it seems to do such\n",
       "other authors as I have known.  M. Savarin, for instance, sets down in\n",
       "his tablets as an enemy to whom vengeance is due the smallest scribbler\n",
       "who wounds his self-love, and says frankly, \"To me praise is food,\n",
       "dispraise is poison.  Him who feeds me I pay; him who poisons me I break\n",
       "on the wheel.\"  M. Savarin is, indeed, a skilful and energetic\n",
       "administrator to his own reputation.  He deals with it as if it were a\n",
       "kingdom,--establishes fortifications for its defence, enlists soldiers to\n",
       "fight for it.  He is the soul and centre of a confederation in which each\n",
       "is bound to defend the territory of the others, and all those territories\n",
       "united constitute the imperial realm of M. Savarin.  Don't think me an\n",
       "ungracious satirist in what I am thus saying of our brilliant friend.  It\n",
       "is not I who here speak; it is himself.  He avows his policy with the\n",
       "_naivete_ which makes the charm of his style as writer.  \"It is the\n",
       "greatest mistake,\" he said to me yesterday, \"to talk of the Republic of\n",
       "Letters.  Every author who wins a name is a sovereign in his own domain,\n",
       "be it large or small.  Woe to any republican who wants to dethrone me!\"\n",
       "Somehow or other, when M. Savarin thus talks I feel as if he were\n",
       "betraying the cause of, genius.  I cannot bring myself to regard\n",
       "literature as a craft,--to me it is a sacred mission; and in hearing this\n",
       "\"sovereign\" boast of the tricks by which he maintains his state, I seem\n",
       "to listen to a priest who treats as imposture the religion he professes\n",
       "to teach.  M. Savarin's favourite _eleve_ now is a young contributor to\n",
       "his journal, named Gustave Rameau.  M. Savarin said the other day in my\n",
       "hearing, \"I and my set were Young France; Gustave Rameau and his set are\n",
       "New Paris.\""
      ],
      "text/plain": [
       "<IPython.core.display.Markdown object>"
      ]
     },
     "metadata": {},
     "output_type": "display_data"
    },
    {
     "data": {
      "text/markdown": [
       "\"And what is the distinction between the one and the other?\" asked my\n",
       "American friend, Mrs. Morley."
      ],
      "text/plain": [
       "<IPython.core.display.Markdown object>"
      ]
     },
     "metadata": {},
     "output_type": "display_data"
    },
    {
     "data": {
      "text/markdown": [
       "\"The set of 'Young France,'\" answered M. Savarin, \"had in it the hearty\n",
       "consciousness of youth; it was bold and vehement, with abundant vitality\n",
       "and animal spirits; whatever may be said against it in other respects,\n",
       "the power of thews and sinews must be conceded to its chief\n",
       "representatives.  But the set of 'New Paris' has very bad health, and\n",
       "very indifferent spirits.  Still, in its way, it is very clever; it can\n",
       "sting and bite as keenly as if it were big and strong.  Rameau is the\n",
       "most promising member of the set.  He will be popular in his time,\n",
       "because he represents a good deal of the mind of his time,--namely, the\n",
       "mind and the time of 'New Paris.'\""
      ],
      "text/plain": [
       "<IPython.core.display.Markdown object>"
      ]
     },
     "metadata": {},
     "output_type": "display_data"
    },
    {
     "data": {
      "text/markdown": [
       "Do you know anything of this young Rameau's writings?  You do not know\n",
       "himself, for he told me so, expressing a desire, that was evidently very\n",
       "sincere, to find some occasion on which to render you his homage.  He\n",
       "said this the first time I met him at M. Savarin's, and before he knew\n",
       "how dear to me are yourself and your fame.  He came and sat by me after\n",
       "dinner, and won my interest at once by asking me if I had heard that you\n",
       "were busied on a new work; and then, without waiting for my answer, he\n",
       "launched forth into praises of you, which made a notable contrast to the\n",
       "scorn with which he spoke of all your contemporaries,--except indeed M.\n",
       "Savarin, who, however, might not have been pleased to hear his favourite\n",
       "pupil style him \"a great writer in small things.\"  I spare you his\n",
       "epigrams on Dumas and Victor Hugo and my beloved Lamartine.  Though his\n",
       "talk was showy, and dazzled me at first, I soon got rather tired of it,\n",
       "even the first time we met.  Since then I have seen him very often, not\n",
       "only at M. Savarin's, but he calls here at least every other day, and we\n",
       "have become quite good friends.  He gains on acquaintance so far that one\n",
       "cannot help feeling how much he is to be pitied.  He is so envious! and\n",
       "the envious must be so unhappy.  And then he is at once so near and so\n",
       "far from all the things that he envies.  He longs for riches and luxury,\n",
       "and can only as yet earn a bare competence by his labours.  Therefore he\n",
       "hates the rich and luxurious.  His literary successes, instead of\n",
       "pleasing him, render him miserable by their contrast with the fame of the\n",
       "authors whom he envies and assails.  He has a beautiful head, of which he\n",
       "is conscious, but it is joined to a body without strength or grace.  He\n",
       "is conscious of this too,--but it is cruel to go on with this sketch.\n",
       "You can see at once the kind of person who, whether he inspire affection\n",
       "or dislike, cannot fail to create an interest, painful but compassionate."
      ],
      "text/plain": [
       "<IPython.core.display.Markdown object>"
      ]
     },
     "metadata": {},
     "output_type": "display_data"
    },
    {
     "data": {
      "text/markdown": [
       "**The Bride of the Nile — Volume 04**"
      ],
      "text/plain": [
       "<IPython.core.display.Markdown object>"
      ]
     },
     "metadata": {},
     "output_type": "display_data"
    },
    {
     "name": "stdout",
     "output_type": "stream",
     "text": [
      "----------------------------------------------------------------------------------------------------\n",
      "n_tokens: 849\n"
     ]
    },
    {
     "data": {
      "text/markdown": [
       "\"Even in his delirium he did hot once scratch or bite, but only defended\n",
       "himself like a man.--Thank you, now, for your assistance.  If you had not\n",
       "flung the cord round his hands, the game might have ended very\n",
       "differently.\""
      ],
      "text/plain": [
       "<IPython.core.display.Markdown object>"
      ]
     },
     "metadata": {},
     "output_type": "display_data"
    },
    {
     "data": {
      "text/markdown": [
       "\"Surely not!\"  exclaimed Paula decidedly.  \"How strong you are, Philip.\n",
       "I feel quite alarmed!\""
      ],
      "text/plain": [
       "<IPython.core.display.Markdown object>"
      ]
     },
     "metadata": {},
     "output_type": "display_data"
    },
    {
     "data": {
      "text/markdown": [
       "\"You?\"  said the leech laughing.  \"On the contrary, you need never be\n",
       "alarmed again now that you have seen by chance that your champion is no\n",
       "weakling.--Pfooh!  I shall be glad now of a little rest.\"  She offered\n",
       "him her handkerchief, and while he thankfully used it to wipe his brow--\n",
       "controlling with much difficulty the impulse to press it to his lips, he\n",
       "added lightly:"
      ],
      "text/plain": [
       "<IPython.core.display.Markdown object>"
      ]
     },
     "metadata": {},
     "output_type": "display_data"
    },
    {
     "data": {
      "text/markdown": [
       "\"With such an assistant everything must go well.  There is no merit in\n",
       "being strong; every one can be strong who comes into the world with\n",
       "healthy blood and well-knit bones, who keeps all his limbs well\n",
       "exercised, as I did in my youth, and who does not destroy his inheritance\n",
       "by dissipated living.--However, I still feel the struggle in my hands;\n",
       "but there is some good wine in the next room yet, and two or three cups\n",
       "of it will do me good.\"  They went together into the adjoining room\n",
       "where, by this time, most of the lamps were extinguished.  Paula poured\n",
       "out the wine, touched the goblet with her lips, and he emptied it at a\n",
       "draught; but he was not to be allowed to drink off a second, for he had\n",
       "scarcely raised it, when they heard voices in the Masdakite's room, and\n",
       "Neforis came in.  The governor's careful wife had not quitted her\n",
       "husband's couch--even Rustem's storming had not induced her to leave\n",
       "her post; but when she was informed by the slaves what had been going on,\n",
       "and that Paula was still up-stairs with the leech, she had come to the\n",
       "strangers' rooms as soon as her husband could spare her to speak to\n",
       "Philippus, to represent to Paula what the proprieties required, and to\n",
       "find out what the strange noises could be which still seemed to fill the\n",
       "house--at this hour usually as silent as the grave.  They proceeded from\n",
       "the sick-rooms, but also from Orion, who had just come in, and from Nilus\n",
       "the treasurer, who had been called by the former into his room, though\n",
       "the night was fast drawing on to morning.  To the governor's wife\n",
       "everything seemed ominous at the close of this terrible day, marked in\n",
       "the calendar as unlucky; so she made her way up-stairs, escorted by her\n",
       "husband's night watcher, and holding in her hand a small reliquary to\n",
       "which she ascribed the power of banning vile spirits."
      ],
      "text/plain": [
       "<IPython.core.display.Markdown object>"
      ]
     },
     "metadata": {},
     "output_type": "display_data"
    },
    {
     "data": {
      "text/markdown": [
       "She came into the sick-room swiftly and noiselessly, put the nun through\n",
       "a strict cross-examination with the fretful sharpness of a person\n",
       "disturbed in her night's rest.  Then she went into the sitting-room where\n",
       "Philippus was on the point of pledging Paula in his second cup of wine,\n",
       "while she stood before him with dishevelled hair and robe ungirt.  All\n",
       "this was an offence against good manners such as she would not suffer in\n",
       "her house, and she stoutly ordered her husband's niece to go to bed.\n",
       "After all the offences that had been pardoned her this day--no,\n",
       "yesterday--she exclaimed, it would have been more becoming in the girl\n",
       "to examine herself in silence, in her own room, to exorcise the lying\n",
       "spirits which had her in their power, and implore her Saviour for\n",
       "forgiveness, than to pretend to be nursing the sick while she was\n",
       "carrying on, with a young man, an orgy which, as the Sister had just told\n",
       "her, had lasted since mid-day."
      ],
      "text/plain": [
       "<IPython.core.display.Markdown object>"
      ]
     },
     "metadata": {},
     "output_type": "display_data"
    },
    {
     "data": {
      "text/markdown": [
       "**Little Mother Goose**"
      ],
      "text/plain": [
       "<IPython.core.display.Markdown object>"
      ]
     },
     "metadata": {},
     "output_type": "display_data"
    },
    {
     "data": {
      "text/markdown": [
       "**The Year Nine: A Tale of the Tyrol**"
      ],
      "text/plain": [
       "<IPython.core.display.Markdown object>"
      ]
     },
     "metadata": {},
     "output_type": "display_data"
    },
    {
     "name": "stdout",
     "output_type": "stream",
     "text": [
      "----------------------------------------------------------------------------------------------------\n",
      "n_tokens: 504\n"
     ]
    },
    {
     "data": {
      "text/markdown": [
       "\"There's no saying, brother; I should hope he does. There seems to me\n",
       "to be little praying in camps. Men touch their hats as they pass a\n",
       "picture or a crucifix--that is pretty nearly all; outwardly, at least,\n",
       "which is all we can judge from. But sure I am, that those who prayed\n",
       "often--from the heart, look you,--would not take God's holy name in\n",
       "vain.\""
      ],
      "text/plain": [
       "<IPython.core.display.Markdown object>"
      ]
     },
     "metadata": {},
     "output_type": "display_data"
    },
    {
     "data": {
      "text/markdown": [
       "\"How the French curse and swear, Hofer! and yet they say, many of them,\n",
       "there's no God. They laugh at us for praying for success, because they\n",
       "say they have it without.\""
      ],
      "text/plain": [
       "<IPython.core.display.Markdown object>"
      ]
     },
     "metadata": {},
     "output_type": "display_data"
    },
    {
     "data": {
      "text/markdown": [
       "\"Pity, brother, they have not something better to laugh about. Ah,\n",
       "God _does_ give his foes success sometimes, and deprive his children\n",
       "of it; but not because He does not hear and answer prayer. He never\n",
       "permits their success, and our defeat, save for our good. Why now,\n",
       "has He not said He will try us seven times in the fire? First, may\n",
       "be, He tests our courage; well, we prove to have it: then our love;\n",
       "well, we have some, though it were to be wished we had more. Then, our\n",
       "faith; very little is found. Into the fire we must go. By and by, our\n",
       "unfaithfulness is somewhat purged away. Well, but then, may be, he\n",
       "tries our submission; finds it very poor. Into the fire with us! After\n",
       "that, our patience. Oh, perhaps a great, thick scum boils up to the top\n",
       "of the pot, and shows how far from perfection we are yet. Instead of\n",
       "setting us aside to cool, he stirs up the fire hotter and hotter, never\n",
       "minding our boiling and bubbling, so long as we don't boil over. Well,\n",
       "supposing fused metal had the feelings of a man, just fancy its state!\n",
       "At last the scum parts! the pure, bright silver appears!--he stoops\n",
       "over it, sees in it _his own face_,--takes us to heaven!\""
      ],
      "text/plain": [
       "<IPython.core.display.Markdown object>"
      ]
     },
     "metadata": {},
     "output_type": "display_data"
    },
    {
     "data": {
      "text/markdown": [
       "\"Oh me! I don't believe I could stand all that!\" cried Speckbacher,\n",
       "turning pale. \"You might, but I couldn't!\""
      ],
      "text/plain": [
       "<IPython.core.display.Markdown object>"
      ]
     },
     "metadata": {},
     "output_type": "display_data"
    },
    {
     "data": {
      "text/markdown": [
       "\"God only knows our hearts,\" replied the Sandwirth. \"You and I may lie\n",
       "stark and stiff before another night; but what then? we shall be with\n",
       "Him.\""
      ],
      "text/plain": [
       "<IPython.core.display.Markdown object>"
      ]
     },
     "metadata": {},
     "output_type": "display_data"
    },
    {
     "data": {
      "text/markdown": [
       "**Cumner's Son and Other South Sea Folk — Volume 05**"
      ],
      "text/plain": [
       "<IPython.core.display.Markdown object>"
      ]
     },
     "metadata": {},
     "output_type": "display_data"
    },
    {
     "name": "stdout",
     "output_type": "stream",
     "text": [
      "----------------------------------------------------------------------------------------------------\n",
      "n_tokens: 531\n"
     ]
    },
    {
     "data": {
      "text/markdown": [
       "It proved to be where he thought, and, having engaged rooms, sent for his\n",
       "luggage, and refreshed himself, he set out to explore the town.  His\n",
       "prudent mind told him that he ought to proceed at once to Governor Rapont\n",
       "and present his letters of commendation, for he was in a country where\n",
       "feeling was running high against English interference with the\n",
       "deportation of French convicts to New Caledonia, and the intention of\n",
       "France to annex the New Hebrides.  But he knew also that so soon as these\n",
       "letters were presented, his freedom of action would be restricted, either\n",
       "by a courtesy which would be so constant as to become surveillance, or by\n",
       "an injunction having no such gloss.  He had come to study French\n",
       "government in New Caledonia, to gauge the extent of the menace that\n",
       "the convict question bore towards Australia, and to tell his tale to\n",
       "Australia, and to such other countries as would listen.  The task was not\n",
       "pleasant, and it had its dangers, too, of a certain kind.  But Shorland\n",
       "had had difficulty and peril often in his life, and he borrowed no\n",
       "trouble.  Proceeding along the Rue de l'Alma, and listening to the babble\n",
       "of French voices round him, he suddenly paused abstractedly, and said to\n",
       "himself \"Somehow it brings back Paris to me, and that last night there,\n",
       "when I bade Freeman good-bye.  Poor old boy, I'm glad better days are\n",
       "coming for him.  Sure to be better, if he marries Clare.  Why didn't he\n",
       "do it seven years ago, and save all that other horrible business?\""
      ],
      "text/plain": [
       "<IPython.core.display.Markdown object>"
      ]
     },
     "metadata": {},
     "output_type": "display_data"
    },
    {
     "data": {
      "text/markdown": [
       "Then he moved on, noticing that he was the object of remark, but as it\n",
       "was daytime, and in the street he felt himself safe.  Glancing up at a\n",
       "doorway he saw a familiar Paris name--Cafe Voisin.  This was interesting.\n",
       "It was in the Cafe Voisin that he had touched a farewell glass with Luke\n",
       "Freeman, the one bosom friend of his life.  He entered this Cafe Voisin\n",
       "with the thought of how vague would be the society which he would meet in\n",
       "such a reproduction of a famous Parisian haunt.  He thought of a Cafe\n",
       "chantant at Port Said, and said to himself, \"It can't be worse than\n",
       "that.\"  He was right then.  The world had no shambles of ghastly\n",
       "frivolity and debauchery like those of Port Said."
      ],
      "text/plain": [
       "<IPython.core.display.Markdown object>"
      ]
     },
     "metadata": {},
     "output_type": "display_data"
    },
    {
     "data": {
      "text/markdown": [
       "**The Mirror of Literature, Amusement, and Instruction. Volume 19, No. 555, Supplementary Number**"
      ],
      "text/plain": [
       "<IPython.core.display.Markdown object>"
      ]
     },
     "metadata": {},
     "output_type": "display_data"
    },
    {
     "name": "stdout",
     "output_type": "stream",
     "text": [
      "----------------------------------------------------------------------------------------------------\n",
      "n_tokens: 1889\n"
     ]
    },
    {
     "data": {
      "text/markdown": [
       "In 1791, we find Mr. Grey taking the lead in a measure, which, in the\n",
       "language of a great orator (Burke) \"shed a lustre on the character and\n",
       "humanity of the nation.\" The subject to which we allude, was the\n",
       "melancholy situation of those who were unable to satisfy the demands of\n",
       "importunate creditors, and consequently subjected to the operation of a\n",
       "rigorous code of laws. His observation in moving for a parliamentary\n",
       "committee to inquire into the present practice and effect of imprisonment\n",
       "for debt is worthy of quotation: \"it was desirable to distinguish the\n",
       "unfortunate debtor from the knavish one, to place the creditor in that\n",
       "situation which afforded the fairest and the speediest means of\n",
       "compensation, and to regulate the jails of this country in such a manner\n",
       "as to prevent unnecessary hardship and restraint. Whether they considered\n",
       "the practice of confining for debt men who had no means of discharging\n",
       "such debt, or, on the contrary, fraudulent debtors, whose creditors by no\n",
       "process could compel them to pay; these circumstances were alone\n",
       "sufficient to constitute an inquiry into the state of the laws relating to\n",
       "debtor and creditor.\" This motion being acceded to, a committee consisting\n",
       "of Mr. Grey, Mr. Pitt, Sir John Sinclair, Mr. Vansittart, Mr. Martin, the\n",
       "Attorney and Solicitor Generals, and other legal gentlemen, was\n",
       "immediately appointed. The origin of this inquiry is an indicative of the\n",
       "liberal policy of the statesman as it is of the humanity of the mover."
      ],
      "text/plain": [
       "<IPython.core.display.Markdown object>"
      ]
     },
     "metadata": {},
     "output_type": "display_data"
    },
    {
     "data": {
      "text/markdown": [
       "In 1792, Mr. Grey instituted an inquiry into the conduct of ministers with\n",
       "regard to the recently threatened hostilities with Russia. His\n",
       "animadversion upon the vacillating and ruinous measures of government were\n",
       "characterized by that fearless intrepidity, truth, energy, and eloquence,\n",
       "which have distinguished his political career. The motion for the inquiry\n",
       "was lost, though the powerful remarks of the mover drew from Mr. Pitt the\n",
       "following memorable confession: \"All unlimited confidence is\n",
       "unconstitutional; and I hope the inglorious moment will never arrive, when\n",
       "this house will abandon the privilege of examining, condemning, and\n",
       "correcting the abuses in the executive government. It is the dearest\n",
       "privilege you possess, and should never be relinguished.\""
      ],
      "text/plain": [
       "<IPython.core.display.Markdown object>"
      ]
     },
     "metadata": {},
     "output_type": "display_data"
    },
    {
     "data": {
      "text/markdown": [
       "During the schisms occasioned in this country by the French revolution, Mr.\n",
       "Grey enrolled himself in a political society, called the Friends of the\n",
       "People. He also became a member of the Whig Club, then in the zenith of\n",
       "its celebrity. His active advocacy of the cause of a reform in parliament\n",
       "was equal within and without the house of commons. To quote one of his\n",
       "Lordship's most recent speeches, \"In 1786 he had voted for reform. He had\n",
       "supported Mr. Pitt in his motion for shortening the duration of\n",
       "parliaments. He had given his best assistance to the measure of reform\n",
       "introduced by Mr. Flood, before the French revolution; and, on one or two\n",
       "different occasions, he had originated motions on the subject.\"[3] One of\n",
       "these was in 1793, when he presented a petition for reform and a shorter\n",
       "duration of parliament, from the Society of the Friends of the People: his\n",
       "motion for a committee was lost by 280 to 41. Another occasion to which\n",
       "his Lordship alludes, was in 1797, when he proposed, in his plan of\n",
       "parliamentary reform, to give to the county of York four new members; to\n",
       "divide each county into two districts, each returning a member.\n",
       "Copyholders and leaseholders were to have equal rights of voting with\n",
       "freeholders, as were all householders paying taxes in cities and boroughs;\n",
       "and parliaments were to be triennial. This motion was, however, negatived\n",
       "by 149 votes."
      ],
      "text/plain": [
       "<IPython.core.display.Markdown object>"
      ]
     },
     "metadata": {},
     "output_type": "display_data"
    },
    {
     "data": {
      "text/markdown": [
       "In 1795, Mr. Grey opposed with great firmness, Mr. Pitt's motion for the\n",
       "adjustment of the Prince of Wales's debts, and moved for the reduction of\n",
       "the Prince's income. He professed himself ready to support the real\n",
       "splendour of the royal family \"as any slippery sycophant of a court;\" but\n",
       "said he thought there was more true dignity in manifesting a heart alive\n",
       "to the distresses of millions, than in all those trappings which encumber\n",
       "royalty without adorning it. He asked whether the legislature should give\n",
       "an example of encouraging extravagance at a moment when the prevailing\n",
       "fashion of prodigality among people of fortune was rapidly destroying\n",
       "their independence, and making them the tools of the court, and the\n",
       "contempt of the people. He knew the refusal to pay his debts would be a\n",
       "severe privation to the Prince of Wales; but it would be a just penalty\n",
       "for the past, a useful lesson for the future, and a proper deference to\n",
       "the severe pressure and privations endured by the people. Mr. Grey's\n",
       "amendment was supported by what was then a strong majority--99 to 260; and\n",
       "the original motion carried: his conduct on this occasion seems never to\n",
       "have been forgotten by the Prince of Wales, the Regent or the King. It\n",
       "should here be mentioned, that, with equal justice, Mr. Grey subsequently\n",
       "defended the rights of His Royal Highness from the shackles proposed to be\n",
       "laid on him as Regent."
      ],
      "text/plain": [
       "<IPython.core.display.Markdown object>"
      ]
     },
     "metadata": {},
     "output_type": "display_data"
    },
    {
     "data": {
      "text/markdown": [
       "Mr. Grey's opposition to Mr. Pitt's measures continued unabated for many\n",
       "years, while he remained equally steady in his attachment to Mr. Fox. His\n",
       "bitter hostility to the union between Ireland and England may be said to\n",
       "have produced one of his most celebrated speeches. Neither was he dazzled,\n",
       "nor misled by the splendid talents of Burke, at this time in highest\n",
       "repute. When Mr. Fox was deserted by Lords Fitzwilliam, Carlisle, and\n",
       "other alarmists, Mr. Grey unchangingly adhered to him; and when Mr. Fox\n",
       "and Lord Grenville formed a Whig ministry, in 1806, Mr. Grey, then, by his\n",
       "father's elevation to the peerage, become Lord Howick, was appointed First\n",
       "Lord of the Admiralty, and one of the Cabinet Council. He next succeeded\n",
       "Mr. Fox as Secretary for Foreign Affairs, and leader in the House of\n",
       "Commons. This ministry was ill-formed, and wanted unity of purpose: their\n",
       "abolition of the Slave Trade was a redeeming measure, in which Lord Howick\n",
       "bore a conspicuous part; but his lordship's motion for the emancipation of\n",
       "the Catholics brought about his dismissal from the ministry."
      ],
      "text/plain": [
       "<IPython.core.display.Markdown object>"
      ]
     },
     "metadata": {},
     "output_type": "display_data"
    },
    {
     "data": {
      "text/markdown": [
       "Lord Howick, soon after, by the death of his father, succeeded to the\n",
       "title of Earl Grey; and by the death of his uncle, Sir Henry Grey, to the\n",
       "family estate. Ill health, for a time, kept his lordship from public life:\n",
       "he retired with no place but that of a Governor of the Charter House, and\n",
       "without pension or sinecure. Upon the resignation of the Duke of Portland,\n",
       "in 1809, his successor, Mr. Perceval, proposed a coalition with Lords\n",
       "Grenville and Grey, which was at once rejected by the latter. In the\n",
       "following year, his lordship \"felt it his duty to arraign and to expose\n",
       "the gross mismanagement of the government, and their repeated and\n",
       "dangerous misconduct,\" in Parliament. In the same session, he charged the\n",
       "lord chancellor (Eldon) with a crime little short of treason, in having\n",
       "set the great seal, in 1801 and 1804, to commissions for giving the royal\n",
       "assent to several bills, whilst the King was in a state of mental\n",
       "infirmity, under medical care, and subject to personal control. The motion\n",
       "was negatived by a majority of 189 to 64; \"but Lord Eldon has not\n",
       "forgotten the accusation, or forgiven the mover.\"[4] In 1812, another\n",
       "attempt was made to bring Lord Grey, with Lord Grenville, into the cabinet;\n",
       "but this was rejected as promptly as before."
      ],
      "text/plain": [
       "<IPython.core.display.Markdown object>"
      ]
     },
     "metadata": {},
     "output_type": "display_data"
    },
    {
     "data": {
      "text/markdown": [
       "Lord Grey again retired to private life. In 1817, his lordship reappeared,\n",
       "and moved an amendment to the parliamentary address to the throne, urging\n",
       "rigid economy, retrenchment, and an inquiry into the state of the nation.\n",
       "In the same year he brought before the House of Lords, the notable\n",
       "circular of Lord Sidmouth for the prosecution of libels by magistrates.\n",
       "\"It is a singular fact,\" observes an acute historical writer,[5] \"that\n",
       "Lord Grey, on this occasion, made an able and erudite law argument; which\n",
       "all the law lords, including Lord Ellenborough, made vain efforts to\n",
       "refute; and which Lord Ellenborough had the manliness to eulogize;\"\n",
       "notwithstanding which Lord Grey's motion for a copy of the opinion of the\n",
       "law officers of the crown was negatived."
      ],
      "text/plain": [
       "<IPython.core.display.Markdown object>"
      ]
     },
     "metadata": {},
     "output_type": "display_data"
    },
    {
     "data": {
      "text/markdown": [
       "**Susy, a Story of the Plains**"
      ],
      "text/plain": [
       "<IPython.core.display.Markdown object>"
      ]
     },
     "metadata": {},
     "output_type": "display_data"
    },
    {
     "name": "stdout",
     "output_type": "stream",
     "text": [
      "----------------------------------------------------------------------------------------------------\n",
      "n_tokens: 576\n"
     ]
    },
    {
     "data": {
      "text/markdown": [
       "Unfortunately, the act, which was quite natural to Clarence's\n",
       "sensitiveness, and indeed partly sprang from some concern in his old\n",
       "companion's fortunes, translated itself by a very human process to\n",
       "Hooker's consciousness as a piece of rank affectation. HE would have\n",
       "been exalted and exultant in Clarence's place, consequently any other\n",
       "exhibition was only “airs.” Nevertheless, at the present moment Clarence\n",
       "was to be placated."
      ],
      "text/plain": [
       "<IPython.core.display.Markdown object>"
      ]
     },
     "metadata": {},
     "output_type": "display_data"
    },
    {
     "data": {
      "text/markdown": [
       "“You didn't mind my telling that story about your savin' Susy as my own,\n",
       "did ye?” he said, with a hasty glance over his shoulder. “I only did it\n",
       "to fool the old man and women-folks, and make talk. You won't blow on\n",
       "me? Ye ain't mad about it?”"
      ],
      "text/plain": [
       "<IPython.core.display.Markdown object>"
      ]
     },
     "metadata": {},
     "output_type": "display_data"
    },
    {
     "data": {
      "text/markdown": [
       "It had crossed Clarence's memory that when they were both younger\n",
       "Jim Hooker had once not only borrowed his story, but his name and\n",
       "personality as well. Yet in his loyalty to old memories there was\n",
       "mingled no resentment for past injury. “Of course not,” he said, with a\n",
       "smile that was, however, still thoughtful. “Why should I? Only I ought\n",
       "to tell you that Susy Peyton is living with her adopted parents not ten\n",
       "miles from here, and it might reach their ears. She's quite a young lady\n",
       "now, and if I wouldn't tell her story to strangers, I don't think YOU\n",
       "ought to, Jim.”"
      ],
      "text/plain": [
       "<IPython.core.display.Markdown object>"
      ]
     },
     "metadata": {},
     "output_type": "display_data"
    },
    {
     "data": {
      "text/markdown": [
       "He said this so pleasantly that even the skeptical Jim forgot what he\n",
       "believed were the “airs and graces” of self-abnegation, and said,\n",
       "“Let's go inside, and I'll introduce you,” and turned to the house. But\n",
       "Clarence Brant drew back. “I'm going on as soon as my horse is fed,\n",
       "for I'm on a visit to Peyton, and I intend to push as far as Santa Inez\n",
       "still to-night. I want to talk with you about yourself, Jim,” he\n",
       "added gently; “your prospects and your future. I heard,” he went on\n",
       "hesitatingly, “that you were--at work--in a restaurant in San Francisco.\n",
       "I'm glad to see that you are at least your own master here,”--he glanced\n",
       "at the wagon. “You are selling things, I suppose? For yourself, or\n",
       "another? Is that team yours? Come,” he added, still pleasantly, but in\n",
       "an older and graver voice, with perhaps the least touch of experienced\n",
       "authority, “be frank, Jim. Which is it? Never mind what things you've\n",
       "told IN THERE, tell ME the truth about yourself. Can I help you in any\n",
       "way? Believe me, I should like to. We have been old friends, whatever\n",
       "difference in our luck, I am yours still.”"
      ],
      "text/plain": [
       "<IPython.core.display.Markdown object>"
      ]
     },
     "metadata": {},
     "output_type": "display_data"
    },
    {
     "data": {
      "text/markdown": [
       "**The Battle of the Strong: A Romance of Two Kingdoms — Volume 4**"
      ],
      "text/plain": [
       "<IPython.core.display.Markdown object>"
      ]
     },
     "metadata": {},
     "output_type": "display_data"
    },
    {
     "name": "stdout",
     "output_type": "stream",
     "text": [
      "----------------------------------------------------------------------------------------------------\n",
      "n_tokens: 563\n"
     ]
    },
    {
     "data": {
      "text/markdown": [
       "She had been used often to sit still, doing nothing, in a sort of\n",
       "physical content, as the Sieur and his visitors talked; now her hands\n",
       "were always busy, knitting, sewing, or spinning, the steady gaze upon the\n",
       "work showing that her thoughts were far away.  Though the Chevalier and\n",
       "her grandfather vaguely noted these changes, they as vaguely set them\n",
       "down to her growing womanhood.  In any case, they held it was not for\n",
       "them to comment upon a woman or upon a woman's ways.  And a girl like\n",
       "Guida was an incomprehensible being, with an orbit and a system all her\n",
       "own; whose sayings and doings were as little to be reduced to their\n",
       "understandings as the vagaries of any star in the Milky Way or the\n",
       "currents in St. Michael's Basin."
      ],
      "text/plain": [
       "<IPython.core.display.Markdown object>"
      ]
     },
     "metadata": {},
     "output_type": "display_data"
    },
    {
     "data": {
      "text/markdown": [
       "One evening she sat before the fire thinking of Philip.  Her grandfather\n",
       "had retired earlier than usual.  Biribi lay asleep on the veille.  There\n",
       "was no sound save the ticking of the clock on the mantel above her head,\n",
       "the dog's slow breathing, the snapping of the log on the fire, and a soft\n",
       "rush of heat up the chimney.  The words of Philip's letters, from which\n",
       "she had extracted every atom of tenderness they held, were always in her\n",
       "ears.  At last one phrase kept repeating itself to her like some\n",
       "plaintive refrain, torturing in its mournful suggestion.  It was this:\n",
       "\"But you see, beloved, though I am absent from you I shall have such\n",
       "splendid chances to get on.  There's no limit to what this war may do for\n",
       "me.\""
      ],
      "text/plain": [
       "<IPython.core.display.Markdown object>"
      ]
     },
     "metadata": {},
     "output_type": "display_data"
    },
    {
     "data": {
      "text/markdown": [
       "Suddenly Guida realised how different was her love from Philip's, how\n",
       "different her place in his life from his place in her life.  She reasoned\n",
       "with herself, because she knew that a man's life was work in the world,\n",
       "and that work and ambition were in his bones and in his blood, had been\n",
       "carried down to him through centuries of industrious, ambitious\n",
       "generations of men: that men were one race and women were another.  A man\n",
       "was bound by the conditions governing the profession by which he earned\n",
       "his bread and butter and played his part in the world, while striving to\n",
       "reach the seats of honour in high places.  He must either live by the\n",
       "law, fulfil to the letter his daily duties in the business of life, or\n",
       "drop out of the race; while a woman, in the presence of man's immoderate\n",
       "ambition, with bitterness and tears, must learn to pray, \"O Lord, have\n",
       "mercy upon us, and incline our hearts to keep this law.\""
      ],
      "text/plain": [
       "<IPython.core.display.Markdown object>"
      ]
     },
     "metadata": {},
     "output_type": "display_data"
    },
    {
     "data": {
      "text/markdown": [
       "**The Bible, Douay-Rheims, Book 72: Jude: The Challoner Revision**"
      ],
      "text/plain": [
       "<IPython.core.display.Markdown object>"
      ]
     },
     "metadata": {},
     "output_type": "display_data"
    },
    {
     "data": {
      "text/markdown": [
       "**The Great Round World and What Is Going On In It, Vol. 1, No. 26, May 6, 1897: A Weekly Magazine for Boys and Girls**"
      ],
      "text/plain": [
       "<IPython.core.display.Markdown object>"
      ]
     },
     "metadata": {},
     "output_type": "display_data"
    },
    {
     "data": {
      "text/markdown": [
       "**De Camp Genealogy: Laurent De Camp of New Utrecht, N.Y., 1664, and his descendants**"
      ],
      "text/plain": [
       "<IPython.core.display.Markdown object>"
      ]
     },
     "metadata": {},
     "output_type": "display_data"
    },
    {
     "data": {
      "text/markdown": [
       "**Ireland's disease**"
      ],
      "text/plain": [
       "<IPython.core.display.Markdown object>"
      ]
     },
     "metadata": {},
     "output_type": "display_data"
    },
    {
     "data": {
      "text/markdown": [
       "**The Canadian Brothers; Or, The Prophecy Fulfilled: A Tale of the Late American War — Volume 2**"
      ],
      "text/plain": [
       "<IPython.core.display.Markdown object>"
      ]
     },
     "metadata": {},
     "output_type": "display_data"
    },
    {
     "name": "stdout",
     "output_type": "stream",
     "text": [
      "----------------------------------------------------------------------------------------------------\n",
      "n_tokens: 605\n"
     ]
    },
    {
     "data": {
      "text/markdown": [
       "Meanwhile, although nothing could be distinguished through\n",
       "the fog, the sounds which had originally attracted the\n",
       "notice of the officer and his trusty servant, increased,\n",
       "despite of the caution evidently used, to such a degree\n",
       "as to be now audible to all on board. What most excited\n",
       "the astonishment of the crew, and the suspicion of Gerald,\n",
       "was the exactness of the course taken by the advancing\n",
       "boats, in which not the slightest deviation was perceptible.\n",
       "It was evident that they were guided by some one who had\n",
       "well studied the distance and bearing of the schooner\n",
       "from the shore, and as it was impossible to hope that\n",
       "even the fog would afford them concealment from the\n",
       "approaching enemy, all that was left them, was to make\n",
       "the best defence they could. One other alternative\n",
       "remained, it is true, and this was to cut their cable\n",
       "and allow themselves to drop down silently out of the\n",
       "course by which the boats were advancing, but as this\n",
       "step involved the possibility of running ashore on the\n",
       "American coast, when the same danger of captivity would\n",
       "await them, Gerald, after an instant's consideration,\n",
       "rejected the idea, prefering the worthier and more\n",
       "chivalrous dependence on his own and crew's exertions."
      ],
      "text/plain": [
       "<IPython.core.display.Markdown object>"
      ]
     },
     "metadata": {},
     "output_type": "display_data"
    },
    {
     "data": {
      "text/markdown": [
       "From the moment of the general arming, the long gun,\n",
       "which we have already shown to constitute the sole defence\n",
       "of the schooner, was brought nearer to the inshore\n",
       "gang-way, and mounted on its elevated pivot, with its\n",
       "formidable muzzle overtopping and projecting above the\n",
       "low bulwarks, could in an instant be brought to bear on\n",
       "whatever point it might be found advisable to vomit forth\n",
       "its mass of wrath, consisting of grape, cannister, and\n",
       "chain shot. On this gun indeed, the general expectation\n",
       "much depended, for the crew, composed of sixteen men\n",
       "only, exclusive of petty officers, could hope to make\n",
       "hut a poor resistance, despite of all the resolution they\n",
       "might bring into the contest, against a squadron of well\n",
       "armed boats, unless some very considerable diminution in\n",
       "the numbers and efforts of these latter should be made\n",
       "by \"old Sally,\" before they actually came to close\n",
       "quarters. The weakness of the crew was in a great degree\n",
       "attributable to the schooner having been employed as a\n",
       "cartel; a fact which must moreover explain the want of\n",
       "caution, on this occasion, on the part of Gerald, whose\n",
       "reputation for vigilance, in all matters of duty, was\n",
       "universally acknowledged. It had not occurred to him\n",
       "that the instant he landed his prisoners his vessel ceased\n",
       "to be a cartel, and therefore a fit subject for the\n",
       "enterprize of his enemies, or the probability is, that\n",
       "in the hour in which he had landed them he would again\n",
       "have weighed anchor, and made the best of his way back\n",
       "to Amherstburg."
      ],
      "text/plain": [
       "<IPython.core.display.Markdown object>"
      ]
     },
     "metadata": {},
     "output_type": "display_data"
    },
    {
     "data": {
      "text/markdown": [
       "**The Yale Literary Magazine (Vol. I, No. 3, April 1836)**"
      ],
      "text/plain": [
       "<IPython.core.display.Markdown object>"
      ]
     },
     "metadata": {},
     "output_type": "display_data"
    },
    {
     "data": {
      "text/markdown": [
       "**Kenelm Chillingly — Volume 02**"
      ],
      "text/plain": [
       "<IPython.core.display.Markdown object>"
      ]
     },
     "metadata": {},
     "output_type": "display_data"
    },
    {
     "name": "stdout",
     "output_type": "stream",
     "text": [
      "----------------------------------------------------------------------------------------------------\n",
      "n_tokens: 565\n"
     ]
    },
    {
     "data": {
      "text/markdown": [
       "With light step and elated crest, the wanderer, thus transformed,\n",
       "sprang from the wood into the dusty thoroughfare.  He had travelled on\n",
       "for about an hour, meeting but few other passengers, when he heard to\n",
       "the right a loud shrill young voice, \"Help! help!  I will not go; I\n",
       "tell you, I will not!\"  Just before him stood, by a high five-barred\n",
       "gate, a pensive gray cob attached to a neat-looking gig.  The bridle\n",
       "was loose on the cob's neck.  The animal was evidently accustomed to\n",
       "stand quietly when ordered to do so, and glad of the opportunity."
      ],
      "text/plain": [
       "<IPython.core.display.Markdown object>"
      ]
     },
     "metadata": {},
     "output_type": "display_data"
    },
    {
     "data": {
      "text/markdown": [
       "The cries, \"Help, help!\"  were renewed, mingled with louder tones in a\n",
       "rougher voice, tones of wrath and menace.  Evidently these sounds did\n",
       "not come from the cob.  Kenelm looked over the gate, and saw a few\n",
       "yards distant in a grass field a well-dressed boy struggling violently\n",
       "against a stout middle-aged man who was rudely hauling him along by\n",
       "the arm."
      ],
      "text/plain": [
       "<IPython.core.display.Markdown object>"
      ]
     },
     "metadata": {},
     "output_type": "display_data"
    },
    {
     "data": {
      "text/markdown": [
       "The chivalry natural to a namesake of the valiant Sir Kenelm Digby was\n",
       "instantly aroused.  He vaulted over the gate, seized the man by the\n",
       "collar, and exclaimed, \"For shame! what are you doing to that poor\n",
       "boy? let him go!\""
      ],
      "text/plain": [
       "<IPython.core.display.Markdown object>"
      ]
     },
     "metadata": {},
     "output_type": "display_data"
    },
    {
     "data": {
      "text/markdown": [
       "\"Why the devil do you interfere?\" cried the stout man, his eyes\n",
       "glaring and his lips foaming with rage.  \"Ah, are you the villain?\n",
       "yes, no doubt of it.  I'll give it to you, jackanapes,\" and still\n",
       "grasping the boy with one hand, with the other the stout man darted a\n",
       "blow at Kenelm, from which nothing less than the practised pugilistic\n",
       "skill and natural alertness of the youth thus suddenly assaulted could\n",
       "have saved his eyes and nose.  As it was, the stout man had the worst\n",
       "of it: the blow was parried, returned with a dexterous manoeuvre of\n",
       "Kenelm's right foot in Cornish fashion, and /procumbit humi bos/; the\n",
       "stout man lay sprawling on his back.  The boy, thus released, seized\n",
       "hold of Kenelm by the arm, and hurrying him along up the field, cried,\n",
       "\"Come, come before he gets up! save me! save me!\"  Ere he had\n",
       "recovered his own surprise, the boy had dragged Kenelm to the gate,\n",
       "and jumped into the gig, sobbing forth, \"Get in, get in, I can't\n",
       "drive; get in, and drive--you.  Quick!  Quick!\""
      ],
      "text/plain": [
       "<IPython.core.display.Markdown object>"
      ]
     },
     "metadata": {},
     "output_type": "display_data"
    },
    {
     "data": {
      "text/markdown": [
       "**A Word, Only a Word — Volume 03**"
      ],
      "text/plain": [
       "<IPython.core.display.Markdown object>"
      ]
     },
     "metadata": {},
     "output_type": "display_data"
    },
    {
     "name": "stdout",
     "output_type": "stream",
     "text": [
      "----------------------------------------------------------------------------------------------------\n",
      "n_tokens: 511\n"
     ]
    },
    {
     "data": {
      "text/markdown": [
       "\"Remain here, Navarrete.  The king longs for Moor, and you will be as\n",
       "safe with us, as if you were in Abraham's lap.  We have plenty for you to\n",
       "do.  You come to me as opportunely, as if you had dropped from the skies.\n",
       "I was just going to write to Venice for an assistant.  Holy Jacob!\n",
       "You can't stay so, but thanks to the Madonna and Moor, you are not poor.\n",
       "We have ample means, my young sir.  Donna Sophonisba gave me a hundred\n",
       "zechins for you; they are lying in yonder chest, and thank Heaven,\n",
       "haven't grown impatient by waiting.  They are at your disposal.  Your\n",
       "master, my master, the noble master of all portrait-painters, our beloved\n",
       "Moor arranged it.  You won't go about the streets in this way any longer.\n",
       "Look, Isabella; this sleeve is hanging by two strings, and the elbow is\n",
       "peering out of the window.  Such a dress is airy enough, certainly.  Take\n",
       "him to the tailor's at once, Sanchez, Oliverio, or.....  but no, no;\n",
       "we'll all stay together to-day.  Herrera is coming from the Escurial.\n",
       "You will endure the dress for the sake of the wearer, won't you, ladies?\n",
       "Besides, who is to choose the velvet and cut for this young dandy?\n",
       "He always wore something unusual.  I can still see the master's smile,\n",
       "provoked by some of the lad's new contrivances in puffs and slashes.  It\n",
       "is pleasant to have you here, my boy!  I ought to slay a calf, as the\n",
       "father did for the prodigal son; but we live in miniature.  Instead of\n",
       "neat-cattle, only a capon!....\""
      ],
      "text/plain": [
       "<IPython.core.display.Markdown object>"
      ]
     },
     "metadata": {},
     "output_type": "display_data"
    },
    {
     "data": {
      "text/markdown": [
       "\"But you're not drinking, you're not drinking!  Isabella, fill his glass.\n",
       "Look! only see these scars on his hands and neck.  It will need a great\n",
       "deal of lace to conceal them.  No, no, they are marks of honor, you must\n",
       "show them.  Come here, I will kiss this great scar, on your neck, my\n",
       "brave, faithful fellow, and some day a fair one will follow my example.\n",
       "If Antonio were only here!  There's a kiss for him, and another, there,\n",
       "there.  Art bestows it, Art, for whom you have saved Moor!\""
      ],
      "text/plain": [
       "<IPython.core.display.Markdown object>"
      ]
     },
     "metadata": {},
     "output_type": "display_data"
    },
    {
     "data": {
      "text/markdown": [
       "**Making the Nine**"
      ],
      "text/plain": [
       "<IPython.core.display.Markdown object>"
      ]
     },
     "metadata": {},
     "output_type": "display_data"
    },
    {
     "data": {
      "text/markdown": [
       "**Notes and Queries, Number 44, August 31, 1850**"
      ],
      "text/plain": [
       "<IPython.core.display.Markdown object>"
      ]
     },
     "metadata": {},
     "output_type": "display_data"
    },
    {
     "name": "stdout",
     "output_type": "stream",
     "text": [
      "----------------------------------------------------------------------------------------------------\n",
      "n_tokens: 1197\n"
     ]
    },
    {
     "data": {
      "text/markdown": [
       "    \"After some time, and his bringing out several such speeches as\n",
       "    above, I rous'd as if I had but just wak'd; 'Well, waterman,'\n",
       "    says I, 'how d'ye go on?' 'Very indifferently,' says he; 'it\n",
       "    blows very hard.' 'Ay, so it does,' says I; 'where are we?' 'A\n",
       "    little above Erith,' says he; so down I lay again, and said no\n",
       "    more for that time."
      ],
      "text/plain": [
       "<IPython.core.display.Markdown object>"
      ]
     },
     "metadata": {},
     "output_type": "display_data"
    },
    {
     "data": {
      "text/markdown": [
       "    \"By and by he was at it again, 'It blows a frett of wind,' and\n",
       "    'It blows very hard,' and the like; but still I said nothing. At\n",
       "    last we ship'd a dash of water over the boat's head, and the\n",
       "    spry of it wetted me a little, and I started up again as if I\n",
       "    had been asleep; 'Waterman,' says I, 'what are you doing? what,\n",
       "    did you ship a sea?' 'Ay,' says the waterman, 'and a great one\n",
       "    too; why it blows a frett of wind.' 'Well, well,' says I, 'come,\n",
       "    have a good heart; where are we now?' 'Almost in Gallions,' says\n",
       "    he, 'that's a reach below Woolwich.'"
      ],
      "text/plain": [
       "<IPython.core.display.Markdown object>"
      ]
     },
     "metadata": {},
     "output_type": "display_data"
    },
    {
     "data": {
      "text/markdown": [
       "    \"Well, when we got into the Gallions reach, there the water was\n",
       "    very rough, and I heard him say to his man, 'Jack, we'll keep\n",
       "    the weather-shore aboard, for it grows dark and it blows a\n",
       "    storm.' Ay, thought I, had I desir'd you to stand in under\n",
       "    shore, you would have kept off in meer bravado; but I said\n",
       "    nothing. By and by his mast broke, and gave a great crack, and\n",
       "    the fellow cry'd out, 'Lord have mercy upon us!' I started up\n",
       "    again, but still spoke cheerfully; 'What's the matter now?' says\n",
       "    I. 'L--d, Sir,' say's he, 'how can you sleep? why my mast is\n",
       "    come by the board.' 'Well, well,' says I, 'then you must take a\n",
       "    goose-wing.' 'A goose-wing! why,' says he, 'I can't carry a knot\n",
       "    of sail, it blows a storm.' 'Well,' says I, 'if you can't carry\n",
       "    any sail, you must drive up under shore then, you have the tide\n",
       "    under foot:' and with that I lay down again. The man did as I\n",
       "    said. A piece of his mast being yet standing, he made what they\n",
       "    call a goose-wing sail, that is, a little piece of the sail out,\n",
       "    just to keep the boat steddy, and with this we got up as high as\n",
       "    Blackwall; the night being then come on and very dark, and the\n",
       "    storm increasing, I suffer'd myself to be persuaded to put in\n",
       "    there, though five or six mile short of London; whereas, indeed,\n",
       "    I was resolv'd to venture no farther if the waterman would have\n",
       "    done it."
      ],
      "text/plain": [
       "<IPython.core.display.Markdown object>"
      ]
     },
     "metadata": {},
     "output_type": "display_data"
    },
    {
     "data": {
      "text/markdown": [
       "    \"When I was on shore, the man said to me, 'Master, you have been\n",
       "    us'd to the sea, I don't doubt; why you can sleep in a storm\n",
       "    without any concern, as if you did not value your life; I never\n",
       "    carry'd one in my life that did so; why, 'twas a wonder we had\n",
       "    not founder'd.' 'Why,' says I, 'friend, for that you know I left\n",
       "    it all to you; I did not doubt but you would take care of\n",
       "    yourself;' but after that I told him my other reason for it, the\n",
       "    fellow smil'd, but own'd the thing was true, and that he was the\n",
       "    more cautious a great deal, for that I took no thought about it;\n",
       "    and I am still of opinion, that the less frighted and timorous\n",
       "    their passengers are, the more cautious and careful the watermen\n",
       "    are, and the least apt to run into danger; whereas, if their\n",
       "    passengers appear frighted, then the watermen grow sawcy and\n",
       "    audacious, show themselves vent'rous, and contemn the dangers\n",
       "    which they are really exposed to.\"--p. 130."
      ],
      "text/plain": [
       "<IPython.core.display.Markdown object>"
      ]
     },
     "metadata": {},
     "output_type": "display_data"
    },
    {
     "data": {
      "text/markdown": [
       "We are not bound to suppose that this is plain relation of matter of\n",
       "fact, any more than the _History of Robinson Crusoe_; but it is a\n",
       "graphic sketch of life and manners worth the notice of those who study\n",
       "such things. It forms at least a little contribution to the history of\n",
       "travelling in England. A passenger who had just landed from a Gravesend\n",
       "boat, to pursue his journey by land, might well be thankful to \"be\n",
       "received in a coach\" like that which had been started at York near half\n",
       "a century before."
      ],
      "text/plain": [
       "<IPython.core.display.Markdown object>"
      ]
     },
     "metadata": {},
     "output_type": "display_data"
    },
    {
     "data": {
      "text/markdown": [
       "Mr. Cunningham's work on London is a book of such general interest, that\n",
       "the additions and corrections, which I shall continue from time to time\n",
       "to offer to your readers, will not, I think, be deemed impertinent or\n",
       "trifling. Let it not be imagined, for one single instant, that I wish to\n",
       "depreciate Mr. Cunningham's labours. On the contrary, his book is one of\n",
       "the most delightful publications relative to our great city which we\n",
       "possess. And let me candidly say, if I were to select only half-a-dozen\n",
       "volumes for my own reading, _Cunningham's Handbook of London_ would most\n",
       "assuredly be one of that number."
      ],
      "text/plain": [
       "<IPython.core.display.Markdown object>"
      ]
     },
     "metadata": {},
     "output_type": "display_data"
    },
    {
     "data": {
      "text/markdown": [
       "**Indian and Other Tales**"
      ],
      "text/plain": [
       "<IPython.core.display.Markdown object>"
      ]
     },
     "metadata": {},
     "output_type": "display_data"
    },
    {
     "data": {
      "text/markdown": [
       "**The Bible, Douay-Rheims, Book 14: 2 Paralipomenon: The Challoner Revision**"
      ],
      "text/plain": [
       "<IPython.core.display.Markdown object>"
      ]
     },
     "metadata": {},
     "output_type": "display_data"
    },
    {
     "data": {
      "text/markdown": [
       "**The World English Bible (WEB): 2 Samuel**"
      ],
      "text/plain": [
       "<IPython.core.display.Markdown object>"
      ]
     },
     "metadata": {},
     "output_type": "display_data"
    },
    {
     "data": {
      "text/markdown": [
       "**Transactions of the American Society of Civil Engineers, vol. LXX, Dec. 1910: Reinforced Concrete Pier Construction**"
      ],
      "text/plain": [
       "<IPython.core.display.Markdown object>"
      ]
     },
     "metadata": {},
     "output_type": "display_data"
    },
    {
     "data": {
      "text/markdown": [
       "**Barbara Blomberg — Volume 02**"
      ],
      "text/plain": [
       "<IPython.core.display.Markdown object>"
      ]
     },
     "metadata": {},
     "output_type": "display_data"
    },
    {
     "name": "stdout",
     "output_type": "stream",
     "text": [
      "----------------------------------------------------------------------------------------------------\n",
      "n_tokens: 720\n"
     ]
    },
    {
     "data": {
      "text/markdown": [
       "Here also, as Wolf himself had probably experienced, there had been no\n",
       "lack of inclination toward the Lutheran doctrine.  It was certainly\n",
       "natural, since it suited the stomach better to fill itself, even during\n",
       "Lent, than to renounce meat; since there were shameless priests who would\n",
       "rather embrace a woman than to remain unmarried; since the Church\n",
       "property bestowed by pious souls was a welcome morsel to princes and\n",
       "to cities, and, finally, because licentiousness was more relished than\n",
       "wholesome discipline.  The wicked desires inspired by all the evil\n",
       "spirits and their tool, the Antichrist Luther, had gained the upper hand\n",
       "here also, and Dr. Hiltner, above all others, had prepared the way for\n",
       "them in Ratisbon.  Even at the last Reichstag his Majesty the Emperor had\n",
       "earnestly, but with almost too much gracious forbearance, endeavoured to\n",
       "effect a union between the contending parties, but directly after his\n",
       "departure from the city rebellion raised its head with boundless\n",
       "insolence.  The very next year the Council formally introduced the evil\n",
       "which they called ecclesiastical reformation.  The blinded people flocked\n",
       "to the new parish church to attend the first service, which they called\n",
       "\"Protestant.\"  Then the mischief hastened forward with gigantic strides."
      ],
      "text/plain": [
       "<IPython.core.display.Markdown object>"
      ]
     },
     "metadata": {},
     "output_type": "display_data"
    },
    {
     "data": {
      "text/markdown": [
       "\"Last year,\" cried the old gentleman, hoarse with indignation, striking\n",
       "the table with his clenched fist as if he were in camp, \"I saw them with\n",
       "my own eyes throw down and drag away, I know not where, the pillar with\n",
       "the beautiful image of Mary, the masterpiece of Erhard Heydenreich, the\n",
       "architect of the cathedral, which stood in front of the new parish\n",
       "church.  Songs had been composed in her honour, and she was dear and\n",
       "precious to you from early childhood, as well as to every native of\n",
       "Ratisbon; the precentor--God rest his soul!--read to me from your letter\n",
       "from Rome what exquisite works of art you saw there every day, but that\n",
       "you still remembered with pleasure the beautiful Virgin at home."
      ],
      "text/plain": [
       "<IPython.core.display.Markdown object>"
      ]
     },
     "metadata": {},
     "output_type": "display_data"
    },
    {
     "data": {
      "text/markdown": [
       "\"But what do these impious wretches care about beautiful and sacred\n",
       "things?  The temple desecrators removed and destroyed one venerable, holy\n",
       "image after another.  True, they did not venture into the cathedral,\n",
       "probably from fear of his Majesty the Emperor, and whoever had undertaken\n",
       "to lay hands upon the altar painting and the Madonna in our chapel would\n",
       "have paid for it--I am not boasting--with his life.  Though 'the\n",
       "beautiful Mary,' in her superabundant mercy, quietly endured the affront\n",
       "offered, our Lord himself punished it, for he inspired the illustrious\n",
       "Duke of Bavaria to issue an edict which forbids his subjects to trade\n",
       "with Ratisbon.  Whoever even enters the city must pay a heavy fine.  This\n",
       "set many people thinking.  Ursel will tell you what sinful prices we have\n",
       "paid since for butter and meat.  Even the innocent are obliged to buckle\n",
       "their belts tighter.  Those who wished to escape fasting are now\n",
       "compelled by poverty to practise abstinence.  It is said the Roman King\n",
       "Ferdinand is urging the revocation of the order.  If I were in his place,\n",
       "I would advise making it more stringent till the rebels sweat blood and\n",
       "crept to the cross.\""
      ],
      "text/plain": [
       "<IPython.core.display.Markdown object>"
      ]
     },
     "metadata": {},
     "output_type": "display_data"
    },
    {
     "data": {
      "text/markdown": [
       "**Chambers's Journal of Popular Literature, Science, and Art, Fifth Series, No. 37, Vol. I, September 13, 1884**"
      ],
      "text/plain": [
       "<IPython.core.display.Markdown object>"
      ]
     },
     "metadata": {},
     "output_type": "display_data"
    },
    {
     "data": {
      "text/markdown": [
       "**The Mirror of Literature, Amusement, and Instruction. Volume 12, No. 342, November 22, 1828**"
      ],
      "text/plain": [
       "<IPython.core.display.Markdown object>"
      ]
     },
     "metadata": {},
     "output_type": "display_data"
    },
    {
     "name": "stdout",
     "output_type": "stream",
     "text": [
      "----------------------------------------------------------------------------------------------------\n",
      "n_tokens: 837\n"
     ]
    },
    {
     "data": {
      "text/markdown": [
       "\n",
       "In the last No. of the _Edinburgh Review_, there is an admirably written\n",
       "article on Hallam's \"Constitutional History,\" not a mere essay, but\n",
       "somewhat more like a review than usual. It contains an abundance of\n",
       "florid, bold, and vigorous writing, extending through upwards of 70\n",
       "pages. Among the most striking passages we notice a parallel between\n",
       "Cromwell and Napoleon, drawn with considerable force. But our extract is\n",
       "from the lighter portion, as the following ludicrous sketches of some of\n",
       "the enormities of Charles II. \"Towards the close of the Protectorate,\n",
       "many signs indicated that a time of license was at hand. But the\n",
       "restoration of Charles II rendered the change wonderfully rapid and\n",
       "violent. A deep and general taint infected the morals of the most\n",
       "influential classes, and spread itself through every province of\n",
       "letters. Poetry inflamed the passions; philosophy undermined the\n",
       "principles; divinity itself, inculcating an abject reverence for the\n",
       "court, gave additional effect to its licentious example. ... The\n",
       "favourite duchess stamps about Whitehall, cursing and swearing. The\n",
       "ministers employ their time at the council board in making mouths at\n",
       "each other, and taking off each other's gestures for the amusement of\n",
       "the king. The peers at a conference begin to pommel each other, and to\n",
       "tear collars and periwigs. A speaker in the House of Commons gives\n",
       "offence to the court. He is way-laid by a gang of bullies, and his nose\n",
       "is cut to the bone. ... The second generation of the statesmen of this\n",
       "reign, were worthy of the schools in which they had been trained, of the\n",
       "gaming table of Grammont, and the tiring room of Nell ----.\" This is but\n",
       "a small portion of the good set terms in which the reviewer illustrates\n",
       "the licentiousness of the times. Speaking of Clarendon, he says, \"Mr.\n",
       "Hallam scarcely makes sufficient allowance for the wear and tear which\n",
       "honesty almost necessarily sustains in the friction of political life,\n",
       "and which in times so rough as those through which Clarendon passed,\n",
       "must be very considerable. When these are fairly estimated, we think\n",
       "that his integrity may be allowed to pass muster.\" Perhaps political\n",
       "honesty is like Joseph Surface's French plate, or the tinsel spread over\n",
       "a pair of Birmingham saleshop candlesticks, whose tenderness will not\n",
       "withstand the wear and tear of conveyance in the purchaser's pocket. But\n",
       "the oddity of the reviewer's comparisons even puts one in good humour\n",
       "with their virulence."
      ],
      "text/plain": [
       "<IPython.core.display.Markdown object>"
      ]
     },
     "metadata": {},
     "output_type": "display_data"
    },
    {
     "data": {
      "text/markdown": [
       "\n",
       "During \"the season\" the veriest stranger who has an eye and ear, and\n",
       "thoughts, must find in London sufficient to occupy his attention; true,\n",
       "he may start and sigh, to think that of the busy and enormous multitude\n",
       "around him, not one would care, if, treading on yonder bit of orange peel,\n",
       "he should slip off the flagway, and falling beneath the wheel of that\n",
       "immense coal-wagon, have his thigh crushed to atoms, while you'd be\n",
       "saying \"Jack Robinson.\" But if he do sigh, the more fool he; first,\n",
       "because \"grieving's a folly,\" as the old sea song hath it; next because\n",
       "he is mistaken in supposing that no one would feel interested in his\n",
       "misfortune. There are two upon the very flagway with him, who would\n",
       "evince the greatest sympathy in his fate; the one is a surgeon's\n",
       "apprentice, who, with anxious care, would bear him off to _his_\n",
       "hospital, that he might \"try his 'prentice hand\" to doctor him while\n",
       "living, and dissect him when dead; and the other is a running reporter to\n",
       "one of the morning papers, who would with gentle and soothing accents\n",
       "inquire his name, condition, and abode, to swell the paragraph, and\n",
       "increase his pay.--_Blackwood's Magazine._"
      ],
      "text/plain": [
       "<IPython.core.display.Markdown object>"
      ]
     },
     "metadata": {},
     "output_type": "display_data"
    },
    {
     "data": {
      "text/markdown": [
       "**The Boy Volunteers on the Belgian Front**"
      ],
      "text/plain": [
       "<IPython.core.display.Markdown object>"
      ]
     },
     "metadata": {},
     "output_type": "display_data"
    },
    {
     "data": {
      "text/markdown": [
       "**The Mirror of Literature, Amusement, and Instruction. Volume 10, No. 286, December 8, 1827**"
      ],
      "text/plain": [
       "<IPython.core.display.Markdown object>"
      ]
     },
     "metadata": {},
     "output_type": "display_data"
    },
    {
     "name": "stdout",
     "output_type": "stream",
     "text": [
      "----------------------------------------------------------------------------------------------------\n",
      "n_tokens: 633\n"
     ]
    },
    {
     "data": {
      "text/markdown": [
       "From a single sheet found in Sir Hans Sloane's library, in the British\n",
       "Museum, and printed by Mr. Ellis in his Original Letters, _Second\n",
       "Series_, it appears that tea was known in England in the year 1657,\n",
       "though not then in general use. The author of this paper says, \"That\n",
       "the vertues and excellencies of this leaf and drink are many and\n",
       "great, is evident and manifest by the high esteem and use of it\n",
       "(especially of late years) among the physicians and knowing men in\n",
       "France, Italy, Holland, and other parts of Christendom; _and in_\n",
       "ENGLAND it hath been sold in the leaf for _six pounds_, and sometimes\n",
       "for TEN _pounds_ the pound weight, and in respect of its former\n",
       "scarceness and dearness, it hath been only used as a regalia in high\n",
       "treatments and entertainments, and presents made thereof to princes\n",
       "and grandees, till the year 1657.\""
      ],
      "text/plain": [
       "<IPython.core.display.Markdown object>"
      ]
     },
     "metadata": {},
     "output_type": "display_data"
    },
    {
     "data": {
      "text/markdown": [
       "Secretary Pepys, in his Diary, vol. i. p. 76, without saying where he\n",
       "had his drink, makes the following entry:--\"Sept. 25th, 1660. I did\n",
       "send for a cup of tea (a China drink) of which I never had drunk\n",
       "before, and went away.\""
      ],
      "text/plain": [
       "<IPython.core.display.Markdown object>"
      ]
     },
     "metadata": {},
     "output_type": "display_data"
    },
    {
     "data": {
      "text/markdown": [
       "In a letter from Mr. Henry Savill to his uncle, Secretary Coventry,\n",
       "dated from Paris, Aug. 12, 1678, and printed by Mr. Ellis, the writer,\n",
       "after acknowledging the hospitalities of his uncle's house, quaintly\n",
       "observes, \"These, I hope, are the charms that have prevailed with me\n",
       "to remember (that is to trouble) you oftener than I am apt to do other\n",
       "of my friends, whose buttery-hatch is not so open, _and who call for_\n",
       "TEA instead of pipes and bottles after dinner; _a base unworthy Indian\n",
       "practice_, and which I must ever admire your most Christian family for\n",
       "not admitting. The truth is, all nations have grown so wicked as to\n",
       "have some of these filthy customs.\" In 1678, the year in which the\n",
       "above letter is dated, the East India Company began the importation of\n",
       "tea as a branch of trade; the quantity received at that time amounting\n",
       "to 4,713 lbs. The importation gradually enlarged, and the government,\n",
       "in consequence, augmented the duties upon tea. By the year 1700, the\n",
       "importation of tea had arrived at the quantity of 20,000 lbs. In 1721,\n",
       "it exceeded a million of pounds. In 1816, it had arrived at 86,234,380\n",
       "lbs. Something more than thirty millions of pounds is probably the\n",
       "present average of importation: some allowance must be made for tea\n",
       "damaged and spoiled upon the passage.--See more on this subject, well\n",
       "worthy of perusal, in Mr. Ellis's Letters, _Second Series_, vol. iv.\n",
       "pp. 57, et seq."
      ],
      "text/plain": [
       "<IPython.core.display.Markdown object>"
      ]
     },
     "metadata": {},
     "output_type": "display_data"
    },
    {
     "data": {
      "text/markdown": [
       "**The Cure of Rupture by Paraffin Injections**"
      ],
      "text/plain": [
       "<IPython.core.display.Markdown object>"
      ]
     },
     "metadata": {},
     "output_type": "display_data"
    },
    {
     "data": {
      "text/markdown": [
       "**Imperial Federation: The Problem of National Unity**"
      ],
      "text/plain": [
       "<IPython.core.display.Markdown object>"
      ]
     },
     "metadata": {},
     "output_type": "display_data"
    },
    {
     "name": "stdout",
     "output_type": "stream",
     "text": [
      "----------------------------------------------------------------------------------------------------\n",
      "n_tokens: 688\n"
     ]
    },
    {
     "data": {
      "text/markdown": [
       "To provide for the safety of industry is not Jingoism. Richard\n",
       "Cobden was not under a Jingo influence when he said that he\n",
       "would willingly vote £100,000,000 for the Navy rather than see\n",
       "it unable to fulfil its task of giving security to British\n",
       "commerce. His was rather the expression of strong English common\n",
       "sense, which faces facts and the actual conditions of life. Lord\n",
       "Rosebery is not a Jingo when he suggests that British people can\n",
       "best secure peace by 'preponderance.' The strength of a United\n",
       "Empire would be no more than equal to the increasing tasks which\n",
       "are laid upon it. The fear that Federation with the strength\n",
       "which it gave would make British people the bullies of the world\n",
       "appears absurd. If we have powerful athletic sons we do not cut\n",
       "their muscles or reduce their physique lest they should use\n",
       "their splendid strength to injury of their neighbours; rather do\n",
       "we train them to use it in noble ways--to be foremost in toil,\n",
       "to help the oppressed, to defend the defenceless, to be the\n",
       "strong arbiter between contentious disputants. So with the\n",
       "nation. Doubtless vast {46} strength, without an adequate\n",
       "controlling moral force, has in it a temptation and a danger.\n",
       "But surely the remedy lies in deepening the moral sense, not in\n",
       "limiting or diminishing the material strength of the nation."
      ],
      "text/plain": [
       "<IPython.core.display.Markdown object>"
      ]
     },
     "metadata": {},
     "output_type": "display_data"
    },
    {
     "data": {
      "text/markdown": [
       "To the Christian, the moralist, the philanthropist, no\n",
       "inspiration could be greater than that which might well spring\n",
       "from observing the growing strength of the Empire, and from\n",
       "reflection that this immense energy might be turned in\n",
       "directions which would make for the world's good. And strength\n",
       "beyond all other nations British people must have if they are to\n",
       "face in its fulness the work they have to do. As the outcome of\n",
       "that intense life which has specially characterized the last two\n",
       "hundred years they find themselves front to front with the whole\n",
       "world on every great sphere of action or field of\n",
       "responsibility. They have to face and boldly play their part in\n",
       "the large and complex problems of European politics, when the\n",
       "might of enormous armies stands ready to enforce the decisions\n",
       "of an alliance or the will of a despot. Commerce, extending to\n",
       "the remotest islands or penetrating to the heart of uncivilized\n",
       "continents, makes almost co-extensive with the globe those\n",
       "ordinary interests of British people which require protection.\n",
       "Three hundred millions of mankind, who do not share British\n",
       "blood, of various races and in various climes, acknowledge\n",
       "British sway, and look to it for guidance and protection; their\n",
       "hopes of civilization and social elevation depending {47} upon\n",
       "the justice with which it is exercised, while anarchy awaits\n",
       "them should that rule be removed. Through commerce and\n",
       "widespread territories the nation is brought into constant\n",
       "intercourse and often into the most delicate relations with\n",
       "almost every savage race on the globe, thus standing almost\n",
       "alone of European nations on that border-land where civilization\n",
       "confronts barbarism, of all positions in which a nation can be\n",
       "placed perhaps the one most weighted with responsibilities and\n",
       "most pregnant with possibilities of good and evil. To this\n",
       "position the world's history offers no parallel; beside it\n",
       "Rome's range of influence sinks into comparative insignificance."
      ],
      "text/plain": [
       "<IPython.core.display.Markdown object>"
      ]
     },
     "metadata": {},
     "output_type": "display_data"
    },
    {
     "data": {
      "text/markdown": [
       "**The Follies of Love**"
      ],
      "text/plain": [
       "<IPython.core.display.Markdown object>"
      ]
     },
     "metadata": {},
     "output_type": "display_data"
    },
    {
     "data": {
      "text/markdown": [
       "**Birds and All Nature, Vol. 7, No. 5, May 1900: Illustrated by Color Photography**"
      ],
      "text/plain": [
       "<IPython.core.display.Markdown object>"
      ]
     },
     "metadata": {},
     "output_type": "display_data"
    },
    {
     "name": "stdout",
     "output_type": "stream",
     "text": [
      "----------------------------------------------------------------------------------------------------\n",
      "n_tokens: 673\n"
     ]
    },
    {
     "data": {
      "text/markdown": [
       "The investigations of Professor Weismann have done more to solve the\n",
       "problem, \"How death came into the world\" than those of any other living\n",
       "man. It is generally assumed that death is associated with all forms\n",
       "of life, but this is not really the case. The lower forms of life,\n",
       "for example, may be said to have a perpetual existence, and not to be\n",
       "subject to death; for in unicellular reproduction life is practically\n",
       "endless. In the case of higher forms of life death is universal, and\n",
       "for a very natural reason. The aim of nature is the perpetuation of\n",
       "the species, not of the individual, and when creatures have, as in\n",
       "the case of certain insects, reproduced themselves once for all, they\n",
       "have no further need of existence. Creatures that nurse their young,\n",
       "like mammals, and produce them slowly, have need of longer life, or\n",
       "the species would speedily be exterminated; but there is no reason\n",
       "why the individual, having performed its duty in relation to the\n",
       "species, should continue to exist, since its existence then becomes\n",
       "a superfluity. Between multicellular and unicellular existence there\n",
       "is, therefore, the marked difference that, whereas the former dies\n",
       "when it has reproduced itself and so perpetuated its species, the\n",
       "latter goes on perpetually reproducing itself--one cell growing out of\n",
       "another without cessation. To Weismann we owe the knowledge of how it\n",
       "is that death intervenes when multicellular existence develops from\n",
       "unicellular. The change is effected by the differentiation of the\n",
       "individual--or somatic--and the reproductive cells. The former have\n",
       "lost the power of multiplication and reproduction, and consequently\n",
       "died, while the latter have preserved it."
      ],
      "text/plain": [
       "<IPython.core.display.Markdown object>"
      ]
     },
     "metadata": {},
     "output_type": "display_data"
    },
    {
     "data": {
      "text/markdown": [
       "The most curious of all objects in New Zealand is that which the\n",
       "Maoris call \"aweto.\" One is uncertain whether to call it an animal or a\n",
       "plant. In the first stages of its existence it is simply a caterpillar\n",
       "about three or four inches in length, and always found in connection\n",
       "with the rata tree, a kind of flowering myrtle. It appears that when\n",
       "it reaches full growth it buries itself two or three inches under\n",
       "ground, where, instead of undergoing the ordinary chrysalis process,\n",
       "it becomes gradually transformed into a plant, which exactly fills the\n",
       "body, and shoots up at the neck to a height of eight or ten inches.\n",
       "This plant resembles in appearance a diminutive bulrush; and the two,\n",
       "animal and plant, are always found inseparable. One is apt to relegate\n",
       "it to the domain of imagination, among dragons and mermaids; but\n",
       "then its existence and nature have been accepted by the late Frank\n",
       "Buckland. How it propagates its species is a mystery. One traveler,\n",
       "after describing its dual nature, calmly states that it is the grub of\n",
       "the night butterfly. If so, then the grub must also become a butterfly,\n",
       "or what becomes of the species? One would be ready to suppose that the\n",
       "grub does really so, and that some fungus finds the cast-off slough\n",
       "congenial quarters for its growth. But as far as present observation\n",
       "goes the grub never becomes a butterfly, but is changed in every case\n",
       "into a plant."
      ],
      "text/plain": [
       "<IPython.core.display.Markdown object>"
      ]
     },
     "metadata": {},
     "output_type": "display_data"
    },
    {
     "data": {
      "text/markdown": [
       "**Harper's Young People, February 8, 1881: An Illustrated Weekly**"
      ],
      "text/plain": [
       "<IPython.core.display.Markdown object>"
      ]
     },
     "metadata": {},
     "output_type": "display_data"
    },
    {
     "name": "stdout",
     "output_type": "stream",
     "text": [
      "----------------------------------------------------------------------------------------------------\n",
      "n_tokens: 578\n"
     ]
    },
    {
     "data": {
      "text/markdown": [
       "Kidd went over to London, was given a fine ship, the _Adventure_ galley,\n",
       "and came back to New York to gather his crew. He was sure of finding\n",
       "here desperate men willing to aid him in any wicked enterprise. The ship\n",
       "was soon manned, and in February, 1697, sailed out from Sandy Hook on\n",
       "its dreadful voyage. Instead of putting down piracy, Kidd became the\n",
       "most cruel and terrible of pirates. He haunted the Eastern seas,\n",
       "plundered the rich vessels of Arabia, Armenia, or Portugal, and made\n",
       "such enormous profits that even his sailors grew wealthy. But his savage\n",
       "cruelty was terrible even to his own crew. He cut the throats of his\n",
       "prisoners, or plunged them into the sea. The pirate ship was a scene of\n",
       "demoniac wickedness. One of his crew, whom he had called a dog, cried\n",
       "out, in remorse, \"Yes, I am a dog; but it is you that have made me so.\"\n",
       "Kidd, enraged, struck him dead at a blow."
      ],
      "text/plain": [
       "<IPython.core.display.Markdown object>"
      ]
     },
     "metadata": {},
     "output_type": "display_data"
    },
    {
     "data": {
      "text/markdown": [
       "Possessed of an immense fortune in gold, silver, jewels, the pirate came\n",
       "back to New York in 1699, hoping, perhaps, to purchase a pardon for all\n",
       "his crimes with the aid of his powerful friends. Once more the Adventure\n",
       "galley, or some other vessel of his fleet, sailed by the Hook, stained\n",
       "with blood and massacre, but laden with a cargo richer than any ship had\n",
       "ever brought to the quiet city before. Tradition relates that Kidd had\n",
       "his friends in the coves and bays of Long Island; that he deposited\n",
       "$200,000 in gold dust and coin on Gardiner's Island; that he buried his\n",
       "treasure on Martha's Vineyard, and lived in a cave still seen on its\n",
       "lonely shore. His ship he is supposed to have sunk near Verplanck's\n",
       "Point, on the Hudson, and here a party of persons may at times be seen\n",
       "diligently laboring to find the sunken vessel. To Mrs. Gardiner, of\n",
       "Gardiner's Island, Kidd gave a robe of cloth of gold that was long\n",
       "preserved in the family. He strove to hide from the agents of the\n",
       "government, who were in pursuit of him, but was decoyed to Boston,\n",
       "carried to England, tried for piracy, condemned, and executed. It is\n",
       "said that the first rope used to hang him broke, and he fell to the\n",
       "ground; a second was brought, and the horrible monster perished at last,\n",
       "March 23, 1701. From that time pirates were banished from the American\n",
       "ports, although they still swarmed in the West Indian seas and all the\n",
       "unfrequented parts of the ocean."
      ],
      "text/plain": [
       "<IPython.core.display.Markdown object>"
      ]
     },
     "metadata": {},
     "output_type": "display_data"
    },
    {
     "data": {
      "text/markdown": [
       "**History of the United Netherlands from the Death of William the Silent to the Twelve Year's Truce, 1602-03**"
      ],
      "text/plain": [
       "<IPython.core.display.Markdown object>"
      ]
     },
     "metadata": {},
     "output_type": "display_data"
    },
    {
     "name": "stdout",
     "output_type": "stream",
     "text": [
      "----------------------------------------------------------------------------------------------------\n",
      "n_tokens: 645\n"
     ]
    },
    {
     "data": {
      "text/markdown": [
       "\"His Excellency\" meant Maurice of Nassau, with whom formal articles of\n",
       "compact had been arranged.  It had become necessary for the archduke,\n",
       "notwithstanding the steady drain of the siege of Ostend, to detach a\n",
       "considerable army against this republic and to besiege them in their\n",
       "capital of Hoogstraaten.  With seven thousand foot and three thousand\n",
       "cavalry Frederic Van den Berg took the field against them in the latter\n",
       "part of July.  Maurice, with nine thousand five hundred infantry and\n",
       "three thousand horse, lay near Gertruydenberg.  When united with the\n",
       "rebel \"squadron,\" two thousand five hundred strong, he would dispose of\n",
       "a force of fifteen thousand veterans, and he moved at once to relieve\n",
       "the besieged mutineers.  His cousin Frederic, however, had no desire to\n",
       "measure himself with the stadholder at such odds, and stole away from\n",
       "him in the dark without beat of drum.  Maurice entered Hoogstraaten, was\n",
       "received with rapture by the Spanish and Italian veterans, and excited\n",
       "the astonishment of all by the coolness with which he entered into the\n",
       "cage of these dangerous serpents--as they called themselves--handling\n",
       "them, caressing them, and being fondled by them in return.  But the\n",
       "veterans knew a soldier when they saw one, and their hearts warmed to\n",
       "the prince--heretic though he were--more than they had ever done to the\n",
       "unfrocked bishop who, after starving them for years, had doomed them to\n",
       "destruction in this world and the next."
      ],
      "text/plain": [
       "<IPython.core.display.Markdown object>"
      ]
     },
     "metadata": {},
     "output_type": "display_data"
    },
    {
     "data": {
      "text/markdown": [
       "The stadholder was feasted and honoured by the mutineers during his brief\n",
       "visit to Hoogatraaten, and concluded with them a convention, according to\n",
       "which that town was to be restored to him, while they were to take\n",
       "temporary possession of the city of Grave.  They were likewise to assist,\n",
       "with all their strength, in his military operations until they should\n",
       "make peace on their own terms with the archduke.  For two weeks after\n",
       "such treaty they were not to fight against the States, and meantime,\n",
       "though fighting on the republican side, they were to act as an\n",
       "independent corps and in no wise to be merged in the stadholder's\n",
       "forces.  So much and no more had resulted from the archduke's\n",
       "excommunication of the best part of his army.  He had made a present\n",
       "of those troops to the enemy.  He had also been employing a considerable\n",
       "portion of his remaining forces in campaigning against their own\n",
       "comrades.  While at Grave, the mutineers, or the \"squadron\" as they were\n",
       "now called, were to be permitted to practise their own religious rites,\n",
       "without offering however, any interference with the regular Protestant\n",
       "worship of the place.  When they should give up Grave, Hoogstraaten was\n",
       "to be restored to them if still in possession of the States and they were\n",
       "to enter into no negotiations with the archduke except with full\n",
       "knowledge of the stadholder."
      ],
      "text/plain": [
       "<IPython.core.display.Markdown object>"
      ]
     },
     "metadata": {},
     "output_type": "display_data"
    },
    {
     "data": {
      "text/markdown": [
       "**A Strange Story — Volume 01**"
      ],
      "text/plain": [
       "<IPython.core.display.Markdown object>"
      ]
     },
     "metadata": {},
     "output_type": "display_data"
    },
    {
     "name": "stdout",
     "output_type": "stream",
     "text": [
      "----------------------------------------------------------------------------------------------------\n",
      "n_tokens: 751\n"
     ]
    },
    {
     "data": {
      "text/markdown": [
       "Though mild and gentle to the sufferers under my care, as a necessary\n",
       "element of professional duty, I was intolerant of contradiction from\n",
       "those who belonged to my calling, or even from those who, in general\n",
       "opinion, opposed my favourite theories.  I had espoused a school of\n",
       "medical philosophy severely rigid in its inductive logic.  My creed was\n",
       "that of stern materialism.  I had a contempt for the understanding of men\n",
       "who accepted with credulity what they could not explain by reason.  My\n",
       "favourite phrase was \"common-sense.\"  At the same time I had no prejudice\n",
       "against bold discovery, and discovery necessitates conjecture, but\n",
       "I dismissed as idle all conjecture that could not be brought to a\n",
       "practical test."
      ],
      "text/plain": [
       "<IPython.core.display.Markdown object>"
      ]
     },
     "metadata": {},
     "output_type": "display_data"
    },
    {
     "data": {
      "text/markdown": [
       "As in medicine I had been the pupil of Broussais, so in\n",
       "metaphysics I was the disciple of Condillac.  I believed with that\n",
       "philosopher that \"all our knowledge we owe to Nature; that in the\n",
       "beginning we can only instruct ourselves through her lessons; and that\n",
       "the whole art of reasoning consists in continuing as she has compelled us\n",
       "to commence.\"  Keeping natural philosophy apart from the doctrines of\n",
       "revelation, I never assailed the last; but I contended that by the first\n",
       "no accurate reasoner could arrive at the existence of the soul as a third\n",
       "principle of being equally distinct from mind and body.  That by a\n",
       "miracle man might live again, was a question of faith and not of\n",
       "understanding.  I left faith to religion, and banished it from\n",
       "philosophy.  How define with a precision to satisfy the logic of\n",
       "philosophy what was to live again?  The body?  We know that the\n",
       "body rests in its grave till by the process of decomposition its\n",
       "elemental parts enter into other forms of matter.  The mind?  But the\n",
       "mind was as clearly the result of the bodily organization as the music of\n",
       "the harpsichord is the result of the instrumental mechanism.  The mind\n",
       "shared the decrepitude of the body in extreme old age, and in the\n",
       "full vigour of youth a sudden injury to the brain might forever destroy\n",
       "the intellect of a Plato or a Shakspeare.  But the third principle,--the\n",
       "soul,--the something lodged within the body, which yet was to survive it?\n",
       "Where was that soul hidden out of the ken of the anatomist?  When\n",
       "philosophers attempted to define it, were they not compelled to confound\n",
       "its nature and its actions with those of the mind?  Could they reduce it\n",
       "to the mere moral sense, varying according to education, circumstances,\n",
       "and physical constitution?  But even the moral sense in the most virtuous\n",
       "of men may be swept away by a fever.  Such at the time I now speak of\n",
       "were the views I held,--views certainly not original nor pleasing; but I\n",
       "cherished them with as fond a tenacity as if they had been consolatory\n",
       "truths of which I was the first discoverer.  I was intolerant to those who\n",
       "maintained opposite doctrines,--despised them as irrational, or disliked\n",
       "them as insincere.  Certainly if I had fulfilled the career which my\n",
       "ambition predicted,--become the founder of a new school in pathology, and\n",
       "summed up my theories in academical lectures,--I should have added\n",
       "another authority, however feeble, to the sects which circumscribe the\n",
       "interest of man to the life that has its close in his grave."
      ],
      "text/plain": [
       "<IPython.core.display.Markdown object>"
      ]
     },
     "metadata": {},
     "output_type": "display_data"
    },
    {
     "data": {
      "text/markdown": [
       "**Confiscation; An Outline**"
      ],
      "text/plain": [
       "<IPython.core.display.Markdown object>"
      ]
     },
     "metadata": {},
     "output_type": "display_data"
    },
    {
     "data": {
      "text/markdown": [
       "**Chambers's Journal of Popular Literature, Science, and Art, No. 702: June 9, 1877**"
      ],
      "text/plain": [
       "<IPython.core.display.Markdown object>"
      ]
     },
     "metadata": {},
     "output_type": "display_data"
    },
    {
     "name": "stdout",
     "output_type": "stream",
     "text": [
      "----------------------------------------------------------------------------------------------------\n",
      "n_tokens: 1084\n"
     ]
    },
    {
     "data": {
      "text/markdown": [
       "Of course, the thing could not be done unless under a scrupulous\n",
       "system of management and general supervision. The parochial board,\n",
       "with whom rests the administration, needs to exercise the greatest\n",
       "vigilance in selecting families to whom children may be assigned.\n",
       "Agricultural labourers and small shopkeepers in country villages\n",
       "are, we believe, considered to be eligible, should character and\n",
       "everything else bear investigation. Nor, though boarded out, are\n",
       "the children lost sight of by the poor-law authorities. They are\n",
       "subject to the visits of Inspectors, who report on their condition.\n",
       "In a number of cases, the children are boarded with relatives, who\n",
       "may be supposed to take some special interest in them, and are not\n",
       "disinclined to accept a lesser board than would have to be paid\n",
       "to strangers. Yet the parochial boards do not appear to view with\n",
       "favour the practice of boarding children with relatives who are\n",
       "perhaps aged and infirm, or are in receipt of parochial relief on\n",
       "their own account. The person thoroughly suitable should be in\n",
       "middle life, engaged in active duties, and fit to act the part of\n",
       "a foster-parent. For the success of his endeavours he should be\n",
       "aided in every reasonable way. The child put under his charge must\n",
       "not wear clothes bearing the pauper stamp, but be dressed like\n",
       "the other children in the place. An Inspector reports on the good\n",
       "effects produced by the removal of pauper uniform. 'The hang-dog\n",
       "look of pauperism gradually disappeared from the faces of the\n",
       "children--they saw themselves treated as other children, and soon\n",
       "became as others.'"
      ],
      "text/plain": [
       "<IPython.core.display.Markdown object>"
      ]
     },
     "metadata": {},
     "output_type": "display_data"
    },
    {
     "data": {
      "text/markdown": [
       "In the Reports of the Inspectors generally, we have many pleasing\n",
       "instances of the social value of the boarding-out system. The\n",
       "significant fact strongly brought out is that the children do not\n",
       "return to pauperism. 'When they leave school, the boys learn trades\n",
       "or become farm-servants, and the girls go to service like other\n",
       "country girls, and many of them get respectably married. When the\n",
       "children go to service, the family relationship is still kept up,\n",
       "and they return to their foster-parents as other children do to\n",
       "their homes, bringing at term-times, when they get their wages,\n",
       "presents of tea and sugar, articles of clothing, and other tokens\n",
       "of affectionate regard.' We learn that in some cases the children\n",
       "adopt the name of the family with whom they are boarded, and as\n",
       "a rule they are not distinguishable from the younger members of\n",
       "the family. Did our space permit, many valuable particulars could\n",
       "be added. Those who take an interest in this important question\n",
       "in social economics may be referred to an able and handy digest,\n",
       "'Pauperism and the Boarding-out of Pauper Children in Scotland, by\n",
       "John Skelton, Advocate' (Blackwood and Sons, 1877). The system, it\n",
       "is to be observed, bears no resemblance to that vicious practice\n",
       "of farming-out children, which has been productive of so much\n",
       "demoralisation and infant mortality. In the boarding-out of\n",
       "pauper children as described in the work of Mr Skelton, and now\n",
       "very general in Scotland, the care that is taken in selecting\n",
       "foster-parents, and the constant supervision to which they are\n",
       "subjected, give to the system its peculiar value. Whether such\n",
       "a system would be applicable to all parts of the United Kingdom\n",
       "is perhaps doubtful. It is at any rate important to know that in\n",
       "Scotland it has been eminently successful, and is the theme of\n",
       "praise by authorities on the subject. The Inspector of the poor of\n",
       "Glasgow tells us that it has been in use in that city for upwards\n",
       "of a hundred years. How suggestive is this remarkable fact--how\n",
       "curious to find that in this as in some other valued public\n",
       "institutions, a thing may flourish and be spoken of approvingly for\n",
       "upwards of a century in one end of Great Britain, and yet be hardly\n",
       "known in another, or if known, be only treated with scepticism and\n",
       "indifference."
      ],
      "text/plain": [
       "<IPython.core.display.Markdown object>"
      ]
     },
     "metadata": {},
     "output_type": "display_data"
    },
    {
     "data": {
      "text/markdown": [
       "\n",
       "I arrived at the Grayleigh Station about seven o'clock in the\n",
       "evening, and walked slowly and enjoyably across the fields,\n",
       "altogether forgetting my dress-troubles as I watched the effects\n",
       "of the red sunset, a more than usually beautiful one. 'I must\n",
       "treat myself to just one look at the dear old beeches, in this\n",
       "light,' I murmured; forgetting fatigue and every other discomfort\n",
       "as I turned from the stile and went down the lane towards the\n",
       "woods. I was standing in mute contemplation of the sunset effects\n",
       "upon the different trees. The air was calm and still; not a leaf\n",
       "moved, as the sunlight stole amongst the majestic trees, crowning\n",
       "one, and robing another from head to foot with its red glory. I\n",
       "was accepting the rebuke with bowed head and clasped hands, when\n",
       "suddenly a sweet, low, girlish laugh--Lilian's laugh--rang out in\n",
       "the stillness, near me."
      ],
      "text/plain": [
       "<IPython.core.display.Markdown object>"
      ]
     },
     "metadata": {},
     "output_type": "display_data"
    },
    {
     "data": {
      "text/markdown": [
       "'There! I told you how it would be. I am not artist enough for\n",
       "that!'"
      ],
      "text/plain": [
       "<IPython.core.display.Markdown object>"
      ]
     },
     "metadata": {},
     "output_type": "display_data"
    },
    {
     "data": {
      "text/markdown": [
       "**The Atlantic Monthly, Volume 07, No. 42, April, 1861: A Magazine of Literature, Art, and Politics**"
      ],
      "text/plain": [
       "<IPython.core.display.Markdown object>"
      ]
     },
     "metadata": {},
     "output_type": "display_data"
    },
    {
     "name": "stdout",
     "output_type": "stream",
     "text": [
      "----------------------------------------------------------------------------------------------------\n",
      "n_tokens: 1341\n"
     ]
    },
    {
     "data": {
      "text/markdown": [
       "In collecting these early flowers, one finds or fancies singular natural\n",
       "affinities. I flatter myself with being able always to find hepatica, if\n",
       "there is any within reach, for I was brought up with it (\"Cockatoo\n",
       "he know me berry well\"); but other persons, who were brought up\n",
       "with May-flower, and remember searching for it with their almost\n",
       "baby-fingers, can find that better. The most remarkable instance\n",
       "of these natural affinities was in the case of L.T. and his double\n",
       "anemones. L. had always a gift for wild-flowers, and used often to bring\n",
       "to Cambridge the largest white anemones that ever were seen, from a\n",
       "certain special hill in Watertown; they were not only magnificent in\n",
       "size and whiteness, but had that exquisite blue on the outside of\n",
       "the petals, as if the sky had bent down in ecstasy at last over its\n",
       "darlings, and left visible kisses there. But even this success was\n",
       "not enough, and one day he came with something yet choicer. It was a\n",
       "rue-leaved anemone (_A. thalictraides_); and, if you will believe it,\n",
       "each one of the three white flowers was _double,_ not merely with that\n",
       "multiplicity of petals in the disk which is common with this species,\n",
       "but technically and horticulturally double, like the double-flowering\n",
       "almond or cherry,--the most exquisitely delicate little petals, seeming\n",
       "like lace-work. He had three specimens,--gave one to the Autocrat of\n",
       "Botany, who said it was almost or quite unexampled, and another to me.\n",
       "As the man in the fable says of the chameleon,--\"I have it yet, and can\n",
       "produce it.\""
      ],
      "text/plain": [
       "<IPython.core.display.Markdown object>"
      ]
     },
     "metadata": {},
     "output_type": "display_data"
    },
    {
     "data": {
      "text/markdown": [
       "Now comes the marvel. The next winter L. went to New York for a year,\n",
       "and wrote to me, as spring drew near, with solemn charge to visit his\n",
       "favorite haunt and find another specimen. Armed with this letter of\n",
       "introduction, I sought the spot, and tramped through and through its\n",
       "leafy corridors. Beautiful wood-anemones I found, to be sure, trembling\n",
       "on their fragile stems, deserving all their pretty names,--Wind-flower,\n",
       "Easter-flower, Pasque-flower, and homeopathic Pulsatilla; rue-leaved\n",
       "anemones I found also, rising taller and straighter and firmer in stem,\n",
       "with the whorl of leaves a little higher up on the stalk than one\n",
       "fancies it ought to be, as if there were a supposed danger that the\n",
       "flowers would lose their balance, and as if the leaves must be all ready\n",
       "to catch them. These I found, but the special wonder was not there for\n",
       "me. Then I wrote to L. that he must evidently come himself and search;\n",
       "or that, perhaps, as Sir Thomas Browne avers that \"smoke doth follow the\n",
       "fairest,\" so his little treasures had followed him towards New York.\n",
       "Judge of my surprise, when, on opening his next letter, out dropped,\n",
       "from those folds of metropolitan paper, a veritable double anemone. He\n",
       "had just been out to Hoboken, or some such place, to spend an afternoon,\n",
       "and, of course, his pets were there to meet him; and from that day to\n",
       "this, I have never heard of the thing happening to any one else."
      ],
      "text/plain": [
       "<IPython.core.display.Markdown object>"
      ]
     },
     "metadata": {},
     "output_type": "display_data"
    },
    {
     "data": {
      "text/markdown": [
       "May-Day is never allowed to pass in this community without profuse\n",
       "lamentations over the tardiness of our spring as compared with that\n",
       "of England and the poets. Yet it is very common to exaggerate this\n",
       "difference. Even so good an observer as Wilson Flagg is betrayed into\n",
       "saying that the epigaea and hepatica \"seldom make their appearance until\n",
       "after the middle of April\" in Massachusetts, and that \"it is not unusual\n",
       "for the whole month of April to pass away without producing more than\n",
       "two or three species of wild-flowers.\" But I have formerly found the\n",
       "hepatica in bloom at Mount Auburn, for three successive years, on the\n",
       "twenty-seventh of March; and last spring it was actually found, farther\n",
       "inland, where the season is later, on the seventeenth. The May-flower is\n",
       "usually as early, though the more gradual expansion of the buds renders\n",
       "it less easy to give dates. And there are nearly twenty species which I\n",
       "have noted, for five or six years together, as found before May-Day, and\n",
       "which may therefore be properly assigned to April. The list includes\n",
       "bloodroot, cowslip, houstonia, saxifrage, dandelion, chickweed,\n",
       "cinquefoil, strawberry, mouse-ear, bellwort, dog's-tooth violet, five\n",
       "species of violet proper, and two of anemone. These are all common\n",
       "flowers, and easily observed; and the catalogue might be increased by\n",
       "rare ones, as the white corydalis, the smaller yellow violet, (_V.\n",
       "rotundifolia_,) and the claytonia or spring-beauty."
      ],
      "text/plain": [
       "<IPython.core.display.Markdown object>"
      ]
     },
     "metadata": {},
     "output_type": "display_data"
    },
    {
     "data": {
      "text/markdown": [
       "But in England the crocus and the snowdrop--neither being probably an\n",
       "indigenous flower, since neither is mentioned by Chaucer--usually open\n",
       "before the first of March; indeed, the snowdrop was formerly known by\n",
       "the yet more fanciful name of \"Fair Maid of February.\" Chaucer's daisy\n",
       "comes equally early; and March brings daffodils, narcissi, violets,\n",
       "daisies, jonquils, hyacinths, and marsh-marigolds. This is altogether in\n",
       "advance of our season, so far as the flowers give evidence,--though we\n",
       "have plucked snowdrops in February. But, on the other hand, it would\n",
       "appear, that, though a larger number of birds winter in England than in\n",
       "Massachusetts, yet the return of those which migrate is actually earlier\n",
       "among us. From journals kept during sixty years in England, and an\n",
       "abstract of which is printed in Hone's \"Every-Day Book,\" it appears that\n",
       "only two birds of passage revisit England before the fifteenth of April,\n",
       "and only thirteen more before the first of May; while with us the\n",
       "song-sparrow and the bluebird appear about the first of March, and quite\n",
       "a number more by the middle of April. This is a peculiarity of the\n",
       "English spring which I have never seen explained or even mentioned."
      ],
      "text/plain": [
       "<IPython.core.display.Markdown object>"
      ]
     },
     "metadata": {},
     "output_type": "display_data"
    },
    {
     "data": {
      "text/markdown": [
       "**Willie the Waif**"
      ],
      "text/plain": [
       "<IPython.core.display.Markdown object>"
      ]
     },
     "metadata": {},
     "output_type": "display_data"
    },
    {
     "name": "stdout",
     "output_type": "stream",
     "text": [
      "----------------------------------------------------------------------------------------------------\n",
      "n_tokens: 573\n"
     ]
    },
    {
     "data": {
      "text/markdown": [
       "\"Yes,\" said Willie, beginning to cry, \"and I'm so frightened.\n",
       "'E 'it me this morning. I dunno what's the matter.  'E's been awful angry\n",
       "all day, and now 'e'll beat you.  Oh, dear! oh, dear!\""
      ],
      "text/plain": [
       "<IPython.core.display.Markdown object>"
      ]
     },
     "metadata": {},
     "output_type": "display_data"
    },
    {
     "data": {
      "text/markdown": [
       "Bob's face flushed, and he clenched his hands. For himself he didn't care,\n",
       "but he did care when anything hurt Willie.  He couldn't stand that, and he\n",
       "wouldn't.  He sat still for a moment lost in thought.  At last he sprang\n",
       "up, saying:---\"Come on, Willie, we won't go 'ome to-night, we'll find\n",
       "somewhere to sleep.  Father shan't 'it yer again.  We'll go right away.\""
      ],
      "text/plain": [
       "<IPython.core.display.Markdown object>"
      ]
     },
     "metadata": {},
     "output_type": "display_data"
    },
    {
     "data": {
      "text/markdown": [
       "Willie got up willingly.  He had implicit faith in his brother.\n",
       "Whatever Bob said or did was sure to be right.  He followed him without a\n",
       "word as Bob led the way up one street and down another, till his little\n",
       "legs began to ache.  But it didn't seem as though they could stop,\n",
       "for every time they sat down on a doorstep the policeman came and told them\n",
       "to \"Move on!\"  At last Bob turned into the park, and they sat down under a\n",
       "tree, when Willie soon fell fast asleep.  Bob laid the tired little head\n",
       "against his shoulder, and although he became cramped with sitting so long\n",
       "in one position, he would not move for fear of waking him."
      ],
      "text/plain": [
       "<IPython.core.display.Markdown object>"
      ]
     },
     "metadata": {},
     "output_type": "display_data"
    },
    {
     "data": {
      "text/markdown": [
       "As he sat there he naturally began to think.  What were they going to do?\n",
       "Whatever happened he would take care of Willie.  He would have to find\n",
       "another crossing, and Willie would have to go with him.  At any rate they\n",
       "would always be together, and nobody should hit Willie again.  He knew his\n",
       "father wouldn't come to look for them.  He would be only too glad to be rid\n",
       "of them.  Were all fathers like his? he wondered.  He didn't think so,\n",
       "because he had seen some children running along by the side of their\n",
       "father, and they even laughed and looked as though they were glad.\n",
       "_He_ laughed sometimes at some of the queer things Willie said, but he\n",
       "never laughed if his father was there.  No, they couldn't all be alike."
      ],
      "text/plain": [
       "<IPython.core.display.Markdown object>"
      ]
     },
     "metadata": {},
     "output_type": "display_data"
    },
    {
     "data": {
      "text/markdown": [
       "As he sat there thinking, it had become quite dark, and presently he heard\n",
       "the park-keeper calling, \"All out!\"  Very gently he roused the little\n",
       "sleeper, and again they trudged along, on and on, till at last they found\n",
       "themselves at Covent Garden Market, and there Bob resolve to stay for the\n",
       "night.  They crept into an empty barrel, and locked in each other's arms\n",
       "they were soon fast asleep."
      ],
      "text/plain": [
       "<IPython.core.display.Markdown object>"
      ]
     },
     "metadata": {},
     "output_type": "display_data"
    },
    {
     "data": {
      "text/markdown": [
       "**In Honour Bound: An Original Play, in One Act.: (Suggested by Scribe's Five Act Comedy, \"Une Chaine.\")**"
      ],
      "text/plain": [
       "<IPython.core.display.Markdown object>"
      ]
     },
     "metadata": {},
     "output_type": "display_data"
    },
    {
     "data": {
      "text/markdown": [
       "**The Cruise of the Catalpa: A Poem**"
      ],
      "text/plain": [
       "<IPython.core.display.Markdown object>"
      ]
     },
     "metadata": {},
     "output_type": "display_data"
    },
    {
     "data": {
      "text/markdown": [
       "**The Tyranny of Tears: A Comedy in Four Acts**"
      ],
      "text/plain": [
       "<IPython.core.display.Markdown object>"
      ]
     },
     "metadata": {},
     "output_type": "display_data"
    },
    {
     "name": "stdout",
     "output_type": "stream",
     "text": [
      "----------------------------------------------------------------------------------------------------\n",
      "n_tokens: 675\n"
     ]
    },
    {
     "data": {
      "text/markdown": [
       "\"The Tyranny of Tears,\" a comedy of the emotions, is most ingeniously\n",
       "constructed on the simplest lines; it is a triumph of the commonplace.\n",
       "Played virtually by five characters, and with but one change of scene,\n",
       "it has that specious appearance of ease which is due to dexterity of\n",
       "craftsmanship. It is refreshing, free from theatrical expedients, and\n",
       "save perhaps for the somewhat accelerated wooing in Act Four, knots\n",
       "which we are accustomed to see snipped by the scissors of an erratic\n",
       "fate are here gently untangled by the fingers of probability. The germ\n",
       "of it, a matter of fortunate selection, is a human foible so universal\n",
       "that if a man is not conscious of it in his own proper person, he has\n",
       "not failed to smile over it among his neighbors: that combination of\n",
       "fondness and egoism out of which tyranny is legitimately born. This is\n",
       "the keynote; it announces itself speedily upon the raising of the\n",
       "curtain, and it is never for a moment after obscured by those modern\n",
       "subtilties calculated to provoke discussion among the elect. The\n",
       "hearer equipped with ordinary experience finds himself listening to it\n",
       "with an acquiescent stream of running comment. He knows this alphabet.\n",
       "It spells familiar words, and they come frequently. Here are\n",
       "commonplaces which he has failed perhaps to formulate; but now they\n",
       "flash upon the inward eye with a convincing vividness. This, he sees\n",
       "at once, is a picture of pink and white tyranny, the triumph of the\n",
       "weak. Domestic life has been caught and fixed at the culmination of a\n",
       "strain: one of those dramatic moments when the cord snaps because it\n",
       "has been for a long time fraying. One party to the contract has drawn\n",
       "up a code and imposed it upon his mate. The tyrant has some piquancy;\n",
       "she disarms suspicion because, although a despot, she is masquerading\n",
       "as something else. Another sort of bully we know: the buckram female,\n",
       "loud-voiced, militant, announcing herself, like the mosquito, by a\n",
       "vicious trumpeting. Invulnerability sits on her helm; her armor clanks\n",
       "a little while she strides. But this new tyrant wears another mien.\n",
       "Behold her! a soft-cheeked, gentle-handed ministrant, who would have\n",
       "husbands happy, provided they show the chivalrous courtesy of becoming\n",
       "so in woman's way. She knows the rules of the game according as her\n",
       "sex interprets them, and it never enters her ingenuous mind that \"in\n",
       "marriage there are two ideals to be realized.\" Thus does she make her\n",
       "gentle progress, the victim beside her crowned with garlands, but yet\n",
       "a victim. She is the arch destroyer, the juggernaut in muslin."
      ],
      "text/plain": [
       "<IPython.core.display.Markdown object>"
      ]
     },
     "metadata": {},
     "output_type": "display_data"
    },
    {
     "data": {
      "text/markdown": [
       "As soon, therefore, as she is recognized, there is a great pricking-up\n",
       "of ears all over the house. Few are they whose withers are unwrung.\n",
       "Every man among them, primed with his own warfare or that of some\n",
       "defeated chum, settles down to the play, and wives follow suit with a\n",
       "guilty sense that such things are, though \"not, thank heaven! under\n",
       "roof of mine.\""
      ],
      "text/plain": [
       "<IPython.core.display.Markdown object>"
      ]
     },
     "metadata": {},
     "output_type": "display_data"
    },
    {
     "data": {
      "text/markdown": [
       "**A Ryght Profytable Treatyse Compendiously Drawen Out Of Many and Dyvers Wrytynges Of Holy Men**"
      ],
      "text/plain": [
       "<IPython.core.display.Markdown object>"
      ]
     },
     "metadata": {},
     "output_type": "display_data"
    },
    {
     "data": {
      "text/markdown": [
       "**The King Who Went on Strike**"
      ],
      "text/plain": [
       "<IPython.core.display.Markdown object>"
      ]
     },
     "metadata": {},
     "output_type": "display_data"
    },
    {
     "name": "stdout",
     "output_type": "stream",
     "text": [
      "----------------------------------------------------------------------------------------------------\n",
      "n_tokens: 509\n"
     ]
    },
    {
     "data": {
      "text/markdown": [
       "\"In your grandfather's time revolution in England was impossible, sir.\n",
       "In your father's time it was possible, but unthinkable. If your brother\n",
       "had lived, it might have remained unthinkable for years, perhaps for\n",
       "the whole of his reign.\" \"Like your father, your brother had the secret\n",
       "of arousing personal loyalty. The Prince smiled, and men and women\n",
       "loved him. For years he had been preparing himself, and consolidating\n",
       "his hold on the people, making ready for the struggle which he saw he\n",
       "must come.\" \"It is not for me to disguise from you, sir, that your\n",
       "brother's death has given a new impetus to the revolutionary movement\n",
       "in this country. A younger son, a Prince who never expected, who\n",
       "was never expected, to reign--against you, sir, the international\n",
       "revolutionary forces feel that they have their first real chance in\n",
       "England. The Internationalists, and the Communists, on the Continent,\n",
       "and the extremists amongst our own Labour leaders, are likely to effect\n",
       "a working agreement. It is necessary that we should remember, that it\n",
       "has been by such agreements, that Europe has been swept almost clear of\n",
       "Kings, from end to end.\" \"We must be prepared. We are prepared. But it\n",
       "is of vital importance that you, sir, should understand the position.\n",
       "Make no mistake, sir. They would haul down your Royal Standard, from\n",
       "the flagstaff here, sir, and run up their pitiable rag of a Red Flag,\n",
       "in its place.\""
      ],
      "text/plain": [
       "<IPython.core.display.Markdown object>"
      ]
     },
     "metadata": {},
     "output_type": "display_data"
    },
    {
     "data": {
      "text/markdown": [
       "A new understanding of the difficulties that his father had faced,\n",
       "of the heavy burden that he had borne, for so many years, without\n",
       "complaint, had come to the King, in recent weeks. More poignant\n",
       "still was the new understanding of, and the new sympathy with, his\n",
       "dead brother, the Prince, that the last few weeks had brought him.\n",
       "His father had always been remote. Between him, and his brother, the\n",
       "Prince, there had been real friendship, and familiar, easy intercourse,\n",
       "in spite of the Prince's splendid future, in spite of his own frequent\n",
       "absences at sea. But he had not known. He had not understood. With a\n",
       "sailor's contemptuous impatience in such matters, he had always turned\n",
       "an almost deaf ear to the Prince's talk of politics and parties. The\n",
       "Prince's splendid future! And he stood now, in the Prince's place."
      ],
      "text/plain": [
       "<IPython.core.display.Markdown object>"
      ]
     },
     "metadata": {},
     "output_type": "display_data"
    },
    {
     "data": {
      "text/markdown": [
       "**In the Morning**"
      ],
      "text/plain": [
       "<IPython.core.display.Markdown object>"
      ]
     },
     "metadata": {},
     "output_type": "display_data"
    },
    {
     "data": {
      "text/markdown": [
       "**Margery (Gred): A Tale Of Old Nuremberg — Volume 02**"
      ],
      "text/plain": [
       "<IPython.core.display.Markdown object>"
      ]
     },
     "metadata": {},
     "output_type": "display_data"
    },
    {
     "name": "stdout",
     "output_type": "stream",
     "text": [
      "----------------------------------------------------------------------------------------------------\n",
      "n_tokens: 567\n"
     ]
    },
    {
     "data": {
      "text/markdown": [
       "Thus I was forbidden to see Ann in my brother's chamber; nevertheless I\n",
       "had much on my heart and I could guess that she likewise was eager to\n",
       "speak with me; but when at last I was alone with her in our bed chamber,\n",
       "she had matter for speech of which I had not dreamed.  When I asked her\n",
       "what message she might desire me to give Herdegen from her, she besought\n",
       "me as I loved her not to name her at all in his presence.  This, indeed,\n",
       "amazed me not a little, inasmuch as I weened not that she knew of all the\n",
       "grief I had suffered yestereve.  But this was not so; I learnt now that\n",
       "she had marked everything, and had heard the men's light talk about the\n",
       "dashing youth whom the dark-eyed hussy had been so swift to choose from\n",
       "among them all.  I, indeed, tried to make the best of the matter, but she\n",
       "gave me to understand that, if her lover had not done himself a mischief,\n",
       "it had been her intent to question him that very day as to whether he was\n",
       "in earnest with his love-pledges, or would rather that she should give\n",
       "him back his ring and his word.  All this she spoke without a tear or a\n",
       "sigh, with steadfast purpose; and already I began, for my part, to doubt\n",
       "of the truth of her love; and I told her this plainly.  Thereupon she\n",
       "clasped me to her, and while the tears gathered and sparkled in her great\n",
       "eyes, expounded to me all the matter; and in truth it was all I should\n",
       "myself have said in her place.  She, of simple birth, would enter the\n",
       "circle of her betters on sufferance, and her new friends would, of a\n",
       "certainty, not do her more honor than her own husband.  On his manner of\n",
       "treating her therefore would depend what measure of respect she might\n",
       "look for as his wife.  And so long as their promise to marry was a\n",
       "secret, she would have him show, whether to her alone or before all the\n",
       "world, that he held her consent as of no less worth than that of the\n",
       "wealthiest and highest born heiress."
      ],
      "text/plain": [
       "<IPython.core.display.Markdown object>"
      ]
     },
     "metadata": {},
     "output_type": "display_data"
    },
    {
     "data": {
      "text/markdown": [
       "All this she spoke in hot haste while her cheeks glowed red.  I saw the\n",
       "blue veins swell on her pure brow, and can never forget the image of her\n",
       "as she raised her tearful eyes to Heaven and pressing her hands on her\n",
       "panting bosom cried: \"To go forth with him to want or death is as\n",
       "nothing!  But never will I be led into shame, not even by him.\""
      ],
      "text/plain": [
       "<IPython.core.display.Markdown object>"
      ]
     },
     "metadata": {},
     "output_type": "display_data"
    },
    {
     "data": {
      "text/markdown": [
       "**The Memoirs of Count Grammont — Volume 03**"
      ],
      "text/plain": [
       "<IPython.core.display.Markdown object>"
      ]
     },
     "metadata": {},
     "output_type": "display_data"
    },
    {
     "name": "stdout",
     "output_type": "stream",
     "text": [
      "----------------------------------------------------------------------------------------------------\n",
      "n_tokens: 519\n"
     ]
    },
    {
     "data": {
      "text/markdown": [
       "   [The Princess Royal: Mary, eldest daughter of Charles I., born\n",
       "   November 4th, 1631, married to the Prince of Orange, 2nd May, 1641,\n",
       "   who died 27th October, 1650. She arrived in England, September\n",
       "   23rd, and died of the smallpox, December 24th, 1660,-according to\n",
       "   Bishop Burnet, not much lamented. \"She had lived,\" says the author,\n",
       "   \"in her widowhood for some years with great reputation, kept a\n",
       "   decent court, and supported her brothers very liberally; and lived\n",
       "   within bounds. But her mother, who had the art of making herself\n",
       "   believe anything she had a mind to, upon a conversation with the\n",
       "   queen-mother of France, fancied the King of France might be inclined\n",
       "   to marry her. So she wrote to her to come to Paris. In order to\n",
       "   that, she made an equipage far above what she could support. So she\n",
       "   ran herself into debt, sold all her jewels, and some estates that\n",
       "   were in her power as her son's guardian; and was not only\n",
       "   disappointed of that vain expectation, but fell into some\n",
       "   misfortunes that lessened the reputation she had formerly lived in.\"\n",
       "   History of his Own Times, vol. i., p. 238. She was mother of\n",
       "   William III.]"
      ],
      "text/plain": [
       "<IPython.core.display.Markdown object>"
      ]
     },
     "metadata": {},
     "output_type": "display_data"
    },
    {
     "data": {
      "text/markdown": [
       "   [\"The Infanta, of Portugal landed in May (1662) at Portsmouth. The\n",
       "   king went thither, and was married privately by Lord Aubigny, a\n",
       "   secular priest, and almoner to the queen, according to the rites of\n",
       "   Rome, in the queen's chamber; none present but the Portuguese\n",
       "   ambassador, three more Portuguese of quality, and two or three\n",
       "   Portuguese women. What made this necessary was, that the Earl of\n",
       "   Sandwich did not marry her by proxy, as usual, before she came away.\n",
       "   How this happened, the duke knows not, nor did the chancellor know\n",
       "   of this private marriage. The queen would not be bedded, till\n",
       "   pronounced man and wife by Sheldon, bishop of London.\"--Extract 2,\n",
       "   from King James II.'s Journal.--Macpherson's State Papers, vol. i.\n",
       "   In the same collection is a curious letter from the King to Lord\n",
       "   Clarendon, giving his opinion of the queen after having seen her.]"
      ],
      "text/plain": [
       "<IPython.core.display.Markdown object>"
      ]
     },
     "metadata": {},
     "output_type": "display_data"
    },
    {
     "data": {
      "text/markdown": [
       "**Cleopatra — Volume 02**"
      ],
      "text/plain": [
       "<IPython.core.display.Markdown object>"
      ]
     },
     "metadata": {},
     "output_type": "display_data"
    },
    {
     "name": "stdout",
     "output_type": "stream",
     "text": [
      "----------------------------------------------------------------------------------------------------\n",
      "n_tokens: 845\n"
     ]
    },
    {
     "data": {
      "text/markdown": [
       "\"Eight years,\" he answered.  \"How far in the past it is, yet I have not\n",
       "forgotten a single hour!  \"Barine now earnestly entreated him to tell\n",
       "them the story of those days, but Archibius gazed thoughtfully at the\n",
       "floor for some time ere he raised his head and answered: \"Perhaps it will\n",
       "be well if you learn more of the woman for whose sake I ask a sacrifice\n",
       "at your hands.  Arius is your brother and uncle.  He stands near to\n",
       "Octavianus, for he was his intellectual guide, and I know that he reveres\n",
       "the Roman's sister, Octavia, as a goddess.  Antony is now struggling with\n",
       "Octavianus for the sovereignty of the world.  Octavia succumbed in the\n",
       "conflict against the woman of whom you desire to hear.  It is not my\n",
       "place to judge her, but I may instruct and warn.  Roman nations burn\n",
       "incense to Octavia, and, when Cleopatra's name is uttered, they veil\n",
       "their faces indignantly.  Here in Alexandria many imitate them.  Whoever\n",
       "upholds shining purity may hope to win a share of the radiance emanating\n",
       "from it.  They call Octavia the lawful wife, and Cleopatra the criminal\n",
       "who robbed her of her husband's heart.\""
      ],
      "text/plain": [
       "<IPython.core.display.Markdown object>"
      ]
     },
     "metadata": {},
     "output_type": "display_data"
    },
    {
     "data": {
      "text/markdown": [
       "\"Not I!\" exclaimed Barine eagerly.  \"How often I have heard my uncle say\n",
       "that Antony and Cleopatra were fired with the most ardent love for each\n",
       "other!  Never did the arrows of Eros pierce two hearts more deeply.  Then\n",
       "it became necessary to save the state from civil war and bloodshed.\n",
       "Antony consented to form an alliance with his rival, and, as security for\n",
       "the sincerity of the reconciliation, he gave his hand in marriage to\n",
       "Octavia, whose first husband, Marcellus, had just died--his hand, I say,\n",
       "only his hand, for his heart was captive to the Queen of Egypt.  And if\n",
       "Antony was faithless to the wife to whom statecraft had bound him, he\n",
       "kept his pledge to the other, who had an earlier, better title.  If\n",
       "Cleopatra did not give up the man to whom she had sworn fidelity forever,\n",
       "she was right--a thousand times right!  In my eyes--no matter how often\n",
       "my mother rebukes me--Cleopatra, in the eyes of the immortals, is and\n",
       "always will be Antony's real wife; the other, though on her marriage day\n",
       "no custom, no word, no stroke of the stylus, no gesture was omitted, is\n",
       "the intruder in a bond of love which rejoices the gods, however it may\n",
       "anger mortals, and--forgive me, mother--virtuous matrons.\""
      ],
      "text/plain": [
       "<IPython.core.display.Markdown object>"
      ]
     },
     "metadata": {},
     "output_type": "display_data"
    },
    {
     "data": {
      "text/markdown": [
       "Berenike had listened with blushing cheeks to her vivacious daughter; now\n",
       "with timid earnestness she interrupted: \"I know that those are the views\n",
       "of the new times; that Antony in the eyes of the Egyptians, and probably\n",
       "also according to their customs, is the rightful husband of the Queen.\n",
       "I know, too, that you are both against me.  Yet Cleopatra is in reality a\n",
       "Greek, and therefore--eternal gods!--I can sincerely pity her; but the\n",
       "marriage has been solemnized, and I cannot blame Octavia.  She rears and\n",
       "cherishes, as if they were her own, the children of her faithless husband\n",
       "and Fulvia, his first wife, who have no claim upon her.  It is more than\n",
       "human to take the stones from the path of the man who became her foe, as\n",
       "she does.  No woman In Alexandria can pray more fervently than I that\n",
       "Cleopatra and her friend may conquer Octavianus.  His cold nature, highly\n",
       "as my brother esteems him, is repellent to me.  But when I gaze at\n",
       "Octavia's beautiful, chaste, queenly, noble countenance, the mirror of\n",
       "true womanly purity--\""
      ],
      "text/plain": [
       "<IPython.core.display.Markdown object>"
      ]
     },
     "metadata": {},
     "output_type": "display_data"
    },
    {
     "data": {
      "text/markdown": [
       "**The Mirror of Literature, Amusement, and Instruction. Volume 14, No. 381, July 18, 1829**"
      ],
      "text/plain": [
       "<IPython.core.display.Markdown object>"
      ]
     },
     "metadata": {},
     "output_type": "display_data"
    },
    {
     "name": "stdout",
     "output_type": "stream",
     "text": [
      "----------------------------------------------------------------------------------------------------\n",
      "n_tokens: 1292\n"
     ]
    },
    {
     "data": {
      "text/markdown": [
       "Among so many crude and discordant opinions, I shall endeavour to\n",
       "substitute another more consistent with the true etymology of the\n",
       "word. I agree with the historian of Manchester, that the Roman\n",
       "stations were prior to the roads, and that the latter were only the\n",
       "channels of communication to the former. The stations commenced during\n",
       "the conquest of the country, and all of them were completed at the\n",
       "conclusion of it. The roads therefore could not be constructed till\n",
       "the first or second summer after the stations were established.\n",
       "Whoever has attentively observed the line or direction of the Watling\n",
       "Street, must be convinced of the truth of the foregoing observations;\n",
       "and the deviation from a straight line, which in many parts is so\n",
       "apparent, and so evidently made to enable the Romans to pass from one\n",
       "station to another, may be considered conclusive upon this point. I\n",
       "therefore have no hesitation in asserting, that the Watling Street Way\n",
       "is a Roman road, and probably planned and formed by Vespasian, the\n",
       "celebrated Roman general in Britain, who named this road in compliment\n",
       "to the emperor, _Vitellius, Vitellii Strata Via_, Watling Street Way.\n",
       "Suetonius, in his _Life of Vespasian_, says, (chapter 4,) \"_Claudio\n",
       "principe, Narcissi gratiâ, legatus in Germaniam missus est\n",
       "(Vespasianus;) inde in Britanniam translatus, tricies cum hoste\n",
       "conflixit. Duas validissimas gentes, superq viginti oppida, et insulam\n",
       "Vectam Britanniae proximam, in deditionem redegit, partim Auli Plautii\n",
       "legati, partim Claudii ipsius ductu. Quare triumphalia ornamenta, et\n",
       "in spatio brevi, duplex sacerdotium accepit, praeterea consulatum,\n",
       "quem gessit per duos novissimos anni menses.\" Or, \"In the reign of\n",
       "Claudius, by the interest of Narcissus,[2] he (Vespasian) was sent\n",
       "lieutenant general of a legion into Germany, from whence being removed\n",
       "into Britain, he engaged the enemy in thirty distinct battles, and\n",
       "subjected to the power of the Romans two very strong nations, and\n",
       "above twenty great towns, and the Isle of Wight, upon the coast of\n",
       "Britain, partly under the command of Aulus Plautius, and partly under\n",
       "that of Claudius himself. In reward for these noble services he\n",
       "received the triumphal ornaments, and in a short time after, two\n",
       "priest's offices, besides the consulship, which he held for the two\n",
       "last months of the year.\""
      ],
      "text/plain": [
       "<IPython.core.display.Markdown object>"
      ]
     },
     "metadata": {},
     "output_type": "display_data"
    },
    {
     "data": {
      "text/markdown": [
       "The same author, in his Life of Vitellius, seems to strengthen or\n",
       "rather establish the conjecture of its being the _Vitellii Strata\n",
       "Via_, for he says, (chapter 1,) \"_indicia, stirpis (Vitelliorum) diu\n",
       "mansisse, Viam Vitelliam ab Janiculo ad mare usque, item coloniam\n",
       "ejusdem nominis._\" Or, \"Some monuments of the family continued a long\n",
       "time, as the _Vitellian Way_, reaching from the Janiculum to the sea,\n",
       "and likewise a colony of that name.\" From the abovementioned extracts,\n",
       "it seems not improbable that one of the thirty battles mentioned by\n",
       "Suetonius, might have been fought during the time the Romans were\n",
       "forming this road through the Forest of Arden, which extended from\n",
       "Henley, in Warwickshire, to Market Harborough, in Leicestershire; and\n",
       "that it was called in compliment to Vitellius, the _Vitellian Way_,\n",
       "afterwards corrupted to the _Watling Way_."
      ],
      "text/plain": [
       "<IPython.core.display.Markdown object>"
      ]
     },
     "metadata": {},
     "output_type": "display_data"
    },
    {
     "data": {
      "text/markdown": [
       "This road from the Avon, which it passes at Dove Bridge, to the Anker,\n",
       "near Atherstone, forms the boundary between the counties of Leicester\n",
       "and Warwick. In the month of June, 1824, numerous skulls and bones\n",
       "were discovered in a line from the intersection of the road that leads\n",
       "from Rugby to Lutterworth, with the Watling Street to Benones or\n",
       "Bensford Bridge, the distance not being more than half a mile. These\n",
       "bones were lying about two feet below the surface of the ground. Many\n",
       "fragments of shields, spear heads, knives, and a sword,[3] placed by\n",
       "the side of a skeleton, and at one end touching a funereal urn,[4] and\n",
       "likewise several drinking cups, or small vessels, apparently formed of\n",
       "half-baked clay, with clasps both of silver and brass, were found\n",
       "within the abovementioned distance. On the contrary side of the road\n",
       "were discovered beads, glass, and amber, but neither urns,\n",
       "spear-heads, or fragments of shields; these relics, therefore,\n",
       "probably belonged to the Britons, who fell encountering the Romans, to\n",
       "prevent their forming a road through the Forest of Arden. There can be\n",
       "little doubt of a battle having been here fought, from the bones,\n",
       "urns, and tumuli discovered here and in the adjacent neighbourhood.\n",
       "\"In this parish (Church Over,\") says Dugdale, \"upon the old Roman Way,\n",
       "called Watling Strete, is to be seen a very great tumulus, which is of\n",
       "that magnitude, that it puts travellers beside the usual road,\" and a\n",
       "_Letter_ from Elias Ashmole to Sir Wm. Dugdale,[5] states, \"that about\n",
       "a mile from hence (that is from Holywell Abbey, now the site of Caves\n",
       "Inn,) there is a tumulus raised in the very middle of the high way,\n",
       "which methought was worth observing.\" This tumulus, in an ancient\n",
       "deed, is called the Pilgrim's Low. It was removed in making the\n",
       "turnpike-road from Banbury to Lutterworth, about the year 1770. In the\n",
       "plantations of Abraham Grimes, Esq., within half a mile of the site of\n",
       "the former, is another tumulus of smaller dimensions, adjoining the\n",
       "road which leads from Rugby to Lutterworth."
      ],
      "text/plain": [
       "<IPython.core.display.Markdown object>"
      ]
     },
     "metadata": {},
     "output_type": "display_data"
    }
   ],
   "source": [
    "import tiktoken\n",
    "from synthetic_data.gutenberg_parser import super_cleaner\n",
    "from IPython.display import Markdown\n",
    "\n",
    "from synthetic_data.tasks.writing import _get_chunks_gutenberg\n",
    "\n",
    "tiktoken_encoder = tiktoken.get_encoding(\"o200k_base\")\n",
    "\n",
    "for row in gutenberg_pq.sample(100).iter_rows(named=True):\n",
    "    chunks = _get_chunks_gutenberg(row, tiktoken_encoder)\n",
    "    display(Markdown(f\"**{row['title']}**\"))\n",
    "    for chunk in chunks:\n",
    "        n_tokens = sum([len(tiktoken_encoder.encode(par)) for par in chunk])\n",
    "        print(\"-\"*100)\n",
    "        print(f\"n_tokens: {n_tokens}\")\n",
    "        for par in chunk:\n",
    "            tokens = tiktoken_encoder.encode(par)\n",
    "            display(Markdown(par))\n",
    "        break\n"
   ]
  },
  {
   "cell_type": "code",
   "execution_count": null,
   "metadata": {},
   "outputs": [],
   "source": [
    "import re\n",
    "\n",
    "from synthetic_data.utils import ldictl\n",
    "from synthetic_data.tasks.writing import GutenbergBacktranslation\n",
    "first_sample = gutenberg_pq.sample(n=1)\n",
    "task = GutenbergBacktranslation()\n",
    "\n",
    "input = first_sample.to_dicts()\n",
    "formatted_out = task.format_input_conversation(ldictl(input))"
   ]
  },
  {
   "cell_type": "code",
   "execution_count": null,
   "metadata": {},
   "outputs": [],
   "source": [
    "formatted_out[0]"
   ]
  }
 ],
 "metadata": {
  "kernelspec": {
   "display_name": ".venv",
   "language": "python",
   "name": "python3"
  },
  "language_info": {
   "codemirror_mode": {
    "name": "ipython",
    "version": 3
   },
   "file_extension": ".py",
   "mimetype": "text/x-python",
   "name": "python",
   "nbconvert_exporter": "python",
   "pygments_lexer": "ipython3",
   "version": "3.11.11"
  }
 },
 "nbformat": 4,
 "nbformat_minor": 2
}
