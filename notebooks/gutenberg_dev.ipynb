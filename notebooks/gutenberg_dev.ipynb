{
 "cells": [
  {
   "cell_type": "code",
   "execution_count": null,
   "metadata": {},
   "outputs": [],
   "source": [
    "import polars as pl\n",
    "from huggingface_hub import snapshot_download\n",
    "from datasets import load_dataset\n",
    "import os\n",
    "import sys\n",
    "os.environ[\"HF_HUB_ENABLE_HF_TRANSFER\"] = \"1\"\n",
    "sys.path.append(\"..\")\n",
    "%load_ext autoreload\n",
    "%autoreload 2\n"
   ]
  },
  {
   "cell_type": "code",
   "execution_count": 6,
   "metadata": {},
   "outputs": [],
   "source": [
    "import os\n",
    "\n",
    "from synthetic_data.tasks.writing import _get_gutenberg_subset\n",
    "\n",
    "gutenberg_pq: pl.DataFrame = pl.read_parquet(\"../dataset_files/epubs.parquet\")"
   ]
  },
  {
   "cell_type": "code",
   "execution_count": null,
   "metadata": {},
   "outputs": [],
   "source": [
    "gutenberg_pq.shape"
   ]
  },
  {
   "cell_type": "code",
   "execution_count": null,
   "metadata": {},
   "outputs": [],
   "source": [
    "import tiktoken\n",
    "from synthetic_data.gutenberg_parser import super_cleaner\n",
    "from IPython.display import Markdown\n",
    "from synthetic_data.tasks.writing import GutenbergBacktranslationFromTxt\n",
    "\n",
    "tiktoken_encoder = tiktoken.get_encoding(\"o200k_base\")\n",
    "\n",
    "first_sample = gutenberg_pq.sample(n=1)\n",
    "task = GutenbergBacktranslationFromTxt()\n",
    "total = 0\n",
    "\n",
    "for row in gutenberg_pq.sample(10).iter_rows(named=True):\n",
    "    print(row.keys())\n",
    "    display(Markdown(f\"**{row['title']}**\"))\n",
    "    row_out = await task.preprocess_row(row)\n",
    "    for row in row_out:\n",
    "        n_tokens = sum([len(tiktoken_encoder.encode(par)) for par in row['text']])\n",
    "        # print(\"-\"*100)\n",
    "        # display(Markdown(row['text']))\n",
    "        # print(f\"n_tokens: {n_tokens}\")\n",
    "        total += 1\n",
    "    print(total)\n",
    "\n",
    "print(total)\n"
   ]
  },
  {
   "cell_type": "code",
   "execution_count": null,
   "metadata": {},
   "outputs": [],
   "source": [
    "import re\n",
    "from synthetic_data.utils import ldictl\n",
    "\n",
    "input = first_sample.to_dicts()\n",
    "formatted_out = task.format_input_conversation(ldictl(input))"
   ]
  },
  {
   "cell_type": "code",
   "execution_count": null,
   "metadata": {},
   "outputs": [],
   "source": [
    "formatted_out"
   ]
  }
 ],
 "metadata": {
  "kernelspec": {
   "display_name": ".venv",
   "language": "python",
   "name": "python3"
  },
  "language_info": {
   "codemirror_mode": {
    "name": "ipython",
    "version": 3
   },
   "file_extension": ".py",
   "mimetype": "text/x-python",
   "name": "python",
   "nbconvert_exporter": "python",
   "pygments_lexer": "ipython3",
   "version": "3.11.11"
  }
 },
 "nbformat": 4,
 "nbformat_minor": 2
}
