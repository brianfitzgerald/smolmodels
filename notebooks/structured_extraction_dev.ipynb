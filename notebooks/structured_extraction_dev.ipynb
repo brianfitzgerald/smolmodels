{
 "cells": [
  {
   "cell_type": "code",
   "execution_count": null,
   "metadata": {},
   "outputs": [],
   "source": [
    "import pydantic\n",
    "import sys\n",
    "from pydantic import BaseModel\n",
    "from datasets import load_dataset\n",
    "import asyncio\n",
    "import polars as pl\n",
    "from IPython.display import Markdown\n",
    "\n",
    "\n",
    "sys.path.append(\"..\")\n",
    "from synthetic_data.generation import RemoteModel, get_generation_wrapper\n",
    "\n",
    "%load_ext autoreload\n",
    "%autoreload 2\n",
    "from trl_wrapper.trainer_wrapper import TrainerWrapper, PLAYWRIGHT_CONFIG, SMOL_LM_135M\n",
    "\n",
    "dataset = load_dataset(\n",
    "    \"sam-paech/gutenberg3-generalfiction-scifi-fantasy-romance-adventure-dpo\",\n",
    "    trust_remote_code=True,\n",
    ")[\"train\"]\n",
    "dataset_pl: pl.DataFrame = dataset.to_polars()\n"
   ]
  },
  {
   "cell_type": "code",
   "execution_count": 5,
   "metadata": {},
   "outputs": [],
   "source": [
    "import tiktoken\n",
    "tiktoken_encoder = tiktoken.get_encoding(\"o200k_base\")"
   ]
  },
  {
   "cell_type": "code",
   "execution_count": null,
   "metadata": {},
   "outputs": [],
   "source": [
    "from synthetic_data.tasks import _process_gutenberg_row\n",
    "lengths = []\n",
    "for i, row in enumerate(dataset_pl.head(10).iter_rows(named=True)):\n",
    "    source = row[\"source\"]\n",
    "    display(Markdown(f\"### Sample {i} - {source}\"))\n",
    "    row_processed = _process_gutenberg_row(row,tiktoken_encoder)\n",
    "    display(Markdown(f\"#### Original ({row_processed['encoded_length']} tokens) \\n {row_processed['text']}\"))"
   ]
  }
 ],
 "metadata": {
  "kernelspec": {
   "display_name": ".venv",
   "language": "python",
   "name": "python3"
  },
  "language_info": {
   "codemirror_mode": {
    "name": "ipython",
    "version": 3
   },
   "file_extension": ".py",
   "mimetype": "text/x-python",
   "name": "python",
   "nbconvert_exporter": "python",
   "pygments_lexer": "ipython3",
   "version": "3.11.10"
  }
 },
 "nbformat": 4,
 "nbformat_minor": 2
}
