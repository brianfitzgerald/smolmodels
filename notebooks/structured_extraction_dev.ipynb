{
 "cells": [
  {
   "cell_type": "code",
   "execution_count": null,
   "metadata": {},
   "outputs": [],
   "source": [
    "import pydantic\n",
    "import sys\n",
    "from pydantic import BaseModel\n",
    "from datasets import load_dataset\n",
    "import asyncio\n",
    "import polars as pl\n",
    "from IPython.display import Markdown\n",
    "\n",
    "\n",
    "sys.path.append(\"..\")\n",
    "from synthetic_data.generation import RemoteModel, get_generation_wrapper\n",
    "\n",
    "%load_ext autoreload\n",
    "%autoreload 2\n",
    "from trl_wrapper.trainer_wrapper import TrainerWrapper, PLAYWRIGHT_CONFIG, SMOL_LM_135M\n",
    "\n",
    "dataset = load_dataset(\n",
    "    \"sam-paech/gutenberg3-generalfiction-scifi-fantasy-romance-adventure-dpo\",\n",
    "    trust_remote_code=True,\n",
    ")[\"train\"]\n",
    "dataset_pl: pl.DataFrame = dataset.to_polars()\n"
   ]
  },
  {
   "cell_type": "code",
   "execution_count": null,
   "metadata": {},
   "outputs": [],
   "source": [
    "dataset_pl.columns"
   ]
  },
  {
   "cell_type": "code",
   "execution_count": null,
   "metadata": {},
   "outputs": [],
   "source": [
    "import re\n",
    "for i, row in enumerate(dataset_pl.head(1000).gather_every(10).iter_rows(named=True)):\n",
    "    source = row[\"source\"]\n",
    "    display(Markdown(f\"### Sample {i} - {source}\"))\n",
    "    row_processed = _process_row(row)"
   ]
  },
  {
   "cell_type": "code",
   "execution_count": null,
   "metadata": {},
   "outputs": [],
   "source": []
  },
  {
   "cell_type": "code",
   "execution_count": 47,
   "metadata": {},
   "outputs": [
    {
     "name": "stderr",
     "output_type": "stream",
     "text": [
      "\u001b[32m2025-02-01 17:18:40.304\u001b[0m | \u001b[1mINFO    \u001b[0m | \u001b[36msynthetic_data.generation\u001b[0m:\u001b[36mgenerate\u001b[0m:\u001b[36m144\u001b[0m - \u001b[1mGenerating 1 requests with gpt-4o-mini, max concurrent: 8\u001b[0m\n"
     ]
    },
    {
     "name": "stdout",
     "output_type": "stream",
     "text": [
      "['{\"items\":[{\"type\":\"action\",\"content\":\"Katharine reached the study, Mrs. Hilbery had already dipped her pen in the ink.\",\"character\":\"Narrator\"},{\"type\":\"dialogue\",\"content\":\"\\\\\"Katharine,\\\\\" she said, lifting it in the air, \\\\\"I\\'ve just made out such a queer, strange thing about your grandfather. I\\'m three years and six months older than he was when he died. I couldn\\'t very well have been his mother, but I might have been his elder sister, and that seems to me such a pleasant fancy. I\\'m going to start quite fresh this morning, and get a lot done.\\\\\"\",\"character\":\"Mrs. Hilbery\"},{\"type\":\"action\",\"content\":\"Katharine sat down at her own table, untied the bundle of old letters upon which she was working, smoothed them out absent-mindedly, and began to decipher the faded script.\",\"character\":\"Narrator\"},{\"type\":\"action\",\"content\":\"She looked across at her mother, to judge her mood.\",\"character\":\"Narrator\"},{\"type\":\"action\",\"content\":\"Mrs. Hilbery was raising round her the skies and trees of the past with every stroke of her pen, and recalling the voices of the dead.\",\"character\":\"Narrator\"},{\"type\":\"dialogue\",\"content\":\"\\\\\"What could the present give, she wondered, to compare with the rich crowd of gifts bestowed by the past?\\\\\"\",\"character\":\"Narrator\"},{\"type\":\"action\",\"content\":\"Mrs. Hilbery had risen from her table, and was standing looking out of the window at a string of barges swimming up the river.\",\"character\":\"Narrator\"},{\"type\":\"dialogue\",\"content\":\"\\\\\"I really believe I\\'m bewitched! I only want three sentences, you see, something quite straightforward and commonplace, and I can\\'t find \\'em.\\\\\"\",\"character\":\"Mrs. Hilbery\"},{\"type\":\"action\",\"content\":\"She began to pace up and down the room, snatching up her duster; but she was too much annoyed to find any relief, as yet, in polishing the backs of books.\",\"character\":\"Narrator\"},{\"type\":\"dialogue\",\"content\":\"\\\\\"Besides,\\\\\" she said, giving the sheet she had written to Katharine, \\\\\"I don\\'t believe this\\'ll do. Did your grandfather ever visit the Hebrides, Katharine?\\\\\"\",\"character\":\"Mrs. Hilbery\"},{\"type\":\"dialogue\",\"content\":\"\\\\\"It\\'s very beautiful,\\\\\" she stated, \\\\\"but, you see, mother, we ought to go from point to point--\\\\\"\",\"character\":\"Katharine\"},{\"type\":\"dialogue\",\"content\":\"\\\\\"Oh, I know,\\\\\" Mrs. Hilbery exclaimed. \\\\\"And that\\'s just what I can\\'t do. Things keep coming into my head. It isn\\'t that I don\\'t know everything and feel everything (who did know him, if I didn\\'t?), but I can\\'t put it down, you see. There\\'s a kind of blind spot,\\\\\" she said, touching her forehead, \\\\\"there. And when I can\\'t sleep o\\' nights, I fancy I shall die without having done it.\\\\\"\",\"character\":\"Mrs. Hilbery\"},{\"type\":\"action\",\"content\":\"Mrs. Hilbery had emptied a portfolio containing old photographs over her table, and was looking from one to another.\",\"character\":\"Narrator\"},{\"type\":\"dialogue\",\"content\":\"\\\\\"Surely, Katharine,\\\\\" she said, \\\\\"the men were far handsomer in those days than they are now, in spite of their odious whiskers? Look at old John Graham, in his white waistcoat--look at Uncle Harley. That\\'s Peter the manservant, I suppose. Uncle John brought him back from India.\\\\\"\",\"character\":\"Mrs. Hilbery\"},{\"type\":\"action\",\"content\":\"Katharine looked at her mother, but did not stir or answer. She had suddenly become very angry, with a rage which their relationship made silent, and therefore doubly powerful and critical.\",\"character\":\"Narrator\"},{\"type\":\"action\",\"content\":\"She crossed the room instinctively, and sat on the arm of her mother\\'s chair. Mrs. Hilbery leant her head against her daughter\\'s body.\",\"character\":\"Narrator\"}]}']\n"
     ]
    }
   ],
   "source": [
    "from synthetic_data.generation import GenWrapperArgs\n",
    "from typing import List\n",
    "from enum import Enum\n",
    "import json\n",
    "\n",
    "model: str = RemoteModel.GPT_4O_MINI.value\n",
    "generation_wrapper = get_generation_wrapper(\n",
    "    model,\n",
    "    GenWrapperArgs(model_id=\"gpt-4o-mini\", response_format=Output),  # type: ignore\n",
    ")  # type: ignore\n",
    "\n",
    "sample = format_conversation_oai(_process_row(dataset_pl.head(1).to_dicts()[0]))\n",
    "\n",
    "completions = await generation_wrapper.generate([sample])\n",
    "print(completions)"
   ]
  },
  {
   "cell_type": "code",
   "execution_count": 48,
   "metadata": {},
   "outputs": [
    {
     "data": {
      "text/plain": [
       "[SceneElement(type=<SceneElementType.ACTION: 'action'>, content='Katharine reached the study, Mrs. Hilbery had already dipped her pen in the ink.', character='Narrator'),\n",
       " SceneElement(type=<SceneElementType.DIALOGUE: 'dialogue'>, content='\"Katharine,\" she said, lifting it in the air, \"I\\'ve just made out such a queer, strange thing about your grandfather. I\\'m three years and six months older than he was when he died. I couldn\\'t very well have been his mother, but I might have been his elder sister, and that seems to me such a pleasant fancy. I\\'m going to start quite fresh this morning, and get a lot done.\"', character='Mrs. Hilbery'),\n",
       " SceneElement(type=<SceneElementType.ACTION: 'action'>, content='Katharine sat down at her own table, untied the bundle of old letters upon which she was working, smoothed them out absent-mindedly, and began to decipher the faded script.', character='Narrator'),\n",
       " SceneElement(type=<SceneElementType.ACTION: 'action'>, content='She looked across at her mother, to judge her mood.', character='Narrator'),\n",
       " SceneElement(type=<SceneElementType.ACTION: 'action'>, content='Mrs. Hilbery was raising round her the skies and trees of the past with every stroke of her pen, and recalling the voices of the dead.', character='Narrator'),\n",
       " SceneElement(type=<SceneElementType.DIALOGUE: 'dialogue'>, content='\"What could the present give, she wondered, to compare with the rich crowd of gifts bestowed by the past?\"', character='Narrator'),\n",
       " SceneElement(type=<SceneElementType.ACTION: 'action'>, content='Mrs. Hilbery had risen from her table, and was standing looking out of the window at a string of barges swimming up the river.', character='Narrator'),\n",
       " SceneElement(type=<SceneElementType.DIALOGUE: 'dialogue'>, content='\"I really believe I\\'m bewitched! I only want three sentences, you see, something quite straightforward and commonplace, and I can\\'t find \\'em.\"', character='Mrs. Hilbery'),\n",
       " SceneElement(type=<SceneElementType.ACTION: 'action'>, content='She began to pace up and down the room, snatching up her duster; but she was too much annoyed to find any relief, as yet, in polishing the backs of books.', character='Narrator'),\n",
       " SceneElement(type=<SceneElementType.DIALOGUE: 'dialogue'>, content='\"Besides,\" she said, giving the sheet she had written to Katharine, \"I don\\'t believe this\\'ll do. Did your grandfather ever visit the Hebrides, Katharine?\"', character='Mrs. Hilbery'),\n",
       " SceneElement(type=<SceneElementType.DIALOGUE: 'dialogue'>, content='\"It\\'s very beautiful,\" she stated, \"but, you see, mother, we ought to go from point to point--\"', character='Katharine'),\n",
       " SceneElement(type=<SceneElementType.DIALOGUE: 'dialogue'>, content='\"Oh, I know,\" Mrs. Hilbery exclaimed. \"And that\\'s just what I can\\'t do. Things keep coming into my head. It isn\\'t that I don\\'t know everything and feel everything (who did know him, if I didn\\'t?), but I can\\'t put it down, you see. There\\'s a kind of blind spot,\" she said, touching her forehead, \"there. And when I can\\'t sleep o\\' nights, I fancy I shall die without having done it.\"', character='Mrs. Hilbery'),\n",
       " SceneElement(type=<SceneElementType.ACTION: 'action'>, content='Mrs. Hilbery had emptied a portfolio containing old photographs over her table, and was looking from one to another.', character='Narrator'),\n",
       " SceneElement(type=<SceneElementType.DIALOGUE: 'dialogue'>, content='\"Surely, Katharine,\" she said, \"the men were far handsomer in those days than they are now, in spite of their odious whiskers? Look at old John Graham, in his white waistcoat--look at Uncle Harley. That\\'s Peter the manservant, I suppose. Uncle John brought him back from India.\"', character='Mrs. Hilbery'),\n",
       " SceneElement(type=<SceneElementType.ACTION: 'action'>, content='Katharine looked at her mother, but did not stir or answer. She had suddenly become very angry, with a rage which their relationship made silent, and therefore doubly powerful and critical.', character='Narrator'),\n",
       " SceneElement(type=<SceneElementType.ACTION: 'action'>, content=\"She crossed the room instinctively, and sat on the arm of her mother's chair. Mrs. Hilbery leant her head against her daughter's body.\", character='Narrator')]"
      ]
     },
     "execution_count": 48,
     "metadata": {},
     "output_type": "execute_result"
    }
   ],
   "source": [
    "out_json = json.loads(completions[0])\n",
    "out = Output.model_validate(out_json)\n",
    "out.items"
   ]
  }
 ],
 "metadata": {
  "kernelspec": {
   "display_name": ".venv",
   "language": "python",
   "name": "python3"
  },
  "language_info": {
   "codemirror_mode": {
    "name": "ipython",
    "version": 3
   },
   "file_extension": ".py",
   "mimetype": "text/x-python",
   "name": "python",
   "nbconvert_exporter": "python",
   "pygments_lexer": "ipython3",
   "version": "3.11.10"
  }
 },
 "nbformat": 4,
 "nbformat_minor": 2
}
