{
 "cells": [
  {
   "cell_type": "code",
   "execution_count": 1,
   "metadata": {},
   "outputs": [
    {
     "name": "stderr",
     "output_type": "stream",
     "text": [
      "/home/brianf/smolmodels/.venv/lib/python3.11/site-packages/tqdm/auto.py:21: TqdmWarning: IProgress not found. Please update jupyter and ipywidgets. See https://ipywidgets.readthedocs.io/en/stable/user_install.html\n",
      "  from .autonotebook import tqdm as notebook_tqdm\n"
     ]
    }
   ],
   "source": [
    "import sys\n",
    "from datasets import load_dataset\n",
    "import polars as pl\n",
    "from IPython.display import Markdown\n",
    "import tiktoken\n",
    "sys.path.append(\"..\")\n",
    "from synthetic_data.tasks import _process_gutenberg_row\n",
    "%load_ext autoreload\n",
    "%autoreload 2"
   ]
  },
  {
   "cell_type": "code",
   "execution_count": 5,
   "metadata": {},
   "outputs": [],
   "source": [
    "dataset = load_dataset(\n",
    "    \"sam-paech/gutenberg3-generalfiction-scifi-fantasy-romance-adventure-dpo\",\n",
    "    trust_remote_code=True,\n",
    ")[\"train\"]\n",
    "dataset_pl: pl.DataFrame = dataset.to_polars()\n",
    "tiktoken_encoder = tiktoken.get_encoding(\"o200k_base\")"
   ]
  },
  {
   "cell_type": "code",
   "execution_count": null,
   "metadata": {},
   "outputs": [],
   "source": [
    "lengths = []\n",
    "for i, row in enumerate(dataset_pl.head(10).iter_rows(named=True)):\n",
    "    source = row[\"source\"]\n",
    "    display(Markdown(f\"### Sample {i} - {source}\"))\n",
    "    row_processed = _process_gutenberg_row(row,tiktoken_encoder)\n",
    "    display(Markdown(f\"#### Original ({row_processed['encoded_length']} tokens) \\n {row_processed['text']}\"))"
   ]
  },
  {
   "cell_type": "code",
   "execution_count": 2,
   "metadata": {},
   "outputs": [],
   "source": [
    "formatted_pq = pl.read_parquet(\"../screenplay_scenes_summarized_full.parquet\")"
   ]
  },
  {
   "cell_type": "code",
   "execution_count": 5,
   "metadata": {},
   "outputs": [
    {
     "data": {
      "text/plain": [
       "(10256, 9)"
      ]
     },
     "execution_count": 5,
     "metadata": {},
     "output_type": "execute_result"
    }
   ],
   "source": [
    "formatted_pq.shape"
   ]
  },
  {
   "cell_type": "code",
   "execution_count": 6,
   "metadata": {},
   "outputs": [
    {
     "data": {
      "text/markdown": [
       "SCENE_HEADING - MATOACA CITY, West Virginia, October 16, 1884"
      ],
      "text/plain": [
       "<IPython.core.display.Markdown object>"
      ]
     },
     "metadata": {},
     "output_type": "display_data"
    },
    {
     "data": {
      "text/markdown": [
       "**Narrator**: DEAREST, DEAREST MOTHER:"
      ],
      "text/plain": [
       "<IPython.core.display.Markdown object>"
      ]
     },
     "metadata": {},
     "output_type": "display_data"
    },
    {
     "data": {
      "text/markdown": [
       "*sits down to write*"
      ],
      "text/plain": [
       "<IPython.core.display.Markdown object>"
      ]
     },
     "metadata": {},
     "output_type": "display_data"
    },
    {
     "data": {
      "text/markdown": [
       "**Narrator**: We got here this morning after a dreadful trip--nine or ten hours late--and this is the first minute I've had when I could sit down and write to you."
      ],
      "text/plain": [
       "<IPython.core.display.Markdown object>"
      ]
     },
     "metadata": {},
     "output_type": "display_data"
    },
    {
     "data": {
      "text/markdown": [
       "**Narrator**: All the way on the train I was thinking of you and dear father, and longing for you so that I could hardly keep back the tears."
      ],
      "text/plain": [
       "<IPython.core.display.Markdown object>"
      ]
     },
     "metadata": {},
     "output_type": "display_data"
    },
    {
     "data": {
      "text/markdown": [
       "**Narrator**: I don't see how I can possibly stay away from you for a whole year."
      ],
      "text/plain": [
       "<IPython.core.display.Markdown object>"
      ]
     },
     "metadata": {},
     "output_type": "display_data"
    },
    {
     "data": {
      "text/markdown": [
       "**Narrator**: Oliver says he wants to take me home for Christmas if everything goes all right with us here and his work proves satisfactory to the manager."
      ],
      "text/plain": [
       "<IPython.core.display.Markdown object>"
      ]
     },
     "metadata": {},
     "output_type": "display_data"
    },
    {
     "data": {
      "text/markdown": [
       "**Narrator**: Oh, mother, he is the loveliest thing to me!"
      ],
      "text/plain": [
       "<IPython.core.display.Markdown object>"
      ]
     },
     "metadata": {},
     "output_type": "display_data"
    },
    {
     "data": {
      "text/markdown": [
       "**Narrator**: I don't believe he has thought of himself a single minute since I married him."
      ],
      "text/plain": [
       "<IPython.core.display.Markdown object>"
      ]
     },
     "metadata": {},
     "output_type": "display_data"
    },
    {
     "data": {
      "text/markdown": [
       "**Narrator**: He says the only wish he has on earth is to make me happy--and he is so careful about me that I'm afraid I'll be spoiled to death before you see me again."
      ],
      "text/plain": [
       "<IPython.core.display.Markdown object>"
      ]
     },
     "metadata": {},
     "output_type": "display_data"
    },
    {
     "data": {
      "text/markdown": [
       "**Narrator**: He says he loves the little grey dress of shot silk, with the bonnet that makes me look like a Quaker."
      ],
      "text/plain": [
       "<IPython.core.display.Markdown object>"
      ]
     },
     "metadata": {},
     "output_type": "display_data"
    },
    {
     "data": {
      "text/markdown": [
       "**Narrator**: I wish now I'd got my other hat the bonnet shape as you wanted me to do--but perhaps, after all, it will be more useful and keep in fashion longer as it is."
      ],
      "text/plain": [
       "<IPython.core.display.Markdown object>"
      ]
     },
     "metadata": {},
     "output_type": "display_data"
    },
    {
     "data": {
      "text/markdown": [
       "*takes out clothes*"
      ],
      "text/plain": [
       "<IPython.core.display.Markdown object>"
      ]
     },
     "metadata": {},
     "output_type": "display_data"
    },
    {
     "data": {
      "text/markdown": [
       "**Narrator**: When I took out my clothes this morning, while Oliver was downstairs, and remembered how you had folded and packed everything, I just sat down on the floor in the midst of them and had a good cry."
      ],
      "text/plain": [
       "<IPython.core.display.Markdown object>"
      ]
     },
     "metadata": {},
     "output_type": "display_data"
    },
    {
     "data": {
      "text/markdown": [
       "**Narrator**: I never realized how much I loved you until I got into the carriage to come away."
      ],
      "text/plain": [
       "<IPython.core.display.Markdown object>"
      ]
     },
     "metadata": {},
     "output_type": "display_data"
    },
    {
     "data": {
      "text/markdown": [
       "**Narrator**: Then I wanted to jump out and put my arms around you and tell you that you are the best and dearest mother a girl ever had."
      ],
      "text/plain": [
       "<IPython.core.display.Markdown object>"
      ]
     },
     "metadata": {},
     "output_type": "display_data"
    },
    {
     "data": {
      "text/markdown": [
       "**Narrator**: My things were so beautifully packed that there wasn't a single crease anywhere--not even in the black silk polonaise that we were so afraid would get rumpled."
      ],
      "text/plain": [
       "<IPython.core.display.Markdown object>"
      ]
     },
     "metadata": {},
     "output_type": "display_data"
    },
    {
     "data": {
      "text/markdown": [
       "**Narrator**: I don't see how on earth you folded them so smoothly."
      ],
      "text/plain": [
       "<IPython.core.display.Markdown object>"
      ]
     },
     "metadata": {},
     "output_type": "display_data"
    },
    {
     "data": {
      "text/markdown": [
       "**Narrator**: By the way, I hardly think I shall have any need of my wedding dress while I am here, so you may as well put it away at home until I come back."
      ],
      "text/plain": [
       "<IPython.core.display.Markdown object>"
      ]
     },
     "metadata": {},
     "output_type": "display_data"
    },
    {
     "data": {
      "text/markdown": [
       "**Narrator**: This place seems to be just a mining town, with very few people of our class, and those all connected with the railroad."
      ],
      "text/plain": [
       "<IPython.core.display.Markdown object>"
      ]
     },
     "metadata": {},
     "output_type": "display_data"
    },
    {
     "data": {
      "text/markdown": [
       "**Narrator**: Of course, I may be mistaken, but from my first impressions I doubt if I'll ever want to have much to do with anybody that I've seen."
      ],
      "text/plain": [
       "<IPython.core.display.Markdown object>"
      ]
     },
     "metadata": {},
     "output_type": "display_data"
    },
    {
     "data": {
      "text/markdown": [
       "**Narrator**: It doesn't make a bit of difference, of course, because I shan't be lonesome a minute with the house to look after and Oliver's clothes to attend to; and, besides, I don't think a married woman ought to make many new friends. Her husband ought to be enough for her."
      ],
      "text/plain": [
       "<IPython.core.display.Markdown object>"
      ]
     },
     "metadata": {},
     "output_type": "display_data"
    },
    {
     "data": {
      "text/markdown": [
       "**Narrator**: Mrs. Payson, the manager's wife, was here to welcome me, but I hope I shan't see very much of her, because she isn't just exactly what I should call ladylike."
      ],
      "text/plain": [
       "<IPython.core.display.Markdown object>"
      ]
     },
     "metadata": {},
     "output_type": "display_data"
    },
    {
     "data": {
      "text/markdown": [
       "**Narrator**: Of course I wouldn't breathe this to any other living soul, but I thought her entirely too free and easy in her manner, and she dresses in such very bright colours."
      ],
      "text/plain": [
       "<IPython.core.display.Markdown object>"
      ]
     },
     "metadata": {},
     "output_type": "display_data"
    },
    {
     "data": {
      "text/markdown": [
       "**Narrator**: Why, she had a red feather in her hat, and she must have been married at least fifteen years."
      ],
      "text/plain": [
       "<IPython.core.display.Markdown object>"
      ]
     },
     "metadata": {},
     "output_type": "display_data"
    },
    {
     "data": {
      "text/markdown": [
       "**Narrator**: Oliver says he doesn't believe she's a day under forty-five."
      ],
      "text/plain": [
       "<IPython.core.display.Markdown object>"
      ]
     },
     "metadata": {},
     "output_type": "display_data"
    },
    {
     "data": {
      "text/markdown": [
       "**Narrator**: He says he likes her well enough and thinks she's a good sort, but he is awfully glad that I'm not that kind of woman."
      ],
      "text/plain": [
       "<IPython.core.display.Markdown object>"
      ]
     },
     "metadata": {},
     "output_type": "display_data"
    },
    {
     "data": {
      "text/markdown": [
       "**Narrator**: I feel sorry for her husband, for I'm sure no man wants his wife to make herself conspicuous, and they say she even makes speeches when she is in the North."
      ],
      "text/plain": [
       "<IPython.core.display.Markdown object>"
      ]
     },
     "metadata": {},
     "output_type": "display_data"
    },
    {
     "data": {
      "text/markdown": [
       "**Narrator**: Maybe she isn't to blame, because she was brought up that way, but I am going to see just as little of her as I can."
      ],
      "text/plain": [
       "<IPython.core.display.Markdown object>"
      ]
     },
     "metadata": {},
     "output_type": "display_data"
    },
    {
     "data": {
      "text/markdown": [
       "**Narrator**: And now I must tell you about our house, for I know you are dying to hear how we are fixed."
      ],
      "text/plain": [
       "<IPython.core.display.Markdown object>"
      ]
     },
     "metadata": {},
     "output_type": "display_data"
    },
    {
     "data": {
      "text/markdown": [
       "**Narrator**: It's the tiniest one you ever imagined, with a front yard the size of a pocket handkerchief, and it is painted the most perfectly hideous shade of yellow--the shade father always calls bilious."
      ],
      "text/plain": [
       "<IPython.core.display.Markdown object>"
      ]
     },
     "metadata": {},
     "output_type": "display_data"
    },
    {
     "data": {
      "text/markdown": [
       "**Narrator**: I can't understand why they made it so ugly, but, then, the whole town is just as ugly as our house is."
      ],
      "text/plain": [
       "<IPython.core.display.Markdown object>"
      ]
     },
     "metadata": {},
     "output_type": "display_data"
    },
    {
     "data": {
      "text/markdown": [
       "**Narrator**: The people here don't seem to have the least bit of taste."
      ],
      "text/plain": [
       "<IPython.core.display.Markdown object>"
      ]
     },
     "metadata": {},
     "output_type": "display_data"
    },
    {
     "data": {
      "text/markdown": [
       "**Narrator**: All the porches have dreadful brown ornaments along the top of them, and they look exactly as if they were made out of gingerbread."
      ],
      "text/plain": [
       "<IPython.core.display.Markdown object>"
      ]
     },
     "metadata": {},
     "output_type": "display_data"
    },
    {
     "data": {
      "text/markdown": [
       "**Narrator**: There are very few gardens, and nobody takes any care of these."
      ],
      "text/plain": [
       "<IPython.core.display.Markdown object>"
      ]
     },
     "metadata": {},
     "output_type": "display_data"
    },
    {
     "data": {
      "text/markdown": [
       "**Narrator**: I suppose one reason is that it is almost impossible to get servants for love or money."
      ],
      "text/plain": [
       "<IPython.core.display.Markdown object>"
      ]
     },
     "metadata": {},
     "output_type": "display_data"
    },
    {
     "data": {
      "text/markdown": [
       "**Narrator**: There are hardly any darkies here, they say, and the few they have are perfectly worthless."
      ],
      "text/plain": [
       "<IPython.core.display.Markdown object>"
      ]
     },
     "metadata": {},
     "output_type": "display_data"
    },
    {
     "data": {
      "text/markdown": [
       "**Narrator**: Mrs. Midden--the woman who opened my house for me--hasn't been able to get me a cook, and we'll either have to take our meals at a boarding-house across the street, or I shall have to put to practise the lessons you gave me."
      ],
      "text/plain": [
       "<IPython.core.display.Markdown object>"
      ]
     },
     "metadata": {},
     "output_type": "display_data"
    },
    {
     "data": {
      "text/markdown": [
       "**Narrator**: I am so glad you made me learn how to housekeep and to cook, because I am certain that I shall have greater need of both of these accomplishments than of either drawing or music."
      ],
      "text/plain": [
       "<IPython.core.display.Markdown object>"
      ]
     },
     "metadata": {},
     "output_type": "display_data"
    },
    {
     "data": {
      "text/markdown": [
       "**Narrator**: Oliver was simply horrified when I told him so."
      ],
      "text/plain": [
       "<IPython.core.display.Markdown object>"
      ]
     },
     "metadata": {},
     "output_type": "display_data"
    },
    {
     "data": {
      "text/markdown": [
       "**Narrator**: He said he'd rather starve than see me in the kitchen, and he urged me to get you to send us a servant from Dinwiddie--but things are so terribly costly here--you never dreamed of such prices--that I really don't believe we can afford to have one come."
      ],
      "text/plain": [
       "<IPython.core.display.Markdown object>"
      ]
     },
     "metadata": {},
     "output_type": "display_data"
    },
    {
     "data": {
      "text/markdown": [
       "**Narrator**: Then, Mrs. Midden says that they get ruined just as soon as they are brought here."
      ],
      "text/plain": [
       "<IPython.core.display.Markdown object>"
      ]
     },
     "metadata": {},
     "output_type": "display_data"
    },
    {
     "data": {
      "text/markdown": [
       "**Narrator**: Everybody tries it at first, she told me, and it has always proved a disappointment in the end."
      ],
      "text/plain": [
       "<IPython.core.display.Markdown object>"
      ]
     },
     "metadata": {},
     "output_type": "display_data"
    },
    {
     "data": {
      "text/markdown": [
       "**Narrator**: I am perfectly sure that I shan't mind cooking at all--and as for cleaning up this little house--why, it won't take me an hour--but Oliver almost weeps every time I mention it."
      ],
      "text/plain": [
       "<IPython.core.display.Markdown object>"
      ]
     },
     "metadata": {},
     "output_type": "display_data"
    },
    {
     "data": {
      "text/markdown": [
       "**Narrator**: He is afraid every instant he is away from me that I am lonesome or something has happened to me, and whenever he has ten minutes free he runs up here to see what I am doing."
      ],
      "text/plain": [
       "<IPython.core.display.Markdown object>"
      ]
     },
     "metadata": {},
     "output_type": "display_data"
    },
    {
     "data": {
      "text/markdown": [
       "**Narrator**: Do you know he has made me promise not to go out by myself until I am used to the place. Isn't that too absurd?"
      ],
      "text/plain": [
       "<IPython.core.display.Markdown object>"
      ]
     },
     "metadata": {},
     "output_type": "display_data"
    },
    {
     "data": {
      "text/markdown": [
       "**Narrator**: Dearest mother, I must stop now, and write some notes of thanks for my presents."
      ],
      "text/plain": [
       "<IPython.core.display.Markdown object>"
      ]
     },
     "metadata": {},
     "output_type": "display_data"
    },
    {
     "data": {
      "text/markdown": [
       "**Narrator**: The barrels of china haven't come yet, but the silver box got here almost as soon as we did."
      ],
      "text/plain": [
       "<IPython.core.display.Markdown object>"
      ]
     },
     "metadata": {},
     "output_type": "display_data"
    },
    {
     "data": {
      "text/markdown": [
       "**Narrator**: Freight takes a long time, Oliver says."
      ],
      "text/plain": [
       "<IPython.core.display.Markdown object>"
      ]
     },
     "metadata": {},
     "output_type": "display_data"
    },
    {
     "data": {
      "text/markdown": [
       "**Narrator**: It will be such fun unpacking all my presents and putting them away on the shelves."
      ],
      "text/plain": [
       "<IPython.core.display.Markdown object>"
      ]
     },
     "metadata": {},
     "output_type": "display_data"
    },
    {
     "data": {
      "text/markdown": [
       "**Narrator**: I was so excited those last few days that I hardly paid any attention to the things that came."
      ],
      "text/plain": [
       "<IPython.core.display.Markdown object>"
      ]
     },
     "metadata": {},
     "output_type": "display_data"
    },
    {
     "data": {
      "text/markdown": [
       "**Narrator**: Now I shall have time really to enjoy them, and to realize how sweet and lovely everybody has been to me."
      ],
      "text/plain": [
       "<IPython.core.display.Markdown object>"
      ]
     },
     "metadata": {},
     "output_type": "display_data"
    },
    {
     "data": {
      "text/markdown": [
       "**Narrator**: Wasn't it too dear of Miss Priscilla to give me that beautiful tea-set?"
      ],
      "text/plain": [
       "<IPython.core.display.Markdown object>"
      ]
     },
     "metadata": {},
     "output_type": "display_data"
    },
    {
     "data": {
      "text/markdown": [
       "**Narrator**: And I was so touched by poor little Miss Willy spending her hard-earned money on that vase."
      ],
      "text/plain": [
       "<IPython.core.display.Markdown object>"
      ]
     },
     "metadata": {},
     "output_type": "display_data"
    },
    {
     "data": {
      "text/markdown": [
       "**Narrator**: I wish she hadn't. It makes me feel badly to think of it--but I don't see what I could do about it, do you?"
      ],
      "text/plain": [
       "<IPython.core.display.Markdown object>"
      ]
     },
     "metadata": {},
     "output_type": "display_data"
    },
    {
     "data": {
      "text/markdown": [
       "**Narrator**: I think I'll try to send her a cloak or something at Christmas."
      ],
      "text/plain": [
       "<IPython.core.display.Markdown object>"
      ]
     },
     "metadata": {},
     "output_type": "display_data"
    },
    {
     "data": {
      "text/markdown": [
       "**Narrator**: I haven't said half that I want to--but I shall keep the rest for to-morrow."
      ],
      "text/plain": [
       "<IPython.core.display.Markdown object>"
      ]
     },
     "metadata": {},
     "output_type": "display_data"
    },
    {
     "data": {
      "text/markdown": [
       "**Hippolitus**: 'You are not ignorant,' said he, throwing himself into a chair, 'of the tender sentiments which your sister Julia has inspired. I entreat you by that sacred friendship which has so long united us, to afford me an opportunity of pleading my passion. Her heart, which is so susceptible of other impressions, is, I fear, insensible to love. Procure me, however, the satisfaction of certainty upon a point where the tortures of suspence are surely the most intolerable.'"
      ],
      "text/plain": [
       "<IPython.core.display.Markdown object>"
      ]
     },
     "metadata": {},
     "output_type": "display_data"
    },
    {
     "data": {
      "text/markdown": [
       "**Ferdinand**: 'Your penetration,' replied Ferdinand, 'has for once forsaken you, else you would now be spared the tortures of which you complain, for you would have discovered what I have long observed, that Julia regards you with a partial eye.'"
      ],
      "text/plain": [
       "<IPython.core.display.Markdown object>"
      ]
     },
     "metadata": {},
     "output_type": "display_data"
    },
    {
     "data": {
      "text/markdown": [
       "**Hippolitus**: 'Do not,' said Hippolitus, 'make disappointment more terrible by flattery; neither suffer the partiality of friendship to mislead your judgment. Your perceptions are affected by the warmth of your feelings, and because you think I deserve her distinction, you believe I possess it. Alas! you deceive yourself, but not me!'"
      ],
      "text/plain": [
       "<IPython.core.display.Markdown object>"
      ]
     },
     "metadata": {},
     "output_type": "display_data"
    },
    {
     "data": {
      "text/markdown": [
       "**Ferdinand**: 'The very reverse,' replied Ferdinand; 'tis you who deceive yourself, or rather it is the delicacy of the passion which animates you, and which will ever operate against your clear perception of a truth in which your happiness is so deeply involved. Believe me, I speak not without reason:--she loves you.'"
      ],
      "text/plain": [
       "<IPython.core.display.Markdown object>"
      ]
     },
     "metadata": {},
     "output_type": "display_data"
    },
    {
     "data": {
      "text/markdown": [
       "**Hippolitus**: At these words Hippolitus started from his seat, and clasping his hands in fervent joy, 'Enchanting sounds!' cried he, in a voice tenderly impassioned; '_could_ I but believe ye!--could I _but_ believe ye-this world were paradise!'"
      ],
      "text/plain": [
       "<IPython.core.display.Markdown object>"
      ]
     },
     "metadata": {},
     "output_type": "display_data"
    },
    {
     "data": {
      "text/markdown": [
       "*During this exclamation, the emotions of Julia, who sat in her closet adjoining, can with difficulty be imagined. A door which opened into it from the apartment where this conversation was held, was only half closed. Agitated with the pleasure this declaration excited, she yet trembled with apprehension lest she should be discovered. She hardly dared to breathe, much less to move across the closet to the door, which opened upon the gallery, whence she might probably have escaped unnoticed, lest the sound of her step should betray her. Compelled, therefore, to remain where she was, she sat in a state of fearful distress, which no colour of language can paint.*"
      ],
      "text/plain": [
       "<IPython.core.display.Markdown object>"
      ]
     },
     "metadata": {},
     "output_type": "display_data"
    },
    {
     "data": {
      "text/markdown": [
       "**Hippolitus**: 'Alas!' resumed Hippolitus, 'I too eagerly admit the possibility of what I wish. If you mean that I should really believe you, confirm your assertion by some proof.'--'Readily,' rejoined Ferdinand."
      ],
      "text/plain": [
       "<IPython.core.display.Markdown object>"
      ]
     },
     "metadata": {},
     "output_type": "display_data"
    },
    {
     "data": {
      "text/markdown": [
       "*The heart of Julia beat quick.*"
      ],
      "text/plain": [
       "<IPython.core.display.Markdown object>"
      ]
     },
     "metadata": {},
     "output_type": "display_data"
    },
    {
     "data": {
      "text/markdown": [
       "**Ferdinand**: 'When you was so suddenly called to Naples upon the illness of the Marquis de Lomelli, I marked her conduct well, and in that read the sentiments of her heart. On the following morning, I observed in her countenance a restless anxiety which I had never seen before. She watched the entrance of every person with an eager expectation, which was as often succeeded by evident disappointment. At dinner your departure was mentioned:--she spilt the wine she was carrying to her lips, and for the remainder of the day was spiritless and melancholy. I saw her ineffectual struggles to conceal the oppression at her heart. Since that time she has seized every opportunity of withdrawing from company. The gaiety with which she was so lately charmed--charmed her no longer; she became pensive, retired, and I have often heard her singing in some lonely spot, the most moving and tender airs. Your return produced a visible and instantaneous alteration; she has now resumed her gaiety; and the soft confusion of her countenance, whenever you approach, might alone suffice to convince you of the truth of my assertion.'"
      ],
      "text/plain": [
       "<IPython.core.display.Markdown object>"
      ]
     },
     "metadata": {},
     "output_type": "display_data"
    },
    {
     "data": {
      "text/markdown": [
       "**Hippolitus**: 'O! talk for ever thus!' sighed Hippolitus. 'These words are so sweet, so soothing to my soul, that I could listen till I forgot I had a wish beyond them. Yes!--Ferdinand, these circumstances are not to be doubted, and conviction opens upon my mind a flow of extacy I never knew till now. O! lead me to her, that I may speak the sentiments which swell my heart.'"
      ],
      "text/plain": [
       "<IPython.core.display.Markdown object>"
      ]
     },
     "metadata": {},
     "output_type": "display_data"
    },
    {
     "data": {
      "text/markdown": [
       "*They arose, when Julia, who with difficulty had supported herself, now impelled by an irresistible fear of instant discovery, rose also, and moved softly towards the gallery. The sound of her step alarmed the count, who, apprehensive lest his conversation had been overheard, was anxious to be satisfied whether any person was in the closet. He rushed in, and discovered Julia! She caught at a chair to support her trembling frame; and overwhelmed with mortifying sensations, sunk into it, and hid her face in her robe. Hippolitus threw himself at her feet, and seizing her hand, pressed it to his lips in expressive silence. Some moments passed before the confusion of either would suffer them to speak. At length recovering his voice, '*"
      ],
      "text/plain": [
       "<IPython.core.display.Markdown object>"
      ]
     },
     "metadata": {},
     "output_type": "display_data"
    },
    {
     "data": {
      "text/markdown": [
       "*Sherlock Holmes begins by taking a clean white cloth from a drawer and laying it over the table.*"
      ],
      "text/plain": [
       "<IPython.core.display.Markdown object>"
      ]
     },
     "metadata": {},
     "output_type": "display_data"
    },
    {
     "data": {
      "text/markdown": [
       "*He places his newly acquired bust in the centre of the cloth.*"
      ],
      "text/plain": [
       "<IPython.core.display.Markdown object>"
      ]
     },
     "metadata": {},
     "output_type": "display_data"
    },
    {
     "data": {
      "text/markdown": [
       "*He picks up his hunting-crop and strikes Napoleon a sharp blow on the top of the head.*"
      ],
      "text/plain": [
       "<IPython.core.display.Markdown object>"
      ]
     },
     "metadata": {},
     "output_type": "display_data"
    },
    {
     "data": {
      "text/markdown": [
       "*The figure breaks into fragments, and Holmes bends eagerly over the shattered remains.*"
      ],
      "text/plain": [
       "<IPython.core.display.Markdown object>"
      ]
     },
     "metadata": {},
     "output_type": "display_data"
    },
    {
     "data": {
      "text/markdown": [
       "**Sherlock Holmes**: \"Gentlemen,\" he cried, \"let me introduce you to the famous black pearl of the Borgias.\""
      ],
      "text/plain": [
       "<IPython.core.display.Markdown object>"
      ]
     },
     "metadata": {},
     "output_type": "display_data"
    },
    {
     "data": {
      "text/markdown": [
       "*Lestrade and I sat silent for a moment, and then, with a spontaneous impulse, we both broke at clapping, as at the well-wrought crisis of a play.*"
      ],
      "text/plain": [
       "<IPython.core.display.Markdown object>"
      ]
     },
     "metadata": {},
     "output_type": "display_data"
    },
    {
     "data": {
      "text/markdown": [
       "*A flush of colour sprang to Holmes's pale cheeks, and he bowed to us like the master dramatist who receives the homage of his audience.*"
      ],
      "text/plain": [
       "<IPython.core.display.Markdown object>"
      ]
     },
     "metadata": {},
     "output_type": "display_data"
    },
    {
     "data": {
      "text/markdown": [
       "**Sherlock Holmes**: \"Yes, gentlemen,\" said he, \"it is the most famous pearl now existing in the world, and it has been my good fortune, by a connected chain of inductive reasoning, to trace it from the Prince of Colonna's bedroom at the Dacre Hotel, where it was lost, to the interior of this, the last of the six busts of Napoleon which were manufactured by Gelder & Co., of Stepney.\""
      ],
      "text/plain": [
       "<IPython.core.display.Markdown object>"
      ]
     },
     "metadata": {},
     "output_type": "display_data"
    },
    {
     "data": {
      "text/markdown": [
       "**Sherlock Holmes**: \"You will remember, Lestrade, the sensation caused by the disappearance of this valuable jewel and the vain efforts of the London police to recover it.\""
      ],
      "text/plain": [
       "<IPython.core.display.Markdown object>"
      ]
     },
     "metadata": {},
     "output_type": "display_data"
    },
    {
     "data": {
      "text/markdown": [
       "**Sherlock Holmes**: \"The main fact is that he HAD the pearl, and at that moment, when it was on his person, he was pursued by the police.\""
      ],
      "text/plain": [
       "<IPython.core.display.Markdown object>"
      ]
     },
     "metadata": {},
     "output_type": "display_data"
    },
    {
     "data": {
      "text/markdown": [
       "**Watson**: \"If he was his confederate, why should he carry his photograph?\" I asked."
      ],
      "text/plain": [
       "<IPython.core.display.Markdown object>"
      ]
     },
     "metadata": {},
     "output_type": "display_data"
    },
    {
     "data": {
      "text/markdown": [
       "**Sherlock Holmes**: \"As a means of tracing him, if he wished to inquire about him from any third person. That was the obvious reason.\""
      ],
      "text/plain": [
       "<IPython.core.display.Markdown object>"
      ]
     },
     "metadata": {},
     "output_type": "display_data"
    },
    {
     "data": {
      "text/markdown": [
       "**Sherlock Holmes**: \"By that time, of course, I knew for certain that it was the Borgia pearl that we were after.\""
      ],
      "text/plain": [
       "<IPython.core.display.Markdown object>"
      ]
     },
     "metadata": {},
     "output_type": "display_data"
    },
    {
     "data": {
      "text/markdown": [
       "*We sat in silence for a moment.*"
      ],
      "text/plain": [
       "<IPython.core.display.Markdown object>"
      ]
     },
     "metadata": {},
     "output_type": "display_data"
    },
    {
     "data": {
      "text/markdown": [
       "*I hung over the unhappy wretch, whose emaciated form and rueful features sufficiently bespoke that savage hands had only completed that destruction which his miseries had begun. He was mangled by the tomahawk in a shocking manner, and there was little hope that human skill could save his life.*"
      ],
      "text/plain": [
       "<IPython.core.display.Markdown object>"
      ]
     },
     "metadata": {},
     "output_type": "display_data"
    },
    {
     "data": {
      "text/markdown": [
       "*I acted without design, when, seating myself on the floor, I raised his head and placed it on my knees.*"
      ],
      "text/plain": [
       "<IPython.core.display.Markdown object>"
      ]
     },
     "metadata": {},
     "output_type": "display_data"
    },
    {
     "data": {
      "text/markdown": [
       "**None**: \"My friend, how do you feel? Can any thing be done for you?\""
      ],
      "text/plain": [
       "<IPython.core.display.Markdown object>"
      ]
     },
     "metadata": {},
     "output_type": "display_data"
    },
    {
     "data": {
      "text/markdown": [
       "**None**: \"No,\" said he; \"thy kindness, good youth, can avail me nothing. The end of my existence here is at hand. May my guilt be expiated by the miseries that I have suffered, and my good deeds only attend me to the presence of my divine Judge!"
      ],
      "text/plain": [
       "<IPython.core.display.Markdown object>"
      ]
     },
     "metadata": {},
     "output_type": "display_data"
    },
    {
     "data": {
      "text/markdown": [
       "**None**: \"I am waiting, not with trembling or dismay, for this close of my sorrows. I breathed but one prayer, and that prayer has been answered. I asked for an interview with thee, young man; but, feeling as I now feel, this interview, so much desired, was beyond my hope. Now thou art come, in due season, to hear the last words that I shall need to utter."
      ],
      "text/plain": [
       "<IPython.core.display.Markdown object>"
      ]
     },
     "metadata": {},
     "output_type": "display_data"
    },
    {
     "data": {
      "text/markdown": [
       "**None**: \"I wanted to assure thee that thy efforts for my benefit were not useless. They have saved me from murdering myself, a guilt more inexpiable than any which it was in my power to commit."
      ],
      "text/plain": [
       "<IPython.core.display.Markdown object>"
      ]
     },
     "metadata": {},
     "output_type": "display_data"
    },
    {
     "data": {
      "text/markdown": [
       "**None**: \"I retired to the innermost recess of Norwalk, and gained the summit of a hill, by subterranean paths. This hill I knew to be on all sides inaccessible to human footsteps, and the subterranean passages were closed up by stones. Here I believed my solitude exempt from interruption, and my death, in consequence of famine, sure."
      ],
      "text/plain": [
       "<IPython.core.display.Markdown object>"
      ]
     },
     "metadata": {},
     "output_type": "display_data"
    },
    {
     "data": {
      "text/markdown": [
       "**None**: \"This persuasion was not taken away by your appearance on the opposite steep. The chasm which severed us I knew to be impassable. I withdrew from your sight."
      ],
      "text/plain": [
       "<IPython.core.display.Markdown object>"
      ]
     },
     "metadata": {},
     "output_type": "display_data"
    },
    {
     "data": {
      "text/markdown": [
       "**None**: \"Some time after, awakening from a long sleep, I found victuals beside me. He that brought it was invisible. For a time, I doubted whether some messenger of heaven had not interposed for my salvation. How other than by supernatural means my retreat should be explored, I was unable to conceive. The summit was encompassed by dizzy and profound gulfs, and the subterranean passages were still closed."
      ],
      "text/plain": [
       "<IPython.core.display.Markdown object>"
      ]
     },
     "metadata": {},
     "output_type": "display_data"
    },
    {
     "data": {
      "text/markdown": [
       "**None**: \"This opinion, though corrected by subsequent reflection, tended to change the course of my desperate thoughts. My hunger, thus importunately urged, would not abstain, and I ate of the food that was provided. Henceforth I determined to live, to resume the path of obscurity and labour which I had relinquished, and wait till my God should summon me to retribution. To anticipate his call is only to redouble our guilt."
      ],
      "text/plain": [
       "<IPython.core.display.Markdown object>"
      ]
     },
     "metadata": {},
     "output_type": "display_data"
    },
    {
     "data": {
      "text/markdown": [
       "**None**: \"I designed not to return to Inglefield's service, but to choose some other and remoter district. Meanwhile, I had left in his possession a treasure, which my determination to die had rendered of no value, but which my change of resolution restored. Enclosed in a box at Inglefield's were the memoirs of Euphemia Lorimer, by which, in all my vicissitudes, I had been hitherto accompanied, and from which I consented to part only because I had refused to live. My existence was now to be prolonged, and this manuscript was once more to constitute the torment and the solace of my being."
      ],
      "text/plain": [
       "<IPython.core.display.Markdown object>"
      ]
     },
     "metadata": {},
     "output_type": "display_data"
    },
    {
     "data": {
      "text/markdown": [
       "**None**: \"I hastened to Inglefield's by night. There was no need to warn him of my purpose. I desired that my fate should be an eternal secret to my ancient master and his neighbours. The apartment containing my box was well known, and easily accessible."
      ],
      "text/plain": [
       "<IPython.core.display.Markdown object>"
      ]
     },
     "metadata": {},
     "output_type": "display_data"
    },
    {
     "data": {
      "text/markdown": [
       "**None**: \"The box was found, but broken and rifled of its treasure. My transports of astonishment, and indignation, and grief, yielded to the resumption of my fatal purpose. I hastened back to the hill, and determined anew to perish."
      ],
      "text/plain": [
       "<IPython.core.display.Markdown object>"
      ]
     },
     "metadata": {},
     "output_type": "display_data"
    },
    {
     "data": {
      "text/markdown": [
       "**None**: \"This mood continued to the evening of the ensuing day. Wandering over rocks and pits, I discovered the manuscript lying under a jutting precipice. The chance that brought it hither was not less propitious and miraculous than that by which I had been supplied with food. It produced a similar effect upon my feelings, and, while in possession of this manuscript, I was reconciled to the means of life. I left the mountain, and, traversing the wilderness, stopped in Chetasco. That kind of employment which I sought was instantly procured; but my new vocation was scarcely assumed when a band of savages invaded our security."
      ],
      "text/plain": [
       "<IPython.core.display.Markdown object>"
      ]
     },
     "metadata": {},
     "output_type": "display_data"
    },
    {
     "data": {
      "text/markdown": [
       "**None**: \"Rambling in the desert by moonlight, I encountered these foes. They rushed upon me, and, after numerous wounds, which for the present neither killed nor disabled me, they compelled me to keep pace with them in their retreat. Some hours have passed since the troop was overtaken and my liberty redeemed. Hardships, and repeated wounds, inflicted at the moment when the invaders were surprised and slain, have brought me to my present condition. I rejoice that my course is about to terminate.\""
      ],
      "text/plain": [
       "<IPython.core.display.Markdown object>"
      ]
     },
     "metadata": {},
     "output_type": "display_data"
    },
    {
     "data": {
      "text/markdown": [
       "*Here the speaker was interrupted by the tumultuous entrance of the party by whom he had been brought hither. Their astonishment at seeing me sustaining the head of the dying man may be easily conceived.*"
      ],
      "text/plain": [
       "<IPython.core.display.Markdown object>"
      ]
     },
     "metadata": {},
     "output_type": "display_data"
    },
    {
     "data": {
      "text/markdown": [
       "**Zealley**: \"You have some interest in that clock?\""
      ],
      "text/plain": [
       "<IPython.core.display.Markdown object>"
      ]
     },
     "metadata": {},
     "output_type": "display_data"
    },
    {
     "data": {
      "text/markdown": [
       "*Silently I cursed myself for letting my thoughts and eyes stray.*"
      ],
      "text/plain": [
       "<IPython.core.display.Markdown object>"
      ]
     },
     "metadata": {},
     "output_type": "display_data"
    },
    {
     "data": {
      "text/markdown": [
       "*Zealley abandoned all pretense of joviality.*"
      ],
      "text/plain": [
       "<IPython.core.display.Markdown object>"
      ]
     },
     "metadata": {},
     "output_type": "display_data"
    },
    {
     "data": {
      "text/markdown": [
       "**Zealley**: \"Now, George,\" he said to the pale-faced youth, who still stood by the door with his knife in his hand."
      ],
      "text/plain": [
       "<IPython.core.display.Markdown object>"
      ]
     },
     "metadata": {},
     "output_type": "display_data"
    },
    {
     "data": {
      "text/markdown": [
       "*The boy started toward me and I tensed, shifting my feet to face him.*"
      ],
      "text/plain": [
       "<IPython.core.display.Markdown object>"
      ]
     },
     "metadata": {},
     "output_type": "display_data"
    },
    {
     "data": {
      "text/markdown": [
       "*Something crashed against my right temple and only then did I remember Steve, the man behind me.*"
      ],
      "text/plain": [
       "<IPython.core.display.Markdown object>"
      ]
     },
     "metadata": {},
     "output_type": "display_data"
    },
    {
     "data": {
      "text/markdown": [
       "*The force of the blow knocked me sideways but not unconscious. I started to turn and a second glancing blow split the skin across my forehead. I slid off the bed on the side away from him.*"
      ],
      "text/plain": [
       "<IPython.core.display.Markdown object>"
      ]
     },
     "metadata": {},
     "output_type": "display_data"
    },
    {
     "data": {
      "text/markdown": [
       "*I retained just enough control of my faculties to get to my feet as the youth reached me and to grab him in a bear hug, but not fast enough to keep the long blade of his knife from ripping into my stomach.*"
      ],
      "text/plain": [
       "<IPython.core.display.Markdown object>"
      ]
     },
     "metadata": {},
     "output_type": "display_data"
    },
    {
     "data": {
      "text/markdown": [
       "*The symbiote, though able to repair damage, was not able to block pain. The bite of the knife clenched my muscles in a spasm of agony, and dimly I heard the youth give a grunt of distress as my arms squeezed and bent him back at the waist.*"
      ],
      "text/plain": [
       "<IPython.core.display.Markdown object>"
      ]
     },
     "metadata": {},
     "output_type": "display_data"
    },
    {
     "data": {
      "text/markdown": [
       "*Something landed on my foot--his knife. With blackness closing in, my arms lost their strength and I slid down his body.*"
      ],
      "text/plain": [
       "<IPython.core.display.Markdown object>"
      ]
     },
     "metadata": {},
     "output_type": "display_data"
    },
    {
     "data": {
      "text/markdown": [
       "*I blanked out, but only for an instant. The kid had fallen with me and my hands clutched his ankles as I fought to stay conscious.*"
      ],
      "text/plain": [
       "<IPython.core.display.Markdown object>"
      ]
     },
     "metadata": {},
     "output_type": "display_data"
    },
    {
     "data": {
      "text/markdown": [
       "*I stood up, still holding his ankles. Putting everything I had into the effort, I swung him around and sent him crashing into Steve, who was just rounding the foot of the bed. They went down together.*"
      ],
      "text/plain": [
       "<IPython.core.display.Markdown object>"
      ]
     },
     "metadata": {},
     "output_type": "display_data"
    },
    {
     "data": {
      "text/markdown": [
       "*I gasped in air, clutching the gash in my stomach with hands that were sticky and wet with blood. I turned toward Zealley. He was still seated in his chair, still smiling. One hand, resting negligently in his lap, held a snub-nosed pistol.*"
      ],
      "text/plain": [
       "<IPython.core.display.Markdown object>"
      ]
     },
     "metadata": {},
     "output_type": "display_data"
    },
    {
     "data": {
      "text/markdown": [
       "*He could have killed me any time before this, but he had wanted the fun of watching me fight for my life. He opened his mouth to say something but closed it abruptly as someone pounded at the door.*"
      ],
      "text/plain": [
       "<IPython.core.display.Markdown object>"
      ]
     },
     "metadata": {},
     "output_type": "display_data"
    },
    {
     "data": {
      "text/markdown": [
       "**None**: \"Come in!\" I shouted through the froth in my mouth."
      ],
      "text/plain": [
       "<IPython.core.display.Markdown object>"
      ]
     },
     "metadata": {},
     "output_type": "display_data"
    },
    {
     "data": {
      "text/markdown": [
       "**Zealley**: \"Damn you,\" Zealley said softly. He wiped the pistol on his trousers and slid it across the floor away from him."
      ],
      "text/plain": [
       "<IPython.core.display.Markdown object>"
      ]
     },
     "metadata": {},
     "output_type": "display_data"
    },
    {
     "data": {
      "text/markdown": [
       "*The door burst inward.*"
      ],
      "text/plain": [
       "<IPython.core.display.Markdown object>"
      ]
     },
     "metadata": {},
     "output_type": "display_data"
    },
    {
     "data": {
      "text/markdown": [
       "**None**: \"These men tried to kill me,\" I told the two police officers."
      ],
      "text/plain": [
       "<IPython.core.display.Markdown object>"
      ]
     },
     "metadata": {},
     "output_type": "display_data"
    },
    {
     "data": {
      "text/markdown": [
       "**Zealley**: \"I?\" he asked. \"I heard noise in here as I was passing in the hall. I came in to see what the trouble was.\""
      ],
      "text/plain": [
       "<IPython.core.display.Markdown object>"
      ]
     },
     "metadata": {},
     "output_type": "display_data"
    },
    {
     "data": {
      "text/markdown": [
       "**None**: \"He's lying,\" I said as the policemen turned inquiringly toward me. \"He's with them.\""
      ],
      "text/plain": [
       "<IPython.core.display.Markdown object>"
      ]
     },
     "metadata": {},
     "output_type": "display_data"
    },
    {
     "data": {
      "text/markdown": [
       "**Zealley**: \"He must be delirious--\" he began, but the evidence was all on my side."
      ],
      "text/plain": [
       "<IPython.core.display.Markdown object>"
      ]
     },
     "metadata": {},
     "output_type": "display_data"
    },
    {
     "data": {
      "text/markdown": [
       "**None**: \"Shut up!\" one of the officers said, grabbing him by the shirt front and jerking him to his feet."
      ],
      "text/plain": [
       "<IPython.core.display.Markdown object>"
      ]
     },
     "metadata": {},
     "output_type": "display_data"
    },
    {
     "data": {
      "text/markdown": [
       "*I had started dressing immediately. I wanted to hide the wound in my stomach. It burned, but I kept my face blank.*"
      ],
      "text/plain": [
       "<IPython.core.display.Markdown object>"
      ]
     },
     "metadata": {},
     "output_type": "display_data"
    },
    {
     "data": {
      "text/markdown": [
       "*Zealley was silent now. If I had been just superficially wounded, his bluff would have worked--I'd have healed right there and then. I hadn't, so he had to wait for developments. I hoped I could give him some.*"
      ],
      "text/plain": [
       "<IPython.core.display.Markdown object>"
      ]
     },
     "metadata": {},
     "output_type": "display_data"
    },
    {
     "data": {
      "text/markdown": [
       "*While one of the officers worked to revive the youth--the thug named Steve was already on his feet--I went to the bowl in the alcove and washed the blood off my hands and stomach.*"
      ],
      "text/plain": [
       "<IPython.core.display.Markdown object>"
      ]
     },
     "metadata": {},
     "output_type": "display_data"
    },
    {
     "data": {
      "text/markdown": [
       "**None**: \"Are you hurt bad?\" the policeman holding Zealley asked me."
      ],
      "text/plain": [
       "<IPython.core.display.Markdown object>"
      ]
     },
     "metadata": {},
     "output_type": "display_data"
    },
    {
     "data": {
      "text/markdown": [
       "**None**: \"Not too bad.\" I managed to keep my voice steady. \"I'll be all right until you can send an ambulance.\""
      ],
      "text/plain": [
       "<IPython.core.display.Markdown object>"
      ]
     },
     "metadata": {},
     "output_type": "display_data"
    },
    {
     "data": {
      "text/markdown": [
       "**None**: \"I don't like to leave you alone, but I can put in a call from our cruiser. The ambulance should get here within ten minutes.\""
      ],
      "text/plain": [
       "<IPython.core.display.Markdown object>"
      ]
     },
     "metadata": {},
     "output_type": "display_data"
    },
    {
     "data": {
      "text/markdown": [
       "**None**: \"I'll be OK,\" I said."
      ],
      "text/plain": [
       "<IPython.core.display.Markdown object>"
      ]
     },
     "metadata": {},
     "output_type": "display_data"
    },
    {
     "data": {
      "text/markdown": [
       "*The sound of the closing door was the only way I had to know they were gone. For the past half minute, my tight grip on the bed headboard was all that held me erect. Now the starch went out of my body and I crumpled to the floor.*"
      ],
      "text/plain": [
       "<IPython.core.display.Markdown object>"
      ]
     },
     "metadata": {},
     "output_type": "display_data"
    },
    {
     "data": {
      "text/markdown": [
       "*This time I did not blank out, but lay twisted and t*"
      ],
      "text/plain": [
       "<IPython.core.display.Markdown object>"
      ]
     },
     "metadata": {},
     "output_type": "display_data"
    },
    {
     "data": {
      "text/markdown": [
       "*The Emperor spoke into another sender, and soon the scientist entered, carrying in his hand a small instrument upon which a blue light blazed.*"
      ],
      "text/plain": [
       "<IPython.core.display.Markdown object>"
      ]
     },
     "metadata": {},
     "output_type": "display_data"
    },
    {
     "data": {
      "text/markdown": [
       "**Scientist**: \"Do not talk here, there is grave danger of being overheard by that self-styled Overlord,\" he directed tersely."
      ],
      "text/plain": [
       "<IPython.core.display.Markdown object>"
      ]
     },
     "metadata": {},
     "output_type": "display_data"
    },
    {
     "data": {
      "text/markdown": [
       "*He led the way into a ray-proof compartment of his private laboratory, several floors below.*"
      ],
      "text/plain": [
       "<IPython.core.display.Markdown object>"
      ]
     },
     "metadata": {},
     "output_type": "display_data"
    },
    {
     "data": {
      "text/markdown": [
       "**Scientist**: \"It may interest you to know that you have sealed the doom of our planet and of all the Fenachrone upon it,\" Ravindau spoke savagely."
      ],
      "text/plain": [
       "<IPython.core.display.Markdown object>"
      ]
     },
     "metadata": {},
     "output_type": "display_data"
    },
    {
     "data": {
      "text/markdown": [
       "**Fenor**: \"Dare you speak thus to me, your sovereign?\" roared Fenor."
      ],
      "text/plain": [
       "<IPython.core.display.Markdown object>"
      ]
     },
     "metadata": {},
     "output_type": "display_data"
    },
    {
     "data": {
      "text/markdown": [
       "**Scientist**: \"I dare so,\" replied the other, coldly."
      ],
      "text/plain": [
       "<IPython.core.display.Markdown object>"
      ]
     },
     "metadata": {},
     "output_type": "display_data"
    },
    {
     "data": {
      "text/markdown": [
       "**Scientist**: \"When all the civilization of a planet has been given to destruction by the unreasoning stupidity and insatiable rapacity of its royalty, allegiance to such royalty is at an end. SIT DOWN!\" he thundered as Fenor sprang to his feet."
      ],
      "text/plain": [
       "<IPython.core.display.Markdown object>"
      ]
     },
     "metadata": {},
     "output_type": "display_data"
    },
    {
     "data": {
      "text/markdown": [
       "*Fenor sprang to his feet.*"
      ],
      "text/plain": [
       "<IPython.core.display.Markdown object>"
      ]
     },
     "metadata": {},
     "output_type": "display_data"
    },
    {
     "data": {
      "text/markdown": [
       "*The general, aware now that the warning was of much more serious import than he had suspected, broke into the acrimonious debate.*"
      ],
      "text/plain": [
       "<IPython.core.display.Markdown object>"
      ]
     },
     "metadata": {},
     "output_type": "display_data"
    },
    {
     "data": {
      "text/markdown": [
       "**General**: \"Never mind questions of royalty!\" he snapped. \"The safety of the race is paramount. Am I to understand that the situation is really grave?\""
      ],
      "text/plain": [
       "<IPython.core.display.Markdown object>"
      ]
     },
     "metadata": {},
     "output_type": "display_data"
    },
    {
     "data": {
      "text/markdown": [
       "**Scientist**: \"It is worse than grave--it is desperate. The only hope for even ultimate triumph is for as many of us as possible to flee instantly clear out of the Galaxy, in the hope that we may escape the certain destruction to be dealt out to us by the Overlord of the Green System.\""
      ],
      "text/plain": [
       "<IPython.core.display.Markdown object>"
      ]
     },
     "metadata": {},
     "output_type": "display_data"
    },
    {
     "data": {
      "text/markdown": [
       "**Fenimol**: \"You speak folly, surely,\" returned Fenimol. \"Our science is--must be--superior to any other in the Universe?\""
      ],
      "text/plain": [
       "<IPython.core.display.Markdown object>"
      ]
     },
     "metadata": {},
     "output_type": "display_data"
    },
    {
     "data": {
      "text/markdown": [
       "**Scientist**: \"So thought I until this warning came in and I had an opportunity to study it. Then I knew that we are opposed by a science immeasurably higher than our own.\""
      ],
      "text/plain": [
       "<IPython.core.display.Markdown object>"
      ]
     },
     "metadata": {},
     "output_type": "display_data"
    },
    {
     "data": {
      "text/markdown": [
       "**Fenimol**: \"Such vermin as those two whom one of our smallest scouts captured without a battle, vessel and all? In what respects is their science even comparable to ours?\""
      ],
      "text/plain": [
       "<IPython.core.display.Markdown object>"
      ]
     },
     "metadata": {},
     "output_type": "display_data"
    },
    {
     "data": {
      "text/markdown": [
       "**Scientist**: \"Not those vermin, no. The one who calls himself the Overlord. That one is our master. He can penetrate the impenetrable shield of force and can operate mechanisms of pure force behind it; he can heterodyne, transmit, and use the infra-rays, of whose very existence we were in doubt until recently!\""
      ],
      "text/plain": [
       "<IPython.core.display.Markdown object>"
      ]
     },
     "metadata": {},
     "output_type": "display_data"
    },
    {
     "data": {
      "text/markdown": [
       "**Scientist**: \"While that warning was being delivered he was, in all probability, watching you and listening to you, face to face. You in your ignorance supposed his warning borne by the ether, and thought therefore he must be close to this system. He is very probably at home in the Central System, and is at this moment preparing the forces he intends to hurl against us.\""
      ],
      "text/plain": [
       "<IPython.core.display.Markdown object>"
      ]
     },
     "metadata": {},
     "output_type": "display_data"
    },
    {
     "data": {
      "text/markdown": [
       "*The Emperor fell back into his seat, all his pomposity gone, but the general stiffened eagerly and went straight to the point.*"
      ],
      "text/plain": [
       "<IPython.core.display.Markdown object>"
      ]
     },
     "metadata": {},
     "output_type": "display_data"
    },
    {
     "data": {
      "text/markdown": [
       "**General**: \"How do you know these things?\""
      ],
      "text/plain": [
       "<IPython.core.display.Markdown object>"
      ]
     },
     "metadata": {},
     "output_type": "display_data"
    },
    {
     "data": {
      "text/markdown": [
       "**Scientist**: \"Largely by deduction. We of the school of science have cautioned you repeatedly to postpone the Day of Conquest until we should have mastered the secrets of sub-rays and of infra-rays. Unheeding, you of war have gone ahead with your plans, while we of science have continued to study.\""
      ],
      "text/plain": [
       "<IPython.core.display.Markdown object>"
      ]
     },
     "metadata": {},
     "output_type": "display_data"
    },
    {
     "data": {
      "text/markdown": [
       "**Scientist**: \"We know a little of the sub-rays, which we use every day, and practically nothing of the infra-rays. Some time ago I developed a detector for infra-rays, which come to us from outer space in small quantities and which are also liberated by our power-plants. It has been regarded as a scientific curiosity only, but this day it proved of real value. This instrument in my hand is such a detector. At normal impacts of infra-rays its light is blue, as you see it now. Some time before the warning sounded it turned a brilliant red, indicating that an intense source of infra-rays was operating in the neighborhood.\""
      ],
      "text/plain": [
       "<IPython.core.display.Markdown object>"
      ]
     },
     "metadata": {},
     "output_type": "display_data"
    },
    {
     "data": {
      "text/markdown": [
       "**Scientist**: \"By plotting lines of force I located the source as being in the air of the council hall, almost directly above the table of state. Therefore the carrier wave must have come through our whole system of screens without so much as giving an alarm. That fact alone proves it to have been an infra-ray. Furthermore, it carried through those screens and released in the council room a system of forces of great complexity, as is shown by their ability to broadcast from those pure forces without material aid a modulated wave in the exact frequency required to energize our general speakers.\""
      ],
      "text/plain": [
       "<IPython.core.display.Markdown object>"
      ]
     },
     "metadata": {},
     "output_type": "display_data"
    },
    {
     "data": {
      "text/markdown": [
       "**Scientist**: \"As soon as I perceived these facts I threw about the council room a screen of force entirely impervious to anything longer than ultra-rays. The warning continued, and I then knew that our fears were only too well grounded--that there is in this Galaxy somewhere a race vastly superior to ours in science and that our destruction is a matter of hours, perhaps of minutes.\""
      ],
      "text/plain": [
       "<IPython.core.display.Markdown object>"
      ]
     },
     "metadata": {},
     "output_type": "display_data"
    },
    {
     "data": {
      "text/markdown": [
       "**General**: \"Are these ultra-rays, then, of such a dangerous character?\" asked the general. \"I had supposed them to be of such infinitely high frequency that they could be of no practical use whatever.\""
      ],
      "text/plain": [
       "<IPython.core.display.Markdown object>"
      ]
     },
     "metadata": {},
     "output_type": "display_data"
    },
    {
     "data": {
      "text/markdown": [
       "**Scientist**: \"I have been trying for years to learn something of their nature, but beyond working out a method for their detection and a method of possible analysis that may or may not succeed I can do nothing with them. It is perfectly evident, however, that they lie below the level of the ether, and therefore have a velocity of propagation infinitely greater than that of light. You may see for yourself, then, that to a science able to guide and control them, to make them act as carrier waves for any other desired frequency--to do all of which the Overlord has this day shown himself capable--they should theoretically afford weapons before which our every defense would be precisely as efficacious as so much vacuum.\""
      ],
      "text/plain": [
       "<IPython.core.display.Markdown object>"
      ]
     },
     "metadata": {},
     "output_type": "display_data"
    },
    {
     "data": {
      "text/markdown": [
       "**Scientist**: \"Think a moment! You know that we know nothing fundamental concerning even our servants, the sub-rays. If we really knew them we could utilize them in thousands of ways as yet unknown to us. We work with the merest handful of forces, empirically, while it is practically certain that the enemy has at his command the entire spectrum, visible and invisible, embracing untold thousands of bands of unknown but terrific potentiality.\""
      ],
      "text/plain": [
       "<IPython.core.display.Markdown object>"
      ]
     },
     "metadata": {},
     "output_type": "display_data"
    },
    {
     "data": {
      "text/markdown": [
       "**General**: \"But he spoke of a calculated time necessary before our answer could be received. They must, then, be using vibrations in the ether.\""
      ],
      "text/plain": [
       "<IPython.core.display.Markdown object>"
      ]
     },
     "metadata": {},
     "output_type": "display_data"
    },
    {
     "data": {
      "text/markdown": [
       "**Scientist**: \"Not necessarily--not even probably. Would we ourselves reveal unnecessarily to an enemy the possession of such rays? Do not be childish. No, Fenimol, and you, Fenor of the Fenachrone, instant and headlong flight is our only hope of present salvation and of ultimate triumph--flight to a far distant Galaxy, since upon no point in this one shall we be safe from the infra-beams of that self-styled Overlord.\""
      ],
      "text/plain": [
       "<IPython.core.display.Markdown object>"
      ]
     },
     "metadata": {},
     "output_type": "display_data"
    },
    {
     "data": {
      "text/markdown": [
       "SCENE_HEADING - INT. UKRAINE OIL COMPANY - DAY"
      ],
      "text/plain": [
       "<IPython.core.display.Markdown object>"
      ]
     },
     "metadata": {},
     "output_type": "display_data"
    },
    {
     "data": {
      "text/markdown": [
       "*The chairman of the Ukraine Oil Company looked with a little amusement at the young man who sat on the edge of a chair by the chairman's desk.*"
      ],
      "text/plain": [
       "<IPython.core.display.Markdown object>"
      ]
     },
     "metadata": {},
     "output_type": "display_data"
    },
    {
     "data": {
      "text/markdown": [
       "**Mr. Tremayne**: \"Russia is a strange country,\" said Mr. Tremayne. \"It is one of the mystery places of the world. You hear fellows coming back from China who tell you amazing stories of the idiosyncrasies of the Chink. But I can tell you, from my own personal observations, that the Chinaman is an open book in words of one syllable compared with the average Russian peasant. By the way, you speak Russian, I understand?\""
      ],
      "text/plain": [
       "<IPython.core.display.Markdown object>"
      ]
     },
     "metadata": {},
     "output_type": "display_data"
    },
    {
     "data": {
      "text/markdown": [
       "**Malcolm Hay**: \"Oh, yes, sir,\" he said, \"I have been talking Russian ever since I was sixteen, and I speak both the dialects.\""
      ],
      "text/plain": [
       "<IPython.core.display.Markdown object>"
      ]
     },
     "metadata": {},
     "output_type": "display_data"
    },
    {
     "data": {
      "text/markdown": [
       "**Mr. Tremayne**: \"Good!\" nodded Mr. Tremayne. \"Now, all that remains for you to do is to think both dialects. I was in Southern Russia attending to our wells for twenty years. In fact, long before our wells came into being, and I can honestly say that, though I am not by any means an unintelligent man, I know just as little about the Russian to-day as I did when I went there. He's the most elusive creature. You think you know him two days after you have met him. Two days later you find that you have changed all your opinions about him; and by the end of the first year, if you have kept a careful note of your observations and impressions in a diary, you will discover that you have three hundred and sixty-five different views--unless it happens to be a leap year.\""
      ],
      "text/plain": [
       "<IPython.core.display.Markdown object>"
      ]
     },
     "metadata": {},
     "output_type": "display_data"
    },
    {
     "data": {
      "text/markdown": [
       "**Malcolm Hay**: \"What happens in a leap year?\" asked the innocent Hay."
      ],
      "text/plain": [
       "<IPython.core.display.Markdown object>"
      ]
     },
     "metadata": {},
     "output_type": "display_data"
    },
    {
     "data": {
      "text/markdown": [
       "**Mr. Tremayne**: \"You have three hundred and sixty-six views,\" said the solemn Mr. Tremayne."
      ],
      "text/plain": [
       "<IPython.core.display.Markdown object>"
      ]
     },
     "metadata": {},
     "output_type": "display_data"
    },
    {
     "data": {
      "text/markdown": [
       "*He struck a bell.*"
      ],
      "text/plain": [
       "<IPython.core.display.Markdown object>"
      ]
     },
     "metadata": {},
     "output_type": "display_data"
    },
    {
     "data": {
      "text/markdown": [
       "**Mr. Tremayne**: \"We shan't want you to leave London for a week or two,\" he said, \"and in the meantime you had better study up our own special literature. We can give you particulars about the country--that part of the country in which the wells are situated--which you will not find in the guidebooks. There are also a few notable personages whom it will be advisable for you to study.\""
      ],
      "text/plain": [
       "<IPython.core.display.Markdown object>"
      ]
     },
     "metadata": {},
     "output_type": "display_data"
    },
    {
     "data": {
      "text/markdown": [
       "**Malcolm Hay**: \"I know most of them,\" said the youth with easy confidence. \"As a matter of fact, I got the British Consul to send me a local directory and swotted it.\""
      ],
      "text/plain": [
       "<IPython.core.display.Markdown object>"
      ]
     },
     "metadata": {},
     "output_type": "display_data"
    },
    {
     "data": {
      "text/markdown": [
       "*Mr. Tremayne concealed a smile.*"
      ],
      "text/plain": [
       "<IPython.core.display.Markdown object>"
      ]
     },
     "metadata": {},
     "output_type": "display_data"
    },
    {
     "data": {
      "text/markdown": [
       "**Mr. Tremayne**: \"And what did the local directory say about Israel Kensky?\" he asked innocently."
      ],
      "text/plain": [
       "<IPython.core.display.Markdown object>"
      ]
     },
     "metadata": {},
     "output_type": "display_data"
    },
    {
     "data": {
      "text/markdown": [
       "**Malcolm Hay**: \"Israel Kensky?\" said the puzzled youth. \"I don't remember that name.\""
      ],
      "text/plain": [
       "<IPython.core.display.Markdown object>"
      ]
     },
     "metadata": {},
     "output_type": "display_data"
    },
    {
     "data": {
      "text/markdown": [
       "**Mr. Tremayne**: \"It is the only name worth remembering,\" said the other dryly, \"and, by the way, you'll be able to study him in a strange environment, for he is in London at this moment.\""
      ],
      "text/plain": [
       "<IPython.core.display.Markdown object>"
      ]
     },
     "metadata": {},
     "output_type": "display_data"
    },
    {
     "data": {
      "text/markdown": [
       "*A clerk had answered the bell and stood waiting in the doorway.*"
      ],
      "text/plain": [
       "<IPython.core.display.Markdown object>"
      ]
     },
     "metadata": {},
     "output_type": "display_data"
    },
    {
     "data": {
      "text/markdown": [
       "**Mr. Tremayne**: \"Get Mr. Hay those books and pamphlets I spoke to you about,\" said Tremayne. \"And, by the way, when did M. Kensky arrive?\""
      ],
      "text/plain": [
       "<IPython.core.display.Markdown object>"
      ]
     },
     "metadata": {},
     "output_type": "display_data"
    },
    {
     "data": {
      "text/markdown": [
       "**Clerk**: \"To-day,\" said the clerk."
      ],
      "text/plain": [
       "<IPython.core.display.Markdown object>"
      ]
     },
     "metadata": {},
     "output_type": "display_data"
    },
    {
     "data": {
      "text/markdown": [
       "**Mr. Tremayne**: \"In fact,\" he said, \"London this week will be filled with people whose names are not in your precious directory, and all of whom you should know. The Yaroslavs are paying a sort of state visit.\""
      ],
      "text/plain": [
       "<IPython.core.display.Markdown object>"
      ]
     },
     "metadata": {},
     "output_type": "display_data"
    },
    {
     "data": {
      "text/markdown": [
       "**Malcolm Hay**: \"The Yaroslavs?\" repeated Hay. \"Oh, of course----\""
      ],
      "text/plain": [
       "<IPython.core.display.Markdown object>"
      ]
     },
     "metadata": {},
     "output_type": "display_data"
    },
    {
     "data": {
      "text/markdown": [
       "**Mr. Tremayne**: \"The Grand Duke and his daughter,\" added Mr. Tremayne."
      ],
      "text/plain": [
       "<IPython.core.display.Markdown object>"
      ]
     },
     "metadata": {},
     "output_type": "display_data"
    },
    {
     "data": {
      "text/markdown": [
       "**Malcolm Hay**: \"Well,\" smiled the young man, \"I'm not likely to meet the Grand Duke or the Grand Duchess. I understand the royal family of Russia is a little exclusive.\""
      ],
      "text/plain": [
       "<IPython.core.display.Markdown object>"
      ]
     },
     "metadata": {},
     "output_type": "display_data"
    },
    {
     "data": {
      "text/markdown": [
       "**Mr. Tremayne**: \"Everything is likely in Russia,\" said the optimistic Mr. Tremayne. \"If you come back in a few years' time and tell me that you've been appointed an admiral in the Russian Navy, or that you've married the Grand Duchess Irene Yaroslav, I shall not for one moment disbelieve you. At the same time, if you come back from Russia without your ears, the same having been cut off by your peasant neighbours to propitiate the ghost of a martyr who died six hundred years ago, I shall not be surprised either. That is the country you're going to--and I envy you.\""
      ],
      "text/plain": [
       "<IPython.core.display.Markdown object>"
      ]
     },
     "metadata": {},
     "output_type": "display_data"
    },
    {
     "data": {
      "text/markdown": [
       "**Malcolm Hay**: \"I'm a little surprised at myself,\" admitted Malcolm, \"it seems almost incredible. Of course, sir, I have a lot to learn and I'm not placing too much reliance upon my degree.\""
      ],
      "text/plain": [
       "<IPython.core.display.Markdown object>"
      ]
     },
     "metadata": {},
     "output_type": "display_data"
    },
    {
     "data": {
      "text/markdown": [
       "**Mr. Tremayne**: \"Your science degree?\" said Tremayne. \"It may be useful, but a divinity degree would have been better.\""
      ],
      "text/plain": [
       "<IPython.core.display.Markdown object>"
      ]
     },
     "metadata": {},
     "output_type": "display_data"
    },
    {
     "data": {
      "text/markdown": [
       "**Malcolm Hay**: \"A divinity degree?\""
      ],
      "text/plain": [
       "<IPython.core.display.Markdown object>"
      ]
     },
     "metadata": {},
     "output_type": "display_data"
    },
    {
     "data": {
      "text/markdown": [
       "**Mr. Tremayne**: Tremayne nodded. \"It is religion you want in Russia, and especially local religion. You'll have to do a mighty lot of adapting when you're out there, Hay, and I don't think you could do better than get acquainted with the local saints. You'll find that the birth or death of four or five of them are celebrated every week, and that your workmen will take a day's holiday for each commemoration. If you're not pretty smart, they'll whip in a few saints who have no existence, and you'll get no work done at all--that will do.\""
      ],
      "text/plain": [
       "<IPython.core.display.Markdown object>"
      ]
     },
     "metadata": {},
     "output_type": "display_data"
    },
    {
     "data": {
      "text/markdown": [
       "*He ended the interview with a jerk of his head, and as the young man got to his feet to go, added: \"Come back again to-morrow. I think you ought to see Kensky.\"*"
      ],
      "text/plain": [
       "<IPython.core.display.Markdown object>"
      ]
     },
     "metadata": {},
     "output_type": "display_data"
    },
    {
     "data": {
      "text/markdown": [
       "**Malcolm Hay**: \"Who is he?\" asked Hay courteously. \"A local magnate?\""
      ],
      "text/plain": [
       "<IPython.core.display.Markdown object>"
      ]
     },
     "metadata": {},
     "output_type": "display_data"
    },
    {
     "data": {
      "text/markdown": [
       "**Mr. Tremayne**: \"In a sense he is and in a sense he's not,\" said the careful Mr. Tremayne. \"He's a big man locally, and from a business point of view, I suppose he is a magnate. However, you'll be able to judge for yourself.\""
      ],
      "text/plain": [
       "<IPython.core.display.Markdown object>"
      ]
     },
     "metadata": {},
     "output_type": "display_data"
    },
    {
     "data": {
      "text/markdown": [
       "*Malcolm Hay went out into the teeming streets of London, walking on air. It was his first appointment--he was earning money, and it seemed rather like a high-class dream.*"
      ],
      "text/plain": [
       "<IPython.core.display.Markdown object>"
      ]
     },
     "metadata": {},
     "output_type": "display_data"
    },
    {
     "data": {
      "text/markdown": [
       "SCENE_HEADING - MR. SHIMERDA LAY DEAD in the barn four days, and on the fifth they buried him."
      ],
      "text/plain": [
       "<IPython.core.display.Markdown object>"
      ]
     },
     "metadata": {},
     "output_type": "display_data"
    },
    {
     "data": {
      "text/markdown": [
       "*All day Friday Jelinek was off with Ambrosch digging the grave, chopping out the frozen earth with old axes.*"
      ],
      "text/plain": [
       "<IPython.core.display.Markdown object>"
      ]
     },
     "metadata": {},
     "output_type": "display_data"
    },
    {
     "data": {
      "text/markdown": [
       "*On Saturday we breakfasted before daylight and got into the wagon with the coffin.*"
      ],
      "text/plain": [
       "<IPython.core.display.Markdown object>"
      ]
     },
     "metadata": {},
     "output_type": "display_data"
    },
    {
     "data": {
      "text/markdown": [
       "*Jake and Jelinek went ahead on horseback to cut the body loose from the pool of blood in which it was frozen fast to the ground.*"
      ],
      "text/plain": [
       "<IPython.core.display.Markdown object>"
      ]
     },
     "metadata": {},
     "output_type": "display_data"
    },
    {
     "data": {
      "text/markdown": [
       "*When grandmother and I went into the Shimerdas' house, we found the womenfolk alone; Ambrosch and Marek were at the barn.*"
      ],
      "text/plain": [
       "<IPython.core.display.Markdown object>"
      ]
     },
     "metadata": {},
     "output_type": "display_data"
    },
    {
     "data": {
      "text/markdown": [
       "*Mrs. Shimerda sat crouching by the stove, Antonia was washing dishes.*"
      ],
      "text/plain": [
       "<IPython.core.display.Markdown object>"
      ]
     },
     "metadata": {},
     "output_type": "display_data"
    },
    {
     "data": {
      "text/markdown": [
       "**Antonia**: 'Oh, Jimmy,' she sobbed, 'what you tink for my lovely papa!'"
      ],
      "text/plain": [
       "<IPython.core.display.Markdown object>"
      ]
     },
     "metadata": {},
     "output_type": "display_data"
    },
    {
     "data": {
      "text/markdown": [
       "*It seemed to me that I could feel her heart breaking as she clung to me.*"
      ],
      "text/plain": [
       "<IPython.core.display.Markdown object>"
      ]
     },
     "metadata": {},
     "output_type": "display_data"
    },
    {
     "data": {
      "text/markdown": [
       "*Mrs. Shimerda, sitting on the stump by the stove, kept looking over her shoulder toward the door while the neighbours were arriving.*"
      ],
      "text/plain": [
       "<IPython.core.display.Markdown object>"
      ]
     },
     "metadata": {},
     "output_type": "display_data"
    },
    {
     "data": {
      "text/markdown": [
       "*They came on horseback, all except the postmaster, who brought his family in a wagon over the only broken wagon-trail.*"
      ],
      "text/plain": [
       "<IPython.core.display.Markdown object>"
      ]
     },
     "metadata": {},
     "output_type": "display_data"
    },
    {
     "data": {
      "text/markdown": [
       "*The Widow Steavens rode up from her farm eight miles down the Black Hawk road.*"
      ],
      "text/plain": [
       "<IPython.core.display.Markdown object>"
      ]
     },
     "metadata": {},
     "output_type": "display_data"
    },
    {
     "data": {
      "text/markdown": [
       "*The cold drove the women into the cave-house, and it was soon crowded.*"
      ],
      "text/plain": [
       "<IPython.core.display.Markdown object>"
      ]
     },
     "metadata": {},
     "output_type": "display_data"
    },
    {
     "data": {
      "text/markdown": [
       "*A fine, sleety snow was beginning to fall, and everyone was afraid of another storm and anxious to have the burial over with.*"
      ],
      "text/plain": [
       "<IPython.core.display.Markdown object>"
      ]
     },
     "metadata": {},
     "output_type": "display_data"
    },
    {
     "data": {
      "text/markdown": [
       "*Grandfather and Jelinek came to tell Mrs. Shimerda that it was time to start.*"
      ],
      "text/plain": [
       "<IPython.core.display.Markdown object>"
      ]
     },
     "metadata": {},
     "output_type": "display_data"
    },
    {
     "data": {
      "text/markdown": [
       "*After bundling her mother up in clothes the neighbours had brought, Antonia put on an old cape from our house and the rabbit-skin hat her father had made for her.*"
      ],
      "text/plain": [
       "<IPython.core.display.Markdown object>"
      ]
     },
     "metadata": {},
     "output_type": "display_data"
    },
    {
     "data": {
      "text/markdown": [
       "*Four men carried Mr. Shimerda's box up the hill; Krajiek slunk along behind them.*"
      ],
      "text/plain": [
       "<IPython.core.display.Markdown object>"
      ]
     },
     "metadata": {},
     "output_type": "display_data"
    },
    {
     "data": {
      "text/markdown": [
       "*The coffin was too wide for the door, so it was put down on the slope outside.*"
      ],
      "text/plain": [
       "<IPython.core.display.Markdown object>"
      ]
     },
     "metadata": {},
     "output_type": "display_data"
    },
    {
     "data": {
      "text/markdown": [
       "*I slipped out from the cave and looked at Mr. Shimerda.*"
      ],
      "text/plain": [
       "<IPython.core.display.Markdown object>"
      ]
     },
     "metadata": {},
     "output_type": "display_data"
    },
    {
     "data": {
      "text/markdown": [
       "*He was lying on his side, with his knees drawn up.*"
      ],
      "text/plain": [
       "<IPython.core.display.Markdown object>"
      ]
     },
     "metadata": {},
     "output_type": "display_data"
    },
    {
     "data": {
      "text/markdown": [
       "*His body was draped in a black shawl, and his head was bandaged in white muslin, like a mummy's; one of his long, shapely hands lay out on the black cloth; that was all one could see of him.*"
      ],
      "text/plain": [
       "<IPython.core.display.Markdown object>"
      ]
     },
     "metadata": {},
     "output_type": "display_data"
    },
    {
     "data": {
      "text/markdown": [
       "*Mrs. Shimerda came out and placed an open prayer-book against the body, making the sign of the cross on the bandaged head with her fingers.*"
      ],
      "text/plain": [
       "<IPython.core.display.Markdown object>"
      ]
     },
     "metadata": {},
     "output_type": "display_data"
    },
    {
     "data": {
      "text/markdown": [
       "*Ambrosch knelt down and made the same gesture, and after him Antonia and Marek.*"
      ],
      "text/plain": [
       "<IPython.core.display.Markdown object>"
      ]
     },
     "metadata": {},
     "output_type": "display_data"
    },
    {
     "data": {
      "text/markdown": [
       "*Yulka hung back.*"
      ],
      "text/plain": [
       "<IPython.core.display.Markdown object>"
      ]
     },
     "metadata": {},
     "output_type": "display_data"
    },
    {
     "data": {
      "text/markdown": [
       "*Her mother pushed her forward, and kept saying something to her over and over.*"
      ],
      "text/plain": [
       "<IPython.core.display.Markdown object>"
      ]
     },
     "metadata": {},
     "output_type": "display_data"
    },
    {
     "data": {
      "text/markdown": [
       "*Yulka knelt down, shut her eyes, and put out her hand a little way, but she drew it back and began to cry wildly.*"
      ],
      "text/plain": [
       "<IPython.core.display.Markdown object>"
      ]
     },
     "metadata": {},
     "output_type": "display_data"
    },
    {
     "data": {
      "text/markdown": [
       "**grandmother**: 'No, Mrs. Shimerda,' she said firmly, 'I won't stand by and see that child frightened into spasms. She is too little to understand what you want of her. Let her alone.'"
      ],
      "text/plain": [
       "<IPython.core.display.Markdown object>"
      ]
     },
     "metadata": {},
     "output_type": "display_data"
    },
    {
     "data": {
      "text/markdown": [
       "*At a look from grandfather, Fuchs and Jelinek placed the lid on the box, and began to nail it down over Mr. Shimerda.*"
      ],
      "text/plain": [
       "<IPython.core.display.Markdown object>"
      ]
     },
     "metadata": {},
     "output_type": "display_data"
    },
    {
     "data": {
      "text/markdown": [
       "*I was afraid to look at Antonia.*"
      ],
      "text/plain": [
       "<IPython.core.display.Markdown object>"
      ]
     },
     "metadata": {},
     "output_type": "display_data"
    },
    {
     "data": {
      "text/markdown": [
       "*She put her arms round Yulka and held the little girl close to her.*"
      ],
      "text/plain": [
       "<IPython.core.display.Markdown object>"
      ]
     },
     "metadata": {},
     "output_type": "display_data"
    },
    {
     "data": {
      "text/markdown": [
       "*The coffin was put into the wagon.*"
      ],
      "text/plain": [
       "<IPython.core.display.Markdown object>"
      ]
     },
     "metadata": {},
     "output_type": "display_data"
    },
    {
     "data": {
      "text/markdown": [
       "*We drove slowly away, against the fine, icy snow which cut our faces like a sand-blast.*"
      ],
      "text/plain": [
       "<IPython.core.display.Markdown object>"
      ]
     },
     "metadata": {},
     "output_type": "display_data"
    },
    {
     "data": {
      "text/markdown": [
       "*When we reached the grave, it looked a very little spot in that snow-covered waste.*"
      ],
      "text/plain": [
       "<IPython.core.display.Markdown object>"
      ]
     },
     "metadata": {},
     "output_type": "display_data"
    },
    {
     "data": {
      "text/markdown": [
       "*The men took the coffin to the edge of the hole and lowered it with ropes.*"
      ],
      "text/plain": [
       "<IPython.core.display.Markdown object>"
      ]
     },
     "metadata": {},
     "output_type": "display_data"
    },
    {
     "data": {
      "text/markdown": [
       "*We stood about watching them, and the powdery snow lay without melting on the caps and shoulders of the men and the shawls of the women.*"
      ],
      "text/plain": [
       "<IPython.core.display.Markdown object>"
      ]
     },
     "metadata": {},
     "output_type": "display_data"
    },
    {
     "data": {
      "text/markdown": [
       "**Jelinek**: 'She says, Mr. Burden, she is very glad if you can make some prayer for him here in English, for the neighbours to understand.'"
      ],
      "text/plain": [
       "<IPython.core.display.Markdown object>"
      ]
     },
     "metadata": {},
     "output_type": "display_data"
    },
    {
     "data": {
      "text/markdown": [
       "*Grandmother looked anxiously at grandfather.*"
      ],
      "text/plain": [
       "<IPython.core.display.Markdown object>"
      ]
     },
     "metadata": {},
     "output_type": "display_data"
    },
    {
     "data": {
      "text/markdown": [
       "*He took off his hat, and the other men did likewise.*"
      ],
      "text/plain": [
       "<IPython.core.display.Markdown object>"
      ]
     },
     "metadata": {},
     "output_type": "display_data"
    },
    {
     "data": {
      "text/markdown": [
       "**grandfather**: Oh, great and just God, no man among us knows what the sleeper knows, nor is it for us to judge what lies between him and Thee."
      ],
      "text/plain": [
       "<IPython.core.display.Markdown object>"
      ]
     },
     "metadata": {},
     "output_type": "display_data"
    },
    {
     "data": {
      "text/markdown": [
       "**grandfather**: He prayed that if any man there had been remiss toward the stranger come to a far country, God would forgive him and soften his heart."
      ],
      "text/plain": [
       "<IPython.core.display.Markdown object>"
      ]
     },
     "metadata": {},
     "output_type": "display_data"
    },
    {
     "data": {
      "text/markdown": [
       "**grandfather**: He recalled the promises to the widow and the fatherless, and asked God to smooth the way before this widow and her children, and to 'incline the hearts of men to deal justly with her.'"
      ],
      "text/plain": [
       "<IPython.core.display.Markdown object>"
      ]
     },
     "metadata": {},
     "output_type": "display_data"
    },
    {
     "data": {
      "text/markdown": [
       "**grandfather**: In closing, he said we were leaving Mr. Shimerda at 'Thy judgment seat, which is also Thy mercy seat.'"
      ],
      "text/plain": [
       "<IPython.core.display.Markdown object>"
      ]
     },
     "metadata": {},
     "output_type": "display_data"
    },
    {
     "data": {
      "text/markdown": [
       "*All the time he was praying, grandmother watched him through the black fingers of her glove, and when he said 'Amen,' I thought she looked satisfied with him.*"
      ],
      "text/plain": [
       "<IPython.core.display.Markdown object>"
      ]
     },
     "metadata": {},
     "output_type": "display_data"
    },
    {
     "data": {
      "text/markdown": [
       "**grandmother**: 'Can't you start a hymn, Fuchs? It would seem less heathenish.'"
      ],
      "text/plain": [
       "<IPython.core.display.Markdown object>"
      ]
     },
     "metadata": {},
     "output_type": "display_data"
    },
    {
     "data": {
      "text/markdown": [
       "*Fuchs glanced about to see if there was general approval of her suggestion, then began, 'Jesus, Lover of my Soul,' and all the men and women took it up after him.*"
      ],
      "text/plain": [
       "<IPython.core.display.Markdown object>"
      ]
     },
     "metadata": {},
     "output_type": "display_data"
    },
    {
     "data": {
      "text/markdown": [
       "*Whenever I have heard the hymn since, it has made me remember that white waste and the little group of people; and the bluish air, full of fine, eddying snow, like long veils flying.*"
      ],
      "text/plain": [
       "<IPython.core.display.Markdown object>"
      ]
     },
     "metadata": {},
     "output_type": "display_data"
    },
    {
     "data": {
      "text/markdown": [
       "**hymn**: 'While the nearer waters roll, While the tempest still is high.'"
      ],
      "text/plain": [
       "<IPython.core.display.Markdown object>"
      ]
     },
     "metadata": {},
     "output_type": "display_data"
    },
    {
     "data": {
      "text/markdown": [
       "*Years afterward, when the open-grazing days were over, and the red grass had been ploughed under and under until it had almost disappeared from the prairie; when all the fields were under fence, and the roads no longer ran about like wild things, but followed the surveyed section-lines, Mr. Shimerda's grave was still there, with a sagging wire fence around it, and an unpainted wooden cross.*"
      ],
      "text/plain": [
       "<IPython.core.display.Markdown object>"
      ]
     },
     "metadata": {},
     "output_type": "display_data"
    },
    {
     "data": {
      "text/markdown": [
       "*As grandfather had predicted, Mrs. Shimerda never saw the roads going over his head.*"
      ],
      "text/plain": [
       "<IPython.core.display.Markdown object>"
      ]
     },
     "metadata": {},
     "output_type": "display_data"
    },
    {
     "data": {
      "text/markdown": [
       "*The road from the north curved a little to the east just there, and the road from the west swung out a little to the south; so that the grave, with its tall red grass that was never mowed, was like a little island; and at twilight, under a new moon or the clear evening star, the dusty roads used to look like soft grey rivers flowing past it.*"
      ],
      "text/plain": [
       "<IPython.core.display.Markdown object>"
      ]
     },
     "metadata": {},
     "output_type": "display_data"
    },
    {
     "data": {
      "text/markdown": [
       "*I never came upon the place without emotion, and in all that country it was the spot most dear to me.*"
      ],
      "text/plain": [
       "<IPython.core.display.Markdown object>"
      ]
     },
     "metadata": {},
     "output_type": "display_data"
    },
    {
     "data": {
      "text/markdown": [
       "*I loved the dim superstition, the propitiatory intent, that had put the grave there; and still more I loved the spirit that could not carry out the sentence--the error from the surveyed lines, the clemency of the soft earth roads along which the home-coming wagons rattled after sunset.*"
      ],
      "text/plain": [
       "<IPython.core.display.Markdown object>"
      ]
     },
     "metadata": {},
     "output_type": "display_data"
    },
    {
     "data": {
      "text/markdown": [
       "*Never a tired driver passed the wooden cross, I am sure, without wishing well to the sleeper.*"
      ],
      "text/plain": [
       "<IPython.core.display.Markdown object>"
      ]
     },
     "metadata": {},
     "output_type": "display_data"
    },
    {
     "data": {
      "text/markdown": [
       "SCENE_HEADING - The Rue Saint Jacques, a brisk, clear January day."
      ],
      "text/plain": [
       "<IPython.core.display.Markdown object>"
      ]
     },
     "metadata": {},
     "output_type": "display_data"
    },
    {
     "data": {
      "text/markdown": [
       "**François**: \"Eh, Guillemette, Guillemette,\" he laughed. \"Why, lass--!\""
      ],
      "text/plain": [
       "<IPython.core.display.Markdown object>"
      ]
     },
     "metadata": {},
     "output_type": "display_data"
    },
    {
     "data": {
      "text/markdown": [
       "**Guillemette Moreau**: \"Faugh!\" said Guillemette Moreau, as she passed him, nose in air. \"A murderer, a priest-killer.\""
      ],
      "text/plain": [
       "<IPython.core.display.Markdown object>"
      ]
     },
     "metadata": {},
     "output_type": "display_data"
    },
    {
     "data": {
      "text/markdown": [
       "*François gasped, staring after her; and pursy Thomas Tricot nudged Martin Blaru in the ribs.*"
      ],
      "text/plain": [
       "<IPython.core.display.Markdown object>"
      ]
     },
     "metadata": {},
     "output_type": "display_data"
    },
    {
     "data": {
      "text/markdown": [
       "**Thomas Tricot**: \"Martin,\" said he, \"fruit must be cheap this year. Yonder in the gutter is an apple from the gallows-tree, and no one will pick it up.\""
      ],
      "text/plain": [
       "<IPython.core.display.Markdown object>"
      ]
     },
     "metadata": {},
     "output_type": "display_data"
    },
    {
     "data": {
      "text/markdown": [
       "**Martin Blaru**: Blaru turned and spat out, \"Cain! Judas!\""
      ],
      "text/plain": [
       "<IPython.core.display.Markdown object>"
      ]
     },
     "metadata": {},
     "output_type": "display_data"
    },
    {
     "data": {
      "text/markdown": [
       "*François found rigid faces, sniffs, and skirts drawn aside. A little girl in a red cap flung a stone at François as he slunk into the cloister of Saint Benoit-le-Bétourné.*"
      ],
      "text/plain": [
       "<IPython.core.display.Markdown object>"
      ]
     },
     "metadata": {},
     "output_type": "display_data"
    },
    {
     "data": {
      "text/markdown": [
       "**François**: \"My father!\" the boy cried, rapping upon the door of the Hôtel de la Porte-Rouge; \"O my father, open to me, for I think that my heart is breaking.\""
      ],
      "text/plain": [
       "<IPython.core.display.Markdown object>"
      ]
     },
     "metadata": {},
     "output_type": "display_data"
    },
    {
     "data": {
      "text/markdown": [
       "*Shortly his foster-father, Guillaume de Villon, came to the window.*"
      ],
      "text/plain": [
       "<IPython.core.display.Markdown object>"
      ]
     },
     "metadata": {},
     "output_type": "display_data"
    },
    {
     "data": {
      "text/markdown": [
       "**Guillaume de Villon**: \"Murderer!\" said he. \"Betrayer of women! Now, by the caldron of John! how dare you show your face here? I gave you my name and you soiled it. Back to your husks, rascal!\""
      ],
      "text/plain": [
       "<IPython.core.display.Markdown object>"
      ]
     },
     "metadata": {},
     "output_type": "display_data"
    },
    {
     "data": {
      "text/markdown": [
       "**François**: \"O God, O God!\" François cried, one or two times, as he looked up into the old man's implacable countenance. \"You, too, my father!\""
      ],
      "text/plain": [
       "<IPython.core.display.Markdown object>"
      ]
     },
     "metadata": {},
     "output_type": "display_data"
    },
    {
     "data": {
      "text/markdown": [
       "**Guillaume de Villon**: \"Go!\" the priest stormed; \"go, murderer!\""
      ],
      "text/plain": [
       "<IPython.core.display.Markdown object>"
      ]
     },
     "metadata": {},
     "output_type": "display_data"
    },
    {
     "data": {
      "text/markdown": [
       "*François laughed, giggling. \"What a world we live in!\"*"
      ],
      "text/plain": [
       "<IPython.core.display.Markdown object>"
      ]
     },
     "metadata": {},
     "output_type": "display_data"
    },
    {
     "data": {
      "text/markdown": [
       "**François**: \"You gave me your name and I soiled it? Eh, Master Priest, Master Pharisee, beware! _Villon_ is good French for _vagabond_, an excellent name for an outcast. And as God lives, I will presently drag that name through every muckheap in France.\""
      ],
      "text/plain": [
       "<IPython.core.display.Markdown object>"
      ]
     },
     "metadata": {},
     "output_type": "display_data"
    },
    {
     "data": {
      "text/markdown": [
       "*He went to Jehan de Vaucelles' home.*"
      ],
      "text/plain": [
       "<IPython.core.display.Markdown object>"
      ]
     },
     "metadata": {},
     "output_type": "display_data"
    },
    {
     "data": {
      "text/markdown": [
       "**François**: \"I will afford God one more chance at my soul,\" said François."
      ],
      "text/plain": [
       "<IPython.core.display.Markdown object>"
      ]
     },
     "metadata": {},
     "output_type": "display_data"
    },
    {
     "data": {
      "text/markdown": [
       "*In the garden he met Catherine and Noël d'Arnaye coming out of the house. They stopped short.*"
      ],
      "text/plain": [
       "<IPython.core.display.Markdown object>"
      ]
     },
     "metadata": {},
     "output_type": "display_data"
    },
    {
     "data": {
      "text/markdown": [
       "**Catherine**: Her face, half-muffled in the brown fur of her cloak, flushed to a wonderful rose of happiness, the great eyes glowed, and Catherine reached out her hands toward François with a glad cry."
      ],
      "text/plain": [
       "<IPython.core.display.Markdown object>"
      ]
     },
     "metadata": {},
     "output_type": "display_data"
    },
    {
     "data": {
      "text/markdown": [
       "*François fell before her upon his knees. \"O heart's dearest, heart's dearest!\" he sobbed; \"forgive me that I doubted you!\"*"
      ],
      "text/plain": [
       "<IPython.core.display.Markdown object>"
      ]
     },
     "metadata": {},
     "output_type": "display_data"
    },
    {
     "data": {
      "text/markdown": [
       "**Catherine**: \"Ysabeau de Montigny dwells in the Rue du Fouarre,\" said Catherine, in a crisp voice,--\"having served your purpose, however, I perceive that Ysabeau, too, is to be cast aside as though she were an old glove. Monsieur d'Arnaye, thrash for me this betrayer of women.\""
      ],
      "text/plain": [
       "<IPython.core.display.Markdown object>"
      ]
     },
     "metadata": {},
     "output_type": "display_data"
    },
    {
     "data": {
      "text/markdown": [
       "*Noël, a big, handsome man, lifted François by his collar, caught up a stick and set to work. Catherine watched them, her eyes gemlike and cruel.*"
      ],
      "text/plain": [
       "<IPython.core.display.Markdown object>"
      ]
     },
     "metadata": {},
     "output_type": "display_data"
    },
    {
     "data": {
      "text/markdown": [
       "*François did not move a muscle. God had chosen.*"
      ],
      "text/plain": [
       "<IPython.core.display.Markdown object>"
      ]
     },
     "metadata": {},
     "output_type": "display_data"
    },
    {
     "data": {
      "text/markdown": [
       "*The Sieur d'Arnaye flung François upon the ground, where he lay quite still for a moment. Then slowly he rose to his feet, never looking at Noël. For a long time he stared at Catherine de Vaucelles, frost-flushed, defiant, incredibly beautiful. Afterward he went out of the garden, staggering like a drunken person.*"
      ],
      "text/plain": [
       "<IPython.core.display.Markdown object>"
      ]
     },
     "metadata": {},
     "output_type": "display_data"
    },
    {
     "data": {
      "text/markdown": [
       "**François**: \"René,\" said François, \"there is no charity on earth, there is no God in Heaven. But in Hell there is most assuredly a devil, and I think that he must laugh a great deal. What was that you were telling me about the priest with six hundred crowns in his cupboard?\""
      ],
      "text/plain": [
       "<IPython.core.display.Markdown object>"
      ]
     },
     "metadata": {},
     "output_type": "display_data"
    },
    {
     "data": {
      "text/markdown": [
       "*René slapped him on the shoulder. \"Now,\" said he, \"you talk like a man.\" He opened the door at the back and cried: \"Colin, you and Petit Jehan and that pig Tabary may come out. I have the honor, messieurs, to offer you a new Companion of the Cockleshell--Master François de Montcorbier.\"*"
      ],
      "text/plain": [
       "<IPython.core.display.Markdown object>"
      ]
     },
     "metadata": {},
     "output_type": "display_data"
    },
    {
     "data": {
      "text/markdown": [
       "**François**: But the recruit raised a protesting hand. \"No,\" said he,--\"François Villon. The name is triply indisputable, since it has been put upon me not by one priest but by three.\""
      ],
      "text/plain": [
       "<IPython.core.display.Markdown object>"
      ]
     },
     "metadata": {},
     "output_type": "display_data"
    },
    {
     "data": {
      "text/markdown": [
       "**Marquis**: \"Which I freely render,\" the Marquis replied."
      ],
      "text/plain": [
       "<IPython.core.display.Markdown object>"
      ]
     },
     "metadata": {},
     "output_type": "display_data"
    },
    {
     "data": {
      "text/markdown": [
       "**John Bulmer**: \"I begin to comprehend,\" John Bulmer said."
      ],
      "text/plain": [
       "<IPython.core.display.Markdown object>"
      ]
     },
     "metadata": {},
     "output_type": "display_data"
    },
    {
     "data": {
      "text/markdown": [
       "**Marquis**: \"Far be it from me,\" said the Marquis, with becoming modesty, \"to meddle with affairs of state. Nevertheless, madame is willing to purchase you--at any price.\""
      ],
      "text/plain": [
       "<IPython.core.display.Markdown object>"
      ]
     },
     "metadata": {},
     "output_type": "display_data"
    },
    {
     "data": {
      "text/markdown": [
       "**John Bulmer**: \"One of the prettiest messes ever stirred up in all history!\" John Bulmer lamented; \"and I to miss it! The policy of centuries shrugged aside, and the map of the world made over as lightly as if it were one of last year's gowns!\""
      ],
      "text/plain": [
       "<IPython.core.display.Markdown object>"
      ]
     },
     "metadata": {},
     "output_type": "display_data"
    },
    {
     "data": {
      "text/markdown": [
       "**Marquis**: \"She will give me,\" the Marquis retorted, \"according to advices received from her yesterday, a lettre-de-cachet for Gaston de Puysange.\""
      ],
      "text/plain": [
       "<IPython.core.display.Markdown object>"
      ]
     },
     "metadata": {},
     "output_type": "display_data"
    },
    {
     "data": {
      "text/markdown": [
       "**John Bulmer**: \"Naturally,\" John Bulmer assented, \"since imprisonment in the Bastile is by ordinary the reward of common-sense when manifested by a Frenchman.\""
      ],
      "text/plain": [
       "<IPython.core.display.Markdown object>"
      ]
     },
     "metadata": {},
     "output_type": "display_data"
    },
    {
     "data": {
      "text/markdown": [
       "**Marquis**: \"Dieu m'en garde!\" The Marquis was appalled. \"Nay, monsieur, merely an unforeseeable attack of heart-disease.\""
      ],
      "text/plain": [
       "<IPython.core.display.Markdown object>"
      ]
     },
     "metadata": {},
     "output_type": "display_data"
    },
    {
     "data": {
      "text/markdown": [
       "**John Bulmer**: \"Ah! ah!\" said John Bulmer, very slowly. He presently resumed: \"Afterward the Duchesse de Puysange will be a widow. And already she is fond of you; but unfortunately the Duchess--with every possible deference,--is a trifle prudish. I see it all now, quite plainly; and out of pure friendliness, I warn you that in my opinion the Duchess is hopelessly in love with her husband.\""
      ],
      "text/plain": [
       "<IPython.core.display.Markdown object>"
      ]
     },
     "metadata": {},
     "output_type": "display_data"
    },
    {
     "data": {
      "text/markdown": [
       "**Marquis**: \"We should suspect no well bred lady of provincialism,\" returned the Marquis, \"and so I shall take my chance. Believe me, Monsieur le Duc, I profoundly regret that you and Gaston must be sacrificed in order to afford me this same chance.\""
      ],
      "text/plain": [
       "<IPython.core.display.Markdown object>"
      ]
     },
     "metadata": {},
     "output_type": "display_data"
    },
    {
     "data": {
      "text/markdown": [
       "**John Bulmer**: \"My faith!\" he said, and softly chafed his hands together, \"how sincerely you will be horrified when your impetuous error is discovered--just too late!\""
      ],
      "text/plain": [
       "<IPython.core.display.Markdown object>"
      ]
     },
     "metadata": {},
     "output_type": "display_data"
    },
    {
     "data": {
      "text/markdown": [
       "**Marquis**: \"It rejoices me,\" the Marquis returned, \"that a conspirator of many years' standing should commend my maiden effort.\""
      ],
      "text/plain": [
       "<IPython.core.display.Markdown object>"
      ]
     },
     "metadata": {},
     "output_type": "display_data"
    },
    {
     "data": {
      "text/markdown": [
       "*He rose.*"
      ],
      "text/plain": [
       "<IPython.core.display.Markdown object>"
      ]
     },
     "metadata": {},
     "output_type": "display_data"
    },
    {
     "data": {
      "text/markdown": [
       "**John Bulmer**: \"Well,--no!\" said he, at last; \"I commend your cleverness, Monsieur de Soyecourt, but as concerns your hand I must confess to a distaste.\""
      ],
      "text/plain": [
       "<IPython.core.display.Markdown object>"
      ]
     },
     "metadata": {},
     "output_type": "display_data"
    },
    {
     "data": {
      "text/markdown": [
       "**Marquis**: \"Because at the bottom of your heart you despise me,\" he said. \"Ah, believe me, monsieur, your contempt for de Soyecourt is less great than mine. And yet I have a weakness for him,--a weakness which induces me to indulge all his desires.\""
      ],
      "text/plain": [
       "<IPython.core.display.Markdown object>"
      ]
     },
     "metadata": {},
     "output_type": "display_data"
    },
    {
     "data": {
      "text/markdown": [
       "*He bowed with ceremony and left the garden.*"
      ],
      "text/plain": [
       "<IPython.core.display.Markdown object>"
      ]
     },
     "metadata": {},
     "output_type": "display_data"
    }
   ],
   "source": [
    "from synthetic_data.tasks import Output, SceneElementType\n",
    "for row in formatted_pq[1000:1010].iter_rows(named=True):\n",
    "    output_obj = Output.model_validate_json(row[\"output\"])\n",
    "    for element in output_obj.items:\n",
    "        fmt_str = f\"{element.type.name} - {element.character}\"\n",
    "        if element.type == SceneElementType.DIALOGUE:\n",
    "            fmt_str = f\"**{element.character}**: {element.content}\"\n",
    "        elif element.type == SceneElementType.ACTION:\n",
    "            fmt_str = f\"*{element.content}*\"\n",
    "        else:\n",
    "            fmt_str = f\"{element.type.name} - {element.content}\"\n",
    "        display(Markdown(fmt_str))"
   ]
  }
 ],
 "metadata": {
  "kernelspec": {
   "display_name": ".venv",
   "language": "python",
   "name": "python3"
  },
  "language_info": {
   "codemirror_mode": {
    "name": "ipython",
    "version": 3
   },
   "file_extension": ".py",
   "mimetype": "text/x-python",
   "name": "python",
   "nbconvert_exporter": "python",
   "pygments_lexer": "ipython3",
   "version": "3.11.10"
  }
 },
 "nbformat": 4,
 "nbformat_minor": 2
}
