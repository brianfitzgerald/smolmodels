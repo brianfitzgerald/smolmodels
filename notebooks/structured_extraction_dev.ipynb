{
 "cells": [
  {
   "cell_type": "code",
   "execution_count": null,
   "metadata": {},
   "outputs": [],
   "source": [
    "import pydantic\n",
    "import sys\n",
    "from pydantic import BaseModel\n",
    "from datasets import load_dataset\n",
    "import asyncio\n",
    "import polars as pl\n",
    "from IPython.display import Markdown\n",
    "\n",
    "\n",
    "sys.path.append(\"..\")\n",
    "from synthetic_data.generation import RemoteModel, get_generation_wrapper\n",
    "\n",
    "%load_ext autoreload\n",
    "%autoreload 2\n",
    "from trl_wrapper.trainer_wrapper import TrainerWrapper, PLAYWRIGHT_CONFIG, SMOL_LM_135M\n",
    "\n",
    "dataset = load_dataset(\"sam-paech/gutenberg3-generalfiction-scifi-fantasy-romance-adventure-dpo\", trust_remote_code=True)[\n",
    "    \"train\"\n",
    "]\n",
    "dataset_pl: pl.DataFrame = dataset.to_polars()\n"
   ]
  },
  {
   "cell_type": "code",
   "execution_count": null,
   "metadata": {},
   "outputs": [],
   "source": [
    "dataset_pl.columns"
   ]
  },
  {
   "cell_type": "code",
   "execution_count": 12,
   "metadata": {},
   "outputs": [
    {
     "data": {
      "text/markdown": [
       "### Sample 0 - [GENERAL FICTION] Virginia_Woolf -- Night_and_Day"
      ],
      "text/plain": [
       "<IPython.core.display.Markdown object>"
      ]
     },
     "metadata": {},
     "output_type": "display_data"
    },
    {
     "data": {
      "text/markdown": [
       "### Sample 1 - [ADVENTURE] Rafael Sabatini -- Scaramouche: A Romance of the French Revolution"
      ],
      "text/plain": [
       "<IPython.core.display.Markdown object>"
      ]
     },
     "metadata": {},
     "output_type": "display_data"
    },
    {
     "data": {
      "text/markdown": [
       "### Sample 2 - [ADVENTURE] Talbot Mundy -- King--of the Khyber Rifles: A Romance of Adventure"
      ],
      "text/plain": [
       "<IPython.core.display.Markdown object>"
      ]
     },
     "metadata": {},
     "output_type": "display_data"
    },
    {
     "data": {
      "text/markdown": [
       "### Sample 3 - [FANTASY] Howard Pyle -- Otto of the Silver Hand"
      ],
      "text/plain": [
       "<IPython.core.display.Markdown object>"
      ]
     },
     "metadata": {},
     "output_type": "display_data"
    },
    {
     "data": {
      "text/markdown": [
       "### Sample 4 - [ADVENTURE] Rudyard Kipling -- \"Captains Courageous\": A Story of the Grand Banks"
      ],
      "text/plain": [
       "<IPython.core.display.Markdown object>"
      ]
     },
     "metadata": {},
     "output_type": "display_data"
    },
    {
     "data": {
      "text/markdown": [
       "### Sample 5 - [FANTASY] Ernest Bramah -- The Wallet of Kai Lung"
      ],
      "text/plain": [
       "<IPython.core.display.Markdown object>"
      ]
     },
     "metadata": {},
     "output_type": "display_data"
    },
    {
     "data": {
      "text/markdown": [
       "### Sample 6 - [ROMANCE] E_Werner -- The_Northern_Light_Translated_by_Mrs_D_M_Lowrey"
      ],
      "text/plain": [
       "<IPython.core.display.Markdown object>"
      ]
     },
     "metadata": {},
     "output_type": "display_data"
    },
    {
     "data": {
      "text/markdown": [
       "### Sample 7 - [GENERAL FICTION] Herman_Melville -- Bartleby_The_Scrivener"
      ],
      "text/plain": [
       "<IPython.core.display.Markdown object>"
      ]
     },
     "metadata": {},
     "output_type": "display_data"
    },
    {
     "data": {
      "text/markdown": [
       "### Sample 8 - [GENERAL FICTION] Elizabeth_Gaskell -- A_Dark_Night's_Work"
      ],
      "text/plain": [
       "<IPython.core.display.Markdown object>"
      ]
     },
     "metadata": {},
     "output_type": "display_data"
    },
    {
     "data": {
      "text/markdown": [
       "### Sample 9 - [SCIFI] Mary E. Bradley Lane -- Mizora: A Prophecy"
      ],
      "text/plain": [
       "<IPython.core.display.Markdown object>"
      ]
     },
     "metadata": {},
     "output_type": "display_data"
    }
   ],
   "source": [
    "for i, row in enumerate(dataset_pl.head(10).iter_rows(named=True)):\n",
    "    source = row['source']\n",
    "    display(Markdown(f\"### Sample {i} - {source}\"))\n",
    "    # display(Markdown(row['chosen'][-1]['content']))"
   ]
  },
  {
   "cell_type": "code",
   "execution_count": null,
   "metadata": {},
   "outputs": [],
   "source": [
    "import json\n",
    "from typing import Sequence\n",
    "from openai.types.chat.chat_completion_message_param import ChatCompletionMessageParam\n",
    "from synthetic_data.screenplay_parser import Scene\n",
    "from IPython.display import display, Markdown\n",
    "\n",
    "def format_conversation_oai(sample: dict) -> Sequence[ChatCompletionMessageParam]:\n",
    "    # TODO handle interpolation and character intros\n",
    "    conversation, bot_name = sample[\"conversation\"], sample[\"bot_name\"]\n",
    "    out_conv: Sequence[dict] = []\n",
    "    for msg, is_human in zip(conversation[\"message\"], conversation[\"is_human\"]):\n",
    "        out_conv.append({\"role\": bot_name if not is_human else \"User\", \"content\": msg})\n",
    "\n",
    "    return [\n",
    "        {\n",
    "            \"role\": \"system\",\n",
    "            \"content\": \"Extract the dialogue, actions, and descriptions from the conversation given by the user.\",\n",
    "        },\n",
    "        {\"role\": \"user\", \"content\": json.dumps(out_conv)},\n",
    "    ]\n",
    "\n",
    "def print_oai_conversation(sample: list[dict]):\n",
    "    conversation, bot_name = sample[\"conversation\"], sample[\"bot_name\"]\n",
    "    out_conv: Sequence[dict] = []\n",
    "    for msg, is_human in zip(conversation[\"message\"], conversation[\"is_human\"]):\n",
    "        out_conv.append({\"role\": bot_name if not is_human else \"User\", \"content\": msg})\n",
    "    display(Markdown(f\"#### Conversation: {sample['bot_name']}\"))\n",
    "    for msg in out_conv:\n",
    "        role, content = msg[\"role\"], msg[\"content\"]\n",
    "        display(Markdown(f\"**{role}**: {content}\"))\n",
    "\n",
    "for row in dataset_pl[500:510].iter_rows(named=True):\n",
    "    print_oai_conversation(row)"
   ]
  },
  {
   "cell_type": "code",
   "execution_count": null,
   "metadata": {},
   "outputs": [],
   "source": [
    "from synthetic_data.generation import GenWrapperArgs\n",
    "from typing import List\n",
    "from enum import Enum\n",
    "\n",
    "\n",
    "class SceneElementType(Enum):\n",
    "    SCENE_HEADING = \"scene_heading\"\n",
    "    ACTION = \"action\"\n",
    "    DIALOGUE = \"dialogue\"\n",
    "    TRANSITION = \"transition\"\n",
    "\n",
    "\n",
    "class SceneElement(BaseModel):\n",
    "    type: SceneElementType\n",
    "    content: str\n",
    "    character: str | None = None\n",
    "\n",
    "\n",
    "class Output(BaseModel):\n",
    "    items: List[SceneElement]\n",
    "\n",
    "\n",
    "model: str = RemoteModel.GPT_4O_MINI.value\n",
    "generation_wrapper = get_generation_wrapper(\n",
    "    model, GenWrapperArgs(model_id=\"gpt-4o-mini\", response_format=Output)\n",
    ")  # type: ignore\n",
    "\n",
    "sample = format_conversation_oai(dataset[5])\n",
    "\n",
    "completions = await generation_wrapper.generate([sample])\n",
    "print(completions)"
   ]
  },
  {
   "cell_type": "code",
   "execution_count": null,
   "metadata": {},
   "outputs": [],
   "source": [
    "out_json = json.loads(completions[0])\n",
    "out = Output.model_validate(out_json)\n",
    "out.items"
   ]
  }
 ],
 "metadata": {
  "kernelspec": {
   "display_name": ".venv",
   "language": "python",
   "name": "python3"
  },
  "language_info": {
   "codemirror_mode": {
    "name": "ipython",
    "version": 3
   },
   "file_extension": ".py",
   "mimetype": "text/x-python",
   "name": "python",
   "nbconvert_exporter": "python",
   "pygments_lexer": "ipython3",
   "version": "3.11.10"
  }
 },
 "nbformat": 4,
 "nbformat_minor": 2
}
