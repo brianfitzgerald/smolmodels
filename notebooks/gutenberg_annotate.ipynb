{
 "cells": [
  {
   "cell_type": "code",
   "execution_count": 1,
   "metadata": {},
   "outputs": [],
   "source": [
    "import polars as pl\n",
    "import os\n",
    "import sys\n",
    "os.environ[\"HF_HUB_ENABLE_HF_TRANSFER\"] = \"1\"\n",
    "sys.path.append(\"..\")\n",
    "%load_ext autoreload\n",
    "%autoreload 2"
   ]
  },
  {
   "cell_type": "code",
   "execution_count": 25,
   "metadata": {},
   "outputs": [],
   "source": [
    "from synthetic_data.tasks.writing import WritingScoreAnnotate, GutenbergBacktranslationFromTxt\n",
    "from synthetic_data.utils import ldictl\n",
    "gutenberg_pq: pl.DataFrame = pl.read_parquet(\"../dataset_files/epubs.parquet\")\n",
    "\n",
    "# input_df: pl.DataFrame = pl.read_parquet(\"../dataset_files/gutenberg_backtranslate.parquet\")\n",
    "task = GutenbergBacktranslationFromTxt()\n",
    "\n",
    "# mock_batch = ldictl(input_df.head(4).to_dicts())\n",
    "dataset = gutenberg_pq"
   ]
  },
  {
   "cell_type": "code",
   "execution_count": 29,
   "metadata": {},
   "outputs": [],
   "source": [
    "from datasets import Dataset\n",
    "dataset = Dataset.from_pandas(dataset.to_pandas())\n",
    "sample_out = await task.preprocess_row(dataset[0])\n",
    "sample_out = sample_out[0:16]\n",
    "task_out = task.format_input_conversation(sample_out)"
   ]
  },
  {
   "cell_type": "code",
   "execution_count": 33,
   "metadata": {},
   "outputs": [
    {
     "name": "stdout",
     "output_type": "stream",
     "text": [
      "\n",
      "You are tasked with creating an instruction for a large language model to recreate a paragraph from a book through a process called \"back-translation.\" Here is the original paragraph:\n",
      "\n",
      "<original_paragraph>\n",
      "Earth barely resembles its former state. From ecologically sound\n",
      "super-planet to smoking, mutated ruin, the mayhem has waned in the past\n",
      "century. Habitable areas have not lost their lethality, nor have their\n",
      "inhabitants diminished in number or hostility. What has changed is that\n",
      "there are some areas in the world that have been settled and tamed by\n",
      "various groups, factions, or cults that seek to reform the world\n",
      "according to their agenda or creed.\n",
      "\n",
      "After many decades of fighting and settling a safe area around their\n",
      "newly fortified city Legacy-1, the Architechs created a system of\n",
      "identifying the danger level of an area to help explorers navigate the\n",
      "new world before them. These are called Alpha, Gamma, and Omega Zones.\n",
      "\n",
      "Alpha Zones\n",
      "\n",
      "An Alpha Zone is mostly cleared of deadly flora and fauna and is usually\n",
      "highly populated for the members of the society that dominate that\n",
      "region. Usually an Alpha Zone is home to the main base of one of the six\n",
      "largest Factions that vie for power and resources left over from the\n",
      "Ancients. Alpha Zones also attract the most trade, have the greatest\n",
      "number of mercantile and technological facilities, and tend to see their\n",
      "populace protected and able to further their collective pursuits or come\n",
      "and go in relative peace. Legacy-1 is the largest and most stable Alpha\n",
      "Zone founded since the Apocalypse.\n",
      "\n",
      "Gamma Zones\n",
      "\n",
      "Gamma Zones are usually considered hostile environments for one or more\n",
      "reasons. These areas are usually the largest of the Zone types, capable\n",
      "of covering the vast regions between Alpha and Omega Zones. Sometimes, a\n",
      "particular fortress city that is an Alpha Zone to one group might be\n",
      "classified as a Gamma Zone to another. Such is the case with Mutopia,\n",
      "the seat of power for the Gamma Lords Faction. True Humans consistently\n",
      "get tortured and killed there, so other True Humans will not consider it\n",
      "an Alpha Zone by any measure. Nomadic packs of the Sons of Entropy,\n",
      "herds of terrifying mutant creatures or deadly environmental events may\n",
      "also demand an area be designated Gamma.\n",
      "\n",
      "Omega Zones\n",
      "\n",
      "Omega Zones are a specific designation given to areas formerly inhabited\n",
      "by the Ancients that received significant destructive force during the\n",
      "final days of civilization. These areas are usually on the outskirts of\n",
      "cities and military or scientific installations that received the brunt\n",
      "of the holocaust, leaving these structures more or less intact than\n",
      "would have been expected. Omega Zones are also where the most scraps of\n",
      "Ancient technology can be found in various states of disrepair. These\n",
      "Zones are populated with a vast array of mutated plant and animal life,\n",
      "abandoned research projects, marauding scavengers, mindless automatons,\n",
      "and a host of hostiles looking to also pick the bones of these derelict\n",
      "husks of a dead civilization. And when these scroungers encounter each\n",
      "other, they fight over these ‘scraps’ of the world that was.\n",
      "\n",
      "Scrappers is a man-to-man Post-Apocalyptic skirmish wargame that uses\n",
      "model soldiers and scenery to create small unit battles on the tabletop.\n",
      "\n",
      "What You Will Need to Play\n",
      "\n",
      "In addition to this rulebook, you will need the following items to play\n",
      "this game:\n",
      "\n",
      "•Miniatures: Games of Scrappers are played with miniature figurines that\n",
      "represent each member of a Scrapper Crew. These are referred to in the\n",
      "rules as ‘models’ and includes the miniature’s base.\n",
      "\n",
      "•Game Board: Scrappers is best played on a square 4’ x 4’ table top.\n",
      "\n",
      "•Dice: Scrappers use ten-sided dice for all purposes. Players may want\n",
      "more on hand to speed up play.\n",
      "\n",
      "•Measuring Tape or Ruler: All movement, shooting, and other tabletop\n",
      "measurements are done in inches. Players will need a tape measure,\n",
      "ruler, or other device to measure these units.\n",
      "\n",
      "•Terrain Pieces: With a setting like Scrappers, you will need a variety\n",
      "of terrain or scenery with a Post-Apocalyptic and futuristic theme.\n",
      "Terrain should cover 50–75% of the game board.\n",
      "\n",
      "•Paper and Pencil/Pen: You will need to keep track of your Scrapper Crew\n",
      "and its development from game to game.\n",
      "\n",
      "•Tokens: You will need some small tokens to use as Action Tokens during\n",
      "play, as well as Smoke, Event, and Broken Tokens. You will also need\n",
      "some way to indicate which Player has the Edge and the Break for the\n",
      "Turn.\n",
      "\n",
      "These are ‘meta’ rules that apply to everyone at all times, except where\n",
      "noted in the rules. This section will cover the common mechanisms of the\n",
      "Scrappers system as well as terms and abbreviations used later.\n",
      "\n",
      "Action\n",
      "\n",
      "An Action is what models use to do things in the game. It is noted by\n",
      "placing an Action Token next to a model so that it may execute one of\n",
      "the allowed Actions during that Turn.\n",
      "\n",
      "Labels\n",
      "\n",
      "Some game mechanics will look for a specific game state or model\n",
      "condition in order to be used. To identify what the rule is searching\n",
      "for, we use Labels. These are capitalized words that only apply during\n",
      "certain times. For example, when a model executes an Action to make an\n",
      "attack, it gains the Attacker label. Once it has this Label, any rules\n",
      "that pertain to an Attacker will apply to that model. Once the\n",
      "Attacker’s Action has ended, that model loses this Label and the game\n",
      "moves on from there.\n",
      "\n",
      "Pre-Measurement\n",
      "\n",
      "Players are never permitted to pre-measure any distances in the game.\n",
      "Any and all Actions must be declared prior to measuring the range for\n",
      "any reason.\n",
      "\n",
      "Types of Players\n",
      "\n",
      "•Owning Player: The owning Player is the Player who owns the model being\n",
      "discussed.\n",
      "\n",
      "•Primary Player/Priority Player/Player with Priority: When a Player is\n",
      "taking an Action within a turn, he has Priority. Once the Action has\n",
      "been executed to completion, Priority passes to the other Player. The\n",
      "Player that currently has Priority is also called the Primary Player.\n",
      "\n",
      "•Secondary Player: This is the Player who doesn’t have Priority during\n",
      "the execution of the Action by the Primary Player.\n",
      "\n",
      "Scrappers uses a series of opposed rolls to resolve any uncertain\n",
      "outcome or event. This method requires both Players to roll dice, add\n",
      "their modifiers and compare results. The rules will refer to this as\n",
      "making a type of Check, such as a Damage Check, Random Check, or Rout\n",
      "Check, etc. Each type of Check will state what modifiers or factors are\n",
      "added to the dice results for each Player as well as what the outcome of\n",
      "success or failure is likely to be.\n",
      "\n",
      "All Checks regardless of type have several rules in common. These rules\n",
      "govern the type of Check, the Rating and modifiers used by the Priority\n",
      "Player who is making the Check, as well as the Rating and modifiers used\n",
      "by the Secondary Player for his opposed roll results.\n",
      "\n",
      "In all cases, the following rules apply:\n",
      "\n",
      "•Only the Player with Priority may initiate a Check. The Secondary\n",
      "Player will also make an opposed Check but only in reaction to the\n",
      "Primary Player initiating this exchange.\n",
      "\n",
      "•All Checks and opposed Check rolls are made using a single d10 from\n",
      "each Player. The only exceptions to this are Attack and Defense Checks\n",
      "in both Close and Ranged Combat.\n",
      "</original_paragraph>\n",
      "\n",
      "Back-translation involves taking a piece of text, conceptually translating it into another form or language, and then providing instructions to recreate the original text based on that conceptual translation. Your goal is to create an instruction that, when given to a large language model, would result in the recreation of a paragraph very similar in style, tone, and content to the original, without directly copying the exact wording.\n",
      "\n",
      "Follow these steps:\n",
      "\n",
      "1. Carefully analyze the original paragraph, paying attention to:\n",
      "   - Writing style (e.g., formal, casual, literary)\n",
      "   - Tone (e.g., serious, humorous, melancholic)\n",
      "   - Content and themes\n",
      "   - Sentence structure and complexity\n",
      "   - Vocabulary level and any unique word choices\n",
      "   - Literary devices or techniques used (if any)\n",
      "\n",
      "2. Based on your analysis, create a detailed instruction for a large language model to write a paragraph that captures the essence of the original. Your instruction should:\n",
      "   - Describe the overall style and tone to aim for\n",
      "   - Outline the main ideas or plot points to include\n",
      "   - Suggest the type of vocabulary or literary devices to use\n",
      "   - Indicate the desired length and complexity of sentences\n",
      "   - Provide any other relevant details that would help recreate the paragraph's feel\n",
      "\n",
      "3. Ensure your instruction does not include any direct quotes or specific unique phrases from the original paragraph. The goal is to guide the creation of a similar paragraph, not an exact replica.\n",
      "\n",
      "4. Your instruction should be detailed enough to capture the essence of the original paragraph but general enough to allow for creativity in the recreation process.\n",
      "\n",
      "Present your final instruction without any other formatting. Aim for an instruction between 100-200 words.\n",
      "\n"
     ]
    }
   ],
   "source": [
    "print(task_out[1][0]['content'])"
   ]
  },
  {
   "cell_type": "code",
   "execution_count": 31,
   "metadata": {},
   "outputs": [
    {
     "name": "stderr",
     "output_type": "stream",
     "text": [
      "[autoreload of synthetic_data.prompts failed: Traceback (most recent call last):\n",
      "  File \"/Users/brianfitzgerald/Documents/GitHub/smolmodels/.venv/lib/python3.11/site-packages/IPython/extensions/autoreload.py\", line 276, in check\n",
      "    superreload(m, reload, self.old_objects)\n",
      "  File \"/Users/brianfitzgerald/Documents/GitHub/smolmodels/.venv/lib/python3.11/site-packages/IPython/extensions/autoreload.py\", line 475, in superreload\n",
      "    module = reload(module)\n",
      "             ^^^^^^^^^^^^^^\n",
      "  File \"/Users/brianfitzgerald/.local/share/uv/python/cpython-3.11.11-macos-aarch64-none/lib/python3.11/importlib/__init__.py\", line 169, in reload\n",
      "    _bootstrap._exec(spec, module)\n",
      "  File \"<frozen importlib._bootstrap>\", line 621, in _exec\n",
      "  File \"<frozen importlib._bootstrap_external>\", line 936, in exec_module\n",
      "  File \"<frozen importlib._bootstrap_external>\", line 1074, in get_code\n",
      "  File \"<frozen importlib._bootstrap_external>\", line 1004, in source_to_code\n",
      "  File \"<frozen importlib._bootstrap>\", line 241, in _call_with_frames_removed\n",
      "  File \"/Users/brianfitzgerald/Documents/GitHub/smolmodels/notebooks/../synthetic_data/prompts.py\", line 440\n",
      "    \"role\": \"user\",\n",
      "          ^\n",
      "SyntaxError: invalid syntax\n",
      "]\n"
     ]
    },
    {
     "data": {
      "text/plain": [
       "True"
      ]
     },
     "execution_count": 31,
     "metadata": {},
     "output_type": "execute_result"
    }
   ],
   "source": [
    "from dotenv import load_dotenv\n",
    "load_dotenv(\"../.env\")"
   ]
  },
  {
   "cell_type": "code",
   "execution_count": 34,
   "metadata": {},
   "outputs": [
    {
     "name": "stderr",
     "output_type": "stream",
     "text": [
      "\u001b[32m2025-03-21 18:22:16.552\u001b[0m | \u001b[1mINFO    \u001b[0m | \u001b[36msynthetic_data.generation\u001b[0m:\u001b[36mget_generation_wrapper\u001b[0m:\u001b[36m425\u001b[0m - \u001b[1mLogging in to Hugging Face Hub\u001b[0m\n",
      "Note: Environment variable`HF_TOKEN` is set and is the current active token independently from the token you've just configured.\n"
     ]
    }
   ],
   "source": [
    "from synthetic_data.generation import get_generation_wrapper\n",
    "\n",
    "\n",
    "generation_wrapper = get_generation_wrapper(\"gemini-2.0-flash\")\n",
    "completions = await generation_wrapper.generate(\n",
    "    task_out\n",
    ")"
   ]
  },
  {
   "cell_type": "code",
   "execution_count": 36,
   "metadata": {},
   "outputs": [],
   "source": [
    "output_rows_batch = task.format_output_rows(completions, sample_out)"
   ]
  },
  {
   "cell_type": "code",
   "execution_count": 37,
   "metadata": {},
   "outputs": [
    {
     "name": "stdout",
     "output_type": "stream",
     "text": [
      "Write a paragraph detailing the backstory of a post-apocalyptic tabletop wargame setting. The tone should be both grandiose and foreboding, resembling a historical account delivered in a lecture. Describe a technologically advanced past civilization that brought about its own downfall through hubris and reliance on artificial intelligence. This AI, meant to terraform planets, was sabotaged, resulting in a cataclysmic event on Earth, mutating life and devastating the environment.\n",
      "\n",
      "Mention factions or groups who survived, specifically those safeguarding ancient knowledge and technology, rebuilding civilization. Portray the world as a dangerous place, emphasizing the threats faced by those seeking to recover lost technology: rival factions, mutated creatures, and mercenary groups. Hint at a central organization or \"order\" that the player characters belong to, with the ultimate goal of restoring the world. Conclude by addressing the reader as a newcomer (\"Apprentice\") to this order, tasking them with recovering lost technology and hinting at future rewards and responsibilities should they succeed. Use formal language and relatively complex sentence structures.\n",
      "\n"
     ]
    }
   ],
   "source": [
    "print(output_rows_batch[0]['instruction'])"
   ]
  },
  {
   "cell_type": "code",
   "execution_count": null,
   "metadata": {},
   "outputs": [],
   "source": [
    "import tiktoken\n",
    "from synthetic_data.gutenberg_parser import super_cleaner\n",
    "from synthetic_data.tasks.writing import find_valid_paragraph_chunks\n",
    "from IPython.display import display, Markdown\n",
    "\n",
    "tiktoken_encoder = tiktoken.get_encoding(\"o200k_base\")\n",
    "\n",
    "df_sampled = df.sample(100)\n",
    "for row in df.iter_rows(named=True):\n",
    "    text = row[\"text\"]\n",
    "    paragraphs = super_cleaner(text)\n",
    "\n",
    "    # find chunks of consecutive paragraphs with dialogue and at least 3 sentences\n",
    "    valid_chunks = find_valid_paragraph_chunks(paragraphs, tiktoken_encoder)\n",
    "    display(Markdown(f\"### {row['title']}\"))\n",
    "    for chunk in valid_chunks:\n",
    "        display(Markdown(chunk[0]))\n",
    "\n"
   ]
  }
 ],
 "metadata": {
  "kernelspec": {
   "display_name": ".venv",
   "language": "python",
   "name": "python3"
  },
  "language_info": {
   "codemirror_mode": {
    "name": "ipython",
    "version": 3
   },
   "file_extension": ".py",
   "mimetype": "text/x-python",
   "name": "python",
   "nbconvert_exporter": "python",
   "pygments_lexer": "ipython3",
   "version": "3.11.11"
  }
 },
 "nbformat": 4,
 "nbformat_minor": 2
}
