{
 "cells": [
  {
   "cell_type": "code",
   "execution_count": null,
   "metadata": {},
   "outputs": [],
   "source": [
    "import transformers\n",
    "import matplotlib.pyplot as plt\n",
    "import torch\n",
    "from transformers.models.clip.modeling_clip import CLIPModel\n",
    "from transformers.models.clip.processing_clip import CLIPProcessor\n",
    "from PIL import Image\n",
    "import numpy as np\n",
    "import matplotlib.pyplot as plt\n",
    "\n",
    "\n",
    "device = \"mps\"\n",
    "\n",
    "model = CLIPModel.from_pretrained(\"openai/clip-vit-base-patch32\").to(device)\n",
    "preprocess = CLIPProcessor.from_pretrained(\"openai/clip-vit-base-patch32\")"
   ]
  },
  {
   "cell_type": "code",
   "execution_count": null,
   "metadata": {},
   "outputs": [],
   "source": [
    "import os\n",
    "def get_number_prefix(filename):\n",
    "    # Split the filename by non-digit characters\n",
    "    parts = ''.join(filter(str.isdigit, filename))\n",
    "    # Convert the extracted digits to an integer\n",
    "    return int(parts) if parts else 0\n",
    "\n",
    "def get_sorted_files(directory):\n",
    "    # Get a list of all files in the directory\n",
    "    files = os.listdir(directory)\n",
    "    # Sort the files based on the number prefix using the custom key function\n",
    "    sorted_files = sorted(files, key=get_number_prefix)\n",
    "    return sorted_files\n",
    "\n",
    "def clip_encode_image(image_path):\n",
    "    # Load the image\n",
    "    img = Image.open(image_path)\n",
    "    image = preprocess(images=[img], return_tensors=\"pt\", padding=True)\n",
    "    image = {k: v.to(device) for k, v in image.items()}\n",
    "    \n",
    "    with torch.no_grad():\n",
    "        image_features = model.get_image_features(**image)\n",
    "    \n",
    "    return image_features\n",
    "\n",
    "def calculate_clip_distance(image_path1, image_path2):\n",
    "    # Load the images\n",
    "    image_features1 = clip_encode_image(image_path1)\n",
    "    image_features2 = clip_encode_image(image_path2)\n",
    "    \n",
    "    # Normalize the features\n",
    "    image_features1 = image_features1 / image_features1.norm(dim=-1, keepdim=True)\n",
    "    image_features2 = image_features2 / image_features2.norm(dim=-1, keepdim=True)\n",
    "    \n",
    "    # Calculate the distance (cosine similarity)\n",
    "    distance = 1 - torch.nn.functional.cosine_similarity(image_features1, image_features2)\n",
    "    \n",
    "    return distance.item()\n",
    "\n",
    "sample_dirs = ['samples/samples_15', 'samples/samples_15_lq', 'samples/samples_mq', 'samples/samples_xl_lq', 'samples/samples_xl_lq_high_cfg']\n",
    "sample_dir_files = [get_sorted_files(d) for d in sample_dirs]\n",
    "\n",
    "common_files = list(set(sample_dir_files[0]).intersection(*sample_dir_files))\n",
    "\n",
    "distances = []\n",
    "\n",
    "for i, file in enumerate(common_files):\n",
    "    baseline_file = f'{sample_dirs[0]}/{file}'\n",
    "    distances_for_file = []\n",
    "    for j, sample_dir in enumerate(sample_dirs[1:]):\n",
    "        sample_file = f'{sample_dir}/{file}'\n",
    "        distance = calculate_clip_distance(baseline_file, sample_file)\n",
    "        print(f'{i+1} {j+1} {file} {distance}')\n",
    "        distances_for_file.append(distance)\n",
    "    distances.append(distances_for_file)"
   ]
  },
  {
   "cell_type": "code",
   "execution_count": null,
   "metadata": {},
   "outputs": [],
   "source": [
    "distances_np = np.array(distances)\n",
    "# transpose\n",
    "distances_np = distances_np.T"
   ]
  },
  {
   "cell_type": "code",
   "execution_count": null,
   "metadata": {},
   "outputs": [],
   "source": [
    "\n",
    "# Calculate differences between baseline and sample values for each sample\n",
    "\n",
    "# Plotting\n",
    "plt.figure(figsize=(12, 6))\n",
    "for i in range(len(distances_np)):\n",
    "    plt.plot(distances_np[i], label=sample_dirs[i])\n",
    "\n",
    "plt.title('Difference from Baseline for Samples')\n",
    "plt.xlabel('Sample index')\n",
    "plt.ylabel('CLIP distance')\n",
    "plt.grid(True)\n",
    "plt.legend()\n",
    "plt.show()\n"
   ]
  }
 ],
 "metadata": {
  "kernelspec": {
   "display_name": "venv",
   "language": "python",
   "name": "python3"
  },
  "language_info": {
   "codemirror_mode": {
    "name": "ipython",
    "version": 3
   },
   "file_extension": ".py",
   "mimetype": "text/x-python",
   "name": "python",
   "nbconvert_exporter": "python",
   "pygments_lexer": "ipython3",
   "version": "3.11.2"
  }
 },
 "nbformat": 4,
 "nbformat_minor": 2
}
