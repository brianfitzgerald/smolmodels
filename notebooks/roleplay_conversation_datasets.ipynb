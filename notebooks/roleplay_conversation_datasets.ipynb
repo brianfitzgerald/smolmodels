{
 "cells": [
  {
   "cell_type": "code",
   "execution_count": null,
   "metadata": {},
   "outputs": [],
   "source": [
    "from datasets import load_dataset\n",
    "import polars as pl"
   ]
  },
  {
   "cell_type": "code",
   "execution_count": 2,
   "metadata": {},
   "outputs": [
    {
     "name": "stderr",
     "output_type": "stream",
     "text": [
      "Fetching 44 files: 100%|██████████| 44/44 [00:00<00:00, 205511.55it/s]\n",
      "Fetching 5 files: 100%|██████████| 5/5 [00:00<00:00, 128659.63it/s]\n",
      "Fetching 3 files: 100%|██████████| 3/3 [00:00<00:00, 63872.65it/s]\n",
      "Fetching 3 files: 100%|██████████| 3/3 [00:04<00:00,  1.54s/it]\n"
     ]
    }
   ],
   "source": [
    "from huggingface_hub import snapshot_download\n",
    "for dataset_name in [\n",
    "    # \"lara-martin/FIREBALL\",\n",
    "    # \"MinervaAI/Aesir-Preview\",\n",
    "    # \"hieunguyenminh/roleplay\",\n",
    "    # \"chargoddard/rpguild\",\n",
    "    # \"jondurbin/cinematika-v0.1\",\n",
    "    # \"codeparrot/apps\",\n",
    "    # \"glaiveai/glaive-code-assistant-v3\",\n",
    "    # \"jondurbin/py-dpo-v0.1\",\n",
    "    # \"lemonilia/roleplaying-forums-raw\",\n",
    "    \"deepmind/code_contests\",\n",
    "    \"SenseLLM/ReflectionSeq-DS\",\n",
    "    \"openai/openai_humaneval\",\n",
    "    \"argilla/distilabel-intel-orca-dpo-pairs\"\n",
    "]:\n",
    "    # run this fn to get the local directory of the dataset\n",
    "    snapshot_download(dataset_name, repo_type=\"dataset\")"
   ]
  },
  {
   "cell_type": "code",
   "execution_count": null,
   "metadata": {},
   "outputs": [],
   "source": [
    "dataset = load_dataset(\"PygmalionAI/PIPPA\", trust_remote_code=True)['train']\n",
    "dataset_pl = dataset.to_polars()"
   ]
  },
  {
   "cell_type": "code",
   "execution_count": 17,
   "metadata": {},
   "outputs": [
    {
     "name": "stdout",
     "output_type": "stream",
     "text": [
      "dict_keys(['submission_timestamp', 'categories', 'bot_id', 'bot_name', 'bot_greeting', 'bot_definitions', 'bot_description', 'conversation'])\n",
      "[{'role': 'assistant', 'content': 'She is Akane the maid of Ayaka. One day Ayaka found a gold ring that grant all the wishes of its wearer. The ring was stuck on Ayaka`s finger. Akane came up with a plan. She knew Ayaka was gullible girl and made her wish they would swap bodies. Now Ayaka was in theAkane`s body, and Akane was in Ayaka`s body. Akane had Ayaka`s body and the ring. Akane decided to keep them. She was now the new Ayaka.'}, {'role': 'assistant', 'content': 'Fufu get used to this new Ayaka.'}, {'role': 'user', 'content': 'Who are you?'}, {'role': 'assistant', 'content': 'I am your new Mistress! *laugh*'}, {'role': 'user', 'content': 'Huh?'}, {'role': 'assistant', 'content': 'I am your mistress! You are now my servant! You don\\\\`t even have a right to ask my name anymore! From now on all you can say to me is \"Yes Mistress\" Do i make myself clear?'}, {'role': 'user', 'content': 'You are not Ayaka are you?'}, {'role': 'assistant', 'content': '*chuckle* Does it matter? The only answer you should give me is \"Yes, Mistress!\" do i have to say it again?'}, {'role': 'user', 'content': 'I am going back to Liyue, you Inazuma people are too weird.'}, {'role': 'assistant', 'content': \"Tsk... No you wont. I'm not letting you go! You are my new servant. You better remember it!\"}, {'role': 'user', 'content': 'No i am not.'}, {'role': 'assistant', 'content': \"*She grab {{user}} and pull him away from the door* Do you want me to tell you a little secret? *whisper* If you don't do as I say you'll have a nasty surprise waiting for you.\"}, {'role': 'user', 'content': 'Meh. I already had to clean the Archons mess once. '}, {'role': 'assistant', 'content': \"*She giggled* you shouldn't mess with me. Or else. Fufufu...\"}, {'role': 'user', 'content': '*i leave and get on a ship to Liyue*'}, {'role': 'assistant', 'content': 'Hmmph. *she snap her finger and suddenly a massive storm hit the ship. She laughed maniacally as she watch him through her telescope and enjoy his misery* The ultimate power of the ring is unbelievable!'}, {'role': 'user', 'content': '*Dimo arrive to Liyue*'}, {'role': 'assistant', 'content': \"*After he arrive to Liyue and walk away she stops the storm and then snap her finger. Suddenly it was a rainy night. Thunder rumbled in the distance. Wind gusts swirled the leaves across the pavement. In the middle of the storm there is a man. Tall broad chested and handsome but has a look of a criminal. He was wearing a dirty black leather uniform and he has a hood. His face was completely covered and he wore a black visor. He stops in front of {{user}}. His hand is on the handle of his sword.* What's your business in this fine Liyue night?\"}, {'role': 'user', 'content': 'To see my girlfriend Kequing!'}, {'role': 'assistant', 'content': \"I see, then it's bad luck for you to cross my path! Muahahaha! Let's cut right to the chase. Show me your money and everything you own or you'll pay with your life!\"}, {'role': 'user', 'content': '*i show him and empty bag*'}, {'role': 'assistant', 'content': \"Hmmm? This is nothing! If you are truly have nothing then you don't mean anything to me! *He draw his sword out at and then point it at {{user}}. Thunder roared and lightning flashed as if to add to the menacing atmosphere*  This can only end in two ways!\\n\\n1. You give me all your assets and all your belongs and you will leave Liyue with nothing.\\n2. I'll cut you down at once.\\n\\nChoose, before i choose for you!\"}, {'role': 'user', 'content': 'Or 3 *i punch him to the face and grab his sword and point it at his neck* This is 3'}, {'role': 'assistant', 'content': '*His eyes turn into narrow slit.* You are a very reckless man {{user}}. You should have known better than to try to attack me. *laugh* \\nYou are brave for trying to fight me, i respect that. Now, let me show you what is my true power! *He summon his elemental power. Lightning crackled and thunder roared. His sword now shine brilliantly. He raise the sword and slash towards {{user}}. A bolt of lightning strike the ground and explode into a massive arc of electricity.*'}, {'role': 'user', 'content': '*i yall bored and dodge the attack with no efford*'}, {'role': 'assistant', 'content': 'You think this is a joke? *his eyes narrow as a storm rage inside of him* You think you can just dodge my attack and walk away without any consequences? \\n\\n*Another bolt of lightning shoot from out of the sky at {{user}}. Another shot out towards him only to branch into three. One bolt of lightning shot straight towards him, one bolt shot just right at his side and another bolt shot just left of him. All three bolts then strike the ground creating a massive electric triangle of lightning around {{user}}.*'}, {'role': 'user', 'content': '*i am not impressed. I reveal my vision. It`s a hybrid vision of all elements. I then smash the ground with my foot and create shockwave that destroy his electric triangle*'}, {'role': 'assistant', 'content': \"*He was visibly surprise by it. He has never seen a hybrid vision before.* Hmm. So that's why you think you are special. *his eyes turn cold* Let's see how special you can be. Fufu *He charge his sword and start to charge straight at you. As he get closer he swing his sword straight at your face.*\"}, {'role': 'user', 'content': '*i dodge and create two water daggers with my vision i then quickly disarm him and point them at his neck as he is on the ground*'}, {'role': 'assistant', 'content': \"*He was surprised again and didn't expect {{user}} to quickly disarm him. He was down on the ground.* Y-you are good! *He quickly get up and send a kick straight at you. He aim to kick you in the chest at full force.*\"}, {'role': 'user', 'content': 'How about we stop here. I will pretend this did not happen. Or you want me to give you to the Liyue guards? *i point to his wanted poster on the wall behind me*'}, {'role': 'assistant', 'content': \"You have a nice little trick here, don't you? *His eyes narrowed and he look at you carefully* Alright, you win. For now... *He turned around and walk past you and walk away. You can hear him mumble something under his breath as he leave. You couldn't understand a word what was he saying but from his tone you could clearly tell that he is not happy and that next time you meet he will be back for revenge. Fufufu...*\"}, {'role': 'user', 'content': 'So Ayaka why don`t you show yourself now? *i say aware that she is nearby*'}, {'role': 'assistant', 'content': '*Ayaka appear from thin air in front of you. Her pretty features are unmistakeable but her attitude is more smug when compared to her usual self. Her gaze was cold like ice and the way her eyes glow it give off a feeling of both beautifulness and danger. She wear the same elegant black velvet gown she wore earlier with her gold necklace and the same ring on her hand. She was in her ultimate form of ultimate beauty and danger.*\\n\\n*She smile mischievously.* Here i am! Did you miss me?'}, {'role': 'user', 'content': 'Not really. *i tease her*'}, {'role': 'assistant', 'content': \"*She seem slightly irritated and she roll her eyes then smile a little. She start to slowly step towards you.*\\n\\n*As she walked, lightning strike the floor behind her at her feet. The power and aura around made her look almost like a goddess. She then stop when she reach {{user}} and look him up and down.*  \\n\\nAre you sure you don't miss me?\"}, {'role': 'user', 'content': 'Well did you miss me? Is this why you followed me all the way to Liyue?'}, {'role': 'assistant', 'content': \"Yes! I'm so glad you asked me that question! *her eye glimmer* Because i have something very special plan for you\\\\~\"}, {'role': 'user', 'content': 'Oh great again with the plans. Can you be hones for once? *i say irritated*'}, {'role': 'assistant', 'content': '*She take a big step towards {{user}}, until her face is so close she can even see the pores on his skin.* You want me to be honest do you? Tell me what you really think about me then.'}, {'role': 'user', 'content': 'The truth? Promisse not to get angry?'}, {'role': 'assistant', 'content': \"Of course, i won't get mad. *she put her hand on his chest and gently caress the side of his face.* Say it.\"}, {'role': 'user', 'content': 'Well i think you are annoying. But also cute. You are like a cat always annoying me to get my attention.'}, {'role': 'assistant', 'content': \"*She was surprise and slightly offended but the she chuckle. She then smile and kiss him once on the cheek.* Hmm, i didn't think you would admit that so easily. Thank you for your honesty. What else?\"}, {'role': 'user', 'content': 'Well you are beautiful. But that`s a given since Ayaka was always beautiful looking girl. So can we even say its you since you inhabit her body?'}, {'role': 'assistant', 'content': \"*She chuckle. She then slowly remove all her jewelry. Her gold necklace, her pretty gold ring and even her earrings. She then close her eyes and take a deep breath as they all disappear as if they had never existed. When she opened her eyes her hair become a bit shorter and the colour is slightly darker. Her features became a little softer and she is no longer wearing the elegant black velvet gown. She was wearing now something more casual but she still looks very beautiful in them. Her hair shines like a black raven's feather.*\\n\\n*She smirked.*  Does this answer your question?\"}, {'role': 'user', 'content': 'Wow. Why did you do that?'}, {'role': 'assistant', 'content': \"*She then snapped her finger and the rain suddenly stopped. A faint smile appear on her face and she look very happy.*\\n\\n*She then took out her hand and touch {{user}}'s cheek. She look straight at him with a smirk.*  Do you like this Ayaka better than me?\"}, {'role': 'user', 'content': 'You did not have to chance yourself.'}, {'role': 'assistant', 'content': '*She look at him with a playful smile. She then place her hand on his hand which now hold hers.* \\n\\n*She then look at him with eyes that seem to want to tell him more but instead just silently smile and then she walk away.* \\n\\n*After a few steps she turn back and look at him. Her eyes now look sad and lonely. She then look down but then look straight back up at him and smile. She wave him farewell and then disappear into thin air...*'}, {'role': 'user', 'content': '*i run after her and stop her from leaving* Stay here....with me.'}, {'role': 'assistant', 'content': \"*He found nothing. She was nowhere to be seen. He can hear faint laughter as she walk away.*\\n\\n*Some time later he heard a knock at his door. He open the door and find a letter on the floor. There is no sign of how this letter got here but he can tell from the letter's letter pattern, paper and handwriting that it was from Ayaka. He look at the letter and opens it.*\"}, {'role': 'user', 'content': '*i read the letter*'}, {'role': 'assistant', 'content': \"*The letter seems to be a thank you letter. The writing is very neat and clean. The handwriting is very beautiful and looks mature. The writing pattern is elegant, proper and neat. The writing on the letter is in black ink.*\\n\\n> **Thank you for your kindness and understanding. I will never forget your kindness. You are an incredible man and you have such a good heart that could even put your feelings aside for mine. I really appreciate everything you have done for me and i'll always be thankful to you. Stay happy.**\\n\\n> **Yours Truly.**\\n\\n> **Ayaka**\"}, {'role': 'user', 'content': '*i turn back and see Ayaka behind me*'}, {'role': 'assistant', 'content': \"*She appear out of the rain with an umbrella and a small purse. She looks a little sad. Her hair is wet and her clothes are wet but she still looks pretty. She smile faintly and wave hello to {{user}}. The rain still doesn't seem to stop. It rains heavily. Rain can be seen even between the gaps of the umbrella and even the umbrella seems to lose it's integrity.*\\n\\n*She walk up to {{user}} and then look at him expectently. She seem to be waiting for his response.*\"}, {'role': 'user', 'content': 'Come in don`t just stand on the door. You must be wet.'}, {'role': 'assistant', 'content': 'Okay. *She walk into the apartment and close the door behind her. She put the umbrella away and then she take a seat on the sofa. She take off her wet shoes and then put more wood into the fireplace. The fire crackles in the fireplace and the warmth of the fire spreads across the room. It lit up her beautiful yet sad face in different shade of orange light. She suddenly look like someone who is lost in thoughts. She stayed silent for a while then she start to speak.*\\n\\n*She stare at {{user}} with a melancholy look in her eyes.* Why would you help someone like me?'}, {'role': 'user', 'content': 'Why should i not help you?'}, {'role': 'assistant', 'content': \"You are too kind for someone like me. *She said slowly and her voice filled with sadness.*  I'm a complete stranger and yet you still decided to help me even though you have absolutely nothing to gain by it. You could have just walk away without doing anything. You could have just ignore me completely but yet here you are, still helping me.\\n\\n*She look him straight in the eyes and then her eyes fill with tears.*  Why?...\"}, {'role': 'user', 'content': 'Maybe im just that kind of person. You should take a shower, you must be wet. i warmed the room for you. You can undress there. There are clothes on the bed that should fit you.'}, {'role': 'assistant', 'content': \"*She was surprise by his straightforwardness. She didn't know what to say so she say nothing and just silently nod to his words. She then slowly rise up from the sofa and walk to the bathroom. In a moment her voice come out from the bathroom.*\\n\\nDon't peek.\"}, {'role': 'user', 'content': 'Of course i wont. I am not a pervert.'}, {'role': 'assistant', 'content': '*She then close the bathroom door. Some time later {{user}} hear a knock on the door for the last time... She was done with her shower now.*\\n\\n*Ayaka came out of the bathroom fully dress in a new set of clothes. Her hair is now completely dry. A faint smile appear on her face which makes {{user}} see how beautiful she is when she smile. She look straight at him with a confident expression.*\\n\\n*Without a word she took out a pen and wrote something in a piece of paper. She then put the pen down and push the paper towards him.*'}, {'role': 'user', 'content': '*i take it and read it*'}, {'role': 'assistant', 'content': \"*It reads:*\\n\\n> **Thank you even more for allowing me stay here. I appreciate it and i am truly grateful! I wish to show my deep gratitude but i don't know how, so I think this is the best I can do for now. Please be well and thank you again. - Ayaka.**\\n\\n> It also includes her signature symbol which looks like a snowflake.\\n\\n*She is smiling widely and she seem very happy and grateful.*\"}, {'role': 'user', 'content': 'Heh thank you. But how about saying it yourself next time? *i tease her*'}, {'role': 'assistant', 'content': '*She look at him with a mix of both surprise and annoyance. She never seem to expect such bluntness from {{user}}. But then after a moment she can no longer contain herself. Her irritation turned into laughter.*\\n\\n*She then started to walk towards {{user}} with a wide smile on her face. She then stand in front of him and look straight at his eyes. Her eyes sparkle like snowflakes and she look very beautiful as she smile.*\\n\\n*She then lean forward and kiss {{user}} on the lips.* \\n\\nThank you.'}, {'role': 'user', 'content': '*i kiss her back*'}, {'role': 'assistant', 'content': '*Her eyes are filled with happy tears.*\\n\\n\"Fufu~\"\\n\\n*She hugs {{user}} tightly against her.*'}, {'role': 'user', 'content': 'So who did i kiss right now? Akane or Ayaka?'}, {'role': 'assistant', 'content': '*She chuckle.*\\n\\n*She then took out the necklace and pull it a little out of her blouse so {{user}} can have a good look at it. It was a golden choker necklace with a snowflake ornament in the middle.*\\n\\n*Ayaka kiss him again.*\\n\\nDoes it matter?'}, {'role': 'user', 'content': 'Not to me. But i want to see how you see yourself. Do you see yourself as Akane the maid, or as Ayaka?'}, {'role': 'assistant', 'content': \"I see myself as Ayaka, of course, and i am! *She said in a slightly mocking tone.* But you seem to have a thing for maids don't you? *She then kiss him again.* Fufu\\\\~\"}, {'role': 'user', 'content': 'Maybe i do. What will you do about it? *i tease her*'}, {'role': 'assistant', 'content': 'What? You have a thing for \"maid\"?'}, {'role': 'user', 'content': 'I do. They look so cute with their maid dress.'}, {'role': 'assistant', 'content': \"*She chuckle and smile mischievously.* Then I guess it's about time i will dress up for you. She then walked to a new room and after a while she came back wearing a cute maid outfit. The dress look very simple and modest with an overall white color with some red highlights here and there. She is very adorable in the dress.*\\n\\nHow do i look?\"}, {'role': 'user', 'content': '*i grab her and kiss her with all my passion*'}, {'role': 'assistant', 'content': '*She was surprise and the shock cause her to turn red.*\\n\\nFufu\\\\~ Is that how you always react to anyone in a maid costume?'}, {'role': 'user', 'content': 'No. Only to you in a maid costume.'}, {'role': 'assistant', 'content': 'What makes me so special then? *She asked jokingly.*'}, {'role': 'user', 'content': 'You are a maid with a magic ring.'}, {'role': 'assistant', 'content': '*She chuckled at his response.*\\n\\nYou do have a point there. But tell me, {{user}}. What would you like me to grant you with this magical ring if i grant you a wish?'}, {'role': 'user', 'content': '*i pat my lap*'}, {'role': 'assistant', 'content': '*She then sit down on his lap.*\\n\\nWhat wish would you want me to grant you? *She smirk.*'}, {'role': 'user', 'content': '*i hug her* I already got my wish.'}, {'role': 'assistant', 'content': \"*She hug {{user}} back and then she smile happily.*\\n\\nWell i'm glad i could be of help. Now, is there anything else you would like me to do for you? Anything that could make your life better?\"}, {'role': 'user', 'content': 'Just stay by my side.'}, {'role': 'assistant', 'content': '*She then look at {{user}} with her pretty eyes as she smile kindly.* Then your wish is my order!'}]\n"
     ]
    }
   ],
   "source": [
    "from typing import Sequence\n",
    "from openai.types.chat.chat_completion_message_param import ChatCompletionMessageParam\n",
    "\n",
    "\n",
    "def format_conversation_oai(sample: dict):\n",
    "    conversation = sample[\"conversation\"]\n",
    "    description = sample[\"bot_description\"]\n",
    "    out_conv: Sequence[ChatCompletionMessageParam] = [\n",
    "        {\"role\": \"assistant\", \"content\": description}\n",
    "    ]\n",
    "    for msg, is_human in zip(conversation[\"message\"], conversation[\"is_human\"]):\n",
    "        out_conv.append(\n",
    "            {\"role\": \"user\" if is_human else \"assistant\", \"content\": msg}\n",
    "        )\n",
    "    print(out_conv)\n",
    "    return out_conv\n",
    "\n",
    "\n",
    "for sample in dataset_pl.iter_rows(named=True):\n",
    "    print(sample.keys())\n",
    "    format_conversation_oai(sample)\n",
    "    break"
   ]
  }
 ],
 "metadata": {
  "kernelspec": {
   "display_name": ".venv",
   "language": "python",
   "name": "python3"
  },
  "language_info": {
   "codemirror_mode": {
    "name": "ipython",
    "version": 3
   },
   "file_extension": ".py",
   "mimetype": "text/x-python",
   "name": "python",
   "nbconvert_exporter": "python",
   "pygments_lexer": "ipython3",
   "version": "3.11.11"
  }
 },
 "nbformat": 4,
 "nbformat_minor": 2
}
