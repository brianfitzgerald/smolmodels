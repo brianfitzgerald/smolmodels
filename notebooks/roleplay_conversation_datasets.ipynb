{
 "cells": [
  {
   "cell_type": "code",
   "execution_count": 96,
   "metadata": {},
   "outputs": [],
   "source": [
    "from datasets import load_dataset\n",
    "import polars as pl\n",
    "from huggingface_hub import snapshot_download\n",
    "import os\n",
    "from typing import Sequence\n",
    "from openai.types.chat.chat_completion_message_param import ChatCompletionMessageParam\n",
    "from datasets import Dataset\n",
    "from pathlib import Path\n",
    "from pprint import pprint\n",
    "from IPython.display import Markdown, display"
   ]
  },
  {
   "cell_type": "code",
   "execution_count": 38,
   "metadata": {},
   "outputs": [],
   "source": [
    "for dataset_name in [\n",
    "    # \"lara-martin/FIREBALL\",\n",
    "    # \"MinervaAI/Aesir-Preview\",\n",
    "    # \"hieunguyenminh/roleplay\",\n",
    "    # \"chargoddard/rpguild\",\n",
    "    # \"jondurbin/cinematika-v0.1\",\n",
    "    # \"codeparrot/apps\",\n",
    "    # \"glaiveai/glaive-code-assistant-v3\",\n",
    "    # \"jondurbin/py-dpo-v0.1\",\n",
    "    # \"lemonilia/roleplaying-forums-raw\",\n",
    "    # \"deepmind/code_contests\",\n",
    "    # \"SenseLLM/ReflectionSeq-DS\",\n",
    "    # \"openai/openai_humaneval\",\n",
    "    # \"argilla/distilabel-intel-orca-dpo-pairs\"\n",
    "    # not downloaded\n",
    "    # Squish42/bluemoon-fandom-1-1-rp-cleaned\n",
    "]:\n",
    "    # run this fn to get the local directory of the dataset\n",
    "    snapshot_download(dataset_name, repo_type=\"dataset\")"
   ]
  },
  {
   "cell_type": "code",
   "execution_count": null,
   "metadata": {},
   "outputs": [],
   "source": [
    "files = snapshot_download(\"lemonilia/roleplaying-forums-raw\", repo_type=\"dataset\")\n",
    "files"
   ]
  },
  {
   "cell_type": "code",
   "execution_count": null,
   "metadata": {},
   "outputs": [],
   "source": [
    "dataset = load_dataset(\"PygmalionAI/PIPPA\", trust_remote_code=True)['train']\n",
    "dataset_pl = dataset.to_polars()\n",
    "\n",
    "\n",
    "def format_conversation_oai(sample: dict):\n",
    "    # TODO handle interpolation and character intros\n",
    "    conversation = sample[\"conversation\"]\n",
    "    description = sample[\"bot_description\"]\n",
    "    out_conv: Sequence[ChatCompletionMessageParam] = [\n",
    "        {\"role\": \"assistant\", \"content\": description}\n",
    "    ]\n",
    "    for msg, is_human in zip(conversation[\"message\"], conversation[\"is_human\"]):\n",
    "        out_conv.append(\n",
    "            {\"role\": \"user\" if is_human else \"assistant\", \"content\": msg}\n",
    "        )\n",
    "    print(out_conv)\n",
    "    return out_conv\n",
    "\n",
    "\n",
    "for sample in dataset_pl.iter_rows(named=True):\n",
    "    print(sample.keys())\n",
    "    format_conversation_oai(sample)\n",
    "    break"
   ]
  },
  {
   "cell_type": "code",
   "execution_count": null,
   "metadata": {},
   "outputs": [],
   "source": [
    "cinematika_root_dir = snapshot_download(\"jondurbin/cinematika-v0.1\", repo_type=\"dataset\")\n",
    "os.listdir(cinematika_root_dir)"
   ]
  },
  {
   "cell_type": "code",
   "execution_count": null,
   "metadata": {},
   "outputs": [],
   "source": [
    "for filename in os.listdir(cinematika_root_dir):\n",
    "    file_path = os.path.join(cinematika_root_dir, filename)\n",
    "    _, extension = os.path.splitext(file_path)\n",
    "    print(filename)\n",
    "    if extension == \".parquet\":\n",
    "        dataset = Dataset.from_parquet(file_path)\n",
    "        print(len(dataset))"
   ]
  },
  {
   "cell_type": "code",
   "execution_count": 78,
   "metadata": {},
   "outputs": [],
   "source": [
    "scene_by_scene_dataset = Dataset.from_parquet(os.path.join(cinematika_root_dir, \"scene_by_scene.parquet\"))\n",
    "actions_dataset = Dataset.from_parquet(os.path.join(cinematika_root_dir, \"actions.parquet\"))\n",
    "plain_scenes_dataset = Dataset.from_parquet(os.path.join(cinematika_root_dir, \"full_script.parquet\"))"
   ]
  },
  {
   "cell_type": "code",
   "execution_count": null,
   "metadata": {},
   "outputs": [],
   "source": [
    "rp_root_dir = snapshot_download(\"chargoddard/rpguild\", repo_type=\"dataset\")\n",
    "print(rp_root_dir)\n",
    "os.listdir(rp_root_dir)\n",
    "print(open(os.path.join(rp_root_dir, \"README.md\")).read())"
   ]
  },
  {
   "cell_type": "code",
   "execution_count": 90,
   "metadata": {},
   "outputs": [],
   "source": [
    "rp_grammar_filtered_path = os.path.join(rp_root_dir, \"grammar_filtered\", \"train-00000-of-00001.parquet\")\n",
    "rp_grammar_filtered_dataset = Dataset.from_parquet(rp_grammar_filtered_path)"
   ]
  },
  {
   "cell_type": "code",
   "execution_count": 108,
   "metadata": {},
   "outputs": [
    {
     "data": {
      "text/plain": [
       "Dataset({\n",
       "    features: ['username', 'char_name', 'bio', 'context', 'reply', 'char_confidence'],\n",
       "    num_rows: 27053\n",
       "})"
      ]
     },
     "execution_count": 108,
     "metadata": {},
     "output_type": "execute_result"
    }
   ],
   "source": [
    "rp_grammar_filtered_dataset"
   ]
  },
  {
   "cell_type": "code",
   "execution_count": 122,
   "metadata": {},
   "outputs": [
    {
     "data": {
      "text/markdown": [
       "### Sample 0"
      ],
      "text/plain": [
       "<IPython.core.display.Markdown object>"
      ]
     },
     "metadata": {},
     "output_type": "display_data"
    },
    {
     "data": {
      "text/markdown": [
       "**Rithrynn Syn'Dial**\n",
       "\n",
       " \"Oh, no; no! Everything's fine!\" Rithrynn quickly replied to Sharon's concerned expression; eluding to the fact that Liaena had left the house; and swiftly conjuring up the most reassuring smile that she could give him. Leaning a little over him to peer into the room, noticing that it was empty; Rithrynn's eyes fell back down to Sharon.\n",
       "\n",
       "\"Mind if I come in?\"\n",
       "\n",
       "Rithrynn asked, yet the Night Elf had already squeezed herself through the opening in the door and inside the room; pushing Sharon back inside as she entered before the High Elf could even have time to answer properly.\n",
       "\n",
       "Standing in the room, the Sentinel took a moment to gaze around in the dimly lit room. Given the Night Elves' natural affinity for darkness and superior night vision, the lack of lighting bothered her much less so than what it probably did the High Elf.\n",
       "Moving one leg behind the other, she used the back of her heel to close the door shut behind her. As they were finally alone, separated and removed from the noise in the rest of the house; Rithrynn's attention finally returned to Sharon. Walking over to the High Elf, Rithrynn grabbed him by his shoulders as she looked down at him with a look of almost unbridled glee as she smiled.\n",
       "\n",
       "\"I just wanted to talk to you, Shaw... \""
      ],
      "text/plain": [
       "<IPython.core.display.Markdown object>"
      ]
     },
     "metadata": {},
     "output_type": "display_data"
    },
    {
     "data": {
      "text/markdown": [
       "**Sharon Daerin'Lei**\n",
       "\n",
       " Sharon gazed back up at Rithrynn for a couple of moments, his eyes racing over happy features on her face.\n",
       "\n",
       "Although his old, natural instincts shouted out the obvious warning signs; the High Elf slowly nodded, before smiling back at Rithrynn.\n",
       "\n",
       "\"Of course,\" Sharon confirmed, making an attempt to move; yet Rithrynn's solid grip prevented him from doing much. Staring back at the Night Elf, Sharon eventually motioned towards a set of sofas and table at the side of the room.\n",
       "\"Why don't you find yourself a seat over there, and I will get some light up in this room? I really did not expect anyone at this hour.\"\n",
       "\n",
       "---\n",
       "\n",
       "\"If you hadn't been so damnable lucky with the appearance of that elf, you'd have been MINE!\" Sounded Astrid's angry voice from the bag as it shuffled around, much to Donald's discomfort as he was on the bottom.\n",
       "\n",
       "Doin furrowed his brow at the bag, intrigued by the unusual sight. There was a lot he did not know about Liaena, yet he learned something new everything he met her.\n",
       "\n",
       "\"Say'e, there shouldn't be annea problem with ye spendin' a night over. We got more rooms than we can fill, and we usually don't rent them out to just anybody; this being guild property and all.\" Doin finally said, giving Liaena a smile as he picked up his pipe.\n",
       "\"After all, the boss owe me some favors. I'll get ye tha finest room we have available!\"\n",
       "\n",
       "\"Hopefully without any overgrown fairies breaking in through the windows this time.\" Frarn mentioned jokingly as he walked up next to his father. However, the two dwarves paused as their eyes drifted over to Kathlin, in Liaena's form; who was currently standing in the room.\n",
       "\"Is that a friend of yours?\"\n",
       "\n",
       "Doin peered over to Kathlin, before chuckling.\n",
       "\n",
       "\"I'm pretty sure she is, son. After all, who in their right mind would ever trust their own image in the hands of someone they didn't trust absolutely? Hah!\""
      ],
      "text/plain": [
       "<IPython.core.display.Markdown object>"
      ]
     },
     "metadata": {},
     "output_type": "display_data"
    },
    {
     "data": {
      "text/markdown": [
       "**Sharon Daerin'Lei**\n",
       "\n",
       " Sharon gazed back up at Rithrynn for a couple of moments, his eyes racing over happy features on her face.\n",
       "\n",
       "Although his old, natural instincts shouted out the obvious warning signs; the High Elf slowly nodded, before smiling back at Rithrynn.\n",
       "\n",
       "\"Of course,\" Sharon confirmed, making an attempt to move; yet Rithrynn's solid grip prevented him from doing much. Staring back at the Night Elf, Sharon eventually motioned towards a set of sofas and table at the side of the room.\n",
       "\"Why don't you find yourself a seat over there, and I will get some light up in this room? I really did not expect anyone at this hour.\"\n",
       "\n",
       "---\n",
       "\n",
       "\"If you hadn't been so damnable lucky with the appearance of that elf, you'd have been MINE!\" Sounded Astrid's angry voice from the bag as it shuffled around, much to Donald's discomfort as he was on the bottom.\n",
       "\n",
       "Doin furrowed his brows at the bag, intrigued by the unusual sight. There was a lot he did not know about Liaena, yet he learned something new every time he met her.\n",
       "\n",
       "\"Say'e, there shouldn't be annea problem with ye spendin' a night over. We got more rooms than we can fill, and we usually don't rent them out to just anybody; this being guild property and all.\" Doin finally said, giving Liaena a smile as he picked up his pipe.\n",
       "\"After all, the boss owe me some favors. I'll get ye tha finest room we have available!\"\n",
       "\n",
       "\"Hopefully without any overgrown fairies breaking in through the windows this time.\" Frarn mentioned jokingly as he walked up next to his father. However, the two dwarves paused as their eyes drifted over to Kathlin, in Liaena's form; who was currently standing in the room.\n",
       "\"Is that a friend of yours?\"\n",
       "\n",
       "Doin peered over to Kathlin, before chuckling.\n",
       "\n",
       "\"I'm pretty sure she is, son. After all, who in their right mind would ever trust their own image in the hands of someone they didn't trust absolutely? Hah!\""
      ],
      "text/plain": [
       "<IPython.core.display.Markdown object>"
      ]
     },
     "metadata": {},
     "output_type": "display_data"
    },
    {
     "data": {
      "text/markdown": [
       "**Rithrynn Syn'Dial**\n",
       "\n",
       " Rithrynn continued to peer back at Sharon for a couple of moments after he asked her. With a soft smile, she subtly nodded with her head as she removed her hands from him.\n",
       "\n",
       "\"Okay... \" The Sentinel spoke, before stepping over to the nearby sofa. It was a rare thing to have Liaena away and Sharon still in the house, seeing as the nosy human usually didn't let Sharon get far away from her notice. In one sense, the attack from the mysterious assassins was a good thing as it finally took Liaena's paranoia away from Rithrynn and over to them.\n",
       "\n",
       "As she walked over to the sofa, she brushed off some of the snow flakes that still remained on her cloak from the outside, before extending her butt and slumping it down into the cushioning embrace of the sofa.\n",
       "\n",
       "\"Have you been up here by yourself for a long time?\" Rithrynn asked as she had become comfortable in the couch, allowing her eyes to trail back to the High Elf in her room.\n",
       "\"I hope the assassins are not forcing you into solitude... \"\n",
       "\n",
       "Rithrynn said as she gave Sharon a sympathetic look through the room, while fiddling with her gloves in the meantime as she removed them and placed them, alongside her Sentinel bracers, onto the table before her."
      ],
      "text/plain": [
       "<IPython.core.display.Markdown object>"
      ]
     },
     "metadata": {},
     "output_type": "display_data"
    },
    {
     "data": {
      "text/markdown": [
       "**Sharon Daerin'Lei**\n",
       "\n",
       " \"Oh, no. I wouldn't worry about that.\" Sharon answered confidently as the High Elf turned to the candles around in the room.\n",
       "\n",
       "Pulling his arm out from under his cloak, he held his hand up in the air for a moment. Conjoining his thumb and ring finger, Sharon uttered a silent a silent spell. Snapping his fingers, half a dozen small lights suddenly ignited around the study, partly illuminating the room and chasing away some of the shadows around the corner where Rithrynn was.\n",
       "\n",
       "\"Greymoon and the others were here not long ago... \" Sharon explained with a smirk as he ventured over to his office desk to retrieve the half empty bottle of wine and two glasses from his secret stash.\n",
       "\" at least... before I fell asleep, that was... how long was I out??\"\n",
       "\n",
       "Sharon paused for a moment as the High Elf simply stared up in the direction of the room as he tried to remember.\n",
       "\n",
       "Unable to, the High Elf shrugged and merely let out a light chuckle before he continued over to Rithrynn. \"Doesn't matter... \"\n",
       "\n",
       "Reaching the sofas and the table, he placed the wine alongside the two glasses down onto it, before looking at Rithrynn with a friendly smile.\n",
       "\n",
       "\"Can I offer you something to drink?\" He asked as he picked the bottle up again and attempted to remove the cork. Yet Greymoon, being the last one to seal it, had pushed the cork so far down into the bottle that it was almost impossible to get a proper grip around it. Still attempting to grab it, the High Elf tried and failed a couple of times to pull it out before giving up. Grimacing at the bottle, he turned back to Rithrynn and smiled again at her.\n",
       "\n",
       "\"Also, I fear your sisters may not view me in the same light as you, Rithrynn. Light, they are... well, I mean you are rather tolerant. Relatively speaking.\" Sharon chuckled as he motioned at Rithrynn.\n",
       "\"I even wonder what they'd think about you being in my office. Would they even consent to that?\""
      ],
      "text/plain": [
       "<IPython.core.display.Markdown object>"
      ]
     },
     "metadata": {},
     "output_type": "display_data"
    },
    {
     "data": {
      "text/markdown": [
       "**Rithrynn Syn'Dial**\n",
       "\n",
       " \"They cannot complain about something they know anything nothing about.\" Rithrynn smirked back at Sharon, the Sentinel confident in the fact that her sisters knew nothing of the fact that she was currently with Sharon.\n",
       "\n",
       "Standing up, Rithrynn reached out to take the wine bottle from Sharon that he was struggling with. Creating a solid grip around the persistent cork, she forcefully removed it from the opening of the bottle with one swift, powerful motion.\n",
       "\n",
       "\"And yes, I will not say no... \" She leered at the High Elf as the Sentinel lowered the bottle to pour both of the glasses. Placing the bottle back at the table, Rithrynn picked up the glasses, one for her and one for Sharon, both filled almost to the brim with a plentiful abundance of wine in them. Handing one glass to Sharon and keeping the other for herself, Rithrynn stepped closer to the High Elf as she smiled broadly down at him at him.\n",
       "\n",
       "\"It is just us here. Forget about my sisters. They are surely entertained enough by themselves and the abundance of food you have given them. Focus instead on the moment at hand, that which Elune has blessed us with... \" Rithrynn winked slyly at Sharon as she took a sip of her glass of wine."
      ],
      "text/plain": [
       "<IPython.core.display.Markdown object>"
      ]
     },
     "metadata": {},
     "output_type": "display_data"
    },
    {
     "data": {
      "text/markdown": [
       "### Sample 1"
      ],
      "text/plain": [
       "<IPython.core.display.Markdown object>"
      ]
     },
     "metadata": {},
     "output_type": "display_data"
    },
    {
     "data": {
      "text/markdown": [
       "**Sharon Daerin'Lei**\n",
       "\n",
       " \"Yeargh!\" Sevarian growled as he slammed his staff around to block yet another of Serphia's blows! As the abyss black base of the saronite staff met with the Captain's sword, it created a magical shockwave of purple magic that pushed Serphia backwards!\n",
       "\n",
       "\"My powers are beyond that of any backwards wood elf!\" Sevarian spat as he used the small opening to start summoning a dark spell.\n",
       "\"You will find that death is but one of my lesser gifts!\"\n",
       "\n",
       "But as Sevarian attempted to cast his spell at Serphia, Sharon had conjured an arcane blast of his own that intercepted the dark mage's shadowbolt mid-air, causing the two spells to explode in a mix of dark and purple flames that gushed out to the side instead!\n",
       "\n",
       "An arrow came flying through the air from one of the sentinels in the back, but it glanced off Sevarian's silver white armor. From the sideline, one of the few remaining troll ghouls came scrambling towards Sharon and Serphia, its claws raised and jagged maw ready to bite! But just as the ghoul was about to come within range of them, Sevarian cast a spell of his own.\n",
       "\n",
       "All of a sudden, the ghoul erupted in an explosion of gore, harmful shadow magic and fragments of bones that flew around like bullets in the ritual chamber! \n",
       "\n",
       "Sharon succeeded in quickly conjuring up a temporary barrier that was annihilated by the corpse explosion, but succeeded in shielding Serphia from the worst of the damage. The explosion had left a blinding cloud that was dark as night around them.\n",
       "\n",
       "A frantic battle cry could be heard from somewhere through the cloud, as a green bolt suddenly flew towards them, coming straight out of the cloud! Sharon had tried to raise his hands to deflect it, but was too late. Fortunately however, Serphia seemed to already have noticed it, the large Night Elf, surprisingly agile for her size, dodging out of the way just in time!\n",
       "\n",
       "But while she may have dodged the necrotic bolt, Sharon soon noticed a figure appearing in the shadow before them...\n",
       "\n",
       "*Fwhoom!*\n",
       "\n",
       "A gust of burning fire flowed out from Sharon's staff, hitting Sevarian straight in the face as the dark mage came out of the blinding mist. The mage reeled back in pain, letting out a cry! All the while, Sevarian's failed sneak attack had become apparent to Serphia, as the Captain swung around to bury one of her swords right into the side of the dark mage!\n",
       "\n",
       "A shock expression now haunted Sevarian's face, now partly scorched, the rest covered in blood and grime.\n",
       "\n",
       "As Serphia retracted her blade, he stepped back, dropping his staff before falling over; his armor clattering as he fell to the floor, red blood gushing out of the side of his mouth.\n",
       "\n",
       "\"You... i-insignificant vermin!\" Sevarian uttered through his shaken voice, struggling to speak as his lungs filled with blood as he looked up at Serphia and Sharon with eyes full of hate.\n",
       "\"You... hnngh! you are already dead! Through your very own flesh and blood, I will have my revenge!\"\n",
       "\n",
       "Sharon merely looked down at Sevarian from where he stood on Serphia's shoulder. There seemed to be no resentment in the ocean blue eyes of the High Elf. Instead, it could almost be taken as an expression of pity.\n",
       "\n",
       "\"I hope you find peace.\" Sharon simply replied, seeming unphased by Sevarian's hateful last breath.\n",
       "\n",
       "-----------------------------------------------------------------------\n",
       "\n",
       "Outside the ritual chamber, Liaena's group were met by a surprised Smokey as they barged out of the door.\n",
       "\n",
       "\"We're leavin' already?\" Smokey asked, the dwarf having stayed behind during the fight. Although he received no initial answers at first, the dwarf looked at them and soon guessed what it would be.\n",
       "\n",
       "\"That's great! I've had enough of this blasted place! Let's get outta here!\"\n",
       "\n",
       "The Dwarf said as he turned to begin running down across the corridor. \n",
       "\n",
       "But as the dwarf had run a couple of yards down the corridor, a loud bang as from a musket could be heard behind Liaena and the rest of the group, a snapping past them to hit Smokey right in the back. The dwarf fell forward, losing his blunderbuss as he crashed onto the ground as his heavy backpack fell on top of him.\n",
       "\n",
       "\"I'm fine, I'm fine!\" \n",
       "\n",
       "The dwarf was quick to repeat as he scrambled to get back onto his feet, turning around to look back at Liaena and the party who were further back in the corridor. The dwarf seemed completely fine, his backpack having absorbed the bullet.\n",
       "\n",
       "\"Get a move o,-\"\n",
       "\n",
       "His backpack that was filled with dynamite.\n",
       "\n",
       "*BOOOOOM*\n",
       "\n",
       "Without a warning, Smokey's backpack exploded with an eye shattering boom! The blast stormed through the narrow corridors like a crushing wall, knocking Liaena, Alissah and the rest of the party completely off their feet. The ritual chamber was shaken, with rocks falling from the ceiling and a cloud of dust and rocks gushing in through the entrance!\n",
       "\n",
       "The entire passageway that Smokey had once stood in had completely caved in. As for the dwarf himself, there was no sign of him. If there had been anything left of him after the initial explosion, it was presumably buried beneath multiple tonnes of solid rock that now blocked the passage. A thick carpet of dust and smoke now filled the corridor, making it difficult to breath for anyone in it. With the collapse of one of the tunnels, only two opposing hallways now remained, one running off to the north, and the other one; south.\n",
       "\n",
       "\"An adequate shot. It suffices.\" Sounded a familiar voice emanating from the southern hallway.\n",
       "\n",
       "Emerging through the thick cloud of dust was a group of humanoid figures. At the front stood Sherpa, the High Elf staring towards Liaena and her group that lay on the floor outside the ritual chamber. Behind him stood his White Hand mercenaries, alongside Rae'liel in bonds and magical chains.\n",
       "\n",
       "The High Elf nodded to a White Hand musketeer who was currently in the process of reloading his weapon, apparently in approval of his previous shot against the dwarf.\n",
       "\n",
       "\"How convenient for my brother to decide to come all the way over to my own house.\" Sherpa remarked with a satisfied smirk.\n",
       "\n",
       "In the other corridor on the opposite of the one Sherpa and his crew had come from, a lone set of footsteps could be heard from a pair of heavy steel sabatons. Emerging out from the cloud of dust was the Blood Death Knight from earlier, his chestplate still carrying the heavy dent from Doin's axe, and the armor around his shoulder still cleaved in half from Rae'liel's own strike, yet his decomposing body was stitched together. The Death Knight clutched his Runeblade tight in his glove as he stared silently towards Liaena's group as well."
      ],
      "text/plain": [
       "<IPython.core.display.Markdown object>"
      ]
     },
     "metadata": {},
     "output_type": "display_data"
    },
    {
     "data": {
      "text/markdown": [
       "**Rithrynn Syn'Dial**\n",
       "\n",
       " As Sevarian finally fell, so too did the fighting in the room subside. Whatever cultists had occupied it now lay dead side by side with their ghoul minions. Serphia, standing over the dying dark mage, threw her right hand blade up in the air to catch it once again in an underhand grip; aiming the tip of her blade down towards Sevarian.\n",
       "\n",
       "\"Defiance without substance - you have lost everything.\" She commented dryly, glaring down at him with a cold and unforgiving gaze cast by her shimmering silver eyes.\n",
       "\n",
       "But before she could perform any execution move against the dying mage, the entire room suddenly shook from a violent tremor outside. A loud bang almost knocked Serphia off her feet as dust filled parts of the room, coming from outside.\n",
       "\n",
       "\"What was that?!\" Serphia yelled out through the dust that had now filled the room.\n",
       "\n",
       "\"An explosion, mistress!\" Rithrynn called back as the sentinel was standing closer to the doorway,\n",
       "\n",
       "\"No shit!\" \n",
       "\n",
       "\"Wait, where is Li?\" Rithrynn suddenly asked, as the Sentinel had noticed the peculiar lack of midgets in the room. She looked around to her sisters, most of whom shook their heads.\n",
       "\n",
       "\"They ran out!\" Vashi noted, motioning towards the door.\n",
       "\n",
       "\"But that's where the explosion came from!\" Rithrynn exclaimed, before the Sentinel immediately turned and rushed towards the exit. It would not surprise her if the explosion was the cause of Liaena, the short black haired ex-priestess having a notorious record for blowing shit up without necessarily having any good reason to do so other than to satiate some wicked mental need to wreathe the world in cool and devastating explosions.\n",
       "\n",
       "As she peered out of the ritual chamber, Rithrynn squinted with her eyes as she tried to see past the thick cloud of dust that now covered the entire corridor, and one of the passages now having been completely blocked off by a cave in.\n",
       "\n",
       "\"There you are, Li, I.. oh.. \" Rithrynn said as she noticed Liaena and the rest lying on the ground by the wall, but as she looked up; she also noticed the new arrivals, Sherpa, Rae'liel and a cohort of White Knight mercenaries.\n",
       "\n",
       "\"Crap... \"\n",
       "\n",
       "\"Mistress! Mistress!\" Rithrynn yelled as she retreated back into the ritual chamber, hugging the edge of the doorway leading out as she looked back at Serphia who was standing in the middle of the room.\n",
       "\n",
       "\"The White Hand reinforcements are here! One... no, TWO Death Knights are with them!\" Rithrynn exclaimed!\n",
       "\" ... ohh, and they got that Blood Elf you beat up earlier as well.\"\n",
       "\n",
       "\"What?!\" Serphia called back, her surprise being directed not so much at the White Hand reinforcements as it was at the mention of Rae'liel being with them.\n",
       "\"What is that useless, green eyed magical crack whore doing here?!\"\n",
       "\n",
       "\" ... I don't know! Why don't you ask her - preferably AFTER we have dealt with the White Hand?!\" \n",
       "\n",
       "Serphia gritted her teeth, before she turned to look down at Sevarian who was still coughing blood at her feet.\n",
       "\n",
       "\"You are coming with me, ape!\"\n",
       "\n",
       "Sheathing one of her swords, Serphia bent forward to pull Sevarian to his feet, spinning him around as she held him close to her body and placed the sharp edge of her blade against the unprotected skin of his throat as she walked him towards the exit to the room.\n",
       "\n",
       "\"Prepare the wounded and be ready to leave on my command.\" Serphia said to one of her soldiers who were tending to those sentinels that had been wounded in the fighting. \n",
       "\n",
       "Outside in the corridor, Serphia, carrying the bleeding Sevarian, emerged from the doorway. Rithrynn followed closely behind her mistress, bow and arrow in hand and at the ready.\n",
       "\n",
       "\"Stand aside, humans! Or your commander will become one head shorter!\" Serphia called out with a threatening voice as she faced Sevarian towards Sherpa and his White Hand mercenaries. Serphia's eyes narrowed as she spotted Rae'liel in the back, tied and bound. What was the Blood Elf doing with them?!"
      ],
      "text/plain": [
       "<IPython.core.display.Markdown object>"
      ]
     },
     "metadata": {},
     "output_type": "display_data"
    },
    {
     "data": {
      "text/markdown": [
       "### Sample 2"
      ],
      "text/plain": [
       "<IPython.core.display.Markdown object>"
      ]
     },
     "metadata": {},
     "output_type": "display_data"
    },
    {
     "data": {
      "text/markdown": [
       "**Meirie Leran**\n",
       "\n",
       " \"However you wish, miss Vashi...\" Mei had given up on trying to argue already and was simply following the night elf mage. The very idea of an arcane wielding night elf seemed absurd at first. Mei herself had spend some time at the lands of the night elves years ago when the relationships between their two nations were forming so she got a chance to study their libraries and ancient texts... at least withing the allowed range without trying to read secret documents and the like. What she did learn was that night elves abandoned anything arcane related thousands of years ago... why this night elf used magic like this was quite the mystery for the draenei warrior.\n",
       "\n",
       " \"Will not be surprised... \" Meirie added at the statement of possible secret laboratories down in the basement somewhere. It was the perfect place for it really, underground so the noise from it would be deafened, no flashes of light to alert the surroundings and very well protected in case... something blows up.\n",
       "\n",
       " \"Don't worry miss Vashi... from now on I will protect you and your things. If someone wants to take something or touch something, I will give them a stern scolding.\" She said with a smile, wondering exactly how big was the basement of this mansion. She knew that they were big for she had entered one of the other estates before for work. Had to clean a basement from some hostile beasts... how they ended there she did not ask for the pay was good back then.\n",
       "\n",
       " \"Miss... I've been meaning to ask, but how did you end in a night elven warband?\" The warrior asked eventually.\" I mean a woman with your abilities would surely have other prospects?\""
      ],
      "text/plain": [
       "<IPython.core.display.Markdown object>"
      ]
     },
     "metadata": {},
     "output_type": "display_data"
    },
    {
     "data": {
      "text/markdown": [
       "**Sharon Daerin'Lei**\n",
       "\n",
       " \"Wow. You might need to restock these, Sharon\"\n",
       "\n",
       "A low but still very noticeable mental groan could almost be felt emanating from the smaller High Elf on Liaena's shoulder as she entered into the (now posthumously) room o jam.\n",
       "\n",
       "Sharon said nothing, but merely gazed at the rows upon rows of empty or missing bottles of jam, half of which lay scattered across the floor in an unceremonious fashion. Indeed, the Night Elves had apparently not afforded even the jam any more mercy than they had the wine storage by the looks of it! The mage could only dread the number at the end of the bill once everything had been refilled.\n",
       "\n",
       "Perhaps it might even be better just to let Friedrick burn said bill before he could even see it.\n",
       "\n",
       "\"It's the antidote. Take it. I don't want to mislay you down here\"\n",
       "\n",
       "\"I think there are worse places you could mislay me. And you don't have to leave the house to find them.\" Sharon said half-jokingly, half concerned as he threw a quick glance around before he accepted the potion.\n",
       "\n",
       "Moments later, he would stand back at his full, very-much-so normal and not-pocket-sized stature. Taking a moment to tidy up his deep azure blue robe and adjust the mithril chestplate under it so that it sat properly, the blond haired High Elf would step over to where Liaena was working not far from the unconscious body of the large Death Knight. As he came close enough, he would extend his staff wielding arm and a bit of his cloak as well as he wrapped it around Liaena as she was working, before speaking as he looked towards her.\n",
       "\n",
       "\"I think you did really well today, Liaena. My brother has made this life anything but easy... no matter how much you may make it seem the exact opposite sometimes. I really appreciate having you by my side, Liaena.\" He smiled, simply taking a moment where he simply looked at her.\n",
       "\n",
       "That attention however would be broken by a low groan emanating from the now half-sleeping Draenei as she shuffled somewhat around on the floor, slowly recovering from her sleep.\n",
       "\n",
       "Casting a look between Liaena and Malizia, Sharon would reach into his arcane pouch hanging at his side with his other hand to produce a pair of handcuffs made out of Thorium, with some mystical magical runes written into them. \n",
       "\n",
       "\"I got some anti-mage cuffs that could prevent her from casting any spells... \" Sharon explained as he held them up in front of Liaena with a slight grin, before suffering the inevitably stare that any man outside of law enforcement would receive when casually revealing himself to be carrying handcuffs.\n",
       "\"You never know when they might come in handy... totally not a souvenir from my academy time in Dalaran, no... \"\n",
       "\n",
       "...\n",
       "\n",
       "\"Anyhow!\" Brushing past the awkward silence, he'd look back at Liaena.\n",
       "\"They would block her spells, but I don't think you'd be able to shrink them. So we are going to have to make a choice, whether we want to contend with a shackled 8ft tall martial monstrosity of death - literally -, or a shrunk adept student of some of the darkest magic known to mortals and deities alike.\"\n",
       "\n",
       "Nodding, he'd gaze slightly away.\n",
       "\n",
       "\"Just like... whichever option you'd feel the most comfortable with.\""
      ],
      "text/plain": [
       "<IPython.core.display.Markdown object>"
      ]
     },
     "metadata": {},
     "output_type": "display_data"
    },
    {
     "data": {
      "text/markdown": [
       "### Sample 3"
      ],
      "text/plain": [
       "<IPython.core.display.Markdown object>"
      ]
     },
     "metadata": {},
     "output_type": "display_data"
    },
    {
     "data": {
      "text/markdown": [
       "**Rithrynn Syn'Dial**\n",
       "\n",
       " \"AAAAAAAAAAAHHH!\"\n",
       "\n",
       "\"OWWWWH!!\"\n",
       "\n",
       "*Crash*\n",
       "*BOOM*\n",
       "\n",
       "\"Let me introduce you to my little friend, GRAVITY, BITCH!\"\n",
       "\n",
       "\"AIII-\"\n",
       "*DROOOHHHMM!!*\n",
       "\n",
       "Serphia's support team/goon squad had long since given up any attempt at interfering with the fight of the two, giant behemoth currently fighting over the piece of dirt that had once been Sharon's garden! Instead, they had taken up a (relatively) safe distance in the surrounding streets and simply gazed up at the ash cloud covered silhouettes of Serphia and Malizia as the two furious women duked it out in a no-holds-barred beatdown of each other!\n",
       "\n",
       "In one scene, Malizia charged forward, launching her own head right into Serphia's chest and knocking the gigantic Sentinel Captain into the mansion, promptly making her serve as an oversized wrecking ball that immediately demolished the roof of the east wing!\n",
       "\n",
       "\"Giving up yet, you little troll?\"\n",
       "\n",
       "\"You are going to DIE for that!!\"\n",
       "\n",
       "Serphia retaliated by swiping the feet(hoofs) out from under Malizia, the giant red draenei-demon-thingy falling to the ground with a deep rumble! Malizia answered by jumping onto Serphia, only for Serphia to pull one leg back, place her feet up under Malizia's chest, and push back, causing Malizia to go flying up into the air with a scream!\n",
       "\n",
       "Back at the mansion ground, Sentinels in various states of clothes or stripping could be seen running out of the front door of the mansion, gathering in a small crowd outside in response to the growing fire.\n",
       "\n",
       "There was an awkward pause among the dozens of drunk and half-sober sentinels that had gathered outside of the mansion as they simply stared dumbfounded at the fire spreading in the second floor, before one of them suddenly stepped forward and raised her stolen mug.\n",
       "\n",
       "\"BEST PARTY EVER!!\"\n",
       "\n",
       "In response to the sentinel, the rest of her sisters raised their fists and cried out as well, jumping up and down with their drinks as they cheered on the burning mansion!\n",
       "In the background, angry nightsabers could be seen jumping out of windows of the mansion to escape the fire, before running amok in the streets!\n",
       "\n",
       "\"WHOOOO-HOOOO!!\"\n",
       "\"YEAAH!!\"\n",
       "\n",
       "...\n",
       "\n",
       "\"So... where do we go now?\""
      ],
      "text/plain": [
       "<IPython.core.display.Markdown object>"
      ]
     },
     "metadata": {},
     "output_type": "display_data"
    },
    {
     "data": {
      "text/markdown": [
       "**Sharon Daerin'Lei**\n",
       "\n",
       " \"So are we leaving? I like this plan if you do, Mister Dal'dieb\"\n",
       "\n",
       "The High Elf's gaze passed from the curious, strangely optimistic looking Kathlin over to Liaena, then back again.\n",
       "\n",
       "\"If I said no, I doubt I'd get to the o in that word before Liaena had already dragged me off to Westfall. I'm still not sure if giving her that haste buff was a good idea!\"\n",
       "\n",
       "Sharon privately thought, also unsure whether he should also mention the potential of the spell having taking 1 or 2 years off her life expectancy.\n",
       "\n",
       "\"Come to think of it, I have always wanted a new place closer to the beach... \" Sharon muttered, moving one hand up to his chin in a thoughtful expression, before he turned to Liaena and Kathlin, and nodded; all the while instinctively bracing himself in case Liaena should decide to run somewhere with him along!\n",
       "\n",
       "\"Not to speak ill of your skills or anything, but I do believe the barrier I set up is more than a match for a yet so simple apprentice.\" Sharon said as he glanced over at Kathlin. Though Kathlin had never shown anything but t e best intentions and did seem to have an elevated magical potential despite her simple class, Sharon doubted that her skills were enough to contest with that of a long lived High Elf and esteemed student and teacher at the Dalaran academy of magical sorcery!\n",
       "\n",
       "\"Aran kehn, rahs fuhs.\" Sharon suddenly muttered, before thumping the butt of his silver staff into the ground two times. \n",
       "\n",
       "For a moment, a creeping silence ran across the entire mansion like a wave, as the invisible enchantment was dispelled by the utterance of the keyphrase. The only noise was the not-so-subtle noise of the fleeing elves and nightsabers who apparently already had decided it was time to ditch his soon-to-be ex-mansion!\n",
       "\n",
       "\"One of the first things we were taught at the Institute of Enchantment back at Dalaran was to attach a keyphrase, or password if you will, to our *simpler* wards, so that we could more easily unravel them at a moment's notice than have to go through a lengthy ritual of disenchantment.\" \n",
       "\n",
       "Sharon explained with a smile as he looked over at Kathlin, apparently enjoying any chance he got to show off his superior magical knowledge!\n",
       "\n",
       "\"Now, I will begin the ritual of teleporta,- thank you, Friedrick.\" \n",
       "\n",
       "Sharon interrupted himself to thank Friedrick as the butler seemingly appeared out of nowhere and handed him a Rune of Teleportation, before the High Elf returned to focusing on his ritual.\n",
       "\n",
       "\"This is going to take a few seconds, a minute max... any special destination in mind?\" He asked, turning to look over at Liaena with a smile, all the while motioning for them to come closer. However, his confident smile would suddenly fade for a moment, as if the High Elf had just remembered about something.\n",
       "\n",
       "Turning towards Liaena, he quirked an eyebrow at her.\n",
       "\n",
       "\"Liaena... aren't we forgetting about someone?\""
      ],
      "text/plain": [
       "<IPython.core.display.Markdown object>"
      ]
     },
     "metadata": {},
     "output_type": "display_data"
    }
   ],
   "source": [
    "\n",
    "from typing import Dict, List\n",
    "def dictl(dict_of_lists: Dict[str, List]) -> Sequence[dict]:\n",
    "    \"\"\"\n",
    "    Dict of lists to list of dicts.\n",
    "    \"\"\"\n",
    "    return [dict(zip(dict_of_lists.keys(), t)) for t in zip(*dict_of_lists.values())]\n",
    "\n",
    "batch_size = 4\n",
    "for batch in rp_grammar_filtered_dataset.iter(batch_size=batch_size):\n",
    "    samples = dictl(batch)\n",
    "    for i, sample in enumerate(samples):\n",
    "        display(Markdown(f\"### Sample {i}\"))\n",
    "        for msg in sample['context']:\n",
    "            display(Markdown(f\"**{msg['char_name']}**\\n\\n {msg['text']}\"))\n",
    "    break"
   ]
  }
 ],
 "metadata": {
  "kernelspec": {
   "display_name": ".venv",
   "language": "python",
   "name": "python3"
  },
  "language_info": {
   "codemirror_mode": {
    "name": "ipython",
    "version": 3
   },
   "file_extension": ".py",
   "mimetype": "text/x-python",
   "name": "python",
   "nbconvert_exporter": "python",
   "pygments_lexer": "ipython3",
   "version": "3.11.11"
  }
 },
 "nbformat": 4,
 "nbformat_minor": 2
}
