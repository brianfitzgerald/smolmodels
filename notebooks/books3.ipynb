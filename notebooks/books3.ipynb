{
 "cells": [
  {
   "cell_type": "code",
   "execution_count": null,
   "metadata": {},
   "outputs": [],
   "source": [
    "import polars as pl\n",
    "import os\n",
    "import sys\n",
    "os.environ[\"HF_HUB_ENABLE_HF_TRANSFER\"] = \"1\"\n",
    "sys.path.append(\"..\")\n",
    "%load_ext autoreload\n",
    "%autoreload 2\n",
    "df = pl.read_parquet(\"pile.parquet\")"
   ]
  },
  {
   "cell_type": "code",
   "execution_count": null,
   "metadata": {},
   "outputs": [],
   "source": [
    "from synthetic_data.tasks.writing import WritingScoreAnnotate\n",
    "from synthetic_data.utils import ldictl\n",
    "\n",
    "input_df: pl.DataFrame = pl.read_parquet(\"../dataset_files/gutenberg_backtranslate.parquet\")\n",
    "task = WritingScoreAnnotate()\n",
    "\n",
    "mock_batch = ldictl(input_df.head(4).to_dicts())\n",
    "len(task.format_input_conversation(mock_batch))"
   ]
  },
  {
   "cell_type": "code",
   "execution_count": 8,
   "metadata": {},
   "outputs": [],
   "source": [
    "from synthetic_data.generation import get_generation_wrapper\n",
    "\n",
    "\n",
    "generation_wrapper = get_generation_wrapper(\"gpt-4o-mini\")\n",
    "completions = await generation_wrapper.generate(\n",
    "    task.format_input_conversation(mock_batch)\n",
    ")"
   ]
  },
  {
   "cell_type": "code",
   "execution_count": 9,
   "metadata": {},
   "outputs": [],
   "source": [
    "output_rows_batch = task.format_output_rows(completions)"
   ]
  },
  {
   "cell_type": "code",
   "execution_count": null,
   "metadata": {},
   "outputs": [],
   "source": [
    "print(output_rows_batch[0].keys())"
   ]
  },
  {
   "cell_type": "code",
   "execution_count": null,
   "metadata": {},
   "outputs": [],
   "source": [
    "import tiktoken\n",
    "from synthetic_data.gutenberg_parser import super_cleaner\n",
    "from synthetic_data.tasks.writing import find_valid_chunks\n",
    "from IPython.display import display, Markdown\n",
    "\n",
    "tiktoken_encoder = tiktoken.get_encoding(\"o200k_base\")\n",
    "\n",
    "df_sampled = df.sample(100)\n",
    "for row in df.iter_rows(named=True):\n",
    "    text = row[\"text\"]\n",
    "    paragraphs = super_cleaner(text)\n",
    "\n",
    "    # find chunks of consecutive paragraphs with dialogue and at least 3 sentences\n",
    "    valid_chunks = find_valid_chunks(paragraphs, tiktoken_encoder)\n",
    "    display(Markdown(f\"### {row['title']}\"))\n",
    "    for chunk in valid_chunks:\n",
    "        display(Markdown(chunk[0]))\n",
    "\n"
   ]
  }
 ],
 "metadata": {
  "kernelspec": {
   "display_name": ".venv",
   "language": "python",
   "name": "python3"
  },
  "language_info": {
   "codemirror_mode": {
    "name": "ipython",
    "version": 3
   },
   "file_extension": ".py",
   "mimetype": "text/x-python",
   "name": "python",
   "nbconvert_exporter": "python",
   "pygments_lexer": "ipython3",
   "version": "3.11.11"
  }
 },
 "nbformat": 4,
 "nbformat_minor": 2
}
