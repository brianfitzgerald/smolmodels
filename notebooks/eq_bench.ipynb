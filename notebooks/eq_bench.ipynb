{
 "cells": [
  {
   "cell_type": "code",
   "execution_count": 13,
   "metadata": {},
   "outputs": [
    {
     "name": "stdout",
     "output_type": "stream",
     "text": [
      "The autoreload extension is already loaded. To reload it, use:\n",
      "  %reload_ext autoreload\n"
     ]
    },
    {
     "name": "stderr",
     "output_type": "stream",
     "text": [
      "Note: Environment variable`HF_TOKEN` is set and is the current active token independently from the token you've just configured.\n"
     ]
    }
   ],
   "source": [
    "import os\n",
    "import sys\n",
    "os.environ[\"HF_HUB_ENABLE_HF_TRANSFER\"] = \"1\"\n",
    "sys.path.append(\"..\")\n",
    "%load_ext autoreload\n",
    "%autoreload 2\n",
    "\n",
    "from synthetic_data.tasks.evals import EQBenchWriting\n",
    "\n",
    "eq_task = EQBenchWriting()\n",
    "\n",
    "eq_task.load_task_data()\n",
    "dataset = eq_task.load_task_data()"
   ]
  },
  {
   "cell_type": "code",
   "execution_count": 19,
   "metadata": {},
   "outputs": [
    {
     "name": "stderr",
     "output_type": "stream",
     "text": [
      "Note: Environment variable`HF_TOKEN` is set and is the current active token independently from the token you've just configured.\n"
     ]
    },
    {
     "name": "stdout",
     "output_type": "stream",
     "text": [
      "{'writing_prompt': [\"Historical Fiction: Write a scene from a story set during the height of the Roman Empire, focusing on a slice of a day in the life of a gladiator. Do not write a combat scene. Use sensory details to capture the sights, sounds, and smells of ancient Rome. Explore the gladiator's thoughts and emotions. The story should also touch on the larger political and social issues of the time period. The piece should feel like a slice of a larger story. <SEED> First person, past tense, 800-1000 words.\", \"In the style of Ernest Hemingway: Write a scene in a larger story about a soldier returning home from war. The scene is set in a bar. It should carry the jadedness of a seasoned combatant but with a wry humour. Write in Heminway's voice, naturally: Use short, declarative sentences and simple, straightforward language. Include dialogue that is terse and revealing of character. Write with a keen sense of time and place. Capture realness and authenticity. <SEED> 800-1000 words, past tense.\"], 'seed_modifiers': [[\"Include references to the gladiator's favorite Roman deity or mythological figure.\", \"Describe the gladiator's weapon of choice and its significance to them.\", 'Mention a superstition or ritual the gladiator performs before each fight.', 'Include a description of a unique scar or tattoo the gladiator has.', \"Include a brief mention of the gladiator's life before becoming a gladiator.\", 'Use vivid, sensory language to describe the sights, sounds, and smells of ancient Rome.', 'Include a conversation between the gladiator and a fellow gladiator or a servant.', 'Mention a specific historical event or figure from the time period.', \"Focus on the gladiator's thoughts and emotions during a moment of solitude.\", 'Use a mix of short, punchy sentences and longer, more descriptive ones to create a dynamic pace.'], ['Describe a physical detail or mannerism of the soldier that reflects his experiences.', \"Include a conversation with a bartender or fellow patron that reveals the soldier's state of mind.\", \"Focus on the soldier's struggle to readjust to civilian life after the war.\", 'Include a description of a unique drink the soldier orders at the bar.', 'Mention a specific war or battle the soldier has recently returned from.', \"Include a brief flashback to a poignant moment during the soldier's time at war.\", 'Use short, declarative sentences and simple language to create a sense of directness.', 'Mention a specific location or landmark that holds significance for the soldier.', \"Use understated, subtle language to convey the soldier's emotional turmoil.\", 'Include references to a Hemingway-esque theme, such as the loss of innocence or the search for meaning.']], 'judging_criteria': [[{'criteria': ['Overall Impression', 'Overall Reader Engagement', 'Sentences Flow Naturally', 'Well-earned Lightness or Darkness'], 'prefix_text': 'Now, rate the supplied model output on the following criteria:'}, {'criteria': ['Unearned Transformations', 'Incongruent Ending Positivity', 'Overwrought', 'Purple Prose', 'Amateurish', 'Unsurprising or Uncreative', \"Tell-Don't-Show\", 'Weak Dialogue', 'Meandering'], 'prefix_text': 'Now, rate the supplied model output on the following criteria (lower = better):'}, {'criteria': ['Consistent Voice/Tone of Writing', 'Nuanced Characters', 'Believable Character Actions', 'Adherence to Instructions'], 'prefix_text': 'Now, rate the supplied model output on the following criteria:'}, {'criteria': ['Coherent', 'Emotionally Complex', 'Emotionally Engaging', 'Elegant Prose', 'Imagery and Descriptive Quality'], 'prefix_text': 'Now, rate the supplied model output on the following criteria:'}, {'criteria': ['Vivid and Immersive Sensory Details', 'Authentic and Engrossing Ancient Roman Setting', 'Reads Like Part of a Larger Story', \"Nuanced and Insightful Portrayal of Gladiator's Inner Life\", 'Meaningful Integration of Political and Social Context', 'Original; Not Derivative'], 'prefix_text': 'Now, rate the supplied model output on the following criteria (note - each of these should be a rating for how well the model executed the prompt instruction):'}], [{'criteria': ['Overall Impression', 'Overall Reader Engagement', 'Sentences Flow Naturally', 'Well-earned Lightness or Darkness'], 'prefix_text': 'Now, rate the supplied model output on the following criteria:'}, {'criteria': ['Unearned Transformations', 'Incongruent Ending Positivity', 'Overwrought', 'Purple Prose', 'Amateurish', 'Unsurprising or Uncreative', \"Tell-Don't-Show\", 'Weak Dialogue', 'Meandering'], 'prefix_text': 'Now, rate the supplied model output on the following criteria (lower = better):'}, {'criteria': ['Coherent', 'Emotionally Complex', 'Emotionally Engaging', 'Elegant Prose', 'Imagery and Descriptive Quality'], 'prefix_text': 'Now, rate the supplied model output on the following criteria:'}, {'criteria': ['Consistent Voice/Tone of Writing', 'Nuanced Characters', 'Believable Character Actions', 'Adherence to Instructions'], 'prefix_text': 'Now, rate the supplied model output on the following criteria:'}, {'criteria': ['Spare and Concise Prose', 'Wry Humour', 'Write with a Keen Sense of Time and Place', 'Evoke a Jaded Soldier', 'Capture Realness and Authenticity', \"Capture Hemingway's Voice and Style\"], 'prefix_text': 'Now, rate the supplied model output on the following criteria (note - each of these should be a rating for how well the model executed the prompt instruction):'}]], 'reference_output': ['Sweat, thick and metallic, stung my eyes as I slammed the heavy wooden practice sword against the training post. Each blow echoed in the stifling heat of the gladiatorial ludus, punctuated by the grunts of other trainees and the barked instructions of our trainer, Marcellus. His voice, a hoarse rasp, cut through the haze of exertion like a rusty blade.\\n\\n\"Again, Aulus! Not like a drunken Dacian! Focus!\"\\n\\nI gritted my teeth, the nickname a fresh burn. Dacians, those barbarian tribes from the north, were known for their wild, undisciplined fighting style. It was an insult, and a reminder of my origins. A tremor ran through my hand, not entirely from exertion. Marcellus had a knack for finding ways to needle, to remind us all of the precariousness of our existence.\\n\\nA shadow fell across the dusty practice yard. I lowered my sword, squinting through the sweat blurring my vision. It was Lupus, the lanista, the master of the ludus. A stocky man with a shaved head and a permanent sneer, his presence sent a shiver down my spine. He rarely ventured into the training yard, preferring to observe us from the cool shade of the portico.\\n\\n\"Enough for now,\" he rasped, his voice as coarse as sandpaper. \"We wouldn\\'t want to wear you out before the games.\"  He surveyed the trainees, his gaze lingering on me a beat too long. \"Aulus, stay behind. The others, to your ablutions.\"\\n\\nThe other trainees scurried off, their bare feet slapping against the baked earth. The sudden silence pressed down on me, suffocating. My heart hammered against my ribs. Why me?\\n\\nLupus ambled closer, his shadow engulfing me. He stopped, close enough for me to smell the reek of cheap wine and stale sweat on his breath.  \"You fight well, boy,\" he said, his voice surprisingly mild. \"But there\\'s more to the arena than just swinging a sword.\"\\n\\nA flicker of surprise, mixed with a desperate hope, ignited within me. A private lesson with Lupus? This could be my chance, a way to prove myself, to stand out from the rest. Perhaps this was the signal that my fortunes were about to change.\\n\\n\"Yes, lanista,\" I managed, my voice hoarse.\\n\\nLupus gestured towards the wooden stands that overlooked the training yard. We climbed the creaking steps, the shouts and groans of the other trainees fading into the background. From the stands, the city sprawled before us, a chaotic tapestry of red-tiled roofs and towering monuments bathed in the golden afternoon sun. The distant roar of the Colosseum, a constant reminder of our grim purpose, vibrated in the air.\\n\\n\"Tell me, Aulus,\" Lupus began, his voice dropping to a low murmur, \"what do you think the crowds want?\"\\n\\nI hesitated. The crowds. Those faceless masses who roared for blood, who reveled in the spectacle of violence.  \"Victory, lanista,\" I said finally.\\n\\nLupus gave a humorless bark of a laugh. \"Victory, of course. But more than that.  They want a spectacle. They want heroes and villains, a struggle they can invest in.\"\\n\\nHe leaned closer, his gaze intense. \"They don\\'t care who lives or dies, Aulus. They care about how it makes them feel. The thrill, the fear, the catharsis.\"\\n\\nA chill ran down my spine. A spectacle. Was that what I was? Was that all any of us were – mere pawns in a grand, bloodthirsty performance?  A wave of resentment threatened to boil over.  But I held it back.  Anger wouldn\\'t win me any favors with Lupus.\\n\\n\"Do you understand?\"  He studied my face, his eyes gleaming with some unreadable emotion - calculation mixed with perhaps...a twisted sort of anticipation?\\n\\n\"Yes, lanista,\" I answered, forcing a nod. And in that moment, I resolved to be more than just another bloody show.  I would find a way to use their game to my advantage, however grim that game turned out to be.', 'The bar was dark and smoky. It was the kind of place where men went to forget, or to remember. I sat at the scarred wooden counter and ordered a whiskey. The bartender poured a shot into a cloudy glass and slid it over without a word.\\n\\nI drank and felt the familiar burn in my throat. It had been a long time since I\\'d had a real drink. Over there, the stuff we got was mostly water, when we got anything at all. I motioned for another and the bartender obliged.\\n\\nThe door creaked open and a gust of cold night air swept in. I glanced over and saw a kid, barely old enough to shave, saunter up to the bar. He had that cocky walk, the walk of someone who\\'s never seen real action. I\\'d walked like that once, a million years ago.\\n\\n\"Gimme a beer,\" the kid said, too loudly. The bartender looked at him impassively, then drew a pint from the tap and set it down, foam slopping over the side.\\n\\nThe kid took a swig and wiped his mouth with the back of his hand. He surveyed the bar, his eyes landing on me. \"Hey, old timer. What outfit you with?\"\\n\\nI looked at him flatly. \"The same one as you. The one that\\'s gonna chew you up and spit you out.\"\\n\\nThe kid laughed. \"Not me, pops. I\\'m gonna be a hero, just wait and see. Them Krauts won\\'t know what hit \\'em.\"\\n\\n\"Sure, kid. We were all heroes once.\"\\n\\n\"What d\\'ya mean? Ain\\'t you proud to serve your country?\" He looked at me belligerently, spoiling for a fight.\\n\\nI sighed and finished my drink. \"I served my country, alright. And she took everything I had and then some. But you\\'ll learn that soon enough.\"\\n\\nThe kid\\'s face reddened. \"You don\\'t know nothin\\', old man. This here\\'s my town, and I won\\'t have you disrespectin\\' the uniform.\"\\n\\nI stood up slowly, feeling every one of my years. \"This is your town, huh? Well I\\'ll tell you a secret - it\\'s all the same. The same dirt, the same blood, the same goddamn war. Doesn\\'t matter where you\\'re from, it\\'ll take you all the same.\"\\n\\nThe kid balled his fists, his beer forgotten. \"Say that again, why don\\'t ya? I\\'ll show you what us young fellas are made of.\"\\n\\nI looked at him sadly. I\\'d seen that hotheaded anger before, in countless young faces on the front lines. Most of them were in the mud now. \"You don\\'t want to do this, kid. Trust me. The war will give you all the fighting you can handle.\"\\n\\nFor a moment I thought he would swing at me anyway. But something in my eyes must have gotten through to him, because he slowly lowered his hands. \"Ah, you ain\\'t worth it, pops. Enjoy your drink.\" He turned and walked out, the door slamming behind him.\\n\\nI sat back down heavily and tapped the counter for another whiskey. The bartender poured it without comment. I drank it down and closed my eyes.\\n\\nThey were always so young, and so sure of themselves. Ready to take on the world with nothing but piss and vinegar. But the war has a way of beating that out of you. Of grinding you down until you\\'re nothing but a shell filled with bone-deep weariness.\\n\\nI\\'d tried to warn him. Tried to spare him from the meat grinder that had chewed up so many just like him. But I knew it was hopeless. He\\'d learn, just like we all did. The hard way.']}\n"
     ]
    },
    {
     "ename": "TypeError",
     "evalue": "replace() argument 2 must be str, not list",
     "output_type": "error",
     "traceback": [
      "\u001b[0;31m---------------------------------------------------------------------------\u001b[0m",
      "\u001b[0;31mTypeError\u001b[0m                                 Traceback (most recent call last)",
      "Cell \u001b[0;32mIn[19], line 5\u001b[0m\n\u001b[1;32m      3\u001b[0m \u001b[38;5;28mprint\u001b[39m(first_batch)\n\u001b[1;32m      4\u001b[0m generation_wrapper \u001b[38;5;241m=\u001b[39m get_generation_wrapper(\u001b[38;5;124m\"\u001b[39m\u001b[38;5;124mgpt-4o-mini\u001b[39m\u001b[38;5;124m\"\u001b[39m)\n\u001b[0;32m----> 5\u001b[0m \u001b[38;5;28;01mawait\u001b[39;00m eq_task\u001b[38;5;241m.\u001b[39mrun_eval(first_batch, generation_wrapper)\n",
      "File \u001b[0;32m~/Documents/GitHub/smolmodels/notebooks/../synthetic_data/tasks/evals.py:47\u001b[0m, in \u001b[0;36mEQBenchWriting.run_eval\u001b[0;34m(self, batch, generation_wrapper)\u001b[0m\n\u001b[1;32m     45\u001b[0m writing_prompt: \u001b[38;5;28mlist\u001b[39m[\u001b[38;5;28mstr\u001b[39m] \u001b[38;5;241m=\u001b[39m batch[\u001b[38;5;124m\"\u001b[39m\u001b[38;5;124mwriting_prompt\u001b[39m\u001b[38;5;124m\"\u001b[39m]\n\u001b[1;32m     46\u001b[0m \u001b[38;5;28;01mfor\u001b[39;00m i, seed \u001b[38;5;129;01min\u001b[39;00m \u001b[38;5;28menumerate\u001b[39m(batch[\u001b[38;5;124m\"\u001b[39m\u001b[38;5;124mseed_modifiers\u001b[39m\u001b[38;5;124m\"\u001b[39m]):\n\u001b[0;32m---> 47\u001b[0m     writing_prompt[i] \u001b[38;5;241m=\u001b[39m \u001b[43mwriting_prompt\u001b[49m\u001b[43m[\u001b[49m\u001b[43mi\u001b[49m\u001b[43m]\u001b[49m\u001b[38;5;241;43m.\u001b[39;49m\u001b[43mreplace\u001b[49m\u001b[43m(\u001b[49m\u001b[38;5;124;43m\"\u001b[39;49m\u001b[38;5;124;43m<SEED>\u001b[39;49m\u001b[38;5;124;43m\"\u001b[39;49m\u001b[43m,\u001b[49m\u001b[43m \u001b[49m\u001b[43mseed\u001b[49m\u001b[43m)\u001b[49m\n\u001b[1;32m     48\u001b[0m writing_convs: \u001b[38;5;28mlist\u001b[39m[Conversation] \u001b[38;5;241m=\u001b[39m [\n\u001b[1;32m     49\u001b[0m     [{\u001b[38;5;124m\"\u001b[39m\u001b[38;5;124mrole\u001b[39m\u001b[38;5;124m\"\u001b[39m: \u001b[38;5;124m\"\u001b[39m\u001b[38;5;124muser\u001b[39m\u001b[38;5;124m\"\u001b[39m, \u001b[38;5;124m\"\u001b[39m\u001b[38;5;124mcontent\u001b[39m\u001b[38;5;124m\"\u001b[39m: prompt} \u001b[38;5;28;01mfor\u001b[39;00m prompt \u001b[38;5;129;01min\u001b[39;00m writing_prompt]\n\u001b[1;32m     50\u001b[0m ]\n\u001b[1;32m     51\u001b[0m generated_samples \u001b[38;5;241m=\u001b[39m \u001b[38;5;28;01mawait\u001b[39;00m generation_wrapper\u001b[38;5;241m.\u001b[39mgenerate(\n\u001b[1;32m     52\u001b[0m     writing_convs,\n\u001b[1;32m     53\u001b[0m )\n",
      "\u001b[0;31mTypeError\u001b[0m: replace() argument 2 must be str, not list"
     ]
    }
   ],
   "source": [
    "from synthetic_data.generation import get_generation_wrapper\n",
    "first_batch = next(dataset.iter(batch_size=2))\n",
    "print(first_batch)\n",
    "generation_wrapper = get_generation_wrapper(\"gpt-4o-mini\")\n",
    "await eq_task.run_eval(first_batch, generation_wrapper)"
   ]
  }
 ],
 "metadata": {
  "kernelspec": {
   "display_name": ".venv",
   "language": "python",
   "name": "python3"
  },
  "language_info": {
   "codemirror_mode": {
    "name": "ipython",
    "version": 3
   },
   "file_extension": ".py",
   "mimetype": "text/x-python",
   "name": "python",
   "nbconvert_exporter": "python",
   "pygments_lexer": "ipython3",
   "version": "3.11.11"
  }
 },
 "nbformat": 4,
 "nbformat_minor": 2
}
