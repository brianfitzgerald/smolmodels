{
 "cells": [
  {
   "cell_type": "code",
   "execution_count": 2,
   "metadata": {},
   "outputs": [
    {
     "name": "stderr",
     "output_type": "stream",
     "text": [
      "/Users/brianfitzgerald/Documents/GitHub/smolmodels/.venv/lib/python3.11/site-packages/tqdm/auto.py:21: TqdmWarning: IProgress not found. Please update jupyter and ipywidgets. See https://ipywidgets.readthedocs.io/en/stable/user_install.html\n",
      "  from .autonotebook import tqdm as notebook_tqdm\n",
      "2025-04-20 16:45:58,973\tINFO util.py:154 -- Missing packages: ['ipywidgets']. Run `pip install -U ipywidgets`, then restart the notebook server for rich notebook output.\n"
     ]
    }
   ],
   "source": [
    "import sys\n",
    "\n",
    "sys.path.append(\"..\")\n",
    "%load_ext autoreload\n",
    "%autoreload 2\n",
    "from trl_wrapper.trainer_wrapper import TrainerWrapper, WRITING_GRPO_CONFIG, SMOL_LM_135M\n",
    "\n",
    "cfg = WRITING_GRPO_CONFIG\n",
    "cfg.train_batch_size = 2\n",
    "cfg.num_generations = 2\n",
    "cfg.model_id_or_path = SMOL_LM_135M\n",
    "cfg.max_samples = 10"
   ]
  },
  {
   "cell_type": "code",
   "execution_count": 3,
   "metadata": {},
   "outputs": [
    {
     "name": "stderr",
     "output_type": "stream",
     "text": [
      "\u001b[32m2025-04-20 16:46:00.267\u001b[0m | \u001b[1mINFO    \u001b[0m | \u001b[36mtrl_wrapper.trainer_wrapper\u001b[0m:\u001b[36m__init__\u001b[0m:\u001b[36m307\u001b[0m - \u001b[1mSetting padding side to: right\u001b[0m\n"
     ]
    }
   ],
   "source": [
    "wrapper = TrainerWrapper(cfg, True)"
   ]
  },
  {
   "cell_type": "code",
   "execution_count": 4,
   "metadata": {},
   "outputs": [
    {
     "name": "stderr",
     "output_type": "stream",
     "text": [
      "\u001b[32m2025-04-20 16:46:00.344\u001b[0m | \u001b[1mINFO    \u001b[0m | \u001b[36mtrl_wrapper.trainer_wrapper\u001b[0m:\u001b[36minit_data_module\u001b[0m:\u001b[36m362\u001b[0m - \u001b[1mUsing chat template override: smollmv2\u001b[0m\n",
      "Map: 100%|██████████| 10647/10647 [00:00<00:00, 22166.47 examples/s]\n",
      "Map: 100%|██████████| 1184/1184 [00:00<00:00, 24946.91 examples/s]\n",
      "\u001b[32m2025-04-20 16:46:01.390\u001b[0m | \u001b[1mINFO    \u001b[0m | \u001b[36msynthetic_data.writing_judge\u001b[0m:\u001b[36m__init__\u001b[0m:\u001b[36m10\u001b[0m - \u001b[1mrun_mode: notebook\u001b[0m\n"
     ]
    }
   ],
   "source": [
    "wrapper.init_data_module()"
   ]
  },
  {
   "cell_type": "code",
   "execution_count": 5,
   "metadata": {},
   "outputs": [
    {
     "name": "stderr",
     "output_type": "stream",
     "text": [
      "\u001b[32m2025-04-20 16:46:01.513\u001b[0m | \u001b[1mINFO    \u001b[0m | \u001b[36mtrl_wrapper.trainer_wrapper\u001b[0m:\u001b[36minit_model\u001b[0m:\u001b[36m322\u001b[0m - \u001b[1mUsing device: mps\u001b[0m\n",
      "\u001b[32m2025-04-20 16:46:01.514\u001b[0m | \u001b[1mINFO    \u001b[0m | \u001b[36mtrl_wrapper.trainer_wrapper\u001b[0m:\u001b[36minit_model\u001b[0m:\u001b[36m336\u001b[0m - \u001b[1mLoading model HuggingFaceTB/SmolLM2-135M-Instruct with attn_impl: sdpa\u001b[0m\n"
     ]
    }
   ],
   "source": [
    "wrapper.init_model()"
   ]
  },
  {
   "cell_type": "code",
   "execution_count": 6,
   "metadata": {},
   "outputs": [
    {
     "data": {
      "text/plain": [
       "'notebook'"
      ]
     },
     "execution_count": 6,
     "metadata": {},
     "output_type": "execute_result"
    }
   ],
   "source": [
    "wrapper.data_module.config.run_mode"
   ]
  },
  {
   "cell_type": "code",
   "execution_count": 7,
   "metadata": {},
   "outputs": [
    {
     "name": "stderr",
     "output_type": "stream",
     "text": [
      "\u001b[32m2025-04-20 16:46:02.377\u001b[0m | \u001b[1mINFO    \u001b[0m | \u001b[36mtrl_wrapper.trainer_wrapper\u001b[0m:\u001b[36minit_trainer\u001b[0m:\u001b[36m400\u001b[0m - \u001b[1mSaving output to: ./runs/04-20-16-46-325116-smollm2-135m-instruct-\u001b[0m\n",
      "\u001b[32m2025-04-20 16:46:02.379\u001b[0m | \u001b[1mINFO    \u001b[0m | \u001b[36mtrl_wrapper.trainer_wrapper\u001b[0m:\u001b[36minit_trainer\u001b[0m:\u001b[36m423\u001b[0m - \u001b[1mInitializing trainer, run_name: 04-20-16-46-325116-smollm2-135m-instruct-, wandb project: writing-grpo\u001b[0m\n",
      "\u001b[32m2025-04-20 16:46:02.379\u001b[0m | \u001b[1mINFO    \u001b[0m | \u001b[36mtrl_wrapper.trainer_wrapper\u001b[0m:\u001b[36minit_trainer\u001b[0m:\u001b[36m506\u001b[0m - \u001b[1mUsing vllm: False\u001b[0m\n"
     ]
    }
   ],
   "source": [
    "wrapper.init_trainer()"
   ]
  },
  {
   "cell_type": "code",
   "execution_count": 11,
   "metadata": {},
   "outputs": [
    {
     "name": "stderr",
     "output_type": "stream",
     "text": [
      "\u001b[32m2025-04-20 16:47:47.830\u001b[0m | \u001b[1mINFO    \u001b[0m | \u001b[36mtrl_wrapper.trainer_wrapper\u001b[0m:\u001b[36mtrain\u001b[0m:\u001b[36m648\u001b[0m - \u001b[1mStarting training.\u001b[0m\n",
      "\u001b[32m2025-04-20 16:48:04.140\u001b[0m | \u001b[1mINFO    \u001b[0m | \u001b[36msynthetic_data.tasks.writing\u001b[0m:\u001b[36mscore_writing\u001b[0m:\u001b[36m412\u001b[0m - \u001b[1mJudging 2 completions with gpt-4.1-nano\u001b[0m\n",
      "\u001b[32m2025-04-20 16:48:10.194\u001b[0m | \u001b[1mINFO    \u001b[0m | \u001b[36mdataset.writing\u001b[0m:\u001b[36mllm_judge_func\u001b[0m:\u001b[36m145\u001b[0m - \u001b[1mSample scores - totals: [0.5, 0.55]\u001b[0m\n",
      "\u001b[32m2025-04-20 16:48:10.194\u001b[0m | \u001b[1mINFO    \u001b[0m | \u001b[36mdataset.writing\u001b[0m:\u001b[36mllm_judge_func\u001b[0m:\u001b[36m147\u001b[0m - \u001b[1m\tAdherence to Instructions: [12.0, 14.0]\u001b[0m\n",
      "\u001b[32m2025-04-20 16:48:10.195\u001b[0m | \u001b[1mINFO    \u001b[0m | \u001b[36mdataset.writing\u001b[0m:\u001b[36mllm_judge_func\u001b[0m:\u001b[36m147\u001b[0m - \u001b[1m\tBelievable Character Actions: [8.0, 10.0]\u001b[0m\n",
      "\u001b[32m2025-04-20 16:48:10.195\u001b[0m | \u001b[1mINFO    \u001b[0m | \u001b[36mdataset.writing\u001b[0m:\u001b[36mllm_judge_func\u001b[0m:\u001b[36m147\u001b[0m - \u001b[1m\tNuanced Characters: [7.0, 8.0]\u001b[0m\n",
      "\u001b[32m2025-04-20 16:48:10.195\u001b[0m | \u001b[1mINFO    \u001b[0m | \u001b[36mdataset.writing\u001b[0m:\u001b[36mllm_judge_func\u001b[0m:\u001b[36m147\u001b[0m - \u001b[1m\tConsistent Voice/Tone of Writing: [10.0, 12.0]\u001b[0m\n",
      "\u001b[32m2025-04-20 16:48:10.195\u001b[0m | \u001b[1mINFO    \u001b[0m | \u001b[36mdataset.writing\u001b[0m:\u001b[36mllm_judge_func\u001b[0m:\u001b[36m147\u001b[0m - \u001b[1m\tImagery and Descriptive Quality: [9.0, 13.0]\u001b[0m\n",
      "\u001b[32m2025-04-20 16:48:10.196\u001b[0m | \u001b[1mINFO    \u001b[0m | \u001b[36mdataset.writing\u001b[0m:\u001b[36mllm_judge_func\u001b[0m:\u001b[36m147\u001b[0m - \u001b[1m\tElegant Prose: [8.0, 10.0]\u001b[0m\n",
      "\u001b[32m2025-04-20 16:48:10.196\u001b[0m | \u001b[1mINFO    \u001b[0m | \u001b[36mdataset.writing\u001b[0m:\u001b[36mllm_judge_func\u001b[0m:\u001b[36m147\u001b[0m - \u001b[1m\tEmotionally Engaging: [7.0, 9.0]\u001b[0m\n",
      "\u001b[32m2025-04-20 16:48:10.196\u001b[0m | \u001b[1mINFO    \u001b[0m | \u001b[36mdataset.writing\u001b[0m:\u001b[36mllm_judge_func\u001b[0m:\u001b[36m147\u001b[0m - \u001b[1m\tEmotionally Complex: [6.0, 7.0]\u001b[0m\n",
      "\u001b[32m2025-04-20 16:48:10.196\u001b[0m | \u001b[1mINFO    \u001b[0m | \u001b[36mdataset.writing\u001b[0m:\u001b[36mllm_judge_func\u001b[0m:\u001b[36m147\u001b[0m - \u001b[1m\tCoherent: [11.0, 11.0]\u001b[0m\n",
      "\u001b[32m2025-04-20 16:48:10.197\u001b[0m | \u001b[1mINFO    \u001b[0m | \u001b[36mdataset.writing\u001b[0m:\u001b[36mllm_judge_func\u001b[0m:\u001b[36m147\u001b[0m - \u001b[1m\tMeandering: [14.0, 12.0]\u001b[0m\n",
      "\u001b[32m2025-04-20 16:48:10.197\u001b[0m | \u001b[1mINFO    \u001b[0m | \u001b[36mdataset.writing\u001b[0m:\u001b[36mllm_judge_func\u001b[0m:\u001b[36m147\u001b[0m - \u001b[1m\tWeak Dialogue: [10.0, 9.0]\u001b[0m\n",
      "\u001b[32m2025-04-20 16:48:10.197\u001b[0m | \u001b[1mINFO    \u001b[0m | \u001b[36mdataset.writing\u001b[0m:\u001b[36mllm_judge_func\u001b[0m:\u001b[36m147\u001b[0m - \u001b[1m\tTell-Don't-Show: [12.0, 14.0]\u001b[0m\n",
      "\u001b[32m2025-04-20 16:48:10.197\u001b[0m | \u001b[1mINFO    \u001b[0m | \u001b[36mdataset.writing\u001b[0m:\u001b[36mllm_judge_func\u001b[0m:\u001b[36m147\u001b[0m - \u001b[1m\tUnsurprising or Uncreative: [9.0, 12.0]\u001b[0m\n",
      "\u001b[32m2025-04-20 16:48:10.197\u001b[0m | \u001b[1mINFO    \u001b[0m | \u001b[36mdataset.writing\u001b[0m:\u001b[36mllm_judge_func\u001b[0m:\u001b[36m147\u001b[0m - \u001b[1m\tAmateurish: [10.0, 11.0]\u001b[0m\n",
      "\u001b[32m2025-04-20 16:48:10.198\u001b[0m | \u001b[1mINFO    \u001b[0m | \u001b[36mdataset.writing\u001b[0m:\u001b[36mllm_judge_func\u001b[0m:\u001b[36m147\u001b[0m - \u001b[1m\tPurple Prose: [8.0, 12.0]\u001b[0m\n",
      "\u001b[32m2025-04-20 16:48:10.198\u001b[0m | \u001b[1mINFO    \u001b[0m | \u001b[36mdataset.writing\u001b[0m:\u001b[36mllm_judge_func\u001b[0m:\u001b[36m147\u001b[0m - \u001b[1m\tOverwrought: [12.0, 13.0]\u001b[0m\n",
      "\u001b[32m2025-04-20 16:48:10.198\u001b[0m | \u001b[1mINFO    \u001b[0m | \u001b[36mdataset.writing\u001b[0m:\u001b[36mllm_judge_func\u001b[0m:\u001b[36m147\u001b[0m - \u001b[1m\tIncongruent Ending Positivity: [15.0, 15.0]\u001b[0m\n",
      "\u001b[32m2025-04-20 16:48:10.198\u001b[0m | \u001b[1mINFO    \u001b[0m | \u001b[36mdataset.writing\u001b[0m:\u001b[36mllm_judge_func\u001b[0m:\u001b[36m147\u001b[0m - \u001b[1m\tUnearned Transformations: [13.0, 12.0]\u001b[0m\n",
      "\u001b[32m2025-04-20 16:48:10.198\u001b[0m | \u001b[1mINFO    \u001b[0m | \u001b[36mdataset.writing\u001b[0m:\u001b[36mllm_judge_func\u001b[0m:\u001b[36m147\u001b[0m - \u001b[1m\tWell-earned Lightness or Darkness: [10.0, 10.0]\u001b[0m\n",
      "\u001b[32m2025-04-20 16:48:10.199\u001b[0m | \u001b[1mINFO    \u001b[0m | \u001b[36mdataset.writing\u001b[0m:\u001b[36mllm_judge_func\u001b[0m:\u001b[36m147\u001b[0m - \u001b[1m\tSentences Flow Naturally: [11.0, 11.0]\u001b[0m\n",
      "\u001b[32m2025-04-20 16:48:10.199\u001b[0m | \u001b[1mINFO    \u001b[0m | \u001b[36mdataset.writing\u001b[0m:\u001b[36mllm_judge_func\u001b[0m:\u001b[36m147\u001b[0m - \u001b[1m\tOverall Reader Engagement: [8.0, 9.0]\u001b[0m\n",
      "\u001b[32m2025-04-20 16:48:10.199\u001b[0m | \u001b[1mINFO    \u001b[0m | \u001b[36mdataset.writing\u001b[0m:\u001b[36mllm_judge_func\u001b[0m:\u001b[36m147\u001b[0m - \u001b[1m\tOverall Impression: [9.0, 10.0]\u001b[0m\n",
      "\u001b[32m2025-04-20 16:48:10.202\u001b[0m | \u001b[1mINFO    \u001b[0m | \u001b[36mmodel.reasoning\u001b[0m:\u001b[36mlogger_reward\u001b[0m:\u001b[36m229\u001b[0m - \u001b[1mGenerations:\u001b[0m\n",
      "\u001b[32m2025-04-20 16:48:10.203\u001b[0m | \u001b[1mINFO    \u001b[0m | \u001b[36mmodel.reasoning\u001b[0m:\u001b[36mlogger_reward\u001b[0m:\u001b[36m231\u001b[0m - \u001b[1m========================================\u001b[0m\n",
      "\u001b[32m2025-04-20 16:48:10.203\u001b[0m | \u001b[1mINFO    \u001b[0m | \u001b[36mmodel.reasoning\u001b[0m:\u001b[36mlogger_reward\u001b[0m:\u001b[36m232\u001b[0m - \u001b[1mPrompt 0: --------------------\u001b[0m\n",
      "\u001b[32m2025-04-20 16:48:10.203\u001b[0m | \u001b[1mINFO    \u001b[0m | \u001b[36mmodel.reasoning\u001b[0m:\u001b[36mlogger_reward\u001b[0m:\u001b[36m233\u001b[0m - \u001b[1mWrite a paragraph in the style of a contemporary fantasy novel, aiming for a tone that blends mystery, suspense, and a touch of unease. The scene involves two characters, one skeptical and the other enigmatic, in a dark, subterranean space. The skeptical character, Sam, should express disbelief and growing fear about their situation, questioning the other character's motives. The other character, Weewalk, a small, unusual man, should respond with cryptic pronouncements and unsettling revelations. The setting should be described with sensory details, emphasizing cold, darkness, and unsettling sounds emanating from unseen depths. Include dialogue that reveals Sam experienced odd occurrences in his house. Weewalk should mention strange beings and their effect on the protagonist. Weewalk then demonstrates a manifestation of sorts to further unnerve Sam. The scene culminates with a bizarre explanation about overlapping worlds and their influence, leaving the reader with a sense of wonder and dread. Use descriptive language to evoke a sense of the uncanny, employing similes and metaphors to depict the unnatural phenomena. Keep the sentences relatively short and impactful, and avoid overly complex vocabulary.\n",
      "\u001b[0m\n",
      "\u001b[32m2025-04-20 16:48:10.203\u001b[0m | \u001b[1mINFO    \u001b[0m | \u001b[36mmodel.reasoning\u001b[0m:\u001b[36mlogger_reward\u001b[0m:\u001b[36m234\u001b[0m - \u001b[1mGeneration: --------------------\u001b[0m\n",
      "\u001b[32m2025-04-20 16:48:10.203\u001b[0m | \u001b[1mINFO    \u001b[0m | \u001b[36mmodel.reasoning\u001b[0m:\u001b[36mlogger_reward\u001b[0m:\u001b[36m235\u001b[0m - \u001b[1mIn the dimly lit recesses of the abandoned underground bunker, a lone figure stood at the base of the massive, unforgiving bunker's entrance, her gaze fixed on the unknown depths below. Sam, the skeptical skeptic, stood at the threshold, his skeptical eyes scanning the cavernous spaces for signs of paranormal activity. His skeptical voice, ever cautious, urged him forward, even as he wondered aloud about the nature of his own paranormal experiments. With the other character, Weewalk, a small, unusual man, Weewalk sat in stillness, a presence etched on his features with a palpable sense of unease. \n",
      "\n",
      "Weewalk's words spoke of disembodied voices, of shapeshifting, and of the undead. The twisted visions he conjured, sent to the senses, left Sam breathless, and, despite her skepticism, she couldn't resist the urge to delve deeper into the mysteries that lurked within. As she spoke, the shadows grew darker, and the air seemed to thicken, with an otherworldly resonance that threatened to disrupt Sam's calm demeanor.\n",
      "\n",
      "The conversation unfolded in a manner that left him awestruck, the air thick with uncertainty. Weewalk's words left Sam breathless, and, as the silence seemed to grow, Sam finally broke through the barrier of perception, his skeptical mind consumed by an unsettling, almost hallucinatory state. The unsettling whispers, too, reached the threshold, and Sam stumbled forward, his heart pounding in her chest, as if the darkness itself was a portal to a realm beyond her comprehension. He hesitated, glancing around, as the shadows grew even darker, and she hesitated again, her gaze fixed on the unknown depths.\u001b[0m\n",
      "\u001b[32m2025-04-20 16:48:10.203\u001b[0m | \u001b[1mINFO    \u001b[0m | \u001b[36mmodel.reasoning\u001b[0m:\u001b[36mlogger_reward\u001b[0m:\u001b[36m231\u001b[0m - \u001b[1m========================================\u001b[0m\n",
      "\u001b[32m2025-04-20 16:48:10.204\u001b[0m | \u001b[1mINFO    \u001b[0m | \u001b[36mmodel.reasoning\u001b[0m:\u001b[36mlogger_reward\u001b[0m:\u001b[36m232\u001b[0m - \u001b[1mPrompt 1: --------------------\u001b[0m\n",
      "\u001b[32m2025-04-20 16:48:10.204\u001b[0m | \u001b[1mINFO    \u001b[0m | \u001b[36mmodel.reasoning\u001b[0m:\u001b[36mlogger_reward\u001b[0m:\u001b[36m233\u001b[0m - \u001b[1mWrite a paragraph in the style of a contemporary fantasy novel, aiming for a tone that blends mystery, suspense, and a touch of unease. The scene involves two characters, one skeptical and the other enigmatic, in a dark, subterranean space. The skeptical character, Sam, should express disbelief and growing fear about their situation, questioning the other character's motives. The other character, Weewalk, a small, unusual man, should respond with cryptic pronouncements and unsettling revelations. The setting should be described with sensory details, emphasizing cold, darkness, and unsettling sounds emanating from unseen depths. Include dialogue that reveals Sam experienced odd occurrences in his house. Weewalk should mention strange beings and their effect on the protagonist. Weewalk then demonstrates a manifestation of sorts to further unnerve Sam. The scene culminates with a bizarre explanation about overlapping worlds and their influence, leaving the reader with a sense of wonder and dread. Use descriptive language to evoke a sense of the uncanny, employing similes and metaphors to depict the unnatural phenomena. Keep the sentences relatively short and impactful, and avoid overly complex vocabulary.\n",
      "\u001b[0m\n",
      "\u001b[32m2025-04-20 16:48:10.204\u001b[0m | \u001b[1mINFO    \u001b[0m | \u001b[36mmodel.reasoning\u001b[0m:\u001b[36mlogger_reward\u001b[0m:\u001b[36m234\u001b[0m - \u001b[1mGeneration: --------------------\u001b[0m\n",
      "\u001b[32m2025-04-20 16:48:10.204\u001b[0m | \u001b[1mINFO    \u001b[0m | \u001b[36mmodel.reasoning\u001b[0m:\u001b[36mlogger_reward\u001b[0m:\u001b[36m235\u001b[0m - \u001b[1mIn a world shrouded in darkness and foreboding, where shadows writhe like living entities and a chill air stirs the ground, Sam and Weewalk stand at the precipice of their inner and outer world. Their conversation, once light and witty, grows heavy, as if they are speaking on two planes, the world of reason and the world of madness. Sam, a skeptical soul, begins to speak to Weewalk in hushed tones, barely avoiding the question of the other's motives. What seems to be the outcome, the enigmatic presence of a monstrous being, yet no further words are spoken without a flicker of interest. Weewalk, a tall, thin figure with a twisted face, emerges from the shadows, and the two strangers sit in hushed silence, their world a blur of darkness and mystery. As they finish the conversation, Sam's mind wanders, a thought flashes through his consciousness, and, to his horror, the darkness seems to take on a life of its own. He looks up, and with a spark of fear, weepers fill the air, as our imagination conjures an illusory world where the laws of reality have been twisted. Despite the discomfort, weepers follow, drawn by the haunting atmosphere and the echoes of the night.\u001b[0m\n",
      "\u001b[32m2025-04-20 16:48:20.852\u001b[0m | \u001b[1mINFO    \u001b[0m | \u001b[36msynthetic_data.tasks.writing\u001b[0m:\u001b[36mscore_writing\u001b[0m:\u001b[36m412\u001b[0m - \u001b[1mJudging 2 completions with gpt-4.1-nano\u001b[0m\n"
     ]
    },
    {
     "ename": "KeyboardInterrupt",
     "evalue": "",
     "output_type": "error",
     "traceback": [
      "\u001b[0;31m---------------------------------------------------------------------------\u001b[0m",
      "\u001b[0;31mKeyboardInterrupt\u001b[0m                         Traceback (most recent call last)",
      "Cell \u001b[0;32mIn[11], line 1\u001b[0m\n\u001b[0;32m----> 1\u001b[0m \u001b[43mwrapper\u001b[49m\u001b[38;5;241;43m.\u001b[39;49m\u001b[43mtrain\u001b[49m\u001b[43m(\u001b[49m\u001b[43m)\u001b[49m\n",
      "File \u001b[0;32m~/Documents/GitHub/smolmodels/notebooks/../trl_wrapper/trainer_wrapper.py:649\u001b[0m, in \u001b[0;36mTrainerWrapper.train\u001b[0;34m(self)\u001b[0m\n\u001b[1;32m    647\u001b[0m \u001b[38;5;28;01mdef\u001b[39;00m\u001b[38;5;250m \u001b[39m\u001b[38;5;21mtrain\u001b[39m(\u001b[38;5;28mself\u001b[39m):\n\u001b[1;32m    648\u001b[0m     logger\u001b[38;5;241m.\u001b[39minfo(\u001b[38;5;124m\"\u001b[39m\u001b[38;5;124mStarting training.\u001b[39m\u001b[38;5;124m\"\u001b[39m)\n\u001b[0;32m--> 649\u001b[0m     \u001b[38;5;28;43mself\u001b[39;49m\u001b[38;5;241;43m.\u001b[39;49m\u001b[43mtrainer\u001b[49m\u001b[38;5;241;43m.\u001b[39;49m\u001b[43mtrain\u001b[49m\u001b[43m(\u001b[49m\u001b[43m)\u001b[49m\n",
      "File \u001b[0;32m~/Documents/GitHub/smolmodels/.venv/lib/python3.11/site-packages/transformers/trainer.py:2245\u001b[0m, in \u001b[0;36mTrainer.train\u001b[0;34m(self, resume_from_checkpoint, trial, ignore_keys_for_eval, **kwargs)\u001b[0m\n\u001b[1;32m   2243\u001b[0m         hf_hub_utils\u001b[38;5;241m.\u001b[39menable_progress_bars()\n\u001b[1;32m   2244\u001b[0m \u001b[38;5;28;01melse\u001b[39;00m:\n\u001b[0;32m-> 2245\u001b[0m     \u001b[38;5;28;01mreturn\u001b[39;00m \u001b[43minner_training_loop\u001b[49m\u001b[43m(\u001b[49m\n\u001b[1;32m   2246\u001b[0m \u001b[43m        \u001b[49m\u001b[43margs\u001b[49m\u001b[38;5;241;43m=\u001b[39;49m\u001b[43margs\u001b[49m\u001b[43m,\u001b[49m\n\u001b[1;32m   2247\u001b[0m \u001b[43m        \u001b[49m\u001b[43mresume_from_checkpoint\u001b[49m\u001b[38;5;241;43m=\u001b[39;49m\u001b[43mresume_from_checkpoint\u001b[49m\u001b[43m,\u001b[49m\n\u001b[1;32m   2248\u001b[0m \u001b[43m        \u001b[49m\u001b[43mtrial\u001b[49m\u001b[38;5;241;43m=\u001b[39;49m\u001b[43mtrial\u001b[49m\u001b[43m,\u001b[49m\n\u001b[1;32m   2249\u001b[0m \u001b[43m        \u001b[49m\u001b[43mignore_keys_for_eval\u001b[49m\u001b[38;5;241;43m=\u001b[39;49m\u001b[43mignore_keys_for_eval\u001b[49m\u001b[43m,\u001b[49m\n\u001b[1;32m   2250\u001b[0m \u001b[43m    \u001b[49m\u001b[43m)\u001b[49m\n",
      "File \u001b[0;32m~/Documents/GitHub/smolmodels/.venv/lib/python3.11/site-packages/transformers/trainer.py:2560\u001b[0m, in \u001b[0;36mTrainer._inner_training_loop\u001b[0;34m(self, batch_size, args, resume_from_checkpoint, trial, ignore_keys_for_eval)\u001b[0m\n\u001b[1;32m   2553\u001b[0m context \u001b[38;5;241m=\u001b[39m (\n\u001b[1;32m   2554\u001b[0m     functools\u001b[38;5;241m.\u001b[39mpartial(\u001b[38;5;28mself\u001b[39m\u001b[38;5;241m.\u001b[39maccelerator\u001b[38;5;241m.\u001b[39mno_sync, model\u001b[38;5;241m=\u001b[39mmodel)\n\u001b[1;32m   2555\u001b[0m     \u001b[38;5;28;01mif\u001b[39;00m i \u001b[38;5;241m!=\u001b[39m \u001b[38;5;28mlen\u001b[39m(batch_samples) \u001b[38;5;241m-\u001b[39m \u001b[38;5;241m1\u001b[39m\n\u001b[1;32m   2556\u001b[0m     \u001b[38;5;129;01mand\u001b[39;00m \u001b[38;5;28mself\u001b[39m\u001b[38;5;241m.\u001b[39maccelerator\u001b[38;5;241m.\u001b[39mdistributed_type \u001b[38;5;241m!=\u001b[39m DistributedType\u001b[38;5;241m.\u001b[39mDEEPSPEED\n\u001b[1;32m   2557\u001b[0m     \u001b[38;5;28;01melse\u001b[39;00m contextlib\u001b[38;5;241m.\u001b[39mnullcontext\n\u001b[1;32m   2558\u001b[0m )\n\u001b[1;32m   2559\u001b[0m \u001b[38;5;28;01mwith\u001b[39;00m context():\n\u001b[0;32m-> 2560\u001b[0m     tr_loss_step \u001b[38;5;241m=\u001b[39m \u001b[38;5;28;43mself\u001b[39;49m\u001b[38;5;241;43m.\u001b[39;49m\u001b[43mtraining_step\u001b[49m\u001b[43m(\u001b[49m\u001b[43mmodel\u001b[49m\u001b[43m,\u001b[49m\u001b[43m \u001b[49m\u001b[43minputs\u001b[49m\u001b[43m,\u001b[49m\u001b[43m \u001b[49m\u001b[43mnum_items_in_batch\u001b[49m\u001b[43m)\u001b[49m\n\u001b[1;32m   2562\u001b[0m \u001b[38;5;28;01mif\u001b[39;00m (\n\u001b[1;32m   2563\u001b[0m     args\u001b[38;5;241m.\u001b[39mlogging_nan_inf_filter\n\u001b[1;32m   2564\u001b[0m     \u001b[38;5;129;01mand\u001b[39;00m \u001b[38;5;129;01mnot\u001b[39;00m is_torch_xla_available()\n\u001b[1;32m   2565\u001b[0m     \u001b[38;5;129;01mand\u001b[39;00m (torch\u001b[38;5;241m.\u001b[39misnan(tr_loss_step) \u001b[38;5;129;01mor\u001b[39;00m torch\u001b[38;5;241m.\u001b[39misinf(tr_loss_step))\n\u001b[1;32m   2566\u001b[0m ):\n\u001b[1;32m   2567\u001b[0m     \u001b[38;5;66;03m# if loss is nan or inf simply add the average of previous logged losses\u001b[39;00m\n\u001b[1;32m   2568\u001b[0m     tr_loss \u001b[38;5;241m=\u001b[39m tr_loss \u001b[38;5;241m+\u001b[39m tr_loss \u001b[38;5;241m/\u001b[39m (\u001b[38;5;241m1\u001b[39m \u001b[38;5;241m+\u001b[39m \u001b[38;5;28mself\u001b[39m\u001b[38;5;241m.\u001b[39mstate\u001b[38;5;241m.\u001b[39mglobal_step \u001b[38;5;241m-\u001b[39m \u001b[38;5;28mself\u001b[39m\u001b[38;5;241m.\u001b[39m_globalstep_last_logged)\n",
      "File \u001b[0;32m~/Documents/GitHub/smolmodels/.venv/lib/python3.11/site-packages/transformers/trainer.py:3730\u001b[0m, in \u001b[0;36mTrainer.training_step\u001b[0;34m(self, model, inputs, num_items_in_batch)\u001b[0m\n\u001b[1;32m   3727\u001b[0m \u001b[38;5;28;01mif\u001b[39;00m \u001b[38;5;28mhasattr\u001b[39m(\u001b[38;5;28mself\u001b[39m\u001b[38;5;241m.\u001b[39moptimizer, \u001b[38;5;124m\"\u001b[39m\u001b[38;5;124mtrain\u001b[39m\u001b[38;5;124m\"\u001b[39m) \u001b[38;5;129;01mand\u001b[39;00m \u001b[38;5;28mcallable\u001b[39m(\u001b[38;5;28mself\u001b[39m\u001b[38;5;241m.\u001b[39moptimizer\u001b[38;5;241m.\u001b[39mtrain):\n\u001b[1;32m   3728\u001b[0m     \u001b[38;5;28mself\u001b[39m\u001b[38;5;241m.\u001b[39moptimizer\u001b[38;5;241m.\u001b[39mtrain()\n\u001b[0;32m-> 3730\u001b[0m inputs \u001b[38;5;241m=\u001b[39m \u001b[38;5;28;43mself\u001b[39;49m\u001b[38;5;241;43m.\u001b[39;49m\u001b[43m_prepare_inputs\u001b[49m\u001b[43m(\u001b[49m\u001b[43minputs\u001b[49m\u001b[43m)\u001b[49m\n\u001b[1;32m   3731\u001b[0m \u001b[38;5;28;01mif\u001b[39;00m is_sagemaker_mp_enabled():\n\u001b[1;32m   3732\u001b[0m     loss_mb \u001b[38;5;241m=\u001b[39m smp_forward_backward(model, inputs, \u001b[38;5;28mself\u001b[39m\u001b[38;5;241m.\u001b[39margs\u001b[38;5;241m.\u001b[39mgradient_accumulation_steps)\n",
      "File \u001b[0;32m~/Documents/GitHub/smolmodels/.venv/lib/python3.11/site-packages/trl/extras/profiling.py:87\u001b[0m, in \u001b[0;36mprofiling_decorator.<locals>.wrapper\u001b[0;34m(self, *args, **kwargs)\u001b[0m\n\u001b[1;32m     84\u001b[0m \u001b[38;5;129m@functools\u001b[39m\u001b[38;5;241m.\u001b[39mwraps(func)\n\u001b[1;32m     85\u001b[0m \u001b[38;5;28;01mdef\u001b[39;00m\u001b[38;5;250m \u001b[39m\u001b[38;5;21mwrapper\u001b[39m(\u001b[38;5;28mself\u001b[39m, \u001b[38;5;241m*\u001b[39margs, \u001b[38;5;241m*\u001b[39m\u001b[38;5;241m*\u001b[39mkwargs):\n\u001b[1;32m     86\u001b[0m     \u001b[38;5;28;01mwith\u001b[39;00m profiling_context(\u001b[38;5;28mself\u001b[39m, func\u001b[38;5;241m.\u001b[39m\u001b[38;5;18m__name__\u001b[39m):\n\u001b[0;32m---> 87\u001b[0m         \u001b[38;5;28;01mreturn\u001b[39;00m \u001b[43mfunc\u001b[49m\u001b[43m(\u001b[49m\u001b[38;5;28;43mself\u001b[39;49m\u001b[43m,\u001b[49m\u001b[43m \u001b[49m\u001b[38;5;241;43m*\u001b[39;49m\u001b[43margs\u001b[49m\u001b[43m,\u001b[49m\u001b[43m \u001b[49m\u001b[38;5;241;43m*\u001b[39;49m\u001b[38;5;241;43m*\u001b[39;49m\u001b[43mkwargs\u001b[49m\u001b[43m)\u001b[49m\n",
      "File \u001b[0;32m~/Documents/GitHub/smolmodels/.venv/lib/python3.11/site-packages/trl/trainer/grpo_trainer.py:647\u001b[0m, in \u001b[0;36mGRPOTrainer._prepare_inputs\u001b[0;34m(self, inputs)\u001b[0m\n\u001b[1;32m    645\u001b[0m \u001b[38;5;28;01mif\u001b[39;00m mode \u001b[38;5;241m==\u001b[39m \u001b[38;5;124m\"\u001b[39m\u001b[38;5;124mtrain\u001b[39m\u001b[38;5;124m\"\u001b[39m:\n\u001b[1;32m    646\u001b[0m     \u001b[38;5;28;01mif\u001b[39;00m \u001b[38;5;28mself\u001b[39m\u001b[38;5;241m.\u001b[39mstate\u001b[38;5;241m.\u001b[39mglobal_step \u001b[38;5;241m%\u001b[39m \u001b[38;5;28mself\u001b[39m\u001b[38;5;241m.\u001b[39mnum_iterations \u001b[38;5;241m==\u001b[39m \u001b[38;5;241m0\u001b[39m:\n\u001b[0;32m--> 647\u001b[0m         inputs \u001b[38;5;241m=\u001b[39m \u001b[38;5;28;43mself\u001b[39;49m\u001b[38;5;241;43m.\u001b[39;49m\u001b[43m_generate_and_score_completions\u001b[49m\u001b[43m(\u001b[49m\u001b[43minputs\u001b[49m\u001b[43m)\u001b[49m\n\u001b[1;32m    648\u001b[0m         \u001b[38;5;28mself\u001b[39m\u001b[38;5;241m.\u001b[39m_buffered_inputs[\u001b[38;5;28mself\u001b[39m\u001b[38;5;241m.\u001b[39m_step \u001b[38;5;241m%\u001b[39m \u001b[38;5;28mself\u001b[39m\u001b[38;5;241m.\u001b[39margs\u001b[38;5;241m.\u001b[39mgradient_accumulation_steps] \u001b[38;5;241m=\u001b[39m inputs\n\u001b[1;32m    649\u001b[0m     \u001b[38;5;28;01melse\u001b[39;00m:\n",
      "File \u001b[0;32m~/Documents/GitHub/smolmodels/.venv/lib/python3.11/site-packages/trl/trainer/grpo_trainer.py:799\u001b[0m, in \u001b[0;36mGRPOTrainer._generate_and_score_completions\u001b[0;34m(self, inputs)\u001b[0m\n\u001b[1;32m    797\u001b[0m keys \u001b[38;5;241m=\u001b[39m [key \u001b[38;5;28;01mfor\u001b[39;00m key \u001b[38;5;129;01min\u001b[39;00m inputs[\u001b[38;5;241m0\u001b[39m] \u001b[38;5;28;01mif\u001b[39;00m key \u001b[38;5;129;01mnot\u001b[39;00m \u001b[38;5;129;01min\u001b[39;00m [\u001b[38;5;124m\"\u001b[39m\u001b[38;5;124mprompt\u001b[39m\u001b[38;5;124m\"\u001b[39m, \u001b[38;5;124m\"\u001b[39m\u001b[38;5;124mcompletion\u001b[39m\u001b[38;5;124m\"\u001b[39m]]\n\u001b[1;32m    798\u001b[0m reward_kwargs \u001b[38;5;241m=\u001b[39m {key: [example[key] \u001b[38;5;28;01mfor\u001b[39;00m example \u001b[38;5;129;01min\u001b[39;00m inputs] \u001b[38;5;28;01mfor\u001b[39;00m key \u001b[38;5;129;01min\u001b[39;00m keys}\n\u001b[0;32m--> 799\u001b[0m output_reward_func \u001b[38;5;241m=\u001b[39m \u001b[43mreward_func\u001b[49m\u001b[43m(\u001b[49m\u001b[43mprompts\u001b[49m\u001b[38;5;241;43m=\u001b[39;49m\u001b[43mprompts\u001b[49m\u001b[43m,\u001b[49m\u001b[43m \u001b[49m\u001b[43mcompletions\u001b[49m\u001b[38;5;241;43m=\u001b[39;49m\u001b[43mcompletions\u001b[49m\u001b[43m,\u001b[49m\u001b[43m \u001b[49m\u001b[38;5;241;43m*\u001b[39;49m\u001b[38;5;241;43m*\u001b[39;49m\u001b[43mreward_kwargs\u001b[49m\u001b[43m)\u001b[49m\n\u001b[1;32m    800\u001b[0m \u001b[38;5;66;03m# Convert None values to NaN\u001b[39;00m\n\u001b[1;32m    801\u001b[0m output_reward_func \u001b[38;5;241m=\u001b[39m [reward \u001b[38;5;28;01mif\u001b[39;00m reward \u001b[38;5;129;01mis\u001b[39;00m \u001b[38;5;129;01mnot\u001b[39;00m \u001b[38;5;28;01mNone\u001b[39;00m \u001b[38;5;28;01melse\u001b[39;00m torch\u001b[38;5;241m.\u001b[39mnan \u001b[38;5;28;01mfor\u001b[39;00m reward \u001b[38;5;129;01min\u001b[39;00m output_reward_func]\n",
      "File \u001b[0;32m~/Documents/GitHub/smolmodels/notebooks/../dataset/writing.py:159\u001b[0m, in \u001b[0;36mcreate_llm_judge_func.<locals>.named_llm_judge_func\u001b[0;34m(prompts, completions, **kwargs)\u001b[0m\n\u001b[1;32m    156\u001b[0m \u001b[38;5;28;01mdef\u001b[39;00m\u001b[38;5;250m \u001b[39m\u001b[38;5;21mnamed_llm_judge_func\u001b[39m(\n\u001b[1;32m    157\u001b[0m     prompts: \u001b[38;5;28mlist\u001b[39m[\u001b[38;5;28mstr\u001b[39m], completions: \u001b[38;5;28mlist\u001b[39m[\u001b[38;5;28mstr\u001b[39m], \u001b[38;5;241m*\u001b[39m\u001b[38;5;241m*\u001b[39mkwargs\n\u001b[1;32m    158\u001b[0m ) \u001b[38;5;241m-\u001b[39m\u001b[38;5;241m>\u001b[39m \u001b[38;5;28mlist\u001b[39m[\u001b[38;5;28mfloat\u001b[39m]:\n\u001b[0;32m--> 159\u001b[0m     \u001b[38;5;28;01mreturn\u001b[39;00m \u001b[43mllm_judge_func\u001b[49m\u001b[43m(\u001b[49m\u001b[43mprompts\u001b[49m\u001b[43m,\u001b[49m\u001b[43m \u001b[49m\u001b[43mcompletions\u001b[49m\u001b[43m,\u001b[49m\u001b[43m \u001b[49m\u001b[43mgeneration_wrapper\u001b[49m\u001b[43m,\u001b[49m\u001b[43m \u001b[49m\u001b[43mbench\u001b[49m\u001b[43m,\u001b[49m\u001b[43m \u001b[49m\u001b[38;5;241;43m*\u001b[39;49m\u001b[38;5;241;43m*\u001b[39;49m\u001b[43mkwargs\u001b[49m\u001b[43m)\u001b[49m\n",
      "File \u001b[0;32m~/Documents/GitHub/smolmodels/notebooks/../dataset/writing.py:121\u001b[0m, in \u001b[0;36mllm_judge_func\u001b[0;34m(prompts, completions, generation_wrapper, bench)\u001b[0m\n\u001b[1;32m    118\u001b[0m     out \u001b[38;5;241m=\u001b[39m \u001b[38;5;28;01mawait\u001b[39;00m score_writing(completions, prompts, bench, generation_wrapper)\n\u001b[1;32m    119\u001b[0m     \u001b[38;5;28;01mreturn\u001b[39;00m out\n\u001b[0;32m--> 121\u001b[0m scores \u001b[38;5;241m=\u001b[39m \u001b[43mrun_sync\u001b[49m\u001b[43m(\u001b[49m\u001b[43mrun_score\u001b[49m\u001b[43m(\u001b[49m\u001b[43m)\u001b[49m\u001b[43m)\u001b[49m\n\u001b[1;32m    123\u001b[0m scores_per_category \u001b[38;5;241m=\u001b[39m defaultdict(\u001b[38;5;28mlist\u001b[39m)\n\u001b[1;32m    124\u001b[0m score_vals \u001b[38;5;241m=\u001b[39m []\n",
      "File \u001b[0;32m~/Documents/GitHub/smolmodels/notebooks/../dataset/writing.py:99\u001b[0m, in \u001b[0;36mrun_sync\u001b[0;34m(coro)\u001b[0m\n\u001b[1;32m     97\u001b[0m     thread \u001b[38;5;241m=\u001b[39m threading\u001b[38;5;241m.\u001b[39mThread(target\u001b[38;5;241m=\u001b[39m_run)\n\u001b[1;32m     98\u001b[0m     thread\u001b[38;5;241m.\u001b[39mstart()\n\u001b[0;32m---> 99\u001b[0m     \u001b[43mthread\u001b[49m\u001b[38;5;241;43m.\u001b[39;49m\u001b[43mjoin\u001b[49m\u001b[43m(\u001b[49m\u001b[43m)\u001b[49m\n\u001b[1;32m    100\u001b[0m     \u001b[38;5;28;01mreturn\u001b[39;00m result_container[\u001b[38;5;241m0\u001b[39m]\n\u001b[1;32m    101\u001b[0m \u001b[38;5;66;03m# No event loop running; use asyncio.run for a clean execution.\u001b[39;00m\n\u001b[1;32m    102\u001b[0m \u001b[38;5;28;01melse\u001b[39;00m:\n",
      "File \u001b[0;32m~/.local/share/uv/python/cpython-3.11.11-macos-aarch64-none/lib/python3.11/threading.py:1119\u001b[0m, in \u001b[0;36mThread.join\u001b[0;34m(self, timeout)\u001b[0m\n\u001b[1;32m   1116\u001b[0m     \u001b[38;5;28;01mraise\u001b[39;00m \u001b[38;5;167;01mRuntimeError\u001b[39;00m(\u001b[38;5;124m\"\u001b[39m\u001b[38;5;124mcannot join current thread\u001b[39m\u001b[38;5;124m\"\u001b[39m)\n\u001b[1;32m   1118\u001b[0m \u001b[38;5;28;01mif\u001b[39;00m timeout \u001b[38;5;129;01mis\u001b[39;00m \u001b[38;5;28;01mNone\u001b[39;00m:\n\u001b[0;32m-> 1119\u001b[0m     \u001b[38;5;28;43mself\u001b[39;49m\u001b[38;5;241;43m.\u001b[39;49m\u001b[43m_wait_for_tstate_lock\u001b[49m\u001b[43m(\u001b[49m\u001b[43m)\u001b[49m\n\u001b[1;32m   1120\u001b[0m \u001b[38;5;28;01melse\u001b[39;00m:\n\u001b[1;32m   1121\u001b[0m     \u001b[38;5;66;03m# the behavior of a negative timeout isn't documented, but\u001b[39;00m\n\u001b[1;32m   1122\u001b[0m     \u001b[38;5;66;03m# historically .join(timeout=x) for x<0 has acted as if timeout=0\u001b[39;00m\n\u001b[1;32m   1123\u001b[0m     \u001b[38;5;28mself\u001b[39m\u001b[38;5;241m.\u001b[39m_wait_for_tstate_lock(timeout\u001b[38;5;241m=\u001b[39m\u001b[38;5;28mmax\u001b[39m(timeout, \u001b[38;5;241m0\u001b[39m))\n",
      "File \u001b[0;32m~/.local/share/uv/python/cpython-3.11.11-macos-aarch64-none/lib/python3.11/threading.py:1139\u001b[0m, in \u001b[0;36mThread._wait_for_tstate_lock\u001b[0;34m(self, block, timeout)\u001b[0m\n\u001b[1;32m   1136\u001b[0m     \u001b[38;5;28;01mreturn\u001b[39;00m\n\u001b[1;32m   1138\u001b[0m \u001b[38;5;28;01mtry\u001b[39;00m:\n\u001b[0;32m-> 1139\u001b[0m     \u001b[38;5;28;01mif\u001b[39;00m \u001b[43mlock\u001b[49m\u001b[38;5;241;43m.\u001b[39;49m\u001b[43macquire\u001b[49m\u001b[43m(\u001b[49m\u001b[43mblock\u001b[49m\u001b[43m,\u001b[49m\u001b[43m \u001b[49m\u001b[43mtimeout\u001b[49m\u001b[43m)\u001b[49m:\n\u001b[1;32m   1140\u001b[0m         lock\u001b[38;5;241m.\u001b[39mrelease()\n\u001b[1;32m   1141\u001b[0m         \u001b[38;5;28mself\u001b[39m\u001b[38;5;241m.\u001b[39m_stop()\n",
      "\u001b[0;31mKeyboardInterrupt\u001b[0m: "
     ]
    }
   ],
   "source": [
    "wrapper.train()"
   ]
  },
  {
   "cell_type": "code",
   "execution_count": 8,
   "metadata": {},
   "outputs": [],
   "source": [
    "import pandas as pd\n",
    "dataset_pd = pd.read_parquet(\n",
    "    \"../dataset_files/gutenberg_backtranslate_from_txt.parquet\"\n",
    ")"
   ]
  },
  {
   "cell_type": "code",
   "execution_count": 9,
   "metadata": {},
   "outputs": [
    {
     "ename": "NameError",
     "evalue": "name 'instruction' is not defined",
     "output_type": "error",
     "traceback": [
      "\u001b[0;31m---------------------------------------------------------------------------\u001b[0m",
      "\u001b[0;31mNameError\u001b[0m                                 Traceback (most recent call last)",
      "Cell \u001b[0;32mIn[9], line 1\u001b[0m\n\u001b[0;32m----> 1\u001b[0m \u001b[38;5;28mprint\u001b[39m(wrapper\u001b[38;5;241m.\u001b[39mdata_module\u001b[38;5;241m.\u001b[39mbench\u001b[38;5;241m.\u001b[39mformat_prompt(\u001b[43minstruction\u001b[49m, completion))\n",
      "\u001b[0;31mNameError\u001b[0m: name 'instruction' is not defined"
     ]
    }
   ],
   "source": [
    "print(wrapper.data_module.bench.format_prompt(instruction, completion))"
   ]
  },
  {
   "cell_type": "code",
   "execution_count": 12,
   "metadata": {},
   "outputs": [
    {
     "name": "stderr",
     "output_type": "stream",
     "text": [
      "\u001b[32m2025-04-15 20:44:05.754\u001b[0m | \u001b[1mINFO    \u001b[0m | \u001b[36msynthetic_data.tasks.writing\u001b[0m:\u001b[36mscore_writing\u001b[0m:\u001b[36m412\u001b[0m - \u001b[1mJudging 1 completions with gpt-4.1-nano\u001b[0m\n"
     ]
    },
    {
     "data": {
      "text/plain": [
       "[0.14]"
      ]
     },
     "execution_count": 12,
     "metadata": {},
     "output_type": "execute_result"
    }
   ],
   "source": [
    "completion, instruction = dataset_pd.loc[500]['text'], dataset_pd.loc[500]['instruction']\n",
    "wrapper.data_module.reward_functions()[0]([instruction], [completion])"
   ]
  }
 ],
 "metadata": {
  "kernelspec": {
   "display_name": ".venv",
   "language": "python",
   "name": "python3"
  },
  "language_info": {
   "codemirror_mode": {
    "name": "ipython",
    "version": 3
   },
   "file_extension": ".py",
   "mimetype": "text/x-python",
   "name": "python",
   "nbconvert_exporter": "python",
   "pygments_lexer": "ipython3",
   "version": "3.11.11"
  }
 },
 "nbformat": 4,
 "nbformat_minor": 2
}
