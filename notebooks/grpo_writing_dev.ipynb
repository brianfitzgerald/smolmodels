{
 "cells": [
  {
   "cell_type": "code",
   "execution_count": null,
   "metadata": {},
   "outputs": [],
   "source": [
    "import sys\n",
    "\n",
    "sys.path.append(\"..\")\n",
    "%load_ext autoreload\n",
    "%autoreload 2\n",
    "from trl_wrapper.trainer_wrapper import TrainerWrapper, GRPO_WRITING_CONFIG, SMOL_LM_135M\n",
    "\n",
    "cfg = GRPO_WRITING_CONFIG\n",
    "cfg.train_batch_size = 2\n",
    "cfg.num_generations = 2\n",
    "cfg.model_id_or_path = SMOL_LM_135M\n",
    "cfg.max_samples = 10"
   ]
  },
  {
   "cell_type": "code",
   "execution_count": null,
   "metadata": {},
   "outputs": [],
   "source": [
    "wrapper = TrainerWrapper(cfg, True)\n",
    "wrapper.init_model()"
   ]
  },
  {
   "cell_type": "code",
   "execution_count": 21,
   "metadata": {},
   "outputs": [
    {
     "name": "stderr",
     "output_type": "stream",
     "text": [
      "\u001b[32m2025-04-13 18:55:14.249\u001b[0m | \u001b[1mINFO    \u001b[0m | \u001b[36mtrl_wrapper.trainer_wrapper\u001b[0m:\u001b[36minit_data_module\u001b[0m:\u001b[36m352\u001b[0m - \u001b[1mUsing chat template override: smollmv2\u001b[0m\n",
      "Map: 100%|██████████| 10336/10336 [00:01<00:00, 7692.65 examples/s]\n",
      "Map: 100%|██████████| 1149/1149 [00:00<00:00, 6679.66 examples/s]\n"
     ]
    }
   ],
   "source": [
    "wrapper.init_data_module()"
   ]
  },
  {
   "cell_type": "code",
   "execution_count": null,
   "metadata": {},
   "outputs": [],
   "source": [
    "wrapper.data_module.train_dataset"
   ]
  },
  {
   "cell_type": "code",
   "execution_count": null,
   "metadata": {},
   "outputs": [],
   "source": [
    "wrapper.init_trainer()"
   ]
  },
  {
   "cell_type": "code",
   "execution_count": null,
   "metadata": {},
   "outputs": [],
   "source": [
    "wrapper.train()"
   ]
  },
  {
   "cell_type": "code",
   "execution_count": 27,
   "metadata": {},
   "outputs": [
    {
     "name": "stderr",
     "output_type": "stream",
     "text": [
      "\u001b[32m2025-04-13 18:56:27.971\u001b[0m | \u001b[1mINFO    \u001b[0m | \u001b[36msynthetic_data.tasks.writing\u001b[0m:\u001b[36mscore_writing\u001b[0m:\u001b[36m411\u001b[0m - \u001b[1mJudging 1 completions with gemini-2.0-flash\u001b[0m\n"
     ]
    },
    {
     "name": "stdout",
     "output_type": "stream",
     "text": [
      "Running score\n",
      "Loop: <_UnixSelectorEventLoop running=True closed=False debug=False>\n",
      "Out: [{'Adherence to Instructions': 20.0, 'Believable Character Actions': 1.0, 'Nuanced Characters': 1.0, 'Consistent Voice/Tone of Writing': 20.0, 'Imagery and Descriptive Quality': 1.0, 'Elegant Prose': 1.0, 'Emotionally Engaging': 1.0, 'Emotionally Complex': 1.0, 'Coherent': 20.0, 'Meandering': 20.0, 'Weak Dialogue': 1.0, \"Tell-Don't-Show\": 1.0, 'Unsurprising or Uncreative': 1.0, 'Amateurish': 20.0, 'Purple Prose': 1.0, 'Overwrought': 1.0, 'Incongruent Ending Positivity': 1.0, 'Unearned Transformations': 1.0, 'Well-earned Lightness or Darkness': 1.0, 'Sentences Flow Naturally': 20.0, 'Overall Reader Engagement': 1.0, 'Overall Impression': 1.0}]\n",
      "Scores: [{'Adherence to Instructions': 20.0, 'Believable Character Actions': 1.0, 'Nuanced Characters': 1.0, 'Consistent Voice/Tone of Writing': 20.0, 'Imagery and Descriptive Quality': 1.0, 'Elegant Prose': 1.0, 'Emotionally Engaging': 1.0, 'Emotionally Complex': 1.0, 'Coherent': 20.0, 'Meandering': 20.0, 'Weak Dialogue': 1.0, \"Tell-Don't-Show\": 1.0, 'Unsurprising or Uncreative': 1.0, 'Amateurish': 20.0, 'Purple Prose': 1.0, 'Overwrought': 1.0, 'Incongruent Ending Positivity': 1.0, 'Unearned Transformations': 1.0, 'Well-earned Lightness or Darkness': 1.0, 'Sentences Flow Naturally': 20.0, 'Overall Reader Engagement': 1.0, 'Overall Impression': 1.0}]\n",
      "Score sums: [136.0]\n"
     ]
    },
    {
     "data": {
      "text/plain": [
       "[136.0]"
      ]
     },
     "execution_count": 27,
     "metadata": {},
     "output_type": "execute_result"
    }
   ],
   "source": [
    "wrapper.data_module.reward_functions()[0]([\"hi\"], [\"hi\"])"
   ]
  }
 ],
 "metadata": {
  "kernelspec": {
   "display_name": ".venv",
   "language": "python",
   "name": "python3"
  },
  "language_info": {
   "codemirror_mode": {
    "name": "ipython",
    "version": 3
   },
   "file_extension": ".py",
   "mimetype": "text/x-python",
   "name": "python",
   "nbconvert_exporter": "python",
   "pygments_lexer": "ipython3",
   "version": "3.11.10"
  }
 },
 "nbformat": 4,
 "nbformat_minor": 2
}
