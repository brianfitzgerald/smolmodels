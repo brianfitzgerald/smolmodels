{
 "cells": [
  {
   "cell_type": "code",
   "execution_count": 25,
   "metadata": {},
   "outputs": [
    {
     "name": "stdout",
     "output_type": "stream",
     "text": [
      "The autoreload extension is already loaded. To reload it, use:\n",
      "  %reload_ext autoreload\n"
     ]
    }
   ],
   "source": [
    "import sys\n",
    "\n",
    "sys.path.append(\"..\")\n",
    "%load_ext autoreload\n",
    "%autoreload 2\n",
    "from trl_wrapper.trainer_wrapper import TrainerWrapper, GRPO_WRITING_CONFIG, SMOL_LM_135M\n",
    "\n",
    "cfg = GRPO_WRITING_CONFIG\n",
    "cfg.train_batch_size = 2\n",
    "cfg.num_generations = 2\n",
    "cfg.model_id_or_path = SMOL_LM_135M\n",
    "cfg.notebook_mode = True\n",
    "cfg.max_samples = 1000"
   ]
  },
  {
   "cell_type": "code",
   "execution_count": 26,
   "metadata": {},
   "outputs": [
    {
     "name": "stderr",
     "output_type": "stream",
     "text": [
      "\u001b[32m2025-04-01 20:19:52.140\u001b[0m | \u001b[1mINFO    \u001b[0m | \u001b[36mtrl_wrapper.trainer_wrapper\u001b[0m:\u001b[36m__init__\u001b[0m:\u001b[36m285\u001b[0m - \u001b[1mSetting padding side to: left\u001b[0m\n",
      "\u001b[32m2025-04-01 20:19:52.140\u001b[0m | \u001b[1mINFO    \u001b[0m | \u001b[36mtrl_wrapper.trainer_wrapper\u001b[0m:\u001b[36minit_model\u001b[0m:\u001b[36m296\u001b[0m - \u001b[1mUsing device: mps\u001b[0m\n",
      "\u001b[32m2025-04-01 20:19:52.141\u001b[0m | \u001b[1mINFO    \u001b[0m | \u001b[36mtrl_wrapper.trainer_wrapper\u001b[0m:\u001b[36minit_model\u001b[0m:\u001b[36m310\u001b[0m - \u001b[1mLoading model HuggingFaceTB/SmolLM2-135M-Instruct with attn_impl: sdpa\u001b[0m\n"
     ]
    }
   ],
   "source": [
    "wrapper = TrainerWrapper(cfg)\n",
    "wrapper.init_model()"
   ]
  },
  {
   "cell_type": "code",
   "execution_count": 27,
   "metadata": {},
   "outputs": [
    {
     "name": "stderr",
     "output_type": "stream",
     "text": [
      "\u001b[32m2025-04-01 20:19:52.850\u001b[0m | \u001b[1mINFO    \u001b[0m | \u001b[36mtrl_wrapper.trainer_wrapper\u001b[0m:\u001b[36minit_data_module\u001b[0m:\u001b[36m336\u001b[0m - \u001b[1mUsing chat template override: smollmv2\u001b[0m\n",
      "\u001b[32m2025-04-01 20:19:52.851\u001b[0m | \u001b[1mINFO    \u001b[0m | \u001b[36mtrl_wrapper.wrapper_config\u001b[0m:\u001b[36m__init__\u001b[0m:\u001b[36m133\u001b[0m - \u001b[1mCache dir: ../dataset_caches/writing_g_r_p_o_data_module\u001b[0m\n"
     ]
    }
   ],
   "source": [
    "wrapper.init_data_module()"
   ]
  },
  {
   "cell_type": "code",
   "execution_count": 75,
   "metadata": {},
   "outputs": [],
   "source": [
    "import pandas as pd\n",
    "dataset_pd = pd.read_parquet(\"../dataset_files/backtranslate_best_of_n.parquet\")"
   ]
  },
  {
   "cell_type": "code",
   "execution_count": 79,
   "metadata": {},
   "outputs": [
    {
     "name": "stderr",
     "output_type": "stream",
     "text": [
      "/var/folders/h0/6v9c2xns5lbc32tsmk83rh000000gn/T/ipykernel_5987/3278061739.py:29: DeprecationWarning: DataFrameGroupBy.apply operated on the grouping columns. This behavior is deprecated, and in a future version of pandas the grouping columns will be excluded from the operation. Either pass `include_groups=False` to exclude the groupings or explicitly select the grouping columns after groupby to silence this warning.\n",
      "  result = dataset_pd.groupby('instruction_id').apply(pick_completions).reset_index()\n"
     ]
    }
   ],
   "source": []
  },
  {
   "cell_type": "code",
   "execution_count": 78,
   "metadata": {},
   "outputs": [
    {
     "data": {
      "text/html": [
       "<div>\n",
       "<style scoped>\n",
       "    .dataframe tbody tr th:only-of-type {\n",
       "        vertical-align: middle;\n",
       "    }\n",
       "\n",
       "    .dataframe tbody tr th {\n",
       "        vertical-align: top;\n",
       "    }\n",
       "\n",
       "    .dataframe thead th {\n",
       "        text-align: right;\n",
       "    }\n",
       "</style>\n",
       "<table border=\"1\" class=\"dataframe\">\n",
       "  <thead>\n",
       "    <tr style=\"text-align: right;\">\n",
       "      <th></th>\n",
       "      <th>instruction_id</th>\n",
       "      <th>chosen</th>\n",
       "      <th>rejected</th>\n",
       "      <th>score_chosen</th>\n",
       "      <th>score_rejected</th>\n",
       "      <th>model_chosen</th>\n",
       "      <th>model_rejected</th>\n",
       "    </tr>\n",
       "  </thead>\n",
       "  <tbody>\n",
       "    <tr>\n",
       "      <th>0</th>\n",
       "      <td>0</td>\n",
       "      <td>Years after a botched smuggling run, the freig...</td>\n",
       "      <td>In the Star Wars short story from the *Tales f...</td>\n",
       "      <td>262.0</td>\n",
       "      <td>255.0</td>\n",
       "      <td>gemini-2.0-flash</td>\n",
       "      <td>gpt-4o</td>\n",
       "    </tr>\n",
       "    <tr>\n",
       "      <th>1</th>\n",
       "      <td>1</td>\n",
       "      <td>In the heart of the chaotic prison, where shad...</td>\n",
       "      <td>The suppressed memories crashed against Elias’...</td>\n",
       "      <td>272.0</td>\n",
       "      <td>245.0</td>\n",
       "      <td>gpt-4o-mini</td>\n",
       "      <td>gemini-2.0-flash</td>\n",
       "    </tr>\n",
       "    <tr>\n",
       "      <th>2</th>\n",
       "      <td>2</td>\n",
       "      <td>The obsidian portal shrieked shut, collapsing ...</td>\n",
       "      <td>In the heart of the shattered realm, where the...</td>\n",
       "      <td>268.0</td>\n",
       "      <td>257.0</td>\n",
       "      <td>gemini-2.0-flash</td>\n",
       "      <td>gpt-4o-mini</td>\n",
       "    </tr>\n",
       "    <tr>\n",
       "      <th>3</th>\n",
       "      <td>3</td>\n",
       "      <td>The air was thick with the stench of iron and ...</td>\n",
       "      <td>The chamber reeked of iron and despair, the ai...</td>\n",
       "      <td>264.0</td>\n",
       "      <td>245.0</td>\n",
       "      <td>gpt-4o-mini</td>\n",
       "      <td>gpt-4o</td>\n",
       "    </tr>\n",
       "    <tr>\n",
       "      <th>4</th>\n",
       "      <td>4</td>\n",
       "      <td>**A**: Welcome to the lab, B! I'm really excit...</td>\n",
       "      <td>**Setting:** A sterile research facility, fill...</td>\n",
       "      <td>257.0</td>\n",
       "      <td>238.0</td>\n",
       "      <td>gpt-4o</td>\n",
       "      <td>gpt-4o-mini</td>\n",
       "    </tr>\n",
       "    <tr>\n",
       "      <th>...</th>\n",
       "      <td>...</td>\n",
       "      <td>...</td>\n",
       "      <td>...</td>\n",
       "      <td>...</td>\n",
       "      <td>...</td>\n",
       "      <td>...</td>\n",
       "      <td>...</td>\n",
       "    </tr>\n",
       "    <tr>\n",
       "      <th>10328</th>\n",
       "      <td>10345</td>\n",
       "      <td>The shimmering distortion slammed into Teg’s s...</td>\n",
       "      <td>Teg’s heart raced as he stumbled into the cham...</td>\n",
       "      <td>249.0</td>\n",
       "      <td>245.0</td>\n",
       "      <td>gemini-2.0-flash</td>\n",
       "      <td>gpt-4o-mini</td>\n",
       "    </tr>\n",
       "    <tr>\n",
       "      <th>10329</th>\n",
       "      <td>10346</td>\n",
       "      <td>The Director approached the imposing entrance ...</td>\n",
       "      <td>The Director approached the entrance to the se...</td>\n",
       "      <td>256.0</td>\n",
       "      <td>245.0</td>\n",
       "      <td>gpt-4o-mini</td>\n",
       "      <td>gpt-4o</td>\n",
       "    </tr>\n",
       "    <tr>\n",
       "      <th>10330</th>\n",
       "      <td>10347</td>\n",
       "      <td>The EMP screamed through the data center, plun...</td>\n",
       "      <td>The dimly lit corridor erupted into chaos as t...</td>\n",
       "      <td>256.0</td>\n",
       "      <td>243.0</td>\n",
       "      <td>gemini-2.0-flash</td>\n",
       "      <td>gpt-4o</td>\n",
       "    </tr>\n",
       "    <tr>\n",
       "      <th>10331</th>\n",
       "      <td>10348</td>\n",
       "      <td>Inside the cramped confines of the battered lu...</td>\n",
       "      <td>Brian sat in the driver's seat of the lunar va...</td>\n",
       "      <td>259.0</td>\n",
       "      <td>236.0</td>\n",
       "      <td>gpt-4o-mini</td>\n",
       "      <td>gpt-4o</td>\n",
       "    </tr>\n",
       "    <tr>\n",
       "      <th>10332</th>\n",
       "      <td>10349</td>\n",
       "      <td>\"Tell me, Jacob,\" Kyle purred, his voice a vel...</td>\n",
       "      <td>Kyle leaned back in his chair, his eyes cold a...</td>\n",
       "      <td>262.0</td>\n",
       "      <td>234.0</td>\n",
       "      <td>gemini-2.0-flash</td>\n",
       "      <td>gpt-4o</td>\n",
       "    </tr>\n",
       "  </tbody>\n",
       "</table>\n",
       "<p>10333 rows × 7 columns</p>\n",
       "</div>"
      ],
      "text/plain": [
       "       instruction_id                                             chosen  \\\n",
       "0                   0  Years after a botched smuggling run, the freig...   \n",
       "1                   1  In the heart of the chaotic prison, where shad...   \n",
       "2                   2  The obsidian portal shrieked shut, collapsing ...   \n",
       "3                   3  The air was thick with the stench of iron and ...   \n",
       "4                   4  **A**: Welcome to the lab, B! I'm really excit...   \n",
       "...               ...                                                ...   \n",
       "10328           10345  The shimmering distortion slammed into Teg’s s...   \n",
       "10329           10346  The Director approached the imposing entrance ...   \n",
       "10330           10347  The EMP screamed through the data center, plun...   \n",
       "10331           10348  Inside the cramped confines of the battered lu...   \n",
       "10332           10349  \"Tell me, Jacob,\" Kyle purred, his voice a vel...   \n",
       "\n",
       "                                                rejected  score_chosen  \\\n",
       "0      In the Star Wars short story from the *Tales f...         262.0   \n",
       "1      The suppressed memories crashed against Elias’...         272.0   \n",
       "2      In the heart of the shattered realm, where the...         268.0   \n",
       "3      The chamber reeked of iron and despair, the ai...         264.0   \n",
       "4      **Setting:** A sterile research facility, fill...         257.0   \n",
       "...                                                  ...           ...   \n",
       "10328  Teg’s heart raced as he stumbled into the cham...         249.0   \n",
       "10329  The Director approached the entrance to the se...         256.0   \n",
       "10330  The dimly lit corridor erupted into chaos as t...         256.0   \n",
       "10331  Brian sat in the driver's seat of the lunar va...         259.0   \n",
       "10332  Kyle leaned back in his chair, his eyes cold a...         262.0   \n",
       "\n",
       "       score_rejected      model_chosen    model_rejected  \n",
       "0               255.0  gemini-2.0-flash            gpt-4o  \n",
       "1               245.0       gpt-4o-mini  gemini-2.0-flash  \n",
       "2               257.0  gemini-2.0-flash       gpt-4o-mini  \n",
       "3               245.0       gpt-4o-mini            gpt-4o  \n",
       "4               238.0            gpt-4o       gpt-4o-mini  \n",
       "...               ...               ...               ...  \n",
       "10328           245.0  gemini-2.0-flash       gpt-4o-mini  \n",
       "10329           245.0       gpt-4o-mini            gpt-4o  \n",
       "10330           243.0  gemini-2.0-flash            gpt-4o  \n",
       "10331           236.0       gpt-4o-mini            gpt-4o  \n",
       "10332           234.0  gemini-2.0-flash            gpt-4o  \n",
       "\n",
       "[10333 rows x 7 columns]"
      ]
     },
     "execution_count": 78,
     "metadata": {},
     "output_type": "execute_result"
    }
   ],
   "source": [
    "result"
   ]
  },
  {
   "cell_type": "code",
   "execution_count": null,
   "metadata": {},
   "outputs": [],
   "source": [
    "wrapper.init_trainer()"
   ]
  },
  {
   "cell_type": "code",
   "execution_count": null,
   "metadata": {},
   "outputs": [],
   "source": [
    "from model.reasoning import GSM8K_SYSTEM_PROMPT, CONNECTIONS_PROMPT\n",
    "from model.utils import get_available_device\n",
    "\n",
    "messages = [\n",
    "    {\"role\": \"system\", \"content\": CONNECTIONS_PROMPT},\n",
    "    {\n",
    "        \"role\": \"user\",\n",
    "        \"content\": \"train, panda, dove, series, wind, bear, orca, bass, string, skunk, speed, sand, zebra, tourist, desert, chain\",\n",
    "    },\n",
    "]\n",
    "tokenized_chat = wrapper.tokenizer.apply_chat_template(\n",
    "    messages,\n",
    "    tokenize=True,\n",
    "    add_generation_prompt=True,\n",
    "    return_tensors=\"pt\",\n",
    "    return_attention_mask=True,\n",
    ")\n",
    "\n",
    "device = get_available_device()\n",
    "tokenized_chat = tokenized_chat.to(device)\n",
    "out = wrapper.model.generate(tokenized_chat, max_length=1024)\n",
    "print(wrapper.tokenizer.decode(out[0], skip_special_tokens=True))"
   ]
  },
  {
   "cell_type": "code",
   "execution_count": null,
   "metadata": {},
   "outputs": [],
   "source": [
    "wrapper.train()"
   ]
  }
 ],
 "metadata": {
  "kernelspec": {
   "display_name": ".venv",
   "language": "python",
   "name": "python3"
  },
  "language_info": {
   "codemirror_mode": {
    "name": "ipython",
    "version": 3
   },
   "file_extension": ".py",
   "mimetype": "text/x-python",
   "name": "python",
   "nbconvert_exporter": "python",
   "pygments_lexer": "ipython3",
   "version": "3.11.11"
  }
 },
 "nbformat": 4,
 "nbformat_minor": 2
}
