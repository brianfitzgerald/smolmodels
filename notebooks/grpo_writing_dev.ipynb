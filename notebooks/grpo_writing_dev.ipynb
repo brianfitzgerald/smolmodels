{
 "cells": [
  {
   "cell_type": "code",
   "execution_count": 2,
   "metadata": {},
   "outputs": [
    {
     "name": "stdout",
     "output_type": "stream",
     "text": [
      "The autoreload extension is already loaded. To reload it, use:\n",
      "  %reload_ext autoreload\n"
     ]
    }
   ],
   "source": [
    "import sys\n",
    "\n",
    "sys.path.append(\"..\")\n",
    "%load_ext autoreload\n",
    "%autoreload 2\n",
    "from trl_wrapper.trainer_wrapper import TrainerWrapper, WRITING_GRPO_CONFIG\n",
    "from trl_wrapper.wrapper_config import QWEN_3_600M\n",
    "\n",
    "cfg = WRITING_GRPO_CONFIG\n",
    "cfg.train_batch_size = 2\n",
    "cfg.num_generations = 2\n",
    "cfg.model_id_or_path = QWEN_3_600M\n",
    "cfg.max_completion_length = 32\n",
    "cfg.max_prompt_length = 32\n",
    "cfg.max_samples = 10"
   ]
  },
  {
   "cell_type": "code",
   "execution_count": 3,
   "metadata": {},
   "outputs": [
    {
     "name": "stderr",
     "output_type": "stream",
     "text": [
      "\u001b[32m2025-04-28 20:35:35.818\u001b[0m | \u001b[1mINFO    \u001b[0m | \u001b[36mtrl_wrapper.trainer_wrapper\u001b[0m:\u001b[36m__init__\u001b[0m:\u001b[36m302\u001b[0m - \u001b[1mSetting padding side to: left\u001b[0m\n"
     ]
    }
   ],
   "source": [
    "wrapper = TrainerWrapper(cfg, True)"
   ]
  },
  {
   "cell_type": "code",
   "execution_count": 4,
   "metadata": {},
   "outputs": [
    {
     "name": "stderr",
     "output_type": "stream",
     "text": [
      "Map: 100%|██████████| 10647/10647 [00:00<00:00, 27280.61 examples/s]\n",
      "Map: 100%|██████████| 1184/1184 [00:00<00:00, 27560.57 examples/s]\n",
      "\u001b[32m2025-04-28 20:35:39.337\u001b[0m | \u001b[1mINFO    \u001b[0m | \u001b[36msynthetic_data.creative_writing_bench.slop_score\u001b[0m:\u001b[36mload_slop_list_to_set\u001b[0m:\u001b[36m20\u001b[0m - \u001b[1mLoaded 1000 items from ../dataset_files//slop_list.json\u001b[0m\n",
      "\u001b[32m2025-04-28 20:35:39.337\u001b[0m | \u001b[1mINFO    \u001b[0m | \u001b[36msynthetic_data.creative_writing_bench.slop_score\u001b[0m:\u001b[36mload_slop_list_to_set\u001b[0m:\u001b[36m20\u001b[0m - \u001b[1mLoaded 200 items from ../dataset_files//slop_list_bigrams.json\u001b[0m\n",
      "\u001b[32m2025-04-28 20:35:39.338\u001b[0m | \u001b[1mINFO    \u001b[0m | \u001b[36msynthetic_data.creative_writing_bench.slop_score\u001b[0m:\u001b[36mload_slop_list_to_set\u001b[0m:\u001b[36m20\u001b[0m - \u001b[1mLoaded 200 items from ../dataset_files//slop_list_trigrams.json\u001b[0m\n"
     ]
    }
   ],
   "source": [
    "wrapper.init_data_module()"
   ]
  },
  {
   "cell_type": "code",
   "execution_count": 7,
   "metadata": {},
   "outputs": [
    {
     "name": "stderr",
     "output_type": "stream",
     "text": [
      "\u001b[32m2025-04-28 20:36:36.320\u001b[0m | \u001b[1mINFO    \u001b[0m | \u001b[36mtrl_wrapper.trainer_wrapper\u001b[0m:\u001b[36minit_model\u001b[0m:\u001b[36m317\u001b[0m - \u001b[1mUsing device: mps\u001b[0m\n",
      "\u001b[32m2025-04-28 20:36:36.321\u001b[0m | \u001b[1mINFO    \u001b[0m | \u001b[36mtrl_wrapper.trainer_wrapper\u001b[0m:\u001b[36minit_model\u001b[0m:\u001b[36m331\u001b[0m - \u001b[1mLoading model Qwen/Qwen3-0.6B with attn_impl: sdpa\u001b[0m\n"
     ]
    }
   ],
   "source": [
    "wrapper.init_model()"
   ]
  },
  {
   "cell_type": "code",
   "execution_count": null,
   "metadata": {},
   "outputs": [],
   "source": [
    "wrapper.data_module.config.run_mode"
   ]
  },
  {
   "cell_type": "code",
   "execution_count": 9,
   "metadata": {},
   "outputs": [
    {
     "name": "stderr",
     "output_type": "stream",
     "text": [
      "\u001b[32m2025-04-28 20:36:46.542\u001b[0m | \u001b[1mINFO    \u001b[0m | \u001b[36mtrl_wrapper.trainer_wrapper\u001b[0m:\u001b[36minit_trainer\u001b[0m:\u001b[36m395\u001b[0m - \u001b[1mSaving output to: ./runs/04-28-20-36-767378-qwen3-0.6b-\u001b[0m\n",
      "\u001b[32m2025-04-28 20:36:46.543\u001b[0m | \u001b[1mINFO    \u001b[0m | \u001b[36mtrl_wrapper.trainer_wrapper\u001b[0m:\u001b[36minit_trainer\u001b[0m:\u001b[36m418\u001b[0m - \u001b[1mInitializing trainer, run_name: 04-28-20-36-767378-qwen3-0.6b-, wandb project: writing-grpo\u001b[0m\n",
      "\u001b[32m2025-04-28 20:36:46.544\u001b[0m | \u001b[1mINFO    \u001b[0m | \u001b[36mtrl_wrapper.trainer_wrapper\u001b[0m:\u001b[36minit_trainer\u001b[0m:\u001b[36m501\u001b[0m - \u001b[1mUsing vllm: False\u001b[0m\n"
     ]
    }
   ],
   "source": [
    "wrapper.init_trainer()"
   ]
  },
  {
   "cell_type": "code",
   "execution_count": null,
   "metadata": {},
   "outputs": [],
   "source": [
    "wrapper.train()"
   ]
  },
  {
   "cell_type": "code",
   "execution_count": 14,
   "metadata": {},
   "outputs": [],
   "source": [
    "import pandas as pd\n",
    "dataset_pd = pd.read_parquet(\n",
    "    \"../dataset_files/gutenberg_backtranslate_from_txt.parquet\"\n",
    ")\n",
    "completion, instruction = dataset_pd.loc[500]['text'], dataset_pd.loc[500]['instruction']"
   ]
  },
  {
   "cell_type": "code",
   "execution_count": null,
   "metadata": {},
   "outputs": [],
   "source": [
    "max_score = 0\n",
    "for i in range(10000):\n",
    "    completion = dataset_pd.loc[i]['text']\n",
    "    score = wrapper.data_module.bench.calculate_slop_index(completion)\n",
    "    if score > max_score:\n",
    "        max_score = score\n",
    "        print(score)\n",
    "print(max_score)"
   ]
  },
  {
   "cell_type": "code",
   "execution_count": null,
   "metadata": {},
   "outputs": [],
   "source": [
    "wrapper.data_module.reward_functions()[0]([instruction], [completion])"
   ]
  }
 ],
 "metadata": {
  "kernelspec": {
   "display_name": ".venv",
   "language": "python",
   "name": "python3"
  },
  "language_info": {
   "codemirror_mode": {
    "name": "ipython",
    "version": 3
   },
   "file_extension": ".py",
   "mimetype": "text/x-python",
   "name": "python",
   "nbconvert_exporter": "python",
   "pygments_lexer": "ipython3",
   "version": "3.11.11"
  }
 },
 "nbformat": 4,
 "nbformat_minor": 2
}
