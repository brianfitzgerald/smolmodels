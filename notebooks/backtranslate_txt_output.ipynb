{
 "cells": [
  {
   "cell_type": "code",
   "execution_count": 4,
   "metadata": {},
   "outputs": [],
   "source": [
    "import polars as pl\n",
    "from IPython.display import Markdown\n",
    "\n",
    "backtranslate_df = pl.read_parquet(\n",
    "    \"../dataset_files/gutenberg_backtranslate_from_txt_conversations.parquet\"\n",
    ")"
   ]
  },
  {
   "cell_type": "code",
   "execution_count": 2,
   "metadata": {},
   "outputs": [
    {
     "data": {
      "text/plain": [
       "(11831, 6)"
      ]
     },
     "execution_count": 2,
     "metadata": {},
     "output_type": "execute_result"
    }
   ],
   "source": [
    "backtranslate_df.shape"
   ]
  },
  {
   "cell_type": "code",
   "execution_count": 12,
   "metadata": {},
   "outputs": [
    {
     "name": "stdout",
     "output_type": "stream",
     "text": [
      "Write a suspenseful, action-oriented paragraph in a gritty, first-person narrative style. The protagonist, Jaxon, and his companions are being forcibly moved to a transport. Describe Jaxon's internal conflict between fighting back and waiting for an opportunity, highlighting the imposing nature of their captor. Include a brief, failed attempt at escape involving a diversion and hand-to-hand combat, ending with Jaxon subdued. His ally, Reese, then attempts to escape but is quickly apprehended, revealing the presence of a tracking device. The paragraph should convey a sense of betrayal and growing dread. Note the presence of another character, Eagle, in the scene. Conclude with them being forced into the transport, alongside an unconscious Lyssa. Keep sentences relatively short and punchy, emphasizing action and internal monologue. Use strong verbs and imagery to depict the violence and desperation. Include Reese's reaction to the events, hint at her unique ability, and her fear, and Jaxon's concern for her.\n",
      "\n"
     ]
    },
    {
     "data": {
      "text/markdown": [
       "### Backtranslated Text"
      ],
      "text/plain": [
       "<IPython.core.display.Markdown object>"
      ]
     },
     "metadata": {},
     "output_type": "display_data"
    },
    {
     "data": {
      "text/markdown": [
       "----------------------------------------------------------------------------------------------------"
      ],
      "text/plain": [
       "<IPython.core.display.Markdown object>"
      ]
     },
     "metadata": {},
     "output_type": "display_data"
    },
    {
     "name": "stdout",
     "output_type": "stream",
     "text": [
      "Write a paragraph in a dark fantasy style, capturing a scene of tense decision-making after a secretive exchange. The overall tone should be brooding and determined, mixed with a touch of weariness. The protagonist, a powerful but isolated woman, is making a plan after receiving cryptic instructions from a ruler she trusts. Hint at a previous betrayal and a feeling of being used.\n",
      "\n",
      "The paragraph should feature her contemplating a necessary act of violence against someone perceived as a threat, not just to the ruler but to herself, rationalizing it as eliminating a vulnerability. Refer to a dangerous, magical artifact she possesses, emphasizing its draining power and the lengths she goes to contain it. The paragraph should mention a portal and a connection to a primal energy source located in a distant mountain range. Imply a past event involving the artifact causing unintentional harm to others.\n",
      "\n",
      "The woman weighs the consequences of her actions, specifically what her ally will think, but ultimately prioritizes her own survival and agency. End the paragraph with a sense of grim satisfaction and a determination to proceed with her plan, despite the uncertainties. Use vivid imagery to describe the artifact and the surrounding environment. Sentence structure should be varied, with some longer, more descriptive sentences interspersed with shorter, more declarative ones.\n",
      "\n"
     ]
    },
    {
     "data": {
      "text/markdown": [
       "### Backtranslated Text"
      ],
      "text/plain": [
       "<IPython.core.display.Markdown object>"
      ]
     },
     "metadata": {},
     "output_type": "display_data"
    },
    {
     "data": {
      "text/markdown": [
       "----------------------------------------------------------------------------------------------------"
      ],
      "text/plain": [
       "<IPython.core.display.Markdown object>"
      ]
     },
     "metadata": {},
     "output_type": "display_data"
    },
    {
     "name": "stdout",
     "output_type": "stream",
     "text": [
      "Write a scene in a dark fantasy style reminiscent of Dragonlance. The scene involves a tense journey through a dangerous swamp. Focus on the moral conflict of a group traveling together: a dragon in human disguise increasingly losing control of his anger, two companions, and a captured dwarf who may be a spy. Maintain a grim and foreboding tone. The party has just argued about whether to kill the dwarf, who is injured and claims to be loyal to a powerful enemy.\n",
      "\n",
      "Include the dragon's simmering rage manifested in destructive acts against the environment. One of the companions, a woman, should show compassion towards the injured dwarf and the damage being caused. The other companion, a man, should express paranoia and a ruthless pragmatism, suspicious of everyone and willing to make harsh decisions for the sake of their mission. Include a moment where they consult a spectral being for guidance, but the being is weakening, highlighting the desperate nature of their quest and the fading hope. The spectral being should express regret for past actions and concern for a lost loved one. End with the woman expressing resolve and hope to the weakening spectral being. The man remains suspicious and focused on their immediate dangers. Use moderately complex sentences and vivid descriptions of the swamp environment.\n",
      "\n"
     ]
    },
    {
     "data": {
      "text/markdown": [
       "### Backtranslated Text"
      ],
      "text/plain": [
       "<IPython.core.display.Markdown object>"
      ]
     },
     "metadata": {},
     "output_type": "display_data"
    },
    {
     "data": {
      "text/markdown": [
       "----------------------------------------------------------------------------------------------------"
      ],
      "text/plain": [
       "<IPython.core.display.Markdown object>"
      ]
     },
     "metadata": {},
     "output_type": "display_data"
    },
    {
     "name": "stdout",
     "output_type": "stream",
     "text": [
      "Write a paragraph depicting a tense scene where a desperate bargain is struck amidst imminent danger and monstrous transformations. The tone should be dark and desperate, verging on horror. A character named Sera is in mortal peril, about to be subjected to a terrible fate. Another character, Aryn, sacrifices himself to save her, offering a monstrous exchange to a powerful, unsettling figure named Jyllith.\n",
      "\n",
      "The scene should unfold quickly, highlighting the characters' fear and desperation. Include elements of body horror, with a graphic description of a human transforming into a demonic creature through a magical ritual. Focus on the physical and emotional trauma of the transformation. Show the power imbalance between Aryn, Sera, and Jyllith, and the chilling implications of Aryn’s sacrifice. Include dialogue that showcases Aryn's internal conflict and determination to protect Sera, and Jyllith's cold, calculated demeanor. The paragraph should end with Aryn preparing for his grim fate, and Sera understanding the devastating consequences of his decision. Aim for a length comparable to the original passage, using moderately complex sentences and vivid imagery.\n",
      "\n"
     ]
    },
    {
     "data": {
      "text/markdown": [
       "### Backtranslated Text"
      ],
      "text/plain": [
       "<IPython.core.display.Markdown object>"
      ]
     },
     "metadata": {},
     "output_type": "display_data"
    },
    {
     "data": {
      "text/markdown": [
       "----------------------------------------------------------------------------------------------------"
      ],
      "text/plain": [
       "<IPython.core.display.Markdown object>"
      ]
     },
     "metadata": {},
     "output_type": "display_data"
    },
    {
     "name": "stdout",
     "output_type": "stream",
     "text": [
      "Write a paragraph depicting a tense conversation in a post-apocalyptic setting. The tone should be weary and cynical, reflecting the harsh realities of survival.\n",
      "\n",
      "The paragraph should feature three characters: a woman describing a horrific situation she escaped from, a hardened survivor reluctant to help, and a more idealistic character willing to take action.\n",
      "\n",
      "The woman recounts how a ruthless group seized control of a city after a societal collapse, enslaving survivors to power a steam turbine and establishing a reign of terror enforced with advanced weaponry plundered from an army depot.\n",
      "\n",
      "The hardened survivor initially refuses to assist in a rescue mission to save the woman's niece, citing exhaustion and the dangers of the terrain. His dialogue should convey a sense of jaded self-preservation. The more idealistic character insists on helping.\n",
      "\n",
      "Include dialogue where characters question the woman's story and motivations, creating a sense of distrust and unease. End the paragraph with the hardened survivor reluctantly providing information (a map) but refusing to participate further, highlighting his moral ambiguity. The vocabulary should be gritty and realistic, avoiding overly flowery language.\n",
      "\n"
     ]
    },
    {
     "data": {
      "text/markdown": [
       "### Backtranslated Text"
      ],
      "text/plain": [
       "<IPython.core.display.Markdown object>"
      ]
     },
     "metadata": {},
     "output_type": "display_data"
    },
    {
     "data": {
      "text/markdown": [
       "----------------------------------------------------------------------------------------------------"
      ],
      "text/plain": [
       "<IPython.core.display.Markdown object>"
      ]
     },
     "metadata": {},
     "output_type": "display_data"
    },
    {
     "name": "stdout",
     "output_type": "stream",
     "text": [
      "Write a paragraph in a casual, slightly sarcastic first-person narrative, reminiscent of science fantasy. The protagonist is a young, powerful individual participating in a competitive event, who finds themselves annoyed and exploited. Begin by describing an ability they possess that allows them to multitask effectively but feels burdened by obligations. Shift to describing an irritating promotional event scheduled right before an important challenge. Highlight the feeling of being used for profit without compensation, and the protagonist's growing frustration. The paragraph should culminate in a rebellious act: deciding to take a small personal pleasure despite the pressures. Introduce an unexpected encounter with a large, imposing figure from their past, specifically one whose presence is disruptive to the established environment. Conclude with a moment of realization of pending chaotic social ramifications brought upon by their comrade's presence. Use fairly long, flowing sentences punctuated by moments of snarky introspection. Aim for a tone that balances annoyance with simmering potential for explosive action. Vocabulary should be relatively modern, but with slight hints of futuristic or fantastic jargon sprinkled in.\n",
      "\n"
     ]
    },
    {
     "data": {
      "text/markdown": [
       "### Backtranslated Text"
      ],
      "text/plain": [
       "<IPython.core.display.Markdown object>"
      ]
     },
     "metadata": {},
     "output_type": "display_data"
    },
    {
     "data": {
      "text/markdown": [
       "----------------------------------------------------------------------------------------------------"
      ],
      "text/plain": [
       "<IPython.core.display.Markdown object>"
      ]
     },
     "metadata": {},
     "output_type": "display_data"
    },
    {
     "name": "stdout",
     "output_type": "stream",
     "text": [
      "Write a paragraph in a dark fantasy style, mirroring a scene of stealth and moral conflict after a raid. Set the scene in a wintry landscape, where the protagonists, members of a skilled group of infiltrators called Runners, are leaving the site of their attack. The tone should be somber and reflective, highlighting the weight of their actions.\n",
      "\n",
      "The paragraph should describe the characters taking precautions to conceal their presence, including hiding evidence and marking the grave of a guard they killed. Emphasize the internal conflict of one of the characters, Adria, who mourns the necessity of violence against common people while acknowledging the pragmatic needs of their mission. Include the perception of an ominous, unexplained presence lurking nearby, causing a sense of unease.\n",
      "\n",
      "The paragraph should incorporate a sense of shared experience and unspoken communication between the Runners. Use evocative language to describe the landscape and the atmosphere of fear and superstition that pervades the region. Build towards a reluctant decision to press onward, hinting at a greater purpose that compels them despite their misgivings. Aim for complex sentence structure and a vocabulary that suggests a medieval or early renaissance setting.\n",
      "\n"
     ]
    },
    {
     "data": {
      "text/markdown": [
       "### Backtranslated Text"
      ],
      "text/plain": [
       "<IPython.core.display.Markdown object>"
      ]
     },
     "metadata": {},
     "output_type": "display_data"
    },
    {
     "data": {
      "text/markdown": [
       "----------------------------------------------------------------------------------------------------"
      ],
      "text/plain": [
       "<IPython.core.display.Markdown object>"
      ]
     },
     "metadata": {},
     "output_type": "display_data"
    },
    {
     "name": "stdout",
     "output_type": "stream",
     "text": [
      "Write a paragraph in a casual, first-person narrative style, similar to young adult fiction. The tone should transition from observant and slightly humorous to increasingly uneasy and suspenseful. Begin with the narrator leaving a social gathering, initially driven by curiosity or a sense of duty, only to witness something unexpected that makes them question their assumptions.\n",
      "\n",
      "The first part of the paragraph should describe the narrator seeing someone they know unexpectedly enjoying the company of another person, leading to a feeling of foolishness. Transition the narrative to the narrator returning to the gathering, encountering an intoxicated friend and a subsequent interaction with a charismatic but potentially dangerous character.\n",
      "\n",
      "The scene should then shift to a secluded location, where the narrator realizes something is amiss. Create an atmosphere of growing dread and impending danger, culminating in the narrator being restrained and blindfolded, sensing the presence of something sinister nearby. Use descriptive language to evoke feelings of darkness, energy, and confinement. Hint at a ritualistic or malicious intent. The paragraph should end on a cliffhanger, leaving the reader uncertain about the narrator's fate.\n",
      "\n"
     ]
    },
    {
     "data": {
      "text/markdown": [
       "### Backtranslated Text"
      ],
      "text/plain": [
       "<IPython.core.display.Markdown object>"
      ]
     },
     "metadata": {},
     "output_type": "display_data"
    },
    {
     "data": {
      "text/markdown": [
       "----------------------------------------------------------------------------------------------------"
      ],
      "text/plain": [
       "<IPython.core.display.Markdown object>"
      ]
     },
     "metadata": {},
     "output_type": "display_data"
    },
    {
     "name": "stdout",
     "output_type": "stream",
     "text": [
      "Write a paragraph from the perspective of a cynical space marine during a dangerous scouting mission on an alien planet. The tone should be weary, sarcastic, and tinged with fatalism. The main character is part of a squad ordered to explore after a previous disastrous encounter.\n",
      "\n",
      "Describe the emotional atmosphere within the squad: grief, fear, and a general sense of impending doom. Include a brief interaction with another marine struggling with loss. Mention putting on gear belonging to a fallen comrade, highlighting the discomfort and unease associated with it. The paragraph should culminate in a feeling of inevitable danger as the squad prepares to split up. Touch upon the protagonist's internal monologue questioning the mission's purpose and the sanity of their superiors. The writing style should be gritty and realistic, with relatively short, impactful sentences. Allude to the psychological effects of prolonged space travel and isolation. The paragraph should end with the squad leader giving final instructions, emphasizing the unknown dangers that lie ahead.\n",
      "\n"
     ]
    },
    {
     "data": {
      "text/markdown": [
       "### Backtranslated Text"
      ],
      "text/plain": [
       "<IPython.core.display.Markdown object>"
      ]
     },
     "metadata": {},
     "output_type": "display_data"
    },
    {
     "data": {
      "text/markdown": [
       "----------------------------------------------------------------------------------------------------"
      ],
      "text/plain": [
       "<IPython.core.display.Markdown object>"
      ]
     },
     "metadata": {},
     "output_type": "display_data"
    },
    {
     "name": "stdout",
     "output_type": "stream",
     "text": [
      "Write a paragraph in a gritty, dystopian science fiction style, resembling a tense scene from a larger narrative. Set the scene in a claustrophobic, makeshift alleyway within a multi-tiered city. The tone should be suspicious and wary.\n",
      "\n",
      "Describe the environment vividly: a low ceiling made of repurposed metal, rough brick walls, and a sense of oppressive darkness contrasting with occasional flickers of light. Imply the area is neglected and dangerous, built from scavenged materials.\n",
      "\n",
      "Introduce two characters, Alania and Danyl, who are distrustful of a third character, Spika, who has just left. Alania questions Danyl's motives. Danyl reveals a deception stemming from his belief Spika intends to betray them for personal gain, highlighting the harsh realities of their world. He mentions a dangerous gang and their potential interest in Alania and Danyl.\n",
      "\n",
      "Include a discussion of their next steps: finding a safe haven called Bertel's Bar and planning a journey to a higher, presumably more secure, level of the city. Danyl expresses a desperate desire for change and suggests that achieving a certain position of power could enable it. End with them deciding on a dangerous course of action, moving further into the darkness.\n",
      "\n"
     ]
    },
    {
     "data": {
      "text/markdown": [
       "### Backtranslated Text"
      ],
      "text/plain": [
       "<IPython.core.display.Markdown object>"
      ]
     },
     "metadata": {},
     "output_type": "display_data"
    },
    {
     "data": {
      "text/markdown": [
       "----------------------------------------------------------------------------------------------------"
      ],
      "text/plain": [
       "<IPython.core.display.Markdown object>"
      ]
     },
     "metadata": {},
     "output_type": "display_data"
    }
   ],
   "source": [
    "for row in backtranslate_df.sample(10).iter_rows(named=True):\n",
    "    print(row['conversation'][0]['content'])\n",
    "    # display(Markdown(f\"#### Sample {row['title']}\"))\n",
    "    # display(Markdown(row[\"paragraph\"]))\n",
    "    display(Markdown(\"### Backtranslated Text\"))\n",
    "    # display(Markdown(row[\"instruction\"]))\n",
    "    display(Markdown(\"-\" * 100))"
   ]
  },
  {
   "cell_type": "code",
   "execution_count": 6,
   "metadata": {},
   "outputs": [],
   "source": [
    "def row_to_conversation(row):\n",
    "    return {\n",
    "        \"conversation\": [\n",
    "            {\"role\": \"user\", \"content\": row[\"instruction\"]},\n",
    "            {\"role\": \"assistant\", \"content\": row[\"paragraph\"]},\n",
    "        ]\n",
    "    }\n",
    "\n",
    "\n",
    "out = []\n",
    "\n",
    "for row in backtranslate_df.iter_rows(named=True):\n",
    "    out.append(row_to_conversation(row))\n",
    "\n",
    "out = pl.DataFrame(out)\n",
    "out.write_parquet(\n",
    "    \"../dataset_files/gutenberg_backtranslate_from_txt_conversations.parquet\",\n",
    "    compression=\"snappy\",\n",
    ")"
   ]
  },
  {
   "cell_type": "code",
   "execution_count": 7,
   "metadata": {},
   "outputs": [
    {
     "data": {
      "text/plain": [
       "(11485, 1)"
      ]
     },
     "execution_count": 7,
     "metadata": {},
     "output_type": "execute_result"
    }
   ],
   "source": [
    "out.shape"
   ]
  }
 ],
 "metadata": {
  "kernelspec": {
   "display_name": ".venv",
   "language": "python",
   "name": "python3"
  },
  "language_info": {
   "codemirror_mode": {
    "name": "ipython",
    "version": 3
   },
   "file_extension": ".py",
   "mimetype": "text/x-python",
   "name": "python",
   "nbconvert_exporter": "python",
   "pygments_lexer": "ipython3",
   "version": "3.11.11"
  }
 },
 "nbformat": 4,
 "nbformat_minor": 2
}
