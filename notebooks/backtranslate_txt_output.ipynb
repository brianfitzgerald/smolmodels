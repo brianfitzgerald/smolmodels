{
 "cells": [
  {
   "cell_type": "code",
   "execution_count": null,
   "metadata": {},
   "outputs": [],
   "source": [
    "import polars as pl\n",
    "from IPython.display import Markdown\n",
    "\n",
    "backtranslate_df = pl.read_parquet(\n",
    "    \"../dataset_files/gutenberg_backtranslate_from_txt.parquet\"\n",
    ")"
   ]
  },
  {
   "cell_type": "code",
   "execution_count": null,
   "metadata": {},
   "outputs": [],
   "source": [
    "backtranslate_df.shape"
   ]
  },
  {
   "cell_type": "code",
   "execution_count": null,
   "metadata": {},
   "outputs": [],
   "source": [
    "for row in backtranslate_df.sample(10).iter_rows(named=True):\n",
    "    display(Markdown(f\"#### Sample {row['title']}\"))\n",
    "    display(Markdown(row[\"paragraph\"]))\n",
    "    display(Markdown(\"### Backtranslated Text\"))\n",
    "    display(Markdown(row[\"instruction\"]))\n",
    "    display(Markdown(\"-\" * 100))"
   ]
  },
  {
   "cell_type": "code",
   "execution_count": 6,
   "metadata": {},
   "outputs": [],
   "source": [
    "def row_to_conversation(row):\n",
    "    return {\n",
    "        \"conversation\": [\n",
    "            {\"role\": \"user\", \"content\": row[\"instruction\"]},\n",
    "            {\"role\": \"assistant\", \"content\": row[\"paragraph\"]},\n",
    "        ]\n",
    "    }\n",
    "\n",
    "\n",
    "out = []\n",
    "\n",
    "for row in backtranslate_df.iter_rows(named=True):\n",
    "    out.append(row_to_conversation(row))\n",
    "\n",
    "out = pl.DataFrame(out)\n",
    "out.write_parquet(\n",
    "    \"../dataset_files/gutenberg_backtranslate_from_txt_conversations.parquet\",\n",
    "    compression=\"snappy\",\n",
    ")"
   ]
  },
  {
   "cell_type": "code",
   "execution_count": 7,
   "metadata": {},
   "outputs": [
    {
     "data": {
      "text/plain": [
       "(11485, 1)"
      ]
     },
     "execution_count": 7,
     "metadata": {},
     "output_type": "execute_result"
    }
   ],
   "source": [
    "out.shape"
   ]
  }
 ],
 "metadata": {
  "kernelspec": {
   "display_name": ".venv",
   "language": "python",
   "name": "python3"
  },
  "language_info": {
   "codemirror_mode": {
    "name": "ipython",
    "version": 3
   },
   "file_extension": ".py",
   "mimetype": "text/x-python",
   "name": "python",
   "nbconvert_exporter": "python",
   "pygments_lexer": "ipython3",
   "version": "3.11.10"
  }
 },
 "nbformat": 4,
 "nbformat_minor": 2
}
