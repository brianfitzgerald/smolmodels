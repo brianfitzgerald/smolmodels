{
 "cells": [
  {
   "cell_type": "code",
   "execution_count": 1,
   "metadata": {},
   "outputs": [],
   "source": [
    "import sys\n",
    "sys.path.append(\"..\")\n",
    "%load_ext autoreload\n",
    "%autoreload 2"
   ]
  },
  {
   "cell_type": "code",
   "execution_count": null,
   "metadata": {},
   "outputs": [],
   "source": [
    "from gyms.twenty_questions.env import TwentyQuestionsPolicyEnvironment\n",
    "from synthetic_data.generation import get_generation_wrapper\n",
    "\n",
    "generation_wrapper = get_generation_wrapper(\"gpt-4o-mini\")\n",
    "env = TwentyQuestionsPolicyEnvironment(generation_wrapper)"
   ]
  },
  {
   "cell_type": "code",
   "execution_count": null,
   "metadata": {},
   "outputs": [],
   "source": [
    "env.reset()\n",
    "done = False\n",
    "while not done:\n",
    "    reward, done = await env.step()\n",
    "    print(reward, done)"
   ]
  },
  {
   "cell_type": "code",
   "execution_count": 15,
   "metadata": {},
   "outputs": [
    {
     "name": "stderr",
     "output_type": "stream",
     "text": [
      "[nltk_data] Downloading package punkt_tab to\n",
      "[nltk_data]     /Users/brianfitzgerald/nltk_data...\n",
      "[nltk_data]   Package punkt_tab is already up-to-date!\n",
      "[nltk_data] Downloading package averaged_perceptron_tagger_eng to\n",
      "[nltk_data]     /Users/brianfitzgerald/nltk_data...\n",
      "[nltk_data]   Package averaged_perceptron_tagger_eng is already up-to-\n",
      "[nltk_data]       date!\n",
      "\u001b[32m2025-03-03 20:49:37.954\u001b[0m | \u001b[1mINFO    \u001b[0m | \u001b[36msynthetic_data.generation\u001b[0m:\u001b[36mgenerate\u001b[0m:\u001b[36m177\u001b[0m - \u001b[1mGenerating 1 requests with gpt-4o-mini, max RPS: 83\u001b[0m\n",
      "\u001b[32m2025-03-03 20:49:37.955\u001b[0m | \u001b[1mINFO    \u001b[0m | \u001b[36msynthetic_data.generation\u001b[0m:\u001b[36mgenerate\u001b[0m:\u001b[36m177\u001b[0m - \u001b[1mGenerating 1 requests with gpt-4o-mini, max RPS: 83\u001b[0m\n",
      "\u001b[32m2025-03-03 20:49:37.955\u001b[0m | \u001b[1mINFO    \u001b[0m | \u001b[36msynthetic_data.generation\u001b[0m:\u001b[36mgenerate\u001b[0m:\u001b[36m177\u001b[0m - \u001b[1mGenerating 1 requests with gpt-4o-mini, max RPS: 83\u001b[0m\n",
      "\u001b[32m2025-03-03 20:49:37.955\u001b[0m | \u001b[1mINFO    \u001b[0m | \u001b[36msynthetic_data.generation\u001b[0m:\u001b[36mgenerate\u001b[0m:\u001b[36m177\u001b[0m - \u001b[1mGenerating 1 requests with gpt-4o-mini, max RPS: 83\u001b[0m\n",
      "\u001b[32m2025-03-03 20:49:37.955\u001b[0m | \u001b[1mINFO    \u001b[0m | \u001b[36msynthetic_data.generation\u001b[0m:\u001b[36mgenerate\u001b[0m:\u001b[36m177\u001b[0m - \u001b[1mGenerating 1 requests with gpt-4o-mini, max RPS: 83\u001b[0m\n",
      "\u001b[32m2025-03-03 20:49:37.955\u001b[0m | \u001b[1mINFO    \u001b[0m | \u001b[36msynthetic_data.generation\u001b[0m:\u001b[36mgenerate\u001b[0m:\u001b[36m177\u001b[0m - \u001b[1mGenerating 1 requests with gpt-4o-mini, max RPS: 83\u001b[0m\n",
      "\u001b[32m2025-03-03 20:49:37.956\u001b[0m | \u001b[1mINFO    \u001b[0m | \u001b[36msynthetic_data.generation\u001b[0m:\u001b[36mgenerate\u001b[0m:\u001b[36m177\u001b[0m - \u001b[1mGenerating 1 requests with gpt-4o-mini, max RPS: 83\u001b[0m\n",
      "\u001b[32m2025-03-03 20:49:37.956\u001b[0m | \u001b[1mINFO    \u001b[0m | \u001b[36msynthetic_data.generation\u001b[0m:\u001b[36mgenerate\u001b[0m:\u001b[36m177\u001b[0m - \u001b[1mGenerating 1 requests with gpt-4o-mini, max RPS: 83\u001b[0m\n",
      "\u001b[32m2025-03-03 20:49:39.073\u001b[0m | \u001b[1mINFO    \u001b[0m | \u001b[36mgyms.twenty_questions.env\u001b[0m:\u001b[36mstep\u001b[0m:\u001b[36m229\u001b[0m - \u001b[1mRaw response: <thought>\n",
      "To narrow down the possibilities effectively, I need to determine whether the secret object, person, or concept is a living being or an inanimate object. This distinction will help me categorize the answer further and lead me to more specific questions. Therefore, my next question will focus on whether the secret is a living entity.\n",
      "</thought>\n",
      "\n",
      "<output>\n",
      "Question: Is the secret object, person, or concept a living being? \n",
      "</output>\u001b[0m\n",
      "\u001b[32m2025-03-03 20:49:39.074\u001b[0m | \u001b[1mINFO    \u001b[0m | \u001b[36mgyms.twenty_questions.env\u001b[0m:\u001b[36mstep\u001b[0m:\u001b[36m254\u001b[0m - \u001b[1mFormatted output: Guesser: Is the secret object, person, or concept a living being?\u001b[0m\n",
      "\u001b[32m2025-03-03 20:49:39.205\u001b[0m | \u001b[1mINFO    \u001b[0m | \u001b[36mgyms.twenty_questions.env\u001b[0m:\u001b[36mstep\u001b[0m:\u001b[36m229\u001b[0m - \u001b[1mRaw response: <thought>\n",
      "I need to gather more specific information about the secret object, person, or concept. Since I don't know the category yet, I should ask a question that helps narrow down whether it is a living thing or an inanimate object. This will help me understand the broader category and guide my subsequent questions more effectively.\n",
      "</thought>\n",
      "\n",
      "<output>\n",
      "Question: Is it a living thing? \n",
      "</output>\u001b[0m\n",
      "\u001b[32m2025-03-03 20:49:39.206\u001b[0m | \u001b[1mINFO    \u001b[0m | \u001b[36mgyms.twenty_questions.env\u001b[0m:\u001b[36mstep\u001b[0m:\u001b[36m254\u001b[0m - \u001b[1mFormatted output: Guesser: Is it a living thing?\u001b[0m\n",
      "\u001b[32m2025-03-03 20:49:39.259\u001b[0m | \u001b[1mINFO    \u001b[0m | \u001b[36mgyms.twenty_questions.env\u001b[0m:\u001b[36mstep\u001b[0m:\u001b[36m229\u001b[0m - \u001b[1mRaw response: <thought>\n",
      "To narrow down the possibilities effectively, I need to determine whether the secret object, person, or concept belongs to a specific category or type. If it is an object, is it man-made or natural? If it is a person, is it a historical figure or a contemporary one? Understanding the nature of the secret will help me focus my subsequent questions. Therefore, I will ask a question that distinguishes between man-made and natural objects or concepts.\n",
      "</thought>\n",
      "\n",
      "<output>\n",
      "Question: Is the secret object, person, or concept man-made? \n",
      "</output>\u001b[0m\n",
      "\u001b[32m2025-03-03 20:49:39.259\u001b[0m | \u001b[1mINFO    \u001b[0m | \u001b[36mgyms.twenty_questions.env\u001b[0m:\u001b[36mstep\u001b[0m:\u001b[36m254\u001b[0m - \u001b[1mFormatted output: Guesser: Is the secret object, person, or concept man-made?\u001b[0m\n",
      "\u001b[32m2025-03-03 20:49:39.267\u001b[0m | \u001b[1mINFO    \u001b[0m | \u001b[36mgyms.twenty_questions.env\u001b[0m:\u001b[36mstep\u001b[0m:\u001b[36m229\u001b[0m - \u001b[1mRaw response: <thought>\n",
      "I need to narrow down the possibilities further. To do this effectively, I should clarify whether the secret object, person, or concept is something that exists in the physical world or is more abstract. This will help me categorize the answer more clearly and direct my next questions accordingly. A simple yet effective question would be to ask if it's a tangible object.\n",
      "</thought>\n",
      "\n",
      "<output>\n",
      "Question: Is the secret object, person, or concept a physical object? \n",
      "</output>\u001b[0m\n",
      "\u001b[32m2025-03-03 20:49:39.268\u001b[0m | \u001b[1mINFO    \u001b[0m | \u001b[36mgyms.twenty_questions.env\u001b[0m:\u001b[36mstep\u001b[0m:\u001b[36m254\u001b[0m - \u001b[1mFormatted output: Guesser: Is the secret object, person, or concept a physical object?\u001b[0m\n",
      "\u001b[32m2025-03-03 20:49:39.373\u001b[0m | \u001b[1mINFO    \u001b[0m | \u001b[36mgyms.twenty_questions.env\u001b[0m:\u001b[36mstep\u001b[0m:\u001b[36m229\u001b[0m - \u001b[1mRaw response: <thought>\n",
      "I need to narrow down the possibilities further. To do this effectively, I should focus on the category of the secret object. If it's a living thing, I can ask about whether it's an animal or a plant. If it's an inanimate object, I can ask about its purpose or material. Since I don't have any previous context, I will start by determining if the secret is a living organism or not. This will help me categorize my next questions more effectively.\n",
      "</thought>\n",
      "\n",
      "<output>\n",
      "Question: Is the secret object a living organism? \n",
      "</output>\u001b[0m\n",
      "\u001b[32m2025-03-03 20:49:39.374\u001b[0m | \u001b[1mINFO    \u001b[0m | \u001b[36mgyms.twenty_questions.env\u001b[0m:\u001b[36mstep\u001b[0m:\u001b[36m254\u001b[0m - \u001b[1mFormatted output: Guesser: Is the secret object a living organism?\u001b[0m\n",
      "\u001b[32m2025-03-03 20:49:39.381\u001b[0m | \u001b[1mINFO    \u001b[0m | \u001b[36mgyms.twenty_questions.env\u001b[0m:\u001b[36mstep\u001b[0m:\u001b[36m229\u001b[0m - \u001b[1mRaw response: <thought>\n",
      "To effectively narrow down the possibilities, I need to determine the category of the secret object, person, or concept. If it is a living thing, I can further categorize it as an animal or a human. If it is an inanimate object, I can identify if it is something commonly found indoors or outdoors, or if it belongs to a specific category like technology, furniture, etc. Therefore, my next question should focus on whether the secret is a living thing or not, as this will significantly help in narrowing down the options.\n",
      "</thought>\n",
      "\n",
      "<output>\n",
      "Question: Is the secret object, person, or concept a living thing? \n",
      "</output>\u001b[0m\n",
      "\u001b[32m2025-03-03 20:49:39.381\u001b[0m | \u001b[1mINFO    \u001b[0m | \u001b[36mgyms.twenty_questions.env\u001b[0m:\u001b[36mstep\u001b[0m:\u001b[36m254\u001b[0m - \u001b[1mFormatted output: Guesser: Is the secret object, person, or concept a living thing?\u001b[0m\n",
      "\u001b[32m2025-03-03 20:49:39.448\u001b[0m | \u001b[1mINFO    \u001b[0m | \u001b[36mgyms.twenty_questions.env\u001b[0m:\u001b[36mstep\u001b[0m:\u001b[36m229\u001b[0m - \u001b[1mRaw response: <thought>\n",
      "To effectively narrow down the possibilities, I need to clarify the category of the secret object, person, or concept. Since I don't have any prior context about what has been asked or answered, I will start broad. A good first question is to determine whether the secret is a living thing or not, as this will help me categorize the possibilities significantly. \n",
      "</thought>\n",
      "\n",
      "<output>\n",
      "Question: Is the secret object, person, or concept a living thing? \n",
      "</output>\u001b[0m\n",
      "\u001b[32m2025-03-03 20:49:39.449\u001b[0m | \u001b[1mINFO    \u001b[0m | \u001b[36mgyms.twenty_questions.env\u001b[0m:\u001b[36mstep\u001b[0m:\u001b[36m254\u001b[0m - \u001b[1mFormatted output: Guesser: Is the secret object, person, or concept a living thing?\u001b[0m\n",
      "\u001b[32m2025-03-03 20:49:39.466\u001b[0m | \u001b[1mINFO    \u001b[0m | \u001b[36mgyms.twenty_questions.env\u001b[0m:\u001b[36mstep\u001b[0m:\u001b[36m229\u001b[0m - \u001b[1mRaw response: <thought>\n",
      "I need to further narrow down the possibilities by determining whether the secret object is a living thing or an inanimate object. This distinction can help me categorize the answer more effectively, as it will lead me to different lines of questioning based on the answer. If it is a living thing, I can then ask about its classification (animal, plant, etc.), and if it is an inanimate object, I can explore its function, material, or category. Therefore, my next question will focus on whether the secret is a living thing.\n",
      "</thought>\n",
      "\n",
      "<output>\n",
      "Question: Is the secret object a living thing? \n",
      "</output>\u001b[0m\n",
      "\u001b[32m2025-03-03 20:49:39.467\u001b[0m | \u001b[1mINFO    \u001b[0m | \u001b[36mgyms.twenty_questions.env\u001b[0m:\u001b[36mstep\u001b[0m:\u001b[36m254\u001b[0m - \u001b[1mFormatted output: Guesser: Is the secret object a living thing?\u001b[0m\n",
      "\u001b[32m2025-03-03 20:49:39.469\u001b[0m | \u001b[1mINFO    \u001b[0m | \u001b[36mgenerate\u001b[0m:\u001b[36mrun_environments\u001b[0m:\u001b[36m57\u001b[0m - \u001b[1mCompleted batch of 8 environment steps\u001b[0m\n"
     ]
    }
   ],
   "source": [
    "from generate import ALL_ENVIRONMENTS, main, run_environments\n",
    "from copy import copy\n",
    "\n",
    "environment = ALL_ENVIRONMENTS[\"twenty_questions\"](generation_wrapper)\n",
    "envs = [copy(environment) for _ in range(8)]\n",
    "\n",
    "await run_environments(envs, 1)"
   ]
  }
 ],
 "metadata": {
  "kernelspec": {
   "display_name": ".venv",
   "language": "python",
   "name": "python3"
  },
  "language_info": {
   "codemirror_mode": {
    "name": "ipython",
    "version": 3
   },
   "file_extension": ".py",
   "mimetype": "text/x-python",
   "name": "python",
   "nbconvert_exporter": "python",
   "pygments_lexer": "ipython3",
   "version": "3.11.11"
  }
 },
 "nbformat": 4,
 "nbformat_minor": 2
}
