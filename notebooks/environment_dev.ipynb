{
 "cells": [
  {
   "cell_type": "code",
   "execution_count": 2,
   "metadata": {},
   "outputs": [],
   "source": [
    "import sys\n",
    "sys.path.append(\"..\")\n",
    "%load_ext autoreload\n",
    "%autoreload 2"
   ]
  },
  {
   "cell_type": "code",
   "execution_count": 4,
   "metadata": {},
   "outputs": [
    {
     "name": "stderr",
     "output_type": "stream",
     "text": [
      "[nltk_data] Downloading package punkt_tab to\n",
      "[nltk_data]     /Users/brianfitzgerald/nltk_data...\n",
      "[nltk_data]   Package punkt_tab is already up-to-date!\n",
      "[nltk_data] Downloading package averaged_perceptron_tagger_eng to\n",
      "[nltk_data]     /Users/brianfitzgerald/nltk_data...\n",
      "[nltk_data]   Package averaged_perceptron_tagger_eng is already up-to-\n",
      "[nltk_data]       date!\n"
     ]
    }
   ],
   "source": [
    "from gyms.twenty_questions.env import TwentyQuestionsPolicyEnvironment\n",
    "from synthetic_data.generation import get_generation_wrapper\n",
    "\n",
    "generation_wrapper = get_generation_wrapper(\"gpt-4o\")\n",
    "env = TwentyQuestionsPolicyEnvironment(generation_wrapper)"
   ]
  },
  {
   "cell_type": "code",
   "execution_count": 6,
   "metadata": {},
   "outputs": [
    {
     "name": "stderr",
     "output_type": "stream",
     "text": [
      "\u001b[32m2025-03-04 20:35:17.991\u001b[0m | \u001b[1mINFO    \u001b[0m | \u001b[36mgyms.twenty_questions.env\u001b[0m:\u001b[36mreset\u001b[0m:\u001b[36m245\u001b[0m - \u001b[1mWord to guess: Guitar\u001b[0m\n",
      "\u001b[32m2025-03-04 20:35:18.804\u001b[0m | \u001b[1mINFO    \u001b[0m | \u001b[36mgyms.twenty_questions.env\u001b[0m:\u001b[36mstep\u001b[0m:\u001b[36m217\u001b[0m - \u001b[1mAdded output: Oracle: \u001b[0m\n"
     ]
    },
    {
     "name": "stdout",
     "output_type": "stream",
     "text": [
      "0 20\n",
      "0.0 False\n"
     ]
    },
    {
     "name": "stderr",
     "output_type": "stream",
     "text": [
      "\u001b[32m2025-03-04 20:35:20.580\u001b[0m | \u001b[1mINFO    \u001b[0m | \u001b[36mgyms.twenty_questions.env\u001b[0m:\u001b[36mstep\u001b[0m:\u001b[36m199\u001b[0m - \u001b[1mRaw response: <thought>\n",
      "To start narrowing down the possibilities, it's useful to determine the broad category of the secret object, person, or concept. This will help guide subsequent questions. A common first question is to ask whether it's a living thing, as this can immediately divide the possibilities into animate and inanimate categories.\n",
      "</thought>\n",
      "\n",
      "<output>\n",
      "Question: Is it a living thing?\n",
      "</output>\u001b[0m\n",
      "\u001b[32m2025-03-04 20:35:20.581\u001b[0m | \u001b[1mINFO    \u001b[0m | \u001b[36mgyms.twenty_questions.env\u001b[0m:\u001b[36mstep\u001b[0m:\u001b[36m217\u001b[0m - \u001b[1mAdded output: Guesser: Is it a living thing?\u001b[0m\n"
     ]
    },
    {
     "name": "stdout",
     "output_type": "stream",
     "text": [
      "1 20\n",
      "0.0 False\n"
     ]
    },
    {
     "name": "stderr",
     "output_type": "stream",
     "text": [
      "\u001b[32m2025-03-04 20:35:21.136\u001b[0m | \u001b[1mINFO    \u001b[0m | \u001b[36mgyms.twenty_questions.env\u001b[0m:\u001b[36mstep\u001b[0m:\u001b[36m217\u001b[0m - \u001b[1mAdded output: Oracle: No\u001b[0m\n"
     ]
    },
    {
     "name": "stdout",
     "output_type": "stream",
     "text": [
      "1 20\n",
      "0.0 False\n"
     ]
    },
    {
     "name": "stderr",
     "output_type": "stream",
     "text": [
      "\u001b[32m2025-03-04 20:35:23.435\u001b[0m | \u001b[1mINFO    \u001b[0m | \u001b[36mgyms.twenty_questions.env\u001b[0m:\u001b[36mstep\u001b[0m:\u001b[36m199\u001b[0m - \u001b[1mRaw response: <thought>\n",
      "Since the secret is not a living thing, we can eliminate all animals, plants, and people from consideration. The next step is to determine whether the object or concept is man-made or naturally occurring. This will help focus our questions on either natural phenomena or human-created items.\n",
      "</thought>\n",
      "\n",
      "<output>\n",
      "Question: Is it man-made?\n",
      "</output>\u001b[0m\n",
      "\u001b[32m2025-03-04 20:35:23.436\u001b[0m | \u001b[1mINFO    \u001b[0m | \u001b[36mgyms.twenty_questions.env\u001b[0m:\u001b[36mstep\u001b[0m:\u001b[36m217\u001b[0m - \u001b[1mAdded output: Guesser: Is it man-made?\u001b[0m\n"
     ]
    },
    {
     "name": "stdout",
     "output_type": "stream",
     "text": [
      "2 20\n",
      "0.0 False\n"
     ]
    },
    {
     "name": "stderr",
     "output_type": "stream",
     "text": [
      "\u001b[32m2025-03-04 20:35:24.056\u001b[0m | \u001b[1mINFO    \u001b[0m | \u001b[36mgyms.twenty_questions.env\u001b[0m:\u001b[36mstep\u001b[0m:\u001b[36m217\u001b[0m - \u001b[1mAdded output: Oracle: Yes\u001b[0m\n"
     ]
    },
    {
     "name": "stdout",
     "output_type": "stream",
     "text": [
      "2 20\n",
      "0.0 False\n"
     ]
    },
    {
     "name": "stderr",
     "output_type": "stream",
     "text": [
      "\u001b[32m2025-03-04 20:35:26.485\u001b[0m | \u001b[1mINFO    \u001b[0m | \u001b[36mgyms.twenty_questions.env\u001b[0m:\u001b[36mstep\u001b[0m:\u001b[36m199\u001b[0m - \u001b[1mRaw response: <thought>\n",
      "Knowing that the object is man-made, we can focus on objects or concepts created by humans. The next logical step is to determine the general category of the man-made object, such as whether it is a tool, a piece of technology, a form of art, etc. This will help narrow down the possibilities significantly.\n",
      "</thought>\n",
      "\n",
      "<output>\n",
      "Question: Is it a piece of technology?\n",
      "</output>\u001b[0m\n",
      "\u001b[32m2025-03-04 20:35:26.486\u001b[0m | \u001b[1mINFO    \u001b[0m | \u001b[36mgyms.twenty_questions.env\u001b[0m:\u001b[36mstep\u001b[0m:\u001b[36m217\u001b[0m - \u001b[1mAdded output: Guesser: Is it a piece of technology?\u001b[0m\n"
     ]
    },
    {
     "name": "stdout",
     "output_type": "stream",
     "text": [
      "3 20\n",
      "0.0 False\n"
     ]
    },
    {
     "name": "stderr",
     "output_type": "stream",
     "text": [
      "\u001b[32m2025-03-04 20:35:27.126\u001b[0m | \u001b[1mINFO    \u001b[0m | \u001b[36mgyms.twenty_questions.env\u001b[0m:\u001b[36mstep\u001b[0m:\u001b[36m217\u001b[0m - \u001b[1mAdded output: Oracle: No\u001b[0m\n"
     ]
    },
    {
     "name": "stdout",
     "output_type": "stream",
     "text": [
      "3 20\n",
      "0.0 False\n"
     ]
    },
    {
     "name": "stderr",
     "output_type": "stream",
     "text": [
      "\u001b[32m2025-03-04 20:35:29.443\u001b[0m | \u001b[1mINFO    \u001b[0m | \u001b[36mgyms.twenty_questions.env\u001b[0m:\u001b[36mstep\u001b[0m:\u001b[36m199\u001b[0m - \u001b[1mRaw response: <thought>\n",
      "Since the object is man-made but not a piece of technology, it could be something like a tool, a piece of art, furniture, clothing, or another type of human creation. To narrow it down further, I will ask if it is something typically used in a household setting, as this can help identify common everyday objects.\n",
      "</thought>\n",
      "\n",
      "<output>\n",
      "Question: Is it commonly found in a household?\n",
      "</output>\u001b[0m\n",
      "\u001b[32m2025-03-04 20:35:29.444\u001b[0m | \u001b[1mINFO    \u001b[0m | \u001b[36mgyms.twenty_questions.env\u001b[0m:\u001b[36mstep\u001b[0m:\u001b[36m217\u001b[0m - \u001b[1mAdded output: Guesser: Is it commonly found in a household?\u001b[0m\n"
     ]
    },
    {
     "name": "stdout",
     "output_type": "stream",
     "text": [
      "4 20\n",
      "0.0 False\n"
     ]
    },
    {
     "name": "stderr",
     "output_type": "stream",
     "text": [
      "\u001b[32m2025-03-04 20:35:29.996\u001b[0m | \u001b[1mINFO    \u001b[0m | \u001b[36mgyms.twenty_questions.env\u001b[0m:\u001b[36mstep\u001b[0m:\u001b[36m217\u001b[0m - \u001b[1mAdded output: Oracle: Yes\u001b[0m\n"
     ]
    },
    {
     "name": "stdout",
     "output_type": "stream",
     "text": [
      "4 20\n",
      "0.0 False\n"
     ]
    },
    {
     "name": "stderr",
     "output_type": "stream",
     "text": [
      "\u001b[32m2025-03-04 20:35:32.510\u001b[0m | \u001b[1mINFO    \u001b[0m | \u001b[36mgyms.twenty_questions.env\u001b[0m:\u001b[36mstep\u001b[0m:\u001b[36m199\u001b[0m - \u001b[1mRaw response: <thought>\n",
      "The object is man-made, not a piece of technology, and commonly found in a household. This suggests it could be something like furniture, kitchenware, or decor. To further narrow down the possibilities, I will ask if it is typically used in the kitchen, as this is a specific area with a wide range of common household items.\n",
      "</thought>\n",
      "\n",
      "<output>\n",
      "Question: Is it typically used in the kitchen?\n",
      "</output>\u001b[0m\n",
      "\u001b[32m2025-03-04 20:35:32.511\u001b[0m | \u001b[1mINFO    \u001b[0m | \u001b[36mgyms.twenty_questions.env\u001b[0m:\u001b[36mstep\u001b[0m:\u001b[36m217\u001b[0m - \u001b[1mAdded output: Guesser: Is it typically used in the kitchen?\u001b[0m\n"
     ]
    },
    {
     "name": "stdout",
     "output_type": "stream",
     "text": [
      "5 20\n",
      "0.0 False\n"
     ]
    },
    {
     "name": "stderr",
     "output_type": "stream",
     "text": [
      "\u001b[32m2025-03-04 20:35:33.087\u001b[0m | \u001b[1mINFO    \u001b[0m | \u001b[36mgyms.twenty_questions.env\u001b[0m:\u001b[36mstep\u001b[0m:\u001b[36m217\u001b[0m - \u001b[1mAdded output: Oracle: No\u001b[0m\n"
     ]
    },
    {
     "name": "stdout",
     "output_type": "stream",
     "text": [
      "5 20\n",
      "0.0 False\n"
     ]
    },
    {
     "name": "stderr",
     "output_type": "stream",
     "text": [
      "\u001b[32m2025-03-04 20:35:35.338\u001b[0m | \u001b[1mINFO    \u001b[0m | \u001b[36mgyms.twenty_questions.env\u001b[0m:\u001b[36mstep\u001b[0m:\u001b[36m199\u001b[0m - \u001b[1mRaw response: <thought>\n",
      "Since the object is not typically used in the kitchen, it might be found in other parts of the household, such as the living room, bedroom, or bathroom. To narrow it down further, I will ask if it is a type of furniture, as furniture is a common category of household items.\n",
      "</thought>\n",
      "\n",
      "<output>\n",
      "Question: Is it a type of furniture?\n",
      "</output>\u001b[0m\n",
      "\u001b[32m2025-03-04 20:35:35.340\u001b[0m | \u001b[1mINFO    \u001b[0m | \u001b[36mgyms.twenty_questions.env\u001b[0m:\u001b[36mstep\u001b[0m:\u001b[36m217\u001b[0m - \u001b[1mAdded output: Guesser: Is it a type of furniture?\u001b[0m\n"
     ]
    },
    {
     "name": "stdout",
     "output_type": "stream",
     "text": [
      "6 20\n",
      "0.0 False\n"
     ]
    },
    {
     "name": "stderr",
     "output_type": "stream",
     "text": [
      "\u001b[32m2025-03-04 20:35:36.037\u001b[0m | \u001b[1mINFO    \u001b[0m | \u001b[36mgyms.twenty_questions.env\u001b[0m:\u001b[36mstep\u001b[0m:\u001b[36m217\u001b[0m - \u001b[1mAdded output: Oracle: No\u001b[0m\n"
     ]
    },
    {
     "name": "stdout",
     "output_type": "stream",
     "text": [
      "6 20\n",
      "0.0 False\n"
     ]
    },
    {
     "name": "stderr",
     "output_type": "stream",
     "text": [
      "\u001b[32m2025-03-04 20:35:38.086\u001b[0m | \u001b[1mINFO    \u001b[0m | \u001b[36mgyms.twenty_questions.env\u001b[0m:\u001b[36mstep\u001b[0m:\u001b[36m199\u001b[0m - \u001b[1mRaw response: <thought>\n",
      "The object is man-made, commonly found in a household, but not typically used in the kitchen or a type of furniture. This suggests it could be something decorative, a household tool, or a utility item. To narrow it down further, I will ask if it is used for decorative purposes.\n",
      "</thought>\n",
      "\n",
      "<output>\n",
      "Question: Is it used for decorative purposes?\n",
      "</output>\u001b[0m\n",
      "\u001b[32m2025-03-04 20:35:38.087\u001b[0m | \u001b[1mINFO    \u001b[0m | \u001b[36mgyms.twenty_questions.env\u001b[0m:\u001b[36mstep\u001b[0m:\u001b[36m217\u001b[0m - \u001b[1mAdded output: Guesser: Is it used for decorative purposes?\u001b[0m\n"
     ]
    },
    {
     "name": "stdout",
     "output_type": "stream",
     "text": [
      "7 20\n",
      "0.0 False\n"
     ]
    },
    {
     "name": "stderr",
     "output_type": "stream",
     "text": [
      "\u001b[32m2025-03-04 20:35:38.530\u001b[0m | \u001b[1mINFO    \u001b[0m | \u001b[36mgyms.twenty_questions.env\u001b[0m:\u001b[36mstep\u001b[0m:\u001b[36m217\u001b[0m - \u001b[1mAdded output: Oracle: No\u001b[0m\n"
     ]
    },
    {
     "name": "stdout",
     "output_type": "stream",
     "text": [
      "7 20\n",
      "0.0 False\n"
     ]
    },
    {
     "name": "stderr",
     "output_type": "stream",
     "text": [
      "\u001b[32m2025-03-04 20:35:41.465\u001b[0m | \u001b[1mINFO    \u001b[0m | \u001b[36mgyms.twenty_questions.env\u001b[0m:\u001b[36mstep\u001b[0m:\u001b[36m199\u001b[0m - \u001b[1mRaw response: <thought>\n",
      "The object is not used for decorative purposes, which suggests it might be a utility or functional item found in a household. Since it is not typically used in the kitchen or as furniture, it could be something like a cleaning tool, a personal care item, or a household accessory. To narrow it down further, I will ask if it is related to personal care or hygiene.\n",
      "</thought>\n",
      "\n",
      "<output>\n",
      "Question: Is it related to personal care or hygiene?\n",
      "</output>\u001b[0m\n",
      "\u001b[32m2025-03-04 20:35:41.466\u001b[0m | \u001b[1mINFO    \u001b[0m | \u001b[36mgyms.twenty_questions.env\u001b[0m:\u001b[36mstep\u001b[0m:\u001b[36m217\u001b[0m - \u001b[1mAdded output: Guesser: Is it related to personal care or hygiene?\u001b[0m\n"
     ]
    },
    {
     "name": "stdout",
     "output_type": "stream",
     "text": [
      "8 20\n",
      "0.0 False\n"
     ]
    },
    {
     "name": "stderr",
     "output_type": "stream",
     "text": [
      "\u001b[32m2025-03-04 20:35:41.914\u001b[0m | \u001b[1mINFO    \u001b[0m | \u001b[36mgyms.twenty_questions.env\u001b[0m:\u001b[36mstep\u001b[0m:\u001b[36m217\u001b[0m - \u001b[1mAdded output: Oracle: No\u001b[0m\n"
     ]
    },
    {
     "name": "stdout",
     "output_type": "stream",
     "text": [
      "8 20\n",
      "0.0 False\n"
     ]
    },
    {
     "name": "stderr",
     "output_type": "stream",
     "text": [
      "\u001b[32m2025-03-04 20:35:44.732\u001b[0m | \u001b[1mINFO    \u001b[0m | \u001b[36mgyms.twenty_questions.env\u001b[0m:\u001b[36mstep\u001b[0m:\u001b[36m199\u001b[0m - \u001b[1mRaw response: <thought>\n",
      "The object is not related to personal care or hygiene, which suggests it might be a utility or functional item used for other purposes around the house. Since it is not a piece of furniture, used in the kitchen, decorative, or related to personal care, it could be a cleaning tool, a household accessory, or something related to maintenance or organization. To narrow it down further, I will ask if it is used for cleaning purposes.\n",
      "</thought>\n",
      "\n",
      "<output>\n",
      "Question: Is it used for cleaning purposes?\n",
      "</output>\u001b[0m\n",
      "\u001b[32m2025-03-04 20:35:44.733\u001b[0m | \u001b[1mINFO    \u001b[0m | \u001b[36mgyms.twenty_questions.env\u001b[0m:\u001b[36mstep\u001b[0m:\u001b[36m217\u001b[0m - \u001b[1mAdded output: Guesser: Is it used for cleaning purposes?\u001b[0m\n"
     ]
    },
    {
     "name": "stdout",
     "output_type": "stream",
     "text": [
      "9 20\n",
      "0.0 False\n"
     ]
    },
    {
     "name": "stderr",
     "output_type": "stream",
     "text": [
      "\u001b[32m2025-03-04 20:35:45.202\u001b[0m | \u001b[1mINFO    \u001b[0m | \u001b[36mgyms.twenty_questions.env\u001b[0m:\u001b[36mstep\u001b[0m:\u001b[36m217\u001b[0m - \u001b[1mAdded output: Oracle: No\u001b[0m\n"
     ]
    },
    {
     "name": "stdout",
     "output_type": "stream",
     "text": [
      "9 20\n",
      "0.0 False\n"
     ]
    },
    {
     "name": "stderr",
     "output_type": "stream",
     "text": [
      "\u001b[32m2025-03-04 20:35:48.323\u001b[0m | \u001b[1mINFO    \u001b[0m | \u001b[36mgyms.twenty_questions.env\u001b[0m:\u001b[36mstep\u001b[0m:\u001b[36m199\u001b[0m - \u001b[1mRaw response: <thought>\n",
      "The object is not used for cleaning purposes, which suggests it might be a household accessory or an item related to organization, maintenance, or another functional purpose. Since it is not used in the kitchen, not furniture, not decorative, not for personal care, and not for cleaning, I will now consider items that might be used for storage or organization, as these are common household items that fit the remaining criteria.\n",
      "</thought>\n",
      "\n",
      "<output>\n",
      "Question: Is it used for storage or organization?\n",
      "</output>\u001b[0m\n",
      "\u001b[32m2025-03-04 20:35:48.324\u001b[0m | \u001b[1mINFO    \u001b[0m | \u001b[36mgyms.twenty_questions.env\u001b[0m:\u001b[36mstep\u001b[0m:\u001b[36m217\u001b[0m - \u001b[1mAdded output: Guesser: Is it used for storage or organization?\u001b[0m\n"
     ]
    },
    {
     "name": "stdout",
     "output_type": "stream",
     "text": [
      "10 20\n",
      "0.0 False\n"
     ]
    },
    {
     "name": "stderr",
     "output_type": "stream",
     "text": [
      "\u001b[32m2025-03-04 20:35:48.793\u001b[0m | \u001b[1mINFO    \u001b[0m | \u001b[36mgyms.twenty_questions.env\u001b[0m:\u001b[36mstep\u001b[0m:\u001b[36m217\u001b[0m - \u001b[1mAdded output: Oracle: No\u001b[0m\n"
     ]
    },
    {
     "name": "stdout",
     "output_type": "stream",
     "text": [
      "10 20\n",
      "0.0 False\n"
     ]
    },
    {
     "name": "stderr",
     "output_type": "stream",
     "text": [
      "\u001b[32m2025-03-04 20:35:52.738\u001b[0m | \u001b[1mINFO    \u001b[0m | \u001b[36mgyms.twenty_questions.env\u001b[0m:\u001b[36mstep\u001b[0m:\u001b[36m199\u001b[0m - \u001b[1mRaw response: <thought>\n",
      "The object is not used for storage or organization, which means it must serve some other specific function in the household. Given that it is not related to cleaning, personal care, decoration, or storage, it might be a household accessory or utility item with a specific function. Since we have eliminated many common categories, I will now ask if it is used for entertainment or leisure, as this is another area with specific household items.\n",
      "</thought>\n",
      "\n",
      "<output>\n",
      "Question: Is it used for entertainment or leisure?\n",
      "</output>\u001b[0m\n",
      "\u001b[32m2025-03-04 20:35:52.740\u001b[0m | \u001b[1mINFO    \u001b[0m | \u001b[36mgyms.twenty_questions.env\u001b[0m:\u001b[36mstep\u001b[0m:\u001b[36m217\u001b[0m - \u001b[1mAdded output: Guesser: Is it used for entertainment or leisure?\u001b[0m\n"
     ]
    },
    {
     "name": "stdout",
     "output_type": "stream",
     "text": [
      "11 20\n",
      "0.0 False\n"
     ]
    },
    {
     "name": "stderr",
     "output_type": "stream",
     "text": [
      "\u001b[32m2025-03-04 20:35:53.342\u001b[0m | \u001b[1mINFO    \u001b[0m | \u001b[36mgyms.twenty_questions.env\u001b[0m:\u001b[36mstep\u001b[0m:\u001b[36m217\u001b[0m - \u001b[1mAdded output: Oracle: Yes\u001b[0m\n"
     ]
    },
    {
     "name": "stdout",
     "output_type": "stream",
     "text": [
      "11 20\n",
      "0.0 False\n"
     ]
    },
    {
     "name": "stderr",
     "output_type": "stream",
     "text": [
      "\u001b[32m2025-03-04 20:35:56.623\u001b[0m | \u001b[1mINFO    \u001b[0m | \u001b[36mgyms.twenty_questions.env\u001b[0m:\u001b[36mstep\u001b[0m:\u001b[36m199\u001b[0m - \u001b[1mRaw response: <thought>\n",
      "The object is used for entertainment or leisure and is commonly found in a household. It is not a piece of technology, so it could be something like a board game, a book, or a musical instrument. To narrow it down further, I will ask if it is something that is typically played or used by multiple people at the same time, which would help identify if it's a social activity item like a board game.\n",
      "</thought>\n",
      "\n",
      "<output>\n",
      "Question: Is it typically played or used by multiple people at the same time?\n",
      "</output>\u001b[0m\n",
      "\u001b[32m2025-03-04 20:35:56.625\u001b[0m | \u001b[1mINFO    \u001b[0m | \u001b[36mgyms.twenty_questions.env\u001b[0m:\u001b[36mstep\u001b[0m:\u001b[36m217\u001b[0m - \u001b[1mAdded output: Guesser: Is it typically played or used by multiple people at the same time?\u001b[0m\n"
     ]
    },
    {
     "name": "stdout",
     "output_type": "stream",
     "text": [
      "12 20\n",
      "0.0 False\n"
     ]
    },
    {
     "name": "stderr",
     "output_type": "stream",
     "text": [
      "\u001b[32m2025-03-04 20:36:00.125\u001b[0m | \u001b[1mINFO    \u001b[0m | \u001b[36mgyms.twenty_questions.env\u001b[0m:\u001b[36mstep\u001b[0m:\u001b[36m217\u001b[0m - \u001b[1mAdded output: Oracle: No\u001b[0m\n"
     ]
    },
    {
     "name": "stdout",
     "output_type": "stream",
     "text": [
      "12 20\n",
      "0.0 False\n"
     ]
    },
    {
     "name": "stderr",
     "output_type": "stream",
     "text": [
      "\u001b[32m2025-03-04 20:36:03.039\u001b[0m | \u001b[1mINFO    \u001b[0m | \u001b[36mgyms.twenty_questions.env\u001b[0m:\u001b[36mstep\u001b[0m:\u001b[36m199\u001b[0m - \u001b[1mRaw response: <thought>\n",
      "The object is used for entertainment or leisure, is commonly found in a household, not a piece of technology, and typically used by one person at a time. This suggests it could be something like a book, a puzzle, or a musical instrument. To narrow it down further, I will ask if it is something that involves reading, which would point towards books or similar items.\n",
      "</thought>\n",
      "\n",
      "<output>\n",
      "Question: Does it involve reading?\n",
      "</output>\u001b[0m\n",
      "\u001b[32m2025-03-04 20:36:03.040\u001b[0m | \u001b[1mINFO    \u001b[0m | \u001b[36mgyms.twenty_questions.env\u001b[0m:\u001b[36mstep\u001b[0m:\u001b[36m217\u001b[0m - \u001b[1mAdded output: Guesser: Does it involve reading?\u001b[0m\n"
     ]
    },
    {
     "name": "stdout",
     "output_type": "stream",
     "text": [
      "13 20\n",
      "0.0 False\n"
     ]
    },
    {
     "name": "stderr",
     "output_type": "stream",
     "text": [
      "\u001b[32m2025-03-04 20:36:03.975\u001b[0m | \u001b[1mINFO    \u001b[0m | \u001b[36mgyms.twenty_questions.env\u001b[0m:\u001b[36mstep\u001b[0m:\u001b[36m217\u001b[0m - \u001b[1mAdded output: Oracle: No\u001b[0m\n"
     ]
    },
    {
     "name": "stdout",
     "output_type": "stream",
     "text": [
      "13 20\n",
      "0.0 False\n"
     ]
    },
    {
     "name": "stderr",
     "output_type": "stream",
     "text": [
      "\u001b[32m2025-03-04 20:36:06.544\u001b[0m | \u001b[1mINFO    \u001b[0m | \u001b[36mgyms.twenty_questions.env\u001b[0m:\u001b[36mstep\u001b[0m:\u001b[36m199\u001b[0m - \u001b[1mRaw response: <thought>\n",
      "The object is used for entertainment or leisure, commonly found in a household, not a piece of technology, typically used by one person at a time, and does not involve reading. This suggests it could be a musical instrument or a solo leisure activity item like a puzzle or art supplies. Since it is not technology and doesn't involve reading, I will ask if it is a musical instrument.\n",
      "</thought>\n",
      "\n",
      "<output>\n",
      "Question: Is it a musical instrument?\n",
      "</output>\u001b[0m\n",
      "\u001b[32m2025-03-04 20:36:06.546\u001b[0m | \u001b[1mINFO    \u001b[0m | \u001b[36mgyms.twenty_questions.env\u001b[0m:\u001b[36mstep\u001b[0m:\u001b[36m217\u001b[0m - \u001b[1mAdded output: Guesser: Is it a musical instrument?\u001b[0m\n"
     ]
    },
    {
     "name": "stdout",
     "output_type": "stream",
     "text": [
      "14 20\n",
      "0.0 False\n"
     ]
    },
    {
     "name": "stderr",
     "output_type": "stream",
     "text": [
      "\u001b[32m2025-03-04 20:36:07.108\u001b[0m | \u001b[1mINFO    \u001b[0m | \u001b[36mgyms.twenty_questions.env\u001b[0m:\u001b[36mstep\u001b[0m:\u001b[36m217\u001b[0m - \u001b[1mAdded output: Oracle: Yes\u001b[0m\n"
     ]
    },
    {
     "name": "stdout",
     "output_type": "stream",
     "text": [
      "14 20\n",
      "0.0 False\n"
     ]
    },
    {
     "name": "stderr",
     "output_type": "stream",
     "text": [
      "\u001b[32m2025-03-04 20:36:09.746\u001b[0m | \u001b[1mINFO    \u001b[0m | \u001b[36mgyms.twenty_questions.env\u001b[0m:\u001b[36mstep\u001b[0m:\u001b[36m199\u001b[0m - \u001b[1mRaw response: <thought>\n",
      "The object is a musical instrument, commonly found in a household, used for entertainment or leisure, and typically used by one person at a time. Given these characteristics, it could be a common household instrument like a guitar, piano, or violin. Since I have narrowed it down to musical instruments, I will make an educated guess based on commonality and household presence.\n",
      "</thought>\n",
      "\n",
      "<output>\n",
      "Final Guess: Is it a guitar?\n",
      "</output>\u001b[0m\n"
     ]
    },
    {
     "name": "stdout",
     "output_type": "stream",
     "text": [
      "1.0 True\n"
     ]
    }
   ],
   "source": [
    "env.reset()\n",
    "done = False\n",
    "while not done:\n",
    "    reward, done = await env.step()\n",
    "    print(reward, done)"
   ]
  },
  {
   "cell_type": "code",
   "execution_count": null,
   "metadata": {},
   "outputs": [],
   "source": [
    "from generate import ALL_ENVIRONMENTS, run_environments\n",
    "from copy import copy\n",
    "\n",
    "environment = ALL_ENVIRONMENTS[\"twenty_questions\"](generation_wrapper)\n",
    "envs = [copy(environment) for _ in range(8)]\n",
    "\n",
    "await run_environments(envs, 1)"
   ]
  }
 ],
 "metadata": {
  "kernelspec": {
   "display_name": ".venv",
   "language": "python",
   "name": "python3"
  },
  "language_info": {
   "codemirror_mode": {
    "name": "ipython",
    "version": 3
   },
   "file_extension": ".py",
   "mimetype": "text/x-python",
   "name": "python",
   "nbconvert_exporter": "python",
   "pygments_lexer": "ipython3",
   "version": "3.11.11"
  }
 },
 "nbformat": 4,
 "nbformat_minor": 2
}
