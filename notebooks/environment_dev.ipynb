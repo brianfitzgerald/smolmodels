{
 "cells": [
  {
   "cell_type": "code",
   "execution_count": null,
   "metadata": {},
   "outputs": [],
   "source": [
    "import sys\n",
    "sys.path.append(\"..\")\n",
    "%load_ext autoreload\n",
    "%autoreload 2"
   ]
  },
  {
   "cell_type": "code",
   "execution_count": null,
   "metadata": {},
   "outputs": [],
   "source": [
    "from gyms.twenty_questions.env import TwentyQuestionsPolicyEnvironment\n",
    "from synthetic_data.generation import get_generation_wrapper\n",
    "\n",
    "\n",
    "generation_wrapper = get_generation_wrapper(\"gpt-4o-mini\")\n",
    "env = TwentyQuestionsPolicyEnvironment(generation_wrapper)"
   ]
  },
  {
   "cell_type": "code",
   "execution_count": 20,
   "metadata": {},
   "outputs": [
    {
     "name": "stderr",
     "output_type": "stream",
     "text": [
      "\u001b[32m2025-03-01 20:12:28.038\u001b[0m | \u001b[1mINFO    \u001b[0m | \u001b[36mgyms.twenty_questions.env\u001b[0m:\u001b[36mstep\u001b[0m:\u001b[36m166\u001b[0m - \u001b[1mNone\u001b[0m\n",
      "\u001b[32m2025-03-01 20:12:28.038\u001b[0m | \u001b[1mINFO    \u001b[0m | \u001b[36msynthetic_data.generation\u001b[0m:\u001b[36mgenerate\u001b[0m:\u001b[36m177\u001b[0m - \u001b[1mGenerating 1 requests with gpt-4o-mini, max RPS: 83.33333333333333\u001b[0m\n"
     ]
    },
    {
     "name": "stdout",
     "output_type": "stream",
     "text": [
      "[{'content': '\\n'\n",
      "             'You are an AI agent playing the role of the guesser in a game of '\n",
      "             'Twenty Questions. Your goal is to guess the secret object, '\n",
      "             'person, or concept that the other player (the answerer) is '\n",
      "             'thinking of by asking up to 20 yes-or-no questions.\\n'\n",
      "             '\\n'\n",
      "             \"Here are the previous questions you've asked and the answers \"\n",
      "             \"you've received:\\n\"\n",
      "             '\\n'\n",
      "             'You have 19 questions left to ask.\\n'\n",
      "             '\\n'\n",
      "             \"Based on the information you've gathered so far, think carefully \"\n",
      "             'about what question would be most helpful in narrowing down the '\n",
      "             'possible answers. Your question should be specific and designed '\n",
      "             'to eliminate as many possibilities as possible.\\n'\n",
      "             '\\n'\n",
      "             'If you believe you know the answer before using all 20 '\n",
      "             'questions, you may make a guess instead of asking another '\n",
      "             'question. However, be sure you have enough information to make '\n",
      "             'an educated guess.\\n'\n",
      "             '\\n'\n",
      "             'When formulating your next question or making a guess, follow '\n",
      "             'these steps:\\n'\n",
      "             '\\n'\n",
      "             '1. Analyze the previous questions and answers to identify '\n",
      "             'patterns or key information.\\n'\n",
      "             '2. Consider what categories or characteristics you still need to '\n",
      "             'clarify.\\n'\n",
      "             '3. Formulate a clear, concise yes-or-no question that will '\n",
      "             'provide valuable information.\\n'\n",
      "             '\\n'\n",
      "             'Present your output in the following format:\\n'\n",
      "             '\\n'\n",
      "             '<thought>\\n'\n",
      "             '[Your reasoning process for choosing the next question or making '\n",
      "             'a guess]\\n'\n",
      "             '</thought>\\n'\n",
      "             '\\n'\n",
      "             '<output>\\n'\n",
      "             '[If asking a question]: Question: [Your yes-or-no question]\\n'\n",
      "             '[If making a guess]: Final Guess: [Your guess of the secret '\n",
      "             'object, person, or concept]\\n'\n",
      "             '</output>\\n'\n",
      "             '\\n'\n",
      "             'Remember, your goal is to guess the correct answer in as few '\n",
      "             'questions as possible.\\n',\n",
      "  'role': 'system'}]\n"
     ]
    },
    {
     "data": {
      "text/plain": [
       "(0.0, False)"
      ]
     },
     "execution_count": 20,
     "metadata": {},
     "output_type": "execute_result"
    }
   ],
   "source": [
    "env.reset()\n",
    "await env.step()"
   ]
  }
 ],
 "metadata": {
  "kernelspec": {
   "display_name": ".venv",
   "language": "python",
   "name": "python3"
  },
  "language_info": {
   "codemirror_mode": {
    "name": "ipython",
    "version": 3
   },
   "file_extension": ".py",
   "mimetype": "text/x-python",
   "name": "python",
   "nbconvert_exporter": "python",
   "pygments_lexer": "ipython3",
   "version": "3.11.11"
  }
 },
 "nbformat": 4,
 "nbformat_minor": 2
}
