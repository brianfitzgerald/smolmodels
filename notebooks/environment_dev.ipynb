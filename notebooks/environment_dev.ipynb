{
 "cells": [
  {
   "cell_type": "code",
   "execution_count": 1,
   "metadata": {},
   "outputs": [],
   "source": [
    "import sys\n",
    "sys.path.append(\"..\")\n",
    "%load_ext autoreload\n",
    "%autoreload 2"
   ]
  },
  {
   "cell_type": "code",
   "execution_count": null,
   "metadata": {},
   "outputs": [],
   "source": [
    "from gyms.twenty_questions.env import TwentyQuestionsPolicyEnvironment\n",
    "from synthetic_data.generation import get_generation_wrapper\n",
    "\n",
    "generation_wrapper = get_generation_wrapper(\"gpt-4o-mini\")\n",
    "env = TwentyQuestionsPolicyEnvironment(generation_wrapper)"
   ]
  },
  {
   "cell_type": "code",
   "execution_count": 17,
   "metadata": {},
   "outputs": [
    {
     "name": "stderr",
     "output_type": "stream",
     "text": [
      "\u001b[32m2025-03-02 17:32:52.231\u001b[0m | \u001b[1mINFO    \u001b[0m | \u001b[36msynthetic_data.generation\u001b[0m:\u001b[36mgenerate\u001b[0m:\u001b[36m177\u001b[0m - \u001b[1mGenerating 1 requests with gpt-4o-mini, max RPS: 83\u001b[0m\n",
      "\u001b[32m2025-03-02 17:32:52.775\u001b[0m | \u001b[1mINFO    \u001b[0m | \u001b[36mgyms.twenty_questions.env\u001b[0m:\u001b[36mstep\u001b[0m:\u001b[36m167\u001b[0m - \u001b[1mRaw response: <response>No</response>\u001b[0m\n",
      "\u001b[32m2025-03-02 17:32:52.777\u001b[0m | \u001b[1mINFO    \u001b[0m | \u001b[36mgyms.twenty_questions.env\u001b[0m:\u001b[36mstep\u001b[0m:\u001b[36m192\u001b[0m - \u001b[1mFormatted output: Oracle: No\u001b[0m\n",
      "\u001b[32m2025-03-02 17:32:52.778\u001b[0m | \u001b[1mINFO    \u001b[0m | \u001b[36msynthetic_data.generation\u001b[0m:\u001b[36mgenerate\u001b[0m:\u001b[36m177\u001b[0m - \u001b[1mGenerating 1 requests with gpt-4o-mini, max RPS: 83\u001b[0m\n"
     ]
    },
    {
     "name": "stdout",
     "output_type": "stream",
     "text": [
      "0.0 False\n"
     ]
    },
    {
     "name": "stderr",
     "output_type": "stream",
     "text": [
      "\u001b[32m2025-03-02 17:32:53.600\u001b[0m | \u001b[1mINFO    \u001b[0m | \u001b[36mgyms.twenty_questions.env\u001b[0m:\u001b[36mstep\u001b[0m:\u001b[36m167\u001b[0m - \u001b[1mRaw response: <thought>\n",
      "I need to clarify whether the secret object, person, or concept is a living thing or not, as this will significantly narrow down the possibilities. If it's a living thing, I can further categorize it into animals or plants, and if it's not, I can explore objects or concepts. Therefore, I will ask if it is a living thing.\n",
      "</thought>\n",
      "\n",
      "<output>\n",
      "Question: Is it a living thing?\n",
      "</output>\u001b[0m\n",
      "\u001b[32m2025-03-02 17:32:53.601\u001b[0m | \u001b[1mINFO    \u001b[0m | \u001b[36mgyms.twenty_questions.env\u001b[0m:\u001b[36mstep\u001b[0m:\u001b[36m192\u001b[0m - \u001b[1mFormatted output: Guesser: Is it a living thing?\u001b[0m\n",
      "\u001b[32m2025-03-02 17:32:53.608\u001b[0m | \u001b[1mINFO    \u001b[0m | \u001b[36msynthetic_data.generation\u001b[0m:\u001b[36mgenerate\u001b[0m:\u001b[36m177\u001b[0m - \u001b[1mGenerating 1 requests with gpt-4o-mini, max RPS: 83\u001b[0m\n"
     ]
    },
    {
     "name": "stdout",
     "output_type": "stream",
     "text": [
      "0.0 False\n"
     ]
    },
    {
     "name": "stderr",
     "output_type": "stream",
     "text": [
      "\u001b[32m2025-03-02 17:32:53.870\u001b[0m | \u001b[1mINFO    \u001b[0m | \u001b[36mgyms.twenty_questions.env\u001b[0m:\u001b[36mstep\u001b[0m:\u001b[36m167\u001b[0m - \u001b[1mRaw response: <response>No</response>\u001b[0m\n",
      "\u001b[32m2025-03-02 17:32:53.870\u001b[0m | \u001b[1mINFO    \u001b[0m | \u001b[36mgyms.twenty_questions.env\u001b[0m:\u001b[36mstep\u001b[0m:\u001b[36m192\u001b[0m - \u001b[1mFormatted output: Oracle: No\u001b[0m\n",
      "\u001b[32m2025-03-02 17:32:53.872\u001b[0m | \u001b[1mINFO    \u001b[0m | \u001b[36msynthetic_data.generation\u001b[0m:\u001b[36mgenerate\u001b[0m:\u001b[36m177\u001b[0m - \u001b[1mGenerating 1 requests with gpt-4o-mini, max RPS: 83\u001b[0m\n"
     ]
    },
    {
     "name": "stdout",
     "output_type": "stream",
     "text": [
      "0.0 False\n"
     ]
    },
    {
     "name": "stderr",
     "output_type": "stream",
     "text": [
      "\u001b[32m2025-03-02 17:32:55.126\u001b[0m | \u001b[1mINFO    \u001b[0m | \u001b[36mgyms.twenty_questions.env\u001b[0m:\u001b[36mstep\u001b[0m:\u001b[36m167\u001b[0m - \u001b[1mRaw response: <thought>\n",
      "Since the answer is \"no,\" the secret object, person, or concept is not a living thing, which means it is likely an inanimate object or an abstract concept. To narrow it down further, I should determine if it is a physical object. If it is a physical object, I can then categorize it further into types of objects. If it is an abstract concept, that will lead me down a different line of questioning. Therefore, I will ask if it is a physical object.\n",
      "</thought>\n",
      "\n",
      "<output>\n",
      "Question: Is it a physical object?\n",
      "</output>\u001b[0m\n",
      "\u001b[32m2025-03-02 17:32:55.127\u001b[0m | \u001b[1mINFO    \u001b[0m | \u001b[36mgyms.twenty_questions.env\u001b[0m:\u001b[36mstep\u001b[0m:\u001b[36m192\u001b[0m - \u001b[1mFormatted output: Guesser: Is it a physical object?\u001b[0m\n",
      "\u001b[32m2025-03-02 17:32:55.131\u001b[0m | \u001b[1mINFO    \u001b[0m | \u001b[36msynthetic_data.generation\u001b[0m:\u001b[36mgenerate\u001b[0m:\u001b[36m177\u001b[0m - \u001b[1mGenerating 1 requests with gpt-4o-mini, max RPS: 83\u001b[0m\n"
     ]
    },
    {
     "name": "stdout",
     "output_type": "stream",
     "text": [
      "0.0 False\n"
     ]
    },
    {
     "name": "stderr",
     "output_type": "stream",
     "text": [
      "\u001b[32m2025-03-02 17:32:55.364\u001b[0m | \u001b[1mINFO    \u001b[0m | \u001b[36mgyms.twenty_questions.env\u001b[0m:\u001b[36mstep\u001b[0m:\u001b[36m167\u001b[0m - \u001b[1mRaw response: <response>Yes</response>\u001b[0m\n",
      "\u001b[32m2025-03-02 17:32:55.365\u001b[0m | \u001b[1mINFO    \u001b[0m | \u001b[36mgyms.twenty_questions.env\u001b[0m:\u001b[36mstep\u001b[0m:\u001b[36m192\u001b[0m - \u001b[1mFormatted output: Oracle: Yes\u001b[0m\n",
      "\u001b[32m2025-03-02 17:32:55.368\u001b[0m | \u001b[1mINFO    \u001b[0m | \u001b[36msynthetic_data.generation\u001b[0m:\u001b[36mgenerate\u001b[0m:\u001b[36m177\u001b[0m - \u001b[1mGenerating 1 requests with gpt-4o-mini, max RPS: 83\u001b[0m\n"
     ]
    },
    {
     "name": "stdout",
     "output_type": "stream",
     "text": [
      "0.0 False\n"
     ]
    },
    {
     "name": "stderr",
     "output_type": "stream",
     "text": [
      "\u001b[32m2025-03-02 17:32:56.293\u001b[0m | \u001b[1mINFO    \u001b[0m | \u001b[36mgyms.twenty_questions.env\u001b[0m:\u001b[36mstep\u001b[0m:\u001b[36m167\u001b[0m - \u001b[1mRaw response: <thought>\n",
      "Now that I know the secret is a physical object, I need to narrow down the category of this object. A good next step would be to determine if it is something commonly found indoors or outdoors. This will help me categorize it further into various types of physical objects. Therefore, I will ask if it is commonly found indoors.\n",
      "</thought>\n",
      "\n",
      "<output>\n",
      "Question: Is it commonly found indoors?\n",
      "</output>\u001b[0m\n",
      "\u001b[32m2025-03-02 17:32:56.294\u001b[0m | \u001b[1mINFO    \u001b[0m | \u001b[36mgyms.twenty_questions.env\u001b[0m:\u001b[36mstep\u001b[0m:\u001b[36m192\u001b[0m - \u001b[1mFormatted output: Guesser: Is it commonly found indoors?\u001b[0m\n",
      "\u001b[32m2025-03-02 17:32:56.301\u001b[0m | \u001b[1mINFO    \u001b[0m | \u001b[36msynthetic_data.generation\u001b[0m:\u001b[36mgenerate\u001b[0m:\u001b[36m177\u001b[0m - \u001b[1mGenerating 1 requests with gpt-4o-mini, max RPS: 83\u001b[0m\n"
     ]
    },
    {
     "name": "stdout",
     "output_type": "stream",
     "text": [
      "0.0 False\n"
     ]
    },
    {
     "name": "stderr",
     "output_type": "stream",
     "text": [
      "\u001b[32m2025-03-02 17:32:56.596\u001b[0m | \u001b[1mINFO    \u001b[0m | \u001b[36mgyms.twenty_questions.env\u001b[0m:\u001b[36mstep\u001b[0m:\u001b[36m167\u001b[0m - \u001b[1mRaw response: <response>Yes</response>\u001b[0m\n",
      "\u001b[32m2025-03-02 17:32:56.597\u001b[0m | \u001b[1mINFO    \u001b[0m | \u001b[36mgyms.twenty_questions.env\u001b[0m:\u001b[36mstep\u001b[0m:\u001b[36m192\u001b[0m - \u001b[1mFormatted output: Oracle: Yes\u001b[0m\n",
      "\u001b[32m2025-03-02 17:32:56.599\u001b[0m | \u001b[1mINFO    \u001b[0m | \u001b[36msynthetic_data.generation\u001b[0m:\u001b[36mgenerate\u001b[0m:\u001b[36m177\u001b[0m - \u001b[1mGenerating 1 requests with gpt-4o-mini, max RPS: 83\u001b[0m\n"
     ]
    },
    {
     "name": "stdout",
     "output_type": "stream",
     "text": [
      "0.0 False\n"
     ]
    },
    {
     "name": "stderr",
     "output_type": "stream",
     "text": [
      "\u001b[32m2025-03-02 17:32:57.992\u001b[0m | \u001b[1mINFO    \u001b[0m | \u001b[36mgyms.twenty_questions.env\u001b[0m:\u001b[36mstep\u001b[0m:\u001b[36m167\u001b[0m - \u001b[1mRaw response: <thought>\n",
      "Since the object is commonly found indoors, I can now focus on specific categories of indoor objects. It would be helpful to determine if this object is typically used for a specific purpose, such as furniture, appliances, or decor. To start, I will ask if it is a piece of furniture, as this could encompass a wide range of commonly found indoor items.\n",
      "</thought>\n",
      "\n",
      "<output>\n",
      "Question: Is it a piece of furniture? \n",
      "</output>\u001b[0m\n",
      "\u001b[32m2025-03-02 17:32:57.993\u001b[0m | \u001b[1mINFO    \u001b[0m | \u001b[36mgyms.twenty_questions.env\u001b[0m:\u001b[36mstep\u001b[0m:\u001b[36m192\u001b[0m - \u001b[1mFormatted output: Guesser: Is it a piece of furniture?\u001b[0m\n",
      "\u001b[32m2025-03-02 17:32:58.000\u001b[0m | \u001b[1mINFO    \u001b[0m | \u001b[36msynthetic_data.generation\u001b[0m:\u001b[36mgenerate\u001b[0m:\u001b[36m177\u001b[0m - \u001b[1mGenerating 1 requests with gpt-4o-mini, max RPS: 83\u001b[0m\n"
     ]
    },
    {
     "name": "stdout",
     "output_type": "stream",
     "text": [
      "0.0 False\n"
     ]
    },
    {
     "name": "stderr",
     "output_type": "stream",
     "text": [
      "\u001b[32m2025-03-02 17:32:58.542\u001b[0m | \u001b[1mINFO    \u001b[0m | \u001b[36mgyms.twenty_questions.env\u001b[0m:\u001b[36mstep\u001b[0m:\u001b[36m167\u001b[0m - \u001b[1mRaw response: <response>No</response>\u001b[0m\n",
      "\u001b[32m2025-03-02 17:32:58.543\u001b[0m | \u001b[1mINFO    \u001b[0m | \u001b[36mgyms.twenty_questions.env\u001b[0m:\u001b[36mstep\u001b[0m:\u001b[36m192\u001b[0m - \u001b[1mFormatted output: Oracle: No\u001b[0m\n",
      "\u001b[32m2025-03-02 17:32:58.545\u001b[0m | \u001b[1mINFO    \u001b[0m | \u001b[36msynthetic_data.generation\u001b[0m:\u001b[36mgenerate\u001b[0m:\u001b[36m177\u001b[0m - \u001b[1mGenerating 1 requests with gpt-4o-mini, max RPS: 83\u001b[0m\n"
     ]
    },
    {
     "name": "stdout",
     "output_type": "stream",
     "text": [
      "0.0 False\n"
     ]
    },
    {
     "name": "stderr",
     "output_type": "stream",
     "text": [
      "\u001b[32m2025-03-02 17:32:59.553\u001b[0m | \u001b[1mINFO    \u001b[0m | \u001b[36mgyms.twenty_questions.env\u001b[0m:\u001b[36mstep\u001b[0m:\u001b[36m167\u001b[0m - \u001b[1mRaw response: <thought>\n",
      "The answer is \"no,\" meaning the secret object is not a piece of furniture. This suggests it could be an appliance, decor item, or something else entirely. To narrow it down further, I should ask if it is an appliance, as appliances are common indoor items and would help eliminate a large category of objects. \n",
      "</thought>\n",
      "\n",
      "<output>\n",
      "Question: Is it an appliance? \n",
      "</output>\u001b[0m\n",
      "\u001b[32m2025-03-02 17:32:59.555\u001b[0m | \u001b[1mINFO    \u001b[0m | \u001b[36mgyms.twenty_questions.env\u001b[0m:\u001b[36mstep\u001b[0m:\u001b[36m192\u001b[0m - \u001b[1mFormatted output: Guesser: Is it an appliance?\u001b[0m\n",
      "\u001b[32m2025-03-02 17:32:59.561\u001b[0m | \u001b[1mINFO    \u001b[0m | \u001b[36msynthetic_data.generation\u001b[0m:\u001b[36mgenerate\u001b[0m:\u001b[36m177\u001b[0m - \u001b[1mGenerating 1 requests with gpt-4o-mini, max RPS: 83\u001b[0m\n"
     ]
    },
    {
     "name": "stdout",
     "output_type": "stream",
     "text": [
      "0.0 False\n"
     ]
    },
    {
     "name": "stderr",
     "output_type": "stream",
     "text": [
      "\u001b[32m2025-03-02 17:32:59.855\u001b[0m | \u001b[1mINFO    \u001b[0m | \u001b[36mgyms.twenty_questions.env\u001b[0m:\u001b[36mstep\u001b[0m:\u001b[36m167\u001b[0m - \u001b[1mRaw response: <response>No</response>\u001b[0m\n",
      "\u001b[32m2025-03-02 17:32:59.856\u001b[0m | \u001b[1mINFO    \u001b[0m | \u001b[36mgyms.twenty_questions.env\u001b[0m:\u001b[36mstep\u001b[0m:\u001b[36m192\u001b[0m - \u001b[1mFormatted output: Oracle: No\u001b[0m\n",
      "\u001b[32m2025-03-02 17:32:59.857\u001b[0m | \u001b[1mINFO    \u001b[0m | \u001b[36msynthetic_data.generation\u001b[0m:\u001b[36mgenerate\u001b[0m:\u001b[36m177\u001b[0m - \u001b[1mGenerating 1 requests with gpt-4o-mini, max RPS: 83\u001b[0m\n"
     ]
    },
    {
     "name": "stdout",
     "output_type": "stream",
     "text": [
      "0.0 False\n"
     ]
    },
    {
     "name": "stderr",
     "output_type": "stream",
     "text": [
      "\u001b[32m2025-03-02 17:33:00.966\u001b[0m | \u001b[1mINFO    \u001b[0m | \u001b[36mgyms.twenty_questions.env\u001b[0m:\u001b[36mstep\u001b[0m:\u001b[36m167\u001b[0m - \u001b[1mRaw response: <thought>\n",
      "Since the object is neither furniture nor an appliance, it likely falls into another category, such as decor, tools, or other miscellaneous items. To narrow it down further, I should ask if it is primarily used for decoration. This will help clarify if it is something aesthetic or functional. \n",
      "</thought>\n",
      "\n",
      "<output>\n",
      "Question: Is it primarily used for decoration? \n",
      "</output>\u001b[0m\n",
      "\u001b[32m2025-03-02 17:33:00.968\u001b[0m | \u001b[1mINFO    \u001b[0m | \u001b[36mgyms.twenty_questions.env\u001b[0m:\u001b[36mstep\u001b[0m:\u001b[36m192\u001b[0m - \u001b[1mFormatted output: Guesser: Is it primarily used for decoration?\u001b[0m\n",
      "\u001b[32m2025-03-02 17:33:00.973\u001b[0m | \u001b[1mINFO    \u001b[0m | \u001b[36msynthetic_data.generation\u001b[0m:\u001b[36mgenerate\u001b[0m:\u001b[36m177\u001b[0m - \u001b[1mGenerating 1 requests with gpt-4o-mini, max RPS: 83\u001b[0m\n"
     ]
    },
    {
     "name": "stdout",
     "output_type": "stream",
     "text": [
      "0.0 False\n"
     ]
    },
    {
     "name": "stderr",
     "output_type": "stream",
     "text": [
      "\u001b[32m2025-03-02 17:33:01.408\u001b[0m | \u001b[1mINFO    \u001b[0m | \u001b[36mgyms.twenty_questions.env\u001b[0m:\u001b[36mstep\u001b[0m:\u001b[36m167\u001b[0m - \u001b[1mRaw response: <response>Yes</response>\u001b[0m\n",
      "\u001b[32m2025-03-02 17:33:01.410\u001b[0m | \u001b[1mINFO    \u001b[0m | \u001b[36mgyms.twenty_questions.env\u001b[0m:\u001b[36mstep\u001b[0m:\u001b[36m192\u001b[0m - \u001b[1mFormatted output: Oracle: Yes\u001b[0m\n",
      "\u001b[32m2025-03-02 17:33:01.412\u001b[0m | \u001b[1mINFO    \u001b[0m | \u001b[36msynthetic_data.generation\u001b[0m:\u001b[36mgenerate\u001b[0m:\u001b[36m177\u001b[0m - \u001b[1mGenerating 1 requests with gpt-4o-mini, max RPS: 83\u001b[0m\n"
     ]
    },
    {
     "name": "stdout",
     "output_type": "stream",
     "text": [
      "0.0 False\n"
     ]
    },
    {
     "name": "stderr",
     "output_type": "stream",
     "text": [
      "\u001b[32m2025-03-02 17:33:02.598\u001b[0m | \u001b[1mINFO    \u001b[0m | \u001b[36mgyms.twenty_questions.env\u001b[0m:\u001b[36mstep\u001b[0m:\u001b[36m167\u001b[0m - \u001b[1mRaw response: <thought>\n",
      "The object is primarily used for decoration, which suggests it could be something like artwork, ornaments, or decorative items. To further narrow it down, I should ask if it is typically considered artwork, as this encompasses a broad range of decorative items, including paintings, sculptures, and prints. \n",
      "</thought>\n",
      "\n",
      "<output>\n",
      "Question: Is it considered artwork? \n",
      "</output>\u001b[0m\n",
      "\u001b[32m2025-03-02 17:33:02.599\u001b[0m | \u001b[1mINFO    \u001b[0m | \u001b[36mgyms.twenty_questions.env\u001b[0m:\u001b[36mstep\u001b[0m:\u001b[36m192\u001b[0m - \u001b[1mFormatted output: Guesser: Is it considered artwork?\u001b[0m\n"
     ]
    },
    {
     "name": "stdout",
     "output_type": "stream",
     "text": [
      "0.0 True\n"
     ]
    }
   ],
   "source": [
    "env.reset()\n",
    "done = False\n",
    "while not done:\n",
    "    reward, done = await env.step()\n",
    "    print(reward, done)"
   ]
  }
 ],
 "metadata": {
  "kernelspec": {
   "display_name": ".venv",
   "language": "python",
   "name": "python3"
  },
  "language_info": {
   "codemirror_mode": {
    "name": "ipython",
    "version": 3
   },
   "file_extension": ".py",
   "mimetype": "text/x-python",
   "name": "python",
   "nbconvert_exporter": "python",
   "pygments_lexer": "ipython3",
   "version": "3.11.11"
  }
 },
 "nbformat": 4,
 "nbformat_minor": 2
}
