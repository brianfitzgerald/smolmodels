{
 "cells": [
  {
   "cell_type": "code",
   "execution_count": null,
   "metadata": {},
   "outputs": [],
   "source": [
    "import sys\n",
    "\n",
    "sys.path.append(\"..\")\n",
    "%load_ext autoreload\n",
    "%autoreload 2\n",
    "from trl_wrapper.trainer_wrapper import TrainerWrapper, GUTENBERG_CONFIG, GUTENBERG_DPO_CONFIG, SMOL_LM_135M"
   ]
  },
  {
   "cell_type": "code",
   "execution_count": 16,
   "metadata": {},
   "outputs": [],
   "source": [
    "cfg = GUTENBERG_CONFIG\n",
    "cfg.notebook_mode = True\n",
    "cfg.model_id_or_path = SMOL_LM_135M\n",
    "cfg.max_samples = 800\n",
    "cfg.eval_steps = 5\n",
    "cfg.eval_data_mode = \"fixed\"\n",
    "wrapper = TrainerWrapper(cfg)"
   ]
  },
  {
   "cell_type": "code",
   "execution_count": 18,
   "metadata": {},
   "outputs": [
    {
     "name": "stderr",
     "output_type": "stream",
     "text": [
      "\u001b[32m2025-02-22 21:48:28.264\u001b[0m | \u001b[1mINFO    \u001b[0m | \u001b[36mtrl_wrapper.trainer_wrapper\u001b[0m:\u001b[36minit_model\u001b[0m:\u001b[36m295\u001b[0m - \u001b[1mLoading model HuggingFaceTB/SmolLM2-135M-Instruct with attn_impl: flash_attention_2\u001b[0m\n"
     ]
    }
   ],
   "source": [
    "wrapper.init_model()"
   ]
  },
  {
   "cell_type": "code",
   "execution_count": 20,
   "metadata": {},
   "outputs": [
    {
     "name": "stderr",
     "output_type": "stream",
     "text": [
      "\u001b[32m2025-02-22 21:48:30.077\u001b[0m | \u001b[1mINFO    \u001b[0m | \u001b[36mtrl_wrapper.trainer_wrapper\u001b[0m:\u001b[36minit_data_module\u001b[0m:\u001b[36m316\u001b[0m - \u001b[1mUsing dataset path: dataset_files/gutenberg_conversations.parquet\u001b[0m\n",
      "\u001b[32m2025-02-22 21:48:30.078\u001b[0m | \u001b[1mINFO    \u001b[0m | \u001b[36mmodel.utils\u001b[0m:\u001b[36m__init__\u001b[0m:\u001b[36m118\u001b[0m - \u001b[1mCache dir: ../dataset_caches/conversation_data_module\u001b[0m\n",
      "\u001b[32m2025-02-22 21:48:30.078\u001b[0m | \u001b[1mINFO    \u001b[0m | \u001b[36mmodel.utils\u001b[0m:\u001b[36msetup\u001b[0m:\u001b[36m159\u001b[0m - \u001b[1mLoading dataset for stage fit\u001b[0m\n",
      "\u001b[32m2025-02-22 21:48:30.079\u001b[0m | \u001b[1mINFO    \u001b[0m | \u001b[36mmodel.utils\u001b[0m:\u001b[36msetup\u001b[0m:\u001b[36m162\u001b[0m - \u001b[1mProcessing dataset for stage fit, workers: 1, cache dir ../dataset_caches/conversation_data_module, using cache: False\u001b[0m\n",
      "\u001b[32m2025-02-22 21:48:30.079\u001b[0m | \u001b[1mINFO    \u001b[0m | \u001b[36mmodel.utils\u001b[0m:\u001b[36minit_dataset\u001b[0m:\u001b[36m134\u001b[0m - \u001b[1mLoading local dataset from ../dataset_files/gutenberg_conversations.parquet\u001b[0m\n",
      "\u001b[32m2025-02-22 21:48:30.085\u001b[0m | \u001b[1mINFO    \u001b[0m | \u001b[36mmodel.utils\u001b[0m:\u001b[36minit_dataset\u001b[0m:\u001b[36m144\u001b[0m - \u001b[1mSelecting 800 samples\u001b[0m\n",
      "\u001b[32m2025-02-22 21:48:30.089\u001b[0m | \u001b[1mINFO    \u001b[0m | \u001b[36mmodel.utils\u001b[0m:\u001b[36minit_dataset\u001b[0m:\u001b[36m154\u001b[0m - \u001b[1mLoading custom chat template: ../chat_templates/llama3.jinja\u001b[0m\n",
      "\u001b[32m2025-02-22 21:48:30.089\u001b[0m | \u001b[1mINFO    \u001b[0m | \u001b[36mmodel.utils\u001b[0m:\u001b[36msetup\u001b[0m:\u001b[36m171\u001b[0m - \u001b[1mTrain dataset samples: 720 Val dataset samples: 80 Train steps per epoch: 90\u001b[0m\n",
      "Map: 100%|██████████| 720/720 [00:01<00:00, 425.58 examples/s]\n",
      "Map: 100%|██████████| 80/80 [00:00<00:00, 388.83 examples/s]\n"
     ]
    }
   ],
   "source": [
    "wrapper.init_data_module()"
   ]
  },
  {
   "cell_type": "code",
   "execution_count": 23,
   "metadata": {},
   "outputs": [
    {
     "name": "stderr",
     "output_type": "stream",
     "text": [
      "\u001b[32m2025-02-22 21:48:51.617\u001b[0m | \u001b[1mINFO    \u001b[0m | \u001b[36mtrl_wrapper.trainer_wrapper\u001b[0m:\u001b[36minit_trainer\u001b[0m:\u001b[36m361\u001b[0m - \u001b[1mSaving output to: ./runs/02-22-21-48-882269-smollm2-135m-instruct--gutenberg-conv\u001b[0m\n",
      "\u001b[32m2025-02-22 21:48:51.621\u001b[0m | \u001b[1mINFO    \u001b[0m | \u001b[36mtrl_wrapper.trainer_wrapper\u001b[0m:\u001b[36minit_trainer\u001b[0m:\u001b[36m384\u001b[0m - \u001b[1mInitializing trainer, run_name: 02-22-21-48-882269-smollm2-135m-instruct--gutenberg-conv, wandb project: gutenberg\u001b[0m\n",
      "/home/brianf/smolmodels/notebooks/../trl_wrapper/trainer_wrapper.py:444: FutureWarning: `tokenizer` is deprecated and removed starting from version 0.16.0 for `CustomSFTTrainer.__init__`. Use `processing_class` instead.\n",
      "  self.trainer = CustomSFTTrainer(\n",
      "Applying chat template to train dataset (num_proc=4): 100%|██████████| 720/720 [00:00<00:00, 1735.37 examples/s]\n",
      "Applying chat template to eval dataset (num_proc=4): 100%|██████████| 80/80 [00:00<00:00, 482.62 examples/s]\n"
     ]
    }
   ],
   "source": [
    "wrapper.init_trainer()"
   ]
  },
  {
   "cell_type": "code",
   "execution_count": 22,
   "metadata": {},
   "outputs": [
    {
     "data": {
      "text/plain": [
       "Dataset({\n",
       "    features: ['input_ids'],\n",
       "    num_rows: 720\n",
       "})"
      ]
     },
     "execution_count": 22,
     "metadata": {},
     "output_type": "execute_result"
    }
   ],
   "source": [
    "wrapper.trainer.train_dataset"
   ]
  },
  {
   "cell_type": "code",
   "execution_count": 33,
   "metadata": {},
   "outputs": [
    {
     "name": "stderr",
     "output_type": "stream",
     "text": [
      "\u001b[32m2025-02-22 22:02:05.686\u001b[0m | \u001b[1mINFO    \u001b[0m | \u001b[36mtrl_wrapper.sft_trainer\u001b[0m:\u001b[36mevaluation_loop\u001b[0m:\u001b[36m90\u001b[0m - \u001b[1mGenerating samples...\u001b[0m\n",
      "\u001b[32m2025-02-22 22:02:05.687\u001b[0m | \u001b[1mINFO    \u001b[0m | \u001b[36mtrl_wrapper.sft_trainer\u001b[0m:\u001b[36mgenerate_from_model\u001b[0m:\u001b[36m56\u001b[0m - \u001b[1mGenerating policy samples, max length: 1024...\u001b[0m\n",
      "A decoder-only architecture is being used, but right-padding was detected! For correct generation results, please set `padding_side='left'` when initializing the tokenizer.\n",
      "\u001b[32m2025-02-22 22:02:05.926\u001b[0m | \u001b[1mINFO    \u001b[0m | \u001b[36mtrl_wrapper.sft_trainer\u001b[0m:\u001b[36mevaluation_loop\u001b[0m:\u001b[36m92\u001b[0m - \u001b[1mGenerated samples.\u001b[0m\n",
      "\u001b[32m2025-02-22 22:02:05.972\u001b[0m | \u001b[1mINFO    \u001b[0m | \u001b[36msynthetic_data.utils\u001b[0m:\u001b[36mlog_to_file\u001b[0m:\u001b[36m327\u001b[0m - \u001b[1mSaved eval samples.\u001b[0m\n"
     ]
    },
    {
     "name": "stdout",
     "output_type": "stream",
     "text": [
      "┌────────────────────────────────────────────────────┬────────────────────────────────────────────────────┬────────────────────────────────────────────────────┐\n",
      "│ prompt                                             │ ref                                                │ policy                                             │\n",
      "├────────────────────────────────────────────────────┼────────────────────────────────────────────────────┼────────────────────────────────────────────────────┤\n",
      "│ \\n<|start_header_id|>system<|end_header_id|>Cuttin │ \\n<|start_header_id|>system<|end_header_id|>Cuttin │ \\n<|start_header_id|>system<|end_header_id|>Cuttin │\n",
      "│ g Knowledge Date: December 2023Today Date: 22 Feb  │ g Knowledge Date: December 2023Today Date: 22 Feb  │ g Knowledge Date: December 2023Today Date: 22 Feb  │\n",
      "│ 2025<|eot_id|><|start_header_id|>user<|end_header_ │ 2025<|eot_id|><|start_header_id|>user<|end_header_ │ 2025<|eot_id|><|start_header_id|>user<|end_header_ │\n",
      "│ id|>Write a chapter set in Victorian England       │ id|>Write a chapter set in Victorian England       │ id|>Write a chapter set in Victorian England       │\n",
      "│ during the late 19th century. The story involves a │ during the late 19th century. The story involves a │ during the late 19th century. The story involves a │\n",
      "│ group of people gathered at a well-to-do suburban  │ group of people gathered at a well-to-do suburban  │ group of people gathered at a well-to-do suburban  │\n",
      "│ house for a pleasant social evening, hosted by Mr. │ house for a pleasant social evening, hosted by Mr. │ house for a pleasant social evening, hosted by Mr. │\n",
      "│ Withers, an intellectual and somewhat mysterious   │ Withers, an intellectual and somewhat mysterious   │ Withers, an intellectual and somewhat mysterious   │\n",
      "│ man. Among the guests are Miss Bellingham, a       │ man. Among the guests are Miss Bellingham, a       │ man. Among the guests are Miss Bellingham, a       │\n",
      "│ curious and sharp-witted young woman, and Mr.      │ curious and sharp-witted young woman, and Mr.      │ curious and sharp-witted young woman, and Mr.      │\n",
      "│ Clayton, a skeptical and rational gentleman. A     │ Clayton, a skeptical and rational gentleman. A     │ Clayton, a skeptical and rational gentleman. A     │\n",
      "│ lively discussion begins when Mr. Clayton, known   │ lively discussion begins when Mr. Clayton, known   │ lively discussion begins when Mr. Clayton, known   │\n",
      "│ for his scientific inclinations, shares a peculiar │ for his scientific inclinations, shares a peculiar │ for his scientific inclinations, shares a peculiar │\n",
      "│ anecdote about a strange and unexplainable         │ anecdote about a strange and unexplainable         │ anecdote about a strange and unexplainable         │\n",
      "│ experience he had recently, involving a            │ experience he had recently, involving a            │ experience he had recently, involving a            │\n",
      "│ supernatural or ghostly encounter. His account is  │ supernatural or ghostly encounter. His account is  │ supernatural or ghostly encounter. His account is  │\n",
      "│ met with a mixture of disbelief, intrigue, and     │ met with a mixture of disbelief, intrigue, and     │ met with a mixture of disbelief, intrigue, and     │\n",
      "│ some fear from the assembled group. The chapter    │ some fear from the assembled group. The chapter    │ some fear from the assembled group. The chapter    │\n",
      "│ revolves around Clayton's detailed narration of    │ revolves around Clayton's detailed narration of    │ revolves around Clayton's detailed narration of    │\n",
      "│ the event, the reactions of the other characters,  │ the event, the reactions of the other characters,  │ the event, the reactions of the other characters,  │\n",
      "│ and the tension between belief and skepticism as   │ and the tension between belief and skepticism as   │ and the tension between belief and skepticism as   │\n",
      "│ the eerie details unfold. The tone of the chapter  │ the eerie details unfold. The tone of the chapter  │ the eerie details unfold. The tone of the chapter  │\n",
      "│ should be slightly suspenseful, with elements of   │ should be slightly suspenseful, with elements of   │ should be slightly suspenseful, with elements of   │\n",
      "│ mystery and the supernatural, keeping the reader   │ mystery and the supernatural, keeping the reader   │ mystery and the supernatural, keeping the reader   │\n",
      "│ questioning the truth behind Clayton's story.<|eot │ questioning the truth behind Clayton's story.<|eot │ questioning the truth behind Clayton's story.<|eot │\n",
      "│ _id|><|start_header_id|>assistant<|end_header_id|> │ _id|><|start_header_id|>assistant<|end_header_id|> │ _id|><|start_header_id|>assistant<|end_header_id|> │\n",
      "│ **shopman**: All goods of the same quality, and    │ **shopman**: All goods of the same quality, and    │ **shopman**: All goods of the same quality, and    │\n",
      "│ that is the Best. Nothing in the place that isn't  │ that is the Best. Nothing in the place that isn't  │ that is the Best. Nothing in the place that isn't  │\n",
      "│ genuine Magic, and warranted thoroughly rum.       │ genuine Magic, and warranted thoroughly rum.       │ genuine Magic, and warranted thoroughly rum.       │\n",
      "│ Excuse me, sir!*I felt him pull at something that  │ Excuse me, sir!*I felt him pull at something that  │ Excuse me, sir!*I felt him pull at something that  │\n",
      "│ clung to my coat-sleeve, and then I saw he held a  │ clung to my coat-sleeve, and then I saw he held a  │ clung to my coat-sleeve, and then I saw he held a  │\n",
      "│ little, wriggling red demon by the tail--the       │ little, wriggling red demon by the tail--the       │ little, wriggling red demon by the tail--the       │\n",
      "│ little creature bit and fought and tried to get at │ little creature bit and fought and tried to get at │ little creature bit and fought and tried to get at │\n",
      "│ his hand--and in a moment he tossed it carelessly  │ his hand--and in a moment he tossed it carelessly  │ his hand--and in a moment he tossed it carelessly  │\n",
      "│ behind a counter.**I glanced at Gip, but Gip was   │ behind a counter.**I glanced at Gip, but Gip was   │ behind a counter.**I glanced at Gip, but Gip was   │\n",
      "│ looking at a magic rocking-horse. I was glad he    │ looking at a magic rocking-horse. I was glad he    │ looking at a magic rocking-horse. I was glad he    │\n",
      "│ hadn't seen the thing.***narrator**: I say, you    │ hadn't seen the thing.***narrator**: I say, you    │ hadn't seen the thing.***narrator**: I say, you    │\n",
      "│ haven't many things like THAT about, have          │ haven't many things like THAT about, have          │ haven't many things like THAT about, have          │\n",
      "│ you?**shopman**: None of ours! Probably brought it │ you?**shopman**: None of ours! Probably brought it │ you?**shopman**: None of ours! Probably brought it │\n",
      "│ with you. Astonishing what people WILL carry about │ with you. Astonishing what people WILL carry about │ with you. Astonishing what people WILL carry about │\n",
      "│ with them unawares!**shopman**: Do you see         │ with them unawares!**shopman**: Do you see         │ with them unawares!**shopman**: Do you see         │\n",
      "│ anything you fancy here?**Gip**: Is that a Magic   │ anything you fancy here?**Gip**: Is that a Magic   │ anything you fancy here?**Gip**: Is that a Magic   │\n",
      "│ Sword?**shopman**: A Magic Toy Sword. It neither   │ Sword?**shopman**: A Magic Toy Sword. It neither   │ Sword?**shopman**: A Magic Toy Sword. It neither   │\n",
      "│ bends, breaks, nor cuts the fingers. It renders    │ bends, breaks, nor cuts the fingers. It renders    │ bends, breaks, nor cuts the fingers. It renders    │\n",
      "│ the bearer invincible in battle against any one    │ the bearer invincible in battle against any one    │ the bearer invincible in battle against any one    │\n",
      "│ under eighteen. Half-a-crown to seven and          │ under eighteen. Half-a-crown to seven and          │ under eighteen. Half-a-crown to seven and          │\n",
      "│ sixpence, according to size. These panoplies on    │ sixpence, according to size. These panoplies on    │ sixpence, according to size. These panoplies on    │\n",
      "│ cards are for juvenile knights-errant and very     │ cards are for juvenile knights-errant and very     │ cards are for juvenile knights-errant and very     │\n",
      "│ useful--shield of safety, sandals of swiftness,    │ useful--shield of safety, sandals of swiftness,    │ useful--shield of safety, sandals of swiftness,    │\n",
      "│ helmet of invisibility.**Gip**: Oh, daddy!*I tried │ helmet of invisibility.**Gip**: Oh, daddy!*I tried │ helmet of invisibility.**Gip**: Oh, daddy!*I tried │\n",
      "│ to find out what they cost, but the shopman did    │ to find out what they cost, but the shopman did    │ to find out what they cost, but the shopman did    │\n",
      "│ not heed me. He had got Gip now; he had got him    │ not heed me. He had got Gip now; he had got him    │ not heed me. He had got Gip now; he had got him    │\n",
      "│ away from my finger; he had embarked upon the      │ away from my finger; he had embarked upon the      │ away from my finger; he had embarked upon the      │\n",
      "│ exposition of all his confounded stock, and        │ exposition of all his confounded stock, and        │ exposition of all his confounded stock, and        │\n",
      "│ nothing was going to stop him.**Presently I saw    │ nothing was going to stop him.**Presently I saw    │ nothing was going to stop him.**Presently I saw    │\n",
      "│ with a qualm of distrust and something very like   │ with a qualm of distrust and something very like   │ with a qualm of distrust and something very like   │\n",
      "│ jealousy that Gip had hold of this person's finger │ jealousy that Gip had hold of this person's finger │ jealousy that Gip had hold of this person's finger │\n",
      "│ as usually he has hold of mine.**I wandered after  │ as usually he has hold of mine.**I wandered after  │ as usually he has hold of mine.**I wandered after  │\n",
      "│ them, saying very little, but keeping an eye on    │ them, saying very little, but keeping an eye on    │ them, saying very little, but keeping an eye on    │\n",
      "│ this prestidigital fellow. After all, Gip was      │ this prestidigital fellow. After all, Gip was      │ this prestidigital fellow. After all, Gip was      │\n",
      "│ enjoying it. And no doubt when the time came to go │ enjoying it. And no doubt when the time came to go │ enjoying it. And no doubt when the time came to go │\n",
      "│ we should be able to go quite easily.**It was a    │ we should be able to go quite easily.**It was a    │ we should be able to go quite easily.**It was a    │\n",
      "│ long, rambling place, that show-room, a gallery    │ long, rambling place, that show-room, a gallery    │ long, rambling place, that show-room, a gallery    │\n",
      "│ broken up by stands and stalls and pillars, with   │ broken up by stands and stalls and pillars, with   │ broken up by stands and stalls and pillars, with   │\n",
      "│ archways leading off to other departments, in      │ archways leading off to other departments, in      │ archways leading off to other departments, in      │\n",
      "│ which the queerest-looking assistants loafed and   │ which the queerest-looking assistants loafed and   │ which the queerest-looking assistants loafed and   │\n",
      "│ stared at one, and with perplexing mirrors and     │ stared at one, and with perplexing mirrors and     │ stared at one, and with perplexing mirrors and     │\n",
      "│ curtains.***shopman**: You'll take that            │ curtains.***shopman**: You'll take that            │ curtains.***shopman**: You'll take that            │\n",
      "│ box?**narrator**: We'll take that box, unless you  │ box?**narrator**: We'll take that box, unless you  │ box?**narrator**: We'll take that box, unless you  │\n",
      "│ charge its full value. In which case it would need │ charge its full value. In which case it would need │ charge its full value. In which case it would need │\n",
      "│ a Trust Magnate--**shopman**: Dear heart! NO!*The  │ a Trust Magnate--**shopman**: Dear heart! NO!*The  │ a Trust Magnate--**shopman**: Dear heart! NO!*The  │\n",
      "│ shopman swept the little men back again, shut the  │ shopman swept the little men back again, shut the  │ shopman swept the little men back again, shut the  │\n",
      "│ lid, waved the box in the air, and there it was,   │ lid, waved the box in the air, and there it was,   │ lid, waved the box in the air, and there it was,   │\n",
      "│ in brown paper, tied up and--WITH GIP'S FULL NAME  │ in brown paper, tied up and--WITH GIP'S FULL NAME  │ in brown paper, tied up and--WITH GIP'S FULL NAME  │\n",
      "│ AND ADDRESS ON THE PAPER!***shopman**: This is the │ AND ADDRESS ON THE PAPER!***shopman**: This is the │ AND ADDRESS ON THE PAPER!***shopman**: This is the │\n",
      "│ genuine magic. The real thing.**narrator**: It's a │ genuine magic. The real thing.**narrator**: It's a │ genuine magic. The real thing.**narrator**: It's a │\n",
      "│ little too genuine for my taste.*After that he     │ little too genuine for my taste.*After that he     │ little too genuine for my taste.*After that he     │\n",
      "│ fell to showing Gip tricks, odd tricks, and still  │ fell to showing Gip tricks, odd tricks, and still  │ fell to showing Gip tricks, odd tricks, and still  │\n",
      "│ odder the way they were done. He explained them,   │ odder the way they were done. He explained them,   │ odder the way they were done. He explained them,   │\n",
      "│ he turned them inside out, and there was the dear  │ he turned them inside out, and there was the dear  │ he turned them inside out, and there was the dear  │\n",
      "│ little chap nodding his busy bit of a head in the  │ little chap nodding his busy bit of a head in the  │ little chap nodding his busy bit of a head in the  │\n",
      "│ sagest manner.***shopman**: Hey, presto!**Gip**:   │ sagest manner.***shopman**: Hey, presto!**Gip**:   │ sagest manner.***shopman**: Hey, presto!**Gip**:   │\n",
      "│ Hey, presto!*But I was distracted by other things. │ Hey, presto!*But I was distracted by other things. │ Hey, presto!*But I was distracted by other things. │\n",
      "│ It was being borne in upon me just how             │ It was being borne in upon me just how             │ It was being borne in upon me just how             │\n",
      "│ tremendously rum this place was; it was, so to     │ tremendously rum this place was; it was, so to     │ tremendously rum this place was; it was, so to     │\n",
      "│ speak, inundated by a sense of rumness.**I had a   │ speak, inundated by a sense of rumness.**I had a   │ speak, inundated by a sense of rumness.**I had a   │\n",
      "│ queer feeling that whenever I wasn't looking at    │ queer feeling that whenever I wasn't looking at    │ queer feeling that whenever I wasn't looking at    │\n",
      "│ them straight they went askew, and moved about,    │ them straight they went askew, and moved about,    │ them straight they went askew, and moved about,    │\n",
      "│ and played a noiseless puss-in-the-corner behind   │ and played a noiseless puss-in-the-corner behind   │ and played a noiseless puss-in-the-corner behind   │\n",
      "│ my back.**And the cornice had a serpentine design  │ my back.**And the cornice had a serpentine design  │ my back.**And the cornice had a serpentine design  │\n",
      "│ with masks--masks altogether too expressive for    │ with masks--masks altogether too expressive for    │ with masks--masks altogether too expressive for    │\n",
      "│ proper plaster.*<|eot_id|>                         │ proper plaster.*<|eot_id|>                         │ proper plaster.*<|eot_id|>                         │\n",
      "├────────────────────────────────────────────────────┼────────────────────────────────────────────────────┼────────────────────────────────────────────────────┤\n",
      "│ \\n<|start_header_id|>system<|end_header_id|>Cuttin │ \\n<|start_header_id|>system<|end_header_id|>Cuttin │ \\n<|start_header_id|>system<|end_header_id|>Cuttin │\n",
      "│ g Knowledge Date: December 2023Today Date: 22 Feb  │ g Knowledge Date: December 2023Today Date: 22 Feb  │ g Knowledge Date: December 2023Today Date: 22 Feb  │\n",
      "│ 2025<|eot_id|><|start_header_id|>user<|end_header_ │ 2025<|eot_id|><|start_header_id|>user<|end_header_ │ 2025<|eot_id|><|start_header_id|>user<|end_header_ │\n",
      "│ id|>Write a dramatic, 19th-century style chapter   │ id|>Write a dramatic, 19th-century style chapter   │ id|>Write a dramatic, 19th-century style chapter   │\n",
      "│ set in a grand, isolated manor in the English      │ set in a grand, isolated manor in the English      │ set in a grand, isolated manor in the English      │\n",
      "│ countryside during the Victorian era. The chapter  │ countryside during the Victorian era. The chapter  │ countryside during the Victorian era. The chapter  │\n",
      "│ focuses on a tense and emotional confrontation     │ focuses on a tense and emotional confrontation     │ focuses on a tense and emotional confrontation     │\n",
      "│ between Lady Viola, a young woman of noble birth,  │ between Lady Viola, a young woman of noble birth,  │ between Lady Viola, a young woman of noble birth,  │\n",
      "│ and Sir Harold, a brooding and conflicted suitor   │ and Sir Harold, a brooding and conflicted suitor   │ and Sir Harold, a brooding and conflicted suitor   │\n",
      "│ who has recently returned from abroad. Lady Viola, │ who has recently returned from abroad. Lady Viola, │ who has recently returned from abroad. Lady Viola, │\n",
      "│ feeling deeply betrayed and heartbroken by Sir     │ feeling deeply betrayed and heartbroken by Sir     │ feeling deeply betrayed and heartbroken by Sir     │\n",
      "│ Harold's past actions, confronts him in the        │ Harold's past actions, confronts him in the        │ Harold's past actions, confronts him in the        │\n",
      "│ drawing-room, where the fire crackles ominously in │ drawing-room, where the fire crackles ominously in │ drawing-room, where the fire crackles ominously in │\n",
      "│ the hearth. The dialogue is filled with            │ the hearth. The dialogue is filled with            │ the hearth. The dialogue is filled with            │\n",
      "│ passionate, intense emotion as they speak in high, │ passionate, intense emotion as they speak in high, │ passionate, intense emotion as they speak in high, │\n",
      "│ formal language about love, betrayal, and the      │ formal language about love, betrayal, and the      │ formal language about love, betrayal, and the      │\n",
      "│ possibility of forgiveness. Descriptions of the    │ possibility of forgiveness. Descriptions of the    │ possibility of forgiveness. Descriptions of the    │\n",
      "│ dark, moody atmosphere of the manor and the storm  │ dark, moody atmosphere of the manor and the storm  │ dark, moody atmosphere of the manor and the storm  │\n",
      "│ brewing outside the windows add to the tension.    │ brewing outside the windows add to the tension.    │ brewing outside the windows add to the tension.    │\n",
      "│ Nearby, the elderly matron, Aunt Gertrude, listens │ Nearby, the elderly matron, Aunt Gertrude, listens │ Nearby, the elderly matron, Aunt Gertrude, listens │\n",
      "│ quietly from behind a door, her own tragic         │ quietly from behind a door, her own tragic         │ quietly from behind a door, her own tragic         │\n",
      "│ romantic history adding layers to the conflict.    │ romantic history adding layers to the conflict.    │ romantic history adding layers to the conflict.    │\n",
      "│ The confrontation should leave the future of their │ The confrontation should leave the future of their │ The confrontation should leave the future of their │\n",
      "│ relationship in doubt, hanging on the edge of      │ relationship in doubt, hanging on the edge of      │ relationship in doubt, hanging on the edge of      │\n",
      "│ vulnerability and unspoken longing.<|eot_id|><|sta │ vulnerability and unspoken longing.<|eot_id|><|sta │ vulnerability and unspoken longing.<|eot_id|><|sta │\n",
      "│ rt_header_id|>assistant<|end_header_id|>**Rothsay* │ rt_header_id|>assistant<|end_header_id|>**Rothsay* │ rt_header_id|>assistant<|end_header_id|>**Rothsay* │\n",
      "│ *: Tell me, dear, of all that has befallen you in  │ *: Tell me, dear, of all that has befallen you in  │ *: Tell me, dear, of all that has befallen you in  │\n",
      "│ these dark years that have parted us. Tell me of   │ these dark years that have parted us. Tell me of   │ these dark years that have parted us. Tell me of   │\n",
      "│ your grandparents. Do they still live?**Corona**:  │ your grandparents. Do they still live?**Corona**:  │ your grandparents. Do they still live?**Corona**:  │\n",
      "│ Ah, no!*And then she entered upon the family       │ Ah, no!*And then she entered upon the family       │ Ah, no!*And then she entered upon the family       │\n",
      "│ history of the last four years and four months,    │ history of the last four years and four months,    │ history of the last four years and four months,    │\n",
      "│ since Rule had disappeared, and told him of the    │ since Rule had disappeared, and told him of the    │ since Rule had disappeared, and told him of the    │\n",
      "│ sudden death of her dear old grandmother on the    │ sudden death of her dear old grandmother on the    │ sudden death of her dear old grandmother on the    │\n",
      "│ very day on which the false report of Rothsay's    │ very day on which the false report of Rothsay's    │ very day on which the false report of Rothsay's    │\n",
      "│ murder reached them.***Corona**: Of her Uncle      │ murder reached them.***Corona**: Of her Uncle      │ murder reached them.***Corona**: Of her Uncle      │\n",
      "│ Fabian's marriage to Violet Wood a year later. Of  │ Fabian's marriage to Violet Wood a year later. Of  │ Fabian's marriage to Violet Wood a year later. Of  │\n",
      "│ her widowed grandfather's second marriage to Mrs.  │ her widowed grandfather's second marriage to Mrs.  │ her widowed grandfather's second marriage to Mrs.  │\n",
      "│ Stillwater, whom Rothsay had known in his          │ Stillwater, whom Rothsay had known in his          │ Stillwater, whom Rothsay had known in his          │\n",
      "│ childhood as Miss Rose Flowers. Of the recent      │ childhood as Miss Rose Flowers. Of the recent      │ childhood as Miss Rose Flowers. Of the recent      │\n",
      "│ death of this second wife, followed very soon      │ death of this second wife, followed very soon      │ death of this second wife, followed very soon      │\n",
      "│ after by that of the aged widower.**Corona**: And  │ after by that of the aged widower.**Corona**: And  │ after by that of the aged widower.**Corona**: And  │\n",
      "│ finally she told him of her own resolution to      │ finally she told him of her own resolution to      │ finally she told him of her own resolution to      │\n",
      "│ follow her brother Sylvan to his post of duty at   │ follow her brother Sylvan to his post of duty at   │ follow her brother Sylvan to his post of duty at   │\n",
      "│ Fort Farthermost, to open a mission home school    │ Fort Farthermost, to open a mission home school    │ Fort Farthermost, to open a mission home school    │\n",
      "│ for Indian children, and to devote her life and    │ for Indian children, and to devote her life and    │ for Indian children, and to devote her life and    │\n",
      "│ fortune to their service; and of the good          │ fortune to their service; and of the good          │ fortune to their service; and of the good          │\n",
      "│ opportunity offered her by the kindness of Colonel │ opportunity offered her by the kindness of Colonel │ opportunity offered her by the kindness of Colonel │\n",
      "│ Z. in procuring for her the escort of Captain and  │ Z. in procuring for her the escort of Captain and  │ Z. in procuring for her the escort of Captain and  │\n",
      "│ Mrs. Neville, who were on their way to Farthermost │ Mrs. Neville, who were on their way to Farthermost │ Mrs. Neville, who were on their way to Farthermost │\n",
      "│ with a party of recruits.**Rothsay**: And          │ with a party of recruits.**Rothsay**: And          │ with a party of recruits.**Rothsay**: And          │\n",
      "│ Clarence? How came he to be of the                 │ Clarence? How came he to be of the                 │ Clarence? How came he to be of the                 │\n",
      "│ company?**Corona**: Uncle Clarence could not agree │ company?**Corona**: Uncle Clarence could not agree │ company?**Corona**: Uncle Clarence could not agree │\n",
      "│ with Uncle Fabian in business policy. So they      │ with Uncle Fabian in business policy. So they      │ with Uncle Fabian in business policy. So they      │\n",
      "│ dissolved partnership very amicably and with       │ dissolved partnership very amicably and with       │ dissolved partnership very amicably and with       │\n",
      "│ mutual satisfaction. This was after I had left     │ mutual satisfaction. This was after I had left     │ mutual satisfaction. This was after I had left     │\n",
      "│ Rockhold. Clarence gathered up his wealth, brought │ Rockhold. Clarence gathered up his wealth, brought │ Rockhold. Clarence gathered up his wealth, brought │\n",
      "│ three devoted servants with him, and set out to    │ three devoted servants with him, and set out to    │ three devoted servants with him, and set out to    │\n",
      "│ follow me. At St. Louis he purchased wagons,       │ follow me. At St. Louis he purchased wagons,       │ follow me. At St. Louis he purchased wagons,       │\n",
      "│ tents, horses, mules, and every convenience for    │ tents, horses, mules, and every convenience for    │ tents, horses, mules, and every convenience for    │\n",
      "│ crossing the plains. He overtook and surprised us  │ crossing the plains. He overtook and surprised us  │ crossing the plains. He overtook and surprised us  │\n",
      "│ at Fort Leavenworth on the very day of our         │ at Fort Leavenworth on the very day of our         │ at Fort Leavenworth on the very day of our         │\n",
      "│ intended departure for Farthermost.**Rothsay**:    │ intended departure for Farthermost.**Rothsay**:    │ intended departure for Farthermost.**Rothsay**:    │\n",
      "│ Clarence came for your sake.**Corona**: Yes; and   │ Clarence came for your sake.**Corona**: Yes; and   │ Clarence came for your sake.**Corona**: Yes; and   │\n",
      "│ he has enjoyed the journey. On the free prairie he │ he has enjoyed the journey. On the free prairie he │ he has enjoyed the journey. On the free prairie he │\n",
      "│ has been like a boy out of school--so buoyant, so  │ has been like a boy out of school--so buoyant, so  │ has been like a boy out of school--so buoyant, so  │\n",
      "│ joyous--the life of the whole company.**Rothsay**: │ joyous--the life of the whole company.**Rothsay**: │ joyous--the life of the whole company.**Rothsay**: │\n",
      "│ What will he do now?**Corona**: I think he will go │ What will he do now?**Corona**: I think he will go │ What will he do now?**Corona**: I think he will go │\n",
      "│ on to Farthermost for this season. After this I do │ on to Farthermost for this season. After this I do │ on to Farthermost for this season. After this I do │\n",
      "│ not know what he will do or where he will          │ not know what he will do or where he will          │ not know what he will do or where he will          │\n",
      "│ go.**Rothsay**: He will remain in this quarter,    │ go.**Rothsay**: He will remain in this quarter,    │ go.**Rothsay**: He will remain in this quarter,    │\n",
      "│ which offers a grand field for a man like Clarence │ which offers a grand field for a man like Clarence │ which offers a grand field for a man like Clarence │\n",
      "│ Rockharrt.**Corona**: I should think it might--in  │ Rockharrt.**Corona**: I should think it might--in  │ Rockharrt.**Corona**: I should think it might--in  │\n",
      "│ the future.**Rothsay**: In the near future. The    │ the future.**Rothsay**: In the near future. The    │ the future.**Rothsay**: In the near future. The    │\n",
      "│ tide of emigration is pouring into this section so │ tide of emigration is pouring into this section so │ tide of emigration is pouring into this section so │\n",
      "│ fast that very soon the ground will be disputed    │ fast that very soon the ground will be disputed    │ fast that very soon the ground will be disputed    │\n",
      "│ with the Mexican government, and true men and      │ with the Mexican government, and true men and      │ with the Mexican government, and true men and      │\n",
      "│ brave men will be much wanted here.**Corona**:     │ brave men will be much wanted here.**Corona**:     │ brave men will be much wanted here.**Corona**:     │\n",
      "│ Yes, but tell me of yourself, Rule. I long to hear │ Yes, but tell me of yourself, Rule. I long to hear │ Yes, but tell me of yourself, Rule. I long to hear │\n",
      "│ you talk of yourself.*Rothsay was no egotist. He   │ you talk of yourself.*Rothsay was no egotist. He   │ you talk of yourself.*Rothsay was no egotist. He   │\n",
      "│ never had been addicted to speaking of himself or  │ never had been addicted to speaking of himself or  │ never had been addicted to speaking of himself or  │\n",
      "│ of his feelings. Now, at her urgent request, he    │ of his feelings. Now, at her urgent request, he    │ of his feelings. Now, at her urgent request, he    │\n",
      "│ told her in brief how he had renounced all his     │ told her in brief how he had renounced all his     │ told her in brief how he had renounced all his     │\n",
      "│ honors in the country for the sake of the woman    │ honors in the country for the sake of the woman    │ honors in the country for the sake of the woman    │\n",
      "│ for whose sake, also, he had first striven to win  │ for whose sake, also, he had first striven to win  │ for whose sake, also, he had first striven to win  │\n",
      "│ them and had won them.***Rothsay**: Dear, from the │ them and had won them.***Rothsay**: Dear, from the │ them and had won them.***Rothsay**: Dear, from the │\n",
      "│ time you first noticed me, when you were a sweet   │ time you first noticed me, when you were a sweet   │ time you first noticed me, when you were a sweet   │\n",
      "│ child of seven summers and I a boy of twelve--yes, │ child of seven summers and I a boy of twelve--yes, │ child of seven summers and I a boy of twelve--yes, │\n",
      "│ winters--for while all your years had been         │ winters--for while all your years had been         │ winters--for while all your years had been         │\n",
      "│ summers, dear--summers of love, shelter, comfort,  │ summers, dear--summers of love, shelter, comfort,  │ summers, dear--summers of love, shelter, comfort,  │\n",
      "│ luxury--all my years had been winters of loss,     │ luxury--all my years had been winters of loss,     │ luxury--all my years had been winters of loss,     │\n",
      "│ want, orphanage, and destitution--you were my      │ want, orphanage, and destitution--you were my      │ want, orphanage, and destitution--you were my      │\n",
      "│ help, support, inspiration. I longed to be worthy  │ help, support, inspiration. I longed to be worthy  │ help, support, inspiration. I longed to be worthy  │\n",
      "│ of your friendship, your interest, your sympathy.  │ of your friendship, your interest, your sympathy.  │ of your friendship, your interest, your sympathy.  │\n",
      "│ And for all these things I toiled, endured, and    │ And for all these things I toiled, endured, and    │ And for all these things I toiled, endured, and    │\n",
      "│ struggled.**Corona**: I know! Oh, I                │ struggled.**Corona**: I know! Oh, I                │ struggled.**Corona**: I know! Oh, I                │\n",
      "│ know!**Rothsay**: Yes, dear, you know it all. For  │ know!**Rothsay**: Yes, dear, you know it all. For  │ know!**Rothsay**: Yes, dear, you know it all. For  │\n",
      "│ who but you were with me in the spirit through all │ who but you were with me in the spirit through all │ who but you were with me in the spirit through all │\n",
      "│ the struggle, helping, supporting, encouraging,    │ the struggle, helping, supporting, encouraging,    │ the struggle, helping, supporting, encouraging,    │\n",
      "│ until you seemed to me my muse, my soul, my inner  │ until you seemed to me my muse, my soul, my inner  │ until you seemed to me my muse, my soul, my inner  │\n",
      "│ and purer and higher self. Dear, I wronged you     │ and purer and higher self. Dear, I wronged you     │ and purer and higher self. Dear, I wronged you     │\n",
      "│ when I connected your love with this world's       │ when I connected your love with this world's       │ when I connected your love with this world's       │\n",
      "│ pride. I wronged you bitterly, and I have suffered │ pride. I wronged you bitterly, and I have suffered │ pride. I wronged you bitterly, and I have suffered │\n",
      "│ for it and made you suffer--**Corona**: Oh, no,    │ for it and made you suffer--**Corona**: Oh, no,    │ for it and made you suffer--**Corona**: Oh, no,    │\n",
      "│ no, no, Rule! The fault was all my own! I am not   │ no, no, Rule! The fault was all my own! I am not   │ no, no, Rule! The fault was all my own! I am not   │\n",
      "│ so good and wise as you!**Rothsay**: Hush, dear!   │ so good and wise as you!**Rothsay**: Hush, dear!   │ so good and wise as you!**Rothsay**: Hush, dear!   │\n",
      "│ Hush! Hear me out!**Corona**: Well, go on, but     │ Hush! Hear me out!**Corona**: Well, go on, but     │ Hush! Hear me out!**Corona**: Well, go on, but     │\n",
      "│ don't blame yourself. Oh, '_chevalier sans peur et │ don't blame yourself. Oh, '_chevalier sans peur et │ don't blame yourself. Oh, '_chevalier sans peur et │\n",
      "│ sans reproche_','**Rothsay**: When I had reached a │ sans reproche_','**Rothsay**: When I had reached a │ sans reproche_','**Rothsay**: When I had reached a │\n",
      "│ position in this world's honor to which I dared to │ position in this world's honor to which I dared to │ position in this world's honor to which I dared to │\n",
      "│ invite you, then I laid my victory at your feet    │ invite you, then I laid my victory at your feet    │ invite you, then I laid my victory at your feet    │\n",
      "│ and prayed you to share it. And, Corona, when the  │ and prayed you to share it. And, Corona, when the  │ and prayed you to share it. And, Corona, when the  │\n",
      "│ bishop had blessed our nuptials, I dreamed that we │ bishop had blessed our nuptials, I dreamed that we │ bishop had blessed our nuptials, I dreamed that we │\n",
      "│ were blessed indeed. You know, dear, what a        │ were blessed indeed. You know, dear, what a        │ were blessed indeed. You know, dear, what a        │\n",
      "│ miserable awakening I had from that dream on the   │ miserable awakening I had from that dream on the   │ miserable awakening I had from that dream on the   │\n",
      "│ evening of our wedding day.<|eot_id|>              │ evening of our wedding day.<|eot_id|>              │ evening of our wedding day.<|eot_id|>              │\n",
      "└────────────────────────────────────────────────────┴────────────────────────────────────────────────────┴────────────────────────────────────────────────────┘\n"
     ]
    },
    {
     "data": {
      "text/plain": [
       "{'eval_loss': 3.037513256072998,\n",
       " 'eval_model_preparation_time': 0.0029,\n",
       " 'eval_runtime': 2.655,\n",
       " 'eval_samples_per_second': 30.132,\n",
       " 'eval_steps_per_second': 15.066}"
      ]
     },
     "execution_count": 33,
     "metadata": {},
     "output_type": "execute_result"
    }
   ],
   "source": [
    "wrapper.trainer.evaluate()"
   ]
  },
  {
   "cell_type": "code",
   "execution_count": null,
   "metadata": {},
   "outputs": [],
   "source": [
    "wrapper.train()"
   ]
  }
 ],
 "metadata": {
  "kernelspec": {
   "display_name": ".venv",
   "language": "python",
   "name": "python3"
  },
  "language_info": {
   "codemirror_mode": {
    "name": "ipython",
    "version": 3
   },
   "file_extension": ".py",
   "mimetype": "text/x-python",
   "name": "python",
   "nbconvert_exporter": "python",
   "pygments_lexer": "ipython3",
   "version": "3.11.10"
  }
 },
 "nbformat": 4,
 "nbformat_minor": 2
}
