{
 "cells": [
  {
   "cell_type": "code",
   "execution_count": null,
   "metadata": {},
   "outputs": [],
   "source": [
    "import sys\n",
    "\n",
    "sys.path.append(\"..\")\n",
    "%load_ext autoreload\n",
    "%autoreload 2\n",
    "from trl_wrapper.trainer_wrapper import TrainerWrapper, GUTENBERG_CONFIG, GUTENBERG_DPO_CONFIG, SMOL_LM_135M"
   ]
  },
  {
   "cell_type": "code",
   "execution_count": null,
   "metadata": {},
   "outputs": [],
   "source": [
    "cfg = GUTENBERG_CONFIG\n",
    "cfg.notebook_mode = True\n",
    "cfg.model_id_or_path = SMOL_LM_135M\n",
    "cfg.max_samples = 800\n",
    "cfg.eval_steps = 5\n",
    "cfg.eval_data_mode = \"fixed\"\n",
    "wrapper = TrainerWrapper(cfg)"
   ]
  },
  {
   "cell_type": "code",
   "execution_count": 4,
   "metadata": {},
   "outputs": [
    {
     "name": "stderr",
     "output_type": "stream",
     "text": [
      "\u001b[32m2025-02-22 22:37:23.466\u001b[0m | \u001b[1mINFO    \u001b[0m | \u001b[36mtrl_wrapper.trainer_wrapper\u001b[0m:\u001b[36minit_model\u001b[0m:\u001b[36m295\u001b[0m - \u001b[1mLoading model HuggingFaceTB/SmolLM2-135M-Instruct with attn_impl: flash_attention_2\u001b[0m\n"
     ]
    }
   ],
   "source": [
    "wrapper.init_model()"
   ]
  },
  {
   "cell_type": "code",
   "execution_count": 7,
   "metadata": {},
   "outputs": [
    {
     "name": "stderr",
     "output_type": "stream",
     "text": [
      "\u001b[32m2025-02-22 22:42:14.727\u001b[0m | \u001b[1mINFO    \u001b[0m | \u001b[36mtrl_wrapper.trainer_wrapper\u001b[0m:\u001b[36minit_data_module\u001b[0m:\u001b[36m316\u001b[0m - \u001b[1mUsing dataset path: dataset_files/gutenberg_conversations.parquet\u001b[0m\n",
      "\u001b[32m2025-02-22 22:42:14.729\u001b[0m | \u001b[1mINFO    \u001b[0m | \u001b[36mmodel.utils\u001b[0m:\u001b[36m__init__\u001b[0m:\u001b[36m118\u001b[0m - \u001b[1mCache dir: ../dataset_caches/conversation_data_module\u001b[0m\n",
      "\u001b[32m2025-02-22 22:42:14.729\u001b[0m | \u001b[1mINFO    \u001b[0m | \u001b[36mmodel.utils\u001b[0m:\u001b[36msetup\u001b[0m:\u001b[36m159\u001b[0m - \u001b[1mLoading dataset for stage fit\u001b[0m\n",
      "\u001b[32m2025-02-22 22:42:14.730\u001b[0m | \u001b[1mINFO    \u001b[0m | \u001b[36mmodel.utils\u001b[0m:\u001b[36msetup\u001b[0m:\u001b[36m162\u001b[0m - \u001b[1mProcessing dataset for stage fit, workers: 1, cache dir ../dataset_caches/conversation_data_module, using cache: False\u001b[0m\n",
      "\u001b[32m2025-02-22 22:42:14.731\u001b[0m | \u001b[1mINFO    \u001b[0m | \u001b[36mmodel.utils\u001b[0m:\u001b[36minit_dataset\u001b[0m:\u001b[36m134\u001b[0m - \u001b[1mLoading local dataset from ../dataset_files/gutenberg_conversations.parquet\u001b[0m\n",
      "\u001b[32m2025-02-22 22:42:14.742\u001b[0m | \u001b[1mINFO    \u001b[0m | \u001b[36mmodel.utils\u001b[0m:\u001b[36minit_dataset\u001b[0m:\u001b[36m144\u001b[0m - \u001b[1mSelecting 800 samples\u001b[0m\n",
      "\u001b[32m2025-02-22 22:42:14.759\u001b[0m | \u001b[1mINFO    \u001b[0m | \u001b[36mmodel.utils\u001b[0m:\u001b[36minit_dataset\u001b[0m:\u001b[36m154\u001b[0m - \u001b[1mLoading custom chat template: ../chat_templates/llama3.jinja\u001b[0m\n",
      "\u001b[32m2025-02-22 22:42:14.760\u001b[0m | \u001b[1mINFO    \u001b[0m | \u001b[36mmodel.utils\u001b[0m:\u001b[36msetup\u001b[0m:\u001b[36m171\u001b[0m - \u001b[1mTrain dataset samples: 720 Val dataset samples: 80 Train steps per epoch: 90\u001b[0m\n"
     ]
    },
    {
     "name": "stdout",
     "output_type": "stream",
     "text": [
      "DatasetConfig(batch_size=8, max_sequence_length=1512, tuning_mode='sft', using_mistral=False, notebook_mode=True, input_dataset_name='dataset_files/gutenberg_conversations.parquet', max_samples=800, custom_chat_template='llama3', train_on_inputs=False)\n"
     ]
    },
    {
     "name": "stderr",
     "output_type": "stream",
     "text": [
      "Map: 100%|██████████| 720/720 [00:00<00:00, 766.88 examples/s]\n",
      "Map: 100%|██████████| 80/80 [00:00<00:00, 670.87 examples/s]"
     ]
    },
    {
     "name": "stdout",
     "output_type": "stream",
     "text": [
      "['input_ids', 'attention_mask', 'assistant_mask', 'labels']\n"
     ]
    },
    {
     "name": "stderr",
     "output_type": "stream",
     "text": [
      "\n"
     ]
    }
   ],
   "source": [
    "wrapper.init_data_module()"
   ]
  },
  {
   "cell_type": "code",
   "execution_count": 8,
   "metadata": {},
   "outputs": [
    {
     "data": {
      "text/plain": [
       "Dataset({\n",
       "    features: ['input_ids', 'attention_mask', 'assistant_mask', 'labels'],\n",
       "    num_rows: 720\n",
       "})"
      ]
     },
     "execution_count": 8,
     "metadata": {},
     "output_type": "execute_result"
    }
   ],
   "source": [
    "wrapper.data_module.train_dataset"
   ]
  },
  {
   "cell_type": "code",
   "execution_count": 37,
   "metadata": {},
   "outputs": [
    {
     "name": "stderr",
     "output_type": "stream",
     "text": [
      "\u001b[32m2025-02-22 22:50:29.356\u001b[0m | \u001b[1mINFO    \u001b[0m | \u001b[36mtrl_wrapper.trainer_wrapper\u001b[0m:\u001b[36minit_trainer\u001b[0m:\u001b[36m361\u001b[0m - \u001b[1mSaving output to: ./runs/02-22-22-50-390448-smollm2-135m-instruct--gutenberg-conv\u001b[0m\n",
      "\u001b[32m2025-02-22 22:50:29.359\u001b[0m | \u001b[1mINFO    \u001b[0m | \u001b[36mtrl_wrapper.trainer_wrapper\u001b[0m:\u001b[36minit_trainer\u001b[0m:\u001b[36m384\u001b[0m - \u001b[1mInitializing trainer, run_name: 02-22-22-50-390448-smollm2-135m-instruct--gutenberg-conv, wandb project: gutenberg\u001b[0m\n",
      "/home/brianf/smolmodels/notebooks/../trl_wrapper/trainer_wrapper.py:449: FutureWarning: `tokenizer` is deprecated and removed starting from version 0.16.0 for `CustomSFTTrainer.__init__`. Use `processing_class` instead.\n",
      "  self.trainer = CustomSFTTrainer(\n"
     ]
    }
   ],
   "source": [
    "wrapper.init_trainer()"
   ]
  },
  {
   "cell_type": "code",
   "execution_count": 17,
   "metadata": {},
   "outputs": [
    {
     "data": {
      "text/plain": [
       "Dataset({\n",
       "    features: ['input_ids', 'attention_mask', 'assistant_mask', 'labels'],\n",
       "    num_rows: 80\n",
       "})"
      ]
     },
     "execution_count": 17,
     "metadata": {},
     "output_type": "execute_result"
    }
   ],
   "source": [
    "wrapper.trainer.eval_dataset"
   ]
  },
  {
   "cell_type": "code",
   "execution_count": null,
   "metadata": {},
   "outputs": [
    {
     "data": {
      "text/plain": [
       "Dataset({\n",
       "    features: ['input_ids', 'attention_mask', 'assistant_mask', 'labels'],\n",
       "    num_rows: 80\n",
       "})"
      ]
     },
     "execution_count": 28,
     "metadata": {},
     "output_type": "execute_result"
    }
   ],
   "source": [
    "wrapper.trainer.get_eval_dataloader()"
   ]
  },
  {
   "cell_type": "code",
   "execution_count": 45,
   "metadata": {},
   "outputs": [
    {
     "name": "stderr",
     "output_type": "stream",
     "text": [
      "\u001b[32m2025-02-22 22:52:31.641\u001b[0m | \u001b[1mINFO    \u001b[0m | \u001b[36mtrl_wrapper.sft_trainer\u001b[0m:\u001b[36mevaluation_loop\u001b[0m:\u001b[36m94\u001b[0m - \u001b[1mGenerating samples...\u001b[0m\n",
      "\u001b[32m2025-02-22 22:52:31.648\u001b[0m | \u001b[1mINFO    \u001b[0m | \u001b[36mtrl_wrapper.sft_trainer\u001b[0m:\u001b[36mgenerate_from_model\u001b[0m:\u001b[36m59\u001b[0m - \u001b[1mGenerating policy samples, max length: 1024...\u001b[0m\n",
      "A decoder-only architecture is being used, but right-padding was detected! For correct generation results, please set `padding_side='left'` when initializing the tokenizer.\n"
     ]
    },
    {
     "name": "stdout",
     "output_type": "stream",
     "text": [
      "dict_keys(['input_ids', 'attention_mask', 'assistant_mask', 'labels'])\n"
     ]
    },
    {
     "name": "stderr",
     "output_type": "stream",
     "text": [
      "The input hidden states seems to be silently casted in float32, this might be related to the fact you have upcasted embedding or layer norm layers in float32. We will cast back the input in torch.float16.\n",
      "\u001b[32m2025-02-22 22:52:51.734\u001b[0m | \u001b[1mINFO    \u001b[0m | \u001b[36mtrl_wrapper.sft_trainer\u001b[0m:\u001b[36mevaluation_loop\u001b[0m:\u001b[36m119\u001b[0m - \u001b[1mGenerated samples.\u001b[0m\n",
      "\u001b[32m2025-02-22 22:52:51.802\u001b[0m | \u001b[1mINFO    \u001b[0m | \u001b[36msynthetic_data.utils\u001b[0m:\u001b[36mlog_to_file\u001b[0m:\u001b[36m327\u001b[0m - \u001b[1mSaved eval samples.\u001b[0m\n"
     ]
    },
    {
     "name": "stdout",
     "output_type": "stream",
     "text": [
      "┌────────────────────────────────────────────────────┬────────────────────────────────────────────────────┬────────────────────────────────────────────────────┐\n",
      "│ prompt                                             │ ref                                                │ policy                                             │\n",
      "├────────────────────────────────────────────────────┼────────────────────────────────────────────────────┼────────────────────────────────────────────────────┤\n",
      "│ \\n<|start_header_id|>system<|end_header_id|>Cuttin │ A crowd gathered around the chateau door.**Young   │ \\n<|start_header_id|>system<|end_header_id|>Cuttin │\n",
      "│ g Knowledge Date: December 2023Today Date: 22 Feb  │ man**: \"You know my father,\" said the young man    │ g Knowledge Date: December 2023Today Date: 22 Feb  │\n",
      "│ 2025<|eot_id|><|start_header_id|>user<|end_header_ │ with a shrug of his shoulders.**Young man**: \"He   │ 2025<|eot_id|><|start_header_id|>user<|end_header_ │\n",
      "│ id|>Set in late 17th-century France during the     │ will have it that he has never left his Norman     │ id|>Set in late 17th-century France during the     │\n",
      "│ reign of Louis XIV, the chapter takes place in and │ castle, and that he is still the Seigneur de la    │ reign of Louis XIV, the chapter takes place in and │\n",
      "│ around the royal palace at Versailles, where the   │ Noue, the greatest man within a day's ride of      │ around the royal palace at Versailles, where the   │\n",
      "│ grandeur of the court masks underlying intrigue,   │ Rouen, and of the richest blood of Normandy. He is │ grandeur of the court masks underlying intrigue,   │\n",
      "│ ambition, and religious tension. The main          │ now taking his dues and his yearly oaths from his  │ ambition, and religious tension. The main          │\n",
      "│ characters include a nobleman loyal to the crown   │ tenants, and he would not think it becoming, if    │ characters include a nobleman loyal to the crown   │\n",
      "│ who must navigate the dangerous waters of royal    │ the governor himself were to visit him, to pause   │ who must navigate the dangerous waters of royal    │\n",
      "│ favor and disdain, a cunning and politically       │ in the middle of so august a ceremony. But if it   │ favor and disdain, a cunning and politically       │\n",
      "│ astute courtier seeking to advance their own       │ would interest you, you may step this way and wait │ astute courtier seeking to advance their own       │\n",
      "│ position, and a devout but conflicted clergyman    │ until he has finished. You, madame, I will take at │ position, and a devout but conflicted clergyman    │\n",
      "│ grappling with the conflict between faith and      │ once to my mother, if you will be so kind as to    │ grappling with the conflict between faith and      │\n",
      "│ power. The tone is suspenseful and tense, filled   │ follow me.\"*A triple row of men, women, and        │ power. The tone is suspenseful and tense, filled   │\n",
      "│ with descriptive dialogue and vivid depictions of  │ children stood round in a semicircle, awed into an │ with descriptive dialogue and vivid depictions of  │\n",
      "│ the opulence and hypocrisy within the palace.      │ unusual quiet.**In the centre, on his high-backed  │ the opulence and hypocrisy within the palace.      │\n",
      "│ Themes of loyalty, deception, and religious        │ carved chair, there sat an elderly man very stiff  │ Themes of loyalty, deception, and religious        │\n",
      "│ pressure loom large, as the characters wrestle     │ and erect, with an exceedingly solemn face.***Old  │ pressure loom large, as the characters wrestle     │\n",
      "│ with personal choices and shifting allegiances     │ nobleman**: \"Be true, my son. Be valiant and       │ with personal choices and shifting allegiances     │\n",
      "│ amidst the looming influence of the king and the   │ true!\" said the old nobleman solemnly.**Old        │ amidst the looming influence of the king and the   │\n",
      "│ mounting persecution of Huguenots.<|eot_id|><|star │ nobleman**: \"What in the name of the devil has     │ mounting persecution of Huguenots.<|eot_id|><|star │\n",
      "│ t_header_id|>assistant<|end_header_id|>            │ your daughter got there?\"**Censitaire**: \"It is    │ t_header_id|>assistant<|end_header_id|>: In *      │\n",
      "│                                                    │ your eleventh fish which I am bound by my oath to  │ forFELIANI#Siren de Haavell.[dA.A.DETAKThe         │\n",
      "│                                                    │ render to you,\" said the _censitaire_. \"There are  │ following is a list of a, the first sentence in    │\n",
      "│                                                    │ seventy-three in the heap, and I have caught eight │ the corresponding number of keyed sentence (not as │\n",
      "│                                                    │ hundred in the month.\"**Old nobleman**: \"_Peste!_\" │ a fixed reference to a word in a specified source. │\n",
      "│                                                    │ cried the nobleman. \"Do you think, Andre Dubois,   │ ###A. (See:A.#(1).As a first-order-basedThe        │\n",
      "│                                                    │ that I will disorder my health by eating three-    │ following is a list ofSECTIONThe first             │\n",
      "│                                                    │ and-seventy fish in this fashion? Do you think     │ section##AnomalousThe following list of 267        │\n",
      "│                                                    │ that I and my body-servants and my personal        │ characters(No. 1.DEMERFORMEDIANDURINGM.THE FULL    │\n",
      "│                                                    │ retainers and the other members of my household    │ for the directionFirst forwardTheFirst\"P.When      │\n",
      "│                                                    │ have nothing to do but to eat your fish? In        │ receiving a letterP.THETHENA.B.B.CB.               │\n",
      "│                                                    │ future, you will pay your tribute not more than    │                                                    │\n",
      "│                                                    │ five at a time. Where is the major-domo? Theuriet, │                                                    │\n",
      "│                                                    │ remove the fish to our central store-house, and be │                                                    │\n",
      "│                                                    │ careful that the smell does not penetrate to the   │                                                    │\n",
      "│                                                    │ blue tapestry chamber or to my lady's suite.\"*A    │                                                    │\n",
      "│                                                    │ man in very shabby black livery advanced and       │                                                    │\n",
      "│                                                    │ carried off the pile of white fish.***Young man**: │                                                    │\n",
      "│                                                    │ \"Father,\" said he, \"this is Monsieur de Catinat,   │                                                    │\n",
      "│                                                    │ whom you may remember some years ago at            │                                                    │\n",
      "│                                                    │ Quebec.\"**Old nobleman**: \"You are extremely       │                                                    │\n",
      "│                                                    │ welcome to my estates, both you and your body-     │                                                    │\n",
      "│                                                    │ servants--\"**De Catinat**: \"They are my friends,   │                                                    │\n",
      "│                                                    │ monsieur. This is Monsieur Amos Green and Captain  │                                                    │\n",
      "│                                                    │ Ephraim Savage. My wife is travelling with me, but │                                                    │\n",
      "│                                                    │ your courteous son has kindly taken her to your    │                                                    │\n",
      "│                                                    │ lady.\"**Old nobleman**: \"I am honoured--honoured   │                                                    │\n",
      "│                                                    │ indeed!\" cried the old man. \"I remember you very   │                                                    │\n",
      "│                                                    │ well, sir, for it is not so common to meet men of  │                                                    │\n",
      "│                                                    │ quality in this country. I remember your father    │                                                    │\n",
      "│                                                    │ also, for he served with me at Rocroy, though he   │                                                    │\n",
      "│                                                    │ was in the Foot, and I in the Red Dragoons of      │                                                    │\n",
      "│                                                    │ Grissot. Your arms are a martlet in fess upon a    │                                                    │\n",
      "│                                                    │ field azure, and now that I think of it, the       │                                                    │\n",
      "│                                                    │ second daughter of your great-grand-father married │                                                    │\n",
      "│                                                    │ the son of one of the La Noues of Andelys, which   │                                                    │\n",
      "│                                                    │ is one of our cadet branches. Kinsman, you are     │                                                    │\n",
      "│                                                    │ welcome!\"**De Catinat**: \"I will not intrude long  │                                                    │\n",
      "│                                                    │ upon your hospitality,\" said he. \"We are           │                                                    │\n",
      "│                                                    │ journeying down to Lake Champlain, and we hope in  │                                                    │\n",
      "│                                                    │ a day or two to be ready to go on.\"**Old           │                                                    │\n",
      "│                                                    │ nobleman**: \"A suite of rooms shall be laid at     │                                                    │\n",
      "│                                                    │ your disposal as long as you do me the honour to   │                                                    │\n",
      "│                                                    │ remain here. _Peste!_ It is not every day that I   │                                                    │\n",
      "│                                                    │ can open my gates to a man with good blood in his  │                                                    │\n",
      "│                                                    │ veins! Ah, sir, that is what I feel most in my     │                                                    │\n",
      "│                                                    │ exile, for who is there with whom I can talk as    │                                                    │\n",
      "│                                                    │ equal to equal? There is the governor, the         │                                                    │\n",
      "│                                                    │ intendant, perhaps, one or two priests, three or   │                                                    │\n",
      "│                                                    │ four officers, but how many of the _noblesse_?     │                                                    │\n",
      "│                                                    │ Scarcely one. They buy their titles over here as   │                                                    │\n",
      "│                                                    │ they buy their pelts, and it is better to have a   │                                                    │\n",
      "│                                                    │ canoe-load of beaver skins than a pedigree from    │                                                    │\n",
      "│                                                    │ Roland. But I forget my duties. You are weary and  │                                                    │\n",
      "│                                                    │ hungry, you and your friends. Come up with me to   │                                                    │\n",
      "│                                                    │ the tapestried _salon_, and we shall see if my     │                                                    │\n",
      "│                                                    │ stewards can find anything for your refreshment.   │                                                    │\n",
      "│                                                    │ You play piquet, if I remember right? Ah, my skill │                                                    │\n",
      "│                                                    │ is leaving me, and I should be glad to try a hand  │                                                    │\n",
      "│                                                    │ with you.\"*The manor-house was high and strong,    │                                                    │\n",
      "│                                                    │ built of gray stone in a framework of wood.**A     │                                                    │\n",
      "│                                                    │ winding stone staircase led them through a huge    │                                                    │\n",
      "│                                                    │ kitchen, flagged and lofty, from which branched    │                                                    │\n",
      "│                                                    │ the rooms of the servants.**Rich rugs formed of    │                                                    │\n",
      "│                                                    │ bear or deer-skin were littered thickly over the   │                                                    │\n",
      "│                                                    │ brown-stained floor, and antlered heads bristled   │                                                    │\n",
      "│                                                    │ out from among the rows of muskets which were      │                                                    │\n",
      "│                                                    │ arranged along the wall.**A broad rough-hewn maple │                                                    │\n",
      "│                                                    │ table ran down the centre of this apartment, and   │                                                    │\n",
      "│                                                    │ on this there was soon set a venison pie, a side   │                                                    │\n",
      "│                                                    │ of calvered salmon, and a huge cranberry tart, to  │                                                    │\n",
      "│                                                    │ which the hungry travellers did full               │                                                    │\n",
      "│                                                    │ justice.***Old nobleman**: \"I have already supped, │                                                    │\n",
      "│                                                    │ but having allowed myself to be persuaded into     │                                                    │\n",
      "│                                                    │ joining them, I ended by eating more than Ephraim  │                                                    │\n",
      "│                                                    │ Savage, drinking more than Du Lhut, and finally by │                                                    │\n",
      "│                                                    │ singing a very amorous little French _chanson_     │                                                    │\n",
      "│                                                    │ with a tra-le-ra chorus, the                       │                                                    │\n",
      "├────────────────────────────────────────────────────┼────────────────────────────────────────────────────┼────────────────────────────────────────────────────┤\n",
      "│ \\n<|start_header_id|>system<|end_header_id|>Cuttin │ EXT. STREET - MORNING - SNOWSTORM*Ellen walks      │ \\n<|start_header_id|>system<|end_header_id|>Cuttin │\n",
      "│ g Knowledge Date: December 2023Today Date: 22 Feb  │ through the snow, absorbed in her thoughts.**The   │ g Knowledge Date: December 2023Today Date: 22 Feb  │\n",
      "│ 2025<|eot_id|><|start_header_id|>user<|end_header_ │ trees bend under the weight of snow, and birds     │ 2025<|eot_id|><|start_header_id|>user<|end_header_ │\n",
      "│ id|>Write a chapter set in a small New England     │ occasionally clamor, accentuating the              │ id|>Write a chapter set in a small New England     │\n",
      "│ mill town during the late 19th century. The main   │ silence.**Ellen forgets her worries, captivated by │ mill town during the late 19th century. The main   │\n",
      "│ characters, Ellen and her mother, are of modest    │ the beauty of the snow.**Ellen notices Abby and    │ characters, Ellen and her mother, are of modest    │\n",
      "│ means, struggling to make ends meet after the      │ Maria approaching through the snow.***Abby**: \"I   │ means, struggling to make ends meet after the      │\n",
      "│ father, a mill worker, passed away. Ellen is       │ don't care anything about it, Maria Atkins,\" Abby  │ father, a mill worker, passed away. Ellen is       │\n",
      "│ young, quiet, and reflective, while her mother is  │ says, scolding Maria.**Abby**: \"You ought to be    │ young, quiet, and reflective, while her mother is  │\n",
      "│ practical and worn from years of hard labor but    │ ashamed of yourself coming out such a morning as   │ practical and worn from years of hard labor but    │\n",
      "│ still fiercely protective of her daughter. The two │ this. There isn't any sense in it.\"**Abby**:       │ still fiercely protective of her daughter. The two │\n",
      "│ women are caught in a conflict between accepting   │ \"Ellen, I wish you'd tell Maria to turn around and │ women are caught in a conflict between accepting   │\n",
      "│ their economic hardship and striving for a better  │ go home,\" Abby says, concerned.**Ellen**: \"I think │ their economic hardship and striving for a better  │\n",
      "│ future. The tone should be thoughtful and          │ she's right, Maria,\" Ellen says, nodding. \"You     │ future. The tone should be thoughtful and          │\n",
      "│ melancholic, with a focus on the domestic life of  │ ought not to be out such a morning as this. You    │ melancholic, with a focus on the domestic life of  │\n",
      "│ the characters. Ellen often contemplates the toll  │ had better go home.\"**Maria**: \"I am no worse than │ the characters. Ellen often contemplates the toll  │\n",
      "│ the mill work takes on the community and on her    │ usual,\" Maria replies, smiling despite her         │ the mill work takes on the community and on her    │\n",
      "│ own family, but she also harbors quiet ambitions   │ cough.**Maria**: \"The snow will shake right off;   │ own family, but she also harbors quiet ambitions   │\n",
      "│ for something beyond this life. The setting should │ it's light, Abby,\" Maria insists, pulling up her   │ for something beyond this life. The setting should │\n",
      "│ involve their small home, which is sparsely        │ skirts.**Abby**: \"It ain't light. I should think   │ involve their small home, which is sparsely        │\n",
      "│ furnished but clean, and the presence of the mill  │ you might listen to Ellen, if you won't to me,\"    │ furnished but clean, and the presence of the mill  │\n",
      "│ looms large, even in its absence. The interaction  │ Abby retorts.*Ellen pulls Maria's arm through her  │ looms large, even in its absence. The interaction  │\n",
      "│ between Ellen and her mother should highlight the  │ own, showing concern.***Maria**: \"I've got to go,\" │ between Ellen and her mother should highlight the  │\n",
      "│ generational differences in their attitudes toward │ Maria says, her voice filled with urgency. \"Father │ generational differences in their attitudes toward │\n",
      "│ work, survival, and personal aspirations.<|eot_id| │ had a bad spell last night...\"**Abby**: \"I'd like  │ work, survival, and personal aspirations.<|eot_id| │\n",
      "│ ><|start_header_id|>assistant<|end_header_id|>     │ to know what good it is going to do to work and    │ ><|start_header_id|>assistant<|end_header_id|>|-MO │\n",
      "│                                                    │ earn and pay up money if everybody is going to be  │ TEANThis is a traditional case of the followingA   │\n",
      "│                                                    │ killed by it?\" Abby exclaims, indignant.*Ellen     │ 100-year (a.This is the work ofX.For               │\n",
      "│                                                    │ adjusts Maria's coat-collar and dress-skirt,       │ thisVindition#The 1918.The BritishAA)The           │\n",
      "│                                                    │ trying to keep her warm.***Abby**: \"I wish Robert  │ followingExtracted:For the last 555 (600 /         │\n",
      "│                                                    │ Lloyd had to get up at six o'clock and trudge a    │ 6)NTheThe speaker will discuss the 1918. The 20th  │\n",
      "│                                                    │ mile in this snow to his work,\" Abby says with     │ or 21th.For the second half-length of the 21thThe  │\n",
      "│                                                    │ bitterness.**Maria**: \"If it's true, what you say, │ corresponding 10th[The firstThe original 11thThe   │\n",
      "│                                                    │ it seems to me it's like hating those you have     │ 25thThe 11thThe 50thIn the 32ndThe 11thThe 12thThe │\n",
      "│                                                    │ given things to, and that's worse than hating your │ 12thThe 9thConieleverH.J. 69, 101 S.This is the    │\n",
      "│                                                    │ enemies,\" Maria counters.**Abby**: \"Don't say      │ next[A                                             │\n",
      "│                                                    │ given, say been forced to hand over,\" Abby retorts │                                                    │\n",
      "│                                                    │ fiercely.**Ellen**: Ellen, concerned, asks, \"You   │                                                    │\n",
      "│                                                    │ don't think that he means to cut the               │                                                    │\n",
      "│                                                    │ wages?\"**Abby**: \"I know he does. I had it         │                                                    │\n",
      "│                                                    │ straight. Wait till you get to the shop,\" Abby     │                                                    │\n",
      "│                                                    │ insists.**Maria**: \"Maybe it isn't so,\" whispers   │                                                    │\n",
      "│                                                    │ Maria to Ellen.**Ellen**: \"I don't believe it is,\" │                                                    │\n",
      "│                                                    │ Ellen responds, but Abby overhears them.**Abby**:  │                                                    │\n",
      "│                                                    │ \"Well, you wait!\" Abby snaps back.*Ellen arrives   │                                                    │\n",
      "│                                                    │ at the factory, noticing groups of men talking,    │                                                    │\n",
      "│                                                    │ oblivious to the storm.**Ellen sees a man throw    │                                                    │\n",
      "│                                                    │ out his arm and shake a fist at the Lloyd's        │                                                    │\n",
      "│                                                    │ sleigh.***Abby**: \"What did I tell you?\" Abby      │                                                    │\n",
      "│                                                    │ cries, looking at Ellen with fierce                │                                                    │\n",
      "│                                                    │ eyes.**Ellen**: \"I don't believe it,\" Ellen says,  │                                                    │\n",
      "│                                                    │ catching a glimpse of Robert.**Maria**: \"Maybe it  │                                                    │\n",
      "│                                                    │ isn't so,\" Maria says, holding Ellen's arm         │                                                    │\n",
      "│                                                    │ tightly.*Ellen presses closely to see a placard on │                                                    │\n",
      "│                                                    │ the wall, revealing a reduced wage-list.**Ellen    │                                                    │\n",
      "│                                                    │ goes to her machine, her expression changing as    │                                                    │\n",
      "│                                                    │ she processes the news.*<|eot_id|>                 │                                                    │\n",
      "└────────────────────────────────────────────────────┴────────────────────────────────────────────────────┴────────────────────────────────────────────────────┘\n"
     ]
    },
    {
     "data": {
      "text/html": [
       "\n",
       "    <div>\n",
       "      \n",
       "      <progress value='40' max='40' style='width:300px; height:20px; vertical-align: middle;'></progress>\n",
       "      [40/40 00:04]\n",
       "    </div>\n",
       "    "
      ],
      "text/plain": [
       "<IPython.core.display.HTML object>"
      ]
     },
     "metadata": {},
     "output_type": "display_data"
    },
    {
     "data": {
      "text/plain": [
       "{'eval_loss': 3.1576321125030518,\n",
       " 'eval_model_preparation_time': 0.0191,\n",
       " 'eval_runtime': 24.676,\n",
       " 'eval_samples_per_second': 3.242,\n",
       " 'eval_steps_per_second': 1.621}"
      ]
     },
     "execution_count": 45,
     "metadata": {},
     "output_type": "execute_result"
    }
   ],
   "source": [
    "wrapper.trainer.evaluate()"
   ]
  },
  {
   "cell_type": "code",
   "execution_count": null,
   "metadata": {},
   "outputs": [
    {
     "name": "stderr",
     "output_type": "stream",
     "text": [
      "\u001b[32m2025-02-22 22:53:22.048\u001b[0m | \u001b[1mINFO    \u001b[0m | \u001b[36mtrl_wrapper.trainer_wrapper\u001b[0m:\u001b[36mtrain\u001b[0m:\u001b[36m604\u001b[0m - \u001b[1mStarting training.\u001b[0m\n",
      "`use_cache=True` is incompatible with gradient checkpointing. Setting `use_cache=False`.\n"
     ]
    },
    {
     "data": {
      "text/html": [
       "\n",
       "    <div>\n",
       "      \n",
       "      <progress value='6' max='225' style='width:300px; height:20px; vertical-align: middle;'></progress>\n",
       "      [  6/225 00:05 < 05:09, 0.71 it/s, Epoch 0.11/5]\n",
       "    </div>\n",
       "    <table border=\"1\" class=\"dataframe\">\n",
       "  <thead>\n",
       " <tr style=\"text-align: left;\">\n",
       "      <th>Step</th>\n",
       "      <th>Training Loss</th>\n",
       "      <th>Validation Loss</th>\n",
       "    </tr>\n",
       "  </thead>\n",
       "  <tbody>\n",
       "  </tbody>\n",
       "</table><p>"
      ],
      "text/plain": [
       "<IPython.core.display.HTML object>"
      ]
     },
     "metadata": {},
     "output_type": "display_data"
    },
    {
     "name": "stderr",
     "output_type": "stream",
     "text": [
      "\u001b[32m2025-02-22 22:53:31.066\u001b[0m | \u001b[1mINFO    \u001b[0m | \u001b[36mtrl_wrapper.sft_trainer\u001b[0m:\u001b[36mevaluation_loop\u001b[0m:\u001b[36m93\u001b[0m - \u001b[1mGenerating samples...\u001b[0m\n",
      "\u001b[32m2025-02-22 22:53:31.070\u001b[0m | \u001b[1mINFO    \u001b[0m | \u001b[36mtrl_wrapper.sft_trainer\u001b[0m:\u001b[36mgenerate_from_model\u001b[0m:\u001b[36m59\u001b[0m - \u001b[1mGenerating policy samples, max length: 1024...\u001b[0m\n",
      "A decoder-only architecture is being used, but right-padding was detected! For correct generation results, please set `padding_side='left'` when initializing the tokenizer.\n",
      "/home/brianf/smolmodels/.venv/lib/python3.11/site-packages/torch/utils/checkpoint.py:87: UserWarning: None of the inputs have requires_grad=True. Gradients will be None\n",
      "  warnings.warn(\n"
     ]
    }
   ],
   "source": [
    "wrapper.train()"
   ]
  }
 ],
 "metadata": {
  "kernelspec": {
   "display_name": ".venv",
   "language": "python",
   "name": "python3"
  },
  "language_info": {
   "codemirror_mode": {
    "name": "ipython",
    "version": 3
   },
   "file_extension": ".py",
   "mimetype": "text/x-python",
   "name": "python",
   "nbconvert_exporter": "python",
   "pygments_lexer": "ipython3",
   "version": "3.11.10"
  }
 },
 "nbformat": 4,
 "nbformat_minor": 2
}
