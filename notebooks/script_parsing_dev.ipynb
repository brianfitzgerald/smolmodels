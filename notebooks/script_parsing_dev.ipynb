{
 "cells": [
  {
   "cell_type": "code",
   "execution_count": 1,
   "metadata": {},
   "outputs": [
    {
     "name": "stderr",
     "output_type": "stream",
     "text": [
      "/home/brianf/smolmodels/.venv/lib/python3.11/site-packages/tqdm/auto.py:21: TqdmWarning: IProgress not found. Please update jupyter and ipywidgets. See https://ipywidgets.readthedocs.io/en/stable/user_install.html\n",
      "  from .autonotebook import tqdm as notebook_tqdm\n"
     ]
    }
   ],
   "source": [
    "import polars as pl\n",
    "import os\n",
    "from tqdm import tqdm\n",
    "from IPython.display import Markdown\n",
    "import kagglehub\n",
    "import sys\n",
    "import numpy as np\n",
    "import matplotlib.pyplot as plt\n",
    "import seaborn as sns\n",
    "from openai.types.chat.chat_completion_message_param import ChatCompletionMessageParam\n",
    "\n",
    "sys.path.append(\"..\")\n",
    "from synthetic_data.screenplay_parser import ScreenplayParser\n",
    "\n",
    "%load_ext autoreload\n",
    "%autoreload 2"
   ]
  },
  {
   "cell_type": "code",
   "execution_count": 3,
   "metadata": {},
   "outputs": [
    {
     "name": "stdout",
     "output_type": "stream",
     "text": [
      "Downloading from https://www.kaggle.com/api/v1/datasets/download/veeralakrishna/imsdb-movie-scripts?dataset_version_number=2...\n"
     ]
    },
    {
     "name": "stderr",
     "output_type": "stream",
     "text": [
      "100%|██████████| 93.5M/93.5M [00:04<00:00, 19.8MB/s]"
     ]
    },
    {
     "name": "stdout",
     "output_type": "stream",
     "text": [
      "Extracting files...\n"
     ]
    },
    {
     "name": "stderr",
     "output_type": "stream",
     "text": [
      "\n"
     ]
    },
    {
     "name": "stdout",
     "output_type": "stream",
     "text": [
      "/home/brianf/.cache/kagglehub/datasets/veeralakrishna/imsdb-movie-scripts/versions/2\n"
     ]
    }
   ],
   "source": [
    "scripts_corpus_path = kagglehub.dataset_download(\"veeralakrishna/imsdb-movie-scripts\")\n",
    "print(scripts_corpus_path)\n",
    "scripts_pqt_path = os.path.join(scripts_corpus_path, \"movie_scripts.parquet\")\n",
    "scripts_pqt = pl.read_parquet(scripts_pqt_path)"
   ]
  },
  {
   "cell_type": "code",
   "execution_count": null,
   "metadata": {},
   "outputs": [],
   "source": [
    "for i in range(10):\n",
    "    display(Markdown(f\"## {scripts_pqt[i]['Movie'][0]}\"))\n",
    "    print(scripts_pqt[i][\"Script\"][0][0:1000])"
   ]
  },
  {
   "cell_type": "code",
   "execution_count": null,
   "metadata": {},
   "outputs": [],
   "source": [
    "scene_counts, char_line_counts = [], []\n",
    "i, n_failed = 0, 0\n",
    "good_scripts = []\n",
    "for row in tqdm(scripts_pqt.iter_rows(named=True)):\n",
    "    i += 1\n",
    "    parser = ScreenplayParser(row[\"Script\"])\n",
    "    scenes = parser.parse()\n",
    "    n_chars, n_chars_with_lines = len(scenes), len(parser.character_line_counts)\n",
    "    scene_counts.append(n_chars)\n",
    "    char_line_counts.append(n_chars_with_lines)\n",
    "    if n_chars_with_lines >= 10 and n_chars >= 30:\n",
    "        good_scripts.append(parser)\n",
    "    if n_chars_with_lines == 0 and n_chars == 0:\n",
    "        # print(row['Script'])\n",
    "        n_failed += 1\n",
    "        continue\n",
    "    # print(f\"Script {i} has {n_chars} scenes and {n_chars_with_lines} characters with lines\")\n",
    "    # for scene in scenes:\n",
    "    #     display(Markdown(f\"### {scene.heading.content}\"))\n",
    "    #     for elem in scene.elements:\n",
    "    #         if elem.type == 'dialogue':\n",
    "    #             if not elem.dialogue_data:\n",
    "    #                 raise ValueError(\"Dialogue element has no dialogue data\")\n",
    "    #             display(Markdown(f\"**{elem.dialogue_data.character}**: {elem.dialogue_data.content}\"))\n",
    "\n",
    "print(f\"Failed to parse {n_failed} scripts, got {len(good_scripts)} good scripts\")"
   ]
  },
  {
   "cell_type": "code",
   "execution_count": null,
   "metadata": {},
   "outputs": [],
   "source": [
    "scene_counts_np = pl.Series(\"char_counts\", scene_counts).to_numpy()\n",
    "char_line_counts_np = pl.Series(\"char_line_counts\", char_line_counts).to_numpy()\n",
    "\n",
    "pcts = [40, 50, 60]\n",
    "print(pcts)\n",
    "scene_ct_pcts = np.percentile(scene_counts_np, pcts)\n",
    "char_ct_pcts = np.percentile(char_line_counts_np, pcts)\n",
    "\n",
    "print(f\"char_cpts: {char_ct_pcts} scene_ct_percentiles: {scene_ct_pcts}\")\n",
    "\n",
    "# Plotting KDE with percentiles\n",
    "plt.figure(figsize=(12, 8))\n",
    "\n",
    "# KDE plots\n",
    "sns.kdeplot(scene_counts_np, label=\"Scene Counts\", fill=True, color=\"blue\", alpha=0.5)\n",
    "\n",
    "# Mark percentiles on the plot\n",
    "for i, p in enumerate(scene_ct_pcts):\n",
    "    plt.axvline(\n",
    "        p,\n",
    "        color=\"blue\",\n",
    "        linestyle=\"--\",\n",
    "        alpha=0.8,\n",
    "        label=f\"Scene Count Percentile {i}: {p:.1f}\",\n",
    "    )\n",
    "plt.legend()\n",
    "\n",
    "plt.show()\n",
    "sns.kdeplot(\n",
    "    char_line_counts_np, label=\"Char Line Counts\", fill=True, color=\"orange\", alpha=0.5\n",
    ")\n",
    "\n",
    "for i, p in enumerate(char_ct_pcts):\n",
    "    plt.axvline(\n",
    "        p,\n",
    "        color=\"orange\",\n",
    "        linestyle=\"--\",\n",
    "        alpha=0.8,\n",
    "        label=f\"Char Line Count Percentile {i}: {p:.1f}\",\n",
    "    )\n",
    "\n",
    "plt.legend()\n",
    "\n",
    "plt.show()"
   ]
  },
  {
   "cell_type": "code",
   "execution_count": 2,
   "metadata": {},
   "outputs": [
    {
     "ename": "FileNotFoundError",
     "evalue": "No such file or directory (os error 2): ../screenplay_scenes_summarized_full.parquet",
     "output_type": "error",
     "traceback": [
      "\u001b[0;31m---------------------------------------------------------------------------\u001b[0m",
      "\u001b[0;31mFileNotFoundError\u001b[0m                         Traceback (most recent call last)",
      "Cell \u001b[0;32mIn[2], line 3\u001b[0m\n\u001b[1;32m      1\u001b[0m \u001b[38;5;66;03m# Conversation formatting\u001b[39;00m\n\u001b[0;32m----> 3\u001b[0m summarized_scenes \u001b[38;5;241m=\u001b[39m \u001b[43mpl\u001b[49m\u001b[38;5;241;43m.\u001b[39;49m\u001b[43mread_parquet\u001b[49m\u001b[43m(\u001b[49m\u001b[38;5;124;43m\"\u001b[39;49m\u001b[38;5;124;43m../screenplay_scenes_summarized_full.parquet\u001b[39;49m\u001b[38;5;124;43m\"\u001b[39;49m\u001b[43m)\u001b[49m\n\u001b[1;32m      4\u001b[0m formatted_samples \u001b[38;5;241m=\u001b[39m []\n\u001b[1;32m      5\u001b[0m \u001b[38;5;28;01mfor\u001b[39;00m sample \u001b[38;5;129;01min\u001b[39;00m tqdm(summarized_scenes\u001b[38;5;241m.\u001b[39miter_rows(named\u001b[38;5;241m=\u001b[39m\u001b[38;5;28;01mTrue\u001b[39;00m)):\n",
      "File \u001b[0;32m~/smolmodels/.venv/lib/python3.11/site-packages/polars/_utils/deprecation.py:92\u001b[0m, in \u001b[0;36mdeprecate_renamed_parameter.<locals>.decorate.<locals>.wrapper\u001b[0;34m(*args, **kwargs)\u001b[0m\n\u001b[1;32m     87\u001b[0m \u001b[38;5;129m@wraps\u001b[39m(function)\n\u001b[1;32m     88\u001b[0m \u001b[38;5;28;01mdef\u001b[39;00m\u001b[38;5;250m \u001b[39m\u001b[38;5;21mwrapper\u001b[39m(\u001b[38;5;241m*\u001b[39margs: P\u001b[38;5;241m.\u001b[39margs, \u001b[38;5;241m*\u001b[39m\u001b[38;5;241m*\u001b[39mkwargs: P\u001b[38;5;241m.\u001b[39mkwargs) \u001b[38;5;241m-\u001b[39m\u001b[38;5;241m>\u001b[39m T:\n\u001b[1;32m     89\u001b[0m     _rename_keyword_argument(\n\u001b[1;32m     90\u001b[0m         old_name, new_name, kwargs, function\u001b[38;5;241m.\u001b[39m\u001b[38;5;18m__qualname__\u001b[39m, version\n\u001b[1;32m     91\u001b[0m     )\n\u001b[0;32m---> 92\u001b[0m     \u001b[38;5;28;01mreturn\u001b[39;00m \u001b[43mfunction\u001b[49m\u001b[43m(\u001b[49m\u001b[38;5;241;43m*\u001b[39;49m\u001b[43margs\u001b[49m\u001b[43m,\u001b[49m\u001b[43m \u001b[49m\u001b[38;5;241;43m*\u001b[39;49m\u001b[38;5;241;43m*\u001b[39;49m\u001b[43mkwargs\u001b[49m\u001b[43m)\u001b[49m\n",
      "File \u001b[0;32m~/smolmodels/.venv/lib/python3.11/site-packages/polars/_utils/deprecation.py:92\u001b[0m, in \u001b[0;36mdeprecate_renamed_parameter.<locals>.decorate.<locals>.wrapper\u001b[0;34m(*args, **kwargs)\u001b[0m\n\u001b[1;32m     87\u001b[0m \u001b[38;5;129m@wraps\u001b[39m(function)\n\u001b[1;32m     88\u001b[0m \u001b[38;5;28;01mdef\u001b[39;00m\u001b[38;5;250m \u001b[39m\u001b[38;5;21mwrapper\u001b[39m(\u001b[38;5;241m*\u001b[39margs: P\u001b[38;5;241m.\u001b[39margs, \u001b[38;5;241m*\u001b[39m\u001b[38;5;241m*\u001b[39mkwargs: P\u001b[38;5;241m.\u001b[39mkwargs) \u001b[38;5;241m-\u001b[39m\u001b[38;5;241m>\u001b[39m T:\n\u001b[1;32m     89\u001b[0m     _rename_keyword_argument(\n\u001b[1;32m     90\u001b[0m         old_name, new_name, kwargs, function\u001b[38;5;241m.\u001b[39m\u001b[38;5;18m__qualname__\u001b[39m, version\n\u001b[1;32m     91\u001b[0m     )\n\u001b[0;32m---> 92\u001b[0m     \u001b[38;5;28;01mreturn\u001b[39;00m \u001b[43mfunction\u001b[49m\u001b[43m(\u001b[49m\u001b[38;5;241;43m*\u001b[39;49m\u001b[43margs\u001b[49m\u001b[43m,\u001b[49m\u001b[43m \u001b[49m\u001b[38;5;241;43m*\u001b[39;49m\u001b[38;5;241;43m*\u001b[39;49m\u001b[43mkwargs\u001b[49m\u001b[43m)\u001b[49m\n",
      "File \u001b[0;32m~/smolmodels/.venv/lib/python3.11/site-packages/polars/io/parquet/functions.py:241\u001b[0m, in \u001b[0;36mread_parquet\u001b[0;34m(source, columns, n_rows, row_index_name, row_index_offset, parallel, use_statistics, hive_partitioning, glob, schema, hive_schema, try_parse_hive_dates, rechunk, low_memory, storage_options, credential_provider, retries, use_pyarrow, pyarrow_options, memory_map, include_file_paths, allow_missing_columns)\u001b[0m\n\u001b[1;32m    238\u001b[0m     \u001b[38;5;28;01melse\u001b[39;00m:\n\u001b[1;32m    239\u001b[0m         lf \u001b[38;5;241m=\u001b[39m lf\u001b[38;5;241m.\u001b[39mselect(columns)\n\u001b[0;32m--> 241\u001b[0m \u001b[38;5;28;01mreturn\u001b[39;00m \u001b[43mlf\u001b[49m\u001b[38;5;241;43m.\u001b[39;49m\u001b[43mcollect\u001b[49m\u001b[43m(\u001b[49m\u001b[43m)\u001b[49m\n",
      "File \u001b[0;32m~/smolmodels/.venv/lib/python3.11/site-packages/polars/lazyframe/frame.py:2056\u001b[0m, in \u001b[0;36mLazyFrame.collect\u001b[0;34m(self, type_coercion, _type_check, predicate_pushdown, projection_pushdown, simplify_expression, slice_pushdown, comm_subplan_elim, comm_subexpr_elim, cluster_with_columns, collapse_joins, no_optimization, streaming, engine, background, _check_order, _eager, **_kwargs)\u001b[0m\n\u001b[1;32m   2054\u001b[0m \u001b[38;5;66;03m# Only for testing purposes\u001b[39;00m\n\u001b[1;32m   2055\u001b[0m callback \u001b[38;5;241m=\u001b[39m _kwargs\u001b[38;5;241m.\u001b[39mget(\u001b[38;5;124m\"\u001b[39m\u001b[38;5;124mpost_opt_callback\u001b[39m\u001b[38;5;124m\"\u001b[39m, callback)\n\u001b[0;32m-> 2056\u001b[0m \u001b[38;5;28;01mreturn\u001b[39;00m wrap_df(\u001b[43mldf\u001b[49m\u001b[38;5;241;43m.\u001b[39;49m\u001b[43mcollect\u001b[49m\u001b[43m(\u001b[49m\u001b[43mcallback\u001b[49m\u001b[43m)\u001b[49m)\n",
      "\u001b[0;31mFileNotFoundError\u001b[0m: No such file or directory (os error 2): ../screenplay_scenes_summarized_full.parquet"
     ]
    }
   ],
   "source": [
    "# Conversation formatting\n",
    "\n",
    "summarized_scenes = pl.read_parquet(\"../screenplay_scenes_summarized_full.parquet\")\n",
    "formatted_samples = []\n",
    "for sample in tqdm(summarized_scenes.iter_rows(named=True)):\n",
    "    scene: str = sample[\"scene\"]\n",
    "    summary: str = sample[\"summary\"]\n",
    "    name: str = sample[\"name\"]\n",
    "    if len(scene.split(\"\\n\")) < 10:\n",
    "        continue\n",
    "    conversation: list[ChatCompletionMessageParam] = [\n",
    "        {\n",
    "            \"role\": \"system\",\n",
    "            \"content\": \"You are an expert AI screenwriter. Your task is to take a user provided summary of a scene and generate a screenplay scene based on it.\",\n",
    "        },\n",
    "        {\"role\": \"user\", \"content\": f\"<summary>{summary}</summary>\"},\n",
    "        {\"role\": \"assistant\", \"content\": f\"<scene>{scene}</scene>\"},\n",
    "    ]\n",
    "    formatted_samples.append({\"conversation\": conversation, \"name\": name})\n",
    "\n",
    "formatted_samples_pqt = pl.DataFrame(formatted_samples)\n",
    "formatted_samples_pqt.write_parquet(\"screenplay_scenes_chat_fomrat.parquet\")"
   ]
  }
 ],
 "metadata": {
  "kernelspec": {
   "display_name": ".venv",
   "language": "python",
   "name": "python3"
  },
  "language_info": {
   "codemirror_mode": {
    "name": "ipython",
    "version": 3
   },
   "file_extension": ".py",
   "mimetype": "text/x-python",
   "name": "python",
   "nbconvert_exporter": "python",
   "pygments_lexer": "ipython3",
   "version": "3.11.10"
  }
 },
 "nbformat": 4,
 "nbformat_minor": 2
}
