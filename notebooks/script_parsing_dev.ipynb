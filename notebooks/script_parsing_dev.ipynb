{
 "cells": [
  {
   "cell_type": "code",
   "execution_count": 67,
   "metadata": {},
   "outputs": [
    {
     "name": "stdout",
     "output_type": "stream",
     "text": [
      "The autoreload extension is already loaded. To reload it, use:\n",
      "  %reload_ext autoreload\n"
     ]
    }
   ],
   "source": [
    "import polars as pl\n",
    "import os\n",
    "from tqdm import tqdm\n",
    "import re\n",
    "from dataclasses import dataclass\n",
    "from typing import List, Optional\n",
    "from IPython.display import Markdown\n",
    "import kagglehub\n",
    "import sys\n",
    "sys.path.append('..')\n",
    "from synthetic_data.screenplay_parser import ScreenplayParser\n",
    "\n",
    "%load_ext autoreload\n",
    "%autoreload 2"
   ]
  },
  {
   "cell_type": "code",
   "execution_count": null,
   "metadata": {},
   "outputs": [],
   "source": [
    "scripts_corpus_path = kagglehub.dataset_download(\"veeralakrishna/imsdb-movie-scripts\")\n",
    "print(scripts_corpus_path)\n",
    "scripts_pqt_path = os.path.join(scripts_corpus_path, \"movie_scripts.parquet\")\n",
    "scripts_pqt = pl.read_parquet(scripts_pqt_path)"
   ]
  },
  {
   "cell_type": "code",
   "execution_count": null,
   "metadata": {},
   "outputs": [],
   "source": [
    "for i in range(10):\n",
    "    display(Markdown(f\"## {scripts_pqt[i]['Movie'][0]}\"))\n",
    "    print(scripts_pqt[i]['Script'][0][0:1000])"
   ]
  },
  {
   "cell_type": "code",
   "execution_count": 77,
   "metadata": {},
   "outputs": [
    {
     "name": "stderr",
     "output_type": "stream",
     "text": [
      "1282it [00:04, 293.05it/s]"
     ]
    },
    {
     "name": "stdout",
     "output_type": "stream",
     "text": [
      "Failed to parse 380 scripts\n"
     ]
    },
    {
     "name": "stderr",
     "output_type": "stream",
     "text": [
      "\n"
     ]
    }
   ],
   "source": [
    "\n",
    "\n",
    "i, n_failed = 0, 0\n",
    "for row in tqdm(scripts_pqt.iter_rows(named=True)):\n",
    "    parser = ScreenplayParser(row['Script'])\n",
    "    scenes = parser.parse()\n",
    "    n_chars, n_chars_with_lines = len(scenes), len(parser.character_line_counts)\n",
    "    # print(f\"Script {i} has {n_chars} scenes and {n_chars_with_lines} characters with lines\")\n",
    "    if n_chars_with_lines == 0 and n_chars == 0:\n",
    "        # print(row['Script'])\n",
    "        n_failed += 1\n",
    "    # for scene in scenes:\n",
    "    #     display(Markdown(f\"### {scene.heading.content}\"))\n",
    "    #     for elem in scene.elements:\n",
    "    #         if elem.type == 'dialogue':\n",
    "    #             if not elem.dialogue_data:\n",
    "    #                 raise ValueError(\"Dialogue element has no dialogue data\")\n",
    "    #             display(Markdown(f\"**{elem.dialogue_data.character}**: {elem.dialogue_data.content}\"))\n",
    "    i += 1\n",
    "\n",
    "print(f\"Failed to parse {n_failed} scripts\")"
   ]
  }
 ],
 "metadata": {
  "kernelspec": {
   "display_name": ".venv",
   "language": "python",
   "name": "python3"
  },
  "language_info": {
   "codemirror_mode": {
    "name": "ipython",
    "version": 3
   },
   "file_extension": ".py",
   "mimetype": "text/x-python",
   "name": "python",
   "nbconvert_exporter": "python",
   "pygments_lexer": "ipython3",
   "version": "3.11.11"
  }
 },
 "nbformat": 4,
 "nbformat_minor": 2
}
