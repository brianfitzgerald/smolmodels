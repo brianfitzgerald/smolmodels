{
 "cells": [
  {
   "cell_type": "code",
   "execution_count": null,
   "metadata": {},
   "outputs": [],
   "source": [
    "import polars as pl\n",
    "import os\n",
    "from tqdm import tqdm\n",
    "from IPython.display import Markdown\n",
    "import kagglehub\n",
    "import sys\n",
    "import numpy as np\n",
    "import matplotlib.pyplot as plt\n",
    "\n",
    "sys.path.append('..')\n",
    "from synthetic_data.screenplay_parser import ScreenplayParser\n",
    "\n",
    "%load_ext autoreload\n",
    "%autoreload 2"
   ]
  },
  {
   "cell_type": "code",
   "execution_count": null,
   "metadata": {},
   "outputs": [],
   "source": [
    "scripts_corpus_path = kagglehub.dataset_download(\"veeralakrishna/imsdb-movie-scripts\")\n",
    "print(scripts_corpus_path)\n",
    "scripts_pqt_path = os.path.join(scripts_corpus_path, \"movie_scripts.parquet\")\n",
    "scripts_pqt = pl.read_parquet(scripts_pqt_path)"
   ]
  },
  {
   "cell_type": "code",
   "execution_count": null,
   "metadata": {},
   "outputs": [],
   "source": [
    "for i in range(10):\n",
    "    display(Markdown(f\"## {scripts_pqt[i]['Movie'][0]}\"))\n",
    "    print(scripts_pqt[i]['Script'][0][0:1000])"
   ]
  },
  {
   "cell_type": "code",
   "execution_count": 4,
   "metadata": {},
   "outputs": [
    {
     "name": "stderr",
     "output_type": "stream",
     "text": [
      "1282it [00:07, 165.41it/s]"
     ]
    },
    {
     "name": "stdout",
     "output_type": "stream",
     "text": [
      "Failed to parse 380 scripts\n"
     ]
    },
    {
     "name": "stderr",
     "output_type": "stream",
     "text": [
      "\n"
     ]
    }
   ],
   "source": [
    "\n",
    "\n",
    "scene_counts, char_line_counts = [], []\n",
    "i, n_failed = 0, 0\n",
    "good_scripts = []\n",
    "for row in tqdm(scripts_pqt.iter_rows(named=True)):\n",
    "    i += 1\n",
    "    parser = ScreenplayParser(row['Script'])\n",
    "    scenes = parser.parse()\n",
    "    n_chars, n_chars_with_lines = len(scenes), len(parser.character_line_counts)\n",
    "    scene_counts.append(n_chars)\n",
    "    char_line_counts.append(n_chars_with_lines)\n",
    "    if n_chars_with_lines >= 11 or n_chars >= 39:\n",
    "        good_scripts.append(parser)\n",
    "    if n_chars_with_lines == 0 and n_chars == 0:\n",
    "        # print(row['Script'])\n",
    "        n_failed += 1\n",
    "        continue\n",
    "    # print(f\"Script {i} has {n_chars} scenes and {n_chars_with_lines} characters with lines\")\n",
    "    # for scene in scenes:\n",
    "    #     display(Markdown(f\"### {scene.heading.content}\"))\n",
    "    #     for elem in scene.elements:\n",
    "    #         if elem.type == 'dialogue':\n",
    "    #             if not elem.dialogue_data:\n",
    "    #                 raise ValueError(\"Dialogue element has no dialogue data\")\n",
    "    #             display(Markdown(f\"**{elem.dialogue_data.character}**: {elem.dialogue_data.content}\"))\n",
    "\n",
    "print(f\"Failed to parse {n_failed} scripts\")"
   ]
  },
  {
   "cell_type": "code",
   "execution_count": null,
   "metadata": {},
   "outputs": [],
   "source": [
    "import seaborn as sns\n",
    "\n",
    "scene_counts_np = pl.Series(\"char_counts\", scene_counts).to_numpy()\n",
    "char_line_counts_np = pl.Series(\"char_line_counts\", char_line_counts).to_numpy()\n",
    "\n",
    "pcts = [40, 50, 60]\n",
    "print(pcts)\n",
    "scene_ct_pcts = np.percentile(\n",
    "    scene_counts_np, pcts\n",
    ")\n",
    "char_ct_pcts = np.percentile(char_line_counts_np, pcts)\n",
    "\n",
    "print(f\"char_cpts: {char_ct_pcts} scene_ct_percentiles: {scene_ct_pcts}\")\n",
    "\n",
    "# Plotting KDE with percentiles\n",
    "plt.figure(figsize=(12, 8))\n",
    "\n",
    "# KDE plots\n",
    "sns.kdeplot(scene_counts_np, label=\"Scene Counts\", fill=True, color=\"blue\", alpha=0.5)\n",
    "\n",
    "# Mark percentiles on the plot\n",
    "for i, p in enumerate(scene_ct_pcts):\n",
    "    plt.axvline(\n",
    "        p,\n",
    "        color=\"blue\",\n",
    "        linestyle=\"--\",\n",
    "        alpha=0.8,\n",
    "        label=f\"Scene Count Percentile {i}: {p:.1f}\",\n",
    "    )\n",
    "plt.legend()\n",
    "\n",
    "plt.show()\n",
    "sns.kdeplot(\n",
    "    char_line_counts_np, label=\"Char Line Counts\", fill=True, color=\"orange\", alpha=0.5\n",
    ")\n",
    "\n",
    "for i, p in enumerate(char_ct_pcts):\n",
    "    plt.axvline(\n",
    "        p,\n",
    "        color=\"orange\",\n",
    "        linestyle=\"--\",\n",
    "        alpha=0.8,\n",
    "        label=f\"Char Line Count Percentile {i}: {p:.1f}\",\n",
    "    )\n",
    "\n",
    "plt.legend()\n",
    "\n",
    "plt.show()"
   ]
  }
 ],
 "metadata": {
  "kernelspec": {
   "display_name": ".venv",
   "language": "python",
   "name": "python3"
  },
  "language_info": {
   "codemirror_mode": {
    "name": "ipython",
    "version": 3
   },
   "file_extension": ".py",
   "mimetype": "text/x-python",
   "name": "python",
   "nbconvert_exporter": "python",
   "pygments_lexer": "ipython3",
   "version": "3.11.11"
  }
 },
 "nbformat": 4,
 "nbformat_minor": 2
}
