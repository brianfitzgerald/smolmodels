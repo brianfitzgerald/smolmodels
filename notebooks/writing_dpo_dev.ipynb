{
 "cells": [
  {
   "cell_type": "code",
   "execution_count": 1,
   "metadata": {},
   "outputs": [
    {
     "name": "stderr",
     "output_type": "stream",
     "text": [
      "/Users/brianfitzgerald/Documents/GitHub/smolmodels/.venv/lib/python3.11/site-packages/tqdm/auto.py:21: TqdmWarning: IProgress not found. Please update jupyter and ipywidgets. See https://ipywidgets.readthedocs.io/en/stable/user_install.html\n",
      "  from .autonotebook import tqdm as notebook_tqdm\n",
      "2025-04-05 11:03:35,183\tINFO util.py:154 -- Missing packages: ['ipywidgets']. Run `pip install -U ipywidgets`, then restart the notebook server for rich notebook output.\n"
     ]
    }
   ],
   "source": [
    "import sys\n",
    "\n",
    "sys.path.append(\"..\")\n",
    "%load_ext autoreload\n",
    "%autoreload 2\n",
    "from trl_wrapper.trainer_wrapper import TrainerWrapper, WRITING_DPO_CONFIG, SMOL_LM_135M\n",
    "\n",
    "cfg = WRITING_DPO_CONFIG\n",
    "cfg.train_batch_size = 1\n",
    "cfg.model_id_or_path = SMOL_LM_135M\n",
    "cfg.notebook_mode = True"
   ]
  },
  {
   "cell_type": "code",
   "execution_count": 2,
   "metadata": {},
   "outputs": [
    {
     "name": "stderr",
     "output_type": "stream",
     "text": [
      "\u001b[32m2025-04-05 11:03:38.649\u001b[0m | \u001b[1mINFO    \u001b[0m | \u001b[36mtrl_wrapper.trainer_wrapper\u001b[0m:\u001b[36m__init__\u001b[0m:\u001b[36m306\u001b[0m - \u001b[1mSetting padding side to: right\u001b[0m\n",
      "\u001b[32m2025-04-05 11:03:38.662\u001b[0m | \u001b[1mINFO    \u001b[0m | \u001b[36mtrl_wrapper.trainer_wrapper\u001b[0m:\u001b[36minit_model\u001b[0m:\u001b[36m317\u001b[0m - \u001b[1mUsing device: mps\u001b[0m\n",
      "\u001b[32m2025-04-05 11:03:38.663\u001b[0m | \u001b[1mINFO    \u001b[0m | \u001b[36mtrl_wrapper.trainer_wrapper\u001b[0m:\u001b[36minit_model\u001b[0m:\u001b[36m331\u001b[0m - \u001b[1mLoading model HuggingFaceTB/SmolLM2-135M-Instruct with attn_impl: sdpa\u001b[0m\n"
     ]
    }
   ],
   "source": [
    "wrapper = TrainerWrapper(cfg)\n",
    "wrapper.init_model()"
   ]
  },
  {
   "cell_type": "code",
   "execution_count": 3,
   "metadata": {},
   "outputs": [
    {
     "name": "stderr",
     "output_type": "stream",
     "text": [
      "\u001b[32m2025-04-05 11:03:43.127\u001b[0m | \u001b[1mINFO    \u001b[0m | \u001b[36mtrl_wrapper.trainer_wrapper\u001b[0m:\u001b[36minit_data_module\u001b[0m:\u001b[36m357\u001b[0m - \u001b[1mUsing chat template override: smollmv2\u001b[0m\n",
      "\u001b[32m2025-04-05 11:03:43.128\u001b[0m | \u001b[1mINFO    \u001b[0m | \u001b[36mtrl_wrapper.wrapper_config\u001b[0m:\u001b[36m__init__\u001b[0m:\u001b[36m136\u001b[0m - \u001b[1mCache dir: ../dataset_caches/writing_d_p_o_data_module\u001b[0m\n"
     ]
    }
   ],
   "source": [
    "wrapper.init_data_module()"
   ]
  },
  {
   "cell_type": "code",
   "execution_count": 4,
   "metadata": {},
   "outputs": [
    {
     "data": {
      "text/plain": [
       "Dataset({\n",
       "    features: ['instruction_id', 'chosen', 'rejected', 'score_chosen', 'score_rejected', 'model_chosen', 'model_rejected', 'prompt'],\n",
       "    num_rows: 9299\n",
       "})"
      ]
     },
     "execution_count": 4,
     "metadata": {},
     "output_type": "execute_result"
    }
   ],
   "source": [
    "wrapper.data_module.train_dataset"
   ]
  },
  {
   "cell_type": "code",
   "execution_count": 5,
   "metadata": {},
   "outputs": [
    {
     "name": "stderr",
     "output_type": "stream",
     "text": [
      "\u001b[32m2025-04-05 11:03:49.051\u001b[0m | \u001b[1mINFO    \u001b[0m | \u001b[36mtrl_wrapper.trainer_wrapper\u001b[0m:\u001b[36minit_trainer\u001b[0m:\u001b[36m394\u001b[0m - \u001b[1mSaving output to: ./runs/04-05-11-3-770754-smollm2-135m-instruct--txt-bt-dpo\u001b[0m\n",
      "\u001b[32m2025-04-05 11:03:49.052\u001b[0m | \u001b[1mINFO    \u001b[0m | \u001b[36mtrl_wrapper.trainer_wrapper\u001b[0m:\u001b[36minit_trainer\u001b[0m:\u001b[36m417\u001b[0m - \u001b[1mInitializing trainer, run_name: 04-05-11-3-770754-smollm2-135m-instruct--txt-bt-dpo, wandb project: gutenberg\u001b[0m\n",
      "\u001b[32m2025-04-05 11:03:49.052\u001b[0m | \u001b[1mINFO    \u001b[0m | \u001b[36mtrl_wrapper.trainer_wrapper\u001b[0m:\u001b[36minit_trainer\u001b[0m:\u001b[36m424\u001b[0m - \u001b[1mlogprobs cache location: ../dataset_caches/writing_d_p_o_data_module/b68b303b/ref_logprobs_cache peft config: False\u001b[0m\n",
      "Extracting prompt in train dataset: 100%|██████████| 9299/9299 [00:00<00:00, 17212.03 examples/s]\n",
      "Applying chat template to train dataset: 100%|██████████| 9299/9299 [00:00<00:00, 25497.66 examples/s]\n",
      "Tokenizing train dataset: 100%|██████████| 9299/9299 [00:15<00:00, 587.03 examples/s]\n",
      "Extracting prompt in eval dataset: 100%|██████████| 1034/1034 [00:00<00:00, 10636.64 examples/s]\n",
      "Applying chat template to eval dataset: 100%|██████████| 1034/1034 [00:00<00:00, 24922.77 examples/s]\n",
      "Tokenizing eval dataset: 100%|██████████| 1034/1034 [00:01<00:00, 601.00 examples/s]\n"
     ]
    }
   ],
   "source": [
    "wrapper.init_trainer()"
   ]
  },
  {
   "cell_type": "code",
   "execution_count": null,
   "metadata": {},
   "outputs": [],
   "source": [
    "from model.reasoning import GSM8K_SYSTEM_PROMPT, CONNECTIONS_PROMPT\n",
    "from model.utils import get_available_device\n",
    "\n",
    "messages = [\n",
    "    {\"role\": \"system\", \"content\": CONNECTIONS_PROMPT},\n",
    "    {\n",
    "        \"role\": \"user\",\n",
    "        \"content\": \"train, panda, dove, series, wind, bear, orca, bass, string, skunk, speed, sand, zebra, tourist, desert, chain\",\n",
    "    },\n",
    "]\n",
    "tokenized_chat = wrapper.tokenizer.apply_chat_template(\n",
    "    messages,\n",
    "    tokenize=True,\n",
    "    add_generation_prompt=True,\n",
    "    return_tensors=\"pt\",\n",
    "    return_attention_mask=True,\n",
    ")\n",
    "\n",
    "device = get_available_device()\n",
    "tokenized_chat = tokenized_chat.to(device)\n",
    "out = wrapper.model.generate(tokenized_chat, max_length=1024)\n",
    "print(wrapper.tokenizer.decode(out[0], skip_special_tokens=True))"
   ]
  },
  {
   "cell_type": "code",
   "execution_count": 6,
   "metadata": {},
   "outputs": [
    {
     "name": "stderr",
     "output_type": "stream",
     "text": [
      "\u001b[32m2025-04-05 11:04:11.153\u001b[0m | \u001b[1mINFO    \u001b[0m | \u001b[36mtrl_wrapper.trainer_wrapper\u001b[0m:\u001b[36mtrain\u001b[0m:\u001b[36m666\u001b[0m - \u001b[1mStarting training.\u001b[0m\n",
      "/Users/brianfitzgerald/Documents/GitHub/smolmodels/.venv/lib/python3.11/site-packages/bitsandbytes/cextension.py:34: UserWarning: The installed version of bitsandbytes was compiled without GPU support. 8-bit optimizers, 8-bit multiplication, and GPU quantization are unavailable.\n",
      "  warn(\"The installed version of bitsandbytes was compiled without GPU support. \"\n",
      "\u001b[32m2025-04-05 11:04:11.356\u001b[0m | \u001b[1mINFO    \u001b[0m | \u001b[36mtrl_wrapper.dpo_trainer\u001b[0m:\u001b[36mevaluation_loop\u001b[0m:\u001b[36m137\u001b[0m - \u001b[1mGenerating samples...\u001b[0m\n",
      "\u001b[32m2025-04-05 11:04:11.356\u001b[0m | \u001b[1mINFO    \u001b[0m | \u001b[36mtrl_wrapper.dpo_trainer\u001b[0m:\u001b[36mgenerate_from_model_and_ref\u001b[0m:\u001b[36m59\u001b[0m - \u001b[1mGenerating policy samples, max length: 1024...\u001b[0m\n"
     ]
    },
    {
     "name": "stdout",
     "output_type": "stream",
     "text": [
      "'NoneType' object has no attribute 'cadam32bit_grad_fp32'\n"
     ]
    },
    {
     "name": "stderr",
     "output_type": "stream",
     "text": [
      "`use_cache=True` is incompatible with gradient checkpointing. Setting `use_cache=False`.\n",
      "/Users/brianfitzgerald/Documents/GitHub/smolmodels/.venv/lib/python3.11/site-packages/torch/utils/checkpoint.py:87: UserWarning: None of the inputs have requires_grad=True. Gradients will be None\n",
      "  warnings.warn(\n",
      "\u001b[32m2025-04-05 11:04:31.470\u001b[0m | \u001b[1mINFO    \u001b[0m | \u001b[36mtrl_wrapper.dpo_trainer\u001b[0m:\u001b[36mgenerate_from_model_and_ref\u001b[0m:\u001b[36m86\u001b[0m - \u001b[1mGenerating reference samples, max length: 1024...\u001b[0m\n",
      "\u001b[32m2025-04-05 11:04:36.088\u001b[0m | \u001b[1mINFO    \u001b[0m | \u001b[36mtrl_wrapper.dpo_trainer\u001b[0m:\u001b[36mevaluation_loop\u001b[0m:\u001b[36m141\u001b[0m - \u001b[1mGenerated samples.\u001b[0m\n",
      "\u001b[32m2025-04-05 11:04:36.102\u001b[0m | \u001b[1mINFO    \u001b[0m | \u001b[36msynthetic_data.utils\u001b[0m:\u001b[36mlog_to_file\u001b[0m:\u001b[36m331\u001b[0m - \u001b[1mSaved eval samples.\u001b[0m\n"
     ]
    },
    {
     "name": "stdout",
     "output_type": "stream",
     "text": [
      "┌────────────────────────────────────────────────────┬────────────────────────────────────────────────────┬────────────────────────────────────────────────────┬────────────────────────────────────────────────────┬────────────────────────────────────────────────────┐\n",
      "│ prompt                                             │ policy                                             │ ref                                                │ chosen                                             │ rejected                                           │\n",
      "├────────────────────────────────────────────────────┼────────────────────────────────────────────────────┼────────────────────────────────────────────────────┼────────────────────────────────────────────────────┼────────────────────────────────────────────────────┤\n",
      "│ Write a paragraph in a fast-paced, action-oriented │ Incorporate descriptive passages about the         │ Use a mix of action, dialogue, and description to  │ With a grunt of effort, Kaelan staggered through   │ With sweat streaming down his brow, Edrin hoisted  │\n",
      "│ fantasy style, focusing on a small group of        │ characters' appearance, including their appearance │ create a gripping narrative that keeps the reader  │ the splintered doorway, his breath ragged as he    │ the limp form of his brother over his shoulder,    │\n",
      "│ characters in a desperate situation. The tone      │ as silhouettes on the walls of the building and    │ engaged. Consider using sensory details to         │ cradled the unconscious form of his companion,     │ his breath ragged as he stumbled through the       │\n",
      "│ should be urgent and slightly grim. The setting is │ their unusual or unnatural clothes. Use words that │ transport them further into the world of this      │ Elira. The air was thick with the acrid stench of  │ crumbling doorway of the derelict inn. \"We can't   │\n",
      "│ a dilapidated building in a village under attack   │ make the story particularly dark and foreboding,   │ story, drawing the reader into the desperate world │ smoke and blood, the once-vibrant village now a    │ stay here long,\" he gasped, eyes darting to the    │\n",
      "│ by monstrous creatures. Include dialogue           │ such as \"drench,\" \"deserted,\" and \"desperate.\"     │ of the characters. With a well-written and vivid   │ charnel house of shattered homes and howling       │ shattered windows where shadows loomed. Behind     │\n",
      "│ showcasing the characters' fear and                │ Some descriptions could include the sound of       │ narrative, this would be a compelling and action-  │ chaos. “We need to barricade it!” he shouted,      │ him, Lyra, her eyes a vivid, unnatural violet,     │\n",
      "│ determination.The paragraph should begin with a    │ \"whispering voices\" coming from the buildings or   │ packed fairy tale that will keep readers           │ urgency clawing at his throat as he dropped Elira  │ stood resolute, her gaze fixed on the advancing    │\n",
      "│ character carrying an unconscious companion.       │ the \"whispering darkness\" in the darkness. Other   │ enthralled till the end.Feel free to add or modify │ onto the cold, stone floor. Outside, the monstrous │ horde. The monstrous creatures, all sinew and      │\n",
      "│ Emphasize the urgency of finding shelter and the   │ words like \"soul's call\" or \"ticking heart\" could  │ sections as needed, but this is a crucial part of  │ creatures—hulking, sinewy beasts with matted fur   │ claw, snarled as they prowled closer, their forms  │\n",
      "│ immediate threat. A character with unusual eye     │ add another level of description as needed to      │ crafting the story that will bring this fantasy    │ and eyes like burning coals—howled in triumph,     │ grotesque and towering, their hunger palpable.     │\n",
      "│ coloration plays a key role, using their unique    │ evoke a sense of desperation and fear.End with a   │ world to life.                                     │ their savage forms tearing through the remnants of │ \"Lyra, now!\" Edrin urged, desperation edging his   │\n",
      "│ ability to confuse the enemy. Include a brief      │ strong call to action, emphasizing the characters' │                                                    │ the village. “I can distract them!” hissed Lirael, │ voice. She nodded, her eyes flaring with an        │\n",
      "│ description of the attackers – savage, animalistic │ determination and the true horrors of their        │                                                    │ her unusual silver eyes shimmering with an         │ otherworldly light that sent the beasts into a     │\n",
      "│ beings, stronger and larger than humans.Describe   │ situation. Make sure the stakes are clear, and the │                                                    │ otherworldly light. “Just hold them off!” She      │ momentary frenzy of confusion, buying them         │\n",
      "│ the destruction wrought by the creatures and the   │ reader should feel the pressure of the situation   │                                                    │ stepped to the cracked window, her voice rising    │ precious seconds.Outside, the village lay in ruin, │\n",
      "│ desperate attempts to barricade the building.      │ as well. For example, \"Find shelter, your heart    │                                                    │ above the din. “Look at me, you foul beasts!” As   │ the earth scorched and buildings reduced to        │\n",
      "│ Close with the sudden injury of a key character    │ will begin racing, you may soon see the monster's  │                                                    │ the creatures turned, momentarily entranced,       │ skeletal remains. The air was thick with smoke and │\n",
      "│ during an assault, creating a cliffhanger and      │ howls in the darkness. Seek out the hidden         │                                                    │ Kaelan seized the moment, shoving a rickety table  │ the acrid scent of fear. \"Barricade the door!\"     │\n",
      "│ escalating the sense of danger. Use strong verbs   │ entrance, and the darkness may lead you deeper     │                                                    │ against the door. “Hurry!” he urged, panic         │ shouted Torin, his hands a blur as he piled broken │\n",
      "│ and evocative imagery to portray the violence and  │ into the shadows.\"At the end of the paragraph, be  │                                                    │ tightening his chest. The sound of splintering     │ furniture against the entrance. The wood groaned   │\n",
      "│ chaos. Sentences should vary in length, some short │ sure to summarize the current state, and describe  │                                                    │ wood echoed through the room, and he could feel    │ under the weight, a feeble barrier against the     │\n",
      "│ and impactful, others slightly longer to build     │ what's next in the story. A strong conclusion can  │                                                    │ the ground tremble beneath the weight of their     │ relentless onslaught. \"They're coming through!\" he │\n",
      "│ suspense. Vocabulary should be appropriate for a   │ leave                                              │                                                    │ relentless assault. “They’re coming!” shouted      │ warned, his voice a mixture of terror and          │\n",
      "│ high fantasy setting, avoiding overly modern       │                                                    │                                                    │ Jarek, panic-stricken, as he fumbled with a stack  │ defiance.Suddenly, a deafening crash echoed        │\n",
      "│ language.                                          │                                                    │                                                    │ of broken chairs. Just then, a thunderous crash    │ through the room as a massive claw tore through    │\n",
      "│                                                    │                                                    │                                                    │ erupted from the door, and a massive claw burst    │ the barricade, splintering wood and sending Torin  │\n",
      "│                                                    │                                                    │                                                    │ through, splintering the barricade. “No!” Kaelan   │ sprawling. A sharp cry escaped his lips, blood     │\n",
      "│                                                    │                                                    │                                                    │ roared, lunging forward, but too late. Jarek       │ blooming from a fresh wound across his side.       │\n",
      "│                                                    │                                                    │                                                    │ screamed, blood spraying like a crimson banner as  │ Edrin's heart clenched as he dropped to his knees  │\n",
      "│                                                    │                                                    │                                                    │ the creature’s talons raked across his side,       │ beside his fallen comrade, the creatures' roars    │\n",
      "│                                                    │                                                    │                                                    │ dragging him into the maw of chaos. The air        │ growing louder, their victory almost within reach. │\n",
      "│                                                    │                                                    │                                                    │ thickened with dread, and Kaelan's heart raced as  │                                                    │\n",
      "│                                                    │                                                    │                                                    │ he realized they were out of time.                 │                                                    │\n",
      "├────────────────────────────────────────────────────┼────────────────────────────────────────────────────┼────────────────────────────────────────────────────┼────────────────────────────────────────────────────┼────────────────────────────────────────────────────┤\n",
      "│ Write a scene in a remote, perhaps off-grid        │ Remember, at the end of your story, you should     │ A:                                                 │ Dust motes danced in the single shaft of sunlight  │ In the dim glow of a single bulb hanging from the  │\n",
      "│ location where characters are seeking help from    │ include a clear and concise summary of key plot    │                                                    │ slicing through the grimy window of Silas's cabin, │ ceiling, Character A hunched over a battered       │\n",
      "│ someone who knows their area. The overall tone     │ elements.                                          │                                                    │ illuminating stacks of what looked like every      │ laptop, fingers flying across the keyboard as they │\n",
      "│ should be a mix of casual, slightly tense, and     │                                                    │                                                    │ National Geographic issue ever printed and a       │ muttered to themselves about encryption algorithms │\n",
      "│ subtly humorous. Character A is tech-savvy and     │                                                    │                                                    │ disconcerting number of mason jars filled with     │ and digital breadcrumbs. The room was a jumble of  │\n",
      "│ trying to decipher a coded message. Character B is │                                                    │                                                    │ things that were definitely not pickles. The air   │ mismatched furniture and half-empty mugs, a        │\n",
      "│ offering help while also probing for information   │                                                    │                                                    │ hung thick with the smell of woodsmoke and         │ testament to its status as a makeshift sanctuary   │\n",
      "│ about the message's contents, but the others are   │                                                    │                                                    │ something vaguely… herbal. Maya hunched over her   │ in the middle of nowhere. Character B, leaning     │\n",
      "│ evasive, creating suspicion and amusement.The      │                                                    │                                                    │ laptop, brow furrowed in concentration as lines of │ casually against a stack of old crates, watched    │\n",
      "│ paragraph should describe a conversation where     │                                                    │                                                    │ scrambled text swam across the screen. \"Okay, so   │ with a mix of curiosity and suspicion. \"So, what's │\n",
      "│ Character A is using a computer to try and decode  │                                                    │                                                    │ if we assume it's a Caesar cipher with a rotating  │ in that message? Secret treasure map? Alien        │\n",
      "│ a message. Include a moment of light conflict or   │                                                    │                                                    │ key, that gives us…\" she muttered, clicking        │ coordinates?\" they teased, their eyes glinting     │\n",
      "│ social awkwardness when Character B offers drugs,  │                                                    │                                                    │ furiously. Silas, a man whose beard seemed to have │ with mischief. A snort came from Character A, who  │\n",
      "│ which is politely declined. The environment should │                                                    │                                                    │ achieved sentience independent of his face, leaned │ replied without looking up, \"Just trying to keep   │\n",
      "│ be described as a lived-in, slightly messy space.  │                                                    │                                                    │ closer. \"Whatcha tryin' to crack there, darlin'?   │ the world from ending, no big deal.\" The air was   │\n",
      "│ The paragraph should end with the characters       │                                                    │                                                    │ Looks important.\" Ben, leaning against a bookshelf │ thick with the scent of pine and the faint, earthy │\n",
      "│ preparing to sleep, with hints of unresolved       │                                                    │                                                    │ that groaned under the weight, cut in smoothly.    │ aroma of something herbal. Character B, ever the   │\n",
      "│ tension and unspoken feelings between two of them. │                                                    │                                                    │ \"Just some old family recipes, Silas. You know,    │ wildcard, reached into their pocket and produced a │\n",
      "│ Keep the sentence structures varied, some short    │                                                    │                                                    │ Grandma's secret moonshine formula and all that.\"  │ small baggie. \"Need a little... inspiration?\" they │\n",
      "│ and punchy, some more descriptive and complex.     │                                                    │                                                    │ Silas raised a skeptical eyebrow. \"Moonshine? I    │ offered with a sly grin. Character A chuckled      │\n",
      "│ Suggest the use of colloquialisms and informal     │                                                    │                                                    │ got somethin' better right here,\" he declared,     │ awkwardly, shaking their head. \"Thanks, but I need │\n",
      "│ language to create a realistic dialogue.           │                                                    │                                                    │ pulling a small, intricately carved wooden box     │ all my brain cells for this.\" The refusal hung in  │\n",
      "│                                                    │                                                    │                                                    │ from his pocket. \"Little something to, you know,   │ the air, a moment of social clumsiness that        │\n",
      "│                                                    │                                                    │                                                    │ grease the wheels. Makes those numbers dance real  │ quickly passed as Character B shrugged and tucked  │\n",
      "│                                                    │                                                    │                                                    │ pretty.\" He winked suggestively, revealing a       │ the baggie away. As the night deepened, the group  │\n",
      "│                                                    │                                                    │                                                    │ surprisingly clean set of teeth. Maya looked up,   │ began to settle into their sleeping bags, the      │\n",
      "│                                                    │                                                    │                                                    │ momentarily distracted. \"Thanks, but I'm good.     │ crackling of the wood stove the only sound         │\n",
      "│                                                    │                                                    │                                                    │ Caffeine's my vice of choice tonight.\" Silas       │ breaking the silence. Yet, beneath the surface,    │\n",
      "│                                                    │                                                    │                                                    │ shrugged, pocketing the box. \"Suit yourself. But   │ tension simmered—unspoken words and lingering      │\n",
      "│                                                    │                                                    │                                                    │ don't say I didn't offer.\" As the sun dipped below │ glances between two of them hinting at emotions    │\n",
      "│                                                    │                                                    │                                                    │ the horizon, casting long shadows across the       │ that would have to wait for another day.           │\n",
      "│                                                    │                                                    │                                                    │ cluttered room, Ben unrolled his sleeping bag on   │                                                    │\n",
      "│                                                    │                                                    │                                                    │ the floor. Maya, after finally giving up on the    │                                                    │\n",
      "│                                                    │                                                    │                                                    │ code for the night, did the same, pointedly        │                                                    │\n",
      "│                                                    │                                                    │                                                    │ avoiding Ben's gaze. The silence stretched,        │                                                    │\n",
      "│                                                    │                                                    │                                                    │ punctuated only by the crackling of the fire and   │                                                    │\n",
      "│                                                    │                                                    │                                                    │ Silas snoring gently in his armchair. Whatever     │                                                    │\n",
      "│                                                    │                                                    │                                                    │ secrets the coded message held, they were staying  │                                                    │\n",
      "│                                                    │                                                    │                                                    │ locked away, at least for tonight, simmering just  │                                                    │\n",
      "│                                                    │                                                    │                                                    │ beneath the surface like the unspoken tension      │                                                    │\n",
      "│                                                    │                                                    │                                                    │ between Maya and Ben.                              │                                                    │\n",
      "└────────────────────────────────────────────────────┴────────────────────────────────────────────────────┴────────────────────────────────────────────────────┴────────────────────────────────────────────────────┴────────────────────────────────────────────────────┘\n"
     ]
    },
    {
     "data": {
      "text/html": [
       "\n",
       "    <div>\n",
       "      \n",
       "      <progress value='None' max='4648' style='width:300px; height:20px; vertical-align: middle;'></progress>\n",
       "      None\n",
       "    </div>\n",
       "    <table border=\"1\" class=\"dataframe\">\n",
       "  <thead>\n",
       " <tr style=\"text-align: left;\">\n",
       "      <th>Step</th>\n",
       "      <th>Training Loss</th>\n",
       "      <th>Validation Loss</th>\n",
       "    </tr>\n",
       "  </thead>\n",
       "  <tbody>\n",
       "  </tbody>\n",
       "</table><p>\n",
       "    <div>\n",
       "      \n",
       "      <progress value='21' max='517' style='width:300px; height:20px; vertical-align: middle;'></progress>\n",
       "      [ 21/517 00:25 < 10:21, 0.80 it/s]\n",
       "    </div>\n",
       "    "
      ],
      "text/plain": [
       "<IPython.core.display.HTML object>"
      ]
     },
     "metadata": {},
     "output_type": "display_data"
    },
    {
     "ename": "KeyboardInterrupt",
     "evalue": "",
     "output_type": "error",
     "traceback": [
      "\u001b[0;31m---------------------------------------------------------------------------\u001b[0m",
      "\u001b[0;31mKeyboardInterrupt\u001b[0m                         Traceback (most recent call last)",
      "Cell \u001b[0;32mIn[6], line 1\u001b[0m\n\u001b[0;32m----> 1\u001b[0m \u001b[43mwrapper\u001b[49m\u001b[38;5;241;43m.\u001b[39;49m\u001b[43mtrain\u001b[49m\u001b[43m(\u001b[49m\u001b[43m)\u001b[49m\n",
      "File \u001b[0;32m~/Documents/GitHub/smolmodels/notebooks/../trl_wrapper/trainer_wrapper.py:667\u001b[0m, in \u001b[0;36mTrainerWrapper.train\u001b[0;34m(self)\u001b[0m\n\u001b[1;32m    665\u001b[0m \u001b[38;5;28;01mdef\u001b[39;00m\u001b[38;5;250m \u001b[39m\u001b[38;5;21mtrain\u001b[39m(\u001b[38;5;28mself\u001b[39m):\n\u001b[1;32m    666\u001b[0m     logger\u001b[38;5;241m.\u001b[39minfo(\u001b[38;5;124m\"\u001b[39m\u001b[38;5;124mStarting training.\u001b[39m\u001b[38;5;124m\"\u001b[39m)\n\u001b[0;32m--> 667\u001b[0m     \u001b[38;5;28;43mself\u001b[39;49m\u001b[38;5;241;43m.\u001b[39;49m\u001b[43mtrainer\u001b[49m\u001b[38;5;241;43m.\u001b[39;49m\u001b[43mtrain\u001b[49m\u001b[43m(\u001b[49m\u001b[43m)\u001b[49m\n",
      "File \u001b[0;32m~/Documents/GitHub/smolmodels/.venv/lib/python3.11/site-packages/transformers/trainer.py:2241\u001b[0m, in \u001b[0;36mTrainer.train\u001b[0;34m(self, resume_from_checkpoint, trial, ignore_keys_for_eval, **kwargs)\u001b[0m\n\u001b[1;32m   2239\u001b[0m         hf_hub_utils\u001b[38;5;241m.\u001b[39menable_progress_bars()\n\u001b[1;32m   2240\u001b[0m \u001b[38;5;28;01melse\u001b[39;00m:\n\u001b[0;32m-> 2241\u001b[0m     \u001b[38;5;28;01mreturn\u001b[39;00m \u001b[43minner_training_loop\u001b[49m\u001b[43m(\u001b[49m\n\u001b[1;32m   2242\u001b[0m \u001b[43m        \u001b[49m\u001b[43margs\u001b[49m\u001b[38;5;241;43m=\u001b[39;49m\u001b[43margs\u001b[49m\u001b[43m,\u001b[49m\n\u001b[1;32m   2243\u001b[0m \u001b[43m        \u001b[49m\u001b[43mresume_from_checkpoint\u001b[49m\u001b[38;5;241;43m=\u001b[39;49m\u001b[43mresume_from_checkpoint\u001b[49m\u001b[43m,\u001b[49m\n\u001b[1;32m   2244\u001b[0m \u001b[43m        \u001b[49m\u001b[43mtrial\u001b[49m\u001b[38;5;241;43m=\u001b[39;49m\u001b[43mtrial\u001b[49m\u001b[43m,\u001b[49m\n\u001b[1;32m   2245\u001b[0m \u001b[43m        \u001b[49m\u001b[43mignore_keys_for_eval\u001b[49m\u001b[38;5;241;43m=\u001b[39;49m\u001b[43mignore_keys_for_eval\u001b[49m\u001b[43m,\u001b[49m\n\u001b[1;32m   2246\u001b[0m \u001b[43m    \u001b[49m\u001b[43m)\u001b[49m\n",
      "File \u001b[0;32m~/Documents/GitHub/smolmodels/.venv/lib/python3.11/site-packages/transformers/trainer.py:2458\u001b[0m, in \u001b[0;36mTrainer._inner_training_loop\u001b[0;34m(self, batch_size, args, resume_from_checkpoint, trial, ignore_keys_for_eval)\u001b[0m\n\u001b[1;32m   2455\u001b[0m \u001b[38;5;28mself\u001b[39m\u001b[38;5;241m.\u001b[39mcontrol \u001b[38;5;241m=\u001b[39m \u001b[38;5;28mself\u001b[39m\u001b[38;5;241m.\u001b[39mcallback_handler\u001b[38;5;241m.\u001b[39mon_train_begin(args, \u001b[38;5;28mself\u001b[39m\u001b[38;5;241m.\u001b[39mstate, \u001b[38;5;28mself\u001b[39m\u001b[38;5;241m.\u001b[39mcontrol)\n\u001b[1;32m   2457\u001b[0m \u001b[38;5;28;01mif\u001b[39;00m args\u001b[38;5;241m.\u001b[39meval_on_start:\n\u001b[0;32m-> 2458\u001b[0m     \u001b[38;5;28;43mself\u001b[39;49m\u001b[38;5;241;43m.\u001b[39;49m\u001b[43m_evaluate\u001b[49m\u001b[43m(\u001b[49m\u001b[43mtrial\u001b[49m\u001b[43m,\u001b[49m\u001b[43m \u001b[49m\u001b[43mignore_keys_for_eval\u001b[49m\u001b[43m,\u001b[49m\u001b[43m \u001b[49m\u001b[43mskip_scheduler\u001b[49m\u001b[38;5;241;43m=\u001b[39;49m\u001b[38;5;28;43;01mTrue\u001b[39;49;00m\u001b[43m)\u001b[49m\n\u001b[1;32m   2460\u001b[0m \u001b[38;5;28;01mfor\u001b[39;00m epoch \u001b[38;5;129;01min\u001b[39;00m \u001b[38;5;28mrange\u001b[39m(epochs_trained, num_train_epochs):\n\u001b[1;32m   2461\u001b[0m     epoch_dataloader \u001b[38;5;241m=\u001b[39m train_dataloader\n",
      "File \u001b[0;32m~/Documents/GitHub/smolmodels/.venv/lib/python3.11/site-packages/transformers/trainer.py:3039\u001b[0m, in \u001b[0;36mTrainer._evaluate\u001b[0;34m(self, trial, ignore_keys_for_eval, skip_scheduler)\u001b[0m\n\u001b[1;32m   3038\u001b[0m \u001b[38;5;28;01mdef\u001b[39;00m\u001b[38;5;250m \u001b[39m\u001b[38;5;21m_evaluate\u001b[39m(\u001b[38;5;28mself\u001b[39m, trial, ignore_keys_for_eval, skip_scheduler\u001b[38;5;241m=\u001b[39m\u001b[38;5;28;01mFalse\u001b[39;00m):\n\u001b[0;32m-> 3039\u001b[0m     metrics \u001b[38;5;241m=\u001b[39m \u001b[38;5;28;43mself\u001b[39;49m\u001b[38;5;241;43m.\u001b[39;49m\u001b[43mevaluate\u001b[49m\u001b[43m(\u001b[49m\u001b[43mignore_keys\u001b[49m\u001b[38;5;241;43m=\u001b[39;49m\u001b[43mignore_keys_for_eval\u001b[49m\u001b[43m)\u001b[49m\n\u001b[1;32m   3040\u001b[0m     \u001b[38;5;28mself\u001b[39m\u001b[38;5;241m.\u001b[39m_report_to_hp_search(trial, \u001b[38;5;28mself\u001b[39m\u001b[38;5;241m.\u001b[39mstate\u001b[38;5;241m.\u001b[39mglobal_step, metrics)\n\u001b[1;32m   3042\u001b[0m     \u001b[38;5;66;03m# Run delayed LR scheduler now that metrics are populated\u001b[39;00m\n",
      "File \u001b[0;32m~/Documents/GitHub/smolmodels/.venv/lib/python3.11/site-packages/transformers/trainer.py:4105\u001b[0m, in \u001b[0;36mTrainer.evaluate\u001b[0;34m(self, eval_dataset, ignore_keys, metric_key_prefix)\u001b[0m\n\u001b[1;32m   4102\u001b[0m start_time \u001b[38;5;241m=\u001b[39m time\u001b[38;5;241m.\u001b[39mtime()\n\u001b[1;32m   4104\u001b[0m eval_loop \u001b[38;5;241m=\u001b[39m \u001b[38;5;28mself\u001b[39m\u001b[38;5;241m.\u001b[39mprediction_loop \u001b[38;5;28;01mif\u001b[39;00m \u001b[38;5;28mself\u001b[39m\u001b[38;5;241m.\u001b[39margs\u001b[38;5;241m.\u001b[39muse_legacy_prediction_loop \u001b[38;5;28;01melse\u001b[39;00m \u001b[38;5;28mself\u001b[39m\u001b[38;5;241m.\u001b[39mevaluation_loop\n\u001b[0;32m-> 4105\u001b[0m output \u001b[38;5;241m=\u001b[39m \u001b[43meval_loop\u001b[49m\u001b[43m(\u001b[49m\n\u001b[1;32m   4106\u001b[0m \u001b[43m    \u001b[49m\u001b[43meval_dataloader\u001b[49m\u001b[43m,\u001b[49m\n\u001b[1;32m   4107\u001b[0m \u001b[43m    \u001b[49m\u001b[43mdescription\u001b[49m\u001b[38;5;241;43m=\u001b[39;49m\u001b[38;5;124;43m\"\u001b[39;49m\u001b[38;5;124;43mEvaluation\u001b[39;49m\u001b[38;5;124;43m\"\u001b[39;49m\u001b[43m,\u001b[49m\n\u001b[1;32m   4108\u001b[0m \u001b[43m    \u001b[49m\u001b[38;5;66;43;03m# No point gathering the predictions if there are no metrics, otherwise we defer to\u001b[39;49;00m\n\u001b[1;32m   4109\u001b[0m \u001b[43m    \u001b[49m\u001b[38;5;66;43;03m# self.args.prediction_loss_only\u001b[39;49;00m\n\u001b[1;32m   4110\u001b[0m \u001b[43m    \u001b[49m\u001b[43mprediction_loss_only\u001b[49m\u001b[38;5;241;43m=\u001b[39;49m\u001b[38;5;28;43;01mTrue\u001b[39;49;00m\u001b[43m \u001b[49m\u001b[38;5;28;43;01mif\u001b[39;49;00m\u001b[43m \u001b[49m\u001b[38;5;28;43mself\u001b[39;49m\u001b[38;5;241;43m.\u001b[39;49m\u001b[43mcompute_metrics\u001b[49m\u001b[43m \u001b[49m\u001b[38;5;129;43;01mis\u001b[39;49;00m\u001b[43m \u001b[49m\u001b[38;5;28;43;01mNone\u001b[39;49;00m\u001b[43m \u001b[49m\u001b[38;5;28;43;01melse\u001b[39;49;00m\u001b[43m \u001b[49m\u001b[38;5;28;43;01mNone\u001b[39;49;00m\u001b[43m,\u001b[49m\n\u001b[1;32m   4111\u001b[0m \u001b[43m    \u001b[49m\u001b[43mignore_keys\u001b[49m\u001b[38;5;241;43m=\u001b[39;49m\u001b[43mignore_keys\u001b[49m\u001b[43m,\u001b[49m\n\u001b[1;32m   4112\u001b[0m \u001b[43m    \u001b[49m\u001b[43mmetric_key_prefix\u001b[49m\u001b[38;5;241;43m=\u001b[39;49m\u001b[43mmetric_key_prefix\u001b[49m\u001b[43m,\u001b[49m\n\u001b[1;32m   4113\u001b[0m \u001b[43m\u001b[49m\u001b[43m)\u001b[49m\n\u001b[1;32m   4115\u001b[0m total_batch_size \u001b[38;5;241m=\u001b[39m \u001b[38;5;28mself\u001b[39m\u001b[38;5;241m.\u001b[39margs\u001b[38;5;241m.\u001b[39meval_batch_size \u001b[38;5;241m*\u001b[39m \u001b[38;5;28mself\u001b[39m\u001b[38;5;241m.\u001b[39margs\u001b[38;5;241m.\u001b[39mworld_size\n\u001b[1;32m   4116\u001b[0m \u001b[38;5;28;01mif\u001b[39;00m \u001b[38;5;124mf\u001b[39m\u001b[38;5;124m\"\u001b[39m\u001b[38;5;132;01m{\u001b[39;00mmetric_key_prefix\u001b[38;5;132;01m}\u001b[39;00m\u001b[38;5;124m_jit_compilation_time\u001b[39m\u001b[38;5;124m\"\u001b[39m \u001b[38;5;129;01min\u001b[39;00m output\u001b[38;5;241m.\u001b[39mmetrics:\n",
      "File \u001b[0;32m~/Documents/GitHub/smolmodels/notebooks/../trl_wrapper/dpo_trainer.py:194\u001b[0m, in \u001b[0;36mCustomDPOTrainer.evaluation_loop\u001b[0;34m(self, dataloader, description, prediction_loss_only, ignore_keys, metric_key_prefix)\u001b[0m\n\u001b[1;32m    191\u001b[0m     \u001b[38;5;28mself\u001b[39m\u001b[38;5;241m.\u001b[39mstate\u001b[38;5;241m.\u001b[39mlog_history\u001b[38;5;241m.\u001b[39mpop()\n\u001b[1;32m    193\u001b[0m \u001b[38;5;66;03m# Base evaluation\u001b[39;00m\n\u001b[0;32m--> 194\u001b[0m initial_output \u001b[38;5;241m=\u001b[39m \u001b[43mTrainer\u001b[49m\u001b[38;5;241;43m.\u001b[39;49m\u001b[43mevaluation_loop\u001b[49m\u001b[43m(\u001b[49m\n\u001b[1;32m    195\u001b[0m \u001b[43m    \u001b[49m\u001b[38;5;28;43mself\u001b[39;49m\u001b[43m,\u001b[49m\n\u001b[1;32m    196\u001b[0m \u001b[43m    \u001b[49m\u001b[43mdataloader\u001b[49m\u001b[43m,\u001b[49m\n\u001b[1;32m    197\u001b[0m \u001b[43m    \u001b[49m\u001b[43mdescription\u001b[49m\u001b[43m,\u001b[49m\n\u001b[1;32m    198\u001b[0m \u001b[43m    \u001b[49m\u001b[43mprediction_loss_only\u001b[49m\u001b[43m,\u001b[49m\n\u001b[1;32m    199\u001b[0m \u001b[43m    \u001b[49m\u001b[43mignore_keys\u001b[49m\u001b[43m,\u001b[49m\n\u001b[1;32m    200\u001b[0m \u001b[43m    \u001b[49m\u001b[43mmetric_key_prefix\u001b[49m\u001b[43m,\u001b[49m\n\u001b[1;32m    201\u001b[0m \u001b[43m\u001b[49m\u001b[43m)\u001b[49m\n\u001b[1;32m    203\u001b[0m \u001b[38;5;28;01mreturn\u001b[39;00m initial_output\n",
      "File \u001b[0;32m~/Documents/GitHub/smolmodels/.venv/lib/python3.11/site-packages/transformers/trainer.py:4299\u001b[0m, in \u001b[0;36mTrainer.evaluation_loop\u001b[0;34m(self, dataloader, description, prediction_loss_only, ignore_keys, metric_key_prefix)\u001b[0m\n\u001b[1;32m   4296\u001b[0m         batch_size \u001b[38;5;241m=\u001b[39m observed_batch_size\n\u001b[1;32m   4298\u001b[0m \u001b[38;5;66;03m# Prediction step\u001b[39;00m\n\u001b[0;32m-> 4299\u001b[0m losses, logits, labels \u001b[38;5;241m=\u001b[39m \u001b[38;5;28;43mself\u001b[39;49m\u001b[38;5;241;43m.\u001b[39;49m\u001b[43mprediction_step\u001b[49m\u001b[43m(\u001b[49m\u001b[43mmodel\u001b[49m\u001b[43m,\u001b[49m\u001b[43m \u001b[49m\u001b[43minputs\u001b[49m\u001b[43m,\u001b[49m\u001b[43m \u001b[49m\u001b[43mprediction_loss_only\u001b[49m\u001b[43m,\u001b[49m\u001b[43m \u001b[49m\u001b[43mignore_keys\u001b[49m\u001b[38;5;241;43m=\u001b[39;49m\u001b[43mignore_keys\u001b[49m\u001b[43m)\u001b[49m\n\u001b[1;32m   4300\u001b[0m main_input_name \u001b[38;5;241m=\u001b[39m \u001b[38;5;28mgetattr\u001b[39m(\u001b[38;5;28mself\u001b[39m\u001b[38;5;241m.\u001b[39mmodel, \u001b[38;5;124m\"\u001b[39m\u001b[38;5;124mmain_input_name\u001b[39m\u001b[38;5;124m\"\u001b[39m, \u001b[38;5;124m\"\u001b[39m\u001b[38;5;124minput_ids\u001b[39m\u001b[38;5;124m\"\u001b[39m)\n\u001b[1;32m   4301\u001b[0m inputs_decode \u001b[38;5;241m=\u001b[39m (\n\u001b[1;32m   4302\u001b[0m     \u001b[38;5;28mself\u001b[39m\u001b[38;5;241m.\u001b[39m_prepare_input(inputs[main_input_name]) \u001b[38;5;28;01mif\u001b[39;00m \u001b[38;5;124m\"\u001b[39m\u001b[38;5;124minputs\u001b[39m\u001b[38;5;124m\"\u001b[39m \u001b[38;5;129;01min\u001b[39;00m args\u001b[38;5;241m.\u001b[39minclude_for_metrics \u001b[38;5;28;01melse\u001b[39;00m \u001b[38;5;28;01mNone\u001b[39;00m\n\u001b[1;32m   4303\u001b[0m )\n",
      "File \u001b[0;32m~/Documents/GitHub/smolmodels/.venv/lib/python3.11/site-packages/trl/trainer/dpo_trainer.py:1431\u001b[0m, in \u001b[0;36mDPOTrainer.prediction_step\u001b[0;34m(self, model, inputs, prediction_loss_only, ignore_keys)\u001b[0m\n\u001b[1;32m   1428\u001b[0m prediction_context_manager \u001b[38;5;241m=\u001b[39m amp\u001b[38;5;241m.\u001b[39mautocast(device_type) \u001b[38;5;28;01mif\u001b[39;00m \u001b[38;5;28mself\u001b[39m\u001b[38;5;241m.\u001b[39m_peft_has_been_casted_to_bf16 \u001b[38;5;28;01melse\u001b[39;00m nullcontext()\n\u001b[1;32m   1430\u001b[0m \u001b[38;5;28;01mwith\u001b[39;00m torch\u001b[38;5;241m.\u001b[39mno_grad(), prediction_context_manager:\n\u001b[0;32m-> 1431\u001b[0m     loss, metrics \u001b[38;5;241m=\u001b[39m \u001b[38;5;28;43mself\u001b[39;49m\u001b[38;5;241;43m.\u001b[39;49m\u001b[43mget_batch_loss_metrics\u001b[49m\u001b[43m(\u001b[49m\u001b[43mmodel\u001b[49m\u001b[43m,\u001b[49m\u001b[43m \u001b[49m\u001b[43minputs\u001b[49m\u001b[43m,\u001b[49m\u001b[43m \u001b[49m\u001b[43mtrain_eval\u001b[49m\u001b[38;5;241;43m=\u001b[39;49m\u001b[38;5;124;43m\"\u001b[39;49m\u001b[38;5;124;43meval\u001b[39;49m\u001b[38;5;124;43m\"\u001b[39;49m\u001b[43m)\u001b[49m\n\u001b[1;32m   1433\u001b[0m \u001b[38;5;66;03m# force log the metrics\u001b[39;00m\n\u001b[1;32m   1434\u001b[0m \u001b[38;5;28mself\u001b[39m\u001b[38;5;241m.\u001b[39mstore_metrics(metrics, train_eval\u001b[38;5;241m=\u001b[39m\u001b[38;5;124m\"\u001b[39m\u001b[38;5;124meval\u001b[39m\u001b[38;5;124m\"\u001b[39m)\n",
      "File \u001b[0;32m~/Documents/GitHub/smolmodels/.venv/lib/python3.11/site-packages/trl/trainer/dpo_trainer.py:1290\u001b[0m, in \u001b[0;36mDPOTrainer.get_batch_loss_metrics\u001b[0;34m(self, model, batch, train_eval)\u001b[0m\n\u001b[1;32m   1287\u001b[0m \u001b[38;5;250m\u001b[39m\u001b[38;5;124;03m\"\"\"Compute the DPO loss and other metrics for the given batch of inputs for train or test.\"\"\"\u001b[39;00m\n\u001b[1;32m   1288\u001b[0m metrics \u001b[38;5;241m=\u001b[39m {}\n\u001b[0;32m-> 1290\u001b[0m model_output \u001b[38;5;241m=\u001b[39m \u001b[38;5;28;43mself\u001b[39;49m\u001b[38;5;241;43m.\u001b[39;49m\u001b[43mconcatenated_forward\u001b[49m\u001b[43m(\u001b[49m\u001b[43mmodel\u001b[49m\u001b[43m,\u001b[49m\u001b[43m \u001b[49m\u001b[43mbatch\u001b[49m\u001b[43m)\u001b[49m\n\u001b[1;32m   1292\u001b[0m \u001b[38;5;66;03m# if ref_chosen_logps and ref_rejected_logps in batch use them, otherwise use the reference model\u001b[39;00m\n\u001b[1;32m   1293\u001b[0m \u001b[38;5;28;01mif\u001b[39;00m \u001b[38;5;124m\"\u001b[39m\u001b[38;5;124mref_chosen_logps\u001b[39m\u001b[38;5;124m\"\u001b[39m \u001b[38;5;129;01min\u001b[39;00m batch \u001b[38;5;129;01mand\u001b[39;00m \u001b[38;5;124m\"\u001b[39m\u001b[38;5;124mref_rejected_logps\u001b[39m\u001b[38;5;124m\"\u001b[39m \u001b[38;5;129;01min\u001b[39;00m batch:\n",
      "File \u001b[0;32m~/Documents/GitHub/smolmodels/.venv/lib/python3.11/site-packages/trl/trainer/dpo_trainer.py:1271\u001b[0m, in \u001b[0;36mDPOTrainer.concatenated_forward\u001b[0;34m(self, model, batch)\u001b[0m\n\u001b[1;32m   1269\u001b[0m \u001b[38;5;28;01melse\u001b[39;00m:\n\u001b[1;32m   1270\u001b[0m     mean_chosen_logits \u001b[38;5;241m=\u001b[39m logits[:num_examples][loss_mask[:num_examples]]\u001b[38;5;241m.\u001b[39mmean()\n\u001b[0;32m-> 1271\u001b[0m     mean_rejected_logits \u001b[38;5;241m=\u001b[39m \u001b[43mlogits\u001b[49m\u001b[43m[\u001b[49m\u001b[43mnum_examples\u001b[49m\u001b[43m:\u001b[49m\u001b[43m]\u001b[49m\u001b[43m[\u001b[49m\u001b[43mloss_mask\u001b[49m\u001b[43m[\u001b[49m\u001b[43mnum_examples\u001b[49m\u001b[43m:\u001b[49m\u001b[43m]\u001b[49m\u001b[43m]\u001b[49m\u001b[38;5;241;43m.\u001b[39;49m\u001b[43mmean\u001b[49m\u001b[43m(\u001b[49m\u001b[43m)\u001b[49m\n\u001b[1;32m   1273\u001b[0m output[\u001b[38;5;124m\"\u001b[39m\u001b[38;5;124mmean_chosen_logits\u001b[39m\u001b[38;5;124m\"\u001b[39m] \u001b[38;5;241m=\u001b[39m mean_chosen_logits\n\u001b[1;32m   1274\u001b[0m output[\u001b[38;5;124m\"\u001b[39m\u001b[38;5;124mmean_rejected_logits\u001b[39m\u001b[38;5;124m\"\u001b[39m] \u001b[38;5;241m=\u001b[39m mean_rejected_logits\n",
      "\u001b[0;31mKeyboardInterrupt\u001b[0m: "
     ]
    }
   ],
   "source": [
    "wrapper.train()"
   ]
  }
 ],
 "metadata": {
  "kernelspec": {
   "display_name": ".venv",
   "language": "python",
   "name": "python3"
  },
  "language_info": {
   "codemirror_mode": {
    "name": "ipython",
    "version": 3
   },
   "file_extension": ".py",
   "mimetype": "text/x-python",
   "name": "python",
   "nbconvert_exporter": "python",
   "pygments_lexer": "ipython3",
   "version": "3.11.11"
  }
 },
 "nbformat": 4,
 "nbformat_minor": 2
}
