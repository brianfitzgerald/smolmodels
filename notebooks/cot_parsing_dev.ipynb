{
 "cells": [
  {
   "cell_type": "code",
   "execution_count": 33,
   "metadata": {},
   "outputs": [],
   "source": [
    "from IPython.display import display, Markdown\n",
    "import polars as pl\n",
    "import mistune"
   ]
  },
  {
   "cell_type": "code",
   "execution_count": 5,
   "metadata": {},
   "outputs": [],
   "source": [
    "dataset_pl = pl.read_parquet(\"../codecontests_cot_sft.parquet\")"
   ]
  },
  {
   "cell_type": "code",
   "execution_count": null,
   "metadata": {},
   "outputs": [],
   "source": [
    "all_problems = []\n",
    "all_completions = []\n",
    "for i in range(len(dataset_pl)):\n",
    "    row = dataset_pl[i]\n",
    "    for j in range(len(row[\"problem\"])):\n",
    "        all_problems.append(row[\"problem\"][j])\n",
    "    for j in range(len(row[\"completions\"][0])):\n",
    "        all_completions.append(row[\"completions\"][0][j])"
   ]
  },
  {
   "cell_type": "code",
   "execution_count": null,
   "metadata": {},
   "outputs": [],
   "source": [
    "for problem, completion in zip(all_problems, all_completions):\n",
    "    display(Markdown(f\"### Problem:\"))\n",
    "    display(problem)\n",
    "    display(completion)"
   ]
  },
  {
   "cell_type": "code",
   "execution_count": 157,
   "metadata": {},
   "outputs": [
    {
     "data": {
      "text/plain": [
       "[\"Count the Digits: First, count the number of '8's and the total number of other digits available.\",\n",
       " \"Determine the Maximum Number of Phone Numbers: The maximum number of phone numbers is limited by the number of '8's and the number of other digits. Specifically, the number of phone numbers cannot exceed the number of '8's, and it also cannot exceed the total number of other digits divided by 10 (since each phone number requires 10 other digits).\",\n",
       " \"Calculate the Result: The result is the minimum of the number of '8's and the total number of other digits divided by 10.\"]"
      ]
     },
     "metadata": {},
     "output_type": "display_data"
    },
    {
     "data": {
      "text/plain": [
       "[\"Count the Digits: First, count the number of '8's and the total number of other digits available.\",\n",
       " \"Determine the Maximum Number of Phone Numbers: The maximum number of phone numbers is limited by the number of '8's and the number of other digits. Specifically, the number of phone numbers cannot exceed the number of '8's, and it also cannot exceed the total number of other digits divided by 10 (since each phone number requires 10 other digits).\",\n",
       " \"Calculate the Result: The result is the minimum of the number of '8's and the total number of other digits divided by 10.\"]"
      ]
     },
     "metadata": {},
     "output_type": "display_data"
    },
    {
     "data": {
      "text/plain": [
       "[\"Count the Digits: First, count the number of '8's and the total number of other digits available.\",\n",
       " \"Determine the Maximum Number of Phone Numbers: The maximum number of phone numbers is limited by the number of '8's and the number of other digits. Specifically, the number of phone numbers cannot exceed the number of '8's, and it also cannot exceed the total number of other digits divided by 10 (since each phone number requires 10 other digits).\",\n",
       " \"Calculate the Result: The result is the minimum of the number of '8's and the total number of other digits divided by 10.\"]"
      ]
     },
     "metadata": {},
     "output_type": "display_data"
    },
    {
     "data": {
      "text/plain": [
       "[\"Count the Digits: First, count the number of '8's and the total number of other digits available.\",\n",
       " \"Determine the Maximum Number of Phone Numbers: The maximum number of phone numbers is limited by the number of '8's and the number of other digits. Specifically, the number of phone numbers cannot exceed the number of '8's, and it also cannot exceed the total number of other digits divided by 10 (since each phone number requires 10 other digits).\",\n",
       " \"Calculate the Result: The result is the minimum of the number of '8's and the total number of other digits divided by 10.\"]"
      ]
     },
     "metadata": {},
     "output_type": "display_data"
    },
    {
     "data": {
      "text/plain": [
       "['Sorting and Selection: For each query, we need to select the  elements that form the optimal subsequence. To maximize the sum, we should select the  largest elements. However, to ensure the subsequence is lexicographically minimal, we need to consider the original indices of these elements.',\n",
       " 'Handling Lexicographical Order: After selecting the  largest elements, we need to arrange them in the order of their original indices to ensure the subsequence is lexicographically minimal.',\n",
       " 'Query Processing: For each query, we perform the following steps:']"
      ]
     },
     "metadata": {},
     "output_type": "display_data"
    },
    {
     "data": {
      "text/plain": [
       "['Sorting and Selection: For each query, we need to select the  elements that form the optimal subsequence. To maximize the sum, we should select the  largest elements. However, to ensure the subsequence is lexicographically minimal, we need to consider the original indices of these elements.',\n",
       " 'Handling Lexicographical Order: After selecting the  largest elements, we need to arrange them in the order of their original indices to ensure the subsequence is lexicographically minimal.',\n",
       " 'Query Processing: For each query, we perform the following steps:']"
      ]
     },
     "metadata": {},
     "output_type": "display_data"
    },
    {
     "data": {
      "text/plain": [
       "['Sorting and Selection: For each query, we need to select the  elements that form the optimal subsequence. To maximize the sum, we should select the  largest elements. However, to ensure the subsequence is lexicographically minimal, we need to consider the original indices of these elements.',\n",
       " 'Handling Lexicographical Order: After selecting the  largest elements, we need to arrange them in the order of their original indices to ensure the subsequence is lexicographically minimal.',\n",
       " 'Query Processing: For each query, we perform the following steps:']"
      ]
     },
     "metadata": {},
     "output_type": "display_data"
    },
    {
     "data": {
      "text/plain": [
       "['Sorting and Selection: For each query, we need to select the  elements that form the optimal subsequence. To maximize the sum, we should select the  largest elements. However, to ensure the subsequence is lexicographically minimal, we need to consider the original indices of these elements.',\n",
       " 'Handling Lexicographical Order: After selecting the  largest elements, we need to arrange them in the order of their original indices to ensure the subsequence is lexicographically minimal.',\n",
       " 'Query Processing: For each query, we perform the following steps:']"
      ]
     },
     "metadata": {},
     "output_type": "display_data"
    },
    {
     "data": {
      "text/plain": [
       "['Sorting Minions: We need to determine the optimal order in which to summon the minions. One effective strategy is to sort the minions based on their  values in descending order. This way, minions that provide the largest boosts to previously summoned minions are summoned first.',\n",
       " 'Summoning and Destroying: After sorting, we can iterate through the minions and decide whether to summon them or not. Since we can only have  minions at any time, we need to manage the minions carefully. If we have already summoned  minions, we need to destroy one before summoning a new one. The minion to destroy should be the one that contributes the least to the total power.',\n",
       " 'Tracking Power Levels: We need to keep track of the current power levels of the minions under control. When a new minion is summoned, we update the power levels of all existing minions by adding the  value of the new minion.',\n",
       " 'Output the Sequence: Finally, we need to output the sequence of actions (summoning and destroying) that leads to the maximum total power.']"
      ]
     },
     "metadata": {},
     "output_type": "display_data"
    },
    {
     "data": {
      "text/plain": [
       "['Sorting Minions: We need to determine the optimal order in which to summon the minions. One effective strategy is to sort the minions based on their  values in descending order. This way, minions that provide the largest boosts to previously summoned minions are summoned first.',\n",
       " 'Summoning and Destroying: After sorting, we can iterate through the minions and decide whether to summon them or not. Since we can only have  minions at any time, we need to manage the minions carefully. If we have already summoned  minions, we need to destroy one before summoning a new one. The minion to destroy should be the one that contributes the least to the total power.',\n",
       " 'Tracking Power Levels: We need to keep track of the current power levels of the minions under control. When a new minion is summoned, we update the power levels of all existing minions by adding the  value of the new minion.',\n",
       " 'Output the Sequence: Finally, we need to output the sequence of actions (summoning and destroying) that leads to the maximum total power.']"
      ]
     },
     "metadata": {},
     "output_type": "display_data"
    },
    {
     "data": {
      "text/plain": [
       "['Sorting Minions: We need to determine the optimal order in which to summon the minions. One effective strategy is to sort the minions based on their  values in descending order. This way, minions that provide the largest boosts to previously summoned minions are summoned first.',\n",
       " 'Summoning and Destroying: After sorting, we can iterate through the minions and decide whether to summon them or not. Since we can only have  minions at any time, we need to manage the minions carefully. If we have already summoned  minions, we need to destroy one before summoning a new one. The minion to destroy should be the one that contributes the least to the total power.',\n",
       " 'Tracking Power Levels: We need to keep track of the current power levels of the minions under control. When a new minion is summoned, we update the power levels of all existing minions by adding the  value of the new minion.',\n",
       " 'Output the Sequence: Finally, we need to output the sequence of actions (summoning and destroying) that leads to the maximum total power.']"
      ]
     },
     "metadata": {},
     "output_type": "display_data"
    },
    {
     "data": {
      "text/plain": [
       "['Sorting Minions: We need to determine the optimal order in which to summon the minions. One effective strategy is to sort the minions based on their  values in descending order. This way, minions that provide the largest boosts to previously summoned minions are summoned first.',\n",
       " 'Summoning and Destroying: After sorting, we can iterate through the minions and decide whether to summon them or not. Since we can only have  minions at any time, we need to manage the minions carefully. If we have already summoned  minions, we need to destroy one before summoning a new one. The minion to destroy should be the one that contributes the least to the total power.',\n",
       " 'Tracking Power Levels: We need to keep track of the current power levels of the minions under control. When a new minion is summoned, we update the power levels of all existing minions by adding the  value of the new minion.',\n",
       " 'Output the Sequence: Finally, we need to output the sequence of actions (summoning and destroying) that leads to the maximum total power.']"
      ]
     },
     "metadata": {},
     "output_type": "display_data"
    },
    {
     "data": {
      "text/plain": [
       "['Initial Candles: Vasily starts with  candles. Each candle burns for 1 hour, so initially, he can light the room for  hours.',\n",
       " 'Burnt Candles: After burning the initial  candles, he will have  burnt-out candles.',\n",
       " 'Creating New Candles: For every  burnt-out candles, Vasily can create 1 new candle. This new candle can be burned for another hour.',\n",
       " 'Repeat the Process: The process of burning candles and creating new ones from the burnt-out candles continues until Vasily no longer has enough burnt-out candles to create a new candle.',\n",
       " 'Total Hours: The total number of hours is the sum of the hours from the initial candles and the hours from the newly created candles.']"
      ]
     },
     "metadata": {},
     "output_type": "display_data"
    },
    {
     "data": {
      "text/plain": [
       "['Start with the initial number of candles  and calculate the total hours as .',\n",
       " 'Calculate the number of new candles that can be created from the burnt-out candles.',\n",
       " 'Add the hours from the new candles to the total.',\n",
       " 'Update the number of burnt-out candles after creating new candles.',\n",
       " 'Repeat the process until no more new candles can be created.']"
      ]
     },
     "metadata": {},
     "output_type": "display_data"
    },
    {
     "data": {
      "text/plain": [
       "['Initial Candles: Vasily starts with  candles. Each candle burns for 1 hour, so initially, he can light the room for  hours.',\n",
       " 'Burnt Candles: After burning the initial  candles, he will have  burnt-out candles.',\n",
       " 'Creating New Candles: For every  burnt-out candles, Vasily can create 1 new candle. This new candle can be burned for another hour.',\n",
       " 'Repeat the Process: The process of burning candles and creating new ones from the burnt-out candles continues until Vasily no longer has enough burnt-out candles to create a new candle.',\n",
       " 'Total Hours: The total number of hours is the sum of the hours from the initial candles and the hours from the newly created candles.']"
      ]
     },
     "metadata": {},
     "output_type": "display_data"
    },
    {
     "data": {
      "text/plain": [
       "['Start with the initial number of candles  and calculate the total hours as .',\n",
       " 'Calculate the number of new candles that can be created from the burnt-out candles.',\n",
       " 'Add the hours from the new candles to the total.',\n",
       " 'Update the number of burnt-out candles after creating new candles.',\n",
       " 'Repeat the process until no more new candles can be created.']"
      ]
     },
     "metadata": {},
     "output_type": "display_data"
    },
    {
     "data": {
      "text/plain": [
       "['Initial Candles: Vasily starts with  candles. Each candle burns for 1 hour, so initially, he can light the room for  hours.',\n",
       " 'Burnt Candles: After burning the initial  candles, he will have  burnt-out candles.',\n",
       " 'Creating New Candles: For every  burnt-out candles, Vasily can create 1 new candle. This new candle can be burned for another hour.',\n",
       " 'Repeat the Process: The process of burning candles and creating new ones from the burnt-out candles continues until Vasily no longer has enough burnt-out candles to create a new candle.',\n",
       " 'Total Hours: The total number of hours is the sum of the hours from the initial candles and the hours from the newly created candles.']"
      ]
     },
     "metadata": {},
     "output_type": "display_data"
    },
    {
     "data": {
      "text/plain": [
       "['Start with the initial number of candles  and calculate the total hours as .',\n",
       " 'Calculate the number of new candles that can be created from the burnt-out candles.',\n",
       " 'Add the hours from the new candles to the total.',\n",
       " 'Update the number of burnt-out candles after creating new candles.',\n",
       " 'Repeat the process until no more new candles can be created.']"
      ]
     },
     "metadata": {},
     "output_type": "display_data"
    },
    {
     "data": {
      "text/plain": [
       "['Initial Candles: Vasily starts with  candles. Each candle burns for 1 hour, so initially, he can light the room for  hours.',\n",
       " 'Burnt Candles: After burning the initial  candles, he will have  burnt-out candles.',\n",
       " 'Creating New Candles: For every  burnt-out candles, Vasily can create 1 new candle. This new candle can be burned for another hour.',\n",
       " 'Repeat the Process: The process of burning candles and creating new ones from the burnt-out candles continues until Vasily no longer has enough burnt-out candles to create a new candle.',\n",
       " 'Total Hours: The total number of hours is the sum of the hours from the initial candles and the hours from the newly created candles.']"
      ]
     },
     "metadata": {},
     "output_type": "display_data"
    },
    {
     "data": {
      "text/plain": [
       "['Start with the initial number of candles  and calculate the total hours as .',\n",
       " 'Calculate the number of new candles that can be created from the burnt-out candles.',\n",
       " 'Add the hours from the new candles to the total.',\n",
       " 'Update the number of burnt-out candles after creating new candles.',\n",
       " 'Repeat the process until no more new candles can be created.']"
      ]
     },
     "metadata": {},
     "output_type": "display_data"
    },
    {
     "data": {
      "text/plain": [
       "['Initialization: Start by reading the number of trees and their coordinates and heights.',\n",
       " 'Greedy Strategy: For each tree, decide whether to fell it to the left, to the right, or not at all. The decision should be based on whether the segment it would occupy overlaps with the segments of the previous or next tree.',\n",
       " 'Left Fell: If the tree can be felled to the left without overlapping with the previous tree, do so.',\n",
       " 'Right Fell: If the tree cannot be felled to the left, check if it can be felled to the right without overlapping with the next tree.',\n",
       " 'No Fell: If neither option is possible, leave the tree standing.',\n",
       " 'Count: Keep a count of the number of trees that can be felled.']"
      ]
     },
     "metadata": {},
     "output_type": "display_data"
    },
    {
     "data": {
      "text/plain": [
       "['Initialization: Start by reading the number of trees and their coordinates and heights.',\n",
       " 'Greedy Strategy: For each tree, decide whether to fell it to the left, to the right, or not at all. The decision should be based on whether the segment it would occupy overlaps with the segments of the previous or next tree.',\n",
       " 'Left Fell: If the tree can be felled to the left without overlapping with the previous tree, do so.',\n",
       " 'Right Fell: If the tree cannot be felled to the left, check if it can be felled to the right without overlapping with the next tree.',\n",
       " 'No Fell: If neither option is possible, leave the tree standing.',\n",
       " 'Count: Keep a count of the number of trees that can be felled.']"
      ]
     },
     "metadata": {},
     "output_type": "display_data"
    },
    {
     "data": {
      "text/plain": [
       "['Initialization: Start by reading the number of trees and their coordinates and heights.',\n",
       " 'Greedy Strategy: For each tree, decide whether to fell it to the left, to the right, or not at all. The decision should be based on whether the segment it would occupy overlaps with the segments of the previous or next tree.',\n",
       " 'Left Fell: If the tree can be felled to the left without overlapping with the previous tree, do so.',\n",
       " 'Right Fell: If the tree cannot be felled to the left, check if it can be felled to the right without overlapping with the next tree.',\n",
       " 'No Fell: If neither option is possible, leave the tree standing.',\n",
       " 'Count: Keep a count of the number of trees that can be felled.']"
      ]
     },
     "metadata": {},
     "output_type": "display_data"
    },
    {
     "data": {
      "text/plain": [
       "['Initialization: Start by reading the number of trees and their coordinates and heights.',\n",
       " 'Greedy Strategy: For each tree, decide whether to fell it to the left, to the right, or not at all. The decision should be based on whether the segment it would occupy overlaps with the segments of the previous or next tree.',\n",
       " 'Left Fell: If the tree can be felled to the left without overlapping with the previous tree, do so.',\n",
       " 'Right Fell: If the tree cannot be felled to the left, check if it can be felled to the right without overlapping with the next tree.',\n",
       " 'No Fell: If neither option is possible, leave the tree standing.',\n",
       " 'Count: Keep a count of the number of trees that can be felled.']"
      ]
     },
     "metadata": {},
     "output_type": "display_data"
    },
    {
     "data": {
      "text/plain": [
       "['Parsing the Rebus:',\n",
       " 'Understanding the Equation:',\n",
       " 'Determining Possibility:',\n",
       " 'Constructing a Solution:']"
      ]
     },
     "metadata": {},
     "output_type": "display_data"
    },
    {
     "data": {
      "text/plain": [
       "['Parsing the Rebus:',\n",
       " 'Understanding the Equation:',\n",
       " 'Determining Possibility:',\n",
       " 'Constructing a Solution:']"
      ]
     },
     "metadata": {},
     "output_type": "display_data"
    },
    {
     "data": {
      "text/plain": [
       "['Parsing the Rebus:',\n",
       " 'Understanding the Equation:',\n",
       " 'Determining Possibility:',\n",
       " 'Constructing a Solution:']"
      ]
     },
     "metadata": {},
     "output_type": "display_data"
    },
    {
     "data": {
      "text/plain": [
       "['Parsing the Rebus:',\n",
       " 'Understanding the Equation:',\n",
       " 'Determining Possibility:',\n",
       " 'Constructing a Solution:']"
      ]
     },
     "metadata": {},
     "output_type": "display_data"
    },
    {
     "data": {
      "text/plain": [
       "['Understanding the Problem:',\n",
       " 'Cyclic Shifts:',\n",
       " 'Calculating Deviation:',\n",
       " 'Optimization:',\n",
       " 'Implementation:']"
      ]
     },
     "metadata": {},
     "output_type": "display_data"
    },
    {
     "data": {
      "text/plain": [
       "['Understanding the Problem:',\n",
       " 'Cyclic Shifts:',\n",
       " 'Calculating Deviation:',\n",
       " 'Optimization:',\n",
       " 'Implementation:']"
      ]
     },
     "metadata": {},
     "output_type": "display_data"
    },
    {
     "data": {
      "text/plain": [
       "['Understanding the Problem:',\n",
       " 'Cyclic Shifts:',\n",
       " 'Calculating Deviation:',\n",
       " 'Optimization:',\n",
       " 'Implementation:']"
      ]
     },
     "metadata": {},
     "output_type": "display_data"
    },
    {
     "data": {
      "text/plain": [
       "['Understanding the Problem:',\n",
       " 'Cyclic Shifts:',\n",
       " 'Calculating Deviation:',\n",
       " 'Optimization:',\n",
       " 'Implementation:']"
      ]
     },
     "metadata": {},
     "output_type": "display_data"
    },
    {
     "data": {
      "text/plain": [
       "['Problem Analysis:', 'Key Insight:', 'Algorithm:', 'Implementation:']"
      ]
     },
     "metadata": {},
     "output_type": "display_data"
    },
    {
     "data": {
      "text/plain": [
       "['Problem Analysis:', 'Key Insight:', 'Algorithm:', 'Implementation:']"
      ]
     },
     "metadata": {},
     "output_type": "display_data"
    },
    {
     "data": {
      "text/plain": [
       "['Problem Analysis:', 'Key Insight:', 'Algorithm:', 'Implementation:']"
      ]
     },
     "metadata": {},
     "output_type": "display_data"
    },
    {
     "data": {
      "text/plain": [
       "['Problem Analysis:', 'Key Insight:', 'Algorithm:', 'Implementation:']"
      ]
     },
     "metadata": {},
     "output_type": "display_data"
    },
    {
     "data": {
      "text/plain": [
       "['Rotation Operation: Rotating a vector by 90 degrees clockwise transforms the vector (x, y) into (y, -x). This operation can be applied multiple times, leading to the following transformations:',\n",
       " 'Addition Operation: Adding vector C to vector A results in (x + Cx, y + Cy). This operation can be applied any number of times, effectively scaling vector C by an integer factor.',\n",
       " 'Combining Operations: To transform vector A into vector B, we need to find a combination of rotations and additions of vector C that can achieve this. Specifically, we need to check if there exists a rotation of vector A and a multiple of vector C that can sum up to vector B.',\n",
       " \"Mathematical Formulation: Let’s denote the rotated vector A as A' and the multiple of vector C as k * C. We need to check if there exists a rotation of A and an integer k such that:[A' + k \\\\cdot C = B]This can be rewritten as:[k \\\\cdot C = B - A']For this equation to have a solution, the vector ( B - A' ) must be a scalar multiple of vector C.\",\n",
       " 'Implementation Steps:']"
      ]
     },
     "metadata": {},
     "output_type": "display_data"
    },
    {
     "data": {
      "text/plain": [
       "['Rotation Operation: Rotating a vector by 90 degrees clockwise transforms the vector (x, y) into (y, -x). This operation can be applied multiple times, leading to the following transformations:',\n",
       " 'Addition Operation: Adding vector C to vector A results in (x + Cx, y + Cy). This operation can be applied any number of times, effectively scaling vector C by an integer factor.',\n",
       " 'Combining Operations: To transform vector A into vector B, we need to find a combination of rotations and additions of vector C that can achieve this. Specifically, we need to check if there exists a rotation of vector A and a multiple of vector C that can sum up to vector B.',\n",
       " \"Mathematical Formulation: Let’s denote the rotated vector A as A' and the multiple of vector C as k * C. We need to check if there exists a rotation of A and an integer k such that:[A' + k \\\\cdot C = B]This can be rewritten as:[k \\\\cdot C = B - A']For this equation to have a solution, the vector ( B - A' ) must be a scalar multiple of vector C.\",\n",
       " 'Implementation Steps:']"
      ]
     },
     "metadata": {},
     "output_type": "display_data"
    },
    {
     "data": {
      "text/plain": [
       "['Rotation Operation: Rotating a vector by 90 degrees clockwise transforms the vector (x, y) into (y, -x). This operation can be applied multiple times, leading to the following transformations:',\n",
       " 'Addition Operation: Adding vector C to vector A results in (x + Cx, y + Cy). This operation can be applied any number of times, effectively scaling vector C by an integer factor.',\n",
       " 'Combining Operations: To transform vector A into vector B, we need to find a combination of rotations and additions of vector C that can achieve this. Specifically, we need to check if there exists a rotation of vector A and a multiple of vector C that can sum up to vector B.',\n",
       " \"Mathematical Formulation: Let’s denote the rotated vector A as A' and the multiple of vector C as k * C. We need to check if there exists a rotation of A and an integer k such that:[A' + k \\\\cdot C = B]This can be rewritten as:[k \\\\cdot C = B - A']For this equation to have a solution, the vector ( B - A' ) must be a scalar multiple of vector C.\",\n",
       " 'Implementation Steps:']"
      ]
     },
     "metadata": {},
     "output_type": "display_data"
    },
    {
     "data": {
      "text/plain": [
       "['Rotation Operation: Rotating a vector by 90 degrees clockwise transforms the vector (x, y) into (y, -x). This operation can be applied multiple times, leading to the following transformations:',\n",
       " 'Addition Operation: Adding vector C to vector A results in (x + Cx, y + Cy). This operation can be applied any number of times, effectively scaling vector C by an integer factor.',\n",
       " 'Combining Operations: To transform vector A into vector B, we need to find a combination of rotations and additions of vector C that can achieve this. Specifically, we need to check if there exists a rotation of vector A and a multiple of vector C that can sum up to vector B.',\n",
       " \"Mathematical Formulation: Let’s denote the rotated vector A as A' and the multiple of vector C as k * C. We need to check if there exists a rotation of A and an integer k such that:[A' + k \\\\cdot C = B]This can be rewritten as:[k \\\\cdot C = B - A']For this equation to have a solution, the vector ( B - A' ) must be a scalar multiple of vector C.\",\n",
       " 'Implementation Steps:']"
      ]
     },
     "metadata": {},
     "output_type": "display_data"
    },
    {
     "data": {
      "text/plain": [
       "['Lexicographical Order: A string  is lexicographically smaller than string  if at the first position where they differ, the character in  is smaller than the character in .',\n",
       " 'Finding the Substring: We need to find a pair of indices  such that . Reversing the substring from  to  will make the string lexicographically smaller because the first differing character will be smaller.',\n",
       " 'Edge Cases: If the string is already in non-decreasing order, it is impossible to make it lexicographically smaller by reversing any substring. In this case, we should return \"NO\".',\n",
       " 'Efficiency: Given the constraints (n ≤ 3 * 10^5), we need an efficient solution. We can iterate through the string once to find the first pair of indices  where .']"
      ]
     },
     "metadata": {},
     "output_type": "display_data"
    },
    {
     "data": {
      "text/plain": [
       "['Iterate through the string from the beginning to the second last character.',\n",
       " 'For each character, compare it with the next character.',\n",
       " 'If , we have found our substring. We can return \"YES\" and the indices  (since the problem uses 1-based indexing).',\n",
       " 'If no such pair is found after the iteration, return \"NO\".']"
      ]
     },
     "metadata": {},
     "output_type": "display_data"
    },
    {
     "data": {
      "text/plain": [
       "['Lexicographical Order: A string  is lexicographically smaller than string  if at the first position where they differ, the character in  is smaller than the character in .',\n",
       " 'Finding the Substring: We need to find a pair of indices  such that . Reversing the substring from  to  will make the string lexicographically smaller because the first differing character will be smaller.',\n",
       " 'Edge Cases: If the string is already in non-decreasing order, it is impossible to make it lexicographically smaller by reversing any substring. In this case, we should return \"NO\".',\n",
       " 'Efficiency: Given the constraints (n ≤ 3 * 10^5), we need an efficient solution. We can iterate through the string once to find the first pair of indices  where .']"
      ]
     },
     "metadata": {},
     "output_type": "display_data"
    },
    {
     "data": {
      "text/plain": [
       "['Iterate through the string from the beginning to the second last character.',\n",
       " 'For each character, compare it with the next character.',\n",
       " 'If , we have found our substring. We can return \"YES\" and the indices  (since the problem uses 1-based indexing).',\n",
       " 'If no such pair is found after the iteration, return \"NO\".']"
      ]
     },
     "metadata": {},
     "output_type": "display_data"
    },
    {
     "data": {
      "text/plain": [
       "['Lexicographical Order: A string  is lexicographically smaller than string  if at the first position where they differ, the character in  is smaller than the character in .',\n",
       " 'Finding the Substring: We need to find a pair of indices  such that . Reversing the substring from  to  will make the string lexicographically smaller because the first differing character will be smaller.',\n",
       " 'Edge Cases: If the string is already in non-decreasing order, it is impossible to make it lexicographically smaller by reversing any substring. In this case, we should return \"NO\".',\n",
       " 'Efficiency: Given the constraints (n ≤ 3 * 10^5), we need an efficient solution. We can iterate through the string once to find the first pair of indices  where .']"
      ]
     },
     "metadata": {},
     "output_type": "display_data"
    },
    {
     "data": {
      "text/plain": [
       "['Iterate through the string from the beginning to the second last character.',\n",
       " 'For each character, compare it with the next character.',\n",
       " 'If , we have found our substring. We can return \"YES\" and the indices  (since the problem uses 1-based indexing).',\n",
       " 'If no such pair is found after the iteration, return \"NO\".']"
      ]
     },
     "metadata": {},
     "output_type": "display_data"
    },
    {
     "data": {
      "text/plain": [
       "['Lexicographical Order: A string  is lexicographically smaller than string  if at the first position where they differ, the character in  is smaller than the character in .',\n",
       " 'Finding the Substring: We need to find a pair of indices  such that . Reversing the substring from  to  will make the string lexicographically smaller because the first differing character will be smaller.',\n",
       " 'Edge Cases: If the string is already in non-decreasing order, it is impossible to make it lexicographically smaller by reversing any substring. In this case, we should return \"NO\".',\n",
       " 'Efficiency: Given the constraints (n ≤ 3 * 10^5), we need an efficient solution. We can iterate through the string once to find the first pair of indices  where .']"
      ]
     },
     "metadata": {},
     "output_type": "display_data"
    },
    {
     "data": {
      "text/plain": [
       "['Iterate through the string from the beginning to the second last character.',\n",
       " 'For each character, compare it with the next character.',\n",
       " 'If , we have found our substring. We can return \"YES\" and the indices  (since the problem uses 1-based indexing).',\n",
       " 'If no such pair is found after the iteration, return \"NO\".']"
      ]
     },
     "metadata": {},
     "output_type": "display_data"
    },
    {
     "data": {
      "text/plain": [
       "['Identify Common Elements: The simplest common subsequence is a single element that exists in both arrays. This is because a single element is always a subsequence of any array that contains it.',\n",
       " 'Check for Common Elements: Iterate through the elements of the first array  and check if they exist in the second array . The first common element found can be used as the subsequence.',\n",
       " 'Output the Result: If a common element is found, output \"YES\" followed by the element. If no common element is found, output \"NO\".']"
      ]
     },
     "metadata": {},
     "output_type": "display_data"
    },
    {
     "data": {
      "text/plain": [
       "['Identify Common Elements: The simplest common subsequence is a single element that exists in both arrays. This is because a single element is always a subsequence of any array that contains it.',\n",
       " 'Check for Common Elements: Iterate through the elements of the first array  and check if they exist in the second array . The first common element found can be used as the subsequence.',\n",
       " 'Output the Result: If a common element is found, output \"YES\" followed by the element. If no common element is found, output \"NO\".']"
      ]
     },
     "metadata": {},
     "output_type": "display_data"
    },
    {
     "data": {
      "text/plain": [
       "['Identify Common Elements: The simplest common subsequence is a single element that exists in both arrays. This is because a single element is always a subsequence of any array that contains it.',\n",
       " 'Check for Common Elements: Iterate through the elements of the first array  and check if they exist in the second array . The first common element found can be used as the subsequence.',\n",
       " 'Output the Result: If a common element is found, output \"YES\" followed by the element. If no common element is found, output \"NO\".']"
      ]
     },
     "metadata": {},
     "output_type": "display_data"
    },
    {
     "data": {
      "text/plain": [
       "['Identify Common Elements: The simplest common subsequence is a single element that exists in both arrays. This is because a single element is always a subsequence of any array that contains it.',\n",
       " 'Check for Common Elements: Iterate through the elements of the first array  and check if they exist in the second array . The first common element found can be used as the subsequence.',\n",
       " 'Output the Result: If a common element is found, output \"YES\" followed by the element. If no common element is found, output \"NO\".']"
      ]
     },
     "metadata": {},
     "output_type": "display_data"
    },
    {
     "data": {
      "text/plain": [
       "[\"Frequency Count: First, we need to count the frequency of each character in the string . This will help us determine if it's possible to rearrange the characters into a .\",\n",
       " 'Divisibility Check: For the string to be rearranged into a , the frequency of each character must be divisible by . This is because each character must appear an equal number of times in each of the  copies of the string.',\n",
       " 'Constructing the Result: If the frequency of each character is divisible by , we can construct the result by repeating each character  times and then concatenating these characters in any order. This will give us one of the possible .',\n",
       " \"Handling the Edge Case: If any character's frequency is not divisible by , it means it's impossible to rearrange the string into a , and we should return .\"]"
      ]
     },
     "metadata": {},
     "output_type": "display_data"
    },
    {
     "data": {
      "text/plain": [
       "['Count the frequency of each character in the string .',\n",
       " 'Check if the frequency of each character is divisible by .',\n",
       " 'If all frequencies are divisible by , construct the result by repeating each character  times and concatenating them.',\n",
       " 'If any frequency is not divisible by , return .']"
      ]
     },
     "metadata": {},
     "output_type": "display_data"
    },
    {
     "data": {
      "text/plain": [
       "[\"Frequency Count: First, we need to count the frequency of each character in the string . This will help us determine if it's possible to rearrange the characters into a .\",\n",
       " 'Divisibility Check: For the string to be rearranged into a , the frequency of each character must be divisible by . This is because each character must appear an equal number of times in each of the  copies of the string.',\n",
       " 'Constructing the Result: If the frequency of each character is divisible by , we can construct the result by repeating each character  times and then concatenating these characters in any order. This will give us one of the possible .',\n",
       " \"Handling the Edge Case: If any character's frequency is not divisible by , it means it's impossible to rearrange the string into a , and we should return .\"]"
      ]
     },
     "metadata": {},
     "output_type": "display_data"
    },
    {
     "data": {
      "text/plain": [
       "['Count the frequency of each character in the string .',\n",
       " 'Check if the frequency of each character is divisible by .',\n",
       " 'If all frequencies are divisible by , construct the result by repeating each character  times and concatenating them.',\n",
       " 'If any frequency is not divisible by , return .']"
      ]
     },
     "metadata": {},
     "output_type": "display_data"
    },
    {
     "data": {
      "text/plain": [
       "[\"Frequency Count: First, we need to count the frequency of each character in the string . This will help us determine if it's possible to rearrange the characters into a .\",\n",
       " 'Divisibility Check: For the string to be rearranged into a , the frequency of each character must be divisible by . This is because each character must appear an equal number of times in each of the  copies of the string.',\n",
       " 'Constructing the Result: If the frequency of each character is divisible by , we can construct the result by repeating each character  times and then concatenating these characters in any order. This will give us one of the possible .',\n",
       " \"Handling the Edge Case: If any character's frequency is not divisible by , it means it's impossible to rearrange the string into a , and we should return .\"]"
      ]
     },
     "metadata": {},
     "output_type": "display_data"
    },
    {
     "data": {
      "text/plain": [
       "['Count the frequency of each character in the string .',\n",
       " 'Check if the frequency of each character is divisible by .',\n",
       " 'If all frequencies are divisible by , construct the result by repeating each character  times and concatenating them.',\n",
       " 'If any frequency is not divisible by , return .']"
      ]
     },
     "metadata": {},
     "output_type": "display_data"
    },
    {
     "data": {
      "text/plain": [
       "[\"Frequency Count: First, we need to count the frequency of each character in the string . This will help us determine if it's possible to rearrange the characters into a .\",\n",
       " 'Divisibility Check: For the string to be rearranged into a , the frequency of each character must be divisible by . This is because each character must appear an equal number of times in each of the  copies of the string.',\n",
       " 'Constructing the Result: If the frequency of each character is divisible by , we can construct the result by repeating each character  times and then concatenating these characters in any order. This will give us one of the possible .',\n",
       " \"Handling the Edge Case: If any character's frequency is not divisible by , it means it's impossible to rearrange the string into a , and we should return .\"]"
      ]
     },
     "metadata": {},
     "output_type": "display_data"
    },
    {
     "data": {
      "text/plain": [
       "['Count the frequency of each character in the string .',\n",
       " 'Check if the frequency of each character is divisible by .',\n",
       " 'If all frequencies are divisible by , construct the result by repeating each character  times and concatenating them.',\n",
       " 'If any frequency is not divisible by , return .']"
      ]
     },
     "metadata": {},
     "output_type": "display_data"
    },
    {
     "data": {
      "text/plain": [
       "['Graph Representation: We can represent the queue as a directed graph where each beaver is a node, and the edge from node  to node  indicates that beaver  should be in front of beaver .',\n",
       " 'Topological Sorting: Since the dependencies form a directed acyclic graph (DAG), we can perform a topological sort to determine the order of beavers in the queue.',\n",
       " 'Possible Positions: For each beaver, we need to determine if it can be placed in the queue such that all dependencies are satisfied. Specifically, we need to check if the Smart Beaver can be placed in a position where all the beavers in front of him are correctly ordered.',\n",
       " 'Backtracking: We can use backtracking to explore all possible positions for the Smart Beaver. For each position, we check if it can be valid by ensuring that all dependencies are satisfied.']"
      ]
     },
     "metadata": {},
     "output_type": "display_data"
    },
    {
     "data": {
      "text/plain": [
       "['Graph Representation: We can represent the queue as a directed graph where each beaver is a node, and the edge from node  to node  indicates that beaver  should be in front of beaver .',\n",
       " 'Topological Sorting: Since the dependencies form a directed acyclic graph (DAG), we can perform a topological sort to determine the order of beavers in the queue.',\n",
       " 'Possible Positions: For each beaver, we need to determine if it can be placed in the queue such that all dependencies are satisfied. Specifically, we need to check if the Smart Beaver can be placed in a position where all the beavers in front of him are correctly ordered.',\n",
       " 'Backtracking: We can use backtracking to explore all possible positions for the Smart Beaver. For each position, we check if it can be valid by ensuring that all dependencies are satisfied.']"
      ]
     },
     "metadata": {},
     "output_type": "display_data"
    },
    {
     "data": {
      "text/plain": [
       "['Graph Representation: We can represent the queue as a directed graph where each beaver is a node, and the edge from node  to node  indicates that beaver  should be in front of beaver .',\n",
       " 'Topological Sorting: Since the dependencies form a directed acyclic graph (DAG), we can perform a topological sort to determine the order of beavers in the queue.',\n",
       " 'Possible Positions: For each beaver, we need to determine if it can be placed in the queue such that all dependencies are satisfied. Specifically, we need to check if the Smart Beaver can be placed in a position where all the beavers in front of him are correctly ordered.',\n",
       " 'Backtracking: We can use backtracking to explore all possible positions for the Smart Beaver. For each position, we check if it can be valid by ensuring that all dependencies are satisfied.']"
      ]
     },
     "metadata": {},
     "output_type": "display_data"
    },
    {
     "data": {
      "text/plain": [
       "['Graph Representation: We can represent the queue as a directed graph where each beaver is a node, and the edge from node  to node  indicates that beaver  should be in front of beaver .',\n",
       " 'Topological Sorting: Since the dependencies form a directed acyclic graph (DAG), we can perform a topological sort to determine the order of beavers in the queue.',\n",
       " 'Possible Positions: For each beaver, we need to determine if it can be placed in the queue such that all dependencies are satisfied. Specifically, we need to check if the Smart Beaver can be placed in a position where all the beavers in front of him are correctly ordered.',\n",
       " 'Backtracking: We can use backtracking to explore all possible positions for the Smart Beaver. For each position, we check if it can be valid by ensuring that all dependencies are satisfied.']"
      ]
     },
     "metadata": {},
     "output_type": "display_data"
    },
    {
     "data": {
      "text/plain": [
       "['Graph Representation: We can represent the graph using an adjacency list where each vertex stores its neighboring vertices.',\n",
       " 'Edge Pairing: We need to pair edges such that they share a common vertex. This can be done by iterating through the edges and pairing them based on their common vertices.',\n",
       " 'Validation: After pairing, we need to ensure that each edge is used exactly once. If any edge is left unpaired or used more than once, it means the graph cannot be partitioned into such paths.',\n",
       " 'Output: If the pairing is successful, we output the paths. If not, we output \"No solution\".']"
      ]
     },
     "metadata": {},
     "output_type": "display_data"
    },
    {
     "data": {
      "text/plain": [
       "['Input Reading: Read the number of vertices  and edges . Then read the  edges and store them in an adjacency list.',\n",
       " 'Edge Pairing: Iterate through the edges and try to pair them based on their common vertices. We can use a dictionary to keep track of used edges.',\n",
       " 'Validation: After pairing, check if all edges are used exactly once.',\n",
       " 'Output: If all edges are paired correctly, output the paths. Otherwise, output \"No solution\".']"
      ]
     },
     "metadata": {},
     "output_type": "display_data"
    },
    {
     "data": {
      "text/plain": [
       "['Graph Representation: We can represent the graph using an adjacency list where each vertex stores its neighboring vertices.',\n",
       " 'Edge Pairing: We need to pair edges such that they share a common vertex. This can be done by iterating through the edges and pairing them based on their common vertices.',\n",
       " 'Validation: After pairing, we need to ensure that each edge is used exactly once. If any edge is left unpaired or used more than once, it means the graph cannot be partitioned into such paths.',\n",
       " 'Output: If the pairing is successful, we output the paths. If not, we output \"No solution\".']"
      ]
     },
     "metadata": {},
     "output_type": "display_data"
    },
    {
     "data": {
      "text/plain": [
       "['Input Reading: Read the number of vertices  and edges . Then read the  edges and store them in an adjacency list.',\n",
       " 'Edge Pairing: Iterate through the edges and try to pair them based on their common vertices. We can use a dictionary to keep track of used edges.',\n",
       " 'Validation: After pairing, check if all edges are used exactly once.',\n",
       " 'Output: If all edges are paired correctly, output the paths. Otherwise, output \"No solution\".']"
      ]
     },
     "metadata": {},
     "output_type": "display_data"
    },
    {
     "data": {
      "text/plain": [
       "['Graph Representation: We can represent the graph using an adjacency list where each vertex stores its neighboring vertices.',\n",
       " 'Edge Pairing: We need to pair edges such that they share a common vertex. This can be done by iterating through the edges and pairing them based on their common vertices.',\n",
       " 'Validation: After pairing, we need to ensure that each edge is used exactly once. If any edge is left unpaired or used more than once, it means the graph cannot be partitioned into such paths.',\n",
       " 'Output: If the pairing is successful, we output the paths. If not, we output \"No solution\".']"
      ]
     },
     "metadata": {},
     "output_type": "display_data"
    },
    {
     "data": {
      "text/plain": [
       "['Input Reading: Read the number of vertices  and edges . Then read the  edges and store them in an adjacency list.',\n",
       " 'Edge Pairing: Iterate through the edges and try to pair them based on their common vertices. We can use a dictionary to keep track of used edges.',\n",
       " 'Validation: After pairing, check if all edges are used exactly once.',\n",
       " 'Output: If all edges are paired correctly, output the paths. Otherwise, output \"No solution\".']"
      ]
     },
     "metadata": {},
     "output_type": "display_data"
    },
    {
     "data": {
      "text/plain": [
       "['Graph Representation: We can represent the graph using an adjacency list where each vertex stores its neighboring vertices.',\n",
       " 'Edge Pairing: We need to pair edges such that they share a common vertex. This can be done by iterating through the edges and pairing them based on their common vertices.',\n",
       " 'Validation: After pairing, we need to ensure that each edge is used exactly once. If any edge is left unpaired or used more than once, it means the graph cannot be partitioned into such paths.',\n",
       " 'Output: If the pairing is successful, we output the paths. If not, we output \"No solution\".']"
      ]
     },
     "metadata": {},
     "output_type": "display_data"
    },
    {
     "data": {
      "text/plain": [
       "['Input Reading: Read the number of vertices  and edges . Then read the  edges and store them in an adjacency list.',\n",
       " 'Edge Pairing: Iterate through the edges and try to pair them based on their common vertices. We can use a dictionary to keep track of used edges.',\n",
       " 'Validation: After pairing, check if all edges are used exactly once.',\n",
       " 'Output: If all edges are paired correctly, output the paths. Otherwise, output \"No solution\".']"
      ]
     },
     "metadata": {},
     "output_type": "display_data"
    },
    {
     "data": {
      "text/plain": [
       "['Input Parsing: We first read the number of segments  and the level scheme as a string.',\n",
       " \"Platform Identification: We identify all the indices where the platform ('*') is present.\",\n",
       " 'Sequence Checking: We then check all possible sequences of five platforms to see if they satisfy the condition of equal intervals between consecutive platforms.',\n",
       " 'Output Decision: If such a sequence is found, we output \"yes\"; otherwise, we output \"no\".']"
      ]
     },
     "metadata": {},
     "output_type": "display_data"
    },
    {
     "data": {
      "text/plain": [
       "[\"Identify Platform Indices: We create a list of indices where the platform ('*') is present.\",\n",
       " 'Check Sequences: For each possible starting index, we check sequences of five platforms with varying jump lengths.',\n",
       " 'Condition Check: For each sequence, we check if the intervals between consecutive platforms are equal.',\n",
       " 'Decision Making: If any sequence satisfies the condition, we return \"yes\"; otherwise, we return \"no\".']"
      ]
     },
     "metadata": {},
     "output_type": "display_data"
    },
    {
     "data": {
      "text/plain": [
       "['Input Parsing: We first read the number of segments  and the level scheme as a string.',\n",
       " \"Platform Identification: We identify all the indices where the platform ('*') is present.\",\n",
       " 'Sequence Checking: We then check all possible sequences of five platforms to see if they satisfy the condition of equal intervals between consecutive platforms.',\n",
       " 'Output Decision: If such a sequence is found, we output \"yes\"; otherwise, we output \"no\".']"
      ]
     },
     "metadata": {},
     "output_type": "display_data"
    },
    {
     "data": {
      "text/plain": [
       "[\"Identify Platform Indices: We create a list of indices where the platform ('*') is present.\",\n",
       " 'Check Sequences: For each possible starting index, we check sequences of five platforms with varying jump lengths.',\n",
       " 'Condition Check: For each sequence, we check if the intervals between consecutive platforms are equal.',\n",
       " 'Decision Making: If any sequence satisfies the condition, we return \"yes\"; otherwise, we return \"no\".']"
      ]
     },
     "metadata": {},
     "output_type": "display_data"
    },
    {
     "data": {
      "text/plain": [
       "['Input Parsing: We first read the number of segments  and the level scheme as a string.',\n",
       " \"Platform Identification: We identify all the indices where the platform ('*') is present.\",\n",
       " 'Sequence Checking: We then check all possible sequences of five platforms to see if they satisfy the condition of equal intervals between consecutive platforms.',\n",
       " 'Output Decision: If such a sequence is found, we output \"yes\"; otherwise, we output \"no\".']"
      ]
     },
     "metadata": {},
     "output_type": "display_data"
    },
    {
     "data": {
      "text/plain": [
       "[\"Identify Platform Indices: We create a list of indices where the platform ('*') is present.\",\n",
       " 'Check Sequences: For each possible starting index, we check sequences of five platforms with varying jump lengths.',\n",
       " 'Condition Check: For each sequence, we check if the intervals between consecutive platforms are equal.',\n",
       " 'Decision Making: If any sequence satisfies the condition, we return \"yes\"; otherwise, we return \"no\".']"
      ]
     },
     "metadata": {},
     "output_type": "display_data"
    },
    {
     "data": {
      "text/plain": [
       "['Input Parsing: We first read the number of segments  and the level scheme as a string.',\n",
       " \"Platform Identification: We identify all the indices where the platform ('*') is present.\",\n",
       " 'Sequence Checking: We then check all possible sequences of five platforms to see if they satisfy the condition of equal intervals between consecutive platforms.',\n",
       " 'Output Decision: If such a sequence is found, we output \"yes\"; otherwise, we output \"no\".']"
      ]
     },
     "metadata": {},
     "output_type": "display_data"
    },
    {
     "data": {
      "text/plain": [
       "[\"Identify Platform Indices: We create a list of indices where the platform ('*') is present.\",\n",
       " 'Check Sequences: For each possible starting index, we check sequences of five platforms with varying jump lengths.',\n",
       " 'Condition Check: For each sequence, we check if the intervals between consecutive platforms are equal.',\n",
       " 'Decision Making: If any sequence satisfies the condition, we return \"yes\"; otherwise, we return \"no\".']"
      ]
     },
     "metadata": {},
     "output_type": "display_data"
    },
    {
     "data": {
      "text/plain": [
       "['Input Parsing: Read the three numbers , , and  from the input.',\n",
       " 'Expression Evaluation: Compute the values of all twelve expressions.',\n",
       " 'Finding the Maximum: Identify the maximum value among the computed values.',\n",
       " 'Determine the Expression: Find the first expression in the list that yields this maximum value.',\n",
       " 'Output the Result: Print the corresponding expression in the required format.']"
      ]
     },
     "metadata": {},
     "output_type": "display_data"
    },
    {
     "data": {
      "text/plain": [
       "['Input Parsing: Read the three numbers , , and  from the input.',\n",
       " 'Expression Evaluation: Compute the values of all twelve expressions.',\n",
       " 'Finding the Maximum: Identify the maximum value among the computed values.',\n",
       " 'Determine the Expression: Find the first expression in the list that yields this maximum value.',\n",
       " 'Output the Result: Print the corresponding expression in the required format.']"
      ]
     },
     "metadata": {},
     "output_type": "display_data"
    },
    {
     "data": {
      "text/plain": [
       "['Input Parsing: Read the three numbers , , and  from the input.',\n",
       " 'Expression Evaluation: Compute the values of all twelve expressions.',\n",
       " 'Finding the Maximum: Identify the maximum value among the computed values.',\n",
       " 'Determine the Expression: Find the first expression in the list that yields this maximum value.',\n",
       " 'Output the Result: Print the corresponding expression in the required format.']"
      ]
     },
     "metadata": {},
     "output_type": "display_data"
    },
    {
     "data": {
      "text/plain": [
       "['Input Parsing: Read the three numbers , , and  from the input.',\n",
       " 'Expression Evaluation: Compute the values of all twelve expressions.',\n",
       " 'Finding the Maximum: Identify the maximum value among the computed values.',\n",
       " 'Determine the Expression: Find the first expression in the list that yields this maximum value.',\n",
       " 'Output the Result: Print the corresponding expression in the required format.']"
      ]
     },
     "metadata": {},
     "output_type": "display_data"
    },
    {
     "data": {
      "text/plain": [
       "['Graph Representation: Represent the graph using an adjacency list where each edge is stored with its weight.',\n",
       " 'Sorting Edges: Sort all the edges in non-decreasing order of their weights.',\n",
       " 'Union-Find Data Structure: Use a Union-Find (Disjoint Set Union) data structure to manage the connected components of the graph.',\n",
       " 'Processing Edges: Iterate through the sorted edges and union the vertices connected by each edge. After each union, check if all special vertices are in the same component. If they are, the current edge weight is the maximum distance between any two special vertices.',\n",
       " 'Result Calculation: For each special vertex, the farthest special vertex will be the one that is in the same component after processing all edges up to the maximum distance.']"
      ]
     },
     "metadata": {},
     "output_type": "display_data"
    },
    {
     "data": {
      "text/plain": [
       "['Graph Representation: Represent the graph using an adjacency list where each edge is stored with its weight.',\n",
       " 'Sorting Edges: Sort all the edges in non-decreasing order of their weights.',\n",
       " 'Union-Find Data Structure: Use a Union-Find (Disjoint Set Union) data structure to manage the connected components of the graph.',\n",
       " 'Processing Edges: Iterate through the sorted edges and union the vertices connected by each edge. After each union, check if all special vertices are in the same component. If they are, the current edge weight is the maximum distance between any two special vertices.',\n",
       " 'Result Calculation: For each special vertex, the farthest special vertex will be the one that is in the same component after processing all edges up to the maximum distance.']"
      ]
     },
     "metadata": {},
     "output_type": "display_data"
    },
    {
     "data": {
      "text/plain": [
       "['Graph Representation: Represent the graph using an adjacency list where each edge is stored with its weight.',\n",
       " 'Sorting Edges: Sort all the edges in non-decreasing order of their weights.',\n",
       " 'Union-Find Data Structure: Use a Union-Find (Disjoint Set Union) data structure to manage the connected components of the graph.',\n",
       " 'Processing Edges: Iterate through the sorted edges and union the vertices connected by each edge. After each union, check if all special vertices are in the same component. If they are, the current edge weight is the maximum distance between any two special vertices.',\n",
       " 'Result Calculation: For each special vertex, the farthest special vertex will be the one that is in the same component after processing all edges up to the maximum distance.']"
      ]
     },
     "metadata": {},
     "output_type": "display_data"
    },
    {
     "data": {
      "text/plain": [
       "['Graph Representation: Represent the graph using an adjacency list where each edge is stored with its weight.',\n",
       " 'Sorting Edges: Sort all the edges in non-decreasing order of their weights.',\n",
       " 'Union-Find Data Structure: Use a Union-Find (Disjoint Set Union) data structure to manage the connected components of the graph.',\n",
       " 'Processing Edges: Iterate through the sorted edges and union the vertices connected by each edge. After each union, check if all special vertices are in the same component. If they are, the current edge weight is the maximum distance between any two special vertices.',\n",
       " 'Result Calculation: For each special vertex, the farthest special vertex will be the one that is in the same component after processing all edges up to the maximum distance.']"
      ]
     },
     "metadata": {},
     "output_type": "display_data"
    },
    {
     "data": {
      "text/plain": [
       "['Base Cases:', 'Recursive Case:', 'Efficiency:', 'Implementation:']"
      ]
     },
     "metadata": {},
     "output_type": "display_data"
    },
    {
     "data": {
      "text/plain": [
       "['Base Cases:', 'Recursive Case:', 'Efficiency:', 'Implementation:']"
      ]
     },
     "metadata": {},
     "output_type": "display_data"
    },
    {
     "data": {
      "text/plain": [
       "['Base Cases:', 'Recursive Case:', 'Efficiency:', 'Implementation:']"
      ]
     },
     "metadata": {},
     "output_type": "display_data"
    },
    {
     "data": {
      "text/plain": [
       "['Base Cases:', 'Recursive Case:', 'Efficiency:', 'Implementation:']"
      ]
     },
     "metadata": {},
     "output_type": "display_data"
    },
    {
     "data": {
      "text/plain": [
       "['Initialize Counts: Start by initializing an array  of size 26 (one for each letter) to keep track of the number of times each button is pressed.',\n",
       " 'Count Final Try: Since the final try is always successful, we can directly add 1 to the count of each button in .',\n",
       " 'Count Wrong Tries: For each wrong try, we need to increment the count of the first  buttons in . This is because during the i-th wrong try, the first  buttons are pressed correctly before the mistake occurs.',\n",
       " 'Efficient Counting: To efficiently count the number of times each button is pressed, we can use a difference array or a prefix sum approach. We create an array  of size  initialized to 0. For each , we increment  by 1. After processing all , we compute the prefix sum of  to get the total number of times each button is pressed due to wrong tries.',\n",
       " 'Combine Counts: Finally, we combine the counts from the wrong tries and the final try to get the total count for each button.']"
      ]
     },
     "metadata": {},
     "output_type": "display_data"
    },
    {
     "data": {
      "text/plain": [
       "['Initialize Counts: Start by initializing an array  of size 26 (one for each letter) to keep track of the number of times each button is pressed.',\n",
       " 'Count Final Try: Since the final try is always successful, we can directly add 1 to the count of each button in .',\n",
       " 'Count Wrong Tries: For each wrong try, we need to increment the count of the first  buttons in . This is because during the i-th wrong try, the first  buttons are pressed correctly before the mistake occurs.',\n",
       " 'Efficient Counting: To efficiently count the number of times each button is pressed, we can use a difference array or a prefix sum approach. We create an array  of size  initialized to 0. For each , we increment  by 1. After processing all , we compute the prefix sum of  to get the total number of times each button is pressed due to wrong tries.',\n",
       " 'Combine Counts: Finally, we combine the counts from the wrong tries and the final try to get the total count for each button.']"
      ]
     },
     "metadata": {},
     "output_type": "display_data"
    },
    {
     "data": {
      "text/plain": [
       "['Initialize Counts: Start by initializing an array  of size 26 (one for each letter) to keep track of the number of times each button is pressed.',\n",
       " 'Count Final Try: Since the final try is always successful, we can directly add 1 to the count of each button in .',\n",
       " 'Count Wrong Tries: For each wrong try, we need to increment the count of the first  buttons in . This is because during the i-th wrong try, the first  buttons are pressed correctly before the mistake occurs.',\n",
       " 'Efficient Counting: To efficiently count the number of times each button is pressed, we can use a difference array or a prefix sum approach. We create an array  of size  initialized to 0. For each , we increment  by 1. After processing all , we compute the prefix sum of  to get the total number of times each button is pressed due to wrong tries.',\n",
       " 'Combine Counts: Finally, we combine the counts from the wrong tries and the final try to get the total count for each button.']"
      ]
     },
     "metadata": {},
     "output_type": "display_data"
    },
    {
     "data": {
      "text/plain": [
       "['Initialize Counts: Start by initializing an array  of size 26 (one for each letter) to keep track of the number of times each button is pressed.',\n",
       " 'Count Final Try: Since the final try is always successful, we can directly add 1 to the count of each button in .',\n",
       " 'Count Wrong Tries: For each wrong try, we need to increment the count of the first  buttons in . This is because during the i-th wrong try, the first  buttons are pressed correctly before the mistake occurs.',\n",
       " 'Efficient Counting: To efficiently count the number of times each button is pressed, we can use a difference array or a prefix sum approach. We create an array  of size  initialized to 0. For each , we increment  by 1. After processing all , we compute the prefix sum of  to get the total number of times each button is pressed due to wrong tries.',\n",
       " 'Combine Counts: Finally, we combine the counts from the wrong tries and the final try to get the total count for each button.']"
      ]
     },
     "metadata": {},
     "output_type": "display_data"
    },
    {
     "data": {
      "text/plain": [
       "['First Operation: We can use the first operation to eliminate the first element of the array. We select the segment  (i.e., the first element) and add  to it. This will set  to zero.',\n",
       " 'Second Operation: Next, we can use the second operation to eliminate the last element of the array. We select the segment  (i.e., the last element) and add  to it. This will set  to zero.',\n",
       " \"Third Operation: Finally, we use the third operation to eliminate all the remaining elements in the array. We select the segment  (i.e., the entire array) and add  to each element . Since the length of the segment is , each  is divisible by , satisfying the operation's constraints.\"]"
      ]
     },
     "metadata": {},
     "output_type": "display_data"
    },
    {
     "data": {
      "text/plain": [
       "['First Operation: We can use the first operation to eliminate the first element of the array. We select the segment  (i.e., the first element) and add  to it. This will set  to zero.',\n",
       " 'Second Operation: Next, we can use the second operation to eliminate the last element of the array. We select the segment  (i.e., the last element) and add  to it. This will set  to zero.',\n",
       " \"Third Operation: Finally, we use the third operation to eliminate all the remaining elements in the array. We select the segment  (i.e., the entire array) and add  to each element . Since the length of the segment is , each  is divisible by , satisfying the operation's constraints.\"]"
      ]
     },
     "metadata": {},
     "output_type": "display_data"
    },
    {
     "data": {
      "text/plain": [
       "['First Operation: We can use the first operation to eliminate the first element of the array. We select the segment  (i.e., the first element) and add  to it. This will set  to zero.',\n",
       " 'Second Operation: Next, we can use the second operation to eliminate the last element of the array. We select the segment  (i.e., the last element) and add  to it. This will set  to zero.',\n",
       " \"Third Operation: Finally, we use the third operation to eliminate all the remaining elements in the array. We select the segment  (i.e., the entire array) and add  to each element . Since the length of the segment is , each  is divisible by , satisfying the operation's constraints.\"]"
      ]
     },
     "metadata": {},
     "output_type": "display_data"
    },
    {
     "data": {
      "text/plain": [
       "['First Operation: We can use the first operation to eliminate the first element of the array. We select the segment  (i.e., the first element) and add  to it. This will set  to zero.',\n",
       " 'Second Operation: Next, we can use the second operation to eliminate the last element of the array. We select the segment  (i.e., the last element) and add  to it. This will set  to zero.',\n",
       " \"Third Operation: Finally, we use the third operation to eliminate all the remaining elements in the array. We select the segment  (i.e., the entire array) and add  to each element . Since the length of the segment is , each  is divisible by , satisfying the operation's constraints.\"]"
      ]
     },
     "metadata": {},
     "output_type": "display_data"
    }
   ],
   "source": [
    "import mistune.renderers\n",
    "import mistune.renderers.markdown\n",
    "from collections import defaultdict\n",
    "\n",
    "\n",
    "markdown_renderer = mistune.create_markdown(renderer=None)\n",
    "\n",
    "heading_freqs = defaultdict(int)\n",
    "\n",
    "n_with_steps = 0\n",
    "\n",
    "for i in range(100):\n",
    "    # display(Markdown('## Problem'))\n",
    "    problem_str = dataset_pl[i][\"problem\"][0]\n",
    "    try:\n",
    "        solution_str = dataset_pl[i][\"completions\"][0][1]\n",
    "    except:\n",
    "        print(\"warn: no solution\")\n",
    "        continue\n",
    "    problem_md = markdown_renderer(problem_str)\n",
    "    solution_md = markdown_renderer(solution_str)\n",
    "    # display(Markdown(solution_str))\n",
    "    for i, element in enumerate(solution_md):\n",
    "        if element[\"type\"] == \"heading\":\n",
    "            heading_text = element[\"children\"][0][\"raw\"].lower()\n",
    "            has_steps = False\n",
    "            required_phrases = [\"reasoning\", \"steps\", \"approach\"]\n",
    "            if (\n",
    "                any(phrase in heading_text for phrase in required_phrases)\n",
    "                and not \"code\" in heading_text\n",
    "            ):\n",
    "                has_steps = True\n",
    "            # if not has_steps:\n",
    "            # display(f\"txt: {heading_text} valid: {has_steps}\")\n",
    "            # display(heading_text)\n",
    "            n_with_steps += has_steps\n",
    "            heading_freqs[heading_text] += 1\n",
    "            steps_list_idx = i + 1\n",
    "            # if next element is blank line, which it usually is\n",
    "            if has_steps:\n",
    "                if solution_md[i + 1][\"type\"] == \"blank_line\":\n",
    "                    steps_list_idx = i + 2\n",
    "                steps_list_element = solution_md[steps_list_idx]\n",
    "                # display(steps_list_element)\n",
    "                all_steps_for_problem = []\n",
    "                for j, step in enumerate(solution_md[steps_list_idx][\"children\"]):\n",
    "                    # print(step['type'], step)\n",
    "                    if step[\"type\"] == \"list_item\":\n",
    "                        step_contents = step[\"children\"][0][\"children\"]\n",
    "                        # display(step_contents)\n",
    "                        total_step_text = []\n",
    "                        for content in step_contents:\n",
    "                            if content[\"type\"] == \"text\":\n",
    "                                total_step_text.append(content[\"raw\"])\n",
    "                            if \"children\" in content:\n",
    "                                for subcontent in content[\"children\"]:\n",
    "                                    if subcontent[\"type\"] == \"text\":\n",
    "                                        total_step_text.append(subcontent[\"raw\"])\n",
    "                        all_steps_for_problem.append(\"\".join(total_step_text))\n",
    "                # for i in range(len(total_step_text)):\n",
    "                #     total_step_text[i] = total_step_text[i].lstrip(\": \")\n",
    "                display(all_steps_for_problem)\n",
    "    # display(Markdown(problem_str))\n",
    "    # display(Markdown('## Solution'))\n",
    "    # display(Markdown(solution_str))"
   ]
  },
  {
   "cell_type": "code",
   "execution_count": null,
   "metadata": {},
   "outputs": [],
   "source": [
    "sorted_freqs_table = sorted(heading_freqs.items(), key=lambda x: x[1], reverse=True)\n",
    "sorted_freqs_table"
   ]
  }
 ],
 "metadata": {
  "kernelspec": {
   "display_name": ".venv",
   "language": "python",
   "name": "python3"
  },
  "language_info": {
   "codemirror_mode": {
    "name": "ipython",
    "version": 3
   },
   "file_extension": ".py",
   "mimetype": "text/x-python",
   "name": "python",
   "nbconvert_exporter": "python",
   "pygments_lexer": "ipython3",
   "version": "3.11.2"
  }
 },
 "nbformat": 4,
 "nbformat_minor": 2
}
