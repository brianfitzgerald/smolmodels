{
 "cells": [
  {
   "cell_type": "code",
   "execution_count": 1,
   "metadata": {},
   "outputs": [],
   "source": [
    "from IPython.display import display\n",
    "import polars as pl\n",
    "import mistune\n",
    "from tqdm import tqdm\n",
    "import pprint\n",
    "import mistune.renderers\n",
    "import mistune.renderers.markdown\n",
    "from collections import defaultdict\n",
    "from typing import Literal"
   ]
  },
  {
   "cell_type": "code",
   "execution_count": 2,
   "metadata": {},
   "outputs": [],
   "source": [
    "dataset_pl = pl.read_parquet(\"../codecontests_cot_sft_v2.parquet\")"
   ]
  },
  {
   "cell_type": "code",
   "execution_count": null,
   "metadata": {},
   "outputs": [],
   "source": [
    "dataset_pl"
   ]
  },
  {
   "cell_type": "code",
   "execution_count": 93,
   "metadata": {},
   "outputs": [],
   "source": [
    "\n",
    "ModelChoice = Literal[\"gpt-4o\", \"deepseek\"]\n",
    "\n",
    "model_choice: ModelChoice = \"gpt-4o\"\n",
    "\n",
    "markdown_renderer = mistune.create_markdown(renderer=None)\n",
    "\n",
    "heading_freqs = defaultdict(int)\n",
    "\n",
    "n_with_steps = 0\n",
    "\n",
    "\n",
    "def recursive_get_all_children(element, children_list, disallowed_types=[]):\n",
    "    if \"type\" in element and element[\"type\"] in disallowed_types:\n",
    "        return children_list\n",
    "    if \"children\" in element:\n",
    "        for child in element[\"children\"]:\n",
    "            recursive_get_all_children(child, children_list, disallowed_types)\n",
    "    else:\n",
    "        children_list.append(element)\n",
    "    return children_list\n",
    "\n",
    "\n",
    "cot_formatted_rows = []\n",
    "\n",
    "for i in range(len(dataset_pl)):\n",
    "    # display(Markdown('## Problem'))\n",
    "    problem_str = dataset_pl[i][\"problem\"][0]\n",
    "    problem_name = dataset_pl[i][\"name\"][0]\n",
    "    try:\n",
    "        solution_str = dataset_pl[i][\"completions\"][0][0]\n",
    "    except:\n",
    "        print(\"warn: no solution\")\n",
    "        continue\n",
    "    problem_md = markdown_renderer(problem_str)\n",
    "    solution_md = markdown_renderer(solution_str)\n",
    "    # print(solution_str)\n",
    "    # display(solution_md)\n",
    "    thoughts = []\n",
    "    solution_code = None\n",
    "    for i, element in enumerate(solution_md):\n",
    "        # Deepseek has a preamble, then the steps; 4o prints a paragraph then the steps, so the first\n",
    "        # list is always the steps\n",
    "        if model_choice == \"deepseek\":\n",
    "            if element[\"type\"] == \"heading\":\n",
    "                heading_text = element[\"children\"][0][\"raw\"].lower()\n",
    "                has_steps = False\n",
    "                required_phrases = [\"reasoning\", \"steps\", \"approach\"]\n",
    "\n",
    "                if (\n",
    "                    any(phrase in heading_text for phrase in required_phrases)\n",
    "                    and \"code\" not in heading_text\n",
    "                ):\n",
    "                    has_steps = True\n",
    "                if has_steps:\n",
    "                    n_with_steps += has_steps\n",
    "                    heading_freqs[heading_text] += 1\n",
    "                    steps_list_idx = i + 1\n",
    "                    if solution_md[i + 1][\"type\"] == \"blank_line\":\n",
    "                        steps_list_idx = i + 2\n",
    "                    steps_list_element = solution_md[steps_list_idx]\n",
    "                    for step in steps_list_element[\"children\"]:\n",
    "                        # 0 is the prefix + :\n",
    "                        if \"children\" not in step or len(step[\"children\"]) < 2:\n",
    "                            print(step)\n",
    "                            continue\n",
    "                        bullet_point_text = step[\"children\"][1]\n",
    "                        if \"children\" not in bullet_point_text:\n",
    "                            print(bullet_point_text)\n",
    "                            continue\n",
    "                        for sub_step in bullet_point_text[\"children\"]:\n",
    "                            for sub_sub_step in sub_step[\"children\"]:\n",
    "                                all_text = recursive_get_all_children(sub_sub_step, [])\n",
    "                                if any([\"raw\" not in x for x in all_text]):\n",
    "                                    print(all_text)\n",
    "                                    continue\n",
    "                                all_text_str = \"\".join([t[\"raw\"] for t in all_text])\n",
    "                                thoughts.append(all_text_str)\n",
    "        elif model_choice == \"gpt-4o\":\n",
    "            if element[\"type\"] == \"list\":\n",
    "                # pprint(element)\n",
    "                for child in element[\"children\"]:\n",
    "                    for sub_child in child[\"children\"]:\n",
    "                        all_text = recursive_get_all_children(sub_child, [], [\"strong\"])\n",
    "                        all_text = [t[\"raw\"] for t in all_text if \"raw\" in t]\n",
    "                        all_text = [t.lstrip(\": \") for t in all_text]\n",
    "                        all_text = [t for t in all_text if len(t) > 0 and t != \"\\n\"]\n",
    "                        all_text_str = \" \".join([t for t in all_text])\n",
    "                        if len(all_text_str) > 0:\n",
    "                            thoughts.append(all_text_str)\n",
    "        if element[\"type\"] == \"block_code\" and solution_code is None:\n",
    "            if \"raw\" not in element:\n",
    "                print(element)\n",
    "                continue\n",
    "            solution_code = element[\"raw\"]\n",
    "\n",
    "        if solution_code is not None and len(thoughts) > 0:\n",
    "            cot_formatted_rows.append(\n",
    "                {\n",
    "                    \"problem\": problem_str,\n",
    "                    \"code\": solution_code,\n",
    "                    \"thoughts\": thoughts,\n",
    "                    \"problem_name\": problem_name,\n",
    "                }\n",
    "            )\n",
    "            break\n"
   ]
  },
  {
   "cell_type": "code",
   "execution_count": null,
   "metadata": {},
   "outputs": [],
   "source": [
    "cot_formatted_rows"
   ]
  },
  {
   "cell_type": "code",
   "execution_count": 96,
   "metadata": {},
   "outputs": [],
   "source": [
    "out_rows_pl = pl.DataFrame(cot_formatted_rows)\n",
    "out_rows_pl.write_parquet(\"codecontests_cot_sft_formatted_thoughts_v2_gpt.parquet\")"
   ]
  },
  {
   "cell_type": "code",
   "execution_count": null,
   "metadata": {},
   "outputs": [],
   "source": [
    "cot_formatted_rows"
   ]
  },
  {
   "cell_type": "code",
   "execution_count": null,
   "metadata": {},
   "outputs": [],
   "source": [
    "from openai.types.chat.chat_completion_message_param import ChatCompletionMessageParam\n",
    "from typing import Sequence\n",
    "\n",
    "\n",
    "def format_out_row_str(row: dict) -> Sequence[ChatCompletionMessageParam]:\n",
    "    problem, code, thoughts = row[\"problem\"], row[\"code\"], row[\"thoughts\"]\n",
    "\n",
    "    thoughts_list = [f\"<thought>{t}</thought>\" for t in thoughts]\n",
    "    thoughts_str = \"\\n\".join(thoughts_list)\n",
    "    code_str = f\"<solution>{code}</solution>\"\n",
    "    conv: Sequence[ChatCompletionMessageParam] = [\n",
    "        {\n",
    "            \"role\": \"user\",\n",
    "            \"content\": f\"Solve the following programming problem in Python.\\n{problem}\",\n",
    "        },\n",
    "        {\n",
    "            \"role\": \"assistant\",\n",
    "            \"content\": f\"{thoughts_str}\\n\\n{code_str}\",\n",
    "        },\n",
    "    ]\n",
    "    return conv\n",
    "\n",
    "\n",
    "display(pprint(format_out_row_str(cot_formatted_rows[0])))"
   ]
  },
  {
   "cell_type": "code",
   "execution_count": null,
   "metadata": {},
   "outputs": [],
   "source": [
    "conv_out = []\n",
    "for row in tqdm(cot_formatted_rows):\n",
    "    conv_out.append({\"conversation\": format_out_row_str(row), \"problem_name\": row[\"problem_name\"]})\n",
    "out_rows_pl = pl.DataFrame(conv_out)"
   ]
  },
  {
   "cell_type": "code",
   "execution_count": null,
   "metadata": {},
   "outputs": [],
   "source": [
    "display(out_rows_pl)\n",
    "out_rows_pl.write_parquet(\"codecontests_cot_sft_formatted_thoughts_conversations.parquet\")"
   ]
  }
 ],
 "metadata": {
  "kernelspec": {
   "display_name": ".venv",
   "language": "python",
   "name": "python3"
  },
  "language_info": {
   "codemirror_mode": {
    "name": "ipython",
    "version": 3
   },
   "file_extension": ".py",
   "mimetype": "text/x-python",
   "name": "python",
   "nbconvert_exporter": "python",
   "pygments_lexer": "ipython3",
   "version": "3.11.10"
  }
 },
 "nbformat": 4,
 "nbformat_minor": 2
}
