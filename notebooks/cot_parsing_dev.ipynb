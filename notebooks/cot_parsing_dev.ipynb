{
 "cells": [
  {
   "cell_type": "code",
   "execution_count": 33,
   "metadata": {},
   "outputs": [],
   "source": [
    "from IPython.display import display, Markdown\n",
    "import polars as pl\n",
    "import mistune"
   ]
  },
  {
   "cell_type": "code",
   "execution_count": 5,
   "metadata": {},
   "outputs": [],
   "source": [
    "dataset_pl = pl.read_parquet(\"../codecontests_cot_sft.parquet\")"
   ]
  },
  {
   "cell_type": "code",
   "execution_count": null,
   "metadata": {},
   "outputs": [],
   "source": [
    "all_problems = []\n",
    "all_completions = []\n",
    "for i in range(len(dataset_pl)):\n",
    "    row = dataset_pl[i]\n",
    "    for j in range(len(row[\"problem\"])):\n",
    "        all_problems.append(row[\"problem\"][j])\n",
    "    for j in range(len(row[\"completions\"][0])):\n",
    "        all_completions.append(row[\"completions\"][0][j])"
   ]
  },
  {
   "cell_type": "code",
   "execution_count": null,
   "metadata": {},
   "outputs": [],
   "source": [
    "for problem, completion in zip(all_problems, all_completions):\n",
    "    display(Markdown(f\"### Problem:\"))\n",
    "    display(problem)\n",
    "    display(completion)"
   ]
  },
  {
   "cell_type": "code",
   "execution_count": null,
   "metadata": {},
   "outputs": [],
   "source": [
    "import pprint\n",
    "import mistune.renderers\n",
    "import mistune.renderers.markdown\n",
    "from collections import defaultdict\n",
    "\n",
    "\n",
    "markdown_renderer = mistune.create_markdown(renderer=None)\n",
    "\n",
    "heading_freqs = defaultdict(int)\n",
    "\n",
    "n_with_steps = 0\n",
    "\n",
    "\n",
    "def recursive_get_all_children(element, children_list):\n",
    "    if \"children\" in element:\n",
    "        for child in element[\"children\"]:\n",
    "            recursive_get_all_children(child, children_list)\n",
    "    else:\n",
    "        children_list.append(element)\n",
    "    return children_list\n",
    "\n",
    "\n",
    "out_rows = []\n",
    "\n",
    "for i in range(len(dataset_pl)):\n",
    "    # display(Markdown('## Problem'))\n",
    "    problem_str = dataset_pl[i][\"problem\"][0]\n",
    "    try:\n",
    "        solution_str = dataset_pl[i][\"completions\"][0][0]\n",
    "    except:\n",
    "        print(\"warn: no solution\")\n",
    "        continue\n",
    "    problem_md = markdown_renderer(problem_str)\n",
    "    solution_md = markdown_renderer(solution_str)\n",
    "    thoughts = []\n",
    "    solution_code = None\n",
    "    for i, element in enumerate(solution_md):\n",
    "        if element[\"type\"] == \"heading\":\n",
    "            heading_text = element[\"children\"][0][\"raw\"].lower()\n",
    "            has_steps = False\n",
    "            required_phrases = [\"reasoning\", \"steps\", \"approach\"]\n",
    "            if (\n",
    "                any(phrase in heading_text for phrase in required_phrases)\n",
    "                and not \"code\" in heading_text\n",
    "            ):\n",
    "                has_steps = True\n",
    "            if has_steps:\n",
    "                n_with_steps += has_steps\n",
    "                heading_freqs[heading_text] += 1\n",
    "                steps_list_idx = i + 1\n",
    "                if solution_md[i + 1][\"type\"] == \"blank_line\":\n",
    "                    steps_list_idx = i + 2\n",
    "                steps_list_element = solution_md[steps_list_idx]\n",
    "                for step in steps_list_element[\"children\"]:\n",
    "                    # 0 is the prefix + :\n",
    "                    if \"children\" not in step or len(step[\"children\"]) < 2:\n",
    "                        print(step)\n",
    "                        continue\n",
    "                    bullet_point_text = step[\"children\"][1]\n",
    "                    if \"children\" not in bullet_point_text:\n",
    "                        print(bullet_point_text)\n",
    "                        continue\n",
    "                    for sub_step in bullet_point_text[\"children\"]:\n",
    "                        for sub_sub_step in sub_step[\"children\"]:\n",
    "                            all_text = recursive_get_all_children(sub_sub_step, [])\n",
    "                            if any([\"raw\" not in x for x in all_text]):\n",
    "                                print(all_text)\n",
    "                                continue\n",
    "                            all_text_str = \"\".join([t[\"raw\"] for t in all_text])\n",
    "                            thoughts.append(all_text_str)\n",
    "        if element[\"type\"] == \"block_code\" and solution_code is None:\n",
    "            if \"raw\" not in element:\n",
    "                print(element)\n",
    "                continue\n",
    "            solution_code = element[\"raw\"]\n",
    "\n",
    "        if solution_code is not None and len(thoughts) > 0:\n",
    "            out_rows.append(\n",
    "                {\"problem\": problem_str, \"code\": solution_code, \"thoughts\": thoughts}\n",
    "            )\n",
    "            break"
   ]
  },
  {
   "cell_type": "code",
   "execution_count": 246,
   "metadata": {},
   "outputs": [],
   "source": [
    "out_rows_pl = pl.DataFrame(out_rows)\n",
    "out_rows_pl.write_parquet(\"codecontests_cot_sft_formatted_thoughts.parquet\")"
   ]
  },
  {
   "cell_type": "code",
   "execution_count": null,
   "metadata": {},
   "outputs": [],
   "source": [
    "sorted_freqs_table = sorted(heading_freqs.items(), key=lambda x: x[1], reverse=True)\n",
    "sorted_freqs_table"
   ]
  }
 ],
 "metadata": {
  "kernelspec": {
   "display_name": ".venv",
   "language": "python",
   "name": "python3"
  },
  "language_info": {
   "codemirror_mode": {
    "name": "ipython",
    "version": 3
   },
   "file_extension": ".py",
   "mimetype": "text/x-python",
   "name": "python",
   "nbconvert_exporter": "python",
   "pygments_lexer": "ipython3",
   "version": "3.11.2"
  }
 },
 "nbformat": 4,
 "nbformat_minor": 2
}
