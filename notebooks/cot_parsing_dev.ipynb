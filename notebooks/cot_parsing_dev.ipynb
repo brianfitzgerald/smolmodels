{
 "cells": [
  {
   "cell_type": "code",
   "execution_count": 4,
   "metadata": {},
   "outputs": [],
   "source": [
    "from IPython.display import display, Markdown\n",
    "import polars as pl\n",
    "import mistune\n",
    "from tqdm import tqdm\n",
    "from pprint import pprint\n",
    "import mistune.renderers\n",
    "import mistune.renderers.markdown\n",
    "from collections import defaultdict\n",
    "from typing import Literal\n",
    "from datasets import load_dataset\n",
    "from typing import List\n",
    "import re\n",
    "from openai.types.chat.chat_completion_message_param import ChatCompletionMessageParam\n",
    "from typing import Sequence"
   ]
  },
  {
   "cell_type": "code",
   "execution_count": 25,
   "metadata": {},
   "outputs": [],
   "source": [
    "cot_sft_dataset = pl.read_parquet(\"../codecontests_cot_sft_v2.parquet\")"
   ]
  },
  {
   "cell_type": "code",
   "execution_count": null,
   "metadata": {},
   "outputs": [],
   "source": [
    "cot_sft_dataset"
   ]
  },
  {
   "cell_type": "code",
   "execution_count": null,
   "metadata": {},
   "outputs": [],
   "source": [
    "\n",
    "ModelChoice = Literal[\"gpt-4o\", \"deepseek\"]\n",
    "\n",
    "model_choice: ModelChoice = \"gpt-4o\"\n",
    "\n",
    "markdown_renderer = mistune.create_markdown(renderer=None)\n",
    "\n",
    "heading_freqs = defaultdict(int)\n",
    "\n",
    "n_with_steps = 0\n",
    "\n",
    "\n",
    "def recursive_get_all_children(element, children_list, disallowed_types=[]):\n",
    "    if \"type\" in element and element[\"type\"] in disallowed_types:\n",
    "        return children_list\n",
    "    if \"children\" in element:\n",
    "        for child in element[\"children\"]:\n",
    "            recursive_get_all_children(child, children_list, disallowed_types)\n",
    "    else:\n",
    "        children_list.append(element)\n",
    "    return children_list\n",
    "\n",
    "\n",
    "cot_formatted_rows = []\n",
    "\n",
    "for i in tqdm(range(len(cot_sft_dataset))):\n",
    "    # display(Markdown('## Problem'))\n",
    "    problem_str = cot_sft_dataset[i][\"problem\"][0]\n",
    "    problem_name = cot_sft_dataset[i][\"name\"][0]\n",
    "    try:\n",
    "        solution_str = cot_sft_dataset[i][\"completions\"][0][0]\n",
    "    except:\n",
    "        print(\"warn: no solution\")\n",
    "        continue\n",
    "    problem_md = markdown_renderer(problem_str)\n",
    "    solution_md = markdown_renderer(solution_str)\n",
    "    # print(solution_str)\n",
    "    # display(solution_md)\n",
    "    thoughts = []\n",
    "    solution_code = None\n",
    "    for i, element in enumerate(solution_md):\n",
    "        # Deepseek has a preamble, then the steps; 4o prints a paragraph then the steps, so the first\n",
    "        # list is always the steps\n",
    "        if model_choice == \"deepseek\":\n",
    "            if element[\"type\"] == \"heading\":\n",
    "                heading_text = element[\"children\"][0][\"raw\"].lower()\n",
    "                has_steps = False\n",
    "                required_phrases = [\"reasoning\", \"steps\", \"approach\"]\n",
    "\n",
    "                if (\n",
    "                    any(phrase in heading_text for phrase in required_phrases)\n",
    "                    and \"code\" not in heading_text\n",
    "                ):\n",
    "                    has_steps = True\n",
    "                if has_steps:\n",
    "                    n_with_steps += has_steps\n",
    "                    heading_freqs[heading_text] += 1\n",
    "                    steps_list_idx = i + 1\n",
    "                    if solution_md[i + 1][\"type\"] == \"blank_line\":\n",
    "                        steps_list_idx = i + 2\n",
    "                    steps_list_element = solution_md[steps_list_idx]\n",
    "                    for step in steps_list_element[\"children\"]:\n",
    "                        # 0 is the prefix + :\n",
    "                        if \"children\" not in step or len(step[\"children\"]) < 2:\n",
    "                            print(step)\n",
    "                            continue\n",
    "                        bullet_point_text = step[\"children\"][1]\n",
    "                        if \"children\" not in bullet_point_text:\n",
    "                            print(bullet_point_text)\n",
    "                            continue\n",
    "                        for sub_step in bullet_point_text[\"children\"]:\n",
    "                            for sub_sub_step in sub_step[\"children\"]:\n",
    "                                all_text = recursive_get_all_children(sub_sub_step, [])\n",
    "                                if any([\"raw\" not in x for x in all_text]):\n",
    "                                    print(all_text)\n",
    "                                    continue\n",
    "                                all_text_str = \"\".join([t[\"raw\"] for t in all_text])\n",
    "                                thoughts.append(all_text_str)\n",
    "        elif model_choice == \"gpt-4o\":\n",
    "            if element[\"type\"] == \"list\":\n",
    "                # pprint(element)\n",
    "                for child in element[\"children\"]:\n",
    "                    for sub_child in child[\"children\"]:\n",
    "                        all_text = recursive_get_all_children(sub_child, [], [\"strong\"])\n",
    "                        all_text = [t[\"raw\"] for t in all_text if \"raw\" in t]\n",
    "                        all_text = [t.lstrip(\": \") for t in all_text]\n",
    "                        all_text = [t for t in all_text if len(t) > 0 and t != \"\\n\"]\n",
    "                        all_text_str = \" \".join([t for t in all_text])\n",
    "                        if len(all_text_str) > 0:\n",
    "                            thoughts.append(all_text_str)\n",
    "        if element[\"type\"] == \"block_code\" and solution_code is None:\n",
    "            if \"raw\" not in element:\n",
    "                print(element)\n",
    "                continue\n",
    "            solution_code = element[\"raw\"]\n",
    "\n",
    "        if solution_code is not None and len(thoughts) > 0:\n",
    "            cot_formatted_rows.append(\n",
    "                {\n",
    "                    \"problem\": problem_str,\n",
    "                    \"code\": solution_code,\n",
    "                    \"thoughts\": thoughts,\n",
    "                    \"problem_name\": problem_name,\n",
    "                }\n",
    "            )\n",
    "            break\n"
   ]
  },
  {
   "cell_type": "code",
   "execution_count": null,
   "metadata": {},
   "outputs": [],
   "source": [
    "cot_formatted_rows"
   ]
  },
  {
   "cell_type": "code",
   "execution_count": 30,
   "metadata": {},
   "outputs": [],
   "source": [
    "out_rows_pl = pl.DataFrame(cot_formatted_rows)\n",
    "out_rows_pl.write_parquet(\"codecontests_cot_sft_formatted_thoughts_v2_gpt.parquet\")"
   ]
  },
  {
   "cell_type": "code",
   "execution_count": null,
   "metadata": {},
   "outputs": [],
   "source": [
    "cot_formatted_rows"
   ]
  },
  {
   "cell_type": "code",
   "execution_count": null,
   "metadata": {},
   "outputs": [],
   "source": [
    "\n",
    "\n",
    "def format_codecontests_row_sft(row: dict) -> Sequence[ChatCompletionMessageParam]:\n",
    "    problem, code, thoughts = row[\"problem\"], row[\"code\"], row[\"thoughts\"]\n",
    "\n",
    "    thoughts_list = [f\"<thought>{t}</thought>\" for t in thoughts]\n",
    "    thoughts_str = \"\\n\".join(thoughts_list)\n",
    "    code_str = f\"<solution>{code}</solution>\"\n",
    "    conv: Sequence[ChatCompletionMessageParam] = [\n",
    "        {\n",
    "            \"role\": \"user\",\n",
    "            \"content\": f\"Solve the following programming problem in Python.\\n{problem}\",\n",
    "        },\n",
    "        {\n",
    "            \"role\": \"assistant\",\n",
    "            \"content\": f\"{thoughts_str}\\n\\n{code_str}\",\n",
    "        },\n",
    "    ]\n",
    "    return conv\n",
    "\n",
    "\n",
    "display(pprint(format_codecontests_row_sft(cot_formatted_rows[0])))"
   ]
  },
  {
   "cell_type": "code",
   "execution_count": null,
   "metadata": {},
   "outputs": [],
   "source": [
    "conv_out = []\n",
    "for row in tqdm(cot_formatted_rows):\n",
    "    conv_out.append(\n",
    "        {\n",
    "            \"conversation\": format_codecontests_row_sft(row),\n",
    "            \"problem_name\": row[\"problem_name\"],\n",
    "            \"source\": \"codecontests\",\n",
    "        }\n",
    "    )\n",
    "out_rows_pl = pl.DataFrame(conv_out)"
   ]
  },
  {
   "cell_type": "code",
   "execution_count": null,
   "metadata": {},
   "outputs": [],
   "source": [
    "display(out_rows_pl)\n",
    "out_rows_pl.write_parquet(\"codecontests_cot_sft_formatted_thoughts_conversations.parquet\")"
   ]
  },
  {
   "cell_type": "code",
   "execution_count": 6,
   "metadata": {},
   "outputs": [],
   "source": [
    "openo1_sft = load_dataset(\"O1-OPEN/OpenO1-SFT\")['train']"
   ]
  },
  {
   "cell_type": "code",
   "execution_count": 17,
   "metadata": {},
   "outputs": [
    {
     "name": "stderr",
     "output_type": "stream",
     "text": [
      "77685it [00:12, 6329.64it/s]\n"
     ]
    },
    {
     "name": "stdout",
     "output_type": "stream",
     "text": [
      "defaultdict(<class 'int'>, {'no_code_block': 46225, 'no_output_or_thought': 52005, 'multiple_outputs': 2884, 'chinese_found': 6706, 'no_thought': 40})\n"
     ]
    }
   ],
   "source": [
    "def extract_code_block(msg: str) -> List[str]:\n",
    "    match_pattern = r\"```(\\w+)?\\n(.*?)```\"\n",
    "    blocks = re.findall(match_pattern, msg, re.DOTALL)\n",
    "\n",
    "    if len(blocks) > 0:\n",
    "        blocks = [block[1] for block in blocks]\n",
    "\n",
    "    return blocks\n",
    "\n",
    "\n",
    "def _get_all_within_tag(tag_content: str, text: str) -> str:\n",
    "    pattern = rf\"<{tag_content}>(.*?)</{tag_content}>\"\n",
    "    results = re.findall(pattern, text, re.DOTALL)\n",
    "    if len(results) == 0:\n",
    "        return \"\"\n",
    "    if len(results) > 1:\n",
    "        return results[-1]\n",
    "    return results[0]\n",
    "\n",
    "\n",
    "def format_o1_row(problem, thoughts, code) -> Sequence[ChatCompletionMessageParam]:\n",
    "    thoughts_list = [f\"<thought>{t}</thought>\" for t in thoughts]\n",
    "    thoughts_str = \"\\n\".join(thoughts_list)\n",
    "    code_str = f\"<solution>{code}</solution>\"\n",
    "    conv: Sequence[ChatCompletionMessageParam] = [\n",
    "        {\"role\": \"user\", \"content\": problem},\n",
    "        {\n",
    "            \"role\": \"assistant\",\n",
    "            \"content\": f\"{thoughts_str}\\n\\n{code_str}\",\n",
    "        },\n",
    "    ]\n",
    "    return conv\n",
    "\n",
    "\n",
    "rows_out = []\n",
    "\n",
    "\n",
    "def _check_chinese(text: bytes) -> bool:\n",
    "    results = re.findall(r\"[\\u4e00-\\u9fff]+\", text.decode(\"utf-8\"))\n",
    "    return len(results) > 0\n",
    "\n",
    "\n",
    "stats = defaultdict(int)\n",
    "\n",
    "for i, row in tqdm(enumerate(openo1_sft)):\n",
    "    output = row[\"output\"]  # type: ignore\n",
    "    if \"```\" not in output:\n",
    "        stats[\"no_code_block\"] += 1\n",
    "    problem = row[\"instruction\"]  # type: ignore\n",
    "    if _check_chinese(problem.encode(\"utf-8\")) or _check_chinese(\n",
    "        output.encode(\"utf-8\")\n",
    "    ):\n",
    "        stats[\"chinese_found\"] += 1\n",
    "        continue\n",
    "\n",
    "    thought = _get_all_within_tag(\"Thought\", output).split(\"\\n\\n\")\n",
    "    output = _get_all_within_tag(\"Output\", output)\n",
    "    output = extract_code_block(output)\n",
    "\n",
    "    thought = [t.strip() for t in thought if t != \"\"]\n",
    "    if len(output) == 0:\n",
    "        stats[\"no_output_or_thought\"] += 1\n",
    "        continue\n",
    "    elif len(thought) == 0:\n",
    "        stats[\"no_thought\"] += 1\n",
    "        continue\n",
    "    if len(output) > 1:\n",
    "        stats[\"multiple_outputs\"] += 1\n",
    "        continue\n",
    "    output = output[0]\n",
    "    row = format_o1_row(problem, thought, output)\n",
    "    rows_out.append(\n",
    "        {\n",
    "            \"conversation\": row,\n",
    "            \"problem_name\": f\"openo1_sft_{i}\",\n",
    "            \"source\": \"openo1_sft\",\n",
    "        }\n",
    "    )\n",
    "\n",
    "out_rows_pl = pl.DataFrame(rows_out)\n",
    "print(stats)"
   ]
  },
  {
   "cell_type": "code",
   "execution_count": 13,
   "metadata": {},
   "outputs": [
    {
     "data": {
      "text/plain": [
       "(16050, 3)"
      ]
     },
     "execution_count": 13,
     "metadata": {},
     "output_type": "execute_result"
    }
   ],
   "source": [
    "\n",
    "out_rows_pl.write_parquet(\"openo1_sft_formatted_thoughts_conversations.parquet\")"
   ]
  }
 ],
 "metadata": {
  "kernelspec": {
   "display_name": ".venv",
   "language": "python",
   "name": "python3"
  },
  "language_info": {
   "codemirror_mode": {
    "name": "ipython",
    "version": 3
   },
   "file_extension": ".py",
   "mimetype": "text/x-python",
   "name": "python",
   "nbconvert_exporter": "python",
   "pygments_lexer": "ipython3",
   "version": "3.11.2"
  }
 },
 "nbformat": 4,
 "nbformat_minor": 2
}
