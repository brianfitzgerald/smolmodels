{
 "cells": [
  {
   "cell_type": "code",
   "execution_count": 9,
   "metadata": {},
   "outputs": [],
   "source": [
    "import polars as pl\n",
    "from IPython.display import Markdown\n",
    "backtranslate_df = pl.read_parquet(\"../dataset_files/gutenberg_backtranslate.parquet\")"
   ]
  },
  {
   "cell_type": "code",
   "execution_count": null,
   "metadata": {},
   "outputs": [],
   "source": [
    "for row in backtranslate_df.sample(10).iter_rows(named=True):\n",
    "    display(Markdown(f\"**{row['title']}**\"))\n",
    "    display(Markdown(row[\"paragraph\"]))\n",
    "    display(Markdown(\"**Backtranslated Text**\"))\n",
    "    display(Markdown(row[\"instruction\"]))\n",
    "    display(Markdown(\"-\"*100))"
   ]
  }
 ],
 "metadata": {
  "kernelspec": {
   "display_name": ".venv",
   "language": "python",
   "name": "python3"
  },
  "language_info": {
   "codemirror_mode": {
    "name": "ipython",
    "version": 3
   },
   "file_extension": ".py",
   "mimetype": "text/x-python",
   "name": "python",
   "nbconvert_exporter": "python",
   "pygments_lexer": "ipython3",
   "version": "3.11.11"
  }
 },
 "nbformat": 4,
 "nbformat_minor": 2
}
