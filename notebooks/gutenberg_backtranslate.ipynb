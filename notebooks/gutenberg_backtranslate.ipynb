{
 "cells": [
  {
   "cell_type": "code",
   "execution_count": 1,
   "metadata": {},
   "outputs": [],
   "source": [
    "import polars as pl\n",
    "backtranslate_df = pl.read_parquet(\"../dataset_files/gutenberg_backtranslate.parquet\")"
   ]
  },
  {
   "cell_type": "code",
   "execution_count": null,
   "metadata": {},
   "outputs": [
    {
     "data": {
      "text/markdown": [
       "**The French in the Heart of America**"
      ],
      "text/plain": [
       "<IPython.core.display.Markdown object>"
      ]
     },
     "metadata": {},
     "output_type": "display_data"
    },
    {
     "data": {
      "text/markdown": [
       "But the habitant of that farther valley is considerate neither of himself\n",
       "nor of generous nature. He is ready to spend his all, or her all, of to-\n",
       "day for to-day and for to-morrow, and to some extent unselfishly, but not\n",
       "to save it. He lives \"angerously\" and takes all the risks. His thought of\n",
       "the future is not nepotic or thrifty; it is likely to be altruistic,\n",
       "publicistic. I suppose that the constitution and laws of Oklahoma, whose\n",
       "land was the last to be added to the public domain and its commonwealth\n",
       "among the last to the roll of States, has been more generous-minded toward\n",
       "its children than any other. It set apart not only sections sixteen and\n",
       "thirty-six in every township for the public schools; it reserved two more\n",
       "sections in every township for kindred uses. But in all this, as I pointed\n",
       "out, it is spending for the future, not saving, hoarding.\n",
       "\n",
       "The nepotic conservationist of the St. Lawrence, fixed in his place, saves\n",
       "because if he leaves but an exhausted field behind him he is robbing his\n",
       "children and grandchildren of their rightful, personal heritage. The\n",
       "\"boomer\" of Oklahoma exploits and spends lavishly because of a sublime\n",
       "confidence in the illimitability of the resources of nature and in the\n",
       "resourcefulness of the coming generations.\n",
       "\n",
       "But the natural scientists--the foresters, the physiographers, the\n",
       "geologists--have within a very few years been making themselves heard in\n",
       "warning. They have said that \"the mountains of France, of Spain, and China\n",
       "have been denuded of their forests in large measure so that the supply of\n",
       "wood is inadequate to meet the needs of the people,\" [Footnote: C. R. Van\n",
       "Hise, \"Conservation of Natural Resources in the United States,\" p. 3.]\n",
       "that \"in Spain and Italy, though warm countries, the people suffer more\n",
       "from the cold than in America because of insufficient fuel,\" [Footnote:\n",
       "Van Hise, p. 2.] that \"one-half of the people of the world go to bed\n",
       "hungry,\" [Footnote: Van Hise, p. 3.] or at any rate insufficiently\n",
       "nourished for the next day's work. But few listened to them except in the\n",
       "hills and in the valleys of abandoned farms. France, Italy, Spain, China\n",
       "were remote. The optimism fostered of new teeming acres and newly\n",
       "discovered mines was heedless of the warning. It tore down barns and built\n",
       "bigger, and it gave even more generously to the need of the hour and the\n",
       "day."
      ],
      "text/plain": [
       "<IPython.core.display.Markdown object>"
      ]
     },
     "metadata": {},
     "output_type": "display_data"
    },
    {
     "data": {
      "text/markdown": [
       "**Backtranslated Text**"
      ],
      "text/plain": [
       "<IPython.core.display.Markdown object>"
      ]
     },
     "metadata": {},
     "output_type": "display_data"
    },
    {
     "data": {
      "text/markdown": [
       "Write a paragraph that captures the contrast between two distinct mindsets regarding resource management and future planning. The paragraph should be written in a formal, slightly academic tone, with a mix of complex and simple sentences to create a thoughtful, reflective mood. Use a rich vocabulary that includes terms related to conservation, resourcefulness, and societal attitudes. The main ideas should revolve around the differences between a conservative, long-term planning mindset and a more immediate, optimistic approach to resource use. Highlight the warnings from natural scientists about the consequences of over-exploitation and the general disregard for these warnings due to optimism and immediate needs. Ensure the paragraph is around 200-250 words in length, maintaining a balance between descriptive detail and narrative flow."
      ],
      "text/plain": [
       "<IPython.core.display.Markdown object>"
      ]
     },
     "metadata": {},
     "output_type": "display_data"
    },
    {
     "data": {
      "text/markdown": [
       "----------------------------------------------------------------------------------------------------"
      ],
      "text/plain": [
       "<IPython.core.display.Markdown object>"
      ]
     },
     "metadata": {},
     "output_type": "display_data"
    },
    {
     "data": {
      "text/markdown": [
       "**Lord Ormont and His Aminta — Volume 3**"
      ],
      "text/plain": [
       "<IPython.core.display.Markdown object>"
      ]
     },
     "metadata": {},
     "output_type": "display_data"
    },
    {
     "data": {
      "text/markdown": [
       "Weyburn stopped his questioning, with the reflection that he had no right\n",
       "to recollect her words thus accurately.  The words, however, stamped\n",
       "Morsfield's doings and sayings and postures in the presence of Aminta\n",
       "with significance.  When the ladies were looking on at the fencers,\n",
       "Morsfield's perfect coxcombry had been noticeable.  He knew the art of\n",
       "airing a fine figure.  Mrs. Lawrence Finchley had spoken of it, and\n",
       "Aminta had acquiesced; in the gravely simple manner of women who may be\n",
       "thinking of it much more intently than the vivacious prattler.  Aminta\n",
       "confessed to an admiration of masculine physical beauty; the picador,\n",
       "matador, of the Spanish ring called up an undisguised glow that English\n",
       "ladies show coldly when they condescend to let it be seen; as it were, a\n",
       "line or two of colour on the wintriest of skies.  She might, after all,\n",
       "at heart be one of the leisured, jewelled, pretty-winged; the spending,\n",
       "never harvesting, world she claimed and sought to enter.  And what a\n",
       "primitive world it was!--world of the glittering beast and the not too\n",
       "swiftly flying prey, the savage passions clothed in silk.  Surely desire\n",
       "to belong to it writes us poor creatures.  Mentally, she could hardly be\n",
       "maturer than the hero-worshipping girl in the procession of Miss\n",
       "Vincent's young seminarists.  Probably so, but she carried magic.  She\n",
       "was of the order of women who walk as the goddesses of old, bearing the\n",
       "gift divine.  And, by the way, she had the step of the goddess.  Weyburn\n",
       "repeated to himself the favourite familiar line expressive of the\n",
       "glorious walk, and accused Lord Ormont of being in cacophonous accordance\n",
       "with the perpetual wrong of circumstance, he her possessor, the sole\n",
       "person of her sphere insensible to the magic she bore!  So ran his\n",
       "thought.\n",
       "\n",
       "The young man chose to conceive that he thought abstractedly.  He was,\n",
       "in truth, often casting about for the chances of his meeting on some\n",
       "fortunate day the predestined schoolmaster's wife: a lady altogether\n",
       "praiseworthy for carrying principles of sound government instead of\n",
       "magic.  Consequently, susceptible to woman's graces though he knew\n",
       "himself to be, Lady Ormont's share of them hung in the abstract for him.\n",
       "His hopes were bent on an early escape to Switzerland and his life's\n",
       "work."
      ],
      "text/plain": [
       "<IPython.core.display.Markdown object>"
      ]
     },
     "metadata": {},
     "output_type": "display_data"
    },
    {
     "data": {
      "text/markdown": [
       "**Backtranslated Text**"
      ],
      "text/plain": [
       "<IPython.core.display.Markdown object>"
      ]
     },
     "metadata": {},
     "output_type": "display_data"
    },
    {
     "data": {
      "text/markdown": [
       "Write a paragraph in a formal, introspective, and somewhat melancholic tone, maintaining a literary style reminiscent of classic English literature. The paragraph should revolve around a character named Weyburn who is reflecting on his interactions with a woman named Aminta and her relationship with another man, Morsfield. Weyburn's thoughts should delve into the significance of Morsfield's behavior and Aminta's reactions, highlighting her admiration for masculine beauty and her desire to belong to a world of elegance and sophistication. The narrative should also touch on Weyburn's own aspirations and his perception of Aminta's magical allure, contrasting it with his more practical and abstract thoughts about his future. Use a rich vocabulary and varied sentence structures, incorporating literary devices such as metaphors and allusions to enhance the depth and complexity of the narrative. Ensure the paragraph is approximately 250-300 words long, capturing the essence of introspective reflection and the intricate dynamics between the characters."
      ],
      "text/plain": [
       "<IPython.core.display.Markdown object>"
      ]
     },
     "metadata": {},
     "output_type": "display_data"
    },
    {
     "data": {
      "text/markdown": [
       "----------------------------------------------------------------------------------------------------"
      ],
      "text/plain": [
       "<IPython.core.display.Markdown object>"
      ]
     },
     "metadata": {},
     "output_type": "display_data"
    },
    {
     "data": {
      "text/markdown": [
       "**The Letters of Her Mother to Elizabeth**"
      ],
      "text/plain": [
       "<IPython.core.display.Markdown object>"
      ]
     },
     "metadata": {},
     "output_type": "display_data"
    },
    {
     "data": {
      "text/markdown": [
       "Sir Charles asked the Marquis and the Marquise de Pivart, the Vicomte de\n",
       "Narjac, and Mr. Vanduzen, an American naval officer _en retraite_, to\n",
       "meet us. I sat between the Marquis and Mr. Vanduzen. The Marquis looks\n",
       "like a little black monkey, with a beard _à Henri Deux_, but his manners\n",
       "are so elegant one never thinks of his looks. He knows the De\n",
       "Croixmares very well, and when I asked him what he thought of Héloise he\n",
       "turned so red and looked so uncomfortable that I at once felt that\n",
       "Jean's charming Comtesse had _brisé son c[oe]ur_ at some period of their\n",
       "acquaintance. He dropped the subject as soon as possible, and quite\n",
       "rudely began to talk of the war, and said that England was the Jew among\n",
       "nations. I cooled his Anglophobia for him by remarking that I would much\n",
       "prefer to have him talk of the Comtesse de Croixmare than attack my\n",
       "country. He seemed positively afraid of me after that, so I am sure\n",
       "there must be something between him and Héloise that he doesn't want his\n",
       "wife to know. He got so moody and silent that I told him I thought him\n",
       "very rude, and devoted myself through the rest of dinner to Mr.\n",
       "Vanduzen, who is elderly and \"natty.\" Mr. Vanduzen is quite amusing, but\n",
       "I wish he wouldn't call people by their full names as if they were a\n",
       "species he was labelling for a museum, such as, \"Really, Miss Blanche\n",
       "Blaine, you amaze me.\" \"It was very warm to-day, was it not, Madame la\n",
       "Marquise de Pivart?\" \"Have you made the ascent of Pilatus, Sir Charles\n",
       "Bevon?\" You know the style of man, Elizabeth, you must have met one or\n",
       "two like him at Nazeby or Hazeldene. If they are English they are called\n",
       "snobs, but when they come from the Land of Canaan on the other side of\n",
       "the pond they are put down quite likely as \"so American.\"\n",
       "\n",
       "The Marquise is a fascinating creature, she knows the full value of her\n",
       "figure as one of her attractions, and she clothes it accordingly. Her\n",
       "bust is like alabaster, the neck and shoulders are perfect; her eyes are\n",
       "rather wide apart, which gives her a naïve expression; her smile is\n",
       "simplicity itself, and she talks with a tabloid voice. Sir Charles\n",
       "seemed to admire her, for he addressed nearly all his conversation to\n",
       "her, and he poked me so hard under the table once or twice that I was\n",
       "compelled to say, \"The table leg is on the other side, Sir Charles,\" and\n",
       "he gave the Marquise such a reproachful glance."
      ],
      "text/plain": [
       "<IPython.core.display.Markdown object>"
      ]
     },
     "metadata": {},
     "output_type": "display_data"
    },
    {
     "data": {
      "text/markdown": [
       "**Backtranslated Text**"
      ],
      "text/plain": [
       "<IPython.core.display.Markdown object>"
      ]
     },
     "metadata": {},
     "output_type": "display_data"
    },
    {
     "data": {
      "text/markdown": [
       "Write a paragraph that captures the essence of a high-society dinner conversation, focusing on the interactions between a narrator and several distinguished guests. The tone should be witty and observant, with a touch of humor and a hint of intrigue. The writing style should be formal yet conversational, reminiscent of a Victorian-era narrative. Include descriptions of the guests, their mannerisms, and the narrator's reactions to them. Ensure the vocabulary is rich and varied, with some archaic or literary terms to maintain the period feel. The paragraph should include a mix of short and long sentences, with some complex structures to reflect the narrator's detailed observations and thoughts. The content should revolve around social dynamics, subtle flirtations, and the narrator's keen observations of the guests' behaviors and interactions."
      ],
      "text/plain": [
       "<IPython.core.display.Markdown object>"
      ]
     },
     "metadata": {},
     "output_type": "display_data"
    },
    {
     "data": {
      "text/markdown": [
       "----------------------------------------------------------------------------------------------------"
      ],
      "text/plain": [
       "<IPython.core.display.Markdown object>"
      ]
     },
     "metadata": {},
     "output_type": "display_data"
    },
    {
     "data": {
      "text/markdown": [
       "**Ralph Clavering; Or, We Must Try Before We Can Do**"
      ],
      "text/plain": [
       "<IPython.core.display.Markdown object>"
      ]
     },
     "metadata": {},
     "output_type": "display_data"
    },
    {
     "data": {
      "text/markdown": [
       "\"Poor young master bean't accustomed to cottage rooms,\" observed the old\n",
       "woman, Dame Harvey, to her daughter.  She could not forget that, humble\n",
       "as was her cottage, it was her own, and that she was bestowing a favour\n",
       "on those she had admitted within it.  She was conscious at the same time\n",
       "that she was doing her duty towards them as a Christian, and this made\n",
       "her overlook, without complaint, many other slights she received.  It\n",
       "was an anxious night to all concerned in Ralph's welfare.  Doctor\n",
       "Morison feared that he had received a concussion of the brain, but could\n",
       "not decide whether it would prove serious till the next day.  Mr\n",
       "Clavering scarcely left his son's bedside, nor would Lilly, had not\n",
       "Biddy filled her place, and she then consented to lie down on some\n",
       "chairs in a back room, where a large fire had been made up, a cart with\n",
       "fuel having arrived from the Hall.  Ralph breathed painfully, it was\n",
       "evident that his life hung by a thread.\n",
       "\n",
       "Two days passed by, and it seemed very uncertain whether Ralph Clavering\n",
       "would recover.  Lilly, by the doctor's orders, had to return home, but\n",
       "she begged that Biddy might remain to watch the invalid, and a more\n",
       "faithful nurse could not have been found.  She, indeed, discovered with\n",
       "sorrow the true estimation in which her cousin was held at Clavering\n",
       "Hall; for among all the pampered servants not one volunteered, or seemed\n",
       "anxious to attend by his bedside.  When he was well he ordered them\n",
       "roughly about, and abused them if they did not obey his often\n",
       "unreasonable commands.  Now, as mean and irreligious persons are wont to\n",
       "do, they retaliated by treating him with neglect.  Mr Clavering, whose\n",
       "fears for his son's life were fully aroused, only rushed out of the\n",
       "cottage for a few minutes at a time to calm his agitation, or to give\n",
       "way to his grief, and then hurried back to his bedside.  He had sent for\n",
       "the housekeeper to attend on Ralph, but Mrs Gammage declined coming on\n",
       "the plea that her mistress required her attendance, and that her own\n",
       "health was so delicate that she should die of cold in Dame Harvey's\n",
       "cottage.  The dame, therefore, and her daughter volunteered their\n",
       "services, and more careful attendants could not have been found.  Mrs\n",
       "Harvey had been in service in her youth, and as she observed knew how to\n",
       "attend on gentlefolks.  Food, and bedding, and furniture and all sorts\n",
       "of things had been sent from the Hall, and as the cottage was neat and\n",
       "clean, Mr Clavering might well have been thankful that his son had so\n",
       "comfortable a refuge."
      ],
      "text/plain": [
       "<IPython.core.display.Markdown object>"
      ]
     },
     "metadata": {},
     "output_type": "display_data"
    },
    {
     "data": {
      "text/markdown": [
       "**Backtranslated Text**"
      ],
      "text/plain": [
       "<IPython.core.display.Markdown object>"
      ]
     },
     "metadata": {},
     "output_type": "display_data"
    },
    {
     "data": {
      "text/markdown": [
       "Write a paragraph that captures the atmosphere of a 19th-century narrative, focusing on a critical moment in a young man's life. The tone should be serious and somewhat melancholic, reflecting the gravity of the situation. The paragraph should describe the concerns of a family and their caretakers over a young man, Ralph, who is critically ill. Highlight the efforts of a kind-hearted older woman and her daughter, who are taking care of Ralph in their modest home. Mention the indifference of Ralph’s usual servants and the contrast with the dedicated care provided by the older woman and her daughter. Use formal, descriptive language with a mix of simple and complex sentences to maintain a literary flow. Include details about the family's worry, the doctor's uncertainty, and the cozy yet humble setting of the cottage. Ensure the paragraph conveys a sense of urgency and the deep concern for Ralph's well-being."
      ],
      "text/plain": [
       "<IPython.core.display.Markdown object>"
      ]
     },
     "metadata": {},
     "output_type": "display_data"
    },
    {
     "data": {
      "text/markdown": [
       "----------------------------------------------------------------------------------------------------"
      ],
      "text/plain": [
       "<IPython.core.display.Markdown object>"
      ]
     },
     "metadata": {},
     "output_type": "display_data"
    },
    {
     "data": {
      "text/markdown": [
       "**The Mirror of Literature, Amusement, and Instruction. Volume 20, No. 580, Supplemental Number**"
      ],
      "text/plain": [
       "<IPython.core.display.Markdown object>"
      ]
     },
     "metadata": {},
     "output_type": "display_data"
    },
    {
     "data": {
      "text/markdown": [
       "The fine features of Joseph Huntley relaxed into an expression of scorn\n",
       "and unbelief. \"She appear against me! Not--not if I were to attempt to\n",
       "murder her!\" he answered firmly.\n",
       "\n",
       "\"Grace!\" exclaimed her father joyfully, \"here is the child Abel--he is\n",
       "found!\" and seizing the trembling boy, with evident exultation, led\n",
       "him to her. The effect of this act of the poor simple-minded man was\n",
       "electrical. The mother instantly revived, but turned her face from her\n",
       "husband; and, entwining her son in her arms, pressed him closely to her\n",
       "side. The clergyman proceeded to interrogate the prisoner, but he\n",
       "answered nothing, keeping his eyes intently fixed upon his wife and\n",
       "child. In the mean time, the officers of justice had been prompt in the\n",
       "execution of their duty; the Smiths were apprehended in the village, and\n",
       "the greater portion of the property stolen from Sir Thomas Purcel was\n",
       "found in the hut where Grace had beheld it concealed.\n",
       "\n",
       "When the preparations were sufficiently forward to conduct the\n",
       "unfortunate men to prison, Joseph Huntley advanced to his wife. The\n",
       "scornful as well as undaunted expression of his countenance had changed\n",
       "to one of painful intensity; he took her hand within his, and pressed it\n",
       "to his lips, without articulating a single syllable. Slowly she moved\n",
       "her face, so that their eyes encountered in one long mournful look. Ten\n",
       "years of continued suffering could not have exacted a heavier tribute\n",
       "from Grace Huntley's beauty. No language can express the withering\n",
       "effects of the few hours' agony. Her husband saw it.\n",
       "\n",
       "\"'Twas to save my children!\" was the only sentence she uttered, or\n",
       "rather murmured; and it was the last coherent one she spoke for many\n",
       "weeks. Her fine reason seemed overwhelmed. It was a sight few could\n",
       "witness without tears. The old father, tending the couch of his\n",
       "afflicted daughter, would sit for hours by her bedside, clasping the\n",
       "child Abel's hand within his, and every now and then shaking his head\n",
       "when her ravings were loud or violent.\n",
       "\n",
       "It might be some fifteen years after these distressing events had\n",
       "agitated the little village of Craythorpe, that an elderly woman,\n",
       "of mild and cheerful aspect, sat calmly reading a large volume she\n",
       "supported against the railing of a noble vessel, that was steering its\n",
       "course from the shores of \"merrie England\" to some land far over the\n",
       "sea. Two gentlemen, who were lounging on the quarter-deck arm-in-arm,\n",
       "frequently passed her. The elder one, in a peculiarly kind tone of\n",
       "voice, said, \"You bear the voyage well, dame.\"--\"Thank God! yes,\n",
       "sir.\"--\"Ah! you will wish yourself back in Old England before you\n",
       "are landed six weeks.\"--\"I did not wish to leave it, sir; but my duty\n",
       "obliged me to do so.\""
      ],
      "text/plain": [
       "<IPython.core.display.Markdown object>"
      ]
     },
     "metadata": {},
     "output_type": "display_data"
    },
    {
     "data": {
      "text/markdown": [
       "**Backtranslated Text**"
      ],
      "text/plain": [
       "<IPython.core.display.Markdown object>"
      ]
     },
     "metadata": {},
     "output_type": "display_data"
    },
    {
     "data": {
      "text/markdown": [
       "Write a paragraph that captures the essence of a dramatic, emotionally charged scene from a 19th-century novel. The writing style should be formal and literary, with a tone that is both melancholic and intense. The content should revolve around a family in crisis, focusing on the emotional turmoil and the deep, unspoken bonds between the characters. Use complex sentence structures and a rich, descriptive vocabulary to convey the depth of the characters' emotions. Include elements of suspense and resolution, such as a climactic moment where a character's true intentions are revealed, followed by a poignant exchange. The paragraph should also hint at a long-term consequence or transformation, such as a character's departure or a significant life change. Ensure the narrative is cohesive and flows seamlessly, maintaining the literary quality and emotional resonance of the original text."
      ],
      "text/plain": [
       "<IPython.core.display.Markdown object>"
      ]
     },
     "metadata": {},
     "output_type": "display_data"
    },
    {
     "data": {
      "text/markdown": [
       "----------------------------------------------------------------------------------------------------"
      ],
      "text/plain": [
       "<IPython.core.display.Markdown object>"
      ]
     },
     "metadata": {},
     "output_type": "display_data"
    },
    {
     "data": {
      "text/markdown": [
       "**From Lower Deck to Pulpit**"
      ],
      "text/plain": [
       "<IPython.core.display.Markdown object>"
      ]
     },
     "metadata": {},
     "output_type": "display_data"
    },
    {
     "data": {
      "text/markdown": [
       "My spare time on the outward voyage was occupied in reading 'Daniel\n",
       "Quorm,' one of Mark Guy Pearse's books, and in attending religious\n",
       "meetings in the evening in the sail-maker's room. There were several\n",
       "relief crews on board for the various ships of the station; hence\n",
       "there were many Christians, and these evening gatherings were blessed\n",
       "by God, and made profitable to all. We had on board one whose\n",
       "destination was the prison at Bermuda, not to become a prisoner, by\n",
       "the way, but a warder. This man, at 4 a.m. every morning, would\n",
       "ferret out all the boys in the ship, sending them to the upper deck\n",
       "to undergo a salt water bath, which to us all, at that untimely hour,\n",
       "was a very trying ordeal.\n",
       "\n",
       "Nine days after our departure from Madeira, we sighted Bermuda. So\n",
       "calm had been the voyage that I was not troubled by sickness. A dusky\n",
       "pilot came on board, and conned the ship onward through the Narrows,\n",
       "and within a few hours we were securely fastened in the camber at the\n",
       "dockyard. Then came the dispersion. Many ships of the fleet whose\n",
       "commission was now drawing nigh to a close, were flying their\n",
       "paying-off pennant, the crews of which were full of gladness at the\n",
       "'Himalaya's' arrival, with reliefs, and, moreover, she was their\n",
       "homeward-bound ship. We boys were despatched to H.M.S. 'Terror,' a\n",
       "receiving ship at Bermuda. Here we were kept three weeks, during\n",
       "which time the other ships of the fleet steamed in from sea. One day\n",
       "the 'Emerald' hove in sight. All took an especial interest in this\n",
       "ship, as we had learned she was the worst ship in the fleet for\n",
       "boys--quite a 'waker-up.' Certain it was that some of us would be\n",
       "told off for her.\n",
       "\n",
       "The dreaded morning came at last, and on the quarterdeck of the\n",
       "'Terror' we assembled to await our destiny. \"Boys whose names I now\n",
       "mention,\" said the officer, \"will join the 'Bellerophon,' the\n",
       "flagship of the fleet.\" Then followed a long list of names.\n",
       "These 'Bellerophon' boys realised at the time it was better to be\n",
       "fortunate than rich. In proceeding, the officer said:--\"Eight boys\n",
       "will join the 'Emerald.'\" There was a silence that could be felt at\n",
       "this expression, and all, excepting those who had been told off,\n",
       "looked downcast and fearful. \"Their names are,\" he continued,\n",
       "\"so-and-so, so-and-so . . . . and Cowling.\" \"And the lot fell upon\n",
       "Jonah.\"\n",
       "\n",
       "It took me many hours to recover from this blow, but the whole of us\n",
       "received the sympathy of all the other boys, who regarded us as\n",
       "embryo martyrs. Next day we eight were taken on board the 'Emerald'\n",
       "in her steam-launch, which came to fetch us. On boarding the ship, I,\n",
       "in looking round to observe what kind of man it was who wielded the\n",
       "cane, fell headlong down the hatchway with my bag of clothes. This I\n",
       "thought was an admirable introduction."
      ],
      "text/plain": [
       "<IPython.core.display.Markdown object>"
      ]
     },
     "metadata": {},
     "output_type": "display_data"
    },
    {
     "data": {
      "text/markdown": [
       "**Backtranslated Text**"
      ],
      "text/plain": [
       "<IPython.core.display.Markdown object>"
      ]
     },
     "metadata": {},
     "output_type": "display_data"
    },
    {
     "data": {
      "text/markdown": [
       "Write a paragraph that captures the nostalgia and adventure of a sea voyage, using a formal and descriptive tone. The narrative should describe the activities and experiences of a young individual during a journey, highlighting the religious gatherings and the camaraderie among fellow sailors. Include details about the voyage, such as the destination, the interactions with other ships, and the emotional impact of being assigned to a particular vessel. Use a mix of simple and complex sentences to create a varied rhythm, and incorporate descriptive vocabulary to paint a vivid picture of the sea, the ships, and the characters. The paragraph should convey a sense of adventure, routine, and the unexpected challenges faced during the journey."
      ],
      "text/plain": [
       "<IPython.core.display.Markdown object>"
      ]
     },
     "metadata": {},
     "output_type": "display_data"
    },
    {
     "data": {
      "text/markdown": [
       "----------------------------------------------------------------------------------------------------"
      ],
      "text/plain": [
       "<IPython.core.display.Markdown object>"
      ]
     },
     "metadata": {},
     "output_type": "display_data"
    },
    {
     "data": {
      "text/markdown": [
       "**Barbara Blomberg — Volume 10**"
      ],
      "text/plain": [
       "<IPython.core.display.Markdown object>"
      ]
     },
     "metadata": {},
     "output_type": "display_data"
    },
    {
     "data": {
      "text/markdown": [
       "\"Do you know whom this lovely picture represents?  No?  Well, these are\n",
       "the features of the fairest and most unfortunate of women.  Mary Stuart,\n",
       "the hapless Queen of Scotland, the devout, patient sufferer for our holy\n",
       "faith, looks at you from this frame.  She does not refuse me her hand.\n",
       "The Holy Father in Rome and the Guises in France approve the bold\n",
       "enterprise; but I shall take the army under my command by sea to England.\n",
       "I am sure of victory in this conflict.  With the most beautiful of women,\n",
       "I shall gain the crown which I need and which will best suit me.\"\n",
       "\n",
       "\"John!\" Barbara exclaimed, carried away by the daring of this proposal,\n",
       "and her eyes sparkled with enthusiasm.  \"This desire is worthy of you\n",
       "and your great father.  If I can aid you in its realization----\"\n",
       "\n",
       "\"You can,\" Don John eagerly interrupted; \"for the first step is to gain\n",
       "the consent of the States-General to despatch the army, which must now\n",
       "be sent back to Spain, thither by sea.  When the troops are once on the\n",
       "way they will steer to England, instead of southward.  But even to embark\n",
       "these forces I shall need the consent of the representatives of the\n",
       "country.  Therefore, difficult as it is for me, the words must be\n",
       "uttered: Your residence in the provinces will prevent my obtaining it.\n",
       "Spare me the mention of my reasons; but the circumstance that you always\n",
       "opened your house to the Spanish party must fill the King's enemies with\n",
       "distrust of you.  Besides, it is scarcely credible; but you must believe\n",
       "Escovedo, to whom I owe this information.  How petty people in the\n",
       "provinces can be about such matters!  An edict was recently issued which\n",
       "commands the removal of every official who can not prove that the union\n",
       "of the parents who gave him life was consecrated by the Holy Church.\n",
       "Alas, mother, that I should be compelled to wound you at our first\n",
       "meeting!  But if your love is as great as your every glance tells me,\n",
       "as you have just confessed with such touching warmth----\"\n",
       "\n",
       "\"And as I shall confess,\" she cried impetuously, \"so long as a single\n",
       "breath stirs this bosom; for I love you, John--love you with all the\n",
       "strength of this poor, sorely tortured soul.  But, child, child!  What\n",
       "you ask of me--It comes so unexpectedly--you have no suspicion how deeply\n",
       "it pierces into the very heart of my life.  I must leave the country\n",
       "which has become my home, the city where prejudice and enmity greeted me,\n",
       "and where I have now obtained the position that befits me.  A venerable\n",
       "sick man is in my house, longing for the return of the nurse who left him\n",
       "for your sake.  My poor--The rest that I must cast aside and abandon is\n",
       "more than I can enumerate now.  Nor could I, this request bewilders me so\n",
       "--Give rue a little time to collect my thoughts, for you see--But if you\n",
       "look at me so, John, I can--Yet no!--It certainly is not necessary that I\n",
       "should say yes or no at once.  I must first learn whether you--whether\n",
       "the sacrifice I made for your glory and grandeur--it was in Landshut,\n",
       "you know--whether it was really so useless, whether you are in reality as\n",
       "unhappy as you, the fame-crowned, beloved, and lauded child of an\n",
       "Emperor, would have me believe, or whether--Forgive me, John, but before\n",
       "I make this terribly difficult decision I must--yes, I must see clearly.\n",
       "As surely as your hero soul harbours no falsity, it would be unworthy of\n",
       "you to show your mother a distorted image of your inner life; you must\n",
       "confess whether you--\"\n",
       "\n",
       "\"Whether,\" Don John, with a smile of sorrowful bitterness, here\n",
       "interrupted the deeply troubled woman--\"whether, in order to soften your\n",
       "heart, I am not painting in blacker colours than reality requires.  Oh,\n",
       "how little you know me yet!  I would rather this tongue should wither\n",
       "than that I should unchivalrously permit it to deviate one straw's\n",
       "breadth from the truth in order to attain a selfish purpose.  No, mother!\n",
       "My description of the grief which often overpowers this soul was far too\n",
       "lukewarm.  If your first sacrifice was intended to make me a happy man,\n",
       "its effect was no stronger than the light of the candle which is burned\n",
       "amid the radiance of the noonday sun.  Perhaps I should have been happier\n",
       "had I been allowed to grow up in modest circumstances under your tender\n",
       "care; for then my course would have been long and steep, and I should\n",
       "have been forced to climb many steps to reach the point where barriers\n",
       "are fixed to ambition.  But as it is, I began at the place which many of\n",
       "the best men regard as the highest goal.  The great man whom you loved\n",
       "understood life better than you.  Had I obeyed his wish, and in the\n",
       "stillness of the cloister striven for blessings which do not belong to\n",
       "this world, this miserable existence would have seemed less unendurable\n",
       "to me, then doubtless a much wider space would have separated me from\n",
       "despair; for I am so unhappy, mother, that I envy the poor peasant who\n",
       "in the sweat of his brow gathers the harvest which his sterile fields\n",
       "produce; for years I have been as wretched as the captive lion in its\n",
       "cage, the lover whose bride is torn from him on the marriage day.\n",
       "Imagine the wish as a woman, and beside her a magician who, by virtue of\n",
       "the power which he possesses, cries, 'The fulfilment of every desire you\n",
       "strive to attain shall be forever withheld,' and you will have an idea of\n",
       "the devastated existence of the pitiable man who, if it were not sinful,\n",
       "would curse those who gave him the life in which he has long seen nothing\n",
       "save the horrible, jeering spectre of disappointment.\"\n",
       "\n",
       "\"Stop!\" moaned Barbara sorrowfully, pressing her hand upon her brow as\n",
       "if frantic.  \"So even my hardest sacrifice was futile, and what rendered\n",
       "life valuable to my foolish heart was mere delusion and bewildering\n",
       "deception.  What I beheld raising you to the stars, as though with\n",
       "eagles' wings, was a clogging weight; what seemed to me at a distance the\n",
       "bright sunshine irradiating your path, was a Will-o'-the-wisp luring to\n",
       "destruction.  What I thought white, was black, the radiant daylight was\n",
       "dusk and the darkness of night.  Oh, if it were really granted me  Yet,\n",
       "child, you certainly do not know what you are asking.  So, before it\n",
       "comes to the final decision, let me put this one more question: Do you\n",
       "believe, really and firmly, that if the confidence of the States-General\n",
       "permits you to take your army by sea, and you lead it in England and\n",
       "succeed in winning the crown and hand of this--whether she is guilty or\n",
       "not--beautiful, devout, and, whatever errors she has committed, desirable\n",
       "Queen, that the troubles which it is so hard for your ambitious soul to\n",
       "bear will then vanish?  When you have won the woman for whom you yearn,\n",
       "the throne, and the sceptre, will your sore heart be healed and happiness\n",
       "make its joyous entry, and also remain in your soul, that is so hard to\n",
       "satisfy?  For--I see and feel it--it is carried away by the 'More,\n",
       "farther,' of your father.  Can you, my John, have you really the firm\n",
       "conviction that, if this lofty desire is fulfilled, you will be content\n",
       "and believe that you have found the summit and the limit of your feverish\n",
       "struggle upward and forward?\"\n",
       "\n",
       "\"Yes, and again yes,\" cried Don John in a tone of immovably firm belief,\n",
       "while his large eyes beamed upon his mother with an expression of full\n",
       "and genuine trust.  \"The vainglory which your first sacrifice brought me\n",
       "was the source of this life full of bitter disappointment.  The hand of\n",
       "Mary Stuart, the lovely martyr, the woman so lavishly endowed with every\n",
       "mental and physical gift, for whom my heart has yearned ever since I saw\n",
       "her picture, and the crown of England, the symbol of genuine majesty,\n",
       "will transform disappointment into the fulfilment which Heaven has\n",
       "hitherto denied me.  If these both fall to the lot of the son, the\n",
       "mother's sacrifice will not have been in vain; no, it will bring him\n",
       "golden fruit, for the success of this enterprise will bestow upon your\n",
       "John, besides the fleeting radiance, the sun whence the light emanates.\n",
       "It will raise him to the height to which he aspires, and for which Fate\n",
       "destined him.\""
      ],
      "text/plain": [
       "<IPython.core.display.Markdown object>"
      ]
     },
     "metadata": {},
     "output_type": "display_data"
    },
    {
     "data": {
      "text/markdown": [
       "**Backtranslated Text**"
      ],
      "text/plain": [
       "<IPython.core.display.Markdown object>"
      ]
     },
     "metadata": {},
     "output_type": "display_data"
    },
    {
     "data": {
      "text/markdown": [
       "You are tasked with recreating a paragraph in the style of a historical, dramatic narrative. The text should maintain a formal, literary tone with a sense of grandeur and melancholy. The content should revolve around a conversation between a son and his mother, discussing a daring and ambitious plan. The son is passionate and confident, while the mother is deeply concerned and reflective. The paragraph should include elements of political intrigue, personal sacrifice, and emotional turmoil. Use complex sentence structures and a rich, descriptive vocabulary to convey the depth of the characters' emotions and the gravity of their situation. Incorporate literary devices such as metaphors and vivid imagery to enhance the narrative. Ensure the paragraph is lengthy and detailed, capturing the essence of a profound and heartfelt exchange between the two characters."
      ],
      "text/plain": [
       "<IPython.core.display.Markdown object>"
      ]
     },
     "metadata": {},
     "output_type": "display_data"
    },
    {
     "data": {
      "text/markdown": [
       "----------------------------------------------------------------------------------------------------"
      ],
      "text/plain": [
       "<IPython.core.display.Markdown object>"
      ]
     },
     "metadata": {},
     "output_type": "display_data"
    },
    {
     "data": {
      "text/markdown": [
       "**Honest Wullie; and Effie Patterson's Story**"
      ],
      "text/plain": [
       "<IPython.core.display.Markdown object>"
      ]
     },
     "metadata": {},
     "output_type": "display_data"
    },
    {
     "data": {
      "text/markdown": [
       "\"I think I feel something like that. I dinna ken hoo it would be if I\n",
       "were oot again wi' my auld comrades; but noo as I lie here I am seck o'\n",
       "sin, seck o' the things I ance loved. I canna bear to think o' my past\n",
       "life. In the night season I often put oot my hand in the vain attempt to\n",
       "push it far frae me, but it willna gang oot o' my memory. Then I think\n",
       "o' Him wha deed to save us frae oor sins, and I remember that I hae\n",
       "never turned towards him, but awa frae him, and I feel that my\n",
       "condemnation would be just. But at ither times I feel that I will, I\n",
       "must, lay hold o' some promise; that I will lay me doun just outside the\n",
       "door o' mercy, and wait to see if the Maister willna lift the latch and\n",
       "bid me come in.\"\n",
       "\n",
       "\"Brither, it is yoursel maun lift the latch to the door o' your heart,\n",
       "and bid the Maister come in and possess it. Beyond a doot the Saviour is\n",
       "noo knocking to be admitted. Do ye no remember that passage o' Scripture\n",
       "that reads, 'Behold, I stand at the door and knock: if any man hear my\n",
       "voice and open the door, I will come in to him, and will sup with him,\n",
       "and he with me'? Noo, my brither, in faith bid the Maister enter your\n",
       "heart, and all will be weel. Only believe, Rab. 'Believe on the Lord\n",
       "Jesus Christ, and thou shalt be saved.'\"\n",
       "\n",
       "\"Wullie, I am gaen to believe noo.\" Then closing his eyes, he said\n",
       "aloud, \"Lord, I will believe thee. I do believe thee; and if I do not\n",
       "believe aright, wilt thou teach me how to believe?\"\n",
       "\n",
       "Wullie went to the bedside, and, kneeling down, he poured out his soul\n",
       "in prayer that God would bless them all, and bless them then. When he\n",
       "arose from his knees Jeannie was weeping softly, but Rab had a glad\n",
       "light in his eyes. \"Wullie,\" he said, \"the darkness is o'erpast, and\n",
       "light is breaking through. Oh, the wondrous condescension o' the\n",
       "Saviour! Jeannie, my puir wife, ye maun find Jesus and hae him for your\n",
       "dearest freend.\""
      ],
      "text/plain": [
       "<IPython.core.display.Markdown object>"
      ]
     },
     "metadata": {},
     "output_type": "display_data"
    },
    {
     "data": {
      "text/markdown": [
       "**Backtranslated Text**"
      ],
      "text/plain": [
       "<IPython.core.display.Markdown object>"
      ]
     },
     "metadata": {},
     "output_type": "display_data"
    },
    {
     "data": {
      "text/markdown": [
       "Write a paragraph in a deeply introspective and melancholic tone, capturing the essence of a character reflecting on past sins and seeking redemption. Use a narrative style that is both poetic and conversational, with a strong sense of Scottish dialect and religious undertones. The character should express a mix of guilt, longing, and hope, with a focus on the struggle between past regrets and the desire for spiritual salvation. The vocabulary should include words and phrases that evoke a sense of rural, traditional Scottish life, and the sentences should vary in length to create a rhythm that mimics the flow of natural speech. The paragraph should include a dialogue between two characters, where one offers guidance and encouragement, and the other finds a glimmer of hope and resolution."
      ],
      "text/plain": [
       "<IPython.core.display.Markdown object>"
      ]
     },
     "metadata": {},
     "output_type": "display_data"
    },
    {
     "data": {
      "text/markdown": [
       "----------------------------------------------------------------------------------------------------"
      ],
      "text/plain": [
       "<IPython.core.display.Markdown object>"
      ]
     },
     "metadata": {},
     "output_type": "display_data"
    },
    {
     "data": {
      "text/markdown": [
       "**The Arabian Nights Entertainments — Volume 04**"
      ],
      "text/plain": [
       "<IPython.core.display.Markdown object>"
      ]
     },
     "metadata": {},
     "output_type": "display_data"
    },
    {
     "data": {
      "text/markdown": [
       "When the prince had left his second wife, he proceeded in search\n",
       "of the bird to whom the string of emeralds and pearls had\n",
       "belonged, and at length reached the city of its mistress, who was\n",
       "daughter to the sultan, a very powerful monarch. Having entered\n",
       "the capital, he walked through several streets, till at last he\n",
       "perceived a venerable old man, whose age seemed to be, at least,\n",
       "that of a hundred years, sitting alone. He approached him, and\n",
       "having paid his respects, sat down, and entering into\n",
       "conversation, at length said, \"Canst thou, my uncle, afford me\n",
       "any information respecting a bird, whose chain is composed of\n",
       "pearls and emeralds, or of its mistress?\"\n",
       "\n",
       "The old man remained silent, involved in thought, for some\n",
       "instants; after which, he said, \"My son, many sultans and princes\n",
       "have wished to attain this bird and the princess, but failed in\n",
       "the attempt; however, do thou procure seven lambs, kill them,\n",
       "flay and cut them up into halves. In the palace are eight courts,\n",
       "at the gates of seven of which are placed two hungry lions; and\n",
       "in the latter, where the princess resides, are stationed forty\n",
       "slaves. Go, and try thy fortune.\"\n",
       "\n",
       "The prince having thanked the old man, took his leave, procured\n",
       "the lambs, cut them up as directed, and towards midnight, when\n",
       "the step of man had ceased from passing, repaired to the first\n",
       "gate of the palace, before which he beheld two monstrous lions,\n",
       "their eyes flaming like the mouth of a lighted oven. He cast\n",
       "before each half a lamb, and while they were devouring it passed\n",
       "on. By the same stratagem he arrived safely into the eighth\n",
       "court: at the gate of which lay the forty slaves sunk in profound\n",
       "sleep. He entered cautiously, and beheld the princess in a\n",
       "magnificent hall, reposing on a splendid bed; near which hung her\n",
       "bird in a cage of gold wire strung with valuable jewels. He\n",
       "approached gently, and wrote upon the palm of her hand, \"I am\n",
       "Alla ad Deen, son of a sultan of Yemen. I have seen thee\n",
       "sleeping, and taken away thy bird. Shouldst thou love me, or wish\n",
       "to recover thy favourite, come to my father's capital.\" He then\n",
       "departed from the palace, and having reached the plain, stopped\n",
       "to repose till morning.\n",
       "\n",
       "The prince being refreshed, at day-light having invoked Allah to\n",
       "protect him from discovery, travelled till sunset, when he\n",
       "discovered an Arab encampment, to which he repaired and requested\n",
       "shelter. His petition was readily attended to by the chief; who\n",
       "seeing him in possession of the bird, which he knew, said to\n",
       "himself, \"This young man must be a favourite of heaven, or he\n",
       "could not have obtained a prize for which so many potent sultans,\n",
       "princes, and viziers, have vainly fallen sacrifices.\" He\n",
       "entertained him with hospitality, but asked no questions, and in\n",
       "the morning dismissed him with prayers for his welfare, and a\n",
       "present of a beautiful horse. Alla ad Deen having thanked his\n",
       "generous host took leave, and proceeded unceasingly till he\n",
       "arrived within sight of his father's capital. On the plain he was\n",
       "again overtaken by his two brothers, returning from their\n",
       "unsuccessful expedition, who seeing the bird and splendid cage in\n",
       "his possession, dragged him suddenly from his horse, beat him\n",
       "cruelly, and left him. They entered the city, and presenting the\n",
       "cage to their father, framed an artful tale of danger and escapes\n",
       "that they had undergone in procuring it; on hearing which, the\n",
       "sultan loaded them with caresses and praises, while the\n",
       "unfortunate Alla ad Deen retired bruised and melancholy to his\n",
       "unhappy mother."
      ],
      "text/plain": [
       "<IPython.core.display.Markdown object>"
      ]
     },
     "metadata": {},
     "output_type": "display_data"
    },
    {
     "data": {
      "text/markdown": [
       "**Backtranslated Text**"
      ],
      "text/plain": [
       "<IPython.core.display.Markdown object>"
      ]
     },
     "metadata": {},
     "output_type": "display_data"
    },
    {
     "data": {
      "text/markdown": [
       "To recreate a paragraph similar in style, tone, and content to the original, follow these guidelines:\n",
       "\n",
       "Write in a formal, literary style with a serious and somewhat melancholic tone, reminiscent of classic folktales or fairy tales. The paragraph should revolve around a prince's quest to find a magical bird and the challenges he faces. Include elements of adventure, danger, and intrigue, with a focus on the prince's interactions with various characters, such as a wise old man and a generous Arab chief. Use descriptive language to paint vivid images of the settings and characters, including ornate palaces, fierce lions, and a beautiful princess. Incorporate elements of magic and mystery, such as a bird with a chain of precious gems and a princess who sleeps in a magnificent hall. The vocabulary should be rich and varied, with a mix of archaic and modern words to create a timeless feel. Use complex sentence structures, including long, descriptive sentences and shorter, more direct ones for dialogue. The paragraph should be detailed and descriptive, capturing the essence of a classic tale with a sense of grandeur and adventure."
      ],
      "text/plain": [
       "<IPython.core.display.Markdown object>"
      ]
     },
     "metadata": {},
     "output_type": "display_data"
    },
    {
     "data": {
      "text/markdown": [
       "----------------------------------------------------------------------------------------------------"
      ],
      "text/plain": [
       "<IPython.core.display.Markdown object>"
      ]
     },
     "metadata": {},
     "output_type": "display_data"
    },
    {
     "data": {
      "text/markdown": [
       "**A Daughter of To-Day**"
      ],
      "text/plain": [
       "<IPython.core.display.Markdown object>"
      ]
     },
     "metadata": {},
     "output_type": "display_data"
    },
    {
     "data": {
      "text/markdown": [
       "\"Paris?\" she asked, looking up at him. \"I am dying to\n",
       "hear. The people, especially the people. Lucien, what\n",
       "was he like? One hears so much of Lucien--they make him\n",
       "a priest and a king together. And did you go to Barbizon?\"\n",
       "\n",
       "Another in her place might have added, \"And why did you\n",
       "write so seldom?\" There was something that closed Janet's\n",
       "lips to this. It was the same thing that would not permit\n",
       "her to call Kendal \"Jack,\" as several other people did,\n",
       "though her Christian name had been allowed to him for a\n",
       "long time. It made an awkwardness sometimes, for she\n",
       "would not say \"Mr. Kendal\" either--that would be a rebuke\n",
       "or a suggestion of inferiority, or what not--but she\n",
       "bridged it over as best she could with a jocose appellative\n",
       "like \"signor,\" \"monsieur,\" or \"Mr. John Kendal,\" in full.\n",
       "\"Jack\" was impossible, \"John\" was worse. Yes, with a\n",
       "little nervous shudder, _much_ worse.\n",
       "\n",
       "He told her about Paris to her fascination; she had never\n",
       "seen it: about the boulevards and the cafes and the men's\n",
       "ateliers, and the vagrant pathos of student life there--he\n",
       "had seen some clean bits of it--and to all of this old\n",
       "story he gave such life as a word or a phrase can give.\n",
       "Even his repressions were full of meaning, and the\n",
       "best--she felt it was the best--he had to offer her he\n",
       "offered in fewest words, letting her imagination riot\n",
       "with them. He described Lucien and the American Colony.\n",
       "He made her laugh abundantly over the American amateur\n",
       "as Lucien managed him. They had no end of fun over these\n",
       "interesting, ingenious, and prodigal people in their\n",
       "relation to Parisian professional circles. He touched on\n",
       "Nadie Palicsky lightly, and perhaps it was because Janet\n",
       "insisted upon an accentuation of the lines--he had sent\n",
       "her a photograph of one of Nadie's best things--that he\n",
       "refrained from mentioning Elfrida altogether. Elfrida,\n",
       "he thought, he would keep till another time. She would\n",
       "need so much explanation; she was too interesting to lug\n",
       "in now, it was getting late. Besides, Elfrida was an\n",
       "exhausting subject, and he was rather done.\n",
       "\n",
       "Thereafter for two days nothing came, and he began to\n",
       "grow restless. Then the _Decade_ made its weekly slovenly\n",
       "appearance, without a wrapper. He opened it with the\n",
       "accumulated interest of forty-eight hours, turned to\n",
       "\"Fine Arts,\" and girded himself to receive the _Decade's_\n",
       "ideas. He read the first sentence twice--the article\n",
       "opened curiously, for the _Decade_. He looked at the\n",
       "cover to see whether he had not been mistaken. Then he\n",
       "sat down beside the open window, where a fine rain came\n",
       "in and smote upon the page, and read it through, straining\n",
       "his eyes in the gathering darkness over the last paragraph.\n",
       "After that he walked up and down the room among the\n",
       "shadows for half an hour, not ringing for lights, because\n",
       "the scented darkness of the garden, where the rain was\n",
       "dripping, and the half outlines of the things in the room\n",
       "were so much more grateful to his imagination as the\n",
       "_Decade's_ critic had stimulated it with the young,\n",
       "mocking, brilliant voice that spoke in the department of\n",
       "\"Fine Arts.\" It stirred him all through. In the pleasure\n",
       "it gave him he refused to reflect how often it dismissed\n",
       "with contempt where it should have considered with respect,\n",
       "how it was sometimes inconsistent, sometimes exaggerated\n",
       "and obscure. He was rapt in the delicacy and truth with\n",
       "which the critic translated into words the recognizable\n",
       "souls of a certain few pictures--it could not displease\n",
       "him that they were very few, since three of his were\n",
       "among them. When it spoke of these the voice was strong\n",
       "and gentle, with an uplifted tenderness, and all the\n",
       "suppressed suggestion that good pictures themselves have.\n",
       "It made their quality felt in the lines, and it spoke\n",
       "with a personal joy.\n",
       "\n",
       "\"A new note!\" Kendal thought aloud. \"A voice crying in\n",
       "the wilderness, by Jove! Wolff might have done it if it\n",
       "had been in French, but Wolff would have been fairer and\n",
       "more technical and less sympathetic.\"\n",
       "\n",
       "A fine energy crept all through him and burned at his\n",
       "finger-ends. The desire to work seized him deliciously\n",
       "with the thrill of being understood, a longing to accomplish\n",
       "to the utmost of his limitations--he must reasonably\n",
       "suppose his limitations. Sometimes they were close and\n",
       "real; at this moment they were far off and vague, and\n",
       "almost dissolved by the force of his joyous intention.\n",
       "He threw himself mentally upon half-finished canvas that\n",
       "stood against the wall in Bryanston Street, and spent\n",
       "ten exalted minutes in finishing it. When it was done he\n",
       "found it ravishing, and raged because he could not decently\n",
       "leave for town before four o'clock next day. He worked\n",
       "off the time before dinner by putting his things together,\n",
       "and the amiable people had never found him so delightful\n",
       "as he was that evening. After amusing one of the robust\n",
       "young ladies for half an hour at prodigious cost, he\n",
       "found himself comparing their conversation with the talk\n",
       "he might have had in the time with Elfrida Bell, and a\n",
       "fresh sense of injury visited him at having been\n",
       "high-handedly debarred from that pleasure for so many\n",
       "weeks. It staid with him and pricked him all the way to\n",
       "town next day. He was a fool, he thought, to have missed\n",
       "the chance of meeting her upon the opening days of the\n",
       "London exhibitions; she was sure to have gone, if it were\n",
       "only to scoff, and her scoffing would have been so amusing\n",
       "to listen to. He thought gloomily of the impossibility\n",
       "of finding her in London if she didn't wish to be found,\n",
       "and he concluded that he really wanted to see her, that\n",
       "he must see her soon--to show her that article.\n",
       "\n",
       "The desire had not passed from him three days later, when\n",
       "the boy from below-stairs brought him up a card. Kendal\n",
       "was in his shirt-sleeves, and had just established a\n",
       "relation of great intimacy with an entirely new subject.\n",
       "Before the boy reached him he recognized with annoyance\n",
       "that it was a lady's card, and he took it between his\n",
       "thumb and his palette with the most brutal impatience.\n",
       "\"You are to say--\" he began, and stopped. \"Show the lady\n",
       "up,\" he said in substitution, while his face cleared with\n",
       "a puzzled amusement, and he looked at the card again. It\n",
       "read \"Miss Elfrida Bell,\" but the odd thing was down in\n",
       "one corner, where ran the statement, in small square\n",
       "type, \"_The Illustrated Age_.\""
      ],
      "text/plain": [
       "<IPython.core.display.Markdown object>"
      ]
     },
     "metadata": {},
     "output_type": "display_data"
    },
    {
     "data": {
      "text/markdown": [
       "**Backtranslated Text**"
      ],
      "text/plain": [
       "<IPython.core.display.Markdown object>"
      ]
     },
     "metadata": {},
     "output_type": "display_data"
    },
    {
     "data": {
      "text/markdown": [
       "Write a paragraph that captures the intimate and reflective tone of a literary narrative, focusing on a conversation between two characters. The paragraph should begin with a question posed by one character, hinting at a shared history and a desire for detailed information. The narrative should delve into the character's internal thoughts and feelings, revealing a sense of awkwardness or restraint in their interactions. The other character should then describe a place or experience in vivid detail, using rich and descriptive language that evokes a sense of fascination and intrigue. The paragraph should also include a shift in the narrative, where the first character becomes absorbed in their thoughts, reflecting on the conversation and its emotional impact. The writing style should be formal and descriptive, with a mix of long and short sentences to create a flowing, yet detailed narrative. The vocabulary should be sophisticated, with a focus on sensory details and emotional depth."
      ],
      "text/plain": [
       "<IPython.core.display.Markdown object>"
      ]
     },
     "metadata": {},
     "output_type": "display_data"
    },
    {
     "data": {
      "text/markdown": [
       "----------------------------------------------------------------------------------------------------"
      ],
      "text/plain": [
       "<IPython.core.display.Markdown object>"
      ]
     },
     "metadata": {},
     "output_type": "display_data"
    }
   ],
   "source": [
    "from IPython.display import Markdown\n",
    "for row in backtranslate_df.sample(10).iter_rows(named=True):\n",
    "    display(Markdown(f\"**{row['title']}**\"))\n",
    "    display(Markdown(row[\"paragraph\"]))\n",
    "    display(Markdown(\"**Backtranslated Text**\"))\n",
    "    display(Markdown(row[\"instruction\"]))\n",
    "    display(Markdown(\"-\"*100))"
   ]
  }
 ],
 "metadata": {
  "kernelspec": {
   "display_name": ".venv",
   "language": "python",
   "name": "python3"
  },
  "language_info": {
   "codemirror_mode": {
    "name": "ipython",
    "version": 3
   },
   "file_extension": ".py",
   "mimetype": "text/x-python",
   "name": "python",
   "nbconvert_exporter": "python",
   "pygments_lexer": "ipython3",
   "version": "3.11.11"
  }
 },
 "nbformat": 4,
 "nbformat_minor": 2
}
