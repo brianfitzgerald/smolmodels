{
 "cells": [
  {
   "cell_type": "code",
   "execution_count": 1,
   "metadata": {},
   "outputs": [],
   "source": [
    "import polars as pl\n",
    "from IPython.display import Markdown\n",
    "backtranslate_df = pl.read_parquet(\"../dataset_files/gutenberg_backtranslate.parquet\")"
   ]
  },
  {
   "cell_type": "code",
   "execution_count": 2,
   "metadata": {},
   "outputs": [
    {
     "data": {
      "text/markdown": [
       "**Honor Edgeworth; Or, Ottawa's Present Tense**"
      ],
      "text/plain": [
       "<IPython.core.display.Markdown object>"
      ]
     },
     "metadata": {},
     "output_type": "display_data"
    },
    {
     "data": {
      "text/markdown": [
       "As she clutched the opposite side of the chair, her eyes and Vivian's\n",
       "met, there was a flash of contempt and a look of defiant love, and then,\n",
       "with all her woman's strength, she wrestled the chair from his strong\n",
       "hold, and placed it behind her guardian. She refused to sit herself, the\n",
       "folding-doors leading to the drawing-room were partially closed and she\n",
       "stood against them, toying nervously with the massive handle near her.\n",
       "When quiet was restored, Henry Rayne began to speak. He seemed to pass,\n",
       "unnoticed, the confusion of a moment before, and said in the gentlest\n",
       "accents, addressing the girl.\n",
       "\n",
       "\"Honor, we have come here this morning for the purpose of deciding a\n",
       "question which, of late, has received very serious consideration from\n",
       "your friend here, and myself. I am now growing old and feeble, and have\n",
       "all the indications of an early decay in my constitution. Since the\n",
       "first moment that you were given me as a responsibility and a grave\n",
       "charge, my mind has been in a constant worry, lest, in the smallest\n",
       "degree, I would not render you your due as your own father would have\n",
       "done. In all matters, I have tried, as well as I knew how, to place\n",
       "myself in that very relationship to you, and if I have not succeeded I\n",
       "could never know from you, for you have always been a kind, grateful,\n",
       "considerate daughter. What I am about to discuss now, is the very last\n",
       "thing, relative to you, that will abide by my decision. I have, since my\n",
       "recent illness, considered everything that could assist me in securing\n",
       "your welfare, before I go, and as well as my eager, though maybe, not\n",
       "overwise judgment can direct me, I think I have adopted the best plan of\n",
       "all, it needs only your sanction to complete it and set my mind at rest.\n",
       "I will not remind you of your promise to me, because, on second thought,\n",
       "I have learned that to ask you to sacrifice your own heart for my sake,\n",
       "would be enough to taunt me in the other world, so I will merely appeal,\n",
       "showing you that with what discretion some sixty odd years of tough\n",
       "experience have given me, I presume I can direct you now.\"\n",
       "\n",
       "The girl, standing motionless by the doorway, looked her guardian fully\n",
       "in the face; she struggled for a moment, a secret, hidden struggle, and\n",
       "then answered calmly: \"My dear Mr Rayne, do you not know, that such an\n",
       "appeal as this, is unnecessary? If you have something to command of me,\n",
       "state it plainly, clearly, I will understand it better. You have, it is\n",
       "true, guided me with faultless judgment and discretion, you have been\n",
       "kind, and solicitous and careful from the first moment we lived\n",
       "together. What is it you now ask in return? What do I owe you for such\n",
       "devotion?\""
      ],
      "text/plain": [
       "<IPython.core.display.Markdown object>"
      ]
     },
     "metadata": {},
     "output_type": "display_data"
    },
    {
     "data": {
      "text/markdown": [
       "**Backtranslated Text**"
      ],
      "text/plain": [
       "<IPython.core.display.Markdown object>"
      ]
     },
     "metadata": {},
     "output_type": "display_data"
    },
    {
     "data": {
      "text/markdown": [
       "Write a paragraph in a formal, literary style with a serious and somewhat melancholic tone. The narrative should revolve around a guardian and their ward, focusing on a pivotal moment where the guardian, an older and frail figure, addresses the ward about a significant decision. The paragraph should capture the emotional intensity of the moment, with the guardian expressing concern and care for the ward's future, while the ward responds with a mixture of calmness and hidden struggle. Use a mix of complex and straightforward sentences to maintain a balanced flow, and employ a rich vocabulary that reflects the period and the characters' sophistication. Ensure the dialogue between the characters is respectful and reveals their deep bond, while also hinting at underlying tensions."
      ],
      "text/plain": [
       "<IPython.core.display.Markdown object>"
      ]
     },
     "metadata": {},
     "output_type": "display_data"
    },
    {
     "data": {
      "text/markdown": [
       "----------------------------------------------------------------------------------------------------"
      ],
      "text/plain": [
       "<IPython.core.display.Markdown object>"
      ]
     },
     "metadata": {},
     "output_type": "display_data"
    },
    {
     "data": {
      "text/markdown": [
       "**Margery (Gred): A Tale Of Old Nuremberg — Volume 03**"
      ],
      "text/plain": [
       "<IPython.core.display.Markdown object>"
      ]
     },
     "metadata": {},
     "output_type": "display_data"
    },
    {
     "data": {
      "text/markdown": [
       "He forthwith replied that I was not to lay the blame on one whom he would\n",
       "ever remember as a brave and true-hearted youth, inasmuch as it was not\n",
       "my cousin, but he himself who had put an end to the love-making between\n",
       "Gotz and Gertrude.  It was after the breach between Gotz and his parents\n",
       "that it had been most hard to turn a deaf ear to the prayers of the\n",
       "devoted lover and of his own child.  But, through all, he had borne in\n",
       "mind the doctrine by which his father had ever ruled his going, namely,\n",
       "not to bring on our neighbor such grief as would make our own heart sore.\n",
       "Therefore he examined himself as to what he would feel towards one who\n",
       "should make his child to wed against his will with a suitor he liked not;\n",
       "and whereas his own dignity as a man and his care for his daughter's\n",
       "welfare forbade that he should give her in marriage to a youth whose\n",
       "kinsfolks would receive her with scorn and ill-feeling, rather than with\n",
       "love and kindness, he had at last set his heart hard against young\n",
       "Waldstromer, whom he had loved as his own son, and forced him to go far\n",
       "away from his sweetheart.  I, in my heart, was strangely wroth with my\n",
       "cousin in that he had not staked his all to win so fair a maid; nay, and\n",
       "I made so bold as to confess that in Gertrude's place I should have gone\n",
       "after my lover whithersoever he would, even against my father's will.\n",
       "\n",
       "And again that proud smile came upon Ulman Pernhart's bearded lips, and\n",
       "his eye flashed fire as he said: \"My life moves in a narrow round, but\n",
       "all that dwell therein bend to my will as the copper bends under my\n",
       "hammer.  If you think that the Junker gave in without a struggle you are\n",
       "greatly mistaken; after I had forbidden him the house, he had tempted\n",
       "Gertrude to turn against me and was ready to carry her off; nay, and\n",
       "would you believe it, my own mother sided with the young ones.  The\n",
       "priest even was in readiness to marry them privily, and they would have\n",
       "won the day in spite of me.  But the eyes of jealousy are ever the\n",
       "sharpest; my head apprentice, who was madly in love with the maid,\n",
       "betrayed the plot, and then, Mistress Margery, were things said and done\n",
       "--things concerning which I had best hold my peace.  And if you crave to\n",
       "know them, you may ask my mother.  You will see some day, if you do not\n",
       "scorn to enter my house and if you gain her friendship--and I doubt not\n",
       "that you will, albeit it is not granted to every one--she will be glad\n",
       "enough to complain of my dealings in this matter--mine, her own son's,\n",
       "although on other points she is wont to praise my virtues over-loudly.\""
      ],
      "text/plain": [
       "<IPython.core.display.Markdown object>"
      ]
     },
     "metadata": {},
     "output_type": "display_data"
    },
    {
     "data": {
      "text/markdown": [
       "**Backtranslated Text**"
      ],
      "text/plain": [
       "<IPython.core.display.Markdown object>"
      ]
     },
     "metadata": {},
     "output_type": "display_data"
    },
    {
     "data": {
      "text/markdown": [
       "Write a paragraph in a formal, literary style with a serious and reflective tone. The paragraph should revolve around a conversation between two characters, where one character defends a decision that caused a rift between two lovers. The main ideas to include are the character's adherence to a moral principle, the difficulty of resisting emotional pleas, and the eventual resolution to act against personal feelings for the greater good. Use a rich vocabulary and complex sentence structures, incorporating literary devices such as metaphors and allusions to enhance the narrative. The paragraph should be around 200-250 words in length, maintaining a consistent flow and depth of emotion throughout. Avoid direct quotes or specific unique phrases from the original paragraph, focusing instead on capturing the essence and style of the narrative."
      ],
      "text/plain": [
       "<IPython.core.display.Markdown object>"
      ]
     },
     "metadata": {},
     "output_type": "display_data"
    },
    {
     "data": {
      "text/markdown": [
       "----------------------------------------------------------------------------------------------------"
      ],
      "text/plain": [
       "<IPython.core.display.Markdown object>"
      ]
     },
     "metadata": {},
     "output_type": "display_data"
    },
    {
     "data": {
      "text/markdown": [
       "**The Tyranny of Tears: A Comedy in Four Acts**"
      ],
      "text/plain": [
       "<IPython.core.display.Markdown object>"
      ]
     },
     "metadata": {},
     "output_type": "display_data"
    },
    {
     "data": {
      "text/markdown": [
       "\"The Tyranny of Tears,\" a comedy of the emotions, is most ingeniously\n",
       "constructed on the simplest lines; it is a triumph of the commonplace.\n",
       "Played virtually by five characters, and with but one change of scene,\n",
       "it has that specious appearance of ease which is due to dexterity of\n",
       "craftsmanship. It is refreshing, free from theatrical expedients, and\n",
       "save perhaps for the somewhat accelerated wooing in Act Four, knots\n",
       "which we are accustomed to see snipped by the scissors of an erratic\n",
       "fate are here gently untangled by the fingers of probability. The germ\n",
       "of it, a matter of fortunate selection, is a human foible so universal\n",
       "that if a man is not conscious of it in his own proper person, he has\n",
       "not failed to smile over it among his neighbors: that combination of\n",
       "fondness and egoism out of which tyranny is legitimately born. This is\n",
       "the keynote; it announces itself speedily upon the raising of the\n",
       "curtain, and it is never for a moment after obscured by those modern\n",
       "subtilties calculated to provoke discussion among the elect. The\n",
       "hearer equipped with ordinary experience finds himself listening to it\n",
       "with an acquiescent stream of running comment. He knows this alphabet.\n",
       "It spells familiar words, and they come frequently. Here are\n",
       "commonplaces which he has failed perhaps to formulate; but now they\n",
       "flash upon the inward eye with a convincing vividness. This, he sees\n",
       "at once, is a picture of pink and white tyranny, the triumph of the\n",
       "weak. Domestic life has been caught and fixed at the culmination of a\n",
       "strain: one of those dramatic moments when the cord snaps because it\n",
       "has been for a long time fraying. One party to the contract has drawn\n",
       "up a code and imposed it upon his mate. The tyrant has some piquancy;\n",
       "she disarms suspicion because, although a despot, she is masquerading\n",
       "as something else. Another sort of bully we know: the buckram female,\n",
       "loud-voiced, militant, announcing herself, like the mosquito, by a\n",
       "vicious trumpeting. Invulnerability sits on her helm; her armor clanks\n",
       "a little while she strides. But this new tyrant wears another mien.\n",
       "Behold her! a soft-cheeked, gentle-handed ministrant, who would have\n",
       "husbands happy, provided they show the chivalrous courtesy of becoming\n",
       "so in woman's way. She knows the rules of the game according as her\n",
       "sex interprets them, and it never enters her ingenuous mind that \"in\n",
       "marriage there are two ideals to be realized.\" Thus does she make her\n",
       "gentle progress, the victim beside her crowned with garlands, but yet\n",
       "a victim. She is the arch destroyer, the juggernaut in muslin.\n",
       "\n",
       "As soon, therefore, as she is recognized, there is a great pricking-up\n",
       "of ears all over the house. Few are they whose withers are unwrung.\n",
       "Every man among them, primed with his own warfare or that of some\n",
       "defeated chum, settles down to the play, and wives follow suit with a\n",
       "guilty sense that such things are, though \"not, thank heaven! under\n",
       "roof of mine.\""
      ],
      "text/plain": [
       "<IPython.core.display.Markdown object>"
      ]
     },
     "metadata": {},
     "output_type": "display_data"
    },
    {
     "data": {
      "text/markdown": [
       "**Backtranslated Text**"
      ],
      "text/plain": [
       "<IPython.core.display.Markdown object>"
      ]
     },
     "metadata": {},
     "output_type": "display_data"
    },
    {
     "data": {
      "text/markdown": [
       "You are to write a paragraph that captures the essence of a literary review of a play, focusing on its structure, themes, and character dynamics. The paragraph should be written in a formal, somewhat academic style, with a tone that is analytical yet engaging. The content should highlight the play's simplicity and ingenuity, its reliance on a few key characters and settings, and its avoidance of theatrical clichés. The main themes should revolve around human emotions and the dynamics of power and control within relationships. Use a mix of complex and simple sentences to vary the rhythm, and incorporate literary devices such as metaphors and allusions to enhance the richness of the text. The vocabulary should be sophisticated, with a blend of contemporary and archaic terms to evoke a sense of timelessness. Ensure that the paragraph is approximately 300-350 words long, providing a detailed yet concise analysis of the play's strengths and the impact of its narrative on the audience."
      ],
      "text/plain": [
       "<IPython.core.display.Markdown object>"
      ]
     },
     "metadata": {},
     "output_type": "display_data"
    },
    {
     "data": {
      "text/markdown": [
       "----------------------------------------------------------------------------------------------------"
      ],
      "text/plain": [
       "<IPython.core.display.Markdown object>"
      ]
     },
     "metadata": {},
     "output_type": "display_data"
    },
    {
     "data": {
      "text/markdown": [
       "**The Memoirs of Count Grammont — Volume 04**"
      ],
      "text/plain": [
       "<IPython.core.display.Markdown object>"
      ]
     },
     "metadata": {},
     "output_type": "display_data"
    },
    {
     "data": {
      "text/markdown": [
       "\n",
       "\"Sir,\" said the Chevalier de Grammont, \"the Prince de Conde besieged\n",
       "Lerida: the place in itself was nothing; but Don Gregorio Brice who\n",
       "defended it, was something. He was one of those Spaniards of the old\n",
       "stamp, as valiant as the Cid, as proud as all the Guzmans put together,\n",
       "and more gallant than all the Abencerrages of Granada: he suffered us to\n",
       "make our first approaches to the place without the least molestation.\n",
       "The Marshal de Grammont, whose maxim it was, that a governor who at first\n",
       "makes a great blustering, and burns his suburbs in order to make a noble\n",
       "defence, generally makes a very bad one, looked upon Gregorio de Brice's\n",
       "politeness as no good omen for us; but the prince, covered with glory,\n",
       "and elated with the campaigns of Rocroy, Norlinguen, and Fribourg, to\n",
       "insult both the place and the governor, ordered the trenches to be\n",
       "mounted at noon-day by his own regiment, at the head of which marched\n",
       "four-and-twenty fiddlers, as if it had been to a wedding.\n",
       "\n",
       "\"Night approaching, we were all in high spirits: our violins were playing\n",
       "soft airs, and we were comfortably regaling ourselves: God knows how we\n",
       "were joking about the poor governor and his fortifications, both of which\n",
       "we promised ourselves to take in less than twenty-four hours. This was\n",
       "going on in the trenches, when we heard an ominous cry from the ramparts,\n",
       "repeated two or three times, of, 'Alerte on the walls!' This cry was\n",
       "followed by a discharge of cannon and musketry, and this discharge by a\n",
       "vigorous sally, which, after having filled up the trenches, pursued us as\n",
       "far as our grand guard.\n",
       "\n",
       "\"The next day Gregorio Brice sent by a trumpet a present of ice and fruit\n",
       "to the Prince de Conde, humbly beseeching his highness to excuse his not\n",
       "returning the serenade which he was pleased to favour him with, as\n",
       "unfortunately he had no violins; but that if the music of last night was\n",
       "not disagreeable to him, he would endeavour to continue it as long as he\n",
       "did him the honour to remain before the place. The Spaniard was as good\n",
       "as his word; and as soon as we heard, 'Alerte on the walls,' we were sure\n",
       "of a sally, that cleared our trenches, destroyed our works, and killed\n",
       "the best of our officers and soldiers. The prince was so piqued at it,\n",
       "that, contrary to the opinion of the general officers, he obstinately\n",
       "persisted in carrying on a siege which was like to ruin his army, and\n",
       "which he was at last forced to quit in a hurry.\n",
       "\n",
       "\"As our troops were retiring, Don Gregorio, far from giving himself those\n",
       "airs which governors generally do on such occasions, made no other sally,\n",
       "than sending a respectful compliment to the prince. Signor Brice set out\n",
       "not long after for Madrid, to give an account of his conduct, and to\n",
       "receive the recompense he had merited. Your majesty perhaps will be\n",
       "desirous to know what reception poor Brice met with, after having\n",
       "performed the most brilliant action the Spaniards could boast of in all\n",
       "the war--he was confined by the inquisition.\"\n",
       "\n",
       "\"How!\" said the Queen Dowager, \"confined by the inquisition for his\n",
       "services!\" \"Not altogether for his services,\" said the Chevalier; \"but\n",
       "without any regard to his services, he was treated in the manner I have\n",
       "mentioned for a little affair of gallantry, which I shall relate to the\n",
       "King presently."
      ],
      "text/plain": [
       "<IPython.core.display.Markdown object>"
      ]
     },
     "metadata": {},
     "output_type": "display_data"
    },
    {
     "data": {
      "text/markdown": [
       "**Backtranslated Text**"
      ],
      "text/plain": [
       "<IPython.core.display.Markdown object>"
      ]
     },
     "metadata": {},
     "output_type": "display_data"
    },
    {
     "data": {
      "text/markdown": [
       "Write a paragraph in a formal, literary style that conveys a historical military narrative, maintaining a serious yet slightly humorous tone. The story should revolve around a siege of a city, focusing on the actions and character of a valiant defender who initially appears passive but later reveals his strategic prowess. Include elements of surprise and unexpected outcomes, highlighting the defender's clever tactics and the commander's stubbornness. Use complex sentence structures and a rich vocabulary, incorporating literary devices such as metaphor and irony. Ensure the paragraph is approximately 300-350 words long, and include a twist at the end that underscores the defender's fate despite his success."
      ],
      "text/plain": [
       "<IPython.core.display.Markdown object>"
      ]
     },
     "metadata": {},
     "output_type": "display_data"
    },
    {
     "data": {
      "text/markdown": [
       "----------------------------------------------------------------------------------------------------"
      ],
      "text/plain": [
       "<IPython.core.display.Markdown object>"
      ]
     },
     "metadata": {},
     "output_type": "display_data"
    },
    {
     "data": {
      "text/markdown": [
       "**The Grand Canyon of Arizona: How to See It**"
      ],
      "text/plain": [
       "<IPython.core.display.Markdown object>"
      ]
     },
     "metadata": {},
     "output_type": "display_data"
    },
    {
     "data": {
      "text/markdown": [
       "Brown's Unsuccessful Expedition. Seventeen years after Powell, Frank M.\n",
       "Brown, a Denver capitalist, determined to survey the canyons with the\n",
       "purpose of building a railway through them to the Gulf of California. The\n",
       "main start was made May 25, 1889, from the Rio Grande Western's tracks\n",
       "across the Green River, with six boats and sixteen men. It was a disastrous\n",
       "expedition. Brown himself lost his life at Soap Creek Rapids, some fifteen\n",
       "miles below Lee's Ferry, and four days later two others were drowned in\n",
       "Marble Canyon. The expedition was then abandoned, the remnant of the party\n",
       "climbing the Canyon walls, and finding their way back to civilization\n",
       "assisted by the kindly owner of a cattle ranch.\n",
       "\n",
       "Stanton's Boats Travel Through the Whole Canyon System. In November of the\n",
       "same year, however, Robert Brewster Stanton, Brown's engineer, observing\n",
       "precautions that Brown had so unfortunately neglected, prepared to continue\n",
       "the exploration. He had his boats hauled on wagons to the mouth of Crescent\n",
       "Creek near Fremont River, to avoid a repetition of the experiences in\n",
       "Cataract Canyon; and a good start was made. The party ate Christmas dinner\n",
       "at Lee's Ferry, and a few days later, slightly below where Brown lost his\n",
       "life, the photographer of the expedition fell from a ledge and broke his\n",
       "leg. With incredible labor, the unfortunate man was got out of the Canyon,\n",
       "four miles in distance and seventeen hundred feet in altitude, on an\n",
       "improvised stretcher, and then taken in a wagon which Stanton had fetched\n",
       "from Lee's Ferry. The party then went on, entered the Grand Canyon, and\n",
       "reached Diamond Creek March 1, where they remained ten days recuperating.\n",
       "The last dash was then made in safety. The boats left the Canyon March 17,\n",
       "1890, and proceeded easily and gently, until on the twenty-sixth of April\n",
       "tide-water was reached at the mouth of the river on the Gulf of California.\n",
       "\n",
       "Galloway Repeats Stanton's Exploit. On January 12, 1897, N. Galloway, a\n",
       "Mormon trapper, who for years had operated on the Canyons of the Green\n",
       "River, determined to emulate Powell and Stanton. He made two light boats of\n",
       "rude lumber, covered them fore and aft with canvas, got a companion,\n",
       "William Richmond, and on the day named left a point near the state line of\n",
       "Wyoming and Utah. On the third of February they emerged from the Canyon. As\n",
       "they reached the open country below the Grand Wash, they came upon the\n",
       "officers who had found the bodies of two men, killed by Mouse, a Paiuti\n",
       "Indian. The officers requested the use of Galloway's boats to convey the\n",
       "bodies to the Needles. This was acceded to, and on the seventeenth of\n",
       "February Needles was reached, the boats sold, and the Mormons returned to\n",
       "their homes.\n",
       "\n",
       "Making Photographs of Soap Creek Rapids. Later in the same year, I made the\n",
       "trip by wagon from Winslow, Arizona, over the Painted Desert to Lee's\n",
       "Ferry, and there, to my great delight, met Galloway. He built a boat, and\n",
       "took me up Glen Canyon for a long distance, and down Marble Canyon to Soap\n",
       "Creek Rapids, where poor Brown was lost. As I photographed the rapid, he\n",
       "offered to \"run it\" in his boat if I desired, saying that, with his light\n",
       "boat, there was no danger whatever. I declined, however, on the ground that\n",
       "no photograph ever made could justify the risking of a man's life. As\n",
       "recently as August, 1908, in coming to the Canyon by rail, I met at\n",
       "Kingman, Arizona, a deputy sheriff by name of Ayres, who was one of my\n",
       "party taken by Galloway up the Glen Canyon."
      ],
      "text/plain": [
       "<IPython.core.display.Markdown object>"
      ]
     },
     "metadata": {},
     "output_type": "display_data"
    },
    {
     "data": {
      "text/markdown": [
       "**Backtranslated Text**"
      ],
      "text/plain": [
       "<IPython.core.display.Markdown object>"
      ]
     },
     "metadata": {},
     "output_type": "display_data"
    },
    {
     "data": {
      "text/markdown": [
       "Write a paragraph in a formal, historical narrative style, maintaining a serious and informative tone. The content should revolve around failed and successful expeditions through treacherous canyons, focusing on the challenges, losses, and eventual triumphs of the explorers. Include details about the preparation, setbacks, and eventual outcomes of these expeditions, highlighting the resilience and determination of the explorers. Use a mix of short and complex sentences to create a sense of flow and depth. Employ descriptive language to paint a vivid picture of the landscapes and the hardships faced. Avoid direct quotes or specific unique phrases from the original paragraph. Ensure the narrative is engaging and informative, capturing the spirit of adventure and the historical significance of these expeditions."
      ],
      "text/plain": [
       "<IPython.core.display.Markdown object>"
      ]
     },
     "metadata": {},
     "output_type": "display_data"
    },
    {
     "data": {
      "text/markdown": [
       "----------------------------------------------------------------------------------------------------"
      ],
      "text/plain": [
       "<IPython.core.display.Markdown object>"
      ]
     },
     "metadata": {},
     "output_type": "display_data"
    },
    {
     "data": {
      "text/markdown": [
       "**Christian's Mistake**"
      ],
      "text/plain": [
       "<IPython.core.display.Markdown object>"
      ]
     },
     "metadata": {},
     "output_type": "display_data"
    },
    {
     "data": {
      "text/markdown": [
       "\"It was not unpleasant. They were good little things; and, as you know,\n",
       "I always prefer having children about me at meal-times. I think it makes\n",
       "them little gentlemen and gentlewomen in a manner that nothing else\n",
       "will. If I had a house\"--she stopped and blushed deeply for having let\n",
       "old things--ah! they seemed so very old, and far back now--make her\n",
       "forget the present. \"I mean, I should wish in my house to have the\n",
       "children always accustomed to come to the parents' table as soon as they\n",
       "were old enough to handle a knife and fork.\"\n",
       "\n",
       "\"Should you?\" said Dr. Grey, quite startling her, for she thought he\n",
       "had not been attending to the conversation. \"Then we will have Titia and\n",
       "Atty to breakfast with us to-morrow.\"\n",
       "\n",
       "Thus, without any fuss the great revolution was made; so quickly, so\n",
       "completely, that even Miss Gascoigne was dumb-foundered. She set down\n",
       "her teacup with a jerk; her handsome face grew red with anger, but still\n",
       "she did not venture a word, she had not lived three years with Dr. Grey\n",
       "without finding out that when the master of the house did choose to\n",
       "exercise authority, he must be obeyed. He very seldom interfered,\n",
       "especially as regarded the children; like most simple-minded men, he was\n",
       "humble about himself, and left a great deal to his womankind; but when\n",
       "he did interfere it was decisive. Even Miss Gascoigne felt instinctively\n",
       "that she might have wrangled and jangled for an hour and at the end\n",
       "of it he would have said, almost as gently as he had said it now, \"The\n",
       "children will breakfast with us to-morrow.\"\n",
       "\n",
       "Christian, too, was surprised, and something more. She had thought her\n",
       "husband so exceedingly quiet that sometimes her own high spirit winced a\n",
       "little at his passiveness; that is, she knew it would have done had she\n",
       "been her own natural self, and not in the strange, dreamy, broken-down\n",
       "state, which seemed to take interest in nothing. Still, she felt some\n",
       "interest in seeing Dr. Grey appear, though but in a trivial thing,\n",
       "rather different from what she had at first supposed him. And when,\n",
       "after an interval of awful silence, during which Miss Gascoigne looked\n",
       "like a brooding hurricane, and Miss Grey frightened out of her life\n",
       "at what was next to happen, he rose and said, \"Now remember, Aunt\n",
       "Henrietta, you or my wife are to give orders to Phillis that the\n",
       "children come to us at lunchtime to-day,\" Christian was conscious of a\n",
       "slight throb at heart. It was to see in her husband--the man to whom,\n",
       "whatever he was, she was tied and bound for life--that something without\n",
       "which no woman can wholly respect any man--the power of asserting and\n",
       "of maintaining authority; not that arbitrary, domineering rule which\n",
       "springs from the blind egotism of personal will, and which every\n",
       "other conscientious will, be it of wife, child, servant, or friend,\n",
       "instinctively resists, and, ought to resist, but calm, steadfast, just,\n",
       "righteous authority. There is an old rhyme,"
      ],
      "text/plain": [
       "<IPython.core.display.Markdown object>"
      ]
     },
     "metadata": {},
     "output_type": "display_data"
    },
    {
     "data": {
      "text/markdown": [
       "**Backtranslated Text**"
      ],
      "text/plain": [
       "<IPython.core.display.Markdown object>"
      ]
     },
     "metadata": {},
     "output_type": "display_data"
    },
    {
     "data": {
      "text/markdown": [
       "Write a paragraph in a formal, literary style that captures a sense of domestic life and family dynamics. The tone should be reflective and slightly melancholic, with moments of gentle humor. The paragraph should revolve around a conversation between two characters, one of whom makes a significant decision that surprises the other. Include details about the setting, such as a meal-time or a quiet gathering, and describe the reactions of the characters to the decision. Use complex sentence structures and a rich vocabulary to convey the depth of emotions and the subtleties of the characters' interactions. Emphasize the themes of authority, family, and personal growth. Ensure the paragraph is around 200-250 words long, maintaining a consistent pacing and flow."
      ],
      "text/plain": [
       "<IPython.core.display.Markdown object>"
      ]
     },
     "metadata": {},
     "output_type": "display_data"
    },
    {
     "data": {
      "text/markdown": [
       "----------------------------------------------------------------------------------------------------"
      ],
      "text/plain": [
       "<IPython.core.display.Markdown object>"
      ]
     },
     "metadata": {},
     "output_type": "display_data"
    },
    {
     "data": {
      "text/markdown": [
       "**The Amazing Marriage — Volume 4**"
      ],
      "text/plain": [
       "<IPython.core.display.Markdown object>"
      ]
     },
     "metadata": {},
     "output_type": "display_data"
    },
    {
     "data": {
      "text/markdown": [
       "Behind his white plaster of composure, Lord Fleetwood had alternately\n",
       "raged and wondered during the passage of the Welsh cavalcade up Eastward:\n",
       "a gigantic burlesque, that would have swept any husband of their heroine\n",
       "off the scene had he failed to encounter it deferentially, preserving his\n",
       "countenance and ostensibly his temper.  An idiot of a woman, incurable in\n",
       "her lunacy, suspects the father of the infant as guilty of designs done\n",
       "to death in romances; and so she manages to set going solemnly a bigger\n",
       "blazing Tom Fool's show than any known or written romance gives word of!\n",
       "And that fellow, Gower Woodseer, pleads, in apology, for her husband's\n",
       "confusion, physiologically, that it comes of her having been carried off\n",
       "and kept a prisoner when she was bearing the child and knitting her whole\n",
       "mind to ensure the child.  But what sheer animals these women are, if\n",
       "they take impressions in such a manner!  And Mr. Philosopher argues that\n",
       "the abusing of women proves the hating of Nature; names it 'the commonest\n",
       "insanity, and the deadliest,' and men are 'planted in the bog of their\n",
       "unclean animal condition until they do proper homage to the animal Nature\n",
       "makes the woman be.'  Oh, pish, sir!--as Meeson Corby had the habit of\n",
       "exclaiming when Abrane's 'fiddler' argues him into a corner.  The fellow\n",
       "can fiddle fine things and occasionally clear sense:--'Men hating Nature\n",
       "are insane.  Women and Nature are close.  If it is rather general to hate\n",
       "Nature and maltreat women, we begin to see why the world is a mad world.'\n",
       "That is the tune of the fiddler's fiddling.  As for him, something\n",
       "protects him.  He was the slave of Countess Livia; like Abrane, Mallard,\n",
       "Corby, St.  Ombre, young Cressett, and the dozens.  He is now her master.\n",
       "Can a man like that be foolish, in saying of the Countess Carinthia, she\n",
       "is 'not only quick to understand, she is in the quick of understanding'?\n",
       "Gower Woodseer said it of her in Wales, and again on the day of his walk\n",
       "up to London from Esslemont, after pedestrian exercise, which may heat\n",
       "the frame, but cools the mind.  She stamped that idea on a thoughtful\n",
       "fellow.\n",
       "\n",
       "He's a Welshman.  They are all excitable,--have heads on hound's legs for\n",
       "a flying figure in front.  Still, they must have an object, definitely\n",
       "seen by them--definite to them if dim to their neighbours; and it will\n",
       "run in the poetic direction: and the woman to win them, win all classes\n",
       "of them, within so short a term, is a toss above extraordinary.  She is\n",
       "named Carinthia--suitable name for the Welsh pantomimic procession.  Or\n",
       "cry out the word in an amphitheatre of Alpine crags,--it sounds at home.\n",
       "\n",
       "Suppose he went to her, would she be trying at domination?  The woman's\n",
       "pitch above woman's beauty was perceived to be no intermittent beam, but\n",
       "so living as to take the stamp of permanence.  More than to say it was\n",
       "hers, it was she.  What a deadly peril brought into view was her\n",
       "character-soul, some call it: generally a thing rather distasteful in\n",
       "women, or chilling to the masculine temperament.  Here it attracts.\n",
       "Here, strange to say, it is the decided attraction, in a woman of a\n",
       "splendid figure and a known softness.  By rights, she should have more\n",
       "understanding than to suspect the husband as guilty of designs done to\n",
       "death in romances.  However, she is not a craven who compliments him by\n",
       "rearing him, and he might prove that there is no need for fear.  But she\n",
       "would be expecting explanations before the reconcilement.  The bosom of\n",
       "these women will keep on at its quick heaving until they have heard\n",
       "certain formal words, oaths to boot.  How speak them?\n",
       "\n",
       "His old road of the ladder appeared to Fleetwood an excellent one for\n",
       "obviating explanations and effecting the reconcilement without any\n",
       "temporary seeming forfeit of the native male superiority.  For there she\n",
       "is at Esslemont now; any night the window could be scaled.  'It is my\n",
       "husband.'  The soul was in her voice when she said it.\n",
       "\n",
       "He remembered that it had not ennobled her to him then; had not endeared;\n",
       "was taken for a foreign example of the childish artless, imperfectly\n",
       "suited to our English clime.'  The tone of adorable utterances, however\n",
       "much desired, is never for repetition; nor is the cast of divine sweet\n",
       "looks; nor are the particular deeds-once pardonable, fitly pleaded.  A\n",
       "second scaling of her window--no, night's black hills girdle the scene\n",
       "with hoarse echoes; the moon rushes out of her clouds grimacing.  Even\n",
       "Fleetwood's devil, much addicted to cape and sword and ladder, the\n",
       "vulpine and the gryphine, rejected it.\n",
       "\n",
       "For she had, by singular transformation since, and in spite of a deluging\n",
       "grotesque that was antecedently incredible, she had become a personage,\n",
       "counting her adherents; she could put half the world in motion on her\n",
       "side.  Yell those Welshmen to scorn, they were on a plane finding native\n",
       "ground with as large a body of these English.  His baser mind bowed to\n",
       "the fact.  Her aspect was entirely different; her attitude toward him as\n",
       "well: insomuch that he had to chain her to her original features by the\n",
       "conjuring of recollected phrases memorable for the vivid portraiture of\n",
       "her foregone simplicity and her devotion to 'my husband.'\n",
       "\n",
       "Yes, there she was at Essleinont, securely there, near him, to be seen\n",
       "any day; worth claiming, too; a combatant figure, provocative of the\n",
       "fight and the capture rather than repellent.  The respect enforced by\n",
       "her attitude awakened in him his inherited keen old relish for our\n",
       "intersexual strife and the indubitable victory of the stronger, with the\n",
       "prospect of slavish charms, fawning submission, marrowy spoil.  Or\n",
       "perhaps, preferably, a sullen submission, reluctant charms; far more\n",
       "marrowy.  Or who can say?--the creature is a rocket of the shot into the\n",
       "fiery garland of stars; she may personate any new marvel, be an\n",
       "unimagined terror, an overwhelming bewitchment: for she carries the\n",
       "unexpected in her bosom.  And does it look like such indubitable victory,\n",
       "when the man, the woman's husband, divided from her, toothsome to the\n",
       "sex, acknowledges within himself and lets the world know his utter\n",
       "dislike of other women's charms, to the degree that herbal anchorites\n",
       "positively could not be colder, could not be chaster: and he no forest\n",
       "bird, but having the garden of the variety of fairest flowers at nod and\n",
       "blush about him!  That was the truth.  Even Henrietta's beauty had the\n",
       "effect of a princess's birthday doll admired on show by a contemptuous\n",
       "boy."
      ],
      "text/plain": [
       "<IPython.core.display.Markdown object>"
      ]
     },
     "metadata": {},
     "output_type": "display_data"
    },
    {
     "data": {
      "text/markdown": [
       "**Backtranslated Text**"
      ],
      "text/plain": [
       "<IPython.core.display.Markdown object>"
      ]
     },
     "metadata": {},
     "output_type": "display_data"
    },
    {
     "data": {
      "text/markdown": [
       "Write a paragraph that captures the intricate, literary style and complex sentence structure of a Victorian novel. The tone should be introspective and somewhat critical, with a mix of formal and somewhat archaic vocabulary. The paragraph should explore the dynamics between characters, focusing on a man's internal struggle and his perceptions of a woman. The woman in question should be described in a way that highlights her enigmatic and powerful nature, while the man's thoughts should reveal his conflicted feelings and strategic considerations. Use vivid, descriptive language to paint a picture of the characters and their surroundings, and incorporate literary devices such as metaphors and allusions to enhance the narrative. Maintain a balance between detailed descriptions and the progression of the plot, ensuring the paragraph flows seamlessly and engages the reader with its depth and complexity."
      ],
      "text/plain": [
       "<IPython.core.display.Markdown object>"
      ]
     },
     "metadata": {},
     "output_type": "display_data"
    },
    {
     "data": {
      "text/markdown": [
       "----------------------------------------------------------------------------------------------------"
      ],
      "text/plain": [
       "<IPython.core.display.Markdown object>"
      ]
     },
     "metadata": {},
     "output_type": "display_data"
    },
    {
     "data": {
      "text/markdown": [
       "**Roughing It, Part 6.**"
      ],
      "text/plain": [
       "<IPython.core.display.Markdown object>"
      ]
     },
     "metadata": {},
     "output_type": "display_data"
    },
    {
     "data": {
      "text/markdown": [
       "For two months my sole occupation was avoiding acquaintances; for during\n",
       "that time I did not earn a penny, or buy an article of any kind, or pay\n",
       "my board.  I became a very adept at \"slinking.\"  I slunk from back street\n",
       "to back street, I slunk away from approaching faces that looked familiar,\n",
       "I slunk to my meals, ate them humbly and with a mute apology for every\n",
       "mouthful I robbed my generous landlady of, and at midnight, after\n",
       "wanderings that were but slinkings away from cheerfulness and light, I\n",
       "slunk to my bed.  I felt meaner, and lowlier and more despicable than the\n",
       "worms.  During all this time I had but one piece of money--a silver ten\n",
       "cent piece--and I held to it and would not spend it on any account, lest\n",
       "the consciousness coming strong upon me that I was entirely penniless,\n",
       "might suggest suicide.  I had pawned every thing but the clothes I had\n",
       "on; so I clung to my dime desperately, till it was smooth with handling.\n",
       "\n",
       "However, I am forgetting.  I did have one other occupation beside that of\n",
       "\"slinking.\"  It was the entertaining of a collector (and being\n",
       "entertained by him,) who had in his hands the Virginia banker's bill for\n",
       "forty-six dollars which I had loaned my schoolmate, the \"Prodigal.\"  This\n",
       "man used to call regularly once a week and dun me, and sometimes oftener.\n",
       "He did it from sheer force of habit, for he knew he could get nothing.\n",
       "He would get out his bill, calculate the interest for me, at five per\n",
       "cent a month, and show me clearly that there was no attempt at fraud in\n",
       "it and no mistakes; and then plead, and argue and dun with all his might\n",
       "for any sum--any little trifle--even a dollar--even half a dollar, on\n",
       "account.  Then his duty was accomplished and his conscience free.  He\n",
       "immediately dropped the subject there always; got out a couple of cigars\n",
       "and divided, put his feet in the window, and then we would have a long,\n",
       "luxurious talk about everything and everybody, and he would furnish me a\n",
       "world of curious dunning adventures out of the ample store in his memory.\n",
       "By and by he would clap his hat on his head, shake hands and say briskly:"
      ],
      "text/plain": [
       "<IPython.core.display.Markdown object>"
      ]
     },
     "metadata": {},
     "output_type": "display_data"
    },
    {
     "data": {
      "text/markdown": [
       "**Backtranslated Text**"
      ],
      "text/plain": [
       "<IPython.core.display.Markdown object>"
      ]
     },
     "metadata": {},
     "output_type": "display_data"
    },
    {
     "data": {
      "text/markdown": [
       "Write a paragraph that captures the essence of a period of financial hardship and social withdrawal. The tone should be melancholic and introspective, with a touch of self-deprecation. The writing style should be literary and descriptive, using vivid imagery and metaphors to convey the protagonist's feelings of despair and isolation. The content should include the protagonist's avoidance of acquaintances, their sense of shame and desperation, and their reliance on a single piece of money as a lifeline. The paragraph should also mention a weekly visitor who, despite knowing the protagonist's financial state, continues to dun them for a debt. Use a mix of short and long sentences to create a rhythm that reflects the protagonist's internal struggle. Incorporate literary devices such as personification and alliteration to enhance the narrative. The paragraph should be around 250-300 words in length, maintaining a consistent tone and style throughout."
      ],
      "text/plain": [
       "<IPython.core.display.Markdown object>"
      ]
     },
     "metadata": {},
     "output_type": "display_data"
    },
    {
     "data": {
      "text/markdown": [
       "----------------------------------------------------------------------------------------------------"
      ],
      "text/plain": [
       "<IPython.core.display.Markdown object>"
      ]
     },
     "metadata": {},
     "output_type": "display_data"
    },
    {
     "data": {
      "text/markdown": [
       "**History of the United Netherlands, 1588b**"
      ],
      "text/plain": [
       "<IPython.core.display.Markdown object>"
      ]
     },
     "metadata": {},
     "output_type": "display_data"
    },
    {
     "data": {
      "text/markdown": [
       "The commander of her Majesty's forces was not satisfied with the States,\n",
       "nor their generals, nor their politicians.  \"Affairs are going 'a malo in\n",
       "pejus,'\" he said.  \"They embrace their liberty as apes their young.  To\n",
       "this end are Counts Hollock and Maurice set upon the stage to entertain\n",
       "the popular sort.  Her Majesty and my Lord of Leicester are not\n",
       "forgotten.  The Counts are in Holland, especially Hollock, for the other\n",
       "is but the cipher.  And yet I can assure you Maurice hath wit and spirit\n",
       "too much for his time.\"\n",
       "\n",
       "As the troubles of the interregnum increased Willoughby was more\n",
       "dissatisfied than ever with the miserable condition of the Provinces,\n",
       "but chose to ascribe it to the machinations of the States' party,\n",
       "rather than to the ambiguous conduct of Leicester.  \"These evils,\"\n",
       "he said, \"are especially, derived from the childish ambition of the\n",
       "young Count Maurice, from the covetous and furious counsels of the proud\n",
       "Hollanders, now chief of the States-General, and, if with pardon it may\n",
       "be said, from our slackness and coldness to entertain our friends.  The\n",
       "provident and wiser sort--weighing what a slender ground the appetite of\n",
       "a young man is, unfurnished with the sinews of war to manage so great a\n",
       "cause--for a good space after my Lord of Leicester's departure, gave him\n",
       "far looking on, to see him play has part on the stage.\"\n",
       "\n",
       "Willoughby's spleen caused him to mix his metaphors more recklessly than\n",
       "strict taste would warrant, but his violent expressions painted the\n",
       "relative situation of parties more vividly than could be done by a calm\n",
       "disquisition.  Maurice thus playing his part upon the stage--as the\n",
       "general proceeded to observe--\"was a skittish horse, becoming by little\n",
       "and little assured of what he had feared, and perceiving the harmlessness\n",
       "thereof; while his companions, finding no safety of neutrality in so\n",
       "great practices, and no overturning nor barricado to stop his rash wilded\n",
       "chariot, followed without fear; and when some of the first had passed the\n",
       "bog; the rest, as the fashion is, never started after.  The variable\n",
       "democracy; embracing novelty, began to applaud their prosperity; the base\n",
       "and lewdest sorts of men, to whom there is nothing more agreeable than\n",
       "change of estates, is a better monture to degrees than their merit, took\n",
       "present hold thereof.  Hereby Paul Buys, Barneveld, and divers others,\n",
       "who were before mantled with a tolerable affection, though seasoned with\n",
       "a poisoned intention, caught the occasion, and made themselves the\n",
       "Beelzebubs of all these mischiefs, and, for want of better angels, spared\n",
       "not to let fly our golden-winged ones in the name of guilders, to prepare\n",
       "the hearts and hands that hold money more dearer than honesty, of which\n",
       "sort, the country troubles and the Spanish practices having suckled up\n",
       "many, they found enough to serve their purpose.  As the breach is safely\n",
       "saltable where no defence is made, so they, finding no head, but those\n",
       "scattered arms that were disavowed, drew the sword with Peter, and gave\n",
       "pardon with the Pope, as you shall plainly perceive by the proceedings\n",
       "at Horn.  Thus their force; fair words, or corruption, prevailing\n",
       "everywhere, it grew to this conclusion--that the worst were encouraged\n",
       "with their good success, and the best sort assured of no fortune or\n",
       "favour.\"\n",
       "\n",
       "Out of all this hubbub of stage-actors, skittish horses, rash wilded\n",
       "chariots, bogs, Beelzebubs, and golden-winged angels, one truth was\n",
       "distinctly audible; that Beelzebub, in the shape of Barneveld, had been\n",
       "getting the upper hand in the Netherlands, and that the Lecestrians were\n",
       "at a disadvantage.  In truth those partisans were becoming extremely\n",
       "impatient.  Finding themselves deserted by their great protector, they\n",
       "naturally turned their eyes towards Spain, and were now threatening to\n",
       "sell themselves to Philip.  The Earl, at his departure, had given them\n",
       "privately much encouragement.  But month after month had passed by while\n",
       "they were waiting in vain for comfort.  At last the \"best\"--that is to\n",
       "say, the unhappy Leicestrians--came to Willoughby, asking his advice in\n",
       "their \"declining and desperate cause.\"\n",
       "\n",
       "\"Well nigh a month longer,\" said that general, \"I nourished them with\n",
       "compliments, and assured them that my Lord of Leicester would take care\n",
       "of them.\"  The diet was not fattening.  So they began to grumble more\n",
       "loudly than ever, and complained with great bitterness of the miserable\n",
       "condition in which they had been left by the Earl, and expressed their\n",
       "fears lest the Queen likewise meant to abandon them.  They protested that\n",
       "their poverty, their powerful foes, and their slow friends, would.\n",
       "compel them either to make their peace with the States' party, or\n",
       "\"compound with the enemy.\"\n",
       "\n",
       "It would have seemed that real patriots, under such circumstances, would\n",
       "hardly hesitate in their choice, and would sooner accept the dominion of\n",
       "\"Beelzebub,\" or even Paul Buys, than that of Philip II.  But the\n",
       "Leicestrians of Utrecht and Friesland--patriots as they were--hated\n",
       "Holland worse than they hated the Inquisition.  Willoughby encouraged\n",
       "them in that hatred.  He assured him of her Majesty's affection for them,\n",
       "complained of the factious proceedings of the States, and alluded to the\n",
       "unfavourable state of the weather, as a reason why--near four months\n",
       "long--they had not received the comfort out of England which they had a\n",
       "right to expect.  He assured them that neither the Queen nor Leicester\n",
       "would conclude this honourable action, wherein much had been hazarded,\n",
       "\"so rawly and tragically\" as they seemed to fear, and warned them, that\n",
       "\"if they did join with Holland, it would neither ease nor help them, but\n",
       "draw them into a more dishonourable loss of their liberties; and that,\n",
       "after having wound them in, the Hollanders would make their own peace\n",
       "with the enemy.\""
      ],
      "text/plain": [
       "<IPython.core.display.Markdown object>"
      ]
     },
     "metadata": {},
     "output_type": "display_data"
    },
    {
     "data": {
      "text/markdown": [
       "**Backtranslated Text**"
      ],
      "text/plain": [
       "<IPython.core.display.Markdown object>"
      ]
     },
     "metadata": {},
     "output_type": "display_data"
    },
    {
     "data": {
      "text/markdown": [
       "Write a paragraph in a formal, literary style with a serious and somewhat melancholic tone. The content should revolve around the political intrigues and dissatisfaction of a military commander with the state of affairs in a region, particularly focusing on the actions and motivations of various political figures and their impact on the commander's forces. Use complex sentence structures and a rich, elevated vocabulary to convey the depth of the commander's frustrations and the intricate web of alliances and betrayals. Incorporate metaphors and historical allusions to enhance the narrative's richness. Ensure the paragraph is lengthy and detailed, capturing the essence of political maneuvering and the commander's strategic observations."
      ],
      "text/plain": [
       "<IPython.core.display.Markdown object>"
      ]
     },
     "metadata": {},
     "output_type": "display_data"
    },
    {
     "data": {
      "text/markdown": [
       "----------------------------------------------------------------------------------------------------"
      ],
      "text/plain": [
       "<IPython.core.display.Markdown object>"
      ]
     },
     "metadata": {},
     "output_type": "display_data"
    },
    {
     "data": {
      "text/markdown": [
       "**The Complete Works of Brann, the Iconoclast — Volume 12**"
      ],
      "text/plain": [
       "<IPython.core.display.Markdown object>"
      ]
     },
     "metadata": {},
     "output_type": "display_data"
    },
    {
     "data": {
      "text/markdown": [
       "[Ex-Priest Joseph Slattery, in his lecture at Waco,\n",
       "Texas, in the interest of the A.P.A., bitterly denounced the\n",
       "ICONOCLAST.  During the Slattery lecture Brann rose,\n",
       "pointed his finger at Slattery and said:  \"You lie and you\n",
       "know it, and I refuse to listen to you.\"  Brann then turned\n",
       "on his heel and walked out.  He then hired the same opera\n",
       "house at his own expense and replied to Slattery.]\n",
       "\n",
       "Fellow Americans:  The ICONOCLAST does not please ex-\n",
       "Priest Slattery, \"Baptist minister in good standing,\" and\n",
       "I am not surprised.  Its mission, as its name implies, is to\n",
       "expose Frauds and abolish Fakes, to make unrelenting war\n",
       "upon Humbugs and Hypocrites, hence it is not remarkable\n",
       "that Slattery should regard its existence as a personal\n",
       "affront.  It is ever the galled jade that winces; or, to\n",
       "borrow from the elegant pulpit vernacular of the Rev. Sam\n",
       "Jones, \"it's the hit dog that yelps.\"\n",
       "\n",
       "Slattery would have you believe that I'm a rank atheist\n",
       "who's trying to rip religion up by the roots and bang it\n",
       "across a barbed wire fence in close companionship with the\n",
       "hides of Protestant preachers.  This charge has been\n",
       "hurled at me by various sectarian papers and malicious\n",
       "ministers; but not one iota of evidence has ever been\n",
       "submitted.  It is simply a bald assertion born of sanctified\n",
       "malice, a brazen libel, similar to that which charges the\n",
       "Pope with trying to subvert the American government.  I\n",
       "defy Slattery and all that unclean brood of moral vultures,\n",
       "assassins of character and thieves of reputation which trail\n",
       "in his wake and applaud his infamies, to produce one line\n",
       "I ever wrote, or quote one sentence I ever uttered disrespectful\n",
       "of ANY religion, Pagan, Protestant or Catholic.\n",
       "If in the wilds of Central Africa I should find a man bowing\n",
       "down to a dried toad, a stuffed snake or a Slattery,\n",
       "I'd remove my hat as a tribute of respect, not to his\n",
       "judgment, but to his honesty.  I have no word of condemnation\n",
       "for any religious faith, however fatuous it may appear\n",
       "to me, that has comforted the dying or consoled the living\n",
       "--that has cast one gleam of supernal sunshine into the\n",
       "dark vale where grope, each beneath his burthen of sorrow,\n",
       "the sons of men.  I am not warring upon religious faith,\n",
       "but on falsehood; not upon Christ, but on those who disgrace\n",
       "his cause--who mistake bile for benevolence, gall for\n",
       "godliness and chronic laziness for \"a call to preach.\"\n",
       "\n",
       "Nor have I taken the Pope of Rome under my apostolic\n",
       "protection.  The Popes managed to exist for a great many\n",
       "years before I was born, and, despite the assaults of\n",
       "Slattery, will doubtless continue in business at the old\n",
       "stand for several years to come.  I was raised a Protestant,\n",
       "and--thank God!--I'm no apostate.  I learned Protestantism\n",
       "at my mother's knee, and from my father's pulpit;\n",
       "but I did not learn there that the Church of Rome is the\n",
       "\"Scarlet Woman,\" nuns unclean creatures and priests the\n",
       "sworn enemies of my country.  I learned that but for the\n",
       "Church of Rome the \"glad tidings of great joy,\" which\n",
       "Christ brought to a dying world, would have been irredeemably\n",
       "lost in that dismal intellectual night known as the\n",
       "Dark Ages.  I was taught that for centuries the Church\n",
       "of Rome was the repository, not only of the Christian\n",
       "faith, but of civilization itself.  I was taught that the\n",
       "Catholic is the mother of the Protestant church, and that\n",
       "no matter how unworthy a parent may be, a child should\n",
       "not become the herald of its mother's shame."
      ],
      "text/plain": [
       "<IPython.core.display.Markdown object>"
      ]
     },
     "metadata": {},
     "output_type": "display_data"
    },
    {
     "data": {
      "text/markdown": [
       "**Backtranslated Text**"
      ],
      "text/plain": [
       "<IPython.core.display.Markdown object>"
      ]
     },
     "metadata": {},
     "output_type": "display_data"
    },
    {
     "data": {
      "text/markdown": [
       "Write a paragraph that captures the spirit and style of a passionate, impassioned speech from the late 19th or early 20th century. The tone should be assertive, almost defiant, and the writing style should be formal yet engaging, with a touch of literary flair. The content should revolve around a public figure, likely a religious leader or controversial speaker, who has made accusations against the speaker. The paragraph should include a defense against these accusations, emphasizing the speaker's respect for all forms of religious faith while criticizing hypocrisy and falsehood. Use a rich vocabulary with a mix of complex and simple sentences to maintain a dynamic flow. Incorporate rhetorical devices such as metaphors, allusions, and rhetorical questions to enhance the persuasive nature of the text. The paragraph should be approximately 250-300 words in length, maintaining a consistent tone and style throughout."
      ],
      "text/plain": [
       "<IPython.core.display.Markdown object>"
      ]
     },
     "metadata": {},
     "output_type": "display_data"
    },
    {
     "data": {
      "text/markdown": [
       "----------------------------------------------------------------------------------------------------"
      ],
      "text/plain": [
       "<IPython.core.display.Markdown object>"
      ]
     },
     "metadata": {},
     "output_type": "display_data"
    }
   ],
   "source": [
    "for row in backtranslate_df.sample(10).iter_rows(named=True):\n",
    "    display(Markdown(f\"**{row['title']}**\"))\n",
    "    display(Markdown(row[\"paragraph\"]))\n",
    "    display(Markdown(\"**Backtranslated Text**\"))\n",
    "    display(Markdown(row[\"instruction\"]))\n",
    "    display(Markdown(\"-\"*100))"
   ]
  }
 ],
 "metadata": {
  "kernelspec": {
   "display_name": ".venv",
   "language": "python",
   "name": "python3"
  },
  "language_info": {
   "codemirror_mode": {
    "name": "ipython",
    "version": 3
   },
   "file_extension": ".py",
   "mimetype": "text/x-python",
   "name": "python",
   "nbconvert_exporter": "python",
   "pygments_lexer": "ipython3",
   "version": "3.11.11"
  }
 },
 "nbformat": 4,
 "nbformat_minor": 2
}
