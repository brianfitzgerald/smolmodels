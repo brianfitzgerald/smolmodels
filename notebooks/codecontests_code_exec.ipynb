{
 "cells": [
  {
   "cell_type": "code",
   "execution_count": 5,
   "metadata": {},
   "outputs": [
    {
     "name": "stdout",
     "output_type": "stream",
     "text": [
      "The autoreload extension is already loaded. To reload it, use:\n",
      "  %reload_ext autoreload\n"
     ]
    }
   ],
   "source": [
    "from datasets import load_dataset\n",
    "from rich.console import Console\n",
    "%load_ext autoreload\n",
    "%autoreload 2\n",
    "import sys\n",
    "sys.path.append('..')\n",
    "from evaluation.code_execution import print_code_snippet, Language\n",
    "console = Console()"
   ]
  },
  {
   "cell_type": "code",
   "execution_count": 17,
   "metadata": {},
   "outputs": [],
   "source": [
    "cc_dataset = load_dataset(\"deepmind/code_contests\")[\"train\"]"
   ]
  },
  {
   "cell_type": "code",
   "execution_count": 30,
   "metadata": {},
   "outputs": [
    {
     "name": "stdout",
     "output_type": "stream",
     "text": [
      "name 'deque' is not defined None\n"
     ]
    },
    {
     "name": "stderr",
     "output_type": "stream",
     "text": [
      "Traceback (most recent call last):\n",
      "  File \"/home/brian/smolmodels/notebooks/../evaluation/code_execution.py\", line 268, in evaluate_python_code_exec\n",
      "    exec(code_to_run, exec_globals, local_vars)\n",
      "  File \"<string>\", line 57, in <module>\n",
      "  File \"<string>\", line 6, in solve\n",
      "NameError: name 'deque' is not defined\n"
     ]
    },
    {
     "name": "stdout",
     "output_type": "stream",
     "text": [
      "name 'deque' is not defined None\n"
     ]
    },
    {
     "name": "stderr",
     "output_type": "stream",
     "text": [
      "Traceback (most recent call last):\n",
      "  File \"/home/brian/smolmodels/notebooks/../evaluation/code_execution.py\", line 268, in evaluate_python_code_exec\n",
      "    exec(code_to_run, exec_globals, local_vars)\n",
      "  File \"<string>\", line 57, in <module>\n",
      "  File \"<string>\", line 6, in solve\n",
      "NameError: name 'deque' is not defined\n"
     ]
    },
    {
     "name": "stdout",
     "output_type": "stream",
     "text": [
      "name 'deque' is not defined None\n"
     ]
    },
    {
     "name": "stderr",
     "output_type": "stream",
     "text": [
      "Traceback (most recent call last):\n",
      "  File \"/home/brian/smolmodels/notebooks/../evaluation/code_execution.py\", line 268, in evaluate_python_code_exec\n",
      "    exec(code_to_run, exec_globals, local_vars)\n",
      "  File \"<string>\", line 57, in <module>\n",
      "  File \"<string>\", line 6, in solve\n",
      "NameError: name 'deque' is not defined\n"
     ]
    },
    {
     "name": "stdout",
     "output_type": "stream",
     "text": [
      "None None\n",
      "None None\n",
      "None None\n",
      "None None\n",
      "None None\n",
      "None None\n",
      "None None\n",
      "None None\n",
      "None None\n",
      "None None\n",
      "None None\n",
      "None None\n",
      "None None\n",
      "None None\n",
      "None None\n"
     ]
    }
   ],
   "source": [
    "from evaluation.code_execution import evaluate_python_code_exec\n",
    "\n",
    "\n",
    "console = Console()\n",
    "n_ran = 0\n",
    "for i, problem in enumerate(cc_dataset):\n",
    "    description = problem[\"description\"]\n",
    "    # display(Markdown(f\"### Problem {i}: {problem['name']}\\n{description}\"))\n",
    "    # print(i)\n",
    "\n",
    "    for j, (lang_txt, solution_code) in enumerate(\n",
    "        zip(problem[\"solutions\"][\"language\"], problem[\"solutions\"][\"solution\"])\n",
    "    ):\n",
    "        lang_enum = Language(lang_txt)\n",
    "        if lang_enum.value != Language.PYTHON3.value:\n",
    "            continue\n",
    "        # print_code_snippet(solution_code, console)\n",
    "        for test_input in problem[\"public_tests\"]['input']:\n",
    "            err, res = evaluate_python_code_exec(solution_code, test_input)\n",
    "            print(err, res)\n",
    "        n_ran += 1\n",
    "        if n_ran > 5:\n",
    "            break\n",
    "    \n",
    "    if n_ran > 5:\n",
    "        break\n"
   ]
  }
 ],
 "metadata": {
  "kernelspec": {
   "display_name": ".venv",
   "language": "python",
   "name": "python3"
  },
  "language_info": {
   "codemirror_mode": {
    "name": "ipython",
    "version": 3
   },
   "file_extension": ".py",
   "mimetype": "text/x-python",
   "name": "python",
   "nbconvert_exporter": "python",
   "pygments_lexer": "ipython3",
   "version": "3.11.9"
  }
 },
 "nbformat": 4,
 "nbformat_minor": 2
}
