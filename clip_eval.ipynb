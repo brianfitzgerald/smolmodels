{
 "cells": [
  {
   "cell_type": "code",
   "execution_count": 13,
   "metadata": {},
   "outputs": [],
   "source": [
    "import transformers\n",
    "import matplotlib.pyplot as plt\n",
    "import torch\n",
    "import clip\n",
    "from transformers.models.clip.modeling_clip import CLIPModel\n",
    "from transformers.models.clip.processing_clip import CLIPProcessor\n",
    "from PIL import Image\n",
    "\n",
    "device = \"cpu\"\n",
    "\n",
    "model = CLIPModel.from_pretrained(\"openai/clip-vit-base-patch32\")\n",
    "preprocess = CLIPProcessor.from_pretrained(\"openai/clip-vit-base-patch32\")"
   ]
  },
  {
   "cell_type": "code",
   "execution_count": 14,
   "metadata": {},
   "outputs": [],
   "source": [
    "\n",
    "def calculate_clip_distance(image_path1, image_path2):\n",
    "    # Load the images\n",
    "    image1 = preprocess(Image.open(image_path1)).unsqueeze(0).to(device)\n",
    "    image2 = preprocess(Image.open(image_path2)).unsqueeze(0).to(device)\n",
    "    \n",
    "    # Compute the image features\n",
    "    with torch.no_grad():\n",
    "        image_features1 = model.encode_image(image1)\n",
    "        image_features2 = model.encode_image(image2)\n",
    "    \n",
    "    # Normalize the features\n",
    "    image_features1 = image_features1 / image_features1.norm(dim=-1, keepdim=True)\n",
    "    image_features2 = image_features2 / image_features2.norm(dim=-1, keepdim=True)\n",
    "    \n",
    "    # Calculate the distance (cosine similarity)\n",
    "    distance = 1 - torch.nn.functional.cosine_similarity(image_features1, image_features2)\n",
    "    \n",
    "    return distance.item()"
   ]
  },
  {
   "cell_type": "code",
   "execution_count": null,
   "metadata": {},
   "outputs": [],
   "source": []
  }
 ],
 "metadata": {
  "kernelspec": {
   "display_name": "venv",
   "language": "python",
   "name": "python3"
  },
  "language_info": {
   "codemirror_mode": {
    "name": "ipython",
    "version": 3
   },
   "file_extension": ".py",
   "mimetype": "text/x-python",
   "name": "python",
   "nbconvert_exporter": "python",
   "pygments_lexer": "ipython3",
   "version": "3.9.18"
  }
 },
 "nbformat": 4,
 "nbformat_minor": 2
}
